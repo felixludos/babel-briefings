{
 "cells": [
  {
   "cell_type": "code",
   "execution_count": 6,
   "id": "initial_id",
   "metadata": {
    "collapsed": true,
    "ExecuteTime": {
     "end_time": "2023-11-29T20:23:15.590037Z",
     "start_time": "2023-11-29T20:23:15.574475800Z"
    }
   },
   "outputs": [],
   "source": [
    "from pathlib import Path\n",
    "from tqdm.notebook import tqdm\n",
    "from tabulate import tabulate\n",
    "import random, json\n",
    "import pycountry\n",
    "from iso639 import languages\n",
    "import networkx as nx\n",
    "import pickle as pkl\n",
    "from dateutil import parser\n",
    "from datetime import datetime\n",
    "import numpy as np\n",
    "import pandas as pd\n",
    "import seaborn as sns\n",
    "import matplotlib.pyplot as plt\n",
    "import matplotlib.dates as mdates\n",
    "from collections import Counter\n",
    "import Levenshtein\n",
    "from wordcloud import STOPWORDS\n",
    "from unidecode import unidecode\n",
    "import unicodedata\n",
    "from omnibelt import load_json, save_json"
   ]
  },
  {
   "cell_type": "code",
   "execution_count": 2,
   "outputs": [
    {
     "data": {
      "text/plain": "54"
     },
     "execution_count": 2,
     "metadata": {},
     "output_type": "execute_result"
    }
   ],
   "source": [
    "lang_clusters = {'en': ['au', 'ca', 'gb', 'ie', 'in', 'my', 'ng', 'nz', 'ph', 'sa', 'sg', 'us', 'za'],\n",
    "\t\t\t\t 'es': ['ar', 'co', 'cu', 'mx', 've'], 'de': ['at', 'ch', 'de'], 'fr': ['be', 'fr', 'ma'],\n",
    "\t\t\t\t 'zh': ['cn', 'hk', 'tw'], 'ar': ['ae', 'eg'], 'pt': ['br', 'pt'], 'bg': ['bg'], 'cs': ['cz'],\n",
    "\t\t\t\t 'el': ['gr'], 'he': ['il'], 'hu': ['hu'], 'id': ['id'], 'it': ['it'], 'ja': ['jp'], 'ko': ['kr'],\n",
    "\t\t\t\t 'lt': ['lt'], 'lv': ['lv'], 'nl': ['nl'], 'no': ['no'], 'pl': ['pl'], 'ro': ['ro'], 'ru': ['ru'],\n",
    "\t\t\t\t 'sv': ['se'], 'sl': ['si'], 'sk': ['sk'], 'sr': ['rs'], 'th': ['th'], 'tr': ['tr'], 'uk': ['ua']}\n",
    "loc_names = {'gb': 'United Kingdom', 'ar': 'Argentina', 'pl': 'Poland', 'sk': 'Slovakia', 'us': 'United States',\n",
    "\t\t\t 'eg': 'Egypt', 'no': 'Norway', 'ph': 'Philippines', 'at': 'Austria', 'rs': 'Serbia', 'tw': 'Taiwan',\n",
    "\t\t\t 'be': 'Belgium', 'cu': 'Cuba', 'sa': 'Saudi Arabia', 'th': 'Thailand', 'id': 'Indonesia',\n",
    "\t\t\t 'ru': 'Russian Federation', 'ch': 'Switzerland', 'fr': 'France', 'lt': 'Lithuania', 'tr': 'Turkey',\n",
    "\t\t\t 'de': 'Germany', 'cz': 'Czechia', 'pt': 'Portugal', 'ae': 'United Arab Emirates', 'it': 'Italy',\n",
    "\t\t\t 'cn': 'China', 'lv': 'Latvia', 'nl': 'Netherlands', 'hk': 'Hong Kong', 'ca': 'Canada', 'br': 'Brazil',\n",
    "\t\t\t 'hu': 'Hungary', 'kr': 'Korea', 'si': 'Slovenia', 'au': 'Australia', 'my': 'Malaysia', 'ie': 'Ireland',\n",
    "\t\t\t 'ua': 'Ukraine', 'in': 'India', 'ma': 'Morocco', 'bg': 'Bulgaria', 'ng': 'Nigeria', 'il': 'Israel',\n",
    "\t\t\t 'se': 'Sweden', 'za': 'South Africa', 've': 'Venezuela', 'nz': 'New Zealand', 'jp': 'Japan',\n",
    "\t\t\t 'sg': 'Singapore', 'gr': 'Greece', 'mx': 'Mexico', 'co': 'Colombia', 'ro': 'Romania'}\n",
    "lang_names = {'en': 'English', 'ko': 'Korean', 'ru': 'Russian', 'es': 'Spanish', 'pt': 'Portuguese', 'cs': 'Czech',\n",
    "\t\t\t  'tr': 'Turkish', 'nl': 'Dutch', 'ar': 'Arabic', 'fr': 'French', 'bg': 'Bulgarian', 'id': 'Indonesian',\n",
    "\t\t\t  'sk': 'Slovak', 'el': 'Greek', 'he': 'Hebrew', 'sr': 'Serbian', 'hu': 'Hungarian', 'th': 'Thai',\n",
    "\t\t\t  'zh': 'Chinese', 'no': 'Norwegian', 'sl': 'Slovenian', 'sv': 'Swedish', 'de': 'German', 'lv': 'Latvian',\n",
    "\t\t\t  'pl': 'Polish', 'it': 'Italian', 'ro': 'Romanian', 'lt': 'Lithuanian', 'ja': 'Japanese',\n",
    "\t\t\t  'uk': 'Ukrainian'}\n",
    "cluster_id = {loc: lang for lang, locs in lang_clusters.items() for loc in locs}\n",
    "len(cluster_id)"
   ],
   "metadata": {
    "collapsed": false,
    "ExecuteTime": {
     "end_time": "2023-11-29T20:22:19.450650600Z",
     "start_time": "2023-11-29T20:22:19.437159900Z"
    }
   },
   "id": "cce86d40ba6fc3e7"
  },
  {
   "cell_type": "code",
   "execution_count": 3,
   "outputs": [],
   "source": [
    "def show_date(date):\n",
    "\treturn date.strftime('%d %b%y')\n",
    "def get_locs(article):\n",
    "\treturn [f'{loc_names[loc]}' for loc in sorted(set(i['location'] for i in article['instances']))]\n",
    "def get_cats(article):\n",
    "\treturn [f'<{cat}>' for cat in sorted(set(i['category'] for i in article['instances']))]\n",
    "def view_article(art, detailed=False):\n",
    "\tcats = ' '.join(get_cats(art))\n",
    "\tlocs = ', '.join(map(repr, get_locs(art)))\n",
    "\tpublished = parser.parse(art['publishedAt'])\n",
    "\tcollected = [parser.parse(i['collectedAt']) for i in art['instances']]\n",
    "\tfirst = min(collected)\n",
    "\tlast = max(collected)\n",
    "\ttiming = f'{show_date(first)}' if first == last else f'{show_date(first)} - {show_date(last)}'\n",
    "\n",
    "\tlines = []\n",
    "\tif 'en-title' in art:\n",
    "\t\tlines.append(f'English Title: {art[\"en-title\"]!r}')\n",
    "\tlines.append(f'{lang_names[art[\"language\"]]} Title: {art[\"title\"]!r}')\n",
    "\tlines.append(f'Categories: {cats}  ---   {locs} ({timing})  ---  {art[\"source-name\"]}')\n",
    "\n",
    "\tif detailed:\n",
    "\t\tadded_desc = False\n",
    "\t\tdesc = art.get('description')\n",
    "\t\ten_desc = art.get('en-description')\n",
    "\t\tif en_desc is not None and len(en_desc):\n",
    "\t\t\tlines.append(f'English Description: {en_desc}')\n",
    "\t\t\tadded_desc = True\n",
    "\t\tif desc is not None and len(desc):\n",
    "\t\t\tlines.append(f'{lang_names[art[\"language\"]]} Description: {desc}')\n",
    "\t\t\tadded_desc = True\n",
    "\t\tif not added_desc:\n",
    "\t\t\tlines.append(f'- No description -')\n",
    "\tprint('\\n'.join(lines))\n",
    "def str_similarity(string1: str, string2: str):\n",
    "\tdistance = Levenshtein.distance(string1, string2)\n",
    "\tsimilarity = 1 - (distance / max(len(string1), len(string2)))\n",
    "\treturn similarity\n",
    "def capsim(s1, s2):\n",
    "\ts1, s2 = unidecode(s1), unidecode(s2)\n",
    "\treturn (str_similarity(s1.lower(), s2.lower()) + str_similarity(s1, s2)) / 2\n",
    "def inst_id(art_id, inst_idx):\n",
    "\treturn f'{str(art_id).zfill(7)}-{str(inst_idx).zfill(3)}'\n",
    "def get_inst(inst_id):\n",
    "\tart_id, inst_idx = inst_id.split('-')\n",
    "\tart = by_ID[art_id]\n",
    "\tinst = art['instances'][int(inst_idx)]\n",
    "\treturn {**inst, **art}\n",
    "def art_row(art):\n",
    "\treturn {'aid': art['ID'], 'title': art.get('en-title', art['title']), 'source': art['source-name'],\n",
    "\t\t\t'language': art['language']}\n",
    "def get_title(art):\n",
    "\treturn art.get('en-title', art['title'])\n",
    "def article_title_bag(art):\n",
    "\ttitle = art.get('en-title', art['title'])\n",
    "\ttitle_doc = nlp(title)\n",
    "\tkey_terms = Counter([token.lemma_.lower() for chunk in title_doc.noun_chunks for token in chunk])\n",
    "\treturn key_terms\n",
    "stop_words = set(STOPWORDS)\n",
    "def is_good_word(w):\n",
    "\treturn not all(unicodedata.category(char).startswith('P') or unicodedata.category(char).startswith('N') for char in w) and w not in stop_words"
   ],
   "metadata": {
    "collapsed": false,
    "ExecuteTime": {
     "end_time": "2023-11-29T20:22:20.885246200Z",
     "start_time": "2023-11-29T20:22:20.854620100Z"
    }
   },
   "id": "8d34179d435d8c98"
  },
  {
   "cell_type": "code",
   "execution_count": 4,
   "outputs": [
    {
     "data": {
      "text/plain": "54"
     },
     "execution_count": 4,
     "metadata": {},
     "output_type": "execute_result"
    }
   ],
   "source": [
    "root = Path('/home/fleeb/workspace/local_data/nnn')\n",
    "root = Path(r'C:\\Users\\anwan\\Documents\\workspace\\nnn')\n",
    "recs = (root / 'old-bb-v1').glob('**/*.json')\n",
    "recs = (root / 'babel-briefings-v1').glob('**/*.json')\n",
    "temproot = root/'temp'\n",
    "temproot.mkdir(exist_ok=True)\n",
    "recs = list(recs)\n",
    "len(recs)"
   ],
   "metadata": {
    "collapsed": false,
    "ExecuteTime": {
     "end_time": "2023-11-29T20:22:22.660132Z",
     "start_time": "2023-11-29T20:22:22.629466800Z"
    }
   },
   "id": "e0e7fbb0f949472d"
  },
  {
   "cell_type": "code",
   "execution_count": 12,
   "outputs": [
    {
     "data": {
      "text/plain": "  0%|          | 0/54 [00:00<?, ?it/s]",
      "application/vnd.jupyter.widget-view+json": {
       "version_major": 2,
       "version_minor": 0,
       "model_id": "d38ff4da9bae45abbd5edb020789bb6d"
      }
     },
     "metadata": {},
     "output_type": "display_data"
    },
    {
     "data": {
      "text/plain": "4719199"
     },
     "execution_count": 12,
     "metadata": {},
     "output_type": "execute_result"
    }
   ],
   "source": [
    "articles = []\n",
    "for rec in tqdm(recs):\n",
    "\tarticles.extend(load_json(rec))\n",
    "len(articles)"
   ],
   "metadata": {
    "collapsed": false,
    "ExecuteTime": {
     "end_time": "2023-11-29T20:14:30.276071700Z",
     "start_time": "2023-11-29T20:13:15.407495100Z"
    }
   },
   "id": "d02f11300952154b"
  },
  {
   "cell_type": "code",
   "execution_count": 13,
   "outputs": [
    {
     "data": {
      "text/plain": "  0%|          | 0/4719199 [00:00<?, ?it/s]",
      "application/vnd.jupyter.widget-view+json": {
       "version_major": 2,
       "version_minor": 0,
       "model_id": "d530baffd0dc4b2091ea0603b3e19aa6"
      }
     },
     "metadata": {},
     "output_type": "display_data"
    },
    {
     "data": {
      "text/plain": "(54, 30)"
     },
     "execution_count": 13,
     "metadata": {},
     "output_type": "execute_result"
    }
   ],
   "source": [
    "by_loc = {}\n",
    "by_lang = {}\n",
    "by_source = {}\n",
    "by_ID = {}\n",
    "for article in tqdm(articles):\n",
    "\tby_ID[article['ID']] = article\n",
    "\t# article['published'] = parser.parse(article['publishedAt'])\n",
    "\tby_source.setdefault(article['source-name'], []).append(article)\n",
    "\tby_lang.setdefault(article['language'], []).append(article)\n",
    "\tfor instance in article['instances']:\n",
    "\t\t# instance['collected'] = parser.parse(instance['collectedAt'])\n",
    "\t\tby_loc.setdefault(instance['location'], []).append(article)\n",
    "len(by_loc), len(by_lang)"
   ],
   "metadata": {
    "collapsed": false,
    "ExecuteTime": {
     "end_time": "2023-11-29T20:14:36.085269Z",
     "start_time": "2023-11-29T20:14:30.277068700Z"
    }
   },
   "id": "dc4312881bc75d8f"
  },
  {
   "cell_type": "code",
   "execution_count": 16,
   "outputs": [
    {
     "data": {
      "text/plain": "259718"
     },
     "execution_count": 16,
     "metadata": {},
     "output_type": "execute_result"
    }
   ],
   "source": [
    "batch = by_lang['de']\n",
    "len(batch)"
   ],
   "metadata": {
    "collapsed": false,
    "ExecuteTime": {
     "end_time": "2023-11-29T20:15:20.715203400Z",
     "start_time": "2023-11-29T20:15:20.675673800Z"
    }
   },
   "id": "f7f29fc60ef7951e"
  },
  {
   "cell_type": "code",
   "execution_count": 17,
   "outputs": [
    {
     "name": "stdout",
     "output_type": "stream",
     "text": [
      "English Title: 'Substitution Luca Mack - VfB Stuttgart'\n",
      "German Title: 'Wechsel Luca Mack - VfB Stuttgart'\n",
      "Categories: <sports>  ---   'Germany' (08 Aug21)  ---  Www.vfb.de\n",
      "English Description: After nine years in the VfB jersey, Luca Mack is moving to the Hungarian first division club Ujpest Budapest.\n",
      "German Description: Nach neun Jahren im VfB-Trikot wechselt Luca Mack zum ungarischen Erstligisten Ujpest Budapest.\n",
      "Www.vfb.de\n"
     ]
    }
   ],
   "source": [
    "art = random.choice(batch)\n",
    "view_article(art, detailed=True)\n",
    "print(art['source-name'])"
   ],
   "metadata": {
    "collapsed": false,
    "ExecuteTime": {
     "end_time": "2023-11-29T20:15:23.113165400Z",
     "start_time": "2023-11-29T20:15:23.106131200Z"
    }
   },
   "id": "7bc6cb3a95ad584e"
  },
  {
   "cell_type": "code",
   "execution_count": 9,
   "outputs": [
    {
     "data": {
      "text/plain": "4719199"
     },
     "execution_count": 9,
     "metadata": {},
     "output_type": "execute_result"
    }
   ],
   "source": [
    "# lowercase_all = True\n",
    "# full_bagowords_inds = {int(ID): {k.lower() if lowercase_all else k:v for k,v in bag.items()} \n",
    "# \t\t\t\t\t   for ID, bag in tqdm(load_json(root/'bagowords-ordered-full.json').items())}\n",
    "# \n",
    "# pre_dash = Counter()\n",
    "# for ID, bagi in tqdm(full_bagowords_inds.items()):\n",
    "# \tif '-' in bagi:\n",
    "# \t\tpre_dash.update({w: len(inds) for w, inds in bagi.items() if all(i < bagi[\"-\"][-1] for i in inds)})\n",
    "# \n",
    "# post_dash = Counter()\n",
    "# for ID, bagi in tqdm(full_bagowords_inds.items()):\n",
    "# \tif '-' in bagi:\n",
    "# \t\tpost_dash.update({w: len(inds) for w, inds in bagi.items() if w not in pre_dash})\n",
    "# all_bags_inds = {ID: {w: [i for i in inds if bag.get('-', [float('inf')])[-1] > i]\n",
    "# \t\t\t\t\t  for w, inds in bag.items() if w not in post_dash and is_good_word(w)}\n",
    "# \t\t\t\t for ID, bag in tqdm(full_bagowords_inds.items())}\n",
    "# all_bags = {ID: Counter({w: len(inds) for w, inds in bag.items() if len(inds)}) for ID, bag in all_bags_inds.items()}\n",
    "# len(all_bags)\n",
    "# save_json(all_bags, temproot/'all_bags.json')\n",
    "# save_json(all_bags_inds, temproot/'all_bags_inds.json')\n",
    "# all_bags_inds = pkl.load(open(root/'temp'/'all_bags_inds.pkl', 'rb'))\n",
    "# all_bags = {ID: Counter({w: len(inds) for w, inds in bag.items() if len(inds) and is_good_word(w)}) for ID, bag in all_bags_inds.items()}\n",
    "# world = articles\n",
    "# df = pd.DataFrame(\n",
    "# \t[{**row, **inst, 'iid': inst_id(row['aid'], i)} for row in tqdm([art_row(art) for art in world]) for i, inst in\n",
    "# \t enumerate(by_ID[row['aid']]['instances'])])\n",
    "# df['collectedAt'] = pd.to_datetime(df['collectedAt'])\n",
    "# df = df.sort_values('collectedAt')\n",
    "# df['date'] = df['collectedAt'].dt.date\n",
    "# len(df)\n",
    "# \n",
    "# daybags = {}\n",
    "# date_aids = dict(df.groupby('date')['aid'].apply(set))\n",
    "# for date, aIDs in tqdm(sorted(date_aids.items())):\n",
    "# \ttotal = Counter()\n",
    "# \tfor aID in aIDs:\n",
    "# \t\ttotal.update(all_bags[aID])\n",
    "# \tdaybags[date] = total\n",
    "# len(daybags)\n",
    "# dayidf = Counter()\n",
    "# for date, bag in tqdm(daybags.items()):\n",
    "# \tdayidf.update(bag.keys())\n",
    "# dayidf = {w: np.log(len(daybags) / f) for w, f in dayidf.items()}\n",
    "# daytotals = {d: sum(bag.values()) for d, bag in daybags.items()}\n",
    "# daytfidf = {day: Counter({w: f / daytotals[day] * dayidf[w] for w, f in bag.items()}) for day, bag in\n",
    "# \t\t\ttqdm(daybags.items())}\n",
    "# len(daytfidf)"
   ],
   "metadata": {
    "collapsed": false,
    "ExecuteTime": {
     "end_time": "2023-11-29T20:25:15.793946800Z",
     "start_time": "2023-11-29T20:24:54.223924900Z"
    }
   },
   "id": "b0e87f7743250f22"
  },
  {
   "cell_type": "code",
   "execution_count": 43,
   "outputs": [],
   "source": [
    "\n"
   ],
   "metadata": {
    "collapsed": false,
    "ExecuteTime": {
     "end_time": "2023-11-29T21:05:58.831675500Z",
     "start_time": "2023-11-29T21:05:37.638567600Z"
    }
   },
   "id": "53084f8055f51d75"
  },
  {
   "cell_type": "code",
   "execution_count": 5,
   "outputs": [],
   "source": [
    "use_bags_as_sets = True\n",
    "all_bags = load_json(temproot/'all_bags.json')\n",
    "# all_bags_inds = load_json(temproot/'all_bags_inds.json')\n",
    "all_bags = {int(ID): set(bag) if use_bags_as_sets else bag for ID, bag in all_bags.items()}\n",
    "# pkl.dump(date_aids, open(temproot/'date_aids.pkl', 'wb'))\n",
    "date_aids = pkl.load(open(temproot/'date_aids.pkl', 'rb'))\n",
    "daytfidf = pkl.load(open(temproot/'daytfidf.pkl', 'rb'))\n",
    "daybags = {}\n",
    "for date, aIDs in tqdm(sorted(date_aids.items())):\n",
    "\ttotal = Counter()\n",
    "\tfor aID in aIDs:\n",
    "\t\ttotal.update(all_bags[aID])\n",
    "\tdaybags[date] = total\n",
    "len(daybags), len(all_bags)#, len(all_bags_inds)"
   ],
   "metadata": {
    "collapsed": false,
    "ExecuteTime": {
     "end_time": "2023-11-29T20:22:38.334242400Z",
     "start_time": "2023-11-29T20:22:31.959546700Z"
    }
   },
   "id": "1531067339f24d0"
  },
  {
   "cell_type": "code",
   "execution_count": 281,
   "outputs": [],
   "source": [
    "def cluster_min_agreement(bag, aids, match_req=.5):\n",
    "\ttotal = sum(bag.values())\n",
    "\tmatches, remaining = [], []\n",
    "\tfor aid in aids:\n",
    "\t\t(matches if sum(bag.get(w,0) for w in all_bags[aid]) / total >= match_req else remaining).append(aid)\n",
    "\t\t# (matches if len(bag & all_bags[aid]) >= max(1, min(len(bag), len(all_bags[aid]), match_req)) else remaining).append(aid)\n",
    "\treturn matches, remaining\n",
    "\n",
    "def date_freq(today, topk=5, before=20, after=20, match_req=.5):\n",
    "\tmindate = today - pd.Timedelta(days=before)\n",
    "\tmaxdate = today + pd.Timedelta(days=after)\n",
    "\tdaterange = [d for d in daytfidf if mindate <= d <= maxdate]\n",
    "\tdeltas = [(d - today).days for d in daterange]\n",
    "\timportances = daytfidf[today]\n",
    "\tscores = Counter({aid: sum(importances.get(w, 0) for w in all_bags[aid]) for aid in date_aids[today]})\n",
    "\t\n",
    "\tkeydocs = {}\n",
    "\t\n",
    "\ttodo = list(date_aids[today])\n",
    "\tfor k in tqdm(range(topk)):\n",
    "\t\tcenter = max(todo, key=lambda aid: scores[aid])\n",
    "\t\t# print(center, ', '.join(f'{w!r}' for w in sorted(all_bags[center], key=lambda w: importances.get(w,0), reverse=True)[:8]))\n",
    "\t\tcluster = {w: importances[w] for w in all_bags[center]}\n",
    "\t\ttodo.remove(center)\n",
    "\t\tmatches = {}\n",
    "\t\tfor i in range(len(deltas)):\n",
    "\t\t\tdelta = deltas[i]\n",
    "\t\t\tmatches[delta], other = cluster_min_agreement(cluster, todo if delta == 0 else date_aids[daterange[i]], match_req=match_req)\n",
    "\t\t\tif delta == 0:\n",
    "\t\t\t\ttodo = other\n",
    "\t\t\t\tmatches[delta].append(center)\n",
    "\t\tkeydocs[center] = matches\n",
    "\treturn keydocs"
   ],
   "metadata": {
    "collapsed": false,
    "ExecuteTime": {
     "end_time": "2023-11-29T23:21:22.809854500Z",
     "start_time": "2023-11-29T23:21:22.781258900Z"
    }
   },
   "id": "5dfed19c55e297e3"
  },
  {
   "cell_type": "code",
   "execution_count": null,
   "outputs": [],
   "source": [],
   "metadata": {
    "collapsed": false
   },
   "id": "e777cf2ac05abbe5"
  },
  {
   "cell_type": "code",
   "execution_count": null,
   "outputs": [],
   "source": [],
   "metadata": {
    "collapsed": false
   },
   "id": "43ce9ccbc10d96df"
  },
  {
   "cell_type": "code",
   "execution_count": 295,
   "outputs": [
    {
     "data": {
      "text/plain": "(True, True)"
     },
     "execution_count": 295,
     "metadata": {},
     "output_type": "execute_result"
    }
   ],
   "source": [
    "start, end = datetime(2020, 10, 3).date(), datetime(2021, 10, 3).date()\n",
    "lowlimit, highlimit = min(daytfidf), max(daytfidf)\n",
    "start in daytfidf, end in daytfidf"
   ],
   "metadata": {
    "collapsed": false,
    "ExecuteTime": {
     "end_time": "2023-11-29T23:39:05.519202Z",
     "start_time": "2023-11-29T23:39:05.476039100Z"
    }
   },
   "id": "d325ac8193bacfc2"
  },
  {
   "cell_type": "code",
   "execution_count": 346,
   "outputs": [
    {
     "name": "stdout",
     "output_type": "stream",
     "text": [
      "27 Sep 2021\n"
     ]
    }
   ],
   "source": [
    "target = random.choice(list(daytfidf.keys()))\n",
    "target = random.choice([d for d in daytfidf if start <= d <= end])\n",
    "# target = datetime(2021, 2, 1).date()\n",
    "# target = datetime(2021, 1, 8).date()\n",
    "importances = daytfidf[target]\n",
    "counts = daybags[target]\n",
    "def compute_article_score(aid):\n",
    "\treturn sum(importances.get(w, 0) for w in all_bags[aid])\n",
    "scores = Counter({aid: compute_article_score(aid) for aid in date_aids[target]})\n",
    "print(target.strftime('%d %b %Y'))\n",
    "offset = (target - start).days\n",
    "offset = 0\n",
    "# offset"
   ],
   "metadata": {
    "collapsed": false,
    "ExecuteTime": {
     "end_time": "2023-11-29T23:52:04.450437600Z",
     "start_time": "2023-11-29T23:52:04.386056500Z"
    }
   },
   "id": "d56738d2ad6840ae"
  },
  {
   "cell_type": "code",
   "execution_count": 347,
   "outputs": [],
   "source": [
    "top = {}\n",
    "todo = list(scores.keys())\n",
    "intial_num = len(todo)\n",
    "# day_delta = 40\n",
    "day_before = 30\n",
    "day_after = 30\n",
    "\n",
    "topk = 10\n",
    "match_threshold = 0.25"
   ],
   "metadata": {
    "collapsed": false,
    "ExecuteTime": {
     "end_time": "2023-11-29T23:52:06.129870700Z",
     "start_time": "2023-11-29T23:52:06.079682200Z"
    }
   },
   "id": "c9bfac61f904fdac"
  },
  {
   "cell_type": "code",
   "execution_count": 348,
   "outputs": [
    {
     "name": "stdout",
     "output_type": "stream",
     "text": [
      "-------  --  -----------------------------------------------------------------------------------------------\n",
      "6622611  11  'tudum', 'sandman', 'bebop', 'things', 'cowboy', 'stranger', 'rewatch', 'peek' + 2 more\n",
      "6627984  26  'laver', 'rublev', 'zverev', 'devastating', 'victory', 'europe', 'complete', 'cup'\n",
      "6634194  23  'civi', '32mp', 'amoled', '120hz', 'xiaomi', 'camera', 'snapdragon', 'g' + 3 more\n",
      "6634982  17  'goxx', 'hamster', 'tradet', 'besser', 'buffet', 'krypto', 'warren', 'mr.' + 1 more\n",
      "6631007  42  'ryder', 'felton', 'mend', 'potter', 'tom', 'harry', 'collapse', 'cup' + 2 more\n",
      "6625294  21  'lancaster', 'quo', 'bassist', 'alan', 'founding', 'member', 'status', 'die'\n",
      "6630563  12  'dunham', 'felber', 'lena', 'marries', 'luis', 'ceremony', 'boyfriend', 'secret'\n",
      "6595490  26  'palma', 'vieja', 'cumbre', 'volcano', 'eruption', 'anguish', 'endless', 'science' + 6 more\n",
      "6624647   9  'petito', 'laundrie', 'gabby', 'bounty', 'appa', 'brian', 'vow', 'boyfriend' + 7 more\n",
      "6623127  63  'evergrande', 'hna', 'september', 'galois', 'restructure', 'mode', 'bond', 'incident' + 11 more\n",
      "-------  --  -----------------------------------------------------------------------------------------------\n",
      "260 / 14109   ---   1.84% for 10 clusters\n"
     ]
    }
   ],
   "source": [
    "for _ in range(10):\n",
    "\tcenter = max(todo, key=lambda aid: scores[aid])\n",
    "\tcluster = {w: importances[w] for w in all_bags[center]}\n",
    "\ttodo.remove(center)\n",
    "\tmatches, todo = cluster_min_agreement(cluster, todo, match_req=match_threshold)\n",
    "\ttop[center] = matches\n",
    "# len(matches), len(todo)\n",
    "print(tabulate([(\n",
    "\taid, \n",
    "\t# scores[aid], \n",
    "\tlen(matches), \n",
    "\t', '.join(f'{w!r}' for w in sorted(all_bags[aid], key=lambda w: importances.get(w,0), reverse=True)[:8]) + (f' + {len(all_bags[aid])-8} more' if len(all_bags[aid]) > 8 else ''), \n",
    "\t# len(all_bags[aid])\n",
    ") for aid, matches in sorted(top.items(), key=lambda item: scores[item[0]], reverse=True)]))\n",
    "print(f'{intial_num-len(todo)} / {intial_num}   ---   {(intial_num-len(todo))/intial_num:.2%} for {len(top)} clusters')"
   ],
   "metadata": {
    "collapsed": false,
    "ExecuteTime": {
     "end_time": "2023-11-29T23:52:06.971258500Z",
     "start_time": "2023-11-29T23:52:06.707230800Z"
    }
   },
   "id": "21b19ae0a3a6f38c"
  },
  {
   "cell_type": "code",
   "execution_count": 349,
   "outputs": [
    {
     "name": "stdout",
     "output_type": "stream",
     "text": [
      "--  -------  ---------------------------------------------------------------------------------------------\n",
      " 0  6622424  'tudum', 'stranger', 'teaser', 'season', 'netflix', 'event', 'drop', 'thing' + 1 more\n",
      " 1  6622619  'tudum', 'rebelde', 'cobra', 'kai', 'netflix', 'surprise', 'crown'\n",
      " 2  6623002  'tudum', 'fans', 'netflix', 'event', 'leave', 'global', 'announcement'\n",
      " 3  6625681  'tudum', 'stranger', 'bridgertons', 'chronicle', 'netflix', 'event', 'crown', 'sex' + 4 more\n",
      " 4  6628703  'tudum', 'sandman', 'things', 'stranger', 'cbr', 'trailer', 'netflix', \"'s\" + 1 more\n",
      " 5  6629742  'tudum', 'things', 'stranger', 'trailer', 'netflix', 'new', 'present'\n",
      " 6  6629834  'tudum', 'netflix', 'screen', \"'s\", 'tv', 'show', 'big', '|' + 1 more\n",
      " 7  6630827  'tudum', 'trailer', 'activity', 'netflix', 'movie', 'surprise', 'full', 'collection' + 4 more\n",
      " 8  6630863  'tudum', 'trailer', 'activity', 'netflix', 'movie', 'surprise', 'full', 'collection' + 4 more\n",
      " 9  6634166  'tudum', 'witcher', 'bridgerton', 'stranger', 'sex', 'remember', 'education', 'thing'\n",
      "10  6618457  'tudum', 'trailers', 'netflix', 'ign', 'event', 'stories', 'global', 'big' + 1 more\n",
      "--  -------  ---------------------------------------------------------------------------------------------\n"
     ]
    }
   ],
   "source": [
    "grand, matches = max(top.items(), key=lambda item: scores[item[0]])\n",
    "print(tabulate([[i, aid, ', '.join(f'{w!r}' for w in sorted(all_bags[aid], key=lambda w: importances.get(w,0), reverse=True)[:8]) + (f' + {len(all_bags[aid])-8} more' if len(all_bags[aid]) > 8 else '')]\n",
    "\t\t\t\tfor i, aid in enumerate(matches)]))"
   ],
   "metadata": {
    "collapsed": false,
    "ExecuteTime": {
     "end_time": "2023-11-29T23:52:06.977320100Z",
     "start_time": "2023-11-29T23:52:06.971258500Z"
    }
   },
   "id": "ee105e396ca886a8"
  },
  {
   "cell_type": "code",
   "execution_count": 350,
   "outputs": [
    {
     "data": {
      "text/plain": "  0%|          | 0/10 [00:00<?, ?it/s]",
      "application/vnd.jupyter.widget-view+json": {
       "version_major": 2,
       "version_minor": 0,
       "model_id": "b7f0cc19445240b3bc186862b4453992"
      }
     },
     "metadata": {},
     "output_type": "display_data"
    },
    {
     "name": "stdout",
     "output_type": "stream",
     "text": [
      "--  -------  ---  --  ---  -------------------------------------------------------------------------------------\n",
      "10  6622611   23  12    5  'tudum', 'sandman', 'bebop', 'things', 'cowboy', 'stranger', 'rewatch', 'peek'\n",
      " 8  6627984   62  27   23  'laver', 'rublev', 'zverev', 'devastating', 'victory', 'europe', 'complete', 'cup'\n",
      "11  6634194   75  24   98  'civi', '32mp', 'amoled', '120hz', 'xiaomi', 'camera', 'snapdragon', 'g'\n",
      " 9  6634982   13  18   84  'goxx', 'hamster', 'tradet', 'besser', 'buffet', 'krypto', 'warren', 'mr.'\n",
      "10  6631007  238  43   60  'ryder', 'felton', 'mend', 'potter', 'tom', 'harry', 'collapse', 'cup'\n",
      " 8  6625294   25  22   54  'lancaster', 'quo', 'bassist', 'alan', 'founding', 'member', 'status', 'die'\n",
      " 8  6630563    1  13   24  'dunham', 'felber', 'lena', 'marries', 'luis', 'ceremony', 'boyfriend', 'secret'\n",
      "14  6595490  134  27  302  'palma', 'vieja', 'cumbre', 'volcano', 'eruption', 'anguish', 'endless', 'science'\n",
      "15  6624647  105  10   62  'petito', 'laundrie', 'gabby', 'bounty', 'appa', 'brian', 'vow', 'boyfriend'\n",
      "19  6623127  971  64  630  'evergrande', 'hna', 'september', 'galois', 'restructure', 'mode', 'bond', 'incident'\n",
      "--  -------  ---  --  ---  -------------------------------------------------------------------------------------\n"
     ]
    },
    {
     "data": {
      "text/plain": "10"
     },
     "execution_count": 350,
     "metadata": {},
     "output_type": "execute_result"
    }
   ],
   "source": [
    "keydocs = date_freq(target, topk=topk, before=day_before, after=day_after, match_req=match_threshold)\n",
    "print(tabulate([(\n",
    "\tlen(all_bags[aid]), \n",
    "\taid,\n",
    "\t\t\t\t sum(len(m) for d, m in matches.items() if d < 0), \n",
    "\t\t\t\t sum(len(m) for d, m in matches.items() if d == 0), \n",
    "\t\t\t\t sum(len(m) for d, m in matches.items() if d > 0), \n",
    "\t\t\t\t ', '.join(f'{w!r}' for w in sorted(all_bags[aid], key=lambda w: importances.get(w,0), reverse=True)[:8])\n",
    "\t\t\t\t ) for aid, matches in keydocs.items()]))\n",
    "len(keydocs)"
   ],
   "metadata": {
    "collapsed": false,
    "ExecuteTime": {
     "end_time": "2023-11-29T23:52:20.515883800Z",
     "start_time": "2023-11-29T23:52:06.978321300Z"
    }
   },
   "id": "5b070f5d7be1f3ef"
  },
  {
   "cell_type": "code",
   "execution_count": 351,
   "outputs": [],
   "source": [
    "import numpy as np\n",
    "from scipy.interpolate import interp1d"
   ],
   "metadata": {
    "collapsed": false,
    "ExecuteTime": {
     "end_time": "2023-11-29T23:52:20.545990500Z",
     "start_time": "2023-11-29T23:52:20.515362Z"
    }
   },
   "id": "a3e62bb81c0fff49"
  },
  {
   "cell_type": "code",
   "execution_count": 352,
   "outputs": [
    {
     "name": "stdout",
     "output_type": "stream",
     "text": [
      "-  -------  --  --  --  ----------------------------------------------------------------------------------\n",
      "8  6627984  62  27  23  'laver', 'rublev', 'zverev', 'devastating', 'victory', 'europe', 'complete', 'cup'\n",
      "8  6625294  25  22  54  'lancaster', 'quo', 'bassist', 'alan', 'founding', 'member', 'status', 'die'\n",
      "8  6630563   1  13  24  'dunham', 'felber', 'lena', 'marries', 'luis', 'ceremony', 'boyfriend', 'secret'\n",
      "-  -------  --  --  --  ----------------------------------------------------------------------------------\n"
     ]
    }
   ],
   "source": [
    "best = {center: matches for center, matches in keydocs.items() if len(matches[0]) == max(map(len,matches.values()))}\n",
    "print(tabulate([(\n",
    "\tlen(all_bags[aid]), \n",
    "\taid,\n",
    "\t\t\t\t sum(len(m) for d, m in matches.items() if d < 0), \n",
    "\t\t\t\t sum(len(m) for d, m in matches.items() if d == 0), \n",
    "\t\t\t\t sum(len(m) for d, m in matches.items() if d > 0), \n",
    "\t\t\t\t ', '.join(f'{w!r}' for w in sorted(all_bags[aid], key=lambda w: importances.get(w,0), reverse=True)[:8])\n",
    "\t\t\t\t ) for aid, matches in best.items()]))"
   ],
   "metadata": {
    "collapsed": false,
    "ExecuteTime": {
     "end_time": "2023-11-29T23:52:20.549996200Z",
     "start_time": "2023-11-29T23:52:20.520894900Z"
    }
   },
   "id": "b03f5f0b04cba594"
  },
  {
   "cell_type": "code",
   "execution_count": 353,
   "outputs": [
    {
     "data": {
      "text/plain": "((61,), (61, 3))"
     },
     "execution_count": 353,
     "metadata": {},
     "output_type": "execute_result"
    }
   ],
   "source": [
    "X = np.arange(-day_before, day_after+1)\n",
    "Ys = []\n",
    "for center, matches in sorted(best.items(), key=lambda item: sum(map(len,item[1].values())), reverse=False):\n",
    "\tx, y = zip(*[(d+offset, len(m)) for d, m in matches.items()])\n",
    "\tinterp_func = interp1d(x, y, kind='quadratic', fill_value=\"extrapolate\")\n",
    "\tYs.append(np.clip(interp_func(X),0,None))\n",
    "Ys = np.array(Ys).T\n",
    "X += offset\n",
    "X.shape, Ys.shape"
   ],
   "metadata": {
    "collapsed": false,
    "ExecuteTime": {
     "end_time": "2023-11-29T23:52:20.549996200Z",
     "start_time": "2023-11-29T23:52:20.528433600Z"
    }
   },
   "id": "293ae58e0471c536"
  },
  {
   "cell_type": "code",
   "execution_count": 354,
   "outputs": [
    {
     "data": {
      "text/plain": "<Figure size 1200x800 with 1 Axes>",
      "image/png": "[encoded data removed]"
     },
     "metadata": {},
     "output_type": "display_data"
    }
   ],
   "source": [
    "plt.figure(figsize=(12,8))\n",
    "\n",
    "cYs = Ys.cumsum(-1)\n",
    "\n",
    "Y = cYs\n",
    "# Y = Ys\n",
    "\n",
    "plt.plot(X, Y);\n",
    "\n",
    "lb = 0\n",
    "for i in range(Y.shape[1]):\n",
    "\tplt.fill_between(X, lb, Y[:, i], alpha=.3)\n",
    "\tlb = Y[:, i]\n",
    "\n",
    "# plt.ylim(0, 400);\n",
    "# plt.xlim(0, 300);\n",
    "# plt.plot(X, Ys, label=f'{center}');\n",
    "plt.tight_layout();"
   ],
   "metadata": {
    "collapsed": false,
    "ExecuteTime": {
     "end_time": "2023-11-29T23:52:20.841946500Z",
     "start_time": "2023-11-29T23:52:20.548996900Z"
    }
   },
   "id": "c755f592a5bb1c41"
  },
  {
   "cell_type": "code",
   "execution_count": null,
   "outputs": [],
   "source": [],
   "metadata": {
    "collapsed": false
   },
   "id": "1f925f49c3bb464d"
  },
  {
   "cell_type": "code",
   "execution_count": 60,
   "outputs": [],
   "source": [
    "todo = list(scores.keys())"
   ],
   "metadata": {
    "collapsed": false,
    "ExecuteTime": {
     "end_time": "2023-11-29T21:33:47.331848800Z",
     "start_time": "2023-11-29T21:33:47.302289400Z"
    }
   },
   "id": "b86e756074ed0704"
  },
  {
   "cell_type": "code",
   "execution_count": 61,
   "outputs": [
    {
     "name": "stdout",
     "output_type": "stream",
     "text": [
      "5874414 'kipchoge', 'eliud', 'medal', 'olympics', 'marathon', 'win', 'tokyo', 'gold'\n"
     ]
    }
   ],
   "source": [
    "center = max(todo, key=lambda aid: scores[aid])\n",
    "cluster = set(all_bags[center])\n",
    "todo.remove(center)\n",
    "print(center, ', '.join(f'{w!r}' for w in sorted(all_bags[center], key=lambda w: importances.get(w,0), reverse=True)[:8]))\n",
    "matches, todo = cluster_min_agreement(all_bags[center], todo)\n",
    "len(matches), len(todo)"
   ],
   "metadata": {
    "collapsed": false,
    "ExecuteTime": {
     "end_time": "2023-11-29T21:33:49.721218900Z",
     "start_time": "2023-11-29T21:33:49.690247Z"
    }
   },
   "id": "bd2520a1c61f056"
  },
  {
   "cell_type": "code",
   "execution_count": 52,
   "outputs": [
    {
     "data": {
      "text/plain": "{'eliud', 'gold', 'kipchoge', 'marathon', 'medal', 'olympics', 'tokyo', 'win'}"
     },
     "execution_count": 52,
     "metadata": {},
     "output_type": "execute_result"
    }
   ],
   "source": [
    "cluster"
   ],
   "metadata": {
    "collapsed": false,
    "ExecuteTime": {
     "end_time": "2023-11-29T21:08:33.170279600Z",
     "start_time": "2023-11-29T21:08:33.148671900Z"
    }
   },
   "id": "f8383fd5ad51c7fa"
  },
  {
   "cell_type": "code",
   "execution_count": 53,
   "outputs": [
    {
     "data": {
      "text/plain": "14827"
     },
     "execution_count": 53,
     "metadata": {},
     "output_type": "execute_result"
    }
   ],
   "source": [
    "len(todo)"
   ],
   "metadata": {
    "collapsed": false,
    "ExecuteTime": {
     "end_time": "2023-11-29T21:08:33.820472700Z",
     "start_time": "2023-11-29T21:08:33.798955Z"
    }
   },
   "id": "de8defbf33d7172c"
  },
  {
   "cell_type": "code",
   "execution_count": 156,
   "outputs": [
    {
     "data": {
      "text/plain": "(True, True)"
     },
     "execution_count": 156,
     "metadata": {},
     "output_type": "execute_result"
    }
   ],
   "source": [],
   "metadata": {
    "collapsed": false,
    "ExecuteTime": {
     "end_time": "2023-11-29T22:35:58.519077800Z",
     "start_time": "2023-11-29T22:35:58.502019Z"
    }
   },
   "id": "99b86819b2e47436"
  },
  {
   "cell_type": "code",
   "execution_count": null,
   "outputs": [],
   "source": [],
   "metadata": {
    "collapsed": false
   },
   "id": "aba9b931d8aaf83d"
  },
  {
   "cell_type": "code",
   "execution_count": null,
   "outputs": [],
   "source": [],
   "metadata": {
    "collapsed": false
   },
   "id": "f5e181cf0042bea4"
  },
  {
   "cell_type": "code",
   "execution_count": null,
   "outputs": [],
   "source": [],
   "metadata": {
    "collapsed": false
   },
   "id": "9b077ca5bc4f1fe1"
  },
  {
   "cell_type": "code",
   "execution_count": null,
   "outputs": [],
   "source": [],
   "metadata": {
    "collapsed": false
   },
   "id": "fe210a1f42a6a335"
  }
 ],
 "metadata": {
  "kernelspec": {
   "display_name": "Python 3",
   "language": "python",
   "name": "python3"
  },
  "language_info": {
   "codemirror_mode": {
    "name": "ipython",
    "version": 2
   },
   "file_extension": ".py",
   "mimetype": "text/x-python",
   "name": "python",
   "nbconvert_exporter": "python",
   "pygments_lexer": "ipython2",
   "version": "2.7.6"
  }
 },
 "nbformat": 4,
 "nbformat_minor": 5
}
