{
 "cells": [
  {
   "cell_type": "code",
   "execution_count": 1,
   "id": "initial_id",
   "metadata": {
    "collapsed": true,
    "ExecuteTime": {
     "end_time": "2023-11-30T08:42:50.370631860Z",
     "start_time": "2023-11-30T08:42:50.252788719Z"
    }
   },
   "outputs": [],
   "source": [
    "from pathlib import Path\n",
    "from tqdm.notebook import tqdm\n",
    "from tabulate import tabulate\n",
    "import random, json\n",
    "import pycountry\n",
    "from iso639 import languages\n",
    "import networkx as nx\n",
    "import pickle as pkl\n",
    "from dateutil import parser\n",
    "from datetime import datetime\n",
    "import numpy as np\n",
    "from scipy.interpolate import interp1d\n",
    "import pandas as pd\n",
    "import seaborn as sns\n",
    "import matplotlib.pyplot as plt\n",
    "import matplotlib.dates as mdates\n",
    "from collections import Counter\n",
    "import Levenshtein\n",
    "from wordcloud import STOPWORDS\n",
    "from unidecode import unidecode\n",
    "import unicodedata\n",
    "from omnibelt import load_json, save_json"
   ]
  },
  {
   "cell_type": "code",
   "execution_count": 2,
   "outputs": [
    {
     "data": {
      "text/plain": "54"
     },
     "execution_count": 2,
     "metadata": {},
     "output_type": "execute_result"
    }
   ],
   "source": [
    "lang_clusters = {'en': ['au', 'ca', 'gb', 'ie', 'in', 'my', 'ng', 'nz', 'ph', 'sa', 'sg', 'us', 'za'],\n",
    "\t\t\t\t 'es': ['ar', 'co', 'cu', 'mx', 've'], 'de': ['at', 'ch', 'de'], 'fr': ['be', 'fr', 'ma'],\n",
    "\t\t\t\t 'zh': ['cn', 'hk', 'tw'], 'ar': ['ae', 'eg'], 'pt': ['br', 'pt'], 'bg': ['bg'], 'cs': ['cz'],\n",
    "\t\t\t\t 'el': ['gr'], 'he': ['il'], 'hu': ['hu'], 'id': ['id'], 'it': ['it'], 'ja': ['jp'], 'ko': ['kr'],\n",
    "\t\t\t\t 'lt': ['lt'], 'lv': ['lv'], 'nl': ['nl'], 'no': ['no'], 'pl': ['pl'], 'ro': ['ro'], 'ru': ['ru'],\n",
    "\t\t\t\t 'sv': ['se'], 'sl': ['si'], 'sk': ['sk'], 'sr': ['rs'], 'th': ['th'], 'tr': ['tr'], 'uk': ['ua']}\n",
    "loc_names = {'gb': 'United Kingdom', 'ar': 'Argentina', 'pl': 'Poland', 'sk': 'Slovakia', 'us': 'United States',\n",
    "\t\t\t 'eg': 'Egypt', 'no': 'Norway', 'ph': 'Philippines', 'at': 'Austria', 'rs': 'Serbia', 'tw': 'Taiwan',\n",
    "\t\t\t 'be': 'Belgium', 'cu': 'Cuba', 'sa': 'Saudi Arabia', 'th': 'Thailand', 'id': 'Indonesia',\n",
    "\t\t\t 'ru': 'Russian Federation', 'ch': 'Switzerland', 'fr': 'France', 'lt': 'Lithuania', 'tr': 'Turkey',\n",
    "\t\t\t 'de': 'Germany', 'cz': 'Czechia', 'pt': 'Portugal', 'ae': 'United Arab Emirates', 'it': 'Italy',\n",
    "\t\t\t 'cn': 'China', 'lv': 'Latvia', 'nl': 'Netherlands', 'hk': 'Hong Kong', 'ca': 'Canada', 'br': 'Brazil',\n",
    "\t\t\t 'hu': 'Hungary', 'kr': 'Korea', 'si': 'Slovenia', 'au': 'Australia', 'my': 'Malaysia', 'ie': 'Ireland',\n",
    "\t\t\t 'ua': 'Ukraine', 'in': 'India', 'ma': 'Morocco', 'bg': 'Bulgaria', 'ng': 'Nigeria', 'il': 'Israel',\n",
    "\t\t\t 'se': 'Sweden', 'za': 'South Africa', 've': 'Venezuela', 'nz': 'New Zealand', 'jp': 'Japan',\n",
    "\t\t\t 'sg': 'Singapore', 'gr': 'Greece', 'mx': 'Mexico', 'co': 'Colombia', 'ro': 'Romania'}\n",
    "lang_names = {'en': 'English', 'ko': 'Korean', 'ru': 'Russian', 'es': 'Spanish', 'pt': 'Portuguese', 'cs': 'Czech',\n",
    "\t\t\t  'tr': 'Turkish', 'nl': 'Dutch', 'ar': 'Arabic', 'fr': 'French', 'bg': 'Bulgarian', 'id': 'Indonesian',\n",
    "\t\t\t  'sk': 'Slovak', 'el': 'Greek', 'he': 'Hebrew', 'sr': 'Serbian', 'hu': 'Hungarian', 'th': 'Thai',\n",
    "\t\t\t  'zh': 'Chinese', 'no': 'Norwegian', 'sl': 'Slovenian', 'sv': 'Swedish', 'de': 'German', 'lv': 'Latvian',\n",
    "\t\t\t  'pl': 'Polish', 'it': 'Italian', 'ro': 'Romanian', 'lt': 'Lithuanian', 'ja': 'Japanese',\n",
    "\t\t\t  'uk': 'Ukrainian'}\n",
    "cluster_id = {loc: lang for lang, locs in lang_clusters.items() for loc in locs}\n",
    "len(cluster_id)"
   ],
   "metadata": {
    "collapsed": false,
    "ExecuteTime": {
     "end_time": "2023-11-30T08:42:51.297171050Z",
     "start_time": "2023-11-30T08:42:51.252677267Z"
    }
   },
   "id": "cce86d40ba6fc3e7"
  },
  {
   "cell_type": "code",
   "execution_count": 3,
   "outputs": [],
   "source": [
    "def show_date(date):\n",
    "\treturn date.strftime('%d %b%y')\n",
    "def get_locs(article):\n",
    "\treturn [f'{loc_names[loc]}' for loc in sorted(set(i['location'] for i in article['instances']))]\n",
    "def get_cats(article):\n",
    "\treturn [f'<{cat}>' for cat in sorted(set(i['category'] for i in article['instances']))]\n",
    "def view_article(art, detailed=False):\n",
    "\tcats = ' '.join(get_cats(art))\n",
    "\tlocs = ', '.join(map(repr, get_locs(art)))\n",
    "\tpublished = parser.parse(art['publishedAt'])\n",
    "\tcollected = [parser.parse(i['collectedAt']) for i in art['instances']]\n",
    "\tfirst = min(collected)\n",
    "\tlast = max(collected)\n",
    "\ttiming = f'{show_date(first)}' if first == last else f'{show_date(first)} - {show_date(last)}'\n",
    "\n",
    "\tlines = []\n",
    "\tif 'en-title' in art:\n",
    "\t\tlines.append(f'English Title: {art[\"en-title\"]!r}')\n",
    "\tlines.append(f'{lang_names[art[\"language\"]]} Title: {art[\"title\"]!r}')\n",
    "\tlines.append(f'Categories: {cats}  ---   {locs} ({timing})  ---  {art[\"source-name\"]}')\n",
    "\n",
    "\tif detailed:\n",
    "\t\tadded_desc = False\n",
    "\t\tdesc = art.get('description')\n",
    "\t\ten_desc = art.get('en-description')\n",
    "\t\tif en_desc is not None and len(en_desc):\n",
    "\t\t\tlines.append(f'English Description: {en_desc}')\n",
    "\t\t\tadded_desc = True\n",
    "\t\tif desc is not None and len(desc):\n",
    "\t\t\tlines.append(f'{lang_names[art[\"language\"]]} Description: {desc}')\n",
    "\t\t\tadded_desc = True\n",
    "\t\tif not added_desc:\n",
    "\t\t\tlines.append(f'- No description -')\n",
    "\tprint('\\n'.join(lines))\n",
    "def str_similarity(string1: str, string2: str):\n",
    "\tdistance = Levenshtein.distance(string1, string2)\n",
    "\tsimilarity = 1 - (distance / max(len(string1), len(string2)))\n",
    "\treturn similarity\n",
    "def capsim(s1, s2):\n",
    "\ts1, s2 = unidecode(s1), unidecode(s2)\n",
    "\treturn (str_similarity(s1.lower(), s2.lower()) + str_similarity(s1, s2)) / 2\n",
    "def inst_id(art_id, inst_idx):\n",
    "\treturn f'{str(art_id).zfill(7)}-{str(inst_idx).zfill(3)}'\n",
    "def get_inst(inst_id):\n",
    "\tart_id, inst_idx = inst_id.split('-')\n",
    "\tart = by_ID[art_id]\n",
    "\tinst = art['instances'][int(inst_idx)]\n",
    "\treturn {**inst, **art}\n",
    "def art_row(art):\n",
    "\treturn {'aid': art['ID'], 'title': art.get('en-title', art['title']), 'source': art['source-name'],\n",
    "\t\t\t'language': art['language']}\n",
    "def get_title(art):\n",
    "\treturn art.get('en-title', art['title'])\n",
    "def article_title_bag(art):\n",
    "\ttitle = art.get('en-title', art['title'])\n",
    "\ttitle_doc = nlp(title)\n",
    "\tkey_terms = Counter([token.lemma_.lower() for chunk in title_doc.noun_chunks for token in chunk])\n",
    "\treturn key_terms\n",
    "stop_words = set(STOPWORDS)\n",
    "def is_good_word(w):\n",
    "\treturn not all(unicodedata.category(char).startswith('P') or unicodedata.category(char).startswith('N') for char in w) and w not in stop_words"
   ],
   "metadata": {
    "collapsed": false,
    "ExecuteTime": {
     "end_time": "2023-11-30T08:42:54.939073648Z",
     "start_time": "2023-11-30T08:42:54.917387301Z"
    }
   },
   "id": "8d34179d435d8c98"
  },
  {
   "cell_type": "code",
   "execution_count": 5,
   "outputs": [
    {
     "data": {
      "text/plain": "54"
     },
     "execution_count": 5,
     "metadata": {},
     "output_type": "execute_result"
    }
   ],
   "source": [
    "root = Path('/home/fleeb/workspace/local_data/nnn')\n",
    "# root = Path(r'C:\\Users\\anwan\\Documents\\workspace\\nnn')\n",
    "recs = (root / 'old-bb-v1').glob('**/*.json')\n",
    "recs = (root / 'babel-briefings-v1').glob('**/*.json')\n",
    "temproot = root/'temp'\n",
    "temproot.mkdir(exist_ok=True)\n",
    "recs = list(recs)\n",
    "len(recs)"
   ],
   "metadata": {
    "collapsed": false,
    "ExecuteTime": {
     "end_time": "2023-11-30T08:45:53.159461377Z",
     "start_time": "2023-11-30T08:45:53.105349648Z"
    }
   },
   "id": "e0e7fbb0f949472d"
  },
  {
   "cell_type": "code",
   "execution_count": 6,
   "outputs": [
    {
     "data": {
      "text/plain": "  0%|          | 0/54 [00:00<?, ?it/s]",
      "application/vnd.jupyter.widget-view+json": {
       "version_major": 2,
       "version_minor": 0,
       "model_id": "e60a9833321f483390fc04ee621d864a"
      }
     },
     "metadata": {},
     "output_type": "display_data"
    },
    {
     "data": {
      "text/plain": "4719199"
     },
     "execution_count": 6,
     "metadata": {},
     "output_type": "execute_result"
    }
   ],
   "source": [
    "articles = []\n",
    "for rec in tqdm(recs):\n",
    "\tarticles.extend(load_json(rec))\n",
    "len(articles)"
   ],
   "metadata": {
    "collapsed": false,
    "ExecuteTime": {
     "end_time": "2023-11-30T08:46:43.267832700Z",
     "start_time": "2023-11-30T08:45:54.414840751Z"
    }
   },
   "id": "d02f11300952154b"
  },
  {
   "cell_type": "code",
   "execution_count": 7,
   "outputs": [
    {
     "data": {
      "text/plain": "  0%|          | 0/4719199 [00:00<?, ?it/s]",
      "application/vnd.jupyter.widget-view+json": {
       "version_major": 2,
       "version_minor": 0,
       "model_id": "2825078944f94564b3cbe83a41cbf430"
      }
     },
     "metadata": {},
     "output_type": "display_data"
    },
    {
     "data": {
      "text/plain": "(54, 30)"
     },
     "execution_count": 7,
     "metadata": {},
     "output_type": "execute_result"
    }
   ],
   "source": [
    "by_loc = {}\n",
    "by_lang = {}\n",
    "by_source = {}\n",
    "by_ID = {}\n",
    "for article in tqdm(articles):\n",
    "\tby_ID[article['ID']] = article\n",
    "\t# article['published'] = parser.parse(article['publishedAt'])\n",
    "\tby_source.setdefault(article['source-name'], []).append(article)\n",
    "\tby_lang.setdefault(article['language'], []).append(article)\n",
    "\tfor instance in article['instances']:\n",
    "\t\t# instance['collected'] = parser.parse(instance['collectedAt'])\n",
    "\t\tby_loc.setdefault(instance['location'], []).append(article)\n",
    "len(by_loc), len(by_lang)"
   ],
   "metadata": {
    "collapsed": false,
    "ExecuteTime": {
     "end_time": "2023-11-30T08:46:47.373398291Z",
     "start_time": "2023-11-30T08:46:43.272989582Z"
    }
   },
   "id": "dc4312881bc75d8f"
  },
  {
   "cell_type": "code",
   "execution_count": 8,
   "outputs": [
    {
     "data": {
      "text/plain": "259718"
     },
     "execution_count": 8,
     "metadata": {},
     "output_type": "execute_result"
    }
   ],
   "source": [
    "batch = by_lang['de']\n",
    "len(batch)"
   ],
   "metadata": {
    "collapsed": false,
    "ExecuteTime": {
     "end_time": "2023-11-30T08:46:47.444692378Z",
     "start_time": "2023-11-30T08:46:47.381697943Z"
    }
   },
   "id": "f7f29fc60ef7951e"
  },
  {
   "cell_type": "code",
   "execution_count": 9,
   "outputs": [
    {
     "name": "stdout",
     "output_type": "stream",
     "text": [
      "English Title: 'Mead Drinks Market 2021 to reflect significant growth in future with analysis of size, share, growth and key companies – jazznews - Jazz News'\n",
      "German Title: 'Met-Getränke Market 2021 wird ein signifikantes Wachstum in der Zukunft mit einer Analyse von Größe, Anteil, Wachstum und Schlüsselunternehmen widerspiegeln – jazznews - Jazz News'\n",
      "Categories: <business>  ---   'Austria' (08 Aug21)  ---  Jazz-news.at\n",
      "- No description -\n",
      "Jazz-news.at\n"
     ]
    }
   ],
   "source": [
    "art = random.choice(batch)\n",
    "view_article(art, detailed=True)\n",
    "print(art['source-name'])"
   ],
   "metadata": {
    "collapsed": false,
    "ExecuteTime": {
     "end_time": "2023-11-30T08:46:47.444975292Z",
     "start_time": "2023-11-30T08:46:47.428702796Z"
    }
   },
   "id": "7bc6cb3a95ad584e"
  },
  {
   "cell_type": "code",
   "execution_count": 10,
   "outputs": [],
   "source": [
    "# lowercase_all = True\n",
    "# full_bagowords_inds = {int(ID): {k.lower() if lowercase_all else k:v for k,v in bag.items()} \n",
    "# \t\t\t\t\t   for ID, bag in tqdm(load_json(root/'bagowords-ordered-full.json').items())}\n",
    "# \n",
    "# pre_dash = Counter()\n",
    "# for ID, bagi in tqdm(full_bagowords_inds.items()):\n",
    "# \tif '-' in bagi:\n",
    "# \t\tpre_dash.update({w: len(inds) for w, inds in bagi.items() if all(i < bagi[\"-\"][-1] for i in inds)})\n",
    "# \n",
    "# post_dash = Counter()\n",
    "# for ID, bagi in tqdm(full_bagowords_inds.items()):\n",
    "# \tif '-' in bagi:\n",
    "# \t\tpost_dash.update({w: len(inds) for w, inds in bagi.items() if w not in pre_dash})\n",
    "# all_bags_inds = {ID: {w: [i for i in inds if bag.get('-', [float('inf')])[-1] > i]\n",
    "# \t\t\t\t\t  for w, inds in bag.items() if w not in post_dash and is_good_word(w)}\n",
    "# \t\t\t\t for ID, bag in tqdm(full_bagowords_inds.items())}\n",
    "# all_bags = {ID: Counter({w: len(inds) for w, inds in bag.items() if len(inds)}) for ID, bag in all_bags_inds.items()}\n",
    "# len(all_bags)\n",
    "# save_json(all_bags, temproot/'all_bags.json')\n",
    "# save_json(all_bags_inds, temproot/'all_bags_inds.json')\n",
    "# all_bags_inds = pkl.load(open(root/'temp'/'all_bags_inds.pkl', 'rb'))\n",
    "# all_bags = {ID: Counter({w: len(inds) for w, inds in bag.items() if len(inds) and is_good_word(w)}) for ID, bag in all_bags_inds.items()}\n",
    "# world = articles\n",
    "# df = pd.DataFrame(\n",
    "# \t[{**row, **inst, 'iid': inst_id(row['aid'], i)} for row in tqdm([art_row(art) for art in world]) for i, inst in\n",
    "# \t enumerate(by_ID[row['aid']]['instances'])])\n",
    "# df['collectedAt'] = pd.to_datetime(df['collectedAt'])\n",
    "# df = df.sort_values('collectedAt')\n",
    "# df['date'] = df['collectedAt'].dt.date\n",
    "# len(df)\n",
    "# \n",
    "# daybags = {}\n",
    "# date_aids = dict(df.groupby('date')['aid'].apply(set))\n",
    "# for date, aIDs in tqdm(sorted(date_aids.items())):\n",
    "# \ttotal = Counter()\n",
    "# \tfor aID in aIDs:\n",
    "# \t\ttotal.update(all_bags[aID])\n",
    "# \tdaybags[date] = total\n",
    "# len(daybags)\n",
    "# dayidf = Counter()\n",
    "# for date, bag in tqdm(daybags.items()):\n",
    "# \tdayidf.update(bag.keys())\n",
    "# dayidf = {w: np.log(len(daybags) / f) for w, f in dayidf.items()}\n",
    "# daytotals = {d: sum(bag.values()) for d, bag in daybags.items()}\n",
    "# daytfidf = {day: Counter({w: f / daytotals[day] * dayidf[w] for w, f in bag.items()}) for day, bag in\n",
    "# \t\t\ttqdm(daybags.items())}\n",
    "# len(daytfidf)"
   ],
   "metadata": {
    "collapsed": false,
    "ExecuteTime": {
     "end_time": "2023-11-30T08:46:47.445030451Z",
     "start_time": "2023-11-30T08:46:47.428785643Z"
    }
   },
   "id": "b0e87f7743250f22"
  },
  {
   "cell_type": "code",
   "execution_count": 11,
   "outputs": [
    {
     "data": {
      "text/plain": "  0%|          | 0/413 [00:00<?, ?it/s]",
      "application/vnd.jupyter.widget-view+json": {
       "version_major": 2,
       "version_minor": 0,
       "model_id": "894ef3826bbb43c58ec6318c3a96da06"
      }
     },
     "metadata": {},
     "output_type": "display_data"
    },
    {
     "data": {
      "text/plain": "(413, 4719199)"
     },
     "execution_count": 11,
     "metadata": {},
     "output_type": "execute_result"
    }
   ],
   "source": [
    "use_bags_as_sets = True\n",
    "all_bags = load_json(temproot/'all_bags.json')\n",
    "# all_bags_inds = load_json(temproot/'all_bags_inds.json')\n",
    "all_bags = {int(ID): set(bag) if use_bags_as_sets else bag for ID, bag in all_bags.items()}\n",
    "# pkl.dump(date_aids, open(temproot/'date_aids.pkl', 'wb'))\n",
    "date_aids = pkl.load(open(temproot/'date_aids.pkl', 'rb'))\n",
    "daytfidf = pkl.load(open(temproot/'daytfidf.pkl', 'rb'))\n",
    "daybags = {}\n",
    "for date, aIDs in tqdm(sorted(date_aids.items())):\n",
    "\ttotal = Counter()\n",
    "\tfor aID in aIDs:\n",
    "\t\ttotal.update(all_bags[aID])\n",
    "\tdaybags[date] = total\n",
    "len(daybags), len(all_bags)#, len(all_bags_inds)"
   ],
   "metadata": {
    "collapsed": false,
    "ExecuteTime": {
     "end_time": "2023-11-30T08:47:23.079023501Z",
     "start_time": "2023-11-30T08:46:47.428830639Z"
    }
   },
   "id": "1531067339f24d0"
  },
  {
   "cell_type": "code",
   "execution_count": 94,
   "outputs": [],
   "source": [
    "def cluster_min_agreement(bag, aids, match_req=.5):\n",
    "\ttotal = sum(bag.values())\n",
    "\tmatches, remaining = [], []\n",
    "\tif total > 0:\n",
    "\t\tfor aid in aids:\n",
    "\t\t\t(matches if sum(bag.get(w,0) for w in all_bags[aid]) / total >= match_req else remaining).append(aid)\n",
    "\t\t\t# (matches if len(bag & all_bags[aid]) >= max(1, min(len(bag), len(all_bags[aid]), match_req)) else remaining).append(aid)\n",
    "\treturn matches, remaining\n",
    "\n",
    "def date_freq(today, topk=5, daterange=None, before=20, after=20, match_req=.5, pbar=False):\n",
    "\tif daterange is None:\n",
    "\t\tmindate = today - pd.Timedelta(days=before)\n",
    "\t\tmaxdate = today + pd.Timedelta(days=after)\n",
    "\t\tdaterange = [d for d in daytfidf if mindate <= d <= maxdate]\n",
    "\tdeltas = [(d - today).days for d in daterange]\n",
    "\timportances = daytfidf[today]\n",
    "\tscores = Counter({aid: sum(importances.get(w, 0) for w in all_bags[aid]) for aid in date_aids[today]})\n",
    "\t\n",
    "\tkeydocs = {}\n",
    "\t\n",
    "\ttodo = list(date_aids[today])\n",
    "\tfor k in tqdm(range(topk)) if pbar else range(topk):\n",
    "\t\tcenter = max(todo, key=lambda aid: scores[aid])\n",
    "\t\t# print(center, ', '.join(f'{w!r}' for w in sorted(all_bags[center], key=lambda w: importances.get(w,0), reverse=True)[:8]))\n",
    "\t\tcluster = {w: importances[w] for w in all_bags[center]}\n",
    "\t\ttodo.remove(center)\n",
    "\t\tmatches = {}\n",
    "\t\tfor i in range(len(deltas)):\n",
    "\t\t\tdelta = deltas[i]\n",
    "\t\t\tmatches[delta], other = cluster_min_agreement(cluster, todo if delta == 0 else date_aids[daterange[i]], match_req=match_req)\n",
    "\t\t\tif delta == 0:\n",
    "\t\t\t\ttodo = other\n",
    "\t\t\t\tmatches[delta].append(center)\n",
    "\t\tkeydocs[center] = matches\n",
    "\treturn keydocs"
   ],
   "metadata": {
    "collapsed": false,
    "ExecuteTime": {
     "end_time": "2023-11-30T11:54:00.446537249Z",
     "start_time": "2023-11-30T11:54:00.388794577Z"
    }
   },
   "id": "5dfed19c55e297e3"
  },
  {
   "cell_type": "code",
   "execution_count": null,
   "outputs": [],
   "source": [],
   "metadata": {
    "collapsed": false
   },
   "id": "e777cf2ac05abbe5"
  },
  {
   "cell_type": "code",
   "execution_count": null,
   "outputs": [],
   "source": [],
   "metadata": {
    "collapsed": false
   },
   "id": "43ce9ccbc10d96df"
  },
  {
   "cell_type": "code",
   "execution_count": 13,
   "outputs": [
    {
     "data": {
      "text/plain": "(True, True)"
     },
     "execution_count": 13,
     "metadata": {},
     "output_type": "execute_result"
    }
   ],
   "source": [
    "start, end = datetime(2020, 10, 3).date(), datetime(2021, 10, 3).date()\n",
    "lowlimit, highlimit = min(daytfidf), max(daytfidf)\n",
    "start in daytfidf, end in daytfidf"
   ],
   "metadata": {
    "collapsed": false,
    "ExecuteTime": {
     "end_time": "2023-11-30T08:47:23.132571496Z",
     "start_time": "2023-11-30T08:47:23.124711717Z"
    }
   },
   "id": "d325ac8193bacfc2"
  },
  {
   "cell_type": "code",
   "execution_count": 28,
   "outputs": [
    {
     "name": "stdout",
     "output_type": "stream",
     "text": [
      "01 Feb 2021\n"
     ]
    }
   ],
   "source": [
    "target = random.choice(list(daytfidf.keys()))\n",
    "target = random.choice([d for d in daytfidf if start <= d <= end])\n",
    "target = datetime(2021, 2, 1).date()\n",
    "# target = datetime(2021, 1, 8).date()\n",
    "importances = daytfidf[target]\n",
    "counts = daybags[target]\n",
    "def compute_article_score(aid):\n",
    "\treturn sum(importances.get(w, 0) for w in all_bags[aid])\n",
    "scores = Counter({aid: compute_article_score(aid) for aid in date_aids[target]})\n",
    "print(target.strftime('%d %b %Y'))\n",
    "offset = (target - start).days\n",
    "offset = 0\n",
    "# offset"
   ],
   "metadata": {
    "collapsed": false,
    "ExecuteTime": {
     "end_time": "2023-11-30T08:50:35.954981266Z",
     "start_time": "2023-11-30T08:50:35.904716967Z"
    }
   },
   "id": "d56738d2ad6840ae"
  },
  {
   "cell_type": "code",
   "execution_count": 29,
   "outputs": [],
   "source": [
    "top = {}\n",
    "todo = list(scores.keys())\n",
    "intial_num = len(todo)\n",
    "# day_delta = 40\n",
    "day_before = 30\n",
    "day_after = 30\n",
    "\n",
    "topk = 10\n",
    "match_threshold = 0.25"
   ],
   "metadata": {
    "collapsed": false,
    "ExecuteTime": {
     "end_time": "2023-11-30T08:50:36.718205453Z",
     "start_time": "2023-11-30T08:50:36.716674813Z"
    }
   },
   "id": "c9bfac61f904fdac"
  },
  {
   "cell_type": "code",
   "execution_count": 30,
   "outputs": [
    {
     "name": "stdout",
     "output_type": "stream",
     "text": [
      "-------  --  ---------------------------------------------------------------------------------------------------------------------\n",
      "2906997  20  'suu', 'kyi', 'aung', 'myanmar', \"d'etat\", 'coup', 'detain', 'san' + 4 more\n",
      "2908689  86  'gamestop', 'reddit', 'winklevoss', 'mgm', 'coindesk', 'twins', 'investor', 'movie' + 5 more\n",
      "2911138   8  'caleta', 'duje', 'davies', 'preston', 'liverpool', 'marseille', 'ben', 'transfer' + 7 more\n",
      "2909032   0  'cyden', 'silkaeur(tm)n', 'cosbeauty', 'smoothskin', 'iluminage', 'soccernurds', 'remington', 'competitors' + 18 more\n",
      "2908399   5  'asos', 'topshop', 'selfridge', 'ps330', 'm', 'brand', 'miss', 'buy'\n",
      "2909529   6  'wilmore', 'simpsons', 'screenwriter', 'marc', 'die'\n",
      "2908550   1  'daikoku', 'masao', 'kurihara', 'masashi', 'mos', 'burgers', 'gamba', 'coach' + 12 more\n",
      "2910467   0  'pagale', 'shusteri', 'puku', 'dzenu', 'lipke', 'badge', 'silver', 'memorial' + 5 more\n",
      "2906137   7  'garmisch', 'goggia', 'dominator', 'downhill', 'home', 'world', 'cup', 'fall' + 1 more\n",
      "2911303   1  'vegfr', 'rate-', 'vegf', 'mundo', 'novartis', 'glaxosmithkline', 'ciruja', 'plc' + 11 more\n",
      "-------  --  ---------------------------------------------------------------------------------------------------------------------\n",
      "144 / 5475   ---   2.63% for 10 clusters\n"
     ]
    }
   ],
   "source": [
    "for _ in range(10):\n",
    "\tcenter = max(todo, key=lambda aid: scores[aid])\n",
    "\tcluster = {w: importances[w] for w in all_bags[center]}\n",
    "\ttodo.remove(center)\n",
    "\tmatches, todo = cluster_min_agreement(cluster, todo, match_req=match_threshold)\n",
    "\ttop[center] = matches\n",
    "# len(matches), len(todo)\n",
    "print(tabulate([(\n",
    "\taid, \n",
    "\t# scores[aid], \n",
    "\tlen(matches), \n",
    "\t', '.join(f'{w!r}' for w in sorted(all_bags[aid], key=lambda w: importances.get(w,0), reverse=True)[:8]) + (f' + {len(all_bags[aid])-8} more' if len(all_bags[aid]) > 8 else ''), \n",
    "\t# len(all_bags[aid])\n",
    ") for aid, matches in sorted(top.items(), key=lambda item: scores[item[0]], reverse=True)]))\n",
    "print(f'{intial_num-len(todo)} / {intial_num}   ---   {(intial_num-len(todo))/intial_num:.2%} for {len(top)} clusters')"
   ],
   "metadata": {
    "collapsed": false,
    "ExecuteTime": {
     "end_time": "2023-11-30T08:50:36.786543231Z",
     "start_time": "2023-11-30T08:50:36.719814677Z"
    }
   },
   "id": "21b19ae0a3a6f38c"
  },
  {
   "cell_type": "code",
   "execution_count": 31,
   "outputs": [
    {
     "name": "stdout",
     "output_type": "stream",
     "text": [
      "--  -------  --------------------------------------------------------------------------------------------------------\n",
      " 0  2906440  'suu', 'kyi', 'aung', 'myanmar', 'san', 'army', 'bar', 'street' + 1 more\n",
      " 1  2907065  'aung', 'myanmar|the', 'career|apple', 'acquiescence', 'coup', 'suspected', 'intervene', 'san' + 14 more\n",
      " 2  2907304  'suu', 'kyi', 'aung', 'myanmar', 'coup', 'detain', 'san', 'military' + 5 more\n",
      " 3  2907695  'suu', 'kyi', 'aung', 'myanmar', 'coup', 'detain', 'san', 'military' + 1 more\n",
      " 4  2907976  'suu', 'kyi', 'aung', 'myanmar', 'coup', 'san', 'army', 'arrest' + 3 more\n",
      " 5  2908083  'suu', 'kyi', 'aung', 'myanmar', 'coup', 'detain', 'san', 'military' + 5 more\n",
      " 6  2908218  'suu', 'kyi', 'aung', 'burmese', 'wilmes', 'sophie', 'michel', 'san' + 5 more\n",
      " 7  2908388  'suu', 'kyi', 'aung', 'myanmar', 'putsch', 'pravda', 'san', 'country' + 1 more\n",
      " 8  2908506  'suu', 'kyi', 'aung', 'myanmar', 'coup', 'detain', 'san', 'military' + 2 more\n",
      " 9  2909178  'suu', 'kyi', 'aung', 'myanmar', 'coup', 'hotspots', 'ya', 'san' + 20 more\n",
      "10  2909302  'suu', 'kyi', 'myanmar', 'army', 'arrest', 'leader', \"'s\", 'protect'\n",
      "11  2910066  'suu', 'kyi', 'aung', 'myanmar', 'san', 'lady', 'history', 'fight' + 3 more\n",
      "12  2910175  'suu', 'kyi', 'aung', 'myanmar', 'coup', 'san', 'call', 'protest'\n",
      "13  2910418  'suu', 'kyi', 'burma', 'coup', 'development', 'military', 'answer'\n",
      "14  2910547  'suu', 'kyi', 'aung', 'myanmar', 'yangon', 'detain', 'san', 'headquarters' + 4 more\n",
      "15  2910781  'aung', 'myanmar', 'hlaing', 'coup', 'series', 'controversy', 'min', 'general' + 1 more\n",
      "16  2910866  'suu', 'kyi', 'aung', 'burma', \"d'etat\", 'coup', 'san', 'arrest' + 3 more\n",
      "17  2911692  'suu', 'kyi', 'myanmar', 'coup', 'aun', 'detain', 'san', 'military' + 4 more\n",
      "18  2911829  'suu', 'kyi', 'aung', 'myanmar', 'coup', 'detain', 'san', 'seoul' + 4 more\n",
      "19  2911912  'suu', 'kyi', 'aung', 'burma', 'san', 'army', 'arrest', 'head' + 1 more\n",
      "--  -------  --------------------------------------------------------------------------------------------------------\n"
     ]
    }
   ],
   "source": [
    "grand, matches = max(top.items(), key=lambda item: scores[item[0]])\n",
    "print(tabulate([[i, aid, ', '.join(f'{w!r}' for w in sorted(all_bags[aid], key=lambda w: importances.get(w,0), reverse=True)[:8]) + (f' + {len(all_bags[aid])-8} more' if len(all_bags[aid]) > 8 else '')]\n",
    "\t\t\t\tfor i, aid in enumerate(matches)]))"
   ],
   "metadata": {
    "collapsed": false,
    "ExecuteTime": {
     "end_time": "2023-11-30T08:50:37.577576476Z",
     "start_time": "2023-11-30T08:50:37.566013201Z"
    }
   },
   "id": "ee105e396ca886a8"
  },
  {
   "cell_type": "code",
   "execution_count": 32,
   "outputs": [
    {
     "data": {
      "text/plain": "  0%|          | 0/10 [00:00<?, ?it/s]",
      "application/vnd.jupyter.widget-view+json": {
       "version_major": 2,
       "version_minor": 0,
       "model_id": "3c45062331fa4b19b4c1dd0a8af61d32"
      }
     },
     "metadata": {},
     "output_type": "display_data"
    },
    {
     "name": "stdout",
     "output_type": "stream",
     "text": [
      "--  -------  ---  --  ---  -----------------------------------------------------------------------------------------------------------\n",
      "12  2906997    2  21   84  'suu', 'kyi', 'aung', 'myanmar', \"d'etat\", 'coup', 'detain', 'san'\n",
      "13  2908689  398  87  778  'gamestop', 'reddit', 'winklevoss', 'mgm', 'coindesk', 'twins', 'investor', 'movie'\n",
      "15  2911138    1   9    6  'caleta', 'duje', 'davies', 'preston', 'liverpool', 'marseille', 'ben', 'transfer'\n",
      "26  2909032    0   1    0  'cyden', 'silkaeur(tm)n', 'cosbeauty', 'smoothskin', 'iluminage', 'soccernurds', 'remington', 'competitors'\n",
      " 8  2908399   19   6   16  'asos', 'topshop', 'selfridge', 'ps330', 'm', 'brand', 'miss', 'buy'\n",
      " 5  2909529    0   7    8  'wilmore', 'simpsons', 'screenwriter', 'marc', 'die'\n",
      "20  2908550    0   2    3  'daikoku', 'masao', 'kurihara', 'masashi', 'mos', 'burgers', 'gamba', 'coach'\n",
      "13  2910467    0   1    0  'pagale', 'shusteri', 'puku', 'dzenu', 'lipke', 'badge', 'silver', 'memorial'\n",
      " 9  2906137   41   8   22  'garmisch', 'goggia', 'dominator', 'downhill', 'home', 'world', 'cup', 'fall'\n",
      "19  2911303    1   2    1  'vegfr', 'rate-', 'vegf', 'mundo', 'novartis', 'glaxosmithkline', 'ciruja', 'plc'\n",
      "--  -------  ---  --  ---  -----------------------------------------------------------------------------------------------------------\n"
     ]
    },
    {
     "data": {
      "text/plain": "10"
     },
     "execution_count": 32,
     "metadata": {},
     "output_type": "execute_result"
    }
   ],
   "source": [
    "keydocs = date_freq(target, topk=topk, before=day_before, after=day_after, match_req=match_threshold)\n",
    "print(tabulate([(\n",
    "\tlen(all_bags[aid]), \n",
    "\taid,\n",
    "\t\t\t\t sum(len(m) for d, m in matches.items() if d < 0), \n",
    "\t\t\t\t sum(len(m) for d, m in matches.items() if d == 0), \n",
    "\t\t\t\t sum(len(m) for d, m in matches.items() if d > 0), \n",
    "\t\t\t\t ', '.join(f'{w!r}' for w in sorted(all_bags[aid], key=lambda w: importances.get(w,0), reverse=True)[:8])\n",
    "\t\t\t\t ) for aid, matches in keydocs.items()]))\n",
    "len(keydocs)"
   ],
   "metadata": {
    "collapsed": false,
    "ExecuteTime": {
     "end_time": "2023-11-30T08:50:45.905551870Z",
     "start_time": "2023-11-30T08:50:37.569462748Z"
    }
   },
   "id": "5b070f5d7be1f3ef"
  },
  {
   "cell_type": "code",
   "execution_count": 33,
   "outputs": [
    {
     "name": "stdout",
     "output_type": "stream",
     "text": [
      "--  -------  --  --  --  -----------------------------------------------------------------------------------------------------------\n",
      "12  2906997   2  21  84  'suu', 'kyi', 'aung', 'myanmar', \"d'etat\", 'coup', 'detain', 'san'\n",
      "15  2911138   1   9   6  'caleta', 'duje', 'davies', 'preston', 'liverpool', 'marseille', 'ben', 'transfer'\n",
      "26  2909032   0   1   0  'cyden', 'silkaeur(tm)n', 'cosbeauty', 'smoothskin', 'iluminage', 'soccernurds', 'remington', 'competitors'\n",
      " 8  2908399  19   6  16  'asos', 'topshop', 'selfridge', 'ps330', 'm', 'brand', 'miss', 'buy'\n",
      "20  2908550   0   2   3  'daikoku', 'masao', 'kurihara', 'masashi', 'mos', 'burgers', 'gamba', 'coach'\n",
      "13  2910467   0   1   0  'pagale', 'shusteri', 'puku', 'dzenu', 'lipke', 'badge', 'silver', 'memorial'\n",
      " 9  2906137  41   8  22  'garmisch', 'goggia', 'dominator', 'downhill', 'home', 'world', 'cup', 'fall'\n",
      "19  2911303   1   2   1  'vegfr', 'rate-', 'vegf', 'mundo', 'novartis', 'glaxosmithkline', 'ciruja', 'plc'\n",
      "--  -------  --  --  --  -----------------------------------------------------------------------------------------------------------\n"
     ]
    }
   ],
   "source": [
    "best = {center: matches for center, matches in keydocs.items() if len(matches[0]) == max(map(len,matches.values()))}\n",
    "print(tabulate([(\n",
    "\tlen(all_bags[aid]), \n",
    "\taid,\n",
    "\t\t\t\t sum(len(m) for d, m in matches.items() if d < 0), \n",
    "\t\t\t\t sum(len(m) for d, m in matches.items() if d == 0), \n",
    "\t\t\t\t sum(len(m) for d, m in matches.items() if d > 0), \n",
    "\t\t\t\t ', '.join(f'{w!r}' for w in sorted(all_bags[aid], key=lambda w: importances.get(w,0), reverse=True)[:8])\n",
    "\t\t\t\t ) for aid, matches in best.items()]))"
   ],
   "metadata": {
    "collapsed": false,
    "ExecuteTime": {
     "end_time": "2023-11-30T08:50:45.912164024Z",
     "start_time": "2023-11-30T08:50:45.906470178Z"
    }
   },
   "id": "b03f5f0b04cba594"
  },
  {
   "cell_type": "code",
   "execution_count": 40,
   "outputs": [
    {
     "data": {
      "text/plain": "((61,), (61, 8))"
     },
     "execution_count": 40,
     "metadata": {},
     "output_type": "execute_result"
    }
   ],
   "source": [
    "X = np.arange(-day_before, day_after+1)\n",
    "Ys = []\n",
    "IDs = []\n",
    "for center, matches in sorted(best.items(), key=lambda item: sum(map(len,item[1].values())), reverse=False):\n",
    "\tIDs.append(center)\n",
    "\tx, y = zip(*[(d+offset, len(m)) for d, m in matches.items()])\n",
    "\tinterp_func = interp1d(x, y, kind='linear', fill_value=\"extrapolate\")\n",
    "\tYs.append(np.clip(interp_func(X),0,None))\n",
    "Ys = np.array(Ys).T\n",
    "X += offset\n",
    "X.shape, Ys.shape"
   ],
   "metadata": {
    "collapsed": false,
    "ExecuteTime": {
     "end_time": "2023-11-30T08:51:38.079787057Z",
     "start_time": "2023-11-30T08:51:38.058033540Z"
    }
   },
   "id": "293ae58e0471c536"
  },
  {
   "cell_type": "code",
   "execution_count": 41,
   "outputs": [
    {
     "data": {
      "text/plain": "<Figure size 1200x800 with 1 Axes>",
      "image/png": "[encoded data removed]"
     },
     "metadata": {},
     "output_type": "display_data"
    }
   ],
   "source": [
    "plt.figure(figsize=(12,8))\n",
    "\n",
    "cYs = Ys.cumsum(-1)\n",
    "\n",
    "Y = cYs\n",
    "# Y = Ys\n",
    "\n",
    "plt.plot(X, Y, label=[by_ID[aid].get('en-title', by_ID[aid]['title'])[:60] for aid in IDs])\n",
    "\n",
    "lb = 0\n",
    "for i in range(Y.shape[1]):\n",
    "\tplt.fill_between(X, lb, Y[:, i], alpha=.3)\n",
    "\tlb = Y[:, i]\n",
    "\n",
    "plt.legend();\n",
    "# plt.ylim(0, 400);\n",
    "# plt.xlim(0, 300);\n",
    "# plt.plot(X, Ys, label=f'{center}');\n",
    "plt.tight_layout();"
   ],
   "metadata": {
    "collapsed": false,
    "ExecuteTime": {
     "end_time": "2023-11-30T08:51:39.148382010Z",
     "start_time": "2023-11-30T08:51:38.864139621Z"
    }
   },
   "id": "c755f592a5bb1c41"
  },
  {
   "cell_type": "code",
   "execution_count": 68,
   "outputs": [
    {
     "data": {
      "text/plain": "[2909032, 2910467, 2911303, 2908550, 2911138, 2908399, 2906137, 2906997]"
     },
     "execution_count": 68,
     "metadata": {},
     "output_type": "execute_result"
    }
   ],
   "source": [
    "IDs"
   ],
   "metadata": {
    "collapsed": false,
    "ExecuteTime": {
     "end_time": "2023-11-30T10:54:56.635670442Z",
     "start_time": "2023-11-30T10:54:56.587486692Z"
    }
   },
   "id": "941c1ca156a1bf15"
  },
  {
   "cell_type": "code",
   "execution_count": 72,
   "outputs": [],
   "source": [
    "daynum = {d: i for i, d in enumerate(sorted(daytfidf))}\n",
    "numday = {i: d for d, i in daynum.items()}"
   ],
   "metadata": {
    "collapsed": false,
    "ExecuteTime": {
     "end_time": "2023-11-30T10:57:46.616641645Z",
     "start_time": "2023-11-30T10:57:46.597233832Z"
    }
   },
   "id": "2a75441479c01b57"
  },
  {
   "cell_type": "code",
   "execution_count": 57,
   "outputs": [],
   "source": [
    "# day_before = 30\n",
    "# day_after = 30\n",
    "# \n",
    "# topk = 10\n",
    "# match_threshold = 0.25\n",
    "# \n",
    "# clusters_per_day = {}\n",
    "# \n",
    "# for today, idx in tqdm(daynum.items()):\n",
    "# \tif idx not in clusters_per_day:\n",
    "# \t\tkeydocs = date_freq(today, topk=topk, before=day_before, after=day_after, match_req=match_threshold)\n",
    "# \t\tclusters_per_day[idx] = keydocs\n",
    "\n",
    "# full_daily_cluster = [clusters_per_day[i] for i in range(len(daynum))]\n",
    "# save_json({\n",
    "# \t'clusters':full_daily_cluster,\n",
    "# \t'params': {\n",
    "# \t\t'before': day_before,\n",
    "# \t\t'after': day_after,\n",
    "# \t\t'topk': topk,\n",
    "# \t\t'match_req': match_threshold,\n",
    "# \t},\n",
    "# }, temproot/f'daily_clusters.json')\n",
    "\n",
    "full_daily_cluster = load_json(temproot/f'daily_clusters.json')['clusters']\n",
    "full_daily_cluster = [{int(aid): matches for aid, matches in day.items()} for day in full_daily_cluster]"
   ],
   "metadata": {
    "collapsed": false,
    "ExecuteTime": {
     "end_time": "2023-11-30T10:38:42.283673901Z",
     "start_time": "2023-11-30T10:38:42.146970833Z"
    }
   },
   "id": "90da9ef3d32e6956"
  },
  {
   "cell_type": "code",
   "execution_count": 86,
   "outputs": [
    {
     "data": {
      "text/plain": "(0, 412, 413)"
     },
     "execution_count": 86,
     "metadata": {},
     "output_type": "execute_result"
    }
   ],
   "source": [
    "s, e = daynum[start], daynum[end]\n",
    "s, e = 0, len(daynum)-1\n",
    "daterange = [numday[i] for i in range(s, e+1)]\n",
    "s, e, len(daterange)"
   ],
   "metadata": {
    "collapsed": false,
    "ExecuteTime": {
     "end_time": "2023-11-30T11:08:02.707205553Z",
     "start_time": "2023-11-30T11:08:02.674044992Z"
    }
   },
   "id": "ff920a4d9a88f72d"
  },
  {
   "cell_type": "code",
   "execution_count": 87,
   "outputs": [
    {
     "data": {
      "text/plain": "413"
     },
     "execution_count": 87,
     "metadata": {},
     "output_type": "execute_result"
    }
   ],
   "source": [
    "daily_clusters = full_daily_cluster#[s:e]\n",
    "len(daily_clusters)"
   ],
   "metadata": {
    "collapsed": false,
    "ExecuteTime": {
     "end_time": "2023-11-30T11:08:11.815483645Z",
     "start_time": "2023-11-30T11:08:11.795226313Z"
    }
   },
   "id": "b3a2e14bce1bfde8"
  },
  {
   "cell_type": "code",
   "execution_count": 88,
   "outputs": [],
   "source": [
    "def matches2counts(matches):\n",
    "\treturn {int(d): len(m) for d, m in matches.items()}\n",
    "def counts2signal(counts):\n",
    "\treturn list(map(np.array,zip(*counts.items())))"
   ],
   "metadata": {
    "collapsed": false,
    "ExecuteTime": {
     "end_time": "2023-11-30T11:08:13.307220305Z",
     "start_time": "2023-11-30T11:08:13.291721448Z"
    }
   },
   "id": "560fa330a3e66e77"
  },
  {
   "cell_type": "code",
   "execution_count": 89,
   "outputs": [],
   "source": [
    "clus = daily_clusters[0]"
   ],
   "metadata": {
    "collapsed": false,
    "ExecuteTime": {
     "end_time": "2023-11-30T11:08:17.424859979Z",
     "start_time": "2023-11-30T11:08:17.404359785Z"
    }
   },
   "id": "e2d7f2ae50de0617"
  },
  {
   "cell_type": "code",
   "execution_count": 95,
   "outputs": [
    {
     "ename": "ValueError",
     "evalue": "too many values to unpack (expected 2)",
     "output_type": "error",
     "traceback": [
      "\u001B[0;31m---------------------------------------------------------------------------\u001B[0m",
      "\u001B[0;31mValueError\u001B[0m                                Traceback (most recent call last)",
      "Cell \u001B[0;32mIn[95], line 3\u001B[0m\n\u001B[1;32m      1\u001B[0m daily_counts \u001B[38;5;241m=\u001B[39m [{aid: matches2counts(matches) \u001B[38;5;28;01mfor\u001B[39;00m aid, matches \u001B[38;5;129;01min\u001B[39;00m clus\u001B[38;5;241m.\u001B[39mitems()} \u001B[38;5;28;01mfor\u001B[39;00m clus \u001B[38;5;129;01min\u001B[39;00m daily_clusters]\n\u001B[1;32m      2\u001B[0m top_counts \u001B[38;5;241m=\u001B[39m [{center: counts \u001B[38;5;28;01mfor\u001B[39;00m center, counts \u001B[38;5;129;01min\u001B[39;00m daycnt\u001B[38;5;241m.\u001B[39mitems() \u001B[38;5;28;01mif\u001B[39;00m counts[\u001B[38;5;241m0\u001B[39m] \u001B[38;5;241m==\u001B[39m \u001B[38;5;28mmax\u001B[39m(counts\u001B[38;5;241m.\u001B[39mvalues())} \u001B[38;5;28;01mfor\u001B[39;00m daycnt \u001B[38;5;129;01min\u001B[39;00m daily_counts]\n\u001B[0;32m----> 3\u001B[0m masses \u001B[38;5;241m=\u001B[39m Counter(\u001B[43m{\u001B[49m\u001B[43mcenter\u001B[49m\u001B[43m:\u001B[49m\u001B[43m \u001B[49m\u001B[38;5;28;43msum\u001B[39;49m\u001B[43m(\u001B[49m\u001B[43my\u001B[49m\u001B[43m)\u001B[49m\u001B[43m \u001B[49m\u001B[38;5;28;43;01mfor\u001B[39;49;00m\u001B[43m \u001B[49m\u001B[43mday\u001B[49m\u001B[43m \u001B[49m\u001B[38;5;129;43;01min\u001B[39;49;00m\u001B[43m \u001B[49m\u001B[43mtop_counts\u001B[49m\u001B[43m \u001B[49m\u001B[38;5;28;43;01mfor\u001B[39;49;00m\u001B[43m \u001B[49m\u001B[43mcenter\u001B[49m\u001B[43m,\u001B[49m\u001B[43m \u001B[49m\u001B[43m(\u001B[49m\u001B[43mx\u001B[49m\u001B[43m,\u001B[49m\u001B[43m \u001B[49m\u001B[43my\u001B[49m\u001B[43m)\u001B[49m\u001B[43m \u001B[49m\u001B[38;5;129;43;01min\u001B[39;49;00m\u001B[43m \u001B[49m\u001B[43mday\u001B[49m\u001B[38;5;241;43m.\u001B[39;49m\u001B[43mitems\u001B[49m\u001B[43m(\u001B[49m\u001B[43m)\u001B[49m\u001B[43m}\u001B[49m)\n\u001B[1;32m      4\u001B[0m \u001B[38;5;28mprint\u001B[39m(tabulate([[\n\u001B[1;32m      5\u001B[0m \tcenter,\n\u001B[1;32m      6\u001B[0m \tmass,\n\u001B[1;32m      7\u001B[0m \t\u001B[38;5;66;03m# ', '.join(f'{w!r}' for w in sorted(all_bags[center], key=lambda w: importances.get(w,0), reverse=True)[:8],\u001B[39;00m\n\u001B[1;32m      8\u001B[0m \tby_ID[center]\u001B[38;5;241m.\u001B[39mget(\u001B[38;5;124m'\u001B[39m\u001B[38;5;124men-title\u001B[39m\u001B[38;5;124m'\u001B[39m, by_ID[center][\u001B[38;5;124m'\u001B[39m\u001B[38;5;124mtitle\u001B[39m\u001B[38;5;124m'\u001B[39m])[:\u001B[38;5;241m120\u001B[39m],\n\u001B[1;32m      9\u001B[0m ] \u001B[38;5;28;01mfor\u001B[39;00m center, mass \u001B[38;5;129;01min\u001B[39;00m masses\u001B[38;5;241m.\u001B[39mmost_common(\u001B[38;5;241m10\u001B[39m)]))\n",
      "Cell \u001B[0;32mIn[95], line 3\u001B[0m, in \u001B[0;36m<dictcomp>\u001B[0;34m(.0)\u001B[0m\n\u001B[1;32m      1\u001B[0m daily_counts \u001B[38;5;241m=\u001B[39m [{aid: matches2counts(matches) \u001B[38;5;28;01mfor\u001B[39;00m aid, matches \u001B[38;5;129;01min\u001B[39;00m clus\u001B[38;5;241m.\u001B[39mitems()} \u001B[38;5;28;01mfor\u001B[39;00m clus \u001B[38;5;129;01min\u001B[39;00m daily_clusters]\n\u001B[1;32m      2\u001B[0m top_counts \u001B[38;5;241m=\u001B[39m [{center: counts \u001B[38;5;28;01mfor\u001B[39;00m center, counts \u001B[38;5;129;01min\u001B[39;00m daycnt\u001B[38;5;241m.\u001B[39mitems() \u001B[38;5;28;01mif\u001B[39;00m counts[\u001B[38;5;241m0\u001B[39m] \u001B[38;5;241m==\u001B[39m \u001B[38;5;28mmax\u001B[39m(counts\u001B[38;5;241m.\u001B[39mvalues())} \u001B[38;5;28;01mfor\u001B[39;00m daycnt \u001B[38;5;129;01min\u001B[39;00m daily_counts]\n\u001B[0;32m----> 3\u001B[0m masses \u001B[38;5;241m=\u001B[39m Counter({center: \u001B[38;5;28msum\u001B[39m(y) \u001B[38;5;28;01mfor\u001B[39;00m day \u001B[38;5;129;01min\u001B[39;00m top_counts \u001B[38;5;28;01mfor\u001B[39;00m center, (x, y) \u001B[38;5;129;01min\u001B[39;00m day\u001B[38;5;241m.\u001B[39mitems()})\n\u001B[1;32m      4\u001B[0m \u001B[38;5;28mprint\u001B[39m(tabulate([[\n\u001B[1;32m      5\u001B[0m \tcenter,\n\u001B[1;32m      6\u001B[0m \tmass,\n\u001B[1;32m      7\u001B[0m \t\u001B[38;5;66;03m# ', '.join(f'{w!r}' for w in sorted(all_bags[center], key=lambda w: importances.get(w,0), reverse=True)[:8],\u001B[39;00m\n\u001B[1;32m      8\u001B[0m \tby_ID[center]\u001B[38;5;241m.\u001B[39mget(\u001B[38;5;124m'\u001B[39m\u001B[38;5;124men-title\u001B[39m\u001B[38;5;124m'\u001B[39m, by_ID[center][\u001B[38;5;124m'\u001B[39m\u001B[38;5;124mtitle\u001B[39m\u001B[38;5;124m'\u001B[39m])[:\u001B[38;5;241m120\u001B[39m],\n\u001B[1;32m      9\u001B[0m ] \u001B[38;5;28;01mfor\u001B[39;00m center, mass \u001B[38;5;129;01min\u001B[39;00m masses\u001B[38;5;241m.\u001B[39mmost_common(\u001B[38;5;241m10\u001B[39m)]))\n",
      "\u001B[0;31mValueError\u001B[0m: too many values to unpack (expected 2)"
     ]
    }
   ],
   "source": [
    "daily_counts = [{aid: matches2counts(matches) for aid, matches in clus.items()} for clus in daily_clusters]\n",
    "top_counts = [{center: counts for center, counts in daycnt.items() if counts[0] == max(counts.values())} for daycnt in daily_counts]\n",
    "masses = Counter({center: sum(y) for day in top_counts for center, (x, y) in day.items()})\n",
    "print(tabulate([[\n",
    "\tcenter,\n",
    "\tmass,\n",
    "\t# ', '.join(f'{w!r}' for w in sorted(all_bags[center], key=lambda w: importances.get(w,0), reverse=True)[:8],\n",
    "\tby_ID[center].get('en-title', by_ID[center]['title'])[:120],\n",
    "] for center, mass in masses.most_common(10)]))"
   ],
   "metadata": {
    "collapsed": false,
    "ExecuteTime": {
     "end_time": "2023-11-30T11:57:10.764556204Z",
     "start_time": "2023-11-30T11:57:10.696980625Z"
    }
   },
   "id": "83f99a72903a16fe"
  },
  {
   "cell_type": "code",
   "execution_count": 91,
   "outputs": [
    {
     "data": {
      "text/plain": "2217"
     },
     "execution_count": 91,
     "metadata": {},
     "output_type": "execute_result"
    }
   ],
   "source": [
    "len(masses)"
   ],
   "metadata": {
    "collapsed": false,
    "ExecuteTime": {
     "end_time": "2023-11-30T11:08:20.664810338Z",
     "start_time": "2023-11-30T11:08:20.614136546Z"
    }
   },
   "id": "407cb802e395414d"
  },
  {
   "cell_type": "code",
   "execution_count": 108,
   "outputs": [
    {
     "data": {
      "text/plain": "2217"
     },
     "execution_count": 108,
     "metadata": {},
     "output_type": "execute_result"
    }
   ],
   "source": [
    "fulls = {}\n",
    "base_days = {center: numday[i] for i, daycounts in enumerate(top_counts) for center in daycounts}\n",
    "cluster_bags = {center: {w: daytfidf[day][w] for w in all_bags[center]} for center, day in base_days.items()}\n",
    "assert all(sum(bag.values()) > 0 for bag in cluster_bags.values())\n",
    "match_threshold = 0.25\n",
    "len(cluster_bags)"
   ],
   "metadata": {
    "collapsed": false,
    "ExecuteTime": {
     "end_time": "2023-11-30T12:01:31.304499791Z",
     "start_time": "2023-11-30T12:01:31.261283373Z"
    }
   },
   "id": "41973651f60f0a34"
  },
  {
   "cell_type": "code",
   "execution_count": 109,
   "outputs": [
    {
     "data": {
      "text/plain": "  0%|          | 0/2217 [00:00<?, ?it/s]",
      "application/vnd.jupyter.widget-view+json": {
       "version_major": 2,
       "version_minor": 0,
       "model_id": "6634708953104d2a8efa04e68e79c16c"
      }
     },
     "metadata": {},
     "output_type": "display_data"
    }
   ],
   "source": [
    "for center, _ in tqdm(masses.most_common()):\n",
    "\tif center not in fulls:\n",
    "\t\tfulls[center] = {day: cluster_min_agreement(cluster_bags[center], date_aids[day], match_req=match_threshold)[0] for day in daterange}"
   ],
   "metadata": {
    "collapsed": false,
    "ExecuteTime": {
     "end_time": "2023-11-30T15:39:55.173857770Z",
     "start_time": "2023-11-30T12:01:32.256925831Z"
    }
   },
   "id": "ff614dfe65954dff"
  },
  {
   "cell_type": "code",
   "execution_count": 111,
   "outputs": [],
   "source": [
    "full_nums = {center: [matches for day, matches in sorted(days.items(), key=lambda item: daynum[item[0]])] for center, days in fulls.items()}"
   ],
   "metadata": {
    "collapsed": false,
    "ExecuteTime": {
     "end_time": "2023-11-30T16:47:52.462665754Z",
     "start_time": "2023-11-30T16:47:52.385652133Z"
    }
   },
   "id": "fe0cd2cc3f58b098"
  },
  {
   "cell_type": "code",
   "execution_count": 117,
   "outputs": [],
   "source": [
    "# save_json({i: d.strftime('%Y-%m-%d') for i, d in numday.items()}, temproot/'numday.json')\n",
    "# save_json(full_nums, temproot/'top-clusters-full-signals.json')"
   ],
   "metadata": {
    "collapsed": false,
    "ExecuteTime": {
     "end_time": "2023-11-30T16:50:02.945899985Z",
     "start_time": "2023-11-30T16:50:02.919210591Z"
    }
   },
   "id": "3e8bcde48a2204e"
  },
  {
   "cell_type": "code",
   "execution_count": 118,
   "outputs": [],
   "source": [],
   "metadata": {
    "collapsed": false,
    "ExecuteTime": {
     "end_time": "2023-11-30T16:50:07.543502050Z",
     "start_time": "2023-11-30T16:50:06.887428726Z"
    }
   },
   "id": "d0b9942084b8f52b"
  },
  {
   "cell_type": "code",
   "execution_count": 115,
   "outputs": [
    {
     "data": {
      "text/plain": "datetime.date(2021, 2, 1)"
     },
     "execution_count": 115,
     "metadata": {},
     "output_type": "execute_result"
    }
   ],
   "source": [
    "target"
   ],
   "metadata": {
    "collapsed": false,
    "ExecuteTime": {
     "end_time": "2023-11-30T16:49:45.470792245Z",
     "start_time": "2023-11-30T16:49:45.432247015Z"
    }
   },
   "id": "86abecc948d5c8c6"
  },
  {
   "cell_type": "code",
   "execution_count": 116,
   "outputs": [
    {
     "data": {
      "text/plain": "'2021-02-01'"
     },
     "execution_count": 116,
     "metadata": {},
     "output_type": "execute_result"
    }
   ],
   "source": [
    "target.strftime('%Y-%m-%d')"
   ],
   "metadata": {
    "collapsed": false,
    "ExecuteTime": {
     "end_time": "2023-11-30T16:49:53.413071813Z",
     "start_time": "2023-11-30T16:49:53.363352872Z"
    }
   },
   "id": "27bcf00e08d0e017"
  },
  {
   "cell_type": "code",
   "execution_count": null,
   "outputs": [],
   "source": [],
   "metadata": {
    "collapsed": false
   },
   "id": "205c6a8fda9cad3e"
  },
  {
   "cell_type": "code",
   "execution_count": null,
   "outputs": [],
   "source": [
    "\n",
    "def date_freq(today, topk=5, daterange=None, before=20, after=20, match_req=.5, pbar=False):"
   ],
   "metadata": {
    "collapsed": false
   },
   "id": "f7c3f47e5ad91817"
  },
  {
   "cell_type": "code",
   "execution_count": null,
   "outputs": [],
   "source": [],
   "metadata": {
    "collapsed": false
   },
   "id": "e568107997677a39"
  },
  {
   "cell_type": "code",
   "execution_count": null,
   "outputs": [],
   "source": [],
   "metadata": {
    "collapsed": false
   },
   "id": "1f925f49c3bb464d"
  },
  {
   "cell_type": "code",
   "execution_count": 60,
   "outputs": [],
   "source": [
    "todo = list(scores.keys())"
   ],
   "metadata": {
    "collapsed": false,
    "ExecuteTime": {
     "end_time": "2023-11-29T21:33:47.331848800Z",
     "start_time": "2023-11-29T21:33:47.302289400Z"
    }
   },
   "id": "b86e756074ed0704"
  },
  {
   "cell_type": "code",
   "execution_count": 61,
   "outputs": [
    {
     "name": "stdout",
     "output_type": "stream",
     "text": [
      "5874414 'kipchoge', 'eliud', 'medal', 'olympics', 'marathon', 'win', 'tokyo', 'gold'\n"
     ]
    }
   ],
   "source": [
    "center = max(todo, key=lambda aid: scores[aid])\n",
    "cluster = set(all_bags[center])\n",
    "todo.remove(center)\n",
    "print(center, ', '.join(f'{w!r}' for w in sorted(all_bags[center], key=lambda w: importances.get(w,0), reverse=True)[:8]))\n",
    "matches, todo = cluster_min_agreement(all_bags[center], todo)\n",
    "len(matches), len(todo)"
   ],
   "metadata": {
    "collapsed": false,
    "ExecuteTime": {
     "end_time": "2023-11-29T21:33:49.721218900Z",
     "start_time": "2023-11-29T21:33:49.690247Z"
    }
   },
   "id": "bd2520a1c61f056"
  },
  {
   "cell_type": "code",
   "execution_count": 52,
   "outputs": [
    {
     "data": {
      "text/plain": "{'eliud', 'gold', 'kipchoge', 'marathon', 'medal', 'olympics', 'tokyo', 'win'}"
     },
     "execution_count": 52,
     "metadata": {},
     "output_type": "execute_result"
    }
   ],
   "source": [
    "cluster"
   ],
   "metadata": {
    "collapsed": false,
    "ExecuteTime": {
     "end_time": "2023-11-29T21:08:33.170279600Z",
     "start_time": "2023-11-29T21:08:33.148671900Z"
    }
   },
   "id": "f8383fd5ad51c7fa"
  },
  {
   "cell_type": "code",
   "execution_count": 53,
   "outputs": [
    {
     "data": {
      "text/plain": "14827"
     },
     "execution_count": 53,
     "metadata": {},
     "output_type": "execute_result"
    }
   ],
   "source": [
    "len(todo)"
   ],
   "metadata": {
    "collapsed": false,
    "ExecuteTime": {
     "end_time": "2023-11-29T21:08:33.820472700Z",
     "start_time": "2023-11-29T21:08:33.798955Z"
    }
   },
   "id": "de8defbf33d7172c"
  },
  {
   "cell_type": "code",
   "execution_count": 156,
   "outputs": [
    {
     "data": {
      "text/plain": "(True, True)"
     },
     "execution_count": 156,
     "metadata": {},
     "output_type": "execute_result"
    }
   ],
   "source": [],
   "metadata": {
    "collapsed": false,
    "ExecuteTime": {
     "end_time": "2023-11-29T22:35:58.519077800Z",
     "start_time": "2023-11-29T22:35:58.502019Z"
    }
   },
   "id": "99b86819b2e47436"
  },
  {
   "cell_type": "code",
   "execution_count": null,
   "outputs": [],
   "source": [],
   "metadata": {
    "collapsed": false
   },
   "id": "aba9b931d8aaf83d"
  },
  {
   "cell_type": "code",
   "execution_count": null,
   "outputs": [],
   "source": [],
   "metadata": {
    "collapsed": false
   },
   "id": "f5e181cf0042bea4"
  },
  {
   "cell_type": "code",
   "execution_count": null,
   "outputs": [],
   "source": [],
   "metadata": {
    "collapsed": false
   },
   "id": "9b077ca5bc4f1fe1"
  },
  {
   "cell_type": "code",
   "execution_count": null,
   "outputs": [],
   "source": [],
   "metadata": {
    "collapsed": false
   },
   "id": "fe210a1f42a6a335"
  }
 ],
 "metadata": {
  "kernelspec": {
   "display_name": "Python 3",
   "language": "python",
   "name": "python3"
  },
  "language_info": {
   "codemirror_mode": {
    "name": "ipython",
    "version": 2
   },
   "file_extension": ".py",
   "mimetype": "text/x-python",
   "name": "python",
   "nbconvert_exporter": "python",
   "pygments_lexer": "ipython2",
   "version": "2.7.6"
  }
 },
 "nbformat": 4,
 "nbformat_minor": 5
}
