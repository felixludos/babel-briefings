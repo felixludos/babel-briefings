{
 "cells": [
  {
   "cell_type": "code",
   "execution_count": 149,
   "id": "initial_id",
   "metadata": {
    "collapsed": true,
    "ExecuteTime": {
     "end_time": "2023-10-19T12:34:24.086388848Z",
     "start_time": "2023-10-19T12:34:24.003554135Z"
    }
   },
   "outputs": [],
   "source": [
    "from pathlib import Path\n",
    "import random\n",
    "import re, regex\n",
    "import pycountry\n",
    "from pycld2 import detect\n",
    "# from iso639 import languages\n",
    "from collections import Counter\n",
    "import tldextract\n",
    "from iso639 import languages\n",
    "from tqdm.notebook import tqdm\n",
    "from tabulate import tabulate\n",
    "from dateutil import parser\n",
    "from datetime import datetime\n",
    "from omnibelt import load_json, save_json"
   ]
  },
  {
   "cell_type": "code",
   "execution_count": 16,
   "outputs": [],
   "source": [
    "def show_date(date):\n",
    "\treturn date.strftime('%d %b%y')\n",
    "def get_locs(article):\n",
    "\treturn [f'{country_names[loc]}' for loc in sorted(set(i['location'] for i in article['instances']))]\n",
    "def get_cats(article):\n",
    "\treturn [f'<{cat}>' for cat in sorted(set(i['category'] for i in article['instances']))]\n",
    "def view_article(art, detailed=False):\n",
    "\tcats = ' '.join(get_cats(art))\n",
    "\tlocs = ', '.join(map(repr,get_locs(art)))\n",
    "\tif 'published' not in art:\n",
    "\t\tart['published'] = parser.parse(art['publishedAt'])\n",
    "\tfor i in art['instances']:\n",
    "\t\tif 'collected' not in i:\n",
    "\t\t\ti['collected'] = parser.parse(i['collectedAt'])\n",
    "\tfirst = min(i['collected'] for i in art['instances'])\n",
    "\tlast = max(i['collected'] for i in art['instances'])\n",
    "\ttiming = f'{show_date(first)}' if first==last else f'{show_date(first)} - {show_date(last)}'\n",
    "\tprint(f'''Title: {art['title']!r}\n",
    "Categories: {cats}   ---   {locs} ({timing})\n",
    "Published: {show_date(art['published'])}'''\n",
    "\t) # ({art['source-name']})\n",
    "\tif detailed:\n",
    "\t\tprint(f'''Description: {art['description']}''')\n",
    "\t\t# print(f'''Content: {art['content']}''')"
   ],
   "metadata": {
    "collapsed": false,
    "ExecuteTime": {
     "end_time": "2023-10-19T10:21:12.666379138Z",
     "start_time": "2023-10-19T10:21:12.593496205Z"
    }
   },
   "id": "df0899989fa76429"
  },
  {
   "cell_type": "code",
   "execution_count": 32,
   "outputs": [],
   "source": [
    "RE_BAD_CHARS = regex.compile(r\"[\\p{Cc}\\p{Cs}]+\")\n",
    "emoji_pattern = re.compile(\"[\"\n",
    "        u\"\\U0001F600-\\U0001F64F\"  # emoticons\n",
    "        u\"\\U0001F300-\\U0001F5FF\"  # symbols & pictographs\n",
    "        u\"\\U0001F680-\\U0001F6FF\"  # transport & map symbols\n",
    "        u\"\\U0001F1E0-\\U0001F1FF\"  # flags (iOS)\n",
    "                           \"]+\", flags=re.UNICODE)\n",
    "def remove_emoji(text):\n",
    "\treturn emoji_pattern.sub(r'', text)\n",
    "def remove_bad_chars(text):\n",
    "\ttext = remove_emoji(text)\n",
    "\treturn RE_BAD_CHARS.sub(\"\", text).replace('\\x93', '\"').replace('\\x94', '\"').replace('\\ufdef', '').replace('\\ufdeb', '').replace('\\U0003af61', '').replace('\\ufde2', '').replace('\\u05fc', '').replace('\\U000e3b3c', '').replace('\\u05f6', '')\n",
    "def get_lang_query(art):\n",
    "\tterms = [art['title']]\n",
    "\tif art['description']:\n",
    "\t\tterms.append(art['description'])\n",
    "\t# if art['content']:\n",
    "\t# \tterms.append(art['content'])\n",
    "\tquery = remove_bad_chars('\\n'.join(terms))\n",
    "\treturn query\n",
    "def parse_url(art):\n",
    "\treturn tldextract.extract(art['url'])\n",
    "# remove_bad_chars(\"A\\x96 bad char\")  # Cc category"
   ],
   "metadata": {
    "collapsed": false,
    "ExecuteTime": {
     "end_time": "2023-10-19T10:35:00.141094411Z",
     "start_time": "2023-10-19T10:35:00.082091694Z"
    }
   },
   "id": "9b82a533bd933a10"
  },
  {
   "cell_type": "code",
   "execution_count": 2,
   "outputs": [],
   "source": [
    "def parse_date(date: str, time: str):\n",
    "\t# date = parser.parse(date)\n",
    "\t# time = parser.parse(time)\n",
    "\tdate = datetime.strptime(date, '%y-%m-%d')\n",
    "\ttime = datetime.strptime(time, '%H-%M-%S')\n",
    "\treturn datetime(date.year, date.month, date.day, time.hour, time.minute)"
   ],
   "metadata": {
    "collapsed": false,
    "ExecuteTime": {
     "end_time": "2023-10-19T10:08:45.808213687Z",
     "start_time": "2023-10-19T10:08:45.766063913Z"
    }
   },
   "id": "a289fa64ffeeeb02"
  },
  {
   "cell_type": "code",
   "execution_count": 5,
   "outputs": [
    {
     "data": {
      "text/plain": "54"
     },
     "execution_count": 5,
     "metadata": {},
     "output_type": "execute_result"
    }
   ],
   "source": [
    "root = Path('/home/fleeb/workspace/local_data/nnn')\n",
    "recs = (root / 'global-news-headlines').glob('**/*.json')\n",
    "recs = list(recs)\n",
    "len(recs)"
   ],
   "metadata": {
    "collapsed": false,
    "ExecuteTime": {
     "end_time": "2023-10-19T10:12:35.602167988Z",
     "start_time": "2023-10-19T10:12:35.534392758Z"
    }
   },
   "id": "58994982cc499341"
  },
  {
   "cell_type": "code",
   "execution_count": 7,
   "outputs": [
    {
     "data": {
      "text/plain": "  0%|          | 0/54 [00:00<?, ?it/s]",
      "application/vnd.jupyter.widget-view+json": {
       "version_major": 2,
       "version_minor": 0,
       "model_id": "781fe8a03ade48578620c9e4cabeeef2"
      }
     },
     "metadata": {},
     "output_type": "display_data"
    },
    {
     "data": {
      "text/plain": "4719199"
     },
     "execution_count": 7,
     "metadata": {},
     "output_type": "execute_result"
    }
   ],
   "source": [
    "articles = []\n",
    "for rec in tqdm(recs):\n",
    "\tarticles.extend(load_json(rec))\n",
    "len(articles)"
   ],
   "metadata": {
    "collapsed": false,
    "ExecuteTime": {
     "end_time": "2023-10-19T10:13:31.089259251Z",
     "start_time": "2023-10-19T10:12:51.871530254Z"
    }
   },
   "id": "e6c0ccb02bd70ae0"
  },
  {
   "cell_type": "code",
   "execution_count": 8,
   "outputs": [
    {
     "data": {
      "text/plain": "  0%|          | 0/4719199 [00:00<?, ?it/s]",
      "application/vnd.jupyter.widget-view+json": {
       "version_major": 2,
       "version_minor": 0,
       "model_id": "0c69a99d77cb45e798b6c06a98cc9b27"
      }
     },
     "metadata": {},
     "output_type": "display_data"
    }
   ],
   "source": [
    "by_ID = {}\n",
    "by_loc = {}\n",
    "for article in tqdm(articles):\n",
    "\tby_ID[article['ID']] = article\n",
    "\tfor instance in article['instances']:\n",
    "\t\tby_loc.setdefault(instance['location'], []).append(article)\n",
    "country_names = {code: pycountry.countries.get(alpha_2=code.upper()).name.split(',')[0] for code in by_loc}\n",
    "clusters = {\n",
    "\t'english': {'sa', 'ie', 'sg', 'us', 'ph', 'au', 'my', 'za', 'in', 'nz', 'ca', 'gb', 'ng'}, \n",
    "\t'spanish': {'ar', 've', 'co', 'cu', 'mx'}, \n",
    "\t'arabic': {'ae', 'eg'}, \n",
    "\t'german': {'at', 'de', 'ch'}, \n",
    "\t'chinese': {'tw', 'hk', 'cn'}, \n",
    "\t'french': {'be', 'fr', 'ma'}, \n",
    "\t'portuguese': {'pt', 'br'},\n",
    "}"
   ],
   "metadata": {
    "collapsed": false,
    "ExecuteTime": {
     "end_time": "2023-10-19T10:13:32.926453989Z",
     "start_time": "2023-10-19T10:13:31.131024227Z"
    }
   },
   "id": "7c38cc653aa0f94f"
  },
  {
   "cell_type": "code",
   "execution_count": 246,
   "outputs": [
    {
     "name": "stdout",
     "output_type": "stream",
     "text": [
      "{'gb': 'United Kingdom', 'ca': 'Canada', 'za': 'South Africa', 'sa': 'Saudi Arabia', 'us': 'United States', 'ie': 'Ireland', 'my': 'Malaysia', 'nz': 'New Zealand', 'sg': 'Singapore', 'ng': 'Nigeria', 'ph': 'Philippines', 'au': 'Australia', 'in': 'India', 'ar': 'Argentina', 'mx': 'Mexico', 'co': 'Colombia', 'cu': 'Cuba', 've': 'Venezuela', 'pl': 'Poland', 'sk': 'Slovakia', 'eg': 'Egypt', 'ae': 'United Arab Emirates', 'no': 'Norway', 'at': 'Austria', 'de': 'Germany', 'ch': 'Switzerland', 'rs': 'Serbia', 'tw': 'Taiwan', 'hk': 'Hong Kong', 'cn': 'China', 'be': 'Belgium', 'ma': 'Morocco', 'fr': 'France', 'br': 'Brazil', 'th': 'Thailand', 'id': 'Indonesia', 'ru': 'Russian Federation', 'lt': 'Lithuania', 'tr': 'Turkey', 'cz': 'Czechia', 'pt': 'Portugal', 'it': 'Italy', 'lv': 'Latvia', 'nl': 'Netherlands', 'hu': 'Hungary', 'kr': 'Korea', 'si': 'Slovenia', 'ua': 'Ukraine', 'bg': 'Bulgaria', 'il': 'Israel', 'se': 'Sweden', 'jp': 'Japan', 'gr': 'Greece', 'ro': 'Romania'}\n"
     ]
    }
   ],
   "source": [
    "print(country_names)"
   ],
   "metadata": {
    "collapsed": false,
    "ExecuteTime": {
     "end_time": "2023-10-19T13:13:37.082742904Z",
     "start_time": "2023-10-19T13:13:37.002901431Z"
    }
   },
   "id": "3853a803186ed14e"
  },
  {
   "cell_type": "code",
   "execution_count": 6,
   "outputs": [
    {
     "data": {
      "text/plain": "4719199"
     },
     "execution_count": 6,
     "metadata": {},
     "output_type": "execute_result"
    }
   ],
   "source": [
    "langdet = load_json(root / 'langdetect.json')\n",
    "def get_hint(art):\n",
    "\treturn langdet.get(str(art['ID']))\n",
    "len(langdet)"
   ],
   "metadata": {
    "collapsed": false,
    "ExecuteTime": {
     "end_time": "2023-10-19T10:12:39.871986394Z",
     "start_time": "2023-10-19T10:12:37.377739289Z"
    }
   },
   "id": "406432260d2d0226"
  },
  {
   "cell_type": "code",
   "execution_count": null,
   "outputs": [],
   "source": [
    "import fasttext\n",
    "from huggingface_hub import hf_hub_download\n",
    "\n",
    "model_path = hf_hub_download(repo_id=\"facebook/fasttext-language-identification\", filename=\"model.bin\")\n",
    "model = fasttext.load_model(model_path)"
   ],
   "metadata": {
    "collapsed": false
   },
   "id": "185adf2c1eb7ac68"
  },
  {
   "cell_type": "code",
   "execution_count": 128,
   "outputs": [],
   "source": [
    "def as_batches(itr, n=50):\n",
    "\titr = iter(itr)\n",
    "\twhile True:\n",
    "\t\tbatch = []\n",
    "\t\ttry:\n",
    "\t\t\tfor _ in range(n):\n",
    "\t\t\t\tbatch.append(next(itr))\n",
    "\t\t\tyield batch\n",
    "\t\texcept StopIteration:\n",
    "\t\t\tif batch:\n",
    "\t\t\t\tyield batch\n",
    "\t\t\tbreak"
   ],
   "metadata": {
    "collapsed": false,
    "ExecuteTime": {
     "end_time": "2023-10-19T12:02:37.581135579Z",
     "start_time": "2023-10-19T12:02:37.505286990Z"
    }
   },
   "id": "e79d54e05bc4fe3a"
  },
  {
   "cell_type": "code",
   "execution_count": 134,
   "outputs": [
    {
     "data": {
      "text/plain": "  0%|          | 0/4719199 [00:00<?, ?it/s]",
      "application/vnd.jupyter.widget-view+json": {
       "version_major": 2,
       "version_minor": 0,
       "model_id": "c56392dbaa9c408abdaa91bd2b5fe3bd"
      }
     },
     "metadata": {},
     "output_type": "display_data"
    }
   ],
   "source": [
    "# ftlang = {}\n",
    "# itr = as_batches((art for art in tqdm(articles) if art['ID'] not in ftlang), n=50)\n",
    "# for batch in itr:\n",
    "# \tlabels, probs = model.predict([get_lang_query(art) for art in batch], k=2)\n",
    "# \tfor art, lbls, ps in zip(batch, labels, probs):\n",
    "# \t\tftlang[art['ID']] = dict(zip(lbls, ps.tolist()))\n",
    "# save_json(ftlang, root / 'ftlang.json')\n",
    "ftlang = {int(k): v for k,v in load_json(root / 'ftlang.json').items()}\n",
    "ftlang_pred = {k: max(v.items(), key=lambda x: x[1])[0] for k,v in ftlang.items()}"
   ],
   "metadata": {
    "collapsed": false,
    "ExecuteTime": {
     "end_time": "2023-10-19T12:23:07.336245536Z",
     "start_time": "2023-10-19T12:08:14.052782008Z"
    }
   },
   "id": "a8debab1bf5cc640"
  },
  {
   "cell_type": "code",
   "execution_count": 183,
   "outputs": [],
   "source": [
    "def label2lang(label):\n",
    "\tlang = label[9:].split('_')[0]\n",
    "\treturn languages.get(part3=lang).name"
   ],
   "metadata": {
    "collapsed": false,
    "ExecuteTime": {
     "end_time": "2023-10-19T12:52:27.840118094Z",
     "start_time": "2023-10-19T12:52:27.763532877Z"
    }
   },
   "id": "9f6e79d0b27eee78"
  },
  {
   "cell_type": "code",
   "execution_count": 182,
   "outputs": [
    {
     "name": "stdout",
     "output_type": "stream",
     "text": [
      "Label              Language                         Count\n",
      "-----------------  -----------------------------  -------\n",
      "__label__eng_Latn  English                        1092624\n",
      "__label__spa_Latn  Spanish                         453392\n",
      "__label__fra_Latn  French                          285486\n",
      "__label__yue_Hant  Yue Chinese                     267743\n",
      "__label__deu_Latn  German                          259470\n",
      "__label__por_Latn  Portuguese                      242882\n",
      "__label__arb_Arab  Standard Arabic                 178470\n",
      "__label__ita_Latn  Italian                         128449\n",
      "__label__ind_Latn  Indonesian                      128142\n",
      "__label__tur_Latn  Turkish                         122603\n",
      "__label__ell_Grek  Modern Greek (1453-)            119404\n",
      "__label__kor_Hang  Korean                          117264\n",
      "__label__pol_Latn  Polish                          117092\n",
      "__label__rus_Cyrl  Russian                         113108\n",
      "__label__jpn_Jpan  Japanese                        104758\n",
      "__label__nld_Latn  Dutch                           103880\n",
      "__label__tha_Thai  Thai                             89806\n",
      "__label__swe_Latn  Swedish                          86517\n",
      "__label__hun_Latn  Hungarian                        73530\n",
      "__label__ces_Latn  Czech                            70821\n",
      "__label__heb_Hebr  Hebrew                           67746\n",
      "__label__bul_Cyrl  Bulgarian                        67161\n",
      "__label__ukr_Cyrl  Ukrainian                        65327\n",
      "__label__ron_Latn  Romanian                         54612\n",
      "__label__nob_Latn  Norwegian Bokmål                 46001\n",
      "__label__slk_Latn  Slovak                           43139\n",
      "__label__hrv_Latn  Croatian                         40033\n",
      "__label__lvs_Latn  Standard Latvian                 40014\n",
      "__label__lit_Latn  Lithuanian                       34904\n",
      "__label__bos_Latn  Bosnian                          34464\n",
      "__label__slv_Latn  Slovenian                        33282\n",
      "__label__zho_Hans  Chinese                          22745\n",
      "__label__srp_Cyrl  Serbian                           5003\n",
      "__label__zsm_Latn  Standard Malay                    2180\n",
      "__label__zho_Hant  Chinese                           1581\n",
      "__label__nno_Latn  Norwegian Nynorsk                  925\n",
      "__label__vie_Latn  Vietnamese                         783\n",
      "__label__ast_Latn  Asturian                           442\n",
      "__label__oci_Latn  Occitan (post 1500)                431\n",
      "__label__glg_Latn  Galician                           420\n",
      "__label__dan_Latn  Danish                             351\n",
      "__label__cat_Latn  Catalan                            317\n",
      "__label__azb_Arab  South Azerbaijani                  228\n",
      "__label__bod_Tibt  Tibetan                            174\n",
      "__label__swh_Latn  Swahili (individual language)      110\n",
      "__label__ltz_Latn  Luxembourgish                      105\n",
      "__label__pcm_Latn  Nigerian Pidgin                    100\n",
      "__label__epo_Latn  Esperanto                           80\n",
      "__label__afr_Latn  Afrikaans                           73\n",
      "__label__mar_Deva  Marathi                             69\n",
      "__label__gle_Latn  Irish                               63\n",
      "__label__est_Latn  Estonian                            57\n",
      "__label__khm_Khmr  Central Khmer                       46\n",
      "__label__lmo_Latn  Lombard                             44\n",
      "__label__jav_Latn  Javanese                            34\n",
      "__label__fin_Latn  Finnish                             34\n",
      "__label__urd_Arab  Urdu                                32\n",
      "__label__min_Latn  Minangkabau                         31\n",
      "__label__san_Deva  Sanskrit                            31\n",
      "__label__lua_Latn  Luba-Lulua                          29\n",
      "__label__npi_Deva  Nepali (individual language)        26\n",
      "__label__bak_Cyrl  Bashkir                             26\n",
      "__label__eus_Latn  Basque                              24\n",
      "__label__pap_Latn  Papiamento                          23\n",
      "__label__hin_Deva  Hindi                               23\n",
      "__label__azj_Latn  North Azerbaijani                   21\n",
      "__label__xho_Latn  Xhosa                               19\n",
      "__label__hat_Latn  Haitian                             17\n",
      "__label__lim_Latn  Limburgan                           16\n",
      "__label__mkd_Cyrl  Macedonian                          15\n",
      "__label__mai_Deva  Maithili                            15\n",
      "__label__pes_Arab  Iranian Persian                     14\n",
      "__label__che_Cyrl  Chechen                             13\n",
      "__label__bjn_Latn  Banjar                              13\n",
      "__label__isl_Latn  Icelandic                           11\n",
      "__label__vec_Latn  Venetian                            11\n",
      "__label__roh_Latn  Romansh                             11\n",
      "__label__als_Latn  Tosk Albanian                       10\n",
      "__label__amh_Ethi  Amharic                             10\n",
      "__label__uig_Arab  Uighur                              10\n",
      "__label__oss_Cyrl  Ossetian                            10\n",
      "__label__lao_Laoo  Lao                                  9\n",
      "__label__krc_Cyrl  Karachay-Balkar                      9\n",
      "__label__chv_Cyrl  Chuvash                              9\n",
      "__label__ceb_Latn  Cebuano                              9\n",
      "__label__war_Latn  Waray (Philippines)                  9\n",
      "__label__tgl_Latn  Tagalog                              8\n",
      "__label__mlt_Latn  Maltese                              8\n",
      "__label__tat_Cyrl  Tatar                                8\n",
      "__label__bis_Latn  Bislama                              8\n",
      "__label__twi_Latn  Twi                                  7\n",
      "__label__sun_Latn  Sundanese                            7\n",
      "__label__zul_Latn  Zulu                                 7\n",
      "__label__scn_Latn  Sicilian                             6\n",
      "__label__tir_Ethi  Tigrinya                             6\n",
      "__label__tgk_Cyrl  Tajik                                5\n",
      "__label__uzn_Latn  Northern Uzbek                       5\n",
      "__label__sna_Latn  Shona                                4\n",
      "__label__gaz_Latn  West Central Oromo                   4\n",
      "__label__ewe_Latn  Ewe                                  4\n",
      "__label__bel_Cyrl  Belarusian                           4\n",
      "__label__sot_Latn  Southern Sotho                       4\n",
      "__label__ssw_Latn  Swati                                4\n",
      "__label__ben_Beng  Bengali                              4\n",
      "__label__kmr_Latn  Northern Kurdish                     4\n",
      "__label__kin_Latn  Kinyarwanda                          4\n",
      "__label__yor_Latn  Yoruba                               3\n",
      "__label__cym_Latn  Welsh                                3\n",
      "__label__tso_Latn  Tsonga                               3\n",
      "__label__diq_Latn  Dimli (individual language)          3\n",
      "__label__mal_Mlym  Malayalam                            3\n",
      "__label__tuk_Latn  Turkmen                              3\n",
      "__label__ace_Latn  Achinese                             2\n",
      "__label__ilo_Latn  Iloko                                2\n",
      "__label__pag_Latn  Pangasinan                           2\n",
      "__label__tel_Telu  Telugu                               2\n",
      "__label__snd_Arab  Sindhi                               2\n",
      "__label__guj_Gujr  Gujarati                             2\n",
      "__label__ydd_Hebr  Eastern Yiddish                      2\n",
      "__label__luo_Latn  Luo (Kenya and Tanzania)             1\n",
      "__label__gom_Deva  Goan Konkani                         1\n",
      "__label__ibo_Latn  Igbo                                 1\n",
      "__label__ban_Latn  Balinese                             1\n",
      "__label__umb_Latn  Umbundu                              1\n",
      "__label__kir_Cyrl  Kirghiz                              1\n",
      "__label__khk_Cyrl  Halh Mongolian                       1\n",
      "__label__tpi_Latn  Tok Pisin                            1\n",
      "__label__kat_Geor  Georgian                             1\n",
      "__label__szl_Latn  Silesian                             1\n",
      "__label__kal_Latn  Kalaallisut                          1\n",
      "__label__run_Latn  Rundi                                1\n",
      "__label__bem_Latn  Bemba (Zambia)                       1\n",
      "__label__nav_Latn  Navajo                               1\n",
      "__label__lus_Latn  Lushai                               1\n",
      "__label__fon_Latn  Fon                                  1\n",
      "__label__sin_Sinh  Sinhala                              1\n",
      "__label__mag_Deva  Magahi                               1\n",
      "__label__kab_Latn  Kabyle                               1\n",
      "__label__nus_Latn  Nuer                                 1\n",
      "__label__hye_Armn  Armenian                             1\n",
      "__label__lij_Latn  Ligurian                             1\n",
      "__label__kas_Deva  Kashmiri                             1\n",
      "__label__hau_Latn  Hausa                                1\n",
      "__label__fuv_Latn  Nigerian Fulfulde                    1\n",
      "__label__grn_Latn  Guarani                              1\n",
      "__label__wes_Latn  Cameroon Pidgin                      1\n",
      "__label__wol_Latn  Wolof                                1\n",
      "__label__mri_Latn  Maori                                1\n",
      "__label__tsn_Latn  Tswana                               1\n",
      "__label__srd_Latn  Sardinian                            1\n"
     ]
    }
   ],
   "source": [
    "labels_cnt = Counter(ftlang_pred.values())\n",
    "label_langs = [(lbl, label2lang(lbl), num) for lbl, num in labels_cnt.most_common()]\n",
    "print(tabulate(label_langs, headers=['Label', 'Language', 'Count']))"
   ],
   "metadata": {
    "collapsed": false,
    "ExecuteTime": {
     "end_time": "2023-10-19T12:52:25.823196328Z",
     "start_time": "2023-10-19T12:52:25.781270785Z"
    }
   },
   "id": "b77edbedb0c02575"
  },
  {
   "cell_type": "code",
   "execution_count": 284,
   "outputs": [
    {
     "name": "stdout",
     "output_type": "stream",
     "text": [
      "Code    Name\n",
      "------  ---------\n",
      "tw      Taiwan\n",
      "hk      Hong Kong\n",
      "cn      China\n"
     ]
    }
   ],
   "source": [
    "manlangs = {\n",
    "\t'__label__eng_Latn': {'sa', 'ie', 'sg', 'us', 'ph', 'au', 'my', 'za', 'in', 'nz', 'ca', 'gb', 'ng'}, \n",
    "\t'__label__spa_Latn': {'ar', 've', 'co', 'cu', 'mx'}, \n",
    "\t'__label__deu_Latn': {'at', 'de', 'ch'}, \n",
    "\t'__label__fra_Latn': {'be', 'fr', 'ma'}, \n",
    "\t# '__label__yue_Hant': {'tw', 'hk', 'cn'}, \n",
    "\t'__label__por_Latn': {'pt', 'br'},\n",
    "\t'__label__arb_Arab': {'ae', 'eg'}, \n",
    "\t'__label__ind_Latn': {'id'},\n",
    "\t'__label__jpn_Hani': {'jp'},\n",
    "\t'__label__kor_Hang': {'kr'},\n",
    "\t'__label__nld_Latn': {'nl'},\n",
    "\t'__label__ron_Latn': {'ro'},\n",
    "\t'__label__ita_Latn': {'it'},\n",
    "\t'__label__tur_Latn': {'tr'},\n",
    "\t'__label__rus_Cyrl': {'ru'},\n",
    "\t'__label__ukr_Cyrl': {'ua'},\n",
    "\t'__label__ell_Grek': {'gr'},\n",
    "\t'__label__bul_Cyrl': {'bg'},\n",
    "\t'__label__heb_Hebr': {'il'},\n",
    "\t'__label__pol_Latn': {'pl'},\n",
    "\t'__label__tha_Thai': {'th'},\n",
    "\t'__label__hun_Latn': {'hu'},\n",
    "\t'__label__ces_Latn': {'cz'},\n",
    "\t'__label__swe_Latn': {'se'},\n",
    "\t'__label__slk_Latn': {'sk'},\n",
    "\t'__label__nob_Latn': {'no'},\n",
    "\t'__label__lvs_Latn': {'lv'},\n",
    "\t'__label__lit_Latn': {'lt'},\n",
    "\t'__label__slv_Latn': {'si'},\n",
    "\t'__label__srp_Cyrl': {'rs'},\n",
    "}\n",
    "print(tabulate([(k,v) for k, v in country_names.items() if not any(k in langs for langs in manlangs.values())], headers=['Code', 'Name']))"
   ],
   "metadata": {
    "collapsed": false,
    "ExecuteTime": {
     "end_time": "2023-10-19T14:35:36.147390871Z",
     "start_time": "2023-10-19T14:35:36.071440171Z"
    }
   },
   "id": "72c35b3db9547bb"
  },
  {
   "cell_type": "code",
   "execution_count": 285,
   "outputs": [],
   "source": [
    "# print(tabulate([(lbl, lang, cnt) for lbl, lang, cnt in label_langs if lbl not in manlangs and cnt > 10], headers=['Label', 'Language', 'Count']))"
   ],
   "metadata": {
    "collapsed": false,
    "ExecuteTime": {
     "end_time": "2023-10-19T14:35:39.475371848Z",
     "start_time": "2023-10-19T14:35:39.413217744Z"
    }
   },
   "id": "8fd8863c184215af"
  },
  {
   "cell_type": "code",
   "execution_count": null,
   "outputs": [],
   "source": [],
   "metadata": {
    "collapsed": false
   },
   "id": "adebfb5b55f253a"
  },
  {
   "cell_type": "code",
   "execution_count": 187,
   "outputs": [
    {
     "data": {
      "text/plain": "  0%|          | 0/54 [00:00<?, ?it/s]",
      "application/vnd.jupyter.widget-view+json": {
       "version_major": 2,
       "version_minor": 0,
       "model_id": "48e003f0c73e400f8035ec6a2c08565a"
      }
     },
     "metadata": {},
     "output_type": "display_data"
    },
    {
     "data": {
      "text/plain": "54"
     },
     "execution_count": 187,
     "metadata": {},
     "output_type": "execute_result"
    }
   ],
   "source": [
    "loclangs = {loc: Counter(ftlang_pred[art['ID']] for art in arts) for loc, arts in tqdm(by_loc.items())}\n",
    "len(loclangs)"
   ],
   "metadata": {
    "collapsed": false,
    "ExecuteTime": {
     "end_time": "2023-10-19T12:55:31.592996136Z",
     "start_time": "2023-10-19T12:55:30.237454810Z"
    }
   },
   "id": "9eab316c7994a297"
  },
  {
   "cell_type": "code",
   "execution_count": 366,
   "outputs": [
    {
     "name": "stdout",
     "output_type": "stream",
     "text": [
      "Label              Language             Count\n",
      "-----------------  -----------------  -------\n",
      "__label__arb_Arab  Standard Arabic     151276\n",
      "__label__eng_Latn  English                240\n",
      "__label__yue_Hant  Yue Chinese             15\n",
      "__label__kor_Hang  Korean                   2\n",
      "__label__zho_Hant  Chinese                  2\n",
      "__label__azb_Arab  South Azerbaijani        2\n"
     ]
    }
   ],
   "source": [
    "loc = 'eg'\n",
    "print(tabulate([(lbl, label2lang(lbl), num) for lbl, num in loclangs[loc].most_common()], headers=['Label', 'Language', 'Count']))"
   ],
   "metadata": {
    "collapsed": false,
    "ExecuteTime": {
     "end_time": "2023-10-19T16:17:51.934248008Z",
     "start_time": "2023-10-19T16:17:51.847227066Z"
    }
   },
   "id": "c0134e300cfcb1e4"
  },
  {
   "cell_type": "code",
   "execution_count": 369,
   "outputs": [
    {
     "data": {
      "text/plain": "151276"
     },
     "execution_count": 369,
     "metadata": {},
     "output_type": "execute_result"
    }
   ],
   "source": [
    "most = loclangs[loc].most_common(1)[0][0]\n",
    "# selids = [art['ID'] for art in by_loc[loc] if ftlang_pred[art['ID']] != most]\n",
    "selids = [art['ID'] for art in by_loc[loc] if ftlang_pred[art['ID']] in {'__label__arb_Arab'}]\n",
    "len(selids)"
   ],
   "metadata": {
    "collapsed": false,
    "ExecuteTime": {
     "end_time": "2023-10-19T16:22:21.998751940Z",
     "start_time": "2023-10-19T16:22:21.922363603Z"
    }
   },
   "id": "6c81c2f57dc8a001"
  },
  {
   "cell_type": "code",
   "execution_count": 370,
   "outputs": [
    {
     "name": "stdout",
     "output_type": "stream",
     "text": [
      "  Index  Title\n",
      "-------  --------------------------------------------------------------------------------------------------------------------\n",
      "      0  شيماء سيف × 15 صورة من حفل زفافها وهكذا نشأت قصة الحب مع زوجها - اليوم السابع\n",
      "      1  شيماء سيف × 15 صورة من حفل زفافها وهكذا نشأت قصة الحب مع زوجها - اليوم السابع\n",
      "      2  شيماء سيف × 15 صورة من حفل زفافها وهكذا نشأت قصة الحب مع زوجها - اليوم السابع\n",
      "      3  سرقة منزل رئيس نادي الأهلي المصري - RT Arabic\n",
      "      4  سرقة منزل رئيس نادي الأهلي المصري - RT Arabic\n",
      "      5  سرقة منزل رئيس نادي الأهلي المصري - RT Arabic\n",
      "      6  85% نسبة الرطوبة.. الأرصاد تكشف تفاصيل طقس السبت - Masrawy-مصراوي\n",
      "      7  ميدو: مصطفى محمد أفضل مهاجمي مصر.. وعملي الإعلامي يجبرني على الحياد - يلا كورة\n",
      "      8  ميدو: مصطفى محمد أفضل مهاجمي مصر.. وعملي الإعلامي يجبرني على الحياد - يلا كورة\n",
      "      9  ميدو: مصطفى محمد أفضل مهاجمي مصر.. وعملي الإعلامي يجبرني على الحياد - يلا كورة\n",
      "     10  مؤتمر سيتيين: لم أفكر أبدا أن مباراة نابولي هي الأخيرة لي مع برشلونة - FilGoal.com\n",
      "     11  مؤتمر سيتيين: لم أفكر أبدا أن مباراة نابولي هي الأخيرة لي مع برشلونة - FilGoal.com\n",
      "     12  سامسونغ تكشف أخيرا عن Galaxy Z Fold 2 بمواصفات جديدة كليا - RT Arabic\n",
      "     13  سامسونغ تكشف أخيرا عن Galaxy Z Fold 2 بمواصفات جديدة كليا - RT Arabic\n",
      "     14  سامسونغ تكشف أخيرا عن Galaxy Z Fold 2 بمواصفات جديدة كليا - RT Arabic\n",
      "     15  سامسونغ تكشف أخيرا عن Galaxy Z Fold 2 بمواصفات جديدة كليا - RT Arabic\n",
      "     16  الذهب يتزحزح عن القمة.. وانخفاض طفيف للجرام بتعاملات الجمعة - Masrawy-مصراوي\n",
      "     17  الذهب يتزحزح عن القمة.. وانخفاض طفيف للجرام بتعاملات الجمعة - Masrawy-مصراوي\n",
      "     18  الجنيه لطش الدولار 3 اقلام علس سهوة - محتوى بلس\n",
      "     19  الجنيه لطش الدولار 3 اقلام علس سهوة - محتوى بلس\n",
      "     20  تنسيق الجامعات 2020 (الرابط وطرق التقديم) - Al Masry Al Youm - المصري اليوم\n",
      "     21  صدمة للمتعافين من كورونا.. احذروا هذه الحالة المرضية - المستقبل - المستقبل\n",
      "     22  صدمة للمتعافين من كورونا.. احذروا هذه الحالة المرضية - المستقبل - المستقبل\n",
      "     23  صدمة للمتعافين من كورونا.. احذروا هذه الحالة المرضية - المستقبل - المستقبل\n",
      "     24  صدمة للمتعافين من كورونا.. احذروا هذه الحالة المرضية - المستقبل - المستقبل\n",
      "     25  «كعكة المتوسط»..ماذا يعني ترسيم الحدود البحرية بين مصر واليونان حول الغاز الطبيعي؟ - Al Masry Al Youm - المصري اليوم\n",
      "     26  عودة دوري الأبطال.. موعد مباراة يوفنتوس وليون والقناة الناقلة - محتوى بلس\n",
      "     27  تقرير أمام رئيس الوزراء.. 600 ألف طلب للتصالح في مخالفات البناء.. و1.5 مليار جنيه متحصلات حتى الآن - بوابة الأهرام\n",
      "     28  مواعيد مباريات الجمعة 7 أغسطس والقناة الناقلة للموعد المنتظر بين جوارديولا وزيدان - FilGoal.com\n",
      "     29  تسريبات تكشف خاصية \"مزعجة\" في هاتف آيفون المرتقب - Sky News Arabia سكاي نيوز عربية\n",
      "     30  تسريبات تكشف خاصية \"مزعجة\" في هاتف آيفون المرتقب - Sky News Arabia سكاي نيوز عربية\n",
      "     31  تسريبات تكشف خاصية \"مزعجة\" في هاتف آيفون المرتقب - Sky News Arabia سكاي نيوز عربية\n",
      "     32  تسريبات تكشف خاصية \"مزعجة\" في هاتف آيفون المرتقب - Sky News Arabia سكاي نيوز عربية\n",
      "     33  نانسي عجرم تهاجم الحكومة اللبنانية: \"انتبهتم لحذف جملة في أغنية ونسيتوا المتفجرات\" - Masrawy-مصراوي\n",
      "     34  محمد بن سلمان: ولي العهد السعودي يواجه اتهامات بإرسال فرقة اغتيالات إلى كندا لقتل مسؤول استخباراتي سابق - BBC Arabic\n",
      "     35  ترامب يقضي على \"تيك توك\".. قرار بمنع التعاملات المالية بعد 45 يومًا - مصراوي\n",
      "     36  صحة الغربية : ارتفاع وفيات منزل المحلة المنهار إلى 8 أشخاص - بوابة الأهرام\n",
      "     37  صحة الغربية : ارتفاع وفيات منزل المحلة المنهار إلى 8 أشخاص - بوابة الأهرام\n",
      "     38  صحة الغربية : ارتفاع وفيات منزل المحلة المنهار إلى 8 أشخاص - بوابة الأهرام\n",
      "     39  أول تعليق من ريهام سعيد بعد القبض على المتحرشين - المصري اليوم\n",
      "     40  أول تعليق من ريهام سعيد بعد القبض على المتحرشين - المصري اليوم\n",
      "     41  ثروة زوكربيرغ تبلغ مستوى قياسيا - RT Arabic\n",
      "     42  الذهب يتجه لتحقيق مكاسب للأسبوع التاسع على التوالي - بوابة الأهرام\n",
      "     43  يصل 600 ألف جنيه.. تفاصيل تمويل السيارات المستعملة بمصرف أبوظبي الإسلامي - Masrawy-مصراوي\n",
      "     44  يصل 600 ألف جنيه.. تفاصيل تمويل السيارات المستعملة بمصرف أبوظبي الإسلامي - Masrawy-مصراوي\n",
      "     45  فانلة الدوري اتسرقت من الحديد النهاردة - البشاير\n",
      "     46  فانلة الدوري اتسرقت من الحديد النهاردة - البشاير\n",
      "     47  الدولار يصعد مع تجدد التوتر الأمريكي الصيني - RT Arabic\n",
      "     48  الدولار يصعد مع تجدد التوتر الأمريكي الصيني - RT Arabic\n",
      "     49  الذهب يستقر قرب مستوى قياسي مع انتعاش الدولار - البيان\n",
      "     50  كيا تستعد لإطلاق نموذج مطور من سيارات Soul الشهيرة - RT Arabic\n",
      "     51  كيا تستعد لإطلاق نموذج مطور من سيارات Soul الشهيرة - RT Arabic\n",
      "     52  كيا تستعد لإطلاق نموذج مطور من سيارات Soul الشهيرة - RT Arabic\n",
      "     53  عندك أسئلة محيراك عن حال الذهب واسعاره اليومين دول..جبنالك الاجابات - محتوى بلس\n",
      "     54  عندك أسئلة محيراك عن حال الذهب واسعاره اليومين دول..جبنالك الاجابات - محتوى بلس\n",
      "     55  عندك أسئلة محيراك عن حال الذهب واسعاره اليومين دول..جبنالك الاجابات - محتوى بلس\n",
      "     56  \"رويترز\" تسحب تقريرا بخصوص إرسال الولايات المتحدة أول شحنة من النفط إلى السعودية - RT Arabic\n",
      "     57  \"رويترز\" تسحب تقريرا بخصوص إرسال الولايات المتحدة أول شحنة من النفط إلى السعودية - RT Arabic\n",
      "     58  بمناسبة يوم الشباب .. البنوك تطلق مبادرات لفتح حسابات للأفراد بدون مصاريف الأحد المقبل - أموال الغد\n",
      "     59  بمناسبة يوم الشباب .. البنوك تطلق مبادرات لفتح حسابات للأفراد بدون مصاريف الأحد المقبل - أموال الغد\n",
      "     60  بعد إعلان بيعه...جوجل تعلن توقف طرح Pixel 4 وPixel 4 XL - محتوى بلس\n",
      "     61  بعد إعلان بيعه...جوجل تعلن توقف طرح Pixel 4 وPixel 4 XL - محتوى بلس\n",
      "     62  أخيرًا أندرويد 11 نزل بشكل رسمي لبعض الهواتف - ArabFive\n",
      "     63  أخيرًا أندرويد 11 نزل بشكل رسمي لبعض الهواتف - ArabFive\n",
      "     64  أخيرًا أندرويد 11 نزل بشكل رسمي لبعض الهواتف - ArabFive\n",
      "     65  أخيرًا أندرويد 11 نزل بشكل رسمي لبعض الهواتف - ArabFive\n",
      "     66  أخيرًا أندرويد 11 نزل بشكل رسمي لبعض الهواتف - ArabFive\n",
      "     67  أخيرًا أندرويد 11 نزل بشكل رسمي لبعض الهواتف - ArabFive\n",
      "     68  شهر 7 كان نار في اسعار السيارات..تعرف على المنيو كاملة - ArabFive\n",
      "     69  شهر 7 كان نار في اسعار السيارات..تعرف على المنيو كاملة - ArabFive\n",
      "     70  ميزة في تطبيق واتساب WhatsApp جديدة طال انتظارها - نجوم مصرية\n",
      "     71  ميزة في تطبيق واتساب WhatsApp جديدة طال انتظارها - نجوم مصرية\n",
      "     72  ميزة في تطبيق واتساب WhatsApp جديدة طال انتظارها - نجوم مصرية\n",
      "     73  ميزة في تطبيق واتساب WhatsApp جديدة طال انتظارها - نجوم مصرية\n",
      "     74  الليرة التركية تهبط إلى أدنى مستوى في تاريخها - Sky News Arabia سكاي نيوز عربية\n",
      "     75  \"مفاجآت صيف دبي\" تقدم أسبوعاً خالياً من ضريبة القيمة المضافة - الاقتصادي\n",
      "     76  \"مفاجآت صيف دبي\" تقدم أسبوعاً خالياً من ضريبة القيمة المضافة - الاقتصادي\n",
      "     77  بعد خسارة صدارة الهواتف الذكية لـ«هواوي»... «سامسونغ» تكشف منتجاتها الجديدة - الشرق الاوسط Asharq Al-awsat\n",
      "     78  بعد خسارة صدارة الهواتف الذكية لـ«هواوي»... «سامسونغ» تكشف منتجاتها الجديدة - الشرق الاوسط Asharq Al-awsat\n",
      "     79  منذ أكثر من عقد.. الولايات المتحدة ترسل أول شحنة من النفط إلى السعودية - RT Arabic\n",
      "     80  منذ أكثر من عقد.. الولايات المتحدة ترسل أول شحنة من النفط إلى السعودية - RT Arabic\n",
      "     81  مصر.. النيابة تصدر قرارا نهائيا بشأن المتهمين بالتحرش بالإعلامية ريهام سعيد - RT Arabic\n",
      "     82  في لفتة إنسانية .. أحمد عز يقف دقيقة حداد علي شهداء بيروت في عرض مسرحيته - شاهد - البشاير\n",
      "     83  في لفتة إنسانية .. أحمد عز يقف دقيقة حداد علي شهداء بيروت في عرض مسرحيته - شاهد - البشاير\n",
      "     84  مصر.. ابنة عمرو دياب تثير الجدل بعد نشرها صورا جريئة - RT Arabic\n",
      "     85  شهيرة بعد شائعات مرض محمود ياسين: مش عايزه أشوف خلقة حد - اليوم السابع\n",
      "     86  شهيرة بعد شائعات مرض محمود ياسين: مش عايزه أشوف خلقة حد - اليوم السابع\n",
      "     87  شهيرة بعد شائعات مرض محمود ياسين: مش عايزه أشوف خلقة حد - اليوم السابع\n",
      "     88  شهيرة بعد شائعات مرض محمود ياسين: مش عايزه أشوف خلقة حد - اليوم السابع\n",
      "     89  شهيرة بعد شائعات مرض محمود ياسين: مش عايزه أشوف خلقة حد - اليوم السابع\n",
      "     90  فاروق فلوكس يتعرض لوعكة صحية.. وأحمد فلوكس: تقوم وتخرج لنا بالسلامة - اليوم السابع\n",
      "     91  فاروق فلوكس يتعرض لوعكة صحية.. وأحمد فلوكس: تقوم وتخرج لنا بالسلامة - اليوم السابع\n",
      "     92  تعرف على فنانة شاركت إسماعيل ياسين فى 11 فيلما.. شهرتها رفيعة هانم - اليوم السابع\n",
      "     93  مات فجأة.. قصة رحيل حسن الأسمر المأساوية في ذكراه - Sada El-Bald صدى البلد\n",
      "     94  مات فجأة.. قصة رحيل حسن الأسمر المأساوية في ذكراه - Sada El-Bald صدى البلد\n",
      "     95  إليسا عن تريند \"أنا بفتخر برئيسى\": استحوا بقى.. هل فى سبب لنفتخر به؟ - اليوم السابع\n",
      "     96  إليسا عن تريند \"أنا بفتخر برئيسى\": استحوا بقى.. هل فى سبب لنفتخر به؟ - اليوم السابع\n",
      "     97  قدمت دور الأم قبل كريمة مختار فى العيال كبرت ونحتفل بذكرى ميلادها اليوم.. من هى؟ - اليوم السابع\n",
      "     98  قدمت دور الأم قبل كريمة مختار فى العيال كبرت ونحتفل بذكرى ميلادها اليوم.. من هى؟ - اليوم السابع\n",
      "     99  فيديو| ماذا فعل آسر ياسين عند رؤيته محمد رمضان؟ - Masrawy-مصراوي\n"
     ]
    }
   ],
   "source": [
    "print(tabulate(enumerate([by_ID[ID]['title'] for ID in selids[:100]]), headers=['Index', 'Title']))"
   ],
   "metadata": {
    "collapsed": false,
    "ExecuteTime": {
     "end_time": "2023-10-19T16:22:27.527993330Z",
     "start_time": "2023-10-19T16:22:27.466067056Z"
    }
   },
   "id": "cbe6ade27daea198"
  },
  {
   "cell_type": "code",
   "execution_count": 334,
   "outputs": [
    {
     "name": "stdout",
     "output_type": "stream",
     "text": [
      "Title: 'Mercedes-Benz CES 2021 keynote in 6 minutes - Engadget'\n",
      "Categories: <business> <technology>   ---   'India', 'Saudi Arabia', 'United States' (12 Jan21 - 13 Jan21)\n",
      "Published: 11 Jan21\n",
      "Description: Get More Engadget: • Like us on Facebook: http://www.facebook.com/engadget• Follow us on Twitter: http://www.twitter.com/engadget• Follow us on Instagram: ht...\n",
      "{'__label__yue_Hant': 0.9519753456115723, '__label__kor_Hang': 0.01803664304316044}\n"
     ]
    }
   ],
   "source": [
    "ID = random.choice(selids)\n",
    "art = by_ID[ID]\n",
    "view_article(art, detailed=True)\n",
    "print(ftlang[ID])"
   ],
   "metadata": {
    "collapsed": false,
    "ExecuteTime": {
     "end_time": "2023-10-19T14:52:22.614822669Z",
     "start_time": "2023-10-19T14:52:22.611040328Z"
    }
   },
   "id": "af58dcc943ef0d80"
  },
  {
   "cell_type": "code",
   "execution_count": 235,
   "outputs": [
    {
     "name": "stdout",
     "output_type": "stream",
     "text": [
      "https://news.google.com/__i/rss/rd/articles/CBMiK2h0dHBzOi8vd3d3LnlvdXR1YmUuY29tL3dhdGNoP3Y9cEZHa3pUNUkxRlnSAQA?oc=5\n"
     ]
    }
   ],
   "source": [
    "print(art['url'])"
   ],
   "metadata": {
    "collapsed": false,
    "ExecuteTime": {
     "end_time": "2023-10-19T13:09:15.155442142Z",
     "start_time": "2023-10-19T13:09:15.075671345Z"
    }
   },
   "id": "1dc0cc11312367db"
  },
  {
   "cell_type": "code",
   "execution_count": 147,
   "outputs": [
    {
     "data": {
      "text/plain": "('ko', 'cc')"
     },
     "execution_count": 147,
     "metadata": {},
     "output_type": "execute_result"
    }
   ],
   "source": [
    "hint = langdet.get(str(ID))\n",
    "tld = parse_url(art).suffix\n",
    "hint, tld"
   ],
   "metadata": {
    "collapsed": false,
    "ExecuteTime": {
     "end_time": "2023-10-19T12:31:33.233345930Z",
     "start_time": "2023-10-19T12:31:33.120546243Z"
    }
   },
   "id": "d32f356faa8ad77c"
  },
  {
   "cell_type": "code",
   "execution_count": 148,
   "outputs": [
    {
     "name": "stdout",
     "output_type": "stream",
     "text": [
      "陳伶俐半山過億獨立屋曝光全雲石設計夠奢華 - on.cc東網藝人陳伶俐與音樂人林敏驄離婚後，於2012年帶着兩子改嫁新加坡隱形富豪胡嘉烈嘅後人劉頌銘，其後再為老公誕下一子，過着幸福\n"
     ]
    },
    {
     "data": {
      "text/plain": "(True,\n 240,\n (('ChineseT', 'zh-Hant', 96, 1901.0),\n  ('Unknown', 'un', 0, 0.0),\n  ('Unknown', 'un', 0, 0.0)))"
     },
     "execution_count": 148,
     "metadata": {},
     "output_type": "execute_result"
    }
   ],
   "source": [
    "query = get_lang_query(art)\n",
    "print(query)\n",
    "detect(get_lang_query(art), hintLanguage=hint, hintTopLevelDomain=tld)"
   ],
   "metadata": {
    "collapsed": false,
    "ExecuteTime": {
     "end_time": "2023-10-19T12:31:34.800068738Z",
     "start_time": "2023-10-19T12:31:34.795144929Z"
    }
   },
   "id": "7d9f8a36c31b79e0"
  },
  {
   "cell_type": "code",
   "execution_count": null,
   "outputs": [],
   "source": [],
   "metadata": {
    "collapsed": false
   },
   "id": "ae702b96f43c11b"
  },
  {
   "cell_type": "code",
   "execution_count": 12,
   "outputs": [
    {
     "data": {
      "text/plain": "  0%|          | 0/4719199 [00:00<?, ?it/s]",
      "application/vnd.jupyter.widget-view+json": {
       "version_major": 2,
       "version_minor": 0,
       "model_id": "ff505845f6f946f7aedc46a6b35e9363"
      }
     },
     "metadata": {},
     "output_type": "display_data"
    }
   ],
   "source": [
    "langs = {}\n",
    "bad = {}\n",
    "itr = tqdm(articles)\n",
    "for art in itr:\n",
    "\tif art['ID'] not in langs and art['ID'] not in bad:\n",
    "\t\tquery = get_lang_query(art)\n",
    "\t\thint = langdet.get(str(art['ID']))\n",
    "\t\ttld = parse_url(art).suffix\n",
    "\t\tquery = get_lang_query(art)\n",
    "\t\t# ok, _, preds = detect(query, hintLanguage=hint, hintTopLevelDomain=tld)\n",
    "\t\tok, _, preds = detect(query)\n",
    "\t\t_, code, conf, _ = max(preds, key=lambda x: (x[2],x[3]))\n",
    "\t\tif not ok or conf < 50:\n",
    "\t\t\tbad[art['ID']] = (query, ok, preds)\n",
    "\t\telse:\n",
    "\t\t\tlangs[art['ID']] = code\n",
    "len(langs), len(bad)"
   ],
   "metadata": {
    "collapsed": false,
    "ExecuteTime": {
     "end_time": "2023-10-19T10:17:39.601942230Z",
     "start_time": "2023-10-19T10:16:01.215642533Z"
    }
   },
   "id": "c25f9b769af10b99"
  },
  {
   "cell_type": "code",
   "execution_count": 15,
   "outputs": [
    {
     "data": {
      "text/plain": "184649"
     },
     "execution_count": 15,
     "metadata": {},
     "output_type": "execute_result"
    }
   ],
   "source": [
    "bad_ids = list(bad)\n",
    "len(bad_ids)"
   ],
   "metadata": {
    "collapsed": false,
    "ExecuteTime": {
     "end_time": "2023-10-19T10:20:22.774872825Z",
     "start_time": "2023-10-19T10:20:22.675982657Z"
    }
   },
   "id": "8be0c2178b60b81b"
  },
  {
   "cell_type": "code",
   "execution_count": 102,
   "outputs": [
    {
     "name": "stdout",
     "output_type": "stream",
     "text": [
      "Title: 'Cosquín Rock Festival Online: comenzó la primera jornada de shows en vivo por streaming - LA NACION'\n",
      "Categories: <entertainment> <general>   ---   'Argentina' (09 Aug20)\n",
      "Published: 09 Aug20\n"
     ]
    }
   ],
   "source": [
    "ID = random.choice(bad_ids)\n",
    "ID = 17756\n",
    "art = by_ID[ID]\n",
    "view_article(art)"
   ],
   "metadata": {
    "collapsed": false,
    "ExecuteTime": {
     "end_time": "2023-10-19T11:45:21.467848192Z",
     "start_time": "2023-10-19T11:45:21.401092029Z"
    }
   },
   "id": "311ad2a3bae96891"
  },
  {
   "cell_type": "code",
   "execution_count": 104,
   "outputs": [
    {
     "data": {
      "text/plain": "'en'"
     },
     "execution_count": 104,
     "metadata": {},
     "output_type": "execute_result"
    }
   ],
   "source": [
    "hardest[ID]"
   ],
   "metadata": {
    "collapsed": false,
    "ExecuteTime": {
     "end_time": "2023-10-19T11:45:42.497036035Z",
     "start_time": "2023-10-19T11:45:42.460091081Z"
    }
   },
   "id": "760abeb44a8240c0"
  },
  {
   "cell_type": "code",
   "execution_count": 105,
   "outputs": [
    {
     "data": {
      "text/plain": "('es', 'com.ar')"
     },
     "execution_count": 105,
     "metadata": {},
     "output_type": "execute_result"
    }
   ],
   "source": [
    "hint = langdet.get(str(ID))\n",
    "tld = parse_url(art).suffix\n",
    "hint, tld"
   ],
   "metadata": {
    "collapsed": false,
    "ExecuteTime": {
     "end_time": "2023-10-19T11:46:14.043209974Z",
     "start_time": "2023-10-19T11:46:13.974536623Z"
    }
   },
   "id": "5fb854d867cd1d21"
  },
  {
   "cell_type": "code",
   "execution_count": 109,
   "outputs": [
    {
     "name": "stdout",
     "output_type": "stream",
     "text": [
      "Cosquín Rock Festival Online: comenzó la primera jornada de shows en vivo por streaming - LA NACION\n"
     ]
    },
    {
     "data": {
      "text/plain": "(False,\n 100,\n (('Unknown', 'un', 0, 0.0),\n  ('Unknown', 'un', 0, 0.0),\n  ('Unknown', 'un', 0, 0.0)))"
     },
     "execution_count": 109,
     "metadata": {},
     "output_type": "execute_result"
    }
   ],
   "source": [
    "query = get_lang_query(art)\n",
    "print(query)\n",
    "detect(get_lang_query(art), hintLanguage=hint, hintTopLevelDomain=tld)"
   ],
   "metadata": {
    "collapsed": false,
    "ExecuteTime": {
     "end_time": "2023-10-19T11:47:22.175982727Z",
     "start_time": "2023-10-19T11:47:22.106851365Z"
    }
   },
   "id": "7803669e218d2a8c"
  },
  {
   "cell_type": "code",
   "execution_count": 114,
   "outputs": [
    {
     "data": {
      "text/plain": "(False,\n 100,\n (('Unknown', 'un', 0, 0.0),\n  ('Unknown', 'un', 0, 0.0),\n  ('Unknown', 'un', 0, 0.0)))"
     },
     "execution_count": 114,
     "metadata": {},
     "output_type": "execute_result"
    }
   ],
   "source": [
    "detect(query, hintLanguage='es', hintTopLevelDomain='ar')"
   ],
   "metadata": {
    "collapsed": false,
    "ExecuteTime": {
     "end_time": "2023-10-19T11:48:51.542131702Z",
     "start_time": "2023-10-19T11:48:51.505405638Z"
    }
   },
   "id": "34552a96729bc48b"
  },
  {
   "cell_type": "code",
   "execution_count": 121,
   "outputs": [],
   "source": [
    "# import fasttext\n",
    "# model = fasttext.load_model('lid.176.ftz')"
   ],
   "metadata": {
    "collapsed": false,
    "ExecuteTime": {
     "end_time": "2023-10-19T11:55:43.328065598Z",
     "start_time": "2023-10-19T11:55:43.255696346Z"
    }
   },
   "id": "27e16ccd64080641"
  },
  {
   "cell_type": "code",
   "execution_count": null,
   "outputs": [],
   "source": [
    "print(model.predict(query, k=2))  # top 2 matching languages"
   ],
   "metadata": {
    "collapsed": false
   },
   "id": "b8bac47793e1756b"
  },
  {
   "cell_type": "code",
   "execution_count": 116,
   "outputs": [],
   "source": [
    "import fasttext\n",
    "from huggingface_hub import hf_hub_download"
   ],
   "metadata": {
    "collapsed": false,
    "ExecuteTime": {
     "end_time": "2023-10-19T11:51:55.643866257Z",
     "start_time": "2023-10-19T11:51:55.577013189Z"
    }
   },
   "id": "ddf61b9646637b0b"
  },
  {
   "cell_type": "code",
   "execution_count": 117,
   "outputs": [
    {
     "data": {
      "text/plain": "Downloading model.bin:   0%|          | 0.00/1.18G [00:00<?, ?B/s]",
      "application/vnd.jupyter.widget-view+json": {
       "version_major": 2,
       "version_minor": 0,
       "model_id": "ed74747979814105ba15064e3285555d"
      }
     },
     "metadata": {},
     "output_type": "display_data"
    },
    {
     "name": "stderr",
     "output_type": "stream",
     "text": [
      "Warning : `load_model` does not return WordVectorModel or SupervisedModel any more, but a `FastText` object which is very similar.\n"
     ]
    }
   ],
   "source": [
    "model_path = hf_hub_download(repo_id=\"facebook/fasttext-language-identification\", filename=\"model.bin\")\n",
    "model = fasttext.load_model(model_path)"
   ],
   "metadata": {
    "collapsed": false,
    "ExecuteTime": {
     "end_time": "2023-10-19T11:52:22.288447722Z",
     "start_time": "2023-10-19T11:52:08.538712947Z"
    }
   },
   "id": "7af662f5d3182c94"
  },
  {
   "cell_type": "code",
   "execution_count": 123,
   "outputs": [
    {
     "data": {
      "text/plain": "{'__label__spa_Latn': 0.9478647112846375,\n '__label__cat_Latn': 0.035578981041908264}"
     },
     "execution_count": 123,
     "metadata": {},
     "output_type": "execute_result"
    }
   ],
   "source": [
    "labels, probs = model.predict(query, k=2)\n",
    "dict(zip(labels, probs.tolist()))"
   ],
   "metadata": {
    "collapsed": false,
    "ExecuteTime": {
     "end_time": "2023-10-19T11:57:54.348431985Z",
     "start_time": "2023-10-19T11:57:54.272713309Z"
    }
   },
   "id": "90a98088bb0888a7"
  },
  {
   "cell_type": "code",
   "execution_count": 127,
   "outputs": [
    {
     "data": {
      "text/plain": "([['__label__eng_Latn'], ['__label__pol_Latn']],\n [array([1.00001], dtype=float32), array([1.0000077], dtype=float32)])"
     },
     "execution_count": 127,
     "metadata": {},
     "output_type": "execute_result"
    }
   ],
   "source": [
    "model.predict(['This is a test', query])"
   ],
   "metadata": {
    "collapsed": false,
    "ExecuteTime": {
     "end_time": "2023-10-19T12:01:16.462552328Z",
     "start_time": "2023-10-19T12:01:16.376269843Z"
    }
   },
   "id": "a0538eeb90b8e4c3"
  },
  {
   "cell_type": "code",
   "execution_count": null,
   "outputs": [],
   "source": [],
   "metadata": {
    "collapsed": false
   },
   "id": "324dc0369209e99f"
  },
  {
   "cell_type": "code",
   "execution_count": 120,
   "outputs": [],
   "source": [
    "model"
   ],
   "metadata": {
    "collapsed": false,
    "ExecuteTime": {
     "end_time": "2023-10-19T11:53:08.642709598Z",
     "start_time": "2023-10-19T11:53:08.534546589Z"
    }
   },
   "id": "1af69d9ff5410a50"
  },
  {
   "cell_type": "code",
   "execution_count": null,
   "outputs": [],
   "source": [],
   "metadata": {
    "collapsed": false
   },
   "id": "73f2c07eeeb17a55"
  },
  {
   "cell_type": "code",
   "execution_count": 49,
   "outputs": [],
   "source": [
    "bad_todo = bad_ids\n",
    "hard = {}\n",
    "still_bad = {}"
   ],
   "metadata": {
    "collapsed": false,
    "ExecuteTime": {
     "end_time": "2023-10-19T10:41:24.663168703Z",
     "start_time": "2023-10-19T10:41:24.644630334Z"
    }
   },
   "id": "bc5c026e5b1e0e36"
  },
  {
   "cell_type": "code",
   "execution_count": 59,
   "outputs": [
    {
     "data": {
      "text/plain": "  0%|          | 0/100853 [00:00<?, ?it/s]",
      "application/vnd.jupyter.widget-view+json": {
       "version_major": 2,
       "version_minor": 0,
       "model_id": "58909175cf944843a4532298c7af577f"
      }
     },
     "metadata": {},
     "output_type": "display_data"
    },
    {
     "data": {
      "text/plain": "(84220, 100429)"
     },
     "execution_count": 59,
     "metadata": {},
     "output_type": "execute_result"
    }
   ],
   "source": [
    "for ID in tqdm(bad_todo):\n",
    "\tart = by_ID[ID]\n",
    "\thint = langdet.get(str(ID))\n",
    "\ttld = parse_url(art).suffix\n",
    "\tquery = get_lang_query(art)\n",
    "\tok, _, preds = detect(query, hintLanguage=hint, hintTopLevelDomain=tld)\n",
    "\t# ok, _, preds = detect(query, hintTopLevelDomain=tld)\n",
    "\t_, code, conf, _ = max(preds, key=lambda x: (x[2],x[3]))\n",
    "\tif not ok:\n",
    "\t\tstill_bad[art['ID']] = (query, ok, preds)\n",
    "\telse:\n",
    "\t\thard[art['ID']] = code\n",
    "len(hard), len(still_bad)"
   ],
   "metadata": {
    "collapsed": false,
    "ExecuteTime": {
     "end_time": "2023-10-19T10:46:09.465278957Z",
     "start_time": "2023-10-19T10:46:06.375599202Z"
    }
   },
   "id": "ca7a404cc528bb0"
  },
  {
   "cell_type": "code",
   "execution_count": 58,
   "outputs": [],
   "source": [
    "bad_todo = still_bad\n",
    "prev_bad = still_bad\n",
    "still_bad = {}"
   ],
   "metadata": {
    "collapsed": false,
    "ExecuteTime": {
     "end_time": "2023-10-19T10:45:56.241619774Z",
     "start_time": "2023-10-19T10:45:56.175624817Z"
    }
   },
   "id": "abaadefcd3a04e3f"
  },
  {
   "cell_type": "code",
   "execution_count": 66,
   "outputs": [
    {
     "data": {
      "text/plain": "100853"
     },
     "execution_count": 66,
     "metadata": {},
     "output_type": "execute_result"
    }
   ],
   "source": [
    "len(bad_todo)"
   ],
   "metadata": {
    "collapsed": false,
    "ExecuteTime": {
     "end_time": "2023-10-19T10:48:39.927361747Z",
     "start_time": "2023-10-19T10:48:39.869045018Z"
    }
   },
   "id": "9cbe62e2dadc048"
  },
  {
   "cell_type": "code",
   "execution_count": 68,
   "outputs": [
    {
     "data": {
      "text/plain": "  0%|          | 0/4719199 [00:00<?, ?it/s]",
      "application/vnd.jupyter.widget-view+json": {
       "version_major": 2,
       "version_minor": 0,
       "model_id": "baac99ecd9614b2293e3e0cbaebd09a1"
      }
     },
     "metadata": {},
     "output_type": "display_data"
    }
   ],
   "source": [
    "loc2lang = {}\n",
    "for a in tqdm(articles):\n",
    "\tlang = langs.get(a['ID'])\n",
    "\tif lang:\n",
    "\t\tfor i in a['instances']:\n",
    "\t\t\tloc2lang.setdefault(i['location'], []).append(lang)\n",
    "loc2lang = {k: Counter(v) for k,v in loc2lang.items()}"
   ],
   "metadata": {
    "collapsed": false,
    "ExecuteTime": {
     "end_time": "2023-10-19T10:52:00.025454133Z",
     "start_time": "2023-10-19T10:51:57.539796338Z"
    }
   },
   "id": "778b8f637546f3fe"
  },
  {
   "cell_type": "code",
   "execution_count": 75,
   "outputs": [],
   "source": [
    "badder_todo = bad_todo\n",
    "hardest = {}\n",
    "baddest = []"
   ],
   "metadata": {
    "collapsed": false,
    "ExecuteTime": {
     "end_time": "2023-10-19T10:57:09.399006161Z",
     "start_time": "2023-10-19T10:57:09.351829168Z"
    }
   },
   "id": "3800e48211331768"
  },
  {
   "cell_type": "code",
   "execution_count": 76,
   "outputs": [
    {
     "data": {
      "text/plain": "  0%|          | 0/100853 [00:00<?, ?it/s]",
      "application/vnd.jupyter.widget-view+json": {
       "version_major": 2,
       "version_minor": 0,
       "model_id": "d5612410297347edbde04007c684a6e1"
      }
     },
     "metadata": {},
     "output_type": "display_data"
    },
    {
     "data": {
      "text/plain": "(38395, 62458)"
     },
     "execution_count": 76,
     "metadata": {},
     "output_type": "execute_result"
    }
   ],
   "source": [
    "for ID in tqdm(badder_todo):\n",
    "\tart = by_ID[ID]\n",
    "\t\n",
    "\thints = Counter()\n",
    "\tfor i in art['instances']:\n",
    "\t\thints.update(loc2lang[i['location']])\n",
    "\t\n",
    "\tquery = get_lang_query(art)\n",
    "\tfor hint, _ in hints.most_common():\n",
    "\t\tok, _, preds = detect(query, hintLanguage=hint)\n",
    "\t\t# ok, _, preds = detect(query, hintTopLevelDomain=tld)\n",
    "\t\t_, code, conf, _ = max(preds, key=lambda x: (x[2],x[3]))\n",
    "\t\tif ok:\n",
    "\t\t\thardest[art['ID']] = code\n",
    "\t\t\tbreak\n",
    "\telse:\n",
    "\t\tbaddest.append(art['ID'])\n",
    "len(hardest), len(baddest)"
   ],
   "metadata": {
    "collapsed": false,
    "ExecuteTime": {
     "end_time": "2023-10-19T10:57:21.594697905Z",
     "start_time": "2023-10-19T10:57:11.368966027Z"
    }
   },
   "id": "133e81256800f819"
  },
  {
   "cell_type": "code",
   "execution_count": 86,
   "outputs": [
    {
     "name": "stdout",
     "output_type": "stream",
     "text": [
      "Location      Count\n",
      "----------  -------\n",
      "hk             9160\n",
      "ru             7420\n",
      "gr             6393\n",
      "jp             6230\n",
      "tw             5975\n",
      "cu             5922\n",
      "cn             5684\n",
      "kr             5669\n",
      "mx             4018\n",
      "co             3847\n",
      "ve             3622\n",
      "ar             3080\n",
      "id             2438\n",
      "bg             2091\n",
      "it             1988\n",
      "il             1862\n",
      "br             1861\n",
      "pt             1690\n",
      "ua             1607\n",
      "rs             1206\n",
      "th             1194\n",
      "ma             1117\n",
      "at              670\n",
      "be              658\n",
      "se              569\n",
      "ae              542\n",
      "fr              471\n",
      "de              430\n",
      "no              409\n",
      "si              381\n",
      "eg              371\n",
      "nl              318\n",
      "ro              291\n",
      "ch              212\n",
      "tr              195\n",
      "pl              137\n",
      "ph              113\n",
      "hu              112\n",
      "sk              103\n",
      "au               91\n",
      "ng               89\n",
      "in               84\n",
      "cz               71\n",
      "ca               57\n",
      "za               47\n",
      "sa               40\n",
      "my               37\n",
      "sg               35\n",
      "us               34\n",
      "ie               28\n",
      "nz               27\n",
      "gb               23\n",
      "lt               20\n",
      "lv               14\n"
     ]
    }
   ],
   "source": [
    "bad_locs = Counter([i['location'] for ID in baddest for i in by_ID[ID]['instances']])\n",
    "print(tabulate(bad_locs.most_common(), headers=['Location', 'Count']))"
   ],
   "metadata": {
    "collapsed": false,
    "ExecuteTime": {
     "end_time": "2023-10-19T10:59:51.952385128Z",
     "start_time": "2023-10-19T10:59:51.886536297Z"
    }
   },
   "id": "29bb3f3beb12b651"
  },
  {
   "cell_type": "code",
   "execution_count": 96,
   "outputs": [],
   "source": [
    "loc = 'ro'"
   ],
   "metadata": {
    "collapsed": false,
    "ExecuteTime": {
     "end_time": "2023-10-19T11:43:14.167093193Z",
     "start_time": "2023-10-19T11:43:14.092452819Z"
    }
   },
   "id": "79ee09a04f195787"
  },
  {
   "cell_type": "code",
   "execution_count": 97,
   "outputs": [
    {
     "name": "stdout",
     "output_type": "stream",
     "text": [
      "Language      Count\n",
      "----------  -------\n",
      "ro            81476\n",
      "en              264\n",
      "es                3\n",
      "ie                3\n",
      "it                2\n"
     ]
    }
   ],
   "source": [
    "print(tabulate(loc2lang[loc].most_common(), headers=['Language', 'Count']))"
   ],
   "metadata": {
    "collapsed": false,
    "ExecuteTime": {
     "end_time": "2023-10-19T11:43:15.002775967Z",
     "start_time": "2023-10-19T11:43:14.998534422Z"
    }
   },
   "id": "453dcb1ca39df7a3"
  },
  {
   "cell_type": "code",
   "execution_count": 99,
   "outputs": [
    {
     "name": "stdout",
     "output_type": "stream",
     "text": [
      "  Index  Title\n",
      "-------  ------------------------------------------------------------------------------------------------------------------------------------------------------------------------------------------------------------------\n",
      "      0  Cum a reacționat soția lui Bill Gates la donația bossului Facebook - Click!\n",
      "      1  SIMONA HALEP - PATRICIA HERCOG LIVE SCORE la Praga, primul tur - DCNews\n",
      "      2  OFICIAL | Villarreal l-a transferat pe căpitanul Valenciei! Unai Emery visează la un nou trofeu Europa League - DigiSport\n",
      "      3  Hyundai Kona Electric, record de autonomie. Câți kilometri a parcurs? - ProMotor\n",
      "      4  LIVE VIDEO Irina Begu - Leonie Kung și Ana Bogdan - Kristyna Pliskova, de la 12:00, pe Digi Sport 1 și Digi Sport 2 - DigiSport\n",
      "      5  Evenimente - Prahova\n",
      "      6  OnePlus va rula pe smartphone-ul bugetar cu Qualcomm Snapdragon 460 la bord: Gadget.ro - stil de viață hi-tech - ProRally.ro\n",
      "      7  UTA - FC Voluntari 0-0 - ARADON - Aradon\n",
      "      8  ”Un vis devenit realitate”. Alex Pașcanu, entuziasmat de colaborarea cu Adrian Mutu de la naționala de tineret - DigiSport\n",
      "      9  Cine este Shkendija, adversara lui FC Botoșani din turul 2 preliminar al Europa League - DigiSport\n",
      "     10  Lenovo Yoga 9i e laptopul premium pentru multimedia cu design - start-up.ro\n",
      "     11  Cum arata Adele in costum de baie. Imaginea cu care si-a uimit fanii - Ziare.com\n",
      "     12  Finlanda U21 - Romania U21, LIVE pe PRO TV si SPORT.RO, de la 19:00! Start pentru Adi Mutu pe banca nationalei U21: echipele probabile - SPORT.RO\n",
      "     13  Romania - Irlanda de Nord, LIVE pe PRO TV si SPORT.RO, de la 21:45! Tricolorii si-au ales numerele de pe tricou! Mirel Radoi debuteaza pe banca echipei nationale: echipe probabile - SPORT.RO\n",
      "     14  Noutățile software aduse de One UI 2.5 pe Samsung GALAXY S10, S10 Plus și S10e - Gadget.ro\n",
      "     15  Razer Naga Pro este un nou mouse de gaming cu un total de 20 de butoane programabile - GadgetZone.ro\n",
      "     16  RANGERS - DUNDEE 2-0 » liveSCORE, FOTO +VIDEO Ianis Hagi a dat o pasă de gol! - Gazeta Sporturilor\n",
      "     17  Celebra actriță Barbara Jefford s-a stins din viață la vârsta de 90 de ani - stirileprotv.ro\n",
      "     18  Remaniere totala la Dinamo. ''Cresti un copac si nu-l lasi sa creasca, il tai direct de la radacina'' | Mobile - Ziare.com\n",
      "     19  Xiaomi Mi 10T Pro - rată de refresh la 144Hz, Qualcomm Snapdragon 865, 108 Megapixeli și baterie de 5000 mAh la 699 euro - Gadget.ro\n",
      "     20  Qualcomm Snapdragon 750G devine oficial: procesor midrange cu suport 5G, AI, gaming la 120 FPS - Mobilissimo.ro\n",
      "     21  Samsung GALAXY S20 FE 5G și prețul de la Orange - Gadget.ro\n",
      "     22  ”Voi glumiți, nu? Devine ridicol!”. Victoria Azarenka, un car de nervi la Roland Garros - DigiSport\n",
      "     23  Hermannstadt - FC Botoșani 2-1. Victorie in extremis obținută de sibieni, din penalty - DigiSport\n",
      "     24  Bayern Munchen - Borussia Dortmund 3-2. Bavarezii au câștigat și Supercupa Germaniei - DigiSport\n",
      "     25  Stanislav Groppa: Datele despre genomul complet SARS-CoV-2 obținute de USMF pot fi folosite la elaborarea unui vaccin - IPN\n",
      "     26  FINAL UTA Arad 0 - 0 Academica Clinceni | Remiza alba la Arad! - SPORT.RO\n",
      "     27  LIVE VIDEO | Formula 1 - Marele Premiu de la Eifel, ora 15:00, pe Digi Sport 1. Valtteri Bottas va pleca din pole-position - DigiSport\n",
      "     28  Erling Haaland i-a fermecat pe cei de la Real Madrid. Ce susțin spaniolii - DigiSport\n",
      "     29  UEFA Champions League | United a dat lovitura la Paris! Juventus și Barcelona, victorii lejere. Toate rezultatele - DigiSport\n",
      "     30  FC Botoșani, mutări de play-off: Christopher Braun, Youssef Toutouh, Mahmoud Al Mawas - Gazeta Sporturilor\n",
      "     31  Zinedine Zidane i-a dat replica lui Isco - DigiSport\n",
      "     32  Gladbach - Real 2-2 și Liverpool - Midtjylland 2-0. Madrilenii au egalat dramatic pe final. Toate rezultatele - DigiSport\n",
      "     33  Champions League | ACUM Juventus - Barcelona 0-1, la Digi Sport 1. Manchester United - Leipzig 1-0, la Digi Sport 2 - DigiSport\n",
      "     34  AS Roma - CSKA Sofia 0-0, Rangers - Lech Poznan 1-0, Real Sociedad - Napoli 0-1. Stanciu, decisiv, Ianis, titular. Rezultatele - DigiSport\n",
      "     35  Jaqueline Cristian și Gabriela Ruse au cucerit trofeul la turneul ITF de la Istanbul - DigiSport\n",
      "     36  Realme C15 Qualcomm Edition este anunțat oficial; Telefon entry-level cu Snapdragon 460 și baterie de 6000 mAh - Mobilissimo.ro\n",
      "     37  5 pansamente gastrice naturale - Click!\n",
      "     38  [REVIEW] Huawei Matebook X 2020 - Un ultrabook premium, ușor și performant - GadgetZone.ro\n",
      "     39  UCL, etapa 3 | Barcelona - Dinamo Kiev 1-0, Ferencvaros - Juventus 0-1, Leipzig - PSG 0-1, Brugge - Dortmund 0-2, la Digi Sport - DigiSport\n",
      "     40  LPF a anunțat data și ora la care se va disputa restanța Dinamo - Astra! Partida va fi în direct la Digi Sport 1 - DigiSport\n",
      "     41  Ianis Hagi a devenit rezervă la Rangers, dar Steven Gerrard are o explicație - DigiSport\n",
      "     42  Samsung Galaxy A52 5G își face apariția în benchmark-ul GeekBench și are procesor Snapdragon 750G - Mobilissimo.ro\n",
      "     43  La Timișoara, rudele victimelor COVID își identifică apropiații pe stadion - Libertatea\n",
      "     44  Serbia 5-0 Rusia | Show total facut de nationala lui Jovic! Sarbii au ajutat Romania sa prinda u - SPORT.RO\n",
      "     45  Jurații de la Chefi la cuțite, dezamăgiți de preparatele de la proba individuală - Chefi la cuțite\n",
      "     46  Gina Pistol, reacție furibundă pe internet. Iubita lui Smiley a răbufnit - PLAYTECH\n",
      "     47  S-a întâmplat inimaginabilul! Un fan al Barcelonei a țipat la Messi: ”Trezește-te!” - DigiSport\n",
      "     48  Razer anunţă cel mai mare eveniment de eSports din Europa: Razer Invitational Europe - GadgetZone.ro\n",
      "     49  Juventus 3-0 Dinamo Kiev | Radu Dragusin, DEBUT in tricoul torinezilor! DUBLA Neymar in Manchester United 1-3 PSG | Ferencvaros 0-3 Barcelona | AICI toate rezultatele - SPORT.RO\n",
      "     50  Stadionul echipei Napoli, San Paolo, redenumit oficial 'Diego Armando Maradona' - DigiSport\n",
      "     51  Ubisoft lanseaza Immortals Fenyx Rising - WASD.ro\n",
      "     52  Razer Hammerhead True Wireless Pro: certificare THX, ANC și preț de 1000 lei - Gadget.ro\n",
      "     53  UCL, etapa a 6-a | Barcelona - Juventus 0-2 și Leipzig - Manchester United 3-0, ACUM, la Digi Sport. PSG - Bașakșehir, suspendat - DigiSport\n",
      "     54  CRONOLOGIE Kirk Douglas, Olivia de Havilland şi Sean Connery, între personalităţile care au murit în 2020... - Adevărul\n",
      "     55  Pablo Cortacero, pus la colț de presa din Spania: \"Dinamo de Granada, un haos total\" - DigiSport\n",
      "     56  LIDL taxează pungile de plastic din 2 ianuarie. Cât costă o pungă - Libertatea\n",
      "     57  Ronaldo, MONSTRUL internetului! :) Recordul FANTASTIC doborat de starul lui Juventus! A devenit PRIMA perso - SPORT.RO\n",
      "     58  Rowan Atkinson renunță la Mr. Bean. „Este extenuant” - stirileprotv.ro\n",
      "     59  Giani Kiriță, scandal uriaș cu șefii de la Antene. Nu i-a mai suportat, a răbufnit total - PLAYTECH\n",
      "     60  Samsung extinde BESPOKE in piete noi si propune un concept inedit de frigidere | HIT.ro - HIt.ro\n",
      "     61  Samsung a prezentat noua gamă de televizoare - Revista connect Romania - Connect Romania\n",
      "     62  CES 2021: Acer Nitro XV282K KV 4K este un monitor special creat pentru gaming pe PlayStation 5, Xbox Series X - GadgetZone.ro\n",
      "     63  ViewSonic TD1655 - monitor portabil de 15.6 inch premiat la CES 2021 - Gadget.ro\n",
      "     64  Dustin Diamond, Screech din „Salvați de clopoțel”, internat în spital. Actorul este suspect de... - Libertatea\n",
      "     65  Cum a reacționat soția lui Bill Gates la donația bossului Facebook - Click!\n",
      "     66  Joe Biden, de la un adolescent care se bâlbâia la cel de-al 46-lea președinte al SUA - STIRILEPROTV.RO\n",
      "     67  Perenio IoT lansează lămpile UV inteligente: UV Lightsaber și UV-mini Indigo | - noobz.ro\n",
      "     68  Firefox 85 elimină Flash și întărește protecția confidențialității - ProRally.ro\n",
      "     69  O actriță celebră din China are nasul distrus după o operație greșită. „A necrozat” - STIRILEPROTV.RO\n",
      "     70  O companie romaneasca va fi sponsorul principal al unui club de legenda din Spania! Anuntul oficial al span - SPORT.RO\n",
      "     71  Leipzig - Liverpool se joacă în Ungaria! Anunțul oficial - DigiSport\n",
      "     72  Luis Suarez este de neoprit la Atletico! El Pistolero a bătut un record al lui Cristiano Ronaldo - DigiSport\n",
      "     73  LIVE VIDEO Hellas Verona - Parma, de la 21:45, la Digi Sport 2. Mihăilă este anunțat titular, Man va fi pe bancă - DigiSport\n",
      "     74  Cine transmite Simona Halep - Serena Williams la TV! Unde e live online superduelul de la Australian Open - Gazeta Sporturilor\n",
      "     75  UCL, optimi | Porto - Juventus 2-1. Sevilla - Dortmund 2-3. Barcelona - PSG 1-4 și Leipzig - Liverpool 0-2. Toate golurile - DigiSport\n",
      "     76  Mystic Navy Tab S7 și Tab S7+ ofera o noua actualizare software One UI 3 | HIT.ro - HIt.ro\n",
      "     77  Prințul Harry și Meghan Markle au renunțat definitiv la atribuțiile regale - Digi24\n",
      "     78  Naomi Osaka - Jennifer Brady 6-4, 6-3, în finala de la Australian Open 2021. Nipona, al doilea trofeu din carieră la Melbourne - DigiSport\n",
      "     79  Momente de panică la Atalanta - Napoli! Victor Osimhen a leșinat pe teren - DigiSport\n",
      "     80  LIVE VIDEO UCL, optimi | Atalanta - Real Madrid și Borussia M'gladbach - Manchester City, de la 22:00, la Digi Sport - DigiSport\n",
      "     81  Seară perfectă pentru români în Europa League! Ianis, Tătăruşanu, Stanciu şi Mircea Lucescu merg în optimi! Slavia, victorie impresionantă în Anglia! Rangers a făcut spectacol cu Antwerp VIDEO - TelekomSport.ro\n",
      "     82  Zlatan Ibrahimovic, acuzat de ipocrizie după atacul direct la LeBron James: ”Are propria linie de parfumuri!” - DigiSport\n",
      "     83  Microsoft Teams primește criptare end-to-end - noobz.ro\n",
      "     84  De acum îți poți transfera fotografiile de pe iCloud Photo Library pe Google Photos - Zona IT\n",
      "     85  Samsung Galaxy S21 a înregistrat vânzări record, cele mai bune de la Galaxy S8 încoace - connect\n",
      "     86  Acer Predator Helios 700 - Bestia de gaming de la Acer (TECH REVIEW) - Adevărul\n",
      "     87  Barcelona, ELIMINATA din Champions League! Messi nu mai reuseste REMONTADA! | Liverpool trece fara probleme de Leipzig: 2-0! AICI tot ce sa intamplat in Champions League - SPORT.RO\n",
      "     88  Motorola Moto G30 review in romana si detalii complete - GadgetLab.ro\n",
      "     89  L'Equipe a anunțat ce salariu primește Adrian Ursea la Nice. Diferența uriașă față de Pochettino sau Kovac - DigiSport\n",
      "     90  WTA Miami | Simona Halep - Anastasija Sevastova, 23:00, ÎN DIRECT la Digi Sport 2 LIVE VIDEO! Palmaresul direct - DigiSport\n",
      "     91  Google nu participă la Mobile World Congress 2021 - noobz.ro\n",
      "     92  Google nu participă la Mobile World Congress 2021 - noobz.ro - noobz.ro\n",
      "     93  Ianis Hagi și-a etalat ghetele personalizate! Ce mesaj și imagine a inscripționat pe perechea unicat - DigiSport\n",
      "     94  MotoGP, Marele Premiu de la Doha, ora 17:00, pe Digi Sport 4. Jorge Martin, de la Pramac Ducati, pleacă din pole-position - DigiSport\n",
      "     95  \"Sensei\" Cosmin Olăroiu. \"Jose Mourinho al Asiei\" ia lecții de arte marțiale în Emiratele Arabe Unite - DigiSport\n",
      "     96  Prințul Harry și soția sa, Meghan, i-au adus un omagiu virtual prințului Philip - STIRILEPROTV.RO\n",
      "     97  Lenovo lansează Legion Phone Duel 2, un... - News.ro\n",
      "     98  Real Madrid riscă să-i piardă pe Ramos și Varane în aceeași fereastră de mercato! Doi granzi au intrat pe fir - DigiSport\n",
      "     99  Sferturi UEL (retur) | Slavia Praga - Arsenal 0-4, Man. United - Granada 2-0, Roma - Ajax 1-1, Villarreal - Dinamo Zagreb 2-1 - DigiSport\n",
      "    100  iPad Pro 11 (2021) - specificații complete (procesor Apple M1, cameră frontală ultrawide de 12.2 Megapixeli, Thunderbolt 4 etc) - Gadget.ro\n",
      "    101  Simona Halep a realizat la un pictorial inedit la Stuttgart, în camera de hotel - DigiSport\n",
      "    102  \"In p**da ma-tii!\" | Incident istoric in ATP: Fabio Fognini a injurat un arbitru de linie si a fost descalificat instant la Barcelona: de la ce a plecat totul - SPORT.RO\n",
      "    103  Se încheie ”era” Sergio Ramos la Real Madrid? Declarațiile lui Florentino Perez, președintele ”galacticilor” - DigiSport\n",
      "    104  Real Madrid - Chelsea LIVE VIDEO pe Digi Sport 1, de la ora 22:00. Prima semifinală din UCL. Echipele probabile - DigiSport\n",
      "    105  ”Era important să confirmăm victoria de la FCSB!” Leo Grozavu, după partida Sepsi - Academica Clinceni - DigiSport\n",
      "    106  GI Jane din viața reală: primele femei US Marines care pot lupta alături de camarazii lor bărbaţi, după ce... - Digi24\n",
      "    107  Clubhouse, aplicația exclusivistă de socializare audio sosește pe Android - Mobilissimo.ro\n",
      "    108  Joe Biden va participa la summit-ul formatului București, găzduit de Klaus Iohannis - Digi24\n",
      "    109  Real Madrid studiază piața. Un fundaș din Anglia, pe lista lui Florentino Perez - DigiSport\n",
      "    110  Adio, Roland Garros! Simona Halep nu va participa la turneul de Grand Slam de la Paris - DigiSport\n",
      "    111  Cat S42H+ și Cat B40, smartphone-uri rezistente la apă și bacterii: Preț și specificații - connect\n",
      "    112  Netflix vrea să se extindă și în industria jocurilor - Zona IT\n",
      "    113  Finala Europa League: Villarreal - Man. United 1-1 (11-10 la penalty-uri). Rulli a parat lovitura celuilalt portar, De Gea - DigiSport\n",
      "    114  Probleme la Real Madrid! Șeicii de la PSG nu renunță la Mauricio Pochettino - DigiSport\n",
      "    115  WhatsApp nu va limita funcționalitatea dacă refuzați politica de confidențialitate - ProRally.ro\n",
      "    116  Telenovela s-a încheiat: dorit de Barcelona, Pep Guardiola a făcut anunţul chiar înaintea finalei Champions League - DigiSport\n",
      "    117  Renault Megane RS Line TCe 158 EDC 2021 - review - Gadget.ro\n",
      "    118  Bilant coronavirus - 30 mai - 158 de noi infectari, 29 de decese, aproape 17.000 de teste si 443 de romani... - Realitatea.NET\n",
      "    119  Gianluigi Donnarumma, sabotat de Massimiliano Allegri! Antrenorul l-a preferat pe Szczesny - DigiSport\n",
      "    120  Un nou transfer bifat de CFR! Sumudica a adus un fotbalist de perspectiva, de la o rivala din Liga 1 - Sport.ro\n",
      "    121  Primul trailer de gameplay din Battlefield 2042 - WASD.ro\n",
      "    122  Cristiano Ronaldo, tot mai aproape de transfer. Gazzetta dello Sport l-a dat de gol pe Max Allegri - DigiSport\n",
      "    123  Ronaldinho l-a ”înțepat” pe Sergio Ramos pe rețelele de socializare! Cum i-a răspuns fundașul - DigiSport\n",
      "    124  EA a anunțat oficial Madden NFL 22. Trailer + Noutăți - connect\n",
      "    125  Marele Premiu al Franței, LIVE VIDEO, pe Digi Sport 1. Max Verstappen pleacă din pole position - DigiSport\n",
      "    126  Max Verstappen a câștigat Marele Premiu al Franței! Lewis Hamilton, pe 2 - Gazeta Sporturilor\n",
      "    127  Cum se vede Pamantul de pe ISS, in decurs de 24 de ore (Video) - Ziare.com\n",
      "    128  Iftime a revenit la sentimente mai bune! David Croitoru va continua la FC Botoșani - DigiSport\n",
      "    129  Kylian Mbappe, atacat de un fost internațional francez: ”Nu e normal ce face, Deschamps a scăpat situația de sub control!” - DigiSport\n",
      "    130  Fabio Quartararo, victorie în MP al Olandei la MotoGP! Fernandez a câștigat la Moto2, Foggia a triumfat la Moto3 - DigiSport\n",
      "    131  Orbitatorul Hope Marte din Emiratele Arabe Unite observă zorile evazive pe Planeta Roșie - ProRally.ro\n",
      "    132  La Baku stewarzii au scos steagul LGBT de pe stadion! Ce reactie a avut UEFA - SPORT.RO\n",
      "    133  Michael Schumacher a revenit... - DC News\n",
      "    134  Ce avere are arbitrul care va conduce Italia - Anglia, finala EURO 2020 - DigiSport\n",
      "    135  Asaza-te comod si relaxeaza-te! NASA a creat in premiera un clip tridimensional cu un fulg de nea... - Ziare.com\n",
      "    136  Un nou stadion se va construi in Romania! O echipa din playoff va beneficia de o arena ultramoderna - SPORT.RO\n",
      "    137  Cum se vede Pamantul de pe ISS, in decurs de 24 de ore (Video) - Ziare.com\n",
      "    138  Bomba inaintea finalei EURO 2020! Giorgio Chiellini a ratat un transfer in Premier League, din cauza a 200.000 de lire sterline - SPORT.RO\n",
      "    139  Asaza-te comod si relaxeaza-te! NASA a creat in premiera un clip tridimensional cu un fulg de nea... - Ziare.com\n",
      "    140  Reacția oficialilor Borussiei Dortmund după ce Erling Haaland nu s-a prezentat la reunire - DigiSport\n",
      "    141  Un star al nationalei Angliei acuza evenimentele petrecute pe Wembley la finala Euro 2020: \"Tata a avut probleme cu respiratia din cauza loviturii primite la coaste!\" - SPORT.RO\n",
      "    142  Asaza-te comod si relaxeaza-te! NASA a creat in premiera un clip tridimensional cu un fulg de nea... - Ziare.com\n",
      "    143  Cum se vede Pamantul de pe ISS, in decurs de 24 de ore (Video) - Ziare.com\n",
      "    144  Oana Zăvoranu a desființat-o pe Loredana Chivu: Mare bombardieră de lux - DCNews\n",
      "    145  Gina Pistol face mișto de Laura Cosoi? Fanii ei au observat un detaliu rușinos - PLAYTECH\n",
      "    146  Olivier Giroud, inspirat de Zlatan Ibrahimovic! Ce l-a impresionat la atacantul suedez - DigiSport\n",
      "    147  Cum se vede Pamantul de pe ISS, in decurs de 24 de ore (Video) - Ziare.com\n",
      "    148  Asaza-te comod si relaxeaza-te! NASA a creat in premiera un clip tridimensional cu un fulg de nea... - Ziare.com\n",
      "    149  Cum se vede Pamantul de pe ISS, in decurs de 24 de ore (Video) - Ziare.com\n",
      "    150  Realme a lansat oficial seria de smartphone-uri Realme GT Master Edition - Gadget.ro\n",
      "    151  Asaza-te comod si relaxeaza-te! NASA a creat in premiera un clip tridimensional cu un fulg de nea... - Ziare.com\n",
      "    152  Asaza-te comod si relaxeaza-te! NASA a creat in premiera un clip tridimensional cu un fulg de nea... - Ziare.com\n",
      "    153  Asaza-te comod si relaxeaza-te! NASA a creat in premiera un clip tridimensional cu un fulg de nea... - Ziare.com\n",
      "    154  ASUS ProArt Display PA32UCG este un nou monitor 4K HDR cu refresh rate de 120 Hz - GadgetZone.ro\n",
      "    155  Cum se vede Pamantul de pe ISS, in decurs de 24 de ore (Video) - Ziare.com\n",
      "    156  Andrea Petkovic - Mayar Sherif, finala de la Winners Cup! Perechea Natela Dzalamidze/Kaja Juvan s-a impus la dublu - DigiSport\n",
      "    157  Asaza-te comod si relaxeaza-te! NASA a creat in premiera un clip tridimensional cu un fulg de nea... - Ziare.com\n",
      "    158  Cum se vede Pamantul de pe ISS, in decurs de 24 de ore (Video) - Ziare.com\n",
      "    159  Turneul WTA de la Montreal, LIVE VIDEO la Digi Sport 2 și Digi Sport 4. Cîrstea - Azarenka, de la ora 04:00 - DigiSport\n",
      "    160  Jose Mourinho continuă reconstrucția la AS Roma! A pus mâna pe telefon și a contactat personal un atacant de la Chelsea - DigiSport\n",
      "    161  Cum se vede Pamantul de pe ISS, in decurs de 24 de ore (Video) - Ziare.com\n",
      "    162  Asaza-te comod si relaxeaza-te! NASA a creat in premiera un clip tridimensional cu un fulg de nea... - Ziare.com\n",
      "    163  Romelu Lukaku, ”taxat” de suporterii lui Inter Milano! Ce a postat pe rețelele de socializare - DigiSport\n",
      "    164  OPPO RAM+ va fi disponibil și pe mid-range - Noobz.ro\n",
      "    165  FC Argeș l-a vândut pe Mario Tudose la Benfica - Gazeta Sporturilor\n",
      "    166  Apple ar fi testat scanner-ul de amprente Touch ID integrat sub display, dar nu a fost mulțumită de rezultate; Iată pe ce ruta va merge compania - Mobilissimo.ro\n",
      "    167  Controversele antologice ale lui Moruțan la FCSB! De la „mașină de pește” la Galatasaray - SPORT.RO\n",
      "    168  Preliminarii CM 2022 | Ungaria - Anglia 0-4, Suedia - Spania 2-1, Italia - Bulgaria 1-1. Portugalia - Irlanda 2-1. Rezultatele și marcatorii - DigiSport\n",
      "    169  Preliminarii CM 2022, etapa 5 | Ucraina - Franța, LIVE VIDEO, 21:45, la Digi Sport 1. Programul complet - DigiSport\n",
      "    170  „Le-a tăiat respirația” » Georgina Rodriguez, apariție senzațională la Festivalul de Film de la Veneția - Gazeta Sporturilor\n",
      "    171  Momente tensionate la US Open! Muguruza, reproșuri ”fără perdea” la adresa adversarei. Ce a făcut Barbora Krejcikova - DigiSport\n",
      "    172  ROMANIA – LIECHTENSTEIN PRO TV LIVE, Preliminarii CM 2022 - iDevice.ro\n",
      "    173  Preliminarii CM 2022, etapa 5 | Islanda o ține în șah pe Macedonia de Nord, 2-2. Germania - Armenia, 21:45, Digi Sport 1 - DigiSport\n",
      "    174  Teo Show (08.09.2021) - \"BRAVO, AI STIL! CELEBRITIES\" ASTAZI, DE LA 22:30, LA KANAL D! - Kanal D Romania\n",
      "    175  UTA - Rapid, LIVE VIDEO, de la 21:00, la Digi Sport 1. Se anunță show la Arad! Echipele probabile - DigiSport\n",
      "    176  Xiaomi promite 3 upgrade-uri de sistem și 4 ani de update-uri de - start-up.ro\n",
      "    177  Razer lansează Basilik V3, mouse cu 11 butoane programabile - start-up.ro\n",
      "    178  Formula 1: Valtteri Bottas a câștigat cursa Sprint de la Monza, dar Max Verstappen pleacă din pole-position du - Gazeta Sporturilor\n",
      "    179  UCL, etapa 1 | Beșiktaș - Dortmund, Sheriff - Șahtior LIVE VIDEO, 19:55. Inter - Real, capul de afiș al zilei. Programul complet - DigiSport\n",
      "    180  Principalul favorit la Balonul de Aur nu este Messi, Ronaldo, Mbappe, Lewandowski sau Haaland. Anunțul presei spaniole - DigiSport\n",
      "    181  Antoine Griezmann, zero pe linie de când a revenit la Atletico - DigiSport\n",
      "    182  Delia, făcută knockout de mama ei. Gina Matache: E risipitoare, e pe lux și opulență - DCNews\n",
      "    183  Europa League, etapa 2 | Galatasaray, remiză la Marseille cu Cicâldău și Moruțan titulari. Toate rezultatele rundei - DigiSport\n",
      "    184  Fairphone 4 ANUNȚ - cât va costa | PROFIT.ro - Profit.ro\n",
      "    185  VIDEO. Dan Bittman, la acțiunea anti vacciniștilor: ”Abia aștept” amenzile, ”am bani de dat!” - STIRILEPROTV.RO\n",
      "    186  Sassuolo - Inter 1-2. Chiricheș a fost integralist la gazde. Dzeko, din nou decisiv, cu gol la prima atingere de balon - DigiSport\n",
      "    187  Preliminarii CM 2022, etapa 7 | Islanda - Armenia, de la 21:45, LIVE VIDEO pe Digi Sport 1. Programul și clasamentele - DigiSport\n",
      "    188  Un avion Blue Air s-a depresurizat înainte de aterizare la București. Măștile de oxigen s-au activat - Digi24\n",
      "    189  Faza care l-a scos din minți pe Cristiano Ronaldo: \"Aproape de golazo!\" - DigiSport\n",
      "    190  Viktoria Azarenka – Jelena Ostapenko, prima semifinală de la Indian Wells. Programul transmisiunilor Digi Sport - DigiSport\n",
      "    191  WTA Transylvania Open | Simona Halep - Gabriela Ruse, 15:30, Digi Sport 1. Programul complet al zilei - DigiSport\n",
      "    192  Test de performanță: Google Pixel 6 Pro versus iPhone 13 Pro Max; Tensor nu dezamăgește! - Mobilissimo.ro\n",
      "    193  Transylvania Open, sferturi | Simona Halep - Jaqueline Cristian și Emma Răducanu - Marta Kostyuk, LIVE VIDEO, Digi Sport 2 - DigiSport\n",
      "    194  Dead Silence revine ca un nou avantaj în COD Vanguard - ESTNN Esports\n",
      "    195  Transylvania Open, finala. Simona Halep – Anett Kontaveit, LIVE VIDEO, 17:30, Digi Sport 2. Simona vrea primul trofeu din 2021 - DigiSport\n",
      "    196  Bayern și Dortmund, victorii la pas în Bundesliga. Lewandowski, din nou decisiv - DigiSport\n",
      "    197  Manchester City și Liverpool, pași greșiți în Premier League! Profită Chelsea - Gazeta Sporturilor\n",
      "    198  Diego Maradona, omagiat de Boca Juniors. Dalma Maradona, în lacrimi pe “La Bombonera” - DigiSport\n",
      "    199  Grupele Champions League, etapa 4 | Malmo - Chelsea, 19:45, Dinamo Kiev - Barcelona, 22:00 - DigiSport\n",
      "    200  Cristiano Ronaldo, zeu la Manchester United. Solskjaer: “Este incredibil. E precum Michael Jordan” - DigiSport\n",
      "    201  OnePlus anunță modelul OnePlus Nord 2 x PAC-MAN Edition - Noobz.ro\n",
      "    202  Turneul Campioanelor | Barbora Krejcikova - Karolina Pliskova LIVE VIDEO, 22:00, Digi Sport 3. Programul complet - DigiSport\n",
      "    203  OFICIAL! Dinamo și-a prezentat noul transfer - Sport.ro\n"
     ]
    }
   ],
   "source": [
    "titles = []\n",
    "for ID in baddest:\n",
    "\tart = by_ID[ID]\n",
    "\tif any(i['location'] == loc for i in art['instances']):\n",
    "\t\ttitles.append(art['title'])\n",
    "print(tabulate(enumerate(titles), headers=['Index', 'Title']))"
   ],
   "metadata": {
    "collapsed": false,
    "ExecuteTime": {
     "end_time": "2023-10-19T11:43:32.428214669Z",
     "start_time": "2023-10-19T11:43:32.336481775Z"
    }
   },
   "id": "ef56974255b1d53d"
  },
  {
   "cell_type": "code",
   "execution_count": 179,
   "outputs": [
    {
     "data": {
      "text/plain": "9297"
     },
     "execution_count": 179,
     "metadata": {},
     "output_type": "execute_result"
    }
   ],
   "source": [
    "merged = set(baddest).intersection(set(low_conf))\n",
    "len(merged)"
   ],
   "metadata": {
    "collapsed": false,
    "ExecuteTime": {
     "end_time": "2023-10-19T12:49:37.758773483Z",
     "start_time": "2023-10-19T12:49:37.681980458Z"
    }
   },
   "id": "10db28a5edb6006a"
  },
  {
   "cell_type": "code",
   "execution_count": null,
   "outputs": [],
   "source": [],
   "metadata": {
    "collapsed": false
   },
   "id": "d1b6f047f09fbb1e"
  },
  {
   "cell_type": "code",
   "execution_count": null,
   "outputs": [],
   "source": [],
   "metadata": {
    "collapsed": false
   },
   "id": "43b41c4ba42fa764"
  },
  {
   "cell_type": "code",
   "execution_count": null,
   "outputs": [],
   "source": [],
   "metadata": {
    "collapsed": false
   },
   "id": "9b3f212a6da8397c"
  },
  {
   "cell_type": "code",
   "execution_count": 23,
   "outputs": [
    {
     "name": "stdout",
     "output_type": "stream",
     "text": [
      "www.punto-informatico.it\n"
     ]
    }
   ],
   "source": [
    "from urllib.parse import urlparse\n",
    "\n",
    "# Replace with your URL\n",
    "url = \"https://www.example.com/path/to/page?query=param\"\n",
    "url = art['url']\n",
    "\n",
    "# Parse the URL\n",
    "parsed_url = urlparse(url)\n",
    "\n",
    "# Get the domain\n",
    "domain = parsed_url.netloc\n",
    "\n",
    "print(domain)\n"
   ],
   "metadata": {
    "collapsed": false,
    "ExecuteTime": {
     "end_time": "2023-10-19T10:25:54.740461336Z",
     "start_time": "2023-10-19T10:25:54.684741398Z"
    }
   },
   "id": "4a4dbc4cc6142cc8"
  },
  {
   "cell_type": "code",
   "execution_count": 24,
   "outputs": [
    {
     "name": "stdout",
     "output_type": "stream",
     "text": [
      "it\n"
     ]
    }
   ],
   "source": [
    "\n",
    "# Replace with your URL\n",
    "# url = \"https://www.example.com/path/to/page?query=param\"\n",
    "\n",
    "# Extract parts of the URL\n"
   ],
   "metadata": {
    "collapsed": false,
    "ExecuteTime": {
     "end_time": "2023-10-19T10:27:34.658611809Z",
     "start_time": "2023-10-19T10:27:34.387932609Z"
    }
   },
   "id": "11161cba5bbe315b"
  },
  {
   "cell_type": "code",
   "execution_count": null,
   "outputs": [],
   "source": [
    "detect(get_lang_query(art), hintTopLevelDomain='it')"
   ],
   "metadata": {
    "collapsed": false
   },
   "id": "533bd5c5b1d8cca8"
  },
  {
   "cell_type": "code",
   "execution_count": 347,
   "outputs": [],
   "source": [
    "from transformers import MBartForConditionalGeneration, MBart50TokenizerFast\n",
    "from transformers import pipeline\n"
   ],
   "metadata": {
    "collapsed": false,
    "ExecuteTime": {
     "end_time": "2023-10-19T16:06:52.712414175Z",
     "start_time": "2023-10-19T16:06:52.608038101Z"
    }
   },
   "id": "1598cea2012d03d3"
  },
  {
   "cell_type": "code",
   "execution_count": 348,
   "outputs": [
    {
     "data": {
      "text/plain": "Downloading (…)lve/main/config.json:   0%|          | 0.00/1.38k [00:00<?, ?B/s]",
      "application/vnd.jupyter.widget-view+json": {
       "version_major": 2,
       "version_minor": 0,
       "model_id": "ce9c9a45ef484f189a659d1432fc5bf7"
      }
     },
     "metadata": {},
     "output_type": "display_data"
    },
    {
     "data": {
      "text/plain": "Downloading pytorch_model.bin:   0%|          | 0.00/291M [00:00<?, ?B/s]",
      "application/vnd.jupyter.widget-view+json": {
       "version_major": 2,
       "version_minor": 0,
       "model_id": "fa22b680c9ef42fba9c64b11ebdfe398"
      }
     },
     "metadata": {},
     "output_type": "display_data"
    },
    {
     "data": {
      "text/plain": "Downloading (…)neration_config.json:   0%|          | 0.00/293 [00:00<?, ?B/s]",
      "application/vnd.jupyter.widget-view+json": {
       "version_major": 2,
       "version_minor": 0,
       "model_id": "62d13d95583f48c68d0c60d124b2b618"
      }
     },
     "metadata": {},
     "output_type": "display_data"
    },
    {
     "data": {
      "text/plain": "Downloading (…)okenizer_config.json:   0%|          | 0.00/42.0 [00:00<?, ?B/s]",
      "application/vnd.jupyter.widget-view+json": {
       "version_major": 2,
       "version_minor": 0,
       "model_id": "a5f6ff519a3541e5b8a939085c34d1c2"
      }
     },
     "metadata": {},
     "output_type": "display_data"
    },
    {
     "data": {
      "text/plain": "Downloading (…)olve/main/source.spm:   0%|          | 0.00/801k [00:00<?, ?B/s]",
      "application/vnd.jupyter.widget-view+json": {
       "version_major": 2,
       "version_minor": 0,
       "model_id": "e0dd31ea1f3747b691c9e70587a74bf6"
      }
     },
     "metadata": {},
     "output_type": "display_data"
    },
    {
     "data": {
      "text/plain": "Downloading (…)olve/main/target.spm:   0%|          | 0.00/796k [00:00<?, ?B/s]",
      "application/vnd.jupyter.widget-view+json": {
       "version_major": 2,
       "version_minor": 0,
       "model_id": "c4f729bb3ab84839a34f71d84c68991c"
      }
     },
     "metadata": {},
     "output_type": "display_data"
    },
    {
     "data": {
      "text/plain": "Downloading (…)olve/main/vocab.json:   0%|          | 0.00/1.26M [00:00<?, ?B/s]",
      "application/vnd.jupyter.widget-view+json": {
       "version_major": 2,
       "version_minor": 0,
       "model_id": "a8cd28782f7f4e69b038bc293182461b"
      }
     },
     "metadata": {},
     "output_type": "display_data"
    },
    {
     "name": "stderr",
     "output_type": "stream",
     "text": [
      "/home/fleeb/miniconda3/lib/python3.11/site-packages/transformers/models/marian/tokenization_marian.py:197: UserWarning: Recommended: pip install sacremoses.\n",
      "  warnings.warn(\"Recommended: pip install sacremoses.\")\n"
     ]
    }
   ],
   "source": [
    "pipe = pipeline(\"translation\", model=\"Helsinki-NLP/opus-mt-id-en\")"
   ],
   "metadata": {
    "collapsed": false,
    "ExecuteTime": {
     "end_time": "2023-10-19T16:07:07.111631030Z",
     "start_time": "2023-10-19T16:06:56.471462445Z"
    }
   },
   "id": "125ecfafdfb44306"
  },
  {
   "cell_type": "code",
   "execution_count": 350,
   "outputs": [],
   "source": [],
   "metadata": {
    "collapsed": false,
    "ExecuteTime": {
     "end_time": "2023-10-19T16:07:53.663798946Z",
     "start_time": "2023-10-19T16:07:53.585061161Z"
    }
   },
   "id": "3dac749ba3feaf3d"
  },
  {
   "cell_type": "code",
   "execution_count": 364,
   "outputs": [],
   "source": [
    "texts = [by_ID[ID]['title'] for ID in selids]\n",
    "outs_raw = pipe(texts)\n",
    "outs = [out['translation_text'] for out in outs_raw]"
   ],
   "metadata": {
    "collapsed": false,
    "ExecuteTime": {
     "end_time": "2023-10-19T16:13:00.971360388Z",
     "start_time": "2023-10-19T16:12:57.038601678Z"
    }
   },
   "id": "b62e83740a4ca57e"
  },
  {
   "cell_type": "code",
   "execution_count": 365,
   "outputs": [
    {
     "name": "stdout",
     "output_type": "stream",
     "text": [
      "Input                                                                                           Output\n",
      "----------------------------------------------------------------------------------------------  ------------------------------------------------------------------------------------\n",
      "Ayu Ting Ting Didesak Minta Maaf ke Nagita Slavina, Umi Kalsum Naik Pitam - Suara.com           Ayu Ting Ting Di Urge Apologize to Nagita Slavina, Umi Kalsum Ride Pitam - Voice.com\n",
      "Pelawak Ginanjar Takut tapi Bahagia Bakal Jadi Ayah di Usia 56 Tahun - Kompas.com - KOMPAS.com  Ginanjar's Feared but Happy Will Be Father at 56 - Compass.com - COM.com\n",
      "Innalilahi Wainna Ilaihi Rajiun, Ayu Ting Ting Berduka | merdeka.com - Merdeka.com              Inollalullahi Wainna Ilaihi Rajiun, Ayu Ting Bergura independent.com - Merdeka.com\n",
      "Istri Randy Pangalila Melahirkan, Wajah Bayi Bikin Asmirandah Terpana - InsertLive              Randy's Wife Pangalila gave birth, Baby Face Makes a Fascination - InsertLive\n",
      "Nyatanya, Jadi Tukang Parkir Tak Semudah yang Dibayangkan - Kompasiana.com - Kompasiana.com     In fact, Parking Is Not Easy to Imagine - Compassiana.com - Compassiana.com\n",
      "Nyatanya, Jadi Tukang Parkir Tak Semudah yang Dibayangkan - Kompasiana.com - Kompasiana.com     In fact, Parking Is Not Easy to Imagine - Compassiana.com - Compassiana.com\n",
      "Nyatanya, Jadi Tukang Parkir Tak Semudah yang Dibayangkan - Kompasiana.com - Kompasiana.com     In fact, Parking Is Not Easy to Imagine - Compassiana.com - Compassiana.com\n",
      "Asnawi Dijuluki Son Heung Min Indonesia - CNN Indonesia                                         Asnawi Called Son Heung Min Indonesia - CNN Indonesia\n",
      "Asnawi Dijuluki Son Heung Min Indonesia - CNN Indonesia                                         Asnawi Called Son Heung Min Indonesia - CNN Indonesia\n",
      "Postingan Dinda Hauw Bareng Rey Mbayang Bahas soal Jatah Jadi Sorotan - detikHot                Dinda Hauw Posts by Rey Shadowing Talks About Ratings So Hot Seconds\n"
     ]
    }
   ],
   "source": [
    "print(tabulate(zip(texts, outs), headers=['Input', 'Output']))"
   ],
   "metadata": {
    "collapsed": false,
    "ExecuteTime": {
     "end_time": "2023-10-19T16:13:02.438131634Z",
     "start_time": "2023-10-19T16:13:02.363176975Z"
    }
   },
   "id": "cb8ed002083a40d9"
  },
  {
   "cell_type": "code",
   "execution_count": null,
   "outputs": [],
   "source": [],
   "metadata": {
    "collapsed": false
   },
   "id": "b66eaffe48e24b7d"
  },
  {
   "cell_type": "code",
   "execution_count": null,
   "outputs": [],
   "source": [],
   "metadata": {
    "collapsed": false
   },
   "id": "2a9c04bce9e5323c"
  },
  {
   "cell_type": "code",
   "execution_count": 371,
   "outputs": [
    {
     "ename": "AttributeError",
     "evalue": "'NoneType' object has no attribute 'group'",
     "output_type": "error",
     "traceback": [
      "\u001B[0;31m---------------------------------------------------------------------------\u001B[0m",
      "\u001B[0;31mAttributeError\u001B[0m                            Traceback (most recent call last)",
      "Cell \u001B[0;32mIn[371], line 3\u001B[0m\n\u001B[1;32m      1\u001B[0m \u001B[38;5;28;01mfrom\u001B[39;00m \u001B[38;5;21;01mgoogletrans\u001B[39;00m \u001B[38;5;28;01mimport\u001B[39;00m Translator\n\u001B[1;32m      2\u001B[0m translator \u001B[38;5;241m=\u001B[39m Translator()\n\u001B[0;32m----> 3\u001B[0m \u001B[43mtranslator\u001B[49m\u001B[38;5;241;43m.\u001B[39;49m\u001B[43mtranslate\u001B[49m\u001B[43m(\u001B[49m\u001B[38;5;124;43m'\u001B[39;49m\u001B[38;5;124;43m안녕하세요.\u001B[39;49m\u001B[38;5;124;43m'\u001B[39;49m\u001B[43m)\u001B[49m\n",
      "File \u001B[0;32m~/miniconda3/lib/python3.11/site-packages/googletrans/client.py:182\u001B[0m, in \u001B[0;36mTranslator.translate\u001B[0;34m(self, text, dest, src, **kwargs)\u001B[0m\n\u001B[1;32m    179\u001B[0m     \u001B[38;5;28;01mreturn\u001B[39;00m result\n\u001B[1;32m    181\u001B[0m origin \u001B[38;5;241m=\u001B[39m text\n\u001B[0;32m--> 182\u001B[0m data \u001B[38;5;241m=\u001B[39m \u001B[38;5;28;43mself\u001B[39;49m\u001B[38;5;241;43m.\u001B[39;49m\u001B[43m_translate\u001B[49m\u001B[43m(\u001B[49m\u001B[43mtext\u001B[49m\u001B[43m,\u001B[49m\u001B[43m \u001B[49m\u001B[43mdest\u001B[49m\u001B[43m,\u001B[49m\u001B[43m \u001B[49m\u001B[43msrc\u001B[49m\u001B[43m,\u001B[49m\u001B[43m \u001B[49m\u001B[43mkwargs\u001B[49m\u001B[43m)\u001B[49m\n\u001B[1;32m    184\u001B[0m \u001B[38;5;66;03m# this code will be updated when the format is changed.\u001B[39;00m\n\u001B[1;32m    185\u001B[0m translated \u001B[38;5;241m=\u001B[39m \u001B[38;5;124m'\u001B[39m\u001B[38;5;124m'\u001B[39m\u001B[38;5;241m.\u001B[39mjoin([d[\u001B[38;5;241m0\u001B[39m] \u001B[38;5;28;01mif\u001B[39;00m d[\u001B[38;5;241m0\u001B[39m] \u001B[38;5;28;01melse\u001B[39;00m \u001B[38;5;124m'\u001B[39m\u001B[38;5;124m'\u001B[39m \u001B[38;5;28;01mfor\u001B[39;00m d \u001B[38;5;129;01min\u001B[39;00m data[\u001B[38;5;241m0\u001B[39m]])\n",
      "File \u001B[0;32m~/miniconda3/lib/python3.11/site-packages/googletrans/client.py:78\u001B[0m, in \u001B[0;36mTranslator._translate\u001B[0;34m(self, text, dest, src, override)\u001B[0m\n\u001B[1;32m     77\u001B[0m \u001B[38;5;28;01mdef\u001B[39;00m \u001B[38;5;21m_translate\u001B[39m(\u001B[38;5;28mself\u001B[39m, text, dest, src, override):\n\u001B[0;32m---> 78\u001B[0m     token \u001B[38;5;241m=\u001B[39m \u001B[38;5;28;43mself\u001B[39;49m\u001B[38;5;241;43m.\u001B[39;49m\u001B[43mtoken_acquirer\u001B[49m\u001B[38;5;241;43m.\u001B[39;49m\u001B[43mdo\u001B[49m\u001B[43m(\u001B[49m\u001B[43mtext\u001B[49m\u001B[43m)\u001B[49m\n\u001B[1;32m     79\u001B[0m     params \u001B[38;5;241m=\u001B[39m utils\u001B[38;5;241m.\u001B[39mbuild_params(query\u001B[38;5;241m=\u001B[39mtext, src\u001B[38;5;241m=\u001B[39msrc, dest\u001B[38;5;241m=\u001B[39mdest,\n\u001B[1;32m     80\u001B[0m                                 token\u001B[38;5;241m=\u001B[39mtoken, override\u001B[38;5;241m=\u001B[39moverride)\n\u001B[1;32m     82\u001B[0m     url \u001B[38;5;241m=\u001B[39m urls\u001B[38;5;241m.\u001B[39mTRANSLATE\u001B[38;5;241m.\u001B[39mformat(host\u001B[38;5;241m=\u001B[39m\u001B[38;5;28mself\u001B[39m\u001B[38;5;241m.\u001B[39m_pick_service_url())\n",
      "File \u001B[0;32m~/miniconda3/lib/python3.11/site-packages/googletrans/gtoken.py:194\u001B[0m, in \u001B[0;36mTokenAcquirer.do\u001B[0;34m(self, text)\u001B[0m\n\u001B[1;32m    193\u001B[0m \u001B[38;5;28;01mdef\u001B[39;00m \u001B[38;5;21mdo\u001B[39m(\u001B[38;5;28mself\u001B[39m, text):\n\u001B[0;32m--> 194\u001B[0m     \u001B[38;5;28;43mself\u001B[39;49m\u001B[38;5;241;43m.\u001B[39;49m\u001B[43m_update\u001B[49m\u001B[43m(\u001B[49m\u001B[43m)\u001B[49m\n\u001B[1;32m    195\u001B[0m     tk \u001B[38;5;241m=\u001B[39m \u001B[38;5;28mself\u001B[39m\u001B[38;5;241m.\u001B[39macquire(text)\n\u001B[1;32m    196\u001B[0m     \u001B[38;5;28;01mreturn\u001B[39;00m tk\n",
      "File \u001B[0;32m~/miniconda3/lib/python3.11/site-packages/googletrans/gtoken.py:62\u001B[0m, in \u001B[0;36mTokenAcquirer._update\u001B[0;34m(self)\u001B[0m\n\u001B[1;32m     59\u001B[0m     \u001B[38;5;28;01mreturn\u001B[39;00m\n\u001B[1;32m     61\u001B[0m \u001B[38;5;66;03m# this will be the same as python code after stripping out a reserved word 'var'\u001B[39;00m\n\u001B[0;32m---> 62\u001B[0m code \u001B[38;5;241m=\u001B[39m \u001B[38;5;28;43mself\u001B[39;49m\u001B[38;5;241;43m.\u001B[39;49m\u001B[43mRE_TKK\u001B[49m\u001B[38;5;241;43m.\u001B[39;49m\u001B[43msearch\u001B[49m\u001B[43m(\u001B[49m\u001B[43mr\u001B[49m\u001B[38;5;241;43m.\u001B[39;49m\u001B[43mtext\u001B[49m\u001B[43m)\u001B[49m\u001B[38;5;241;43m.\u001B[39;49m\u001B[43mgroup\u001B[49m(\u001B[38;5;241m1\u001B[39m)\u001B[38;5;241m.\u001B[39mreplace(\u001B[38;5;124m'\u001B[39m\u001B[38;5;124mvar \u001B[39m\u001B[38;5;124m'\u001B[39m, \u001B[38;5;124m'\u001B[39m\u001B[38;5;124m'\u001B[39m)\n\u001B[1;32m     63\u001B[0m \u001B[38;5;66;03m# unescape special ascii characters such like a \\x3d(=)\u001B[39;00m\n\u001B[1;32m     64\u001B[0m code \u001B[38;5;241m=\u001B[39m code\u001B[38;5;241m.\u001B[39mencode()\u001B[38;5;241m.\u001B[39mdecode(\u001B[38;5;124m'\u001B[39m\u001B[38;5;124municode-escape\u001B[39m\u001B[38;5;124m'\u001B[39m)\n",
      "\u001B[0;31mAttributeError\u001B[0m: 'NoneType' object has no attribute 'group'"
     ]
    }
   ],
   "source": [
    "from googletrans import Translator\n",
    "translator = Translator()\n",
    "translator.translate('안녕하세요.')"
   ],
   "metadata": {
    "collapsed": false,
    "ExecuteTime": {
     "end_time": "2023-10-19T16:31:29.671865939Z",
     "start_time": "2023-10-19T16:31:29.317555418Z"
    }
   },
   "id": "bdd89cfe3ad642a"
  },
  {
   "cell_type": "code",
   "execution_count": 390,
   "outputs": [],
   "source": [
    "def as_batches(itr, n=50):\n",
    "\titr = iter(itr)\n",
    "\twhile True:\n",
    "\t\tbatch = []\n",
    "\t\ttry:\n",
    "\t\t\tfor _ in range(n):\n",
    "\t\t\t\tbatch.append(next(itr))\n",
    "\t\t\tyield batch\n",
    "\t\texcept StopIteration:\n",
    "\t\t\tif batch:\n",
    "\t\t\t\tyield batch\n",
    "\t\t\tbreak"
   ],
   "metadata": {
    "collapsed": false,
    "ExecuteTime": {
     "end_time": "2023-10-20T15:51:55.488992059Z",
     "start_time": "2023-10-20T15:51:55.376233400Z"
    }
   },
   "id": "db32b38a577d4585"
  },
  {
   "cell_type": "code",
   "execution_count": 407,
   "outputs": [],
   "source": [
    "prompt_delimiter = '%&%'\n",
    "line_template = '<p>{prompts}</p>'"
   ],
   "metadata": {
    "collapsed": false,
    "ExecuteTime": {
     "end_time": "2023-10-20T16:11:53.086469461Z",
     "start_time": "2023-10-20T16:11:52.980713079Z"
    }
   },
   "id": "a434c26a953161ac"
  },
  {
   "cell_type": "code",
   "execution_count": 413,
   "outputs": [],
   "source": [
    "template = '<tr><td>{ID}</td><td>{title}</td></tr>\\n'\n",
    "template = '{ID}{delimiter}{title}'\n",
    "template = '{ID}%&%{title}'"
   ],
   "metadata": {
    "collapsed": false,
    "ExecuteTime": {
     "end_time": "2023-10-20T16:17:45.696716977Z",
     "start_time": "2023-10-20T16:17:45.600292395Z"
    }
   },
   "id": "214d2e972c4e42ca"
  },
  {
   "cell_type": "code",
   "execution_count": 375,
   "outputs": [
    {
     "data": {
      "text/plain": "54"
     },
     "execution_count": 375,
     "metadata": {},
     "output_type": "execute_result"
    }
   ],
   "source": [
    "len(by_loc)"
   ],
   "metadata": {
    "collapsed": false,
    "ExecuteTime": {
     "end_time": "2023-10-20T13:34:13.897275382Z",
     "start_time": "2023-10-20T13:34:13.818664408Z"
    }
   },
   "id": "bef4b1a21e9c2691"
  },
  {
   "cell_type": "code",
   "execution_count": 376,
   "outputs": [],
   "source": [
    "(root/'prompts').mkdir(exist_ok=True)"
   ],
   "metadata": {
    "collapsed": false,
    "ExecuteTime": {
     "end_time": "2023-10-20T13:36:26.270603952Z",
     "start_time": "2023-10-20T13:36:26.195152017Z"
    }
   },
   "id": "3be53e326ede8050"
  },
  {
   "cell_type": "code",
   "execution_count": 378,
   "outputs": [
    {
     "data": {
      "text/plain": "  0%|          | 0/54 [00:00<?, ?it/s]",
      "application/vnd.jupyter.widget-view+json": {
       "version_major": 2,
       "version_minor": 0,
       "model_id": "8064cd9ae8b44a8db8797107525ca3f0"
      }
     },
     "metadata": {},
     "output_type": "display_data"
    }
   ],
   "source": [
    "dupes = {}\n",
    "for loc, arts in tqdm(by_loc.items()):\n",
    "\tfor art in arts:\n",
    "\t\tdupes.setdefault(loc, {}).setdefault(art['title'], []).append(art['ID'])"
   ],
   "metadata": {
    "collapsed": false,
    "ExecuteTime": {
     "end_time": "2023-10-20T13:39:03.290409212Z",
     "start_time": "2023-10-20T13:38:53.486272086Z"
    }
   },
   "id": "7f9b9d2cb016d3db"
  },
  {
   "cell_type": "code",
   "execution_count": 414,
   "outputs": [
    {
     "data": {
      "text/plain": "  0%|          | 0/54 [00:00<?, ?it/s]",
      "application/vnd.jupyter.widget-view+json": {
       "version_major": 2,
       "version_minor": 0,
       "model_id": "637c6c7f556a43f5929728e9bbca5da7"
      }
     },
     "metadata": {},
     "output_type": "display_data"
    }
   ],
   "source": [
    "for loc, title_ids in tqdm(dupes.items()):\n",
    "\tif loc == 'ua':\n",
    "\t\tlines = ['\\n\\n'.join(template.format(ID=','.join(map(str,set(ids))), title=title.replace('\\t', ' ')) \n",
    "\t\t\t\t\t\t   for title, ids in batch) \n",
    "\t\t\t\t for batch in as_batches(title_ids.items(), n=10)]\n",
    "\t\tlines = lines[:100]\n",
    "\t\twith (root / 'dense' /f'{loc}-prompt-rows.txt').open('w') as f:\n",
    "\t\t\tf.write('\\n\\n'.join(lines))\n",
    "\t\t\t\n",
    "\t\t\t\n",
    "\t\t\t# for i, (title, ids) in enumerate(title_ids.items()):\n",
    "\t\t\t# \tf.write(template.format(ID=','.join(map(str,set(ids))), title=title))\n",
    "\t\t\t# \tif i > 0 and i % 10 == 0:\n",
    "\t\t\t# \t\tf.write('\\n')"
   ],
   "metadata": {
    "collapsed": false,
    "ExecuteTime": {
     "end_time": "2023-10-20T16:17:48.008658239Z",
     "start_time": "2023-10-20T16:17:47.885363420Z"
    }
   },
   "id": "246c8890c9023b49"
  },
  {
   "cell_type": "code",
   "execution_count": null,
   "outputs": [],
   "source": [],
   "metadata": {
    "collapsed": false
   },
   "id": "b46b0ee7b517f5e"
  },
  {
   "cell_type": "code",
   "execution_count": null,
   "outputs": [],
   "source": [],
   "metadata": {
    "collapsed": false
   },
   "id": "9647e01c779359b2"
  }
 ],
 "metadata": {
  "kernelspec": {
   "display_name": "Python 3",
   "language": "python",
   "name": "python3"
  },
  "language_info": {
   "codemirror_mode": {
    "name": "ipython",
    "version": 2
   },
   "file_extension": ".py",
   "mimetype": "text/x-python",
   "name": "python",
   "nbconvert_exporter": "python",
   "pygments_lexer": "ipython2",
   "version": "2.7.6"
  }
 },
 "nbformat": 4,
 "nbformat_minor": 5
}
