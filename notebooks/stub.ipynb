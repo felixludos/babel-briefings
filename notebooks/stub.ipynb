{
 "cells": [
  {
   "cell_type": "code",
   "execution_count": null,
   "id": "initial_id",
   "metadata": {
    "collapsed": true,
    "ExecuteTime": {
     "end_time": "2023-11-02T15:35:17.088721419Z",
     "start_time": "2023-11-02T15:35:16.993844773Z"
    }
   },
   "outputs": [],
   "source": [
    "from pathlib import Path\n",
    "from tqdm.notebook import tqdm\n",
    "from tabulate import tabulate\n",
    "import random, json\n",
    "import pycountry\n",
    "from iso639 import languages\n",
    "import networkx as nx\n",
    "from dateutil import parser\n",
    "from datetime import datetime\n",
    "from collections import Counter\n",
    "from langdetect import detect\n",
    "from omnibelt import load_json, save_json"
   ]
  },
  {
   "cell_type": "code",
   "execution_count": null,
   "outputs": [],
   "source": [
    "lang_clusters = {'en': ['au', 'ca', 'gb', 'ie', 'in', 'my', 'ng', 'nz', 'ph', 'sa', 'sg', 'us', 'za'],\n",
    "\t\t\t\t 'es': ['ar', 'co', 'cu', 'mx', 've'], 'de': ['at', 'ch', 'de'], 'fr': ['be', 'fr', 'ma'],\n",
    "\t\t\t\t 'zh': ['cn', 'hk', 'tw'], 'ar': ['ae', 'eg'], 'pt': ['br', 'pt'], 'bg': ['bg'], 'cs': ['cz'],\n",
    "\t\t\t\t 'el': ['gr'], 'he': ['il'], 'hu': ['hu'], 'id': ['id'], 'it': ['it'], 'ja': ['jp'], 'ko': ['kr'],\n",
    "\t\t\t\t 'lt': ['lt'], 'lv': ['lv'], 'nl': ['nl'], 'no': ['no'], 'pl': ['pl'], 'ro': ['ro'], 'ru': ['ru'],\n",
    "\t\t\t\t 'sv': ['se'], 'sl': ['si'], 'sk': ['sk'], 'sr': ['rs'], 'th': ['th'], 'tr': ['tr'], 'uk': ['ua']}\n",
    "loc_names = {'gb': 'United Kingdom', 'ar': 'Argentina', 'pl': 'Poland', 'sk': 'Slovakia', 'us': 'United States',\n",
    "\t\t\t 'eg': 'Egypt', 'no': 'Norway', 'ph': 'Philippines', 'at': 'Austria', 'rs': 'Serbia', 'tw': 'Taiwan',\n",
    "\t\t\t 'be': 'Belgium', 'cu': 'Cuba', 'sa': 'Saudi Arabia', 'th': 'Thailand', 'id': 'Indonesia',\n",
    "\t\t\t 'ru': 'Russian Federation', 'ch': 'Switzerland', 'fr': 'France', 'lt': 'Lithuania', 'tr': 'Turkey',\n",
    "\t\t\t 'de': 'Germany', 'cz': 'Czechia', 'pt': 'Portugal', 'ae': 'United Arab Emirates', 'it': 'Italy',\n",
    "\t\t\t 'cn': 'China', 'lv': 'Latvia', 'nl': 'Netherlands', 'hk': 'Hong Kong', 'ca': 'Canada', 'br': 'Brazil',\n",
    "\t\t\t 'hu': 'Hungary', 'kr': 'Korea', 'si': 'Slovenia', 'au': 'Australia', 'my': 'Malaysia', 'ie': 'Ireland',\n",
    "\t\t\t 'ua': 'Ukraine', 'in': 'India', 'ma': 'Morocco', 'bg': 'Bulgaria', 'ng': 'Nigeria', 'il': 'Israel',\n",
    "\t\t\t 'se': 'Sweden', 'za': 'South Africa', 've': 'Venezuela', 'nz': 'New Zealand', 'jp': 'Japan',\n",
    "\t\t\t 'sg': 'Singapore', 'gr': 'Greece', 'mx': 'Mexico', 'co': 'Colombia', 'ro': 'Romania'}\n",
    "lang_names = {'en': 'English', 'ko': 'Korean', 'ru': 'Russian', 'es': 'Spanish', 'pt': 'Portuguese', 'cs': 'Czech',\n",
    "\t\t\t  'tr': 'Turkish', 'nl': 'Dutch', 'ar': 'Arabic', 'fr': 'French', 'bg': 'Bulgarian', 'id': 'Indonesian',\n",
    "\t\t\t  'sk': 'Slovak', 'el': 'Greek', 'he': 'Hebrew', 'sr': 'Serbian', 'hu': 'Hungarian', 'th': 'Thai',\n",
    "\t\t\t  'zh': 'Chinese', 'no': 'Norwegian', 'sl': 'Slovenian', 'sv': 'Swedish', 'de': 'German', 'lv': 'Latvian',\n",
    "\t\t\t  'pl': 'Polish', 'it': 'Italian', 'ro': 'Romanian', 'lt': 'Lithuanian', 'ja': 'Japanese',\n",
    "\t\t\t  'uk': 'Ukrainian'}\n",
    "cluster_id = {loc: lang for lang, locs in lang_clusters.items() for loc in locs}\n",
    "len(cluster_id)"
   ],
   "metadata": {
    "collapsed": false,
    "ExecuteTime": {
     "end_time": "2023-11-02T15:35:17.088928693Z",
     "start_time": "2023-11-02T15:35:17.040487287Z"
    }
   },
   "id": "2aaed80af771fb0f"
  },
  {
   "cell_type": "code",
   "execution_count": null,
   "outputs": [],
   "source": [
    "def show_date(date):\n",
    "\treturn date.strftime('%d %b%y')\n",
    "def get_locs(article):\n",
    "\treturn [f'{loc_names[loc]}' for loc in sorted(set(i['location'] for i in article['instances']))]\n",
    "def get_cats(article):\n",
    "\treturn [f'<{cat}>' for cat in sorted(set(i['category'] for i in article['instances']))]\n",
    "def view_article(art, detailed=False):\n",
    "\tcats = ' '.join(get_cats(art))\n",
    "\tlocs = ', '.join(map(repr, get_locs(art)))\n",
    "\tpublished = parser.parse(art['publishedAt'])\n",
    "\tcollected = [parser.parse(i['collectedAt']) for i in art['instances']]\n",
    "\tfirst = min(collected)\n",
    "\tlast = max(collected)\n",
    "\ttiming = f'{show_date(first)}' if first == last else f'{show_date(first)} - {show_date(last)}'\n",
    "\n",
    "\tlines = []\n",
    "\tif 'en-title' in art:\n",
    "\t\tlines.append(f'English Title: {art[\"en-title\"]!r}')\n",
    "\tlines.append(f'{lang_names[art[\"language\"]]} Title: {art[\"title\"]!r}')\n",
    "\tlines.append(f'Categories: {cats}  ---   {locs} ({timing})')\n",
    "\n",
    "\tif detailed:\n",
    "\t\tadded_desc = False\n",
    "\t\tdesc = art.get('description')\n",
    "\t\ten_desc = art.get('en-description')\n",
    "\t\tif en_desc is not None and len(en_desc):\n",
    "\t\t\tlines.append(f'English Description: {en_desc}')\n",
    "\t\t\tadded_desc = True\n",
    "\t\tif desc is not None and len(desc):\n",
    "\t\t\tlines.append(f'{lang_names[art[\"language\"]]} Description: {desc}')\n",
    "\t\t\tadded_desc = True\n",
    "\t\tif not added_desc:\n",
    "\t\t\tlines.append(f'- No description -')\n",
    "\tprint('\\n'.join(lines))"
   ],
   "metadata": {
    "collapsed": false,
    "ExecuteTime": {
     "end_time": "2023-11-02T15:35:17.089020173Z",
     "start_time": "2023-11-02T15:35:17.040586804Z"
    }
   },
   "id": "f3328ed774ca9a7a"
  },
  {
   "cell_type": "code",
   "execution_count": null,
   "outputs": [],
   "source": [
    "root = Path('/home/fleeb/workspace/local_data/nnn')\n",
    "recs = (root / 'old-bb-v1').glob('**/*.json')\n",
    "recs = (root / 'babel-briefings-v1').glob('**/*.json')\n",
    "recs = list(recs)\n",
    "len(recs)\n",
    "articles = []\n",
    "for rec in tqdm(recs):\n",
    "\tarticles.extend(load_json(rec))\n",
    "len(articles)"
   ],
   "metadata": {
    "collapsed": false,
    "ExecuteTime": {
     "end_time": "2023-11-02T15:35:17.089084820Z",
     "start_time": "2023-11-02T15:35:17.040630961Z"
    }
   },
   "id": "40a5912898e5088"
  },
  {
   "cell_type": "code",
   "execution_count": null,
   "outputs": [],
   "source": [
    "by_loc = {}\n",
    "by_lang = {}\n",
    "for article in tqdm(articles):\n",
    "\t# article['published'] = parser.parse(article['publishedAt'])\n",
    "\tby_lang.setdefault(article['language'], []).append(article)\n",
    "\tfor instance in article['instances']:\n",
    "\t\t# instance['collected'] = parser.parse(instance['collectedAt'])\n",
    "\t\tby_loc.setdefault(instance['location'], []).append(article)\n",
    "len(by_loc), len(by_lang)"
   ],
   "metadata": {
    "collapsed": false,
    "ExecuteTime": {
     "end_time": "2023-11-02T15:35:17.089147783Z",
     "start_time": "2023-11-02T15:35:17.040658410Z"
    }
   },
   "id": "885dfa17cff11bd3"
  },
  {
   "cell_type": "code",
   "execution_count": null,
   "outputs": [],
   "source": [
    "art = random.choice(articles)\n",
    "view_article(art, detailed=True)"
   ],
   "metadata": {
    "collapsed": false,
    "ExecuteTime": {
     "end_time": "2023-11-02T15:35:17.089208949Z",
     "start_time": "2023-11-02T15:35:17.040684118Z"
    }
   },
   "id": "344957ccf1296321"
  },
  {
   "cell_type": "code",
   "execution_count": null,
   "outputs": [],
   "source": [],
   "metadata": {
    "collapsed": false,
    "ExecuteTime": {
     "end_time": "2023-11-02T15:35:17.096424291Z",
     "start_time": "2023-11-02T15:35:17.080711152Z"
    }
   },
   "id": "bd142ab40cd4efac"
  },
  {
   "cell_type": "code",
   "execution_count": null,
   "outputs": [],
   "source": [],
   "metadata": {
    "collapsed": false,
    "ExecuteTime": {
     "end_time": "2023-11-02T15:35:17.238220601Z",
     "start_time": "2023-11-02T15:35:17.206661332Z"
    }
   },
   "id": "ba3335c606ba506"
  },
  {
   "cell_type": "code",
   "execution_count": null,
   "outputs": [],
   "source": [],
   "metadata": {
    "collapsed": false
   },
   "id": "8aa3a48511da59f"
  }
 ],
 "metadata": {
  "kernelspec": {
   "display_name": "Python 3",
   "language": "python",
   "name": "python3"
  },
  "language_info": {
   "codemirror_mode": {
    "name": "ipython",
    "version": 2
   },
   "file_extension": ".py",
   "mimetype": "text/x-python",
   "name": "python",
   "nbconvert_exporter": "python",
   "pygments_lexer": "ipython2",
   "version": "2.7.6"
  }
 },
 "nbformat": 4,
 "nbformat_minor": 5
}
