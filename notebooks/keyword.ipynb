{
 "cells": [
  {
   "cell_type": "code",
   "execution_count": 1,
   "id": "initial_id",
   "metadata": {
    "collapsed": true,
    "ExecuteTime": {
     "end_time": "2023-11-05T14:34:19.225138337Z",
     "start_time": "2023-11-05T14:34:19.094278384Z"
    }
   },
   "outputs": [],
   "source": [
    "from pathlib import Path\n",
    "from tqdm.notebook import tqdm\n",
    "from tabulate import tabulate\n",
    "import random, json\n",
    "import pycountry\n",
    "from iso639 import languages\n",
    "import networkx as nx\n",
    "from dateutil import parser\n",
    "from datetime import datetime\n",
    "from collections import Counter\n",
    "from langdetect import detect\n",
    "from omnibelt import load_json, save_json\n",
    "import Levenshtein\n",
    "from unidecode import unidecode\n",
    "import unicodedata"
   ]
  },
  {
   "cell_type": "code",
   "execution_count": 2,
   "outputs": [],
   "source": [
    "from wordcloud import WordCloud\n",
    "import nltk\n",
    "from nltk import word_tokenize, pos_tag, ne_chunk\n",
    "from nltk.stem import WordNetLemmatizer\n",
    "from nltk.corpus import stopwords\n",
    "from rake_nltk import Rake\n",
    "import spacy\n",
    "# from sklearn.cluster import DBSCAN\n",
    "# import numpy as np\n",
    "\n",
    "stop_words = set(stopwords.words('english'))\n",
    "stop_words.update(\"'s\", '|', 'I', \"n't\", \"`s\", \"'s\", 'n`t')\n",
    "\n",
    "nlp = spacy.load('en_core_web_md')"
   ],
   "metadata": {
    "collapsed": false,
    "ExecuteTime": {
     "end_time": "2023-11-05T14:34:22.033715708Z",
     "start_time": "2023-11-05T14:34:19.226349865Z"
    }
   },
   "id": "d68287dc5cd515b9"
  },
  {
   "cell_type": "code",
   "execution_count": 3,
   "outputs": [],
   "source": [
    "import pandas as pd\n",
    "import seaborn as sns\n",
    "import matplotlib.pyplot as plt\n",
    "import matplotlib.dates as mdates"
   ],
   "metadata": {
    "collapsed": false,
    "ExecuteTime": {
     "end_time": "2023-11-05T14:34:22.040852910Z",
     "start_time": "2023-11-05T14:34:22.035369451Z"
    }
   },
   "id": "4dde13e01b3c6eb0"
  },
  {
   "cell_type": "code",
   "execution_count": 4,
   "outputs": [
    {
     "data": {
      "text/plain": "54"
     },
     "execution_count": 4,
     "metadata": {},
     "output_type": "execute_result"
    }
   ],
   "source": [
    "lang_clusters = {'en': ['au', 'ca', 'gb', 'ie', 'in', 'my', 'ng', 'nz', 'ph', 'sa', 'sg', 'us', 'za'],\n",
    "\t\t\t\t 'es': ['ar', 'co', 'cu', 'mx', 've'], 'de': ['at', 'ch', 'de'], 'fr': ['be', 'fr', 'ma'],\n",
    "\t\t\t\t 'zh': ['cn', 'hk', 'tw'], 'ar': ['ae', 'eg'], 'pt': ['br', 'pt'], 'bg': ['bg'], 'cs': ['cz'],\n",
    "\t\t\t\t 'el': ['gr'], 'he': ['il'], 'hu': ['hu'], 'id': ['id'], 'it': ['it'], 'ja': ['jp'], 'ko': ['kr'],\n",
    "\t\t\t\t 'lt': ['lt'], 'lv': ['lv'], 'nl': ['nl'], 'no': ['no'], 'pl': ['pl'], 'ro': ['ro'], 'ru': ['ru'],\n",
    "\t\t\t\t 'sv': ['se'], 'sl': ['si'], 'sk': ['sk'], 'sr': ['rs'], 'th': ['th'], 'tr': ['tr'], 'uk': ['ua']}\n",
    "loc_names = {'gb': 'United Kingdom', 'ar': 'Argentina', 'pl': 'Poland', 'sk': 'Slovakia', 'us': 'United States',\n",
    "\t\t\t 'eg': 'Egypt', 'no': 'Norway', 'ph': 'Philippines', 'at': 'Austria', 'rs': 'Serbia', 'tw': 'Taiwan',\n",
    "\t\t\t 'be': 'Belgium', 'cu': 'Cuba', 'sa': 'Saudi Arabia', 'th': 'Thailand', 'id': 'Indonesia',\n",
    "\t\t\t 'ru': 'Russian Federation', 'ch': 'Switzerland', 'fr': 'France', 'lt': 'Lithuania', 'tr': 'Turkey',\n",
    "\t\t\t 'de': 'Germany', 'cz': 'Czechia', 'pt': 'Portugal', 'ae': 'United Arab Emirates', 'it': 'Italy',\n",
    "\t\t\t 'cn': 'China', 'lv': 'Latvia', 'nl': 'Netherlands', 'hk': 'Hong Kong', 'ca': 'Canada', 'br': 'Brazil',\n",
    "\t\t\t 'hu': 'Hungary', 'kr': 'Korea', 'si': 'Slovenia', 'au': 'Australia', 'my': 'Malaysia', 'ie': 'Ireland',\n",
    "\t\t\t 'ua': 'Ukraine', 'in': 'India', 'ma': 'Morocco', 'bg': 'Bulgaria', 'ng': 'Nigeria', 'il': 'Israel',\n",
    "\t\t\t 'se': 'Sweden', 'za': 'South Africa', 've': 'Venezuela', 'nz': 'New Zealand', 'jp': 'Japan',\n",
    "\t\t\t 'sg': 'Singapore', 'gr': 'Greece', 'mx': 'Mexico', 'co': 'Colombia', 'ro': 'Romania'}\n",
    "lang_names = {'en': 'English', 'ko': 'Korean', 'ru': 'Russian', 'es': 'Spanish', 'pt': 'Portuguese', 'cs': 'Czech',\n",
    "\t\t\t  'tr': 'Turkish', 'nl': 'Dutch', 'ar': 'Arabic', 'fr': 'French', 'bg': 'Bulgarian', 'id': 'Indonesian',\n",
    "\t\t\t  'sk': 'Slovak', 'el': 'Greek', 'he': 'Hebrew', 'sr': 'Serbian', 'hu': 'Hungarian', 'th': 'Thai',\n",
    "\t\t\t  'zh': 'Chinese', 'no': 'Norwegian', 'sl': 'Slovenian', 'sv': 'Swedish', 'de': 'German', 'lv': 'Latvian',\n",
    "\t\t\t  'pl': 'Polish', 'it': 'Italian', 'ro': 'Romanian', 'lt': 'Lithuanian', 'ja': 'Japanese',\n",
    "\t\t\t  'uk': 'Ukrainian'}\n",
    "cluster_id = {loc: lang for lang, locs in lang_clusters.items() for loc in locs}\n",
    "len(cluster_id)"
   ],
   "metadata": {
    "collapsed": false,
    "ExecuteTime": {
     "end_time": "2023-11-05T14:34:27.480058015Z",
     "start_time": "2023-11-05T14:34:27.425994024Z"
    }
   },
   "id": "2aaed80af771fb0f"
  },
  {
   "cell_type": "code",
   "execution_count": 11,
   "outputs": [],
   "source": [
    "def show_date(date):\n",
    "\treturn date.strftime('%d %b%y')\n",
    "def get_locs(article):\n",
    "\treturn [f'{loc_names[loc]}' for loc in sorted(set(i['location'] for i in article['instances']))]\n",
    "def get_cats(article):\n",
    "\treturn [f'<{cat}>' for cat in sorted(set(i['category'] for i in article['instances']))]\n",
    "def view_article(art, detailed=False):\n",
    "\tcats = ' '.join(get_cats(art))\n",
    "\tlocs = ', '.join(map(repr, get_locs(art)))\n",
    "\tpublished = parser.parse(art['publishedAt'])\n",
    "\tcollected = [parser.parse(i['collectedAt']) for i in art['instances']]\n",
    "\tfirst = min(collected)\n",
    "\tlast = max(collected)\n",
    "\ttiming = f'{show_date(first)}' if first == last else f'{show_date(first)} - {show_date(last)}'\n",
    "\n",
    "\tlines = []\n",
    "\tif 'en-title' in art:\n",
    "\t\tlines.append(f'English Title: {art[\"en-title\"]!r}')\n",
    "\tlines.append(f'{lang_names[art[\"language\"]]} Title: {art[\"title\"]!r}')\n",
    "\tlines.append(f'Categories: {cats}  ---   {locs} ({timing})  ---  {art[\"source-name\"]}')\n",
    "\n",
    "\tif detailed:\n",
    "\t\tadded_desc = False\n",
    "\t\tdesc = art.get('description')\n",
    "\t\ten_desc = art.get('en-description')\n",
    "\t\tif en_desc is not None and len(en_desc):\n",
    "\t\t\tlines.append(f'English Description: {en_desc}')\n",
    "\t\t\tadded_desc = True\n",
    "\t\telif desc is not None and len(desc):\n",
    "\t\t\tlines.append(f'{lang_names[art[\"language\"]]} Description: {desc}')\n",
    "\t\t\tadded_desc = True\n",
    "\t\tif not added_desc:\n",
    "\t\t\tlines.append(f'- No description -')\n",
    "\tprint('\\n'.join(lines))"
   ],
   "metadata": {
    "collapsed": false,
    "ExecuteTime": {
     "end_time": "2023-11-05T14:36:45.455592710Z",
     "start_time": "2023-11-05T14:36:45.368760146Z"
    }
   },
   "id": "f3328ed774ca9a7a"
  },
  {
   "cell_type": "code",
   "execution_count": 6,
   "outputs": [
    {
     "data": {
      "text/plain": "  0%|          | 0/54 [00:00<?, ?it/s]",
      "application/vnd.jupyter.widget-view+json": {
       "version_major": 2,
       "version_minor": 0,
       "model_id": "8c9c6b7692954a168ec0bcdd7d4bb313"
      }
     },
     "metadata": {},
     "output_type": "display_data"
    },
    {
     "data": {
      "text/plain": "4719199"
     },
     "execution_count": 6,
     "metadata": {},
     "output_type": "execute_result"
    }
   ],
   "source": [
    "root = Path('/home/fleeb/workspace/local_data/nnn')\n",
    "recs = (root / 'babel-briefings-v1').glob('**/*.json')\n",
    "recs = list(recs)\n",
    "len(recs)\n",
    "articles = []\n",
    "for rec in tqdm(recs):\n",
    "\tarticles.extend(load_json(rec))\n",
    "len(articles)"
   ],
   "metadata": {
    "collapsed": false,
    "ExecuteTime": {
     "end_time": "2023-11-05T14:35:28.090073969Z",
     "start_time": "2023-11-05T14:34:41.696609695Z"
    }
   },
   "id": "40a5912898e5088"
  },
  {
   "cell_type": "code",
   "execution_count": 7,
   "outputs": [
    {
     "data": {
      "text/plain": "  0%|          | 0/4719199 [00:00<?, ?it/s]",
      "application/vnd.jupyter.widget-view+json": {
       "version_major": 2,
       "version_minor": 0,
       "model_id": "2c0024badc644bacac88d17c8ee1d648"
      }
     },
     "metadata": {},
     "output_type": "display_data"
    },
    {
     "data": {
      "text/plain": "(54, 30)"
     },
     "execution_count": 7,
     "metadata": {},
     "output_type": "execute_result"
    }
   ],
   "source": [
    "by_loc = {}\n",
    "by_lang = {}\n",
    "by_source = {}\n",
    "by_ID = {}\n",
    "for article in tqdm(articles):\n",
    "\tby_ID[article['ID']] = article\n",
    "\t# article['published'] = parser.parse(article['publishedAt'])\n",
    "\tby_source.setdefault(article['source-name'], []).append(article)\n",
    "\tby_lang.setdefault(article['language'], []).append(article)\n",
    "\tfor instance in article['instances']:\n",
    "\t\t# instance['collected'] = parser.parse(instance['collectedAt'])\n",
    "\t\tby_loc.setdefault(instance['location'], []).append(article)\n",
    "len(by_loc), len(by_lang)"
   ],
   "metadata": {
    "collapsed": false,
    "ExecuteTime": {
     "end_time": "2023-11-05T14:35:32.057886268Z",
     "start_time": "2023-11-05T14:35:28.085104722Z"
    }
   },
   "id": "885dfa17cff11bd3"
  },
  {
   "cell_type": "code",
   "execution_count": 8,
   "outputs": [],
   "source": [
    "def inst_id(art_id, inst_idx):\n",
    "\treturn f'{str(art_id).zfill(7)}-{str(inst_idx).zfill(3)}'\n",
    "def get_inst(inst_id):\n",
    "\tart_id, inst_idx = inst_id.split('-')\n",
    "\tart = by_ID[art_id]\n",
    "\tinst = art['instances'][int(inst_idx)]\n",
    "\treturn {**inst, **art}\n",
    "def art_row(art):\n",
    "\treturn {'aid': art['ID'], 'title': art.get('en-title', art['title']), 'source': art['source-name'],\n",
    "\t\t\t'language': art['language']}\n",
    "def get_title(art):\n",
    "\treturn art.get('en-title', art['title'])\n",
    "def article_title_bag(art):\n",
    "\ttitle = art.get('en-title', art['title'])\n",
    "\ttitle_doc = nlp(title)\n",
    "\tkey_terms = Counter([token.lemma_.lower() for chunk in title_doc.noun_chunks for token in chunk])\n",
    "\treturn key_terms"
   ],
   "metadata": {
    "collapsed": false,
    "ExecuteTime": {
     "end_time": "2023-11-05T14:35:32.116744116Z",
     "start_time": "2023-11-05T14:35:32.059620668Z"
    }
   },
   "id": "a1eeab28c65e2042"
  },
  {
   "cell_type": "code",
   "execution_count": 9,
   "outputs": [
    {
     "data": {
      "text/plain": "  0%|          | 0/4719199 [00:00<?, ?it/s]",
      "application/vnd.jupyter.widget-view+json": {
       "version_major": 2,
       "version_minor": 0,
       "model_id": "f457b99b0d534f01b8a24372cc22f75f"
      }
     },
     "metadata": {},
     "output_type": "display_data"
    },
    {
     "data": {
      "text/plain": "7419089"
     },
     "execution_count": 9,
     "metadata": {},
     "output_type": "execute_result"
    }
   ],
   "source": [
    "df = pd.DataFrame(\n",
    "\t[{**row, **inst, 'iid': inst_id(row['aid'], i)} for row in tqdm([art_row(art) for art in articles]) for i, inst in\n",
    "\t enumerate(by_ID[row['aid']]['instances'])])\n",
    "df['collectedAt'] = pd.to_datetime(df['collectedAt'])\n",
    "df = df.sort_values('collectedAt')\n",
    "df['date'] = df['collectedAt'].dt.date\n",
    "len(df)"
   ],
   "metadata": {
    "collapsed": false,
    "ExecuteTime": {
     "end_time": "2023-11-05T14:35:49.216051405Z",
     "start_time": "2023-11-05T14:35:32.100911380Z"
    }
   },
   "id": "f0d01fc223882ab1"
  },
  {
   "cell_type": "code",
   "execution_count": 12,
   "outputs": [
    {
     "name": "stdout",
     "output_type": "stream",
     "text": [
      "English Title: 'Good news comes frequently! Shanxi! Shanxi! A large gas field of 100 billion square meters was discovered! - Securities Times'\n",
      "Chinese Title: '喜讯频传！山西！山西！发现一个千亿方大气田！ - 证券时报'\n",
      "Categories: <business>  ---   'China' (28 Feb21)  ---  Stcn.com\n",
      "English Description: CNOOC announced this morning that it successfully discovered a 100-billion-square-meter gas field in Shanxi. Approved by the Ministry of Natural Resources, the proven geological reserves of Shanxi Linxing Gas Field exceed 101 billion cubic meters. The gas field is currently further accelerating exploration and development. Once completed, it will greatly enhance the clean energy supply capacity in North China. According to the plan, CNOOC strives to build the Linxing Gas Field into a large gas field with an annual production capacity of 3.3 billion cubic meters and an annual output of 2.7 billion cubic meters within the next three years. Natural gas from Linxing Gas Field is expected to be transported to Xiongan New Area in July this year.\n"
     ]
    }
   ],
   "source": [
    "art = random.choice(articles)\n",
    "view_article(art, detailed=True)"
   ],
   "metadata": {
    "collapsed": false,
    "ExecuteTime": {
     "end_time": "2023-11-05T14:36:48.007924359Z",
     "start_time": "2023-11-05T14:36:47.978282425Z"
    }
   },
   "id": "344957ccf1296321"
  },
  {
   "cell_type": "code",
   "execution_count": 13,
   "outputs": [
    {
     "data": {
      "text/plain": "  0%|          | 0/4719199 [00:00<?, ?it/s]",
      "application/vnd.jupyter.widget-view+json": {
       "version_major": 2,
       "version_minor": 0,
       "model_id": "fb818b059a954507a5027d0c7e04fd05"
      }
     },
     "metadata": {},
     "output_type": "display_data"
    },
    {
     "data": {
      "text/plain": "4719199"
     },
     "execution_count": 13,
     "metadata": {},
     "output_type": "execute_result"
    }
   ],
   "source": [
    "bagowords = {int(ID): bag for ID, bag in load_json(root/'bagowords.json').items()}\n",
    "# for art in tqdm(articles):\n",
    "# \tif art['ID'] not in bagowords:\n",
    "# \t\tbagowords[art['ID']] = Counter([token.lemma_ for token in nlp(unidecode(art.get('en-title', art['title'])))])\n",
    "# save_json(bagowords, root/'bagowords.json');\n",
    "lowords = {ID: {k.lower(): v for k,v in bag.items()} for ID, bag in tqdm(bagowords.items())}\n",
    "all_bags = lowords\n",
    "len(bagowords)"
   ],
   "metadata": {
    "collapsed": false,
    "ExecuteTime": {
     "end_time": "2023-11-05T14:37:25.923681326Z",
     "start_time": "2023-11-05T14:36:56.486505305Z"
    }
   },
   "id": "c621675cc3f3ef08"
  },
  {
   "cell_type": "code",
   "execution_count": 14,
   "outputs": [
    {
     "name": "stdout",
     "output_type": "stream",
     "text": [
      "{'aung', 'san', 'myanmar', 'burmese', 'kyi', 'aun', 'burma', 'ahn', 'suu', 'sing'}\n"
     ]
    }
   ],
   "source": [
    "query = 'ahn sang suu kyi'\n",
    "# query = 'iphone'\n",
    "query = 'alibaba'\n",
    "# query = 'myanmar burma coup burmese military ahn sang suu kyi aung san aun'\n",
    "query = 'ahn sang suu kyi aung san aun myanmar burma burmese'\n",
    "qdoc = nlp(query)\n",
    "qtokens = [token.lemma_.lower() for token in qdoc]\n",
    "qkeys = set(qtokens)\n",
    "print(qkeys)"
   ],
   "metadata": {
    "collapsed": false,
    "ExecuteTime": {
     "end_time": "2023-11-05T14:37:30.682312815Z",
     "start_time": "2023-11-05T14:37:30.649241291Z"
    }
   },
   "id": "93784cfe4bd5e780"
  },
  {
   "cell_type": "code",
   "execution_count": 15,
   "outputs": [
    {
     "data": {
      "text/plain": "  0%|          | 0/4719199 [00:00<?, ?it/s]",
      "application/vnd.jupyter.widget-view+json": {
       "version_major": 2,
       "version_minor": 0,
       "model_id": "d85cc3ea60454a4f823d390e5f9c1e7e"
      }
     },
     "metadata": {},
     "output_type": "display_data"
    },
    {
     "data": {
      "text/plain": "160"
     },
     "execution_count": 15,
     "metadata": {},
     "output_type": "execute_result"
    }
   ],
   "source": [
    "min_hits = 3\n",
    "matches = Counter()\n",
    "for ID, bag in tqdm(all_bags.items()):\n",
    "\thits = qkeys.intersection([k.lower() for k in bag.keys()])\n",
    "\tif len(hits) and (min_hits is None or len(hits) >= min_hits):\n",
    "\t\tmatches[ID] = len(hits)\n",
    "# matches = Counter([art['ID'] for art in tqdm(articles) if 'suu kyi' in unidecode(art.get('en-title', art['title']).lower())])\n",
    "# len(matches)\n",
    "len(matches)"
   ],
   "metadata": {
    "collapsed": false,
    "ExecuteTime": {
     "end_time": "2023-11-05T14:37:42.716116667Z",
     "start_time": "2023-11-05T14:37:33.527942155Z"
    }
   },
   "id": "aea1524765217473"
  },
  {
   "cell_type": "code",
   "execution_count": 16,
   "outputs": [
    {
     "data": {
      "text/plain": "             aid                                              title  \\\n6558877   547450  Suu Kyi points out that Myanmar faces 'COVID d...   \n426674   1743778  Aung San Suu Kyi: Myanmar democracy icon who f...   \n426675   1743778  Aung San Suu Kyi: Myanmar democracy icon who f...   \n3353365  1757195  Despite accusations of genocide, Aung San Suu ...   \n426806   1758980  A look at Myanmar's election and Suu Kyi's exp...   \n...          ...                                                ...   \n2711812  5245848  Myanmar protesters wear flowers to mark Suu Ky...   \n4726609  5260902  Myanmar protesters wear flowers to mark Suu Ky...   \n4449057  5426173  Myanmar's Aung San Suu Kyi urges people to be ...   \n2728744  6494786  Myanmar junta to put Suu Kyi on trial for corr...   \n4085808  6999892  Aung San Suu Kyi testified in court for the fi...   \n\n                      source language               collectedAt location  \\\n6558877      Dailynews.co.th       th 2020-09-03 06:55:00+00:00       th   \n426674   Yahoo Entertainment       en 2020-11-06 13:38:00+00:00       sa   \n426675   Yahoo Entertainment       en 2020-11-06 13:38:00+00:00       us   \n3353365                  CNN       en 2020-11-07 11:01:00+00:00       us   \n426806      Associated Press       en 2020-11-07 11:01:00+00:00       sa   \n...                      ...      ...                       ...      ...   \n2711812             GMA News       en 2021-06-19 08:29:00+00:00       ph   \n4726609        The Sun Daily       en 2021-06-20 11:34:00+00:00       my   \n4449057                  CNA       en 2021-06-29 09:06:00+00:00       sg   \n2728744             GMA News       en 2021-09-17 11:47:00+00:00       ph   \n4085808       derStandard.at       de 2021-10-27 10:01:00+00:00       at   \n\n        category          iid        date  \n6558877  general  0547450-000  2020-09-03  \n426674   general  1743778-000  2020-11-06  \n426675   general  1743778-001  2020-11-06  \n3353365  general  1757195-000  2020-11-07  \n426806   general  1758980-000  2020-11-07  \n...          ...          ...         ...  \n2711812  general  5245848-000  2021-06-19  \n4726609  general  5260902-000  2021-06-20  \n4449057  general  5426173-000  2021-06-29  \n2728744  general  6494786-000  2021-09-17  \n4085808  general  6999892-000  2021-10-27  \n\n[174 rows x 9 columns]",
      "text/html": "<div>\n<style scoped>\n    .dataframe tbody tr th:only-of-type {\n        vertical-align: middle;\n    }\n\n    .dataframe tbody tr th {\n        vertical-align: top;\n    }\n\n    .dataframe thead th {\n        text-align: right;\n    }\n</style>\n<table border=\"1\" class=\"dataframe\">\n  <thead>\n    <tr style=\"text-align: right;\">\n      <th></th>\n      <th>aid</th>\n      <th>title</th>\n      <th>source</th>\n      <th>language</th>\n      <th>collectedAt</th>\n      <th>location</th>\n      <th>category</th>\n      <th>iid</th>\n      <th>date</th>\n    </tr>\n  </thead>\n  <tbody>\n    <tr>\n      <th>6558877</th>\n      <td>547450</td>\n      <td>Suu Kyi points out that Myanmar faces 'COVID d...</td>\n      <td>Dailynews.co.th</td>\n      <td>th</td>\n      <td>2020-09-03 06:55:00+00:00</td>\n      <td>th</td>\n      <td>general</td>\n      <td>0547450-000</td>\n      <td>2020-09-03</td>\n    </tr>\n    <tr>\n      <th>426674</th>\n      <td>1743778</td>\n      <td>Aung San Suu Kyi: Myanmar democracy icon who f...</td>\n      <td>Yahoo Entertainment</td>\n      <td>en</td>\n      <td>2020-11-06 13:38:00+00:00</td>\n      <td>sa</td>\n      <td>general</td>\n      <td>1743778-000</td>\n      <td>2020-11-06</td>\n    </tr>\n    <tr>\n      <th>426675</th>\n      <td>1743778</td>\n      <td>Aung San Suu Kyi: Myanmar democracy icon who f...</td>\n      <td>Yahoo Entertainment</td>\n      <td>en</td>\n      <td>2020-11-06 13:38:00+00:00</td>\n      <td>us</td>\n      <td>general</td>\n      <td>1743778-001</td>\n      <td>2020-11-06</td>\n    </tr>\n    <tr>\n      <th>3353365</th>\n      <td>1757195</td>\n      <td>Despite accusations of genocide, Aung San Suu ...</td>\n      <td>CNN</td>\n      <td>en</td>\n      <td>2020-11-07 11:01:00+00:00</td>\n      <td>us</td>\n      <td>general</td>\n      <td>1757195-000</td>\n      <td>2020-11-07</td>\n    </tr>\n    <tr>\n      <th>426806</th>\n      <td>1758980</td>\n      <td>A look at Myanmar's election and Suu Kyi's exp...</td>\n      <td>Associated Press</td>\n      <td>en</td>\n      <td>2020-11-07 11:01:00+00:00</td>\n      <td>sa</td>\n      <td>general</td>\n      <td>1758980-000</td>\n      <td>2020-11-07</td>\n    </tr>\n    <tr>\n      <th>...</th>\n      <td>...</td>\n      <td>...</td>\n      <td>...</td>\n      <td>...</td>\n      <td>...</td>\n      <td>...</td>\n      <td>...</td>\n      <td>...</td>\n      <td>...</td>\n    </tr>\n    <tr>\n      <th>2711812</th>\n      <td>5245848</td>\n      <td>Myanmar protesters wear flowers to mark Suu Ky...</td>\n      <td>GMA News</td>\n      <td>en</td>\n      <td>2021-06-19 08:29:00+00:00</td>\n      <td>ph</td>\n      <td>general</td>\n      <td>5245848-000</td>\n      <td>2021-06-19</td>\n    </tr>\n    <tr>\n      <th>4726609</th>\n      <td>5260902</td>\n      <td>Myanmar protesters wear flowers to mark Suu Ky...</td>\n      <td>The Sun Daily</td>\n      <td>en</td>\n      <td>2021-06-20 11:34:00+00:00</td>\n      <td>my</td>\n      <td>general</td>\n      <td>5260902-000</td>\n      <td>2021-06-20</td>\n    </tr>\n    <tr>\n      <th>4449057</th>\n      <td>5426173</td>\n      <td>Myanmar's Aung San Suu Kyi urges people to be ...</td>\n      <td>CNA</td>\n      <td>en</td>\n      <td>2021-06-29 09:06:00+00:00</td>\n      <td>sg</td>\n      <td>general</td>\n      <td>5426173-000</td>\n      <td>2021-06-29</td>\n    </tr>\n    <tr>\n      <th>2728744</th>\n      <td>6494786</td>\n      <td>Myanmar junta to put Suu Kyi on trial for corr...</td>\n      <td>GMA News</td>\n      <td>en</td>\n      <td>2021-09-17 11:47:00+00:00</td>\n      <td>ph</td>\n      <td>general</td>\n      <td>6494786-000</td>\n      <td>2021-09-17</td>\n    </tr>\n    <tr>\n      <th>4085808</th>\n      <td>6999892</td>\n      <td>Aung San Suu Kyi testified in court for the fi...</td>\n      <td>derStandard.at</td>\n      <td>de</td>\n      <td>2021-10-27 10:01:00+00:00</td>\n      <td>at</td>\n      <td>general</td>\n      <td>6999892-000</td>\n      <td>2021-10-27</td>\n    </tr>\n  </tbody>\n</table>\n<p>174 rows × 9 columns</p>\n</div>"
     },
     "execution_count": 16,
     "metadata": {},
     "output_type": "execute_result"
    }
   ],
   "source": [
    "sub = df[df['aid'].isin(matches)]\n",
    "sub"
   ],
   "metadata": {
    "collapsed": false,
    "ExecuteTime": {
     "end_time": "2023-11-05T14:37:42.846683844Z",
     "start_time": "2023-11-05T14:37:42.712198239Z"
    }
   },
   "id": "372c8db970306921"
  },
  {
   "cell_type": "code",
   "execution_count": 17,
   "outputs": [],
   "source": [
    "cat = 'language'\n",
    "grouped_df = sub.groupby(['date', cat]).size().reset_index(name='counts')"
   ],
   "metadata": {
    "collapsed": false,
    "ExecuteTime": {
     "end_time": "2023-11-05T14:37:45.007046647Z",
     "start_time": "2023-11-05T14:37:44.981884142Z"
    }
   },
   "id": "710172ec03d35f0b"
  },
  {
   "cell_type": "code",
   "execution_count": 18,
   "outputs": [
    {
     "data": {
      "text/plain": "<Figure size 1400x700 with 1 Axes>",
      "image/png": "[encoded data removed]"
     },
     "metadata": {},
     "output_type": "display_data"
    }
   ],
   "source": [
    "plt.figure(figsize=(14, 7))\n",
    "sns.histplot(data=grouped_df, x='date', weights='counts', hue=cat, multiple='stack')\n",
    "\n",
    "# Rotating the x-axis labels for better readability\n",
    "plt.xticks(rotation=45);"
   ],
   "metadata": {
    "collapsed": false,
    "ExecuteTime": {
     "end_time": "2023-11-05T14:38:00.409195874Z",
     "start_time": "2023-11-05T14:37:47.658121497Z"
    }
   },
   "id": "aafaff2f74a57392"
  },
  {
   "cell_type": "code",
   "execution_count": 19,
   "outputs": [
    {
     "data": {
      "text/plain": "  0%|          | 0/413 [00:00<?, ?it/s]",
      "application/vnd.jupyter.widget-view+json": {
       "version_major": 2,
       "version_minor": 0,
       "model_id": "8ffd1fdc705b42e9a505c87c0a7f81ca"
      }
     },
     "metadata": {},
     "output_type": "display_data"
    },
    {
     "data": {
      "text/plain": "413"
     },
     "execution_count": 19,
     "metadata": {},
     "output_type": "execute_result"
    }
   ],
   "source": [
    "daybags = {}\n",
    "date_aids = dict(df.groupby('date')['aid'].apply(list))\n",
    "for date, aIDs in tqdm(sorted(date_aids.items())):\n",
    "\ttotal = Counter()\n",
    "\tfor aID in aIDs:\n",
    "\t\ttotal.update(all_bags[aID])\n",
    "\tdaybags[date] = total\n",
    "len(daybags)"
   ],
   "metadata": {
    "collapsed": false,
    "ExecuteTime": {
     "end_time": "2023-11-05T14:38:35.665807586Z",
     "start_time": "2023-11-05T14:38:01.928982165Z"
    }
   },
   "id": "fe3ec85ae5c5a057"
  },
  {
   "cell_type": "code",
   "execution_count": 20,
   "outputs": [
    {
     "data": {
      "text/plain": "  0%|          | 0/412 [00:00<?, ?it/s]",
      "application/vnd.jupyter.widget-view+json": {
       "version_major": 2,
       "version_minor": 0,
       "model_id": "5841b68bae70402aa2ce8ce3c9540ed6"
      }
     },
     "metadata": {},
     "output_type": "display_data"
    }
   ],
   "source": [
    "deltas = {}\n",
    "dates = list(daybags.keys())\n",
    "for d1, d2 in tqdm(zip(dates[:-1], dates[1:]),total=len(dates)-1):\n",
    "\tdeltas[d2] = daybags[d2] - daybags[d1]"
   ],
   "metadata": {
    "collapsed": false,
    "ExecuteTime": {
     "end_time": "2023-11-05T14:38:40.224682434Z",
     "start_time": "2023-11-05T14:38:37.339658442Z"
    }
   },
   "id": "ab3050d3047104ae"
  },
  {
   "cell_type": "code",
   "execution_count": 23,
   "outputs": [],
   "source": [
    "target = datetime(2021, 2, 1).date()\n",
    "# df[df['date'] == target]"
   ],
   "metadata": {
    "collapsed": false,
    "ExecuteTime": {
     "end_time": "2023-11-05T14:38:52.825958367Z",
     "start_time": "2023-11-05T14:38:52.765102374Z"
    }
   },
   "id": "ae754eb92054a075"
  },
  {
   "cell_type": "code",
   "execution_count": 24,
   "outputs": [
    {
     "data": {
      "text/plain": "9073"
     },
     "execution_count": 24,
     "metadata": {},
     "output_type": "execute_result"
    }
   ],
   "source": [
    "dt = deltas[target]\n",
    "len(dt)"
   ],
   "metadata": {
    "collapsed": false,
    "ExecuteTime": {
     "end_time": "2023-11-05T14:38:58.785202605Z",
     "start_time": "2023-11-05T14:38:58.728810381Z"
    }
   },
   "id": "b09a65043d594f71"
  },
  {
   "cell_type": "code",
   "execution_count": 25,
   "outputs": [
    {
     "data": {
      "text/plain": "9005"
     },
     "execution_count": 25,
     "metadata": {},
     "output_type": "execute_result"
    }
   ],
   "source": [
    "keywords = Counter({w:f for w, f in dt.items() if any(not unicodedata.category(char).startswith('P') for char in w) and w not in stop_words})\n",
    "len(keywords)"
   ],
   "metadata": {
    "collapsed": false,
    "ExecuteTime": {
     "end_time": "2023-11-05T14:38:59.898385133Z",
     "start_time": "2023-11-05T14:38:59.888882928Z"
    }
   },
   "id": "56baa2662dffe7e4"
  },
  {
   "cell_type": "code",
   "execution_count": 440,
   "outputs": [],
   "source": [
    "# w, f = keywords.most_common()[0]\n",
    "# w, f, any(not unicodedata.category(char).startswith('P') for char in w), w not in stop_words"
   ],
   "metadata": {
    "collapsed": false,
    "ExecuteTime": {
     "end_time": "2023-11-05T13:43:24.035701312Z",
     "start_time": "2023-11-05T13:43:23.963782659Z"
    }
   },
   "id": "1241146e15488fa7"
  },
  {
   "cell_type": "code",
   "execution_count": 26,
   "outputs": [
    {
     "name": "stdout",
     "output_type": "stream",
     "text": [
      "-------------  --\n",
      "silver         82\n",
      "liverpool      75\n",
      "year           73\n",
      "february       69\n",
      "may            60\n",
      "myanmar        49\n",
      "international  44\n",
      "1              43\n",
      "transfer       42\n",
      "coup           40\n",
      "billion        36\n",
      "eu             36\n",
      "last           35\n",
      "name           34\n",
      "stock          34\n",
      "science        33\n",
      "get            33\n",
      "channel        32\n",
      "san            29\n",
      "11             28\n",
      "high           27\n",
      "post           27\n",
      "network        26\n",
      "million        26\n",
      "pfizer         26\n",
      "military       26\n",
      "investing.com  25\n",
      "discover       25\n",
      "speed          25\n",
      "icloud         25\n",
      "-------------  --\n"
     ]
    }
   ],
   "source": [
    "print(tabulate(keywords.most_common(30)))"
   ],
   "metadata": {
    "collapsed": false,
    "ExecuteTime": {
     "end_time": "2023-11-05T14:39:05.202454472Z",
     "start_time": "2023-11-05T14:39:05.175951973Z"
    }
   },
   "id": "a70564613812f669"
  },
  {
   "cell_type": "code",
   "execution_count": 27,
   "outputs": [
    {
     "data": {
      "text/plain": "19"
     },
     "execution_count": 27,
     "metadata": {},
     "output_type": "execute_result"
    }
   ],
   "source": [
    "keywords['aung']"
   ],
   "metadata": {
    "collapsed": false,
    "ExecuteTime": {
     "end_time": "2023-11-05T14:39:14.459908501Z",
     "start_time": "2023-11-05T14:39:14.411401449Z"
    }
   },
   "id": "f5888b7a1eb93f2c"
  },
  {
   "cell_type": "code",
   "execution_count": 32,
   "outputs": [
    {
     "data": {
      "text/plain": "22947"
     },
     "execution_count": 32,
     "metadata": {},
     "output_type": "execute_result"
    }
   ],
   "source": [
    "token = 'liverpool'\n",
    "included = [ID for ID, bag in all_bags.items() if token in bag]\n",
    "len(included)"
   ],
   "metadata": {
    "collapsed": false,
    "ExecuteTime": {
     "end_time": "2023-11-05T14:48:32.039830575Z",
     "start_time": "2023-11-05T14:48:31.521674805Z"
    }
   },
   "id": "6676c1fd92f331d9"
  },
  {
   "cell_type": "code",
   "execution_count": 33,
   "outputs": [
    {
     "name": "stderr",
     "output_type": "stream",
     "text": [
      "/tmp/ipykernel_848168/4257865151.py:1: UserWarning: Boolean Series key will be reindexed to match DataFrame index.\n",
      "  df[df['aid'].isin(included)][df['date'] == target]\n"
     ]
    },
    {
     "data": {
      "text/plain": "             aid                                              title  \\\n5299623  2906047            The pearls of Liverpool's victory - Olé   \n4428235  2905115  Mark Lawrenson shares his very honest verdict ...   \n4428249  2906043  Reasons emerge as Liverpool 'agree fee' for de...   \n4428236  2905160  Transfer expert predicts Liverpool could go to...   \n4428263  2906755  Liverpool agree deal to sign Preston defender ...   \n...          ...                                                ...   \n6340036  2910741  Liverpool is trying to sign a defender, Sparta...   \n2021828  2910722  Covers of English newspapers - What did they s...   \n2021827  2910722  Covers of English newspapers - What did they s...   \n320745   2910701  Liverpool make emergency reinforcements on the...   \n2021785  2907229  Klopp does it “at the last minute”..and Liverp...   \n\n                     source language               collectedAt location  \\\n5299623                 Olé       es 2021-02-01 14:11:00+00:00       ar   \n4428235  Deepdaledigest.com       en 2021-02-01 14:11:00+00:00       sg   \n4428249        Teamtalk.com       en 2021-02-01 14:11:00+00:00       sg   \n4428236        Teamtalk.com       en 2021-02-01 14:11:00+00:00       sg   \n4428263                 CNA       en 2021-02-01 14:11:00+00:00       sg   \n...                     ...      ...                       ...      ...   \n6340036         Sportbox.ru       ru 2021-02-01 14:11:00+00:00       ru   \n2021828         Filgoal.com       ar 2021-02-01 14:11:00+00:00       eg   \n2021827         Filgoal.com       ar 2021-02-01 14:11:00+00:00       eg   \n320745        Sporting News       ja 2021-02-01 14:11:00+00:00       jp   \n2021785   Skynewsarabia.com       ar 2021-02-01 14:11:00+00:00       eg   \n\n        category          iid        date  \n5299623   sports  2906047-000  2021-02-01  \n4428235   sports  2905115-000  2021-02-01  \n4428249   sports  2906043-000  2021-02-01  \n4428236   sports  2905160-000  2021-02-01  \n4428263   sports  2906755-000  2021-02-01  \n...          ...          ...         ...  \n6340036   sports  2910741-000  2021-02-01  \n2021828   sports  2910722-001  2021-02-01  \n2021827  general  2910722-000  2021-02-01  \n320745    sports  2910701-000  2021-02-01  \n2021785   sports  2907229-000  2021-02-01  \n\n[98 rows x 9 columns]",
      "text/html": "<div>\n<style scoped>\n    .dataframe tbody tr th:only-of-type {\n        vertical-align: middle;\n    }\n\n    .dataframe tbody tr th {\n        vertical-align: top;\n    }\n\n    .dataframe thead th {\n        text-align: right;\n    }\n</style>\n<table border=\"1\" class=\"dataframe\">\n  <thead>\n    <tr style=\"text-align: right;\">\n      <th></th>\n      <th>aid</th>\n      <th>title</th>\n      <th>source</th>\n      <th>language</th>\n      <th>collectedAt</th>\n      <th>location</th>\n      <th>category</th>\n      <th>iid</th>\n      <th>date</th>\n    </tr>\n  </thead>\n  <tbody>\n    <tr>\n      <th>5299623</th>\n      <td>2906047</td>\n      <td>The pearls of Liverpool's victory - Olé</td>\n      <td>Olé</td>\n      <td>es</td>\n      <td>2021-02-01 14:11:00+00:00</td>\n      <td>ar</td>\n      <td>sports</td>\n      <td>2906047-000</td>\n      <td>2021-02-01</td>\n    </tr>\n    <tr>\n      <th>4428235</th>\n      <td>2905115</td>\n      <td>Mark Lawrenson shares his very honest verdict ...</td>\n      <td>Deepdaledigest.com</td>\n      <td>en</td>\n      <td>2021-02-01 14:11:00+00:00</td>\n      <td>sg</td>\n      <td>sports</td>\n      <td>2905115-000</td>\n      <td>2021-02-01</td>\n    </tr>\n    <tr>\n      <th>4428249</th>\n      <td>2906043</td>\n      <td>Reasons emerge as Liverpool 'agree fee' for de...</td>\n      <td>Teamtalk.com</td>\n      <td>en</td>\n      <td>2021-02-01 14:11:00+00:00</td>\n      <td>sg</td>\n      <td>sports</td>\n      <td>2906043-000</td>\n      <td>2021-02-01</td>\n    </tr>\n    <tr>\n      <th>4428236</th>\n      <td>2905160</td>\n      <td>Transfer expert predicts Liverpool could go to...</td>\n      <td>Teamtalk.com</td>\n      <td>en</td>\n      <td>2021-02-01 14:11:00+00:00</td>\n      <td>sg</td>\n      <td>sports</td>\n      <td>2905160-000</td>\n      <td>2021-02-01</td>\n    </tr>\n    <tr>\n      <th>4428263</th>\n      <td>2906755</td>\n      <td>Liverpool agree deal to sign Preston defender ...</td>\n      <td>CNA</td>\n      <td>en</td>\n      <td>2021-02-01 14:11:00+00:00</td>\n      <td>sg</td>\n      <td>sports</td>\n      <td>2906755-000</td>\n      <td>2021-02-01</td>\n    </tr>\n    <tr>\n      <th>...</th>\n      <td>...</td>\n      <td>...</td>\n      <td>...</td>\n      <td>...</td>\n      <td>...</td>\n      <td>...</td>\n      <td>...</td>\n      <td>...</td>\n      <td>...</td>\n    </tr>\n    <tr>\n      <th>6340036</th>\n      <td>2910741</td>\n      <td>Liverpool is trying to sign a defender, Sparta...</td>\n      <td>Sportbox.ru</td>\n      <td>ru</td>\n      <td>2021-02-01 14:11:00+00:00</td>\n      <td>ru</td>\n      <td>sports</td>\n      <td>2910741-000</td>\n      <td>2021-02-01</td>\n    </tr>\n    <tr>\n      <th>2021828</th>\n      <td>2910722</td>\n      <td>Covers of English newspapers - What did they s...</td>\n      <td>Filgoal.com</td>\n      <td>ar</td>\n      <td>2021-02-01 14:11:00+00:00</td>\n      <td>eg</td>\n      <td>sports</td>\n      <td>2910722-001</td>\n      <td>2021-02-01</td>\n    </tr>\n    <tr>\n      <th>2021827</th>\n      <td>2910722</td>\n      <td>Covers of English newspapers - What did they s...</td>\n      <td>Filgoal.com</td>\n      <td>ar</td>\n      <td>2021-02-01 14:11:00+00:00</td>\n      <td>eg</td>\n      <td>general</td>\n      <td>2910722-000</td>\n      <td>2021-02-01</td>\n    </tr>\n    <tr>\n      <th>320745</th>\n      <td>2910701</td>\n      <td>Liverpool make emergency reinforcements on the...</td>\n      <td>Sporting News</td>\n      <td>ja</td>\n      <td>2021-02-01 14:11:00+00:00</td>\n      <td>jp</td>\n      <td>sports</td>\n      <td>2910701-000</td>\n      <td>2021-02-01</td>\n    </tr>\n    <tr>\n      <th>2021785</th>\n      <td>2907229</td>\n      <td>Klopp does it “at the last minute”..and Liverp...</td>\n      <td>Skynewsarabia.com</td>\n      <td>ar</td>\n      <td>2021-02-01 14:11:00+00:00</td>\n      <td>eg</td>\n      <td>sports</td>\n      <td>2907229-000</td>\n      <td>2021-02-01</td>\n    </tr>\n  </tbody>\n</table>\n<p>98 rows × 9 columns</p>\n</div>"
     },
     "execution_count": 33,
     "metadata": {},
     "output_type": "execute_result"
    }
   ],
   "source": [
    "df[df['aid'].isin(included)][df['date'] == target]"
   ],
   "metadata": {
    "collapsed": false,
    "ExecuteTime": {
     "end_time": "2023-11-05T14:48:33.852586687Z",
     "start_time": "2023-11-05T14:48:33.395507661Z"
    }
   },
   "id": "fe367281509e4f65"
  },
  {
   "cell_type": "code",
   "execution_count": null,
   "outputs": [],
   "source": [],
   "metadata": {
    "collapsed": false
   },
   "id": "e8e48bb31a52b55d"
  },
  {
   "cell_type": "code",
   "execution_count": null,
   "outputs": [],
   "source": [],
   "metadata": {
    "collapsed": false
   },
   "id": "f64f4e5a3ba53180"
  },
  {
   "cell_type": "code",
   "execution_count": null,
   "outputs": [],
   "source": [],
   "metadata": {
    "collapsed": false
   },
   "id": "3f471e4962c12a28"
  },
  {
   "cell_type": "code",
   "execution_count": null,
   "outputs": [],
   "source": [],
   "metadata": {
    "collapsed": false
   },
   "id": "8f77999dca2c1db8"
  },
  {
   "cell_type": "code",
   "execution_count": null,
   "outputs": [],
   "source": [],
   "metadata": {
    "collapsed": false
   },
   "id": "8b9b68f4b4f5a44c"
  },
  {
   "cell_type": "code",
   "execution_count": null,
   "outputs": [],
   "source": [],
   "metadata": {
    "collapsed": false
   },
   "id": "be42159d3bde84bb"
  },
  {
   "cell_type": "code",
   "execution_count": null,
   "outputs": [],
   "source": [],
   "metadata": {
    "collapsed": false
   },
   "id": "7d9d5dd795b61606"
  },
  {
   "cell_type": "code",
   "execution_count": null,
   "outputs": [],
   "source": [],
   "metadata": {
    "collapsed": false
   },
   "id": "ad91d0af77a60424"
  },
  {
   "cell_type": "code",
   "execution_count": null,
   "outputs": [],
   "source": [],
   "metadata": {
    "collapsed": false
   },
   "id": "8aa3a48511da59f"
  }
 ],
 "metadata": {
  "kernelspec": {
   "display_name": "Python 3",
   "language": "python",
   "name": "python3"
  },
  "language_info": {
   "codemirror_mode": {
    "name": "ipython",
    "version": 2
   },
   "file_extension": ".py",
   "mimetype": "text/x-python",
   "name": "python",
   "nbconvert_exporter": "python",
   "pygments_lexer": "ipython2",
   "version": "2.7.6"
  }
 },
 "nbformat": 4,
 "nbformat_minor": 5
}
