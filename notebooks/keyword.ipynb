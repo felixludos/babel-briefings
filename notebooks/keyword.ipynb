{
 "cells": [
  {
   "cell_type": "code",
   "execution_count": 1,
   "id": "initial_id",
   "metadata": {
    "collapsed": true,
    "ExecuteTime": {
     "end_time": "2023-11-06T16:08:52.160659434Z",
     "start_time": "2023-11-06T16:08:51.976364680Z"
    }
   },
   "outputs": [],
   "source": [
    "from pathlib import Path\n",
    "from tqdm.notebook import tqdm\n",
    "from tabulate import tabulate\n",
    "import random, json\n",
    "import pycountry\n",
    "from iso639 import languages\n",
    "import networkx as nx\n",
    "from dateutil import parser\n",
    "from datetime import datetime\n",
    "from collections import Counter\n",
    "from langdetect import detect\n",
    "from omnibelt import load_json, save_json\n",
    "import Levenshtein\n",
    "from unidecode import unidecode\n",
    "import unicodedata"
   ]
  },
  {
   "cell_type": "code",
   "execution_count": 2,
   "outputs": [],
   "source": [
    "from wordcloud import WordCloud\n",
    "import nltk\n",
    "from nltk import word_tokenize, pos_tag, ne_chunk\n",
    "from nltk.stem import WordNetLemmatizer\n",
    "from nltk.corpus import stopwords\n",
    "from rake_nltk import Rake\n",
    "import spacy\n",
    "# from sklearn.cluster import DBSCAN\n",
    "# import numpy as np\n",
    "\n",
    "stop_words = set(stopwords.words('english'))\n",
    "stop_words.update(\"'s\", '|', 'I', \"n't\", \"`s\", \"'s\", 'n`t')\n",
    "\n",
    "nlp = spacy.load('en_core_web_md')"
   ],
   "metadata": {
    "collapsed": false,
    "ExecuteTime": {
     "end_time": "2023-11-06T16:08:55.445176234Z",
     "start_time": "2023-11-06T16:08:52.162436224Z"
    }
   },
   "id": "d68287dc5cd515b9"
  },
  {
   "cell_type": "code",
   "execution_count": 3,
   "outputs": [],
   "source": [
    "import numpy as np\n",
    "import pandas as pd\n",
    "import seaborn as sns\n",
    "import matplotlib.pyplot as plt\n",
    "import matplotlib.dates as mdates"
   ],
   "metadata": {
    "collapsed": false,
    "ExecuteTime": {
     "end_time": "2023-11-06T16:08:55.451718148Z",
     "start_time": "2023-11-06T16:08:55.446528638Z"
    }
   },
   "id": "4dde13e01b3c6eb0"
  },
  {
   "cell_type": "code",
   "execution_count": 4,
   "outputs": [
    {
     "data": {
      "text/plain": "54"
     },
     "execution_count": 4,
     "metadata": {},
     "output_type": "execute_result"
    }
   ],
   "source": [
    "lang_clusters = {'en': ['au', 'ca', 'gb', 'ie', 'in', 'my', 'ng', 'nz', 'ph', 'sa', 'sg', 'us', 'za'],\n",
    "\t\t\t\t 'es': ['ar', 'co', 'cu', 'mx', 've'], 'de': ['at', 'ch', 'de'], 'fr': ['be', 'fr', 'ma'],\n",
    "\t\t\t\t 'zh': ['cn', 'hk', 'tw'], 'ar': ['ae', 'eg'], 'pt': ['br', 'pt'], 'bg': ['bg'], 'cs': ['cz'],\n",
    "\t\t\t\t 'el': ['gr'], 'he': ['il'], 'hu': ['hu'], 'id': ['id'], 'it': ['it'], 'ja': ['jp'], 'ko': ['kr'],\n",
    "\t\t\t\t 'lt': ['lt'], 'lv': ['lv'], 'nl': ['nl'], 'no': ['no'], 'pl': ['pl'], 'ro': ['ro'], 'ru': ['ru'],\n",
    "\t\t\t\t 'sv': ['se'], 'sl': ['si'], 'sk': ['sk'], 'sr': ['rs'], 'th': ['th'], 'tr': ['tr'], 'uk': ['ua']}\n",
    "loc_names = {'gb': 'United Kingdom', 'ar': 'Argentina', 'pl': 'Poland', 'sk': 'Slovakia', 'us': 'United States',\n",
    "\t\t\t 'eg': 'Egypt', 'no': 'Norway', 'ph': 'Philippines', 'at': 'Austria', 'rs': 'Serbia', 'tw': 'Taiwan',\n",
    "\t\t\t 'be': 'Belgium', 'cu': 'Cuba', 'sa': 'Saudi Arabia', 'th': 'Thailand', 'id': 'Indonesia',\n",
    "\t\t\t 'ru': 'Russian Federation', 'ch': 'Switzerland', 'fr': 'France', 'lt': 'Lithuania', 'tr': 'Turkey',\n",
    "\t\t\t 'de': 'Germany', 'cz': 'Czechia', 'pt': 'Portugal', 'ae': 'United Arab Emirates', 'it': 'Italy',\n",
    "\t\t\t 'cn': 'China', 'lv': 'Latvia', 'nl': 'Netherlands', 'hk': 'Hong Kong', 'ca': 'Canada', 'br': 'Brazil',\n",
    "\t\t\t 'hu': 'Hungary', 'kr': 'Korea', 'si': 'Slovenia', 'au': 'Australia', 'my': 'Malaysia', 'ie': 'Ireland',\n",
    "\t\t\t 'ua': 'Ukraine', 'in': 'India', 'ma': 'Morocco', 'bg': 'Bulgaria', 'ng': 'Nigeria', 'il': 'Israel',\n",
    "\t\t\t 'se': 'Sweden', 'za': 'South Africa', 've': 'Venezuela', 'nz': 'New Zealand', 'jp': 'Japan',\n",
    "\t\t\t 'sg': 'Singapore', 'gr': 'Greece', 'mx': 'Mexico', 'co': 'Colombia', 'ro': 'Romania'}\n",
    "lang_names = {'en': 'English', 'ko': 'Korean', 'ru': 'Russian', 'es': 'Spanish', 'pt': 'Portuguese', 'cs': 'Czech',\n",
    "\t\t\t  'tr': 'Turkish', 'nl': 'Dutch', 'ar': 'Arabic', 'fr': 'French', 'bg': 'Bulgarian', 'id': 'Indonesian',\n",
    "\t\t\t  'sk': 'Slovak', 'el': 'Greek', 'he': 'Hebrew', 'sr': 'Serbian', 'hu': 'Hungarian', 'th': 'Thai',\n",
    "\t\t\t  'zh': 'Chinese', 'no': 'Norwegian', 'sl': 'Slovenian', 'sv': 'Swedish', 'de': 'German', 'lv': 'Latvian',\n",
    "\t\t\t  'pl': 'Polish', 'it': 'Italian', 'ro': 'Romanian', 'lt': 'Lithuanian', 'ja': 'Japanese',\n",
    "\t\t\t  'uk': 'Ukrainian'}\n",
    "cluster_id = {loc: lang for lang, locs in lang_clusters.items() for loc in locs}\n",
    "len(cluster_id)"
   ],
   "metadata": {
    "collapsed": false,
    "ExecuteTime": {
     "end_time": "2023-11-06T16:08:55.477418057Z",
     "start_time": "2023-11-06T16:08:55.451666155Z"
    }
   },
   "id": "2aaed80af771fb0f"
  },
  {
   "cell_type": "code",
   "execution_count": 5,
   "outputs": [],
   "source": [
    "def show_date(date):\n",
    "\treturn date.strftime('%d %b%y')\n",
    "def get_locs(article):\n",
    "\treturn [f'{loc_names[loc]}' for loc in sorted(set(i['location'] for i in article['instances']))]\n",
    "def get_cats(article):\n",
    "\treturn [f'<{cat}>' for cat in sorted(set(i['category'] for i in article['instances']))]\n",
    "def view_article(art, detailed=False):\n",
    "\tcats = ' '.join(get_cats(art))\n",
    "\tlocs = ', '.join(map(repr, get_locs(art)))\n",
    "\tpublished = parser.parse(art['publishedAt'])\n",
    "\tcollected = [parser.parse(i['collectedAt']) for i in art['instances']]\n",
    "\tfirst = min(collected)\n",
    "\tlast = max(collected)\n",
    "\ttiming = f'{show_date(first)}' if first == last else f'{show_date(first)} - {show_date(last)}'\n",
    "\n",
    "\tlines = []\n",
    "\tif 'en-title' in art:\n",
    "\t\tlines.append(f'English Title: {art[\"en-title\"]!r}')\n",
    "\tlines.append(f'{lang_names[art[\"language\"]]} Title: {art[\"title\"]!r}')\n",
    "\tlines.append(f'Categories: {cats}  ---   {locs} ({timing})  ---  {art[\"source-name\"]}')\n",
    "\n",
    "\tif detailed:\n",
    "\t\tadded_desc = False\n",
    "\t\tdesc = art.get('description')\n",
    "\t\ten_desc = art.get('en-description')\n",
    "\t\tif en_desc is not None and len(en_desc):\n",
    "\t\t\tlines.append(f'English Description: {en_desc}')\n",
    "\t\t\tadded_desc = True\n",
    "\t\telif desc is not None and len(desc):\n",
    "\t\t\tlines.append(f'{lang_names[art[\"language\"]]} Description: {desc}')\n",
    "\t\t\tadded_desc = True\n",
    "\t\tif not added_desc:\n",
    "\t\t\tlines.append(f'- No description -')\n",
    "\tprint('\\n'.join(lines))"
   ],
   "metadata": {
    "collapsed": false,
    "ExecuteTime": {
     "end_time": "2023-11-06T16:08:55.501667787Z",
     "start_time": "2023-11-06T16:08:55.471682512Z"
    }
   },
   "id": "f3328ed774ca9a7a"
  },
  {
   "cell_type": "code",
   "execution_count": 6,
   "outputs": [
    {
     "data": {
      "text/plain": "  0%|          | 0/54 [00:00<?, ?it/s]",
      "application/vnd.jupyter.widget-view+json": {
       "version_major": 2,
       "version_minor": 0,
       "model_id": "2236ec9a6b0f4503af3613d2ab45cf1d"
      }
     },
     "metadata": {},
     "output_type": "display_data"
    },
    {
     "data": {
      "text/plain": "4719199"
     },
     "execution_count": 6,
     "metadata": {},
     "output_type": "execute_result"
    }
   ],
   "source": [
    "root = Path('/home/fleeb/workspace/local_data/nnn')\n",
    "recs = (root / 'babel-briefings-v1').glob('**/*.json')\n",
    "recs = list(recs)\n",
    "len(recs)\n",
    "articles = []\n",
    "for rec in tqdm(recs):\n",
    "\tarticles.extend(load_json(rec))\n",
    "len(articles)"
   ],
   "metadata": {
    "collapsed": false,
    "ExecuteTime": {
     "end_time": "2023-11-06T16:09:42.161866672Z",
     "start_time": "2023-11-06T16:08:55.485657410Z"
    }
   },
   "id": "40a5912898e5088"
  },
  {
   "cell_type": "code",
   "execution_count": 7,
   "outputs": [
    {
     "data": {
      "text/plain": "  0%|          | 0/4719199 [00:00<?, ?it/s]",
      "application/vnd.jupyter.widget-view+json": {
       "version_major": 2,
       "version_minor": 0,
       "model_id": "d6180792d4684f489df5d291726fba34"
      }
     },
     "metadata": {},
     "output_type": "display_data"
    },
    {
     "data": {
      "text/plain": "(54, 30)"
     },
     "execution_count": 7,
     "metadata": {},
     "output_type": "execute_result"
    }
   ],
   "source": [
    "by_loc = {}\n",
    "by_lang = {}\n",
    "by_source = {}\n",
    "by_ID = {}\n",
    "for article in tqdm(articles):\n",
    "\tby_ID[article['ID']] = article\n",
    "\t# article['published'] = parser.parse(article['publishedAt'])\n",
    "\tby_source.setdefault(article['source-name'], []).append(article)\n",
    "\tby_lang.setdefault(article['language'], []).append(article)\n",
    "\tfor instance in article['instances']:\n",
    "\t\t# instance['collected'] = parser.parse(instance['collectedAt'])\n",
    "\t\tby_loc.setdefault(instance['location'], []).append(article)\n",
    "len(by_loc), len(by_lang)"
   ],
   "metadata": {
    "collapsed": false,
    "ExecuteTime": {
     "end_time": "2023-11-06T16:09:46.237954059Z",
     "start_time": "2023-11-06T16:09:42.161408392Z"
    }
   },
   "id": "885dfa17cff11bd3"
  },
  {
   "cell_type": "code",
   "execution_count": 31,
   "outputs": [],
   "source": [
    "def inst_id(art_id, inst_idx):\n",
    "\treturn f'{str(art_id).zfill(7)}-{str(inst_idx).zfill(3)}'\n",
    "def get_inst(inst_id):\n",
    "\tart_id, inst_idx = inst_id.split('-')\n",
    "\tart = by_ID[art_id]\n",
    "\tinst = art['instances'][int(inst_idx)]\n",
    "\treturn {**inst, **art}\n",
    "def art_row(art):\n",
    "\treturn {'aid': art['ID'], 'title': art.get('en-title', art['title']), 'source': art['source-name'],\n",
    "\t\t\t'language': art['language']}\n",
    "def get_title(art):\n",
    "\treturn art.get('en-title', art['title'])\n",
    "def article_title_bag(art):\n",
    "\ttitle = art.get('en-title', art['title'])\n",
    "\ttitle_doc = nlp(title)\n",
    "\tkey_terms = Counter([token.lemma_.lower() for chunk in title_doc.noun_chunks for token in chunk])\n",
    "\treturn key_terms\n",
    "_my_stop_words = {\"'s\", 'news'}\n",
    "def is_good_word(w):\n",
    "\treturn any(not unicodedata.category(char).startswith('P') for char in w) and w not in stop_words and w not in _my_stop_words"
   ],
   "metadata": {
    "collapsed": false,
    "ExecuteTime": {
     "end_time": "2023-11-06T16:22:25.566574714Z",
     "start_time": "2023-11-06T16:22:25.506770596Z"
    }
   },
   "id": "a1eeab28c65e2042"
  },
  {
   "cell_type": "code",
   "execution_count": 9,
   "outputs": [
    {
     "data": {
      "text/plain": "  0%|          | 0/4719199 [00:00<?, ?it/s]",
      "application/vnd.jupyter.widget-view+json": {
       "version_major": 2,
       "version_minor": 0,
       "model_id": "eb5fd3d64c074c3e95dde987802f5baa"
      }
     },
     "metadata": {},
     "output_type": "display_data"
    },
    {
     "data": {
      "text/plain": "7419089"
     },
     "execution_count": 9,
     "metadata": {},
     "output_type": "execute_result"
    }
   ],
   "source": [
    "df = pd.DataFrame(\n",
    "\t[{**row, **inst, 'iid': inst_id(row['aid'], i)} for row in tqdm([art_row(art) for art in articles]) for i, inst in\n",
    "\t enumerate(by_ID[row['aid']]['instances'])])\n",
    "df['collectedAt'] = pd.to_datetime(df['collectedAt'])\n",
    "df = df.sort_values('collectedAt')\n",
    "df['date'] = df['collectedAt'].dt.date\n",
    "len(df)"
   ],
   "metadata": {
    "collapsed": false,
    "ExecuteTime": {
     "end_time": "2023-11-06T16:10:03.065934413Z",
     "start_time": "2023-11-06T16:09:46.292724377Z"
    }
   },
   "id": "f0d01fc223882ab1"
  },
  {
   "cell_type": "code",
   "execution_count": 10,
   "outputs": [
    {
     "name": "stdout",
     "output_type": "stream",
     "text": [
      "English Title: 'A new rise in the price of the dollar - Eve News'\n",
      "Arabic Title: 'ارتفاع جديد في سعر الدولار - Eve News'\n",
      "Categories: <business>  ---   'United Arab Emirates' (11 Oct20)  ---  Evecorplogo.net\n",
      "English Description: A new rise in the price of the dollar 'A new rise in the price of the dollar'\n"
     ]
    }
   ],
   "source": [
    "art = random.choice(articles)\n",
    "view_article(art, detailed=True)"
   ],
   "metadata": {
    "collapsed": false,
    "ExecuteTime": {
     "end_time": "2023-11-06T16:10:03.066933613Z",
     "start_time": "2023-11-06T16:10:03.062015582Z"
    }
   },
   "id": "344957ccf1296321"
  },
  {
   "cell_type": "code",
   "execution_count": 11,
   "outputs": [
    {
     "data": {
      "text/plain": "  0%|          | 0/4719199 [00:00<?, ?it/s]",
      "application/vnd.jupyter.widget-view+json": {
       "version_major": 2,
       "version_minor": 0,
       "model_id": "afb3ec51d0a14195bc72eec2e3f6375e"
      }
     },
     "metadata": {},
     "output_type": "display_data"
    },
    {
     "data": {
      "text/plain": "4719199"
     },
     "execution_count": 11,
     "metadata": {},
     "output_type": "execute_result"
    }
   ],
   "source": [
    "bagowords = {int(ID): bag for ID, bag in load_json(root/'bagowords.json').items()}\n",
    "# for art in tqdm(articles):\n",
    "# \tif art['ID'] not in bagowords:\n",
    "# \t\tbagowords[art['ID']] = Counter([token.lemma_ for token in nlp(unidecode(art.get('en-title', art['title'])))])\n",
    "# save_json(bagowords, root/'bagowords.json');\n",
    "lowords = {ID: {k.lower(): v for k,v in bag.items()} for ID, bag in tqdm(bagowords.items())}\n",
    "all_bags = lowords\n",
    "len(bagowords)"
   ],
   "metadata": {
    "collapsed": false,
    "ExecuteTime": {
     "end_time": "2023-11-06T16:10:33.001761224Z",
     "start_time": "2023-11-06T16:10:03.065328261Z"
    }
   },
   "id": "c621675cc3f3ef08"
  },
  {
   "cell_type": "code",
   "execution_count": 14,
   "outputs": [
    {
     "name": "stdout",
     "output_type": "stream",
     "text": [
      "{'aung', 'san', 'myanmar', 'burmese', 'kyi', 'aun', 'burma', 'ahn', 'suu', 'sing'}\n"
     ]
    }
   ],
   "source": [
    "query = 'ahn sang suu kyi'\n",
    "# query = 'iphone'\n",
    "query = 'alibaba'\n",
    "# query = 'myanmar burma coup burmese military ahn sang suu kyi aung san aun'\n",
    "query = 'ahn sang suu kyi aung san aun myanmar burma burmese'\n",
    "qdoc = nlp(query)\n",
    "qtokens = [token.lemma_.lower() for token in qdoc]\n",
    "qkeys = set(qtokens)\n",
    "print(qkeys)"
   ],
   "metadata": {
    "collapsed": false,
    "ExecuteTime": {
     "end_time": "2023-11-05T14:37:30.682312815Z",
     "start_time": "2023-11-05T14:37:30.649241291Z"
    }
   },
   "id": "93784cfe4bd5e780"
  },
  {
   "cell_type": "code",
   "execution_count": 15,
   "outputs": [
    {
     "data": {
      "text/plain": "  0%|          | 0/4719199 [00:00<?, ?it/s]",
      "application/vnd.jupyter.widget-view+json": {
       "version_major": 2,
       "version_minor": 0,
       "model_id": "d85cc3ea60454a4f823d390e5f9c1e7e"
      }
     },
     "metadata": {},
     "output_type": "display_data"
    },
    {
     "data": {
      "text/plain": "160"
     },
     "execution_count": 15,
     "metadata": {},
     "output_type": "execute_result"
    }
   ],
   "source": [
    "min_hits = 3\n",
    "matches = Counter()\n",
    "for ID, bag in tqdm(all_bags.items()):\n",
    "\thits = qkeys.intersection([k.lower() for k in bag.keys()])\n",
    "\tif len(hits) and (min_hits is None or len(hits) >= min_hits):\n",
    "\t\tmatches[ID] = len(hits)\n",
    "# matches = Counter([art['ID'] for art in tqdm(articles) if 'suu kyi' in unidecode(art.get('en-title', art['title']).lower())])\n",
    "# len(matches)\n",
    "len(matches)"
   ],
   "metadata": {
    "collapsed": false,
    "ExecuteTime": {
     "end_time": "2023-11-05T14:37:42.716116667Z",
     "start_time": "2023-11-05T14:37:33.527942155Z"
    }
   },
   "id": "aea1524765217473"
  },
  {
   "cell_type": "code",
   "execution_count": 16,
   "outputs": [
    {
     "data": {
      "text/plain": "             aid                                              title  \\\n6558877   547450  Suu Kyi points out that Myanmar faces 'COVID d...   \n426674   1743778  Aung San Suu Kyi: Myanmar democracy icon who f...   \n426675   1743778  Aung San Suu Kyi: Myanmar democracy icon who f...   \n3353365  1757195  Despite accusations of genocide, Aung San Suu ...   \n426806   1758980  A look at Myanmar's election and Suu Kyi's exp...   \n...          ...                                                ...   \n2711812  5245848  Myanmar protesters wear flowers to mark Suu Ky...   \n4726609  5260902  Myanmar protesters wear flowers to mark Suu Ky...   \n4449057  5426173  Myanmar's Aung San Suu Kyi urges people to be ...   \n2728744  6494786  Myanmar junta to put Suu Kyi on trial for corr...   \n4085808  6999892  Aung San Suu Kyi testified in court for the fi...   \n\n                      source language               collectedAt location  \\\n6558877      Dailynews.co.th       th 2020-09-03 06:55:00+00:00       th   \n426674   Yahoo Entertainment       en 2020-11-06 13:38:00+00:00       sa   \n426675   Yahoo Entertainment       en 2020-11-06 13:38:00+00:00       us   \n3353365                  CNN       en 2020-11-07 11:01:00+00:00       us   \n426806      Associated Press       en 2020-11-07 11:01:00+00:00       sa   \n...                      ...      ...                       ...      ...   \n2711812             GMA News       en 2021-06-19 08:29:00+00:00       ph   \n4726609        The Sun Daily       en 2021-06-20 11:34:00+00:00       my   \n4449057                  CNA       en 2021-06-29 09:06:00+00:00       sg   \n2728744             GMA News       en 2021-09-17 11:47:00+00:00       ph   \n4085808       derStandard.at       de 2021-10-27 10:01:00+00:00       at   \n\n        category          iid        date  \n6558877  general  0547450-000  2020-09-03  \n426674   general  1743778-000  2020-11-06  \n426675   general  1743778-001  2020-11-06  \n3353365  general  1757195-000  2020-11-07  \n426806   general  1758980-000  2020-11-07  \n...          ...          ...         ...  \n2711812  general  5245848-000  2021-06-19  \n4726609  general  5260902-000  2021-06-20  \n4449057  general  5426173-000  2021-06-29  \n2728744  general  6494786-000  2021-09-17  \n4085808  general  6999892-000  2021-10-27  \n\n[174 rows x 9 columns]",
      "text/html": "<div>\n<style scoped>\n    .dataframe tbody tr th:only-of-type {\n        vertical-align: middle;\n    }\n\n    .dataframe tbody tr th {\n        vertical-align: top;\n    }\n\n    .dataframe thead th {\n        text-align: right;\n    }\n</style>\n<table border=\"1\" class=\"dataframe\">\n  <thead>\n    <tr style=\"text-align: right;\">\n      <th></th>\n      <th>aid</th>\n      <th>title</th>\n      <th>source</th>\n      <th>language</th>\n      <th>collectedAt</th>\n      <th>location</th>\n      <th>category</th>\n      <th>iid</th>\n      <th>date</th>\n    </tr>\n  </thead>\n  <tbody>\n    <tr>\n      <th>6558877</th>\n      <td>547450</td>\n      <td>Suu Kyi points out that Myanmar faces 'COVID d...</td>\n      <td>Dailynews.co.th</td>\n      <td>th</td>\n      <td>2020-09-03 06:55:00+00:00</td>\n      <td>th</td>\n      <td>general</td>\n      <td>0547450-000</td>\n      <td>2020-09-03</td>\n    </tr>\n    <tr>\n      <th>426674</th>\n      <td>1743778</td>\n      <td>Aung San Suu Kyi: Myanmar democracy icon who f...</td>\n      <td>Yahoo Entertainment</td>\n      <td>en</td>\n      <td>2020-11-06 13:38:00+00:00</td>\n      <td>sa</td>\n      <td>general</td>\n      <td>1743778-000</td>\n      <td>2020-11-06</td>\n    </tr>\n    <tr>\n      <th>426675</th>\n      <td>1743778</td>\n      <td>Aung San Suu Kyi: Myanmar democracy icon who f...</td>\n      <td>Yahoo Entertainment</td>\n      <td>en</td>\n      <td>2020-11-06 13:38:00+00:00</td>\n      <td>us</td>\n      <td>general</td>\n      <td>1743778-001</td>\n      <td>2020-11-06</td>\n    </tr>\n    <tr>\n      <th>3353365</th>\n      <td>1757195</td>\n      <td>Despite accusations of genocide, Aung San Suu ...</td>\n      <td>CNN</td>\n      <td>en</td>\n      <td>2020-11-07 11:01:00+00:00</td>\n      <td>us</td>\n      <td>general</td>\n      <td>1757195-000</td>\n      <td>2020-11-07</td>\n    </tr>\n    <tr>\n      <th>426806</th>\n      <td>1758980</td>\n      <td>A look at Myanmar's election and Suu Kyi's exp...</td>\n      <td>Associated Press</td>\n      <td>en</td>\n      <td>2020-11-07 11:01:00+00:00</td>\n      <td>sa</td>\n      <td>general</td>\n      <td>1758980-000</td>\n      <td>2020-11-07</td>\n    </tr>\n    <tr>\n      <th>...</th>\n      <td>...</td>\n      <td>...</td>\n      <td>...</td>\n      <td>...</td>\n      <td>...</td>\n      <td>...</td>\n      <td>...</td>\n      <td>...</td>\n      <td>...</td>\n    </tr>\n    <tr>\n      <th>2711812</th>\n      <td>5245848</td>\n      <td>Myanmar protesters wear flowers to mark Suu Ky...</td>\n      <td>GMA News</td>\n      <td>en</td>\n      <td>2021-06-19 08:29:00+00:00</td>\n      <td>ph</td>\n      <td>general</td>\n      <td>5245848-000</td>\n      <td>2021-06-19</td>\n    </tr>\n    <tr>\n      <th>4726609</th>\n      <td>5260902</td>\n      <td>Myanmar protesters wear flowers to mark Suu Ky...</td>\n      <td>The Sun Daily</td>\n      <td>en</td>\n      <td>2021-06-20 11:34:00+00:00</td>\n      <td>my</td>\n      <td>general</td>\n      <td>5260902-000</td>\n      <td>2021-06-20</td>\n    </tr>\n    <tr>\n      <th>4449057</th>\n      <td>5426173</td>\n      <td>Myanmar's Aung San Suu Kyi urges people to be ...</td>\n      <td>CNA</td>\n      <td>en</td>\n      <td>2021-06-29 09:06:00+00:00</td>\n      <td>sg</td>\n      <td>general</td>\n      <td>5426173-000</td>\n      <td>2021-06-29</td>\n    </tr>\n    <tr>\n      <th>2728744</th>\n      <td>6494786</td>\n      <td>Myanmar junta to put Suu Kyi on trial for corr...</td>\n      <td>GMA News</td>\n      <td>en</td>\n      <td>2021-09-17 11:47:00+00:00</td>\n      <td>ph</td>\n      <td>general</td>\n      <td>6494786-000</td>\n      <td>2021-09-17</td>\n    </tr>\n    <tr>\n      <th>4085808</th>\n      <td>6999892</td>\n      <td>Aung San Suu Kyi testified in court for the fi...</td>\n      <td>derStandard.at</td>\n      <td>de</td>\n      <td>2021-10-27 10:01:00+00:00</td>\n      <td>at</td>\n      <td>general</td>\n      <td>6999892-000</td>\n      <td>2021-10-27</td>\n    </tr>\n  </tbody>\n</table>\n<p>174 rows × 9 columns</p>\n</div>"
     },
     "execution_count": 16,
     "metadata": {},
     "output_type": "execute_result"
    }
   ],
   "source": [
    "sub = df[df['aid'].isin(matches)]\n",
    "sub"
   ],
   "metadata": {
    "collapsed": false,
    "ExecuteTime": {
     "end_time": "2023-11-05T14:37:42.846683844Z",
     "start_time": "2023-11-05T14:37:42.712198239Z"
    }
   },
   "id": "372c8db970306921"
  },
  {
   "cell_type": "code",
   "execution_count": 17,
   "outputs": [],
   "source": [
    "cat = 'language'\n",
    "grouped_df = sub.groupby(['date', cat]).size().reset_index(name='counts')"
   ],
   "metadata": {
    "collapsed": false,
    "ExecuteTime": {
     "end_time": "2023-11-05T14:37:45.007046647Z",
     "start_time": "2023-11-05T14:37:44.981884142Z"
    }
   },
   "id": "710172ec03d35f0b"
  },
  {
   "cell_type": "code",
   "execution_count": 18,
   "outputs": [
    {
     "data": {
      "text/plain": "<Figure size 1400x700 with 1 Axes>",
      "image/png": "[encoded data removed]"
     },
     "metadata": {},
     "output_type": "display_data"
    }
   ],
   "source": [
    "plt.figure(figsize=(14, 7))\n",
    "sns.histplot(data=grouped_df, x='date', weights='counts', hue=cat, multiple='stack')\n",
    "\n",
    "# Rotating the x-axis labels for better readability\n",
    "plt.xticks(rotation=45);"
   ],
   "metadata": {
    "collapsed": false,
    "ExecuteTime": {
     "end_time": "2023-11-05T14:38:00.409195874Z",
     "start_time": "2023-11-05T14:37:47.658121497Z"
    }
   },
   "id": "aafaff2f74a57392"
  },
  {
   "cell_type": "code",
   "execution_count": 44,
   "outputs": [
    {
     "data": {
      "text/plain": "  0%|          | 0/413 [00:00<?, ?it/s]",
      "application/vnd.jupyter.widget-view+json": {
       "version_major": 2,
       "version_minor": 0,
       "model_id": "187260ff1963478087c2193068508d81"
      }
     },
     "metadata": {},
     "output_type": "display_data"
    },
    {
     "data": {
      "text/plain": "413"
     },
     "execution_count": 44,
     "metadata": {},
     "output_type": "execute_result"
    }
   ],
   "source": [
    "daybags = {}\n",
    "date_aids = dict(df.groupby('date')['aid'].apply(set))\n",
    "for date, aIDs in tqdm(sorted(date_aids.items())):\n",
    "\ttotal = Counter()\n",
    "\tfor aID in aIDs:\n",
    "\t\ttotal.update(all_bags[aID])\n",
    "\tdaybags[date] = total\n",
    "len(daybags)"
   ],
   "metadata": {
    "collapsed": false,
    "ExecuteTime": {
     "end_time": "2023-11-06T16:33:51.560968899Z",
     "start_time": "2023-11-06T16:33:34.527848088Z"
    }
   },
   "id": "fe3ec85ae5c5a057"
  },
  {
   "cell_type": "code",
   "execution_count": 45,
   "outputs": [
    {
     "data": {
      "text/plain": "  0%|          | 0/413 [00:00<?, ?it/s]",
      "application/vnd.jupyter.widget-view+json": {
       "version_major": 2,
       "version_minor": 0,
       "model_id": "30c8dc23cff44f758a260f5cfa6ef063"
      }
     },
     "metadata": {},
     "output_type": "display_data"
    },
    {
     "data": {
      "text/plain": "  0%|          | 0/413 [00:00<?, ?it/s]",
      "application/vnd.jupyter.widget-view+json": {
       "version_major": 2,
       "version_minor": 0,
       "model_id": "82c42cbd41de47f39825d85b2e4c5152"
      }
     },
     "metadata": {},
     "output_type": "display_data"
    },
    {
     "data": {
      "text/plain": "413"
     },
     "execution_count": 45,
     "metadata": {},
     "output_type": "execute_result"
    }
   ],
   "source": [
    "dayidf = Counter()\n",
    "for date, bag in tqdm(daybags.items()):\n",
    "\tdayidf.update(bag.keys())\n",
    "dayidf = {w: np.log(len(daybags) / f)  for w, f in dayidf.items()}\n",
    "daytotals = {d: sum(bag.values()) for d, bag in daybags.items()}\n",
    "daytfidf = {day: Counter({w: f / daytotals[day] * dayidf[w] for w, f in bag.items()}) for day, bag in tqdm(daybags.items())}\n",
    "len(daytfidf)"
   ],
   "metadata": {
    "collapsed": false,
    "ExecuteTime": {
     "end_time": "2023-11-06T16:34:01.805117459Z",
     "start_time": "2023-11-06T16:33:53.657229015Z"
    }
   },
   "id": "1ba5c859b6636b21"
  },
  {
   "cell_type": "code",
   "execution_count": 142,
   "outputs": [
    {
     "data": {
      "text/plain": "(24491, 15426, 15.995851160378582)"
     },
     "execution_count": 142,
     "metadata": {},
     "output_type": "execute_result"
    }
   ],
   "source": [
    "target = datetime(2021, 2, 1).date()\n",
    "target = datetime(2021, 1, 7).date()\n",
    "today_aids = date_aids[target]\n",
    "today_bag = daybags[target]\n",
    "today_df = df[df['date'] == target]\n",
    "today_tfidf = daytfidf[target]\n",
    "importances = today_tfidf\n",
    "len(today_bag), len(today_aids), sum(len(all_bags[aID]) for aID in today_aids) / len(today_aids)"
   ],
   "metadata": {
    "collapsed": false,
    "ExecuteTime": {
     "end_time": "2023-11-06T17:52:44.366666936Z",
     "start_time": "2023-11-06T17:52:44.352827983Z"
    }
   },
   "id": "b576f2b0ca36066b"
  },
  {
   "cell_type": "code",
   "execution_count": 143,
   "outputs": [
    {
     "name": "stdout",
     "output_type": "stream",
     "text": [
      "-------------  -----------\n",
      "capitol        0.000451357\n",
      "146,000        0.000255882\n",
      "neighborwebsj  0.000219127\n",
      "dre            0.000174802\n",
      "ces            0.000173501\n",
      "dakar          0.000170796\n",
      "7/01/21        0.000139809\n",
      "20210107       0.000129174\n",
      "fultz          0.000129032\n",
      "jan.           0.000116398\n",
      "-------------  -----------\n"
     ]
    }
   ],
   "source": [
    "# today_idf = Counter()\n",
    "# for aID in tqdm(today_aids):\n",
    "# \ttoday_idf.update(all_bags[aID].keys())\n",
    "# today_idf = {w: np.log(len(today_aids) / f)  for w, f in today_idf.items()}\n",
    "# today_tf = \n",
    "# today_totals = sum(today_bag.values())\n",
    "# today_tfidf = Counter({w: f / today_totals * today_idf[w] for w, f in today_bag.items() if is_good_word(w)})\n",
    "print(tabulate(today_tfidf.most_common(10)))"
   ],
   "metadata": {
    "collapsed": false,
    "ExecuteTime": {
     "end_time": "2023-11-06T17:52:46.645720224Z",
     "start_time": "2023-11-06T17:52:46.639213062Z"
    }
   },
   "id": "e0cbfd7ec0237fb3"
  },
  {
   "cell_type": "code",
   "execution_count": 144,
   "outputs": [
    {
     "data": {
      "text/plain": "  0%|          | 0/15426 [00:00<?, ?it/s]",
      "application/vnd.jupyter.widget-view+json": {
       "version_major": 2,
       "version_minor": 0,
       "model_id": "b975554c34f94e3493f326d250dfdfa2"
      }
     },
     "metadata": {},
     "output_type": "display_data"
    }
   ],
   "source": [
    "treat_bags_as_sets = True\n",
    "prior_art_scores = Counter({aID: sum(importances[w] * (1 if treat_bags_as_sets else f) for w, f in all_bags[aID].items() if w in importances) for aID in tqdm(today_aids)})\n",
    "def article_affinity(aid1, aid2):\n",
    "\tbag1, bag2 = all_bags[aid1], all_bags[aid2]\n",
    "\treturn sum(importances[w] * (1 if treat_bags_as_sets else min(f, bag2[w])) for w, f in bag1.items() if w in bag2) / np.sqrt(prior_art_scores[aid1] * prior_art_scores[aid2])"
   ],
   "metadata": {
    "collapsed": false,
    "ExecuteTime": {
     "end_time": "2023-11-06T17:52:51.687749075Z",
     "start_time": "2023-11-06T17:52:51.608304376Z"
    }
   },
   "id": "4e626ce3e4e819eb"
  },
  {
   "cell_type": "code",
   "execution_count": null,
   "outputs": [
    {
     "data": {
      "text/plain": "  0%|          | 0/15426 [00:00<?, ?it/s]",
      "application/vnd.jupyter.widget-view+json": {
       "version_major": 2,
       "version_minor": 0,
       "model_id": "a5de56327c0d4dc79b8c88c4ba786e66"
      }
     },
     "metadata": {},
     "output_type": "display_data"
    },
    {
     "name": "stderr",
     "output_type": "stream",
     "text": [
      "/tmp/ipykernel_1128367/2047888240.py:5: RuntimeWarning: invalid value encountered in scalar divide\n",
      "  return sum(importances[w] * (1 if treat_bags_as_sets else min(f, bag2[w])) for w, f in bag1.items() if w in bag2) / np.sqrt(prior_art_scores[aid1] * prior_art_scores[aid2])\n"
     ]
    }
   ],
   "source": [
    "links = Counter({(aid1, aid2): article_affinity(aid1, aid2) for aid1 in tqdm(today_aids) for aid2 in today_aids if aid1 < aid2})\n",
    "links = Counter({(aid1, aid2): f for (aid1, aid2), f in links.items() if f > 0.})\n",
    "len(links)"
   ],
   "metadata": {
    "collapsed": false,
    "is_executing": true,
    "ExecuteTime": {
     "start_time": "2023-11-06T17:52:53.988759324Z"
    }
   },
   "id": "dd901b21014cbadd"
  },
  {
   "cell_type": "code",
   "execution_count": null,
   "outputs": [],
   "source": [
    "# print(tabulate(links.most_common(10)))"
   ],
   "metadata": {
    "collapsed": false,
    "is_executing": true
   },
   "id": "10d3ec8e5ec77e44"
  },
  {
   "cell_type": "code",
   "execution_count": null,
   "outputs": [],
   "source": [
    "G = nx.Graph()\n",
    "G.add_edges_from((aid1, aid2, {'weight': f}) for (aid1, aid2), f in links.items() if f > 1e-8)\n",
    "len(G), len(G.edges)"
   ],
   "metadata": {
    "collapsed": false,
    "is_executing": true
   },
   "id": "b5375fb2c8eb3398"
  },
  {
   "cell_type": "code",
   "execution_count": null,
   "outputs": [],
   "source": [
    "print(tabulate([(i, imp, by_ID[aid]['language'], by_ID[aid]['ID'], by_ID[aid].get('en-title', by_ID[aid]['title'])) for i, (aid, imp) in enumerate(prior_art_scores.most_common(100))]))"
   ],
   "metadata": {
    "collapsed": false,
    "is_executing": true
   },
   "id": "1eb083cf7b285159"
  },
  {
   "cell_type": "code",
   "execution_count": null,
   "outputs": [],
   "source": [
    "c = random.choice(list(today_aids))\n",
    "# c = 2906997\n",
    "# c = 2909198\n",
    "# c = 2911138\n",
    "# c = 2906738\n",
    "\n",
    "neighbors = Counter({(v if u == c else u): w for u,v,w in G.edges(c, data='weight')})\n",
    "narts = {aid:by_ID[aid] for aid in neighbors}\n",
    "len(neighbors)"
   ],
   "metadata": {
    "collapsed": false,
    "is_executing": true
   },
   "id": "3af9a418b046d057"
  },
  {
   "cell_type": "code",
   "execution_count": null,
   "outputs": [],
   "source": [
    "# print(tabulate(neighbors.most_common(10)))\n",
    "view_article(by_ID[c])\n",
    "print(tabulate([(i, aff, narts[aid]['language'], narts[aid]['instances'][0]['collectedAt'].split('T')[0], narts[aid].get('en-title', narts[aid]['title'])) for i, (aid, aff) in enumerate(neighbors.most_common(100))]))"
   ],
   "metadata": {
    "collapsed": false,
    "is_executing": true
   },
   "id": "7a318d7d9c6401bd"
  },
  {
   "cell_type": "code",
   "execution_count": null,
   "outputs": [],
   "source": [
    "plt.plot(sorted(neighbors.values(), reverse=True))"
   ],
   "metadata": {
    "collapsed": false,
    "is_executing": true
   },
   "id": "42defbed9c1c68dc"
  },
  {
   "cell_type": "code",
   "execution_count": 107,
   "outputs": [],
   "source": [],
   "metadata": {
    "collapsed": false,
    "ExecuteTime": {
     "end_time": "2023-11-06T17:22:56.536032250Z",
     "start_time": "2023-11-06T17:22:56.481690442Z"
    }
   },
   "id": "55ad44bde5aa7283"
  },
  {
   "cell_type": "code",
   "execution_count": null,
   "outputs": [],
   "source": [],
   "metadata": {
    "collapsed": false
   },
   "id": "4b4ebd1a6ea9079e"
  },
  {
   "cell_type": "code",
   "execution_count": null,
   "outputs": [],
   "source": [],
   "metadata": {
    "collapsed": false
   },
   "id": "c74622f09308fe73"
  },
  {
   "cell_type": "code",
   "execution_count": null,
   "outputs": [],
   "source": [],
   "metadata": {
    "collapsed": false
   },
   "id": "23908a32c2bb5bbf"
  },
  {
   "cell_type": "code",
   "execution_count": 15,
   "outputs": [
    {
     "data": {
      "text/plain": "  0%|          | 0/6928 [00:00<?, ?it/s]",
      "application/vnd.jupyter.widget-view+json": {
       "version_major": 2,
       "version_minor": 0,
       "model_id": "7958b8f04a2148de82847efb9fc80a95"
      }
     },
     "metadata": {},
     "output_type": "display_data"
    },
    {
     "ename": "KeyboardInterrupt",
     "evalue": "",
     "output_type": "error",
     "traceback": [
      "\u001B[0;31m---------------------------------------------------------------------------\u001B[0m",
      "\u001B[0;31mKeyboardInterrupt\u001B[0m                         Traceback (most recent call last)",
      "Cell \u001B[0;32mIn[15], line 2\u001B[0m\n\u001B[1;32m      1\u001B[0m bagsets \u001B[38;5;241m=\u001B[39m all_bags \u001B[38;5;66;03m#{aid: set(bag.keys()) for aid, bag in all_bags.items()}\u001B[39;00m\n\u001B[0;32m----> 2\u001B[0m aious \u001B[38;5;241m=\u001B[39m \u001B[43m{\u001B[49m\u001B[43m(\u001B[49m\u001B[43maid\u001B[49m\u001B[43m,\u001B[49m\u001B[43m \u001B[49m\u001B[43maid2\u001B[49m\u001B[43m)\u001B[49m\u001B[43m:\u001B[49m\u001B[43m \u001B[49m\u001B[38;5;28;43mlen\u001B[39;49m\u001B[43m(\u001B[49m\u001B[38;5;28;43mset\u001B[39;49m\u001B[43m(\u001B[49m\u001B[43mbagsets\u001B[49m\u001B[43m[\u001B[49m\u001B[43maid\u001B[49m\u001B[43m]\u001B[49m\u001B[43m)\u001B[49m\u001B[38;5;241;43m.\u001B[39;49m\u001B[43mintersection\u001B[49m\u001B[43m(\u001B[49m\u001B[38;5;28;43mset\u001B[39;49m\u001B[43m(\u001B[49m\u001B[43mbagsets\u001B[49m\u001B[43m[\u001B[49m\u001B[43maid2\u001B[49m\u001B[43m]\u001B[49m\u001B[43m)\u001B[49m\u001B[43m)\u001B[49m\u001B[43m)\u001B[49m\u001B[43m \u001B[49m\u001B[38;5;241;43m/\u001B[39;49m\u001B[43m \u001B[49m\u001B[38;5;28;43mlen\u001B[39;49m\u001B[43m(\u001B[49m\u001B[38;5;28;43mset\u001B[39;49m\u001B[43m(\u001B[49m\u001B[43mbagsets\u001B[49m\u001B[43m[\u001B[49m\u001B[43maid\u001B[49m\u001B[43m]\u001B[49m\u001B[43m)\u001B[49m\u001B[38;5;241;43m.\u001B[39;49m\u001B[43munion\u001B[49m\u001B[43m(\u001B[49m\u001B[38;5;28;43mset\u001B[39;49m\u001B[43m(\u001B[49m\u001B[43mbagsets\u001B[49m\u001B[43m[\u001B[49m\u001B[43maid2\u001B[49m\u001B[43m]\u001B[49m\u001B[43m)\u001B[49m\u001B[43m)\u001B[49m\u001B[43m)\u001B[49m\u001B[43m \u001B[49m\u001B[38;5;28;43;01mfor\u001B[39;49;00m\u001B[43m \u001B[49m\u001B[43maid\u001B[49m\u001B[43m \u001B[49m\u001B[38;5;129;43;01min\u001B[39;49;00m\u001B[43m \u001B[49m\u001B[43mtqdm\u001B[49m\u001B[43m(\u001B[49m\u001B[43mdate_aids\u001B[49m\u001B[43m[\u001B[49m\u001B[43mtarget\u001B[49m\u001B[43m]\u001B[49m\u001B[43m)\u001B[49m\u001B[43m \u001B[49m\u001B[38;5;28;43;01mfor\u001B[39;49;00m\u001B[43m \u001B[49m\u001B[43maid2\u001B[49m\u001B[43m \u001B[49m\u001B[38;5;129;43;01min\u001B[39;49;00m\u001B[43m \u001B[49m\u001B[43mdate_aids\u001B[49m\u001B[43m[\u001B[49m\u001B[43mtarget\u001B[49m\u001B[43m]\u001B[49m\u001B[43m \u001B[49m\u001B[38;5;28;43;01mif\u001B[39;49;00m\u001B[43m \u001B[49m\u001B[43maid\u001B[49m\u001B[43m \u001B[49m\u001B[38;5;241;43m<\u001B[39;49m\u001B[43m \u001B[49m\u001B[43maid2\u001B[49m\u001B[43m}\u001B[49m\n\u001B[1;32m      3\u001B[0m \u001B[38;5;28mlen\u001B[39m(aious)\n",
      "Cell \u001B[0;32mIn[15], line 2\u001B[0m, in \u001B[0;36m<dictcomp>\u001B[0;34m(.0)\u001B[0m\n\u001B[1;32m      1\u001B[0m bagsets \u001B[38;5;241m=\u001B[39m all_bags \u001B[38;5;66;03m#{aid: set(bag.keys()) for aid, bag in all_bags.items()}\u001B[39;00m\n\u001B[0;32m----> 2\u001B[0m aious \u001B[38;5;241m=\u001B[39m {(aid, aid2): \u001B[38;5;28mlen\u001B[39m(\u001B[38;5;28mset\u001B[39m(bagsets[aid])\u001B[38;5;241m.\u001B[39mintersection(\u001B[38;5;28mset\u001B[39m(bagsets[aid2]))) \u001B[38;5;241m/\u001B[39m \u001B[38;5;28mlen\u001B[39m(\u001B[38;5;28mset\u001B[39m(bagsets[aid])\u001B[38;5;241m.\u001B[39munion(\u001B[38;5;28mset\u001B[39m(bagsets[aid2]))) \u001B[38;5;28;01mfor\u001B[39;00m aid \u001B[38;5;129;01min\u001B[39;00m tqdm(date_aids[target]) \u001B[38;5;28;01mfor\u001B[39;00m aid2 \u001B[38;5;129;01min\u001B[39;00m date_aids[target] \u001B[38;5;28;01mif\u001B[39;00m aid \u001B[38;5;241m<\u001B[39m aid2}\n\u001B[1;32m      3\u001B[0m \u001B[38;5;28mlen\u001B[39m(aious)\n",
      "\u001B[0;31mKeyboardInterrupt\u001B[0m: "
     ]
    }
   ],
   "source": [
    "today_sets = {aid: set(all_bags[aid].keys()) for aid in today_aids}\n",
    "\n",
    "aious = {(aid, aid2): len(set(bagsets[aid]).intersection(set(bagsets[aid2]))) / len(set(bagsets[aid]).union(set(bagsets[aid2]))) for aid in tqdm(date_aids[target]) for aid2 in date_aids[target] if aid < aid2}\n",
    "len(aious)"
   ],
   "metadata": {
    "collapsed": false,
    "ExecuteTime": {
     "end_time": "2023-11-06T16:13:53.090457732Z",
     "start_time": "2023-11-06T16:13:11.865046480Z"
    }
   },
   "id": "de6359cc8c8baabc"
  },
  {
   "cell_type": "code",
   "execution_count": null,
   "outputs": [],
   "source": [],
   "metadata": {
    "collapsed": false
   },
   "id": "25a3490670c3c6d6"
  },
  {
   "cell_type": "code",
   "execution_count": null,
   "outputs": [],
   "source": [],
   "metadata": {
    "collapsed": false
   },
   "id": "d2b8d6f5129167d3"
  },
  {
   "cell_type": "code",
   "execution_count": null,
   "outputs": [],
   "source": [],
   "metadata": {
    "collapsed": false
   },
   "id": "49a38d54d5596a73"
  },
  {
   "cell_type": "code",
   "execution_count": 43,
   "outputs": [
    {
     "data": {
      "text/plain": "  0%|          | 0/412 [00:00<?, ?it/s]",
      "application/vnd.jupyter.widget-view+json": {
       "version_major": 2,
       "version_minor": 0,
       "model_id": "9495f53035b4406f967db212dba0d726"
      }
     },
     "metadata": {},
     "output_type": "display_data"
    },
    {
     "data": {
      "text/plain": "(371, 371, 477258)"
     },
     "execution_count": 43,
     "metadata": {},
     "output_type": "execute_result"
    }
   ],
   "source": [
    "deltas = {}\n",
    "dates = list(daybags.keys())\n",
    "valid_dates = []\n",
    "for d1, d2 in tqdm(zip(dates[:-1], dates[1:]),total=len(dates)-1):\n",
    "\tif (d2 - d1).days == 1:\n",
    "\t\tvalid_dates.append(d2)\n",
    "\t\tdeltas[d2] = daybags[d2] - daybags[d1]\n",
    "global_bag = Counter()\n",
    "for date in valid_dates:\n",
    "\tglobal_bag.update(daybags[date])\n",
    "len(deltas), len(global_bag)"
   ],
   "metadata": {
    "collapsed": false,
    "ExecuteTime": {
     "end_time": "2023-11-06T13:48:59.867873140Z",
     "start_time": "2023-11-06T13:48:55.660404297Z"
    }
   },
   "id": "ab3050d3047104ae"
  },
  {
   "cell_type": "code",
   "execution_count": 56,
   "outputs": [
    {
     "data": {
      "text/plain": "  0%|          | 0/413 [00:00<?, ?it/s]",
      "application/vnd.jupyter.widget-view+json": {
       "version_major": 2,
       "version_minor": 0,
       "model_id": "188dd9d5eea3436caa35235c6929ce24"
      }
     },
     "metadata": {},
     "output_type": "display_data"
    },
    {
     "data": {
      "text/plain": "  0%|          | 0/413 [00:00<?, ?it/s]",
      "application/vnd.jupyter.widget-view+json": {
       "version_major": 2,
       "version_minor": 0,
       "model_id": "e65fee8e75b8488c8bf85b004f3b36ea"
      }
     },
     "metadata": {},
     "output_type": "display_data"
    },
    {
     "data": {
      "text/plain": "413"
     },
     "execution_count": 56,
     "metadata": {},
     "output_type": "execute_result"
    }
   ],
   "source": [
    "dayidf = Counter()\n",
    "for date, bag in tqdm(daybags.items()):\n",
    "\tdayidf.update(bag.keys())\n",
    "dayidf = {w: np.log(len(daybags) / f)  for w, f in dayidf.items()}\n",
    "daytotals = {d: sum(bag.values()) for d, bag in daybags.items()}\n",
    "daytfidf = {day: Counter({w: f / daytotals[day] * dayidf[w] for w, f in bag.items()}) for day, bag in tqdm(daybags.items())}\n",
    "len(daytfidf)"
   ],
   "metadata": {
    "collapsed": false,
    "ExecuteTime": {
     "end_time": "2023-11-06T14:54:52.911389562Z",
     "start_time": "2023-11-06T14:54:47.031876984Z"
    }
   },
   "id": "d6b8def6ce508226"
  },
  {
   "cell_type": "code",
   "execution_count": 57,
   "outputs": [
    {
     "data": {
      "text/plain": "13674"
     },
     "execution_count": 57,
     "metadata": {},
     "output_type": "execute_result"
    }
   ],
   "source": [
    "target = datetime(2021, 2, 1).date()\n",
    "# df[df['date'] == target]\n",
    "len(daybags[target])"
   ],
   "metadata": {
    "collapsed": false,
    "ExecuteTime": {
     "end_time": "2023-11-06T14:54:52.961331686Z",
     "start_time": "2023-11-06T14:54:52.908323591Z"
    }
   },
   "id": "ae754eb92054a075"
  },
  {
   "cell_type": "code",
   "execution_count": 61,
   "outputs": [
    {
     "name": "stdout",
     "output_type": "stream",
     "text": [
      "--------------  -----------\n",
      "3885            0.000442286\n",
      "1/31/21         0.000399841\n",
      "-iss            0.000399841\n",
      "gamestop        0.00035309\n",
      "suu             0.000309284\n",
      "ugc             0.000308742\n",
      "crafoord        0.00029988\n",
      "nightscout      0.00029988\n",
      "kyi             0.000299367\n",
      "wombat          0.000296615\n",
      "wilmore         0.00027067\n",
      "2/1/21          0.000265372\n",
      "aung            0.00026076\n",
      "tonbridge       0.0002499\n",
      "nauru           0.000246993\n",
      "635             0.000222965\n",
      "kawaii          0.000222461\n",
      "fibroblast      0.000219754\n",
      "manhood         0.000217766\n",
      "battleborn      0.000210677\n",
      "micronutrients  0.000204321\n",
      "calculations    0.000200977\n",
      "letsupload      0.00019992\n",
      "distractible    0.00019992\n",
      "reddit          0.000194669\n",
      "wallstreetbet   0.000193713\n",
      "plitidepsin     0.000192386\n",
      "solving         0.000184313\n",
      "meganium        0.000176914\n",
      "caleta          0.00016774\n",
      "--------------  -----------\n"
     ]
    }
   ],
   "source": [
    "print(tabulate(daytfidf[target].most_common(30)))"
   ],
   "metadata": {
    "collapsed": false,
    "ExecuteTime": {
     "end_time": "2023-11-06T14:55:46.213500847Z",
     "start_time": "2023-11-06T14:55:46.135434010Z"
    }
   },
   "id": "210f794d5ac805d8"
  },
  {
   "cell_type": "code",
   "execution_count": 59,
   "outputs": [
    {
     "data": {
      "text/plain": "9073"
     },
     "execution_count": 59,
     "metadata": {},
     "output_type": "execute_result"
    }
   ],
   "source": [
    "dt = deltas[target]\n",
    "len(dt)"
   ],
   "metadata": {
    "collapsed": false,
    "ExecuteTime": {
     "end_time": "2023-11-06T14:54:52.961678693Z",
     "start_time": "2023-11-06T14:54:52.948833870Z"
    }
   },
   "id": "b09a65043d594f71"
  },
  {
   "cell_type": "code",
   "execution_count": 25,
   "outputs": [
    {
     "data": {
      "text/plain": "9005"
     },
     "execution_count": 25,
     "metadata": {},
     "output_type": "execute_result"
    }
   ],
   "source": [
    "keywords = Counter({w:f for w, f in dt.items() if any(not unicodedata.category(char).startswith('P') for char in w) and w not in stop_words})\n",
    "len(keywords)"
   ],
   "metadata": {
    "collapsed": false,
    "ExecuteTime": {
     "end_time": "2023-11-05T14:38:59.898385133Z",
     "start_time": "2023-11-05T14:38:59.888882928Z"
    }
   },
   "id": "56baa2662dffe7e4"
  },
  {
   "cell_type": "code",
   "execution_count": 44,
   "outputs": [
    {
     "data": {
      "text/plain": "13674"
     },
     "execution_count": 44,
     "metadata": {},
     "output_type": "execute_result"
    }
   ],
   "source": [
    "wts = Counter({w: f / global_bag[w] for w, f in daybags[target].items()})\n",
    "len(wts)"
   ],
   "metadata": {
    "collapsed": false,
    "ExecuteTime": {
     "end_time": "2023-11-06T13:52:14.238835764Z",
     "start_time": "2023-11-06T13:52:14.188227220Z"
    }
   },
   "id": "e28c9b00565e24e"
  },
  {
   "cell_type": "code",
   "execution_count": 63,
   "outputs": [
    {
     "name": "stdout",
     "output_type": "stream",
     "text": [
      "-------------  --\n",
      "silver         82\n",
      "liverpool      75\n",
      "year           73\n",
      "february       69\n",
      "may            60\n",
      "myanmar        49\n",
      "international  44\n",
      "1              43\n",
      "transfer       42\n",
      "coup           40\n",
      "billion        36\n",
      "eu             36\n",
      "last           35\n",
      "name           34\n",
      "stock          34\n",
      "science        33\n",
      "get            33\n",
      "channel        32\n",
      "san            29\n",
      "11             28\n",
      "high           27\n",
      "post           27\n",
      "network        26\n",
      "million        26\n",
      "pfizer         26\n",
      "military       26\n",
      "investing.com  25\n",
      "discover       25\n",
      "speed          25\n",
      "icloud         25\n",
      "-------------  --\n"
     ]
    }
   ],
   "source": [
    "print(tabulate(keywords.most_common(30)))"
   ],
   "metadata": {
    "collapsed": false,
    "ExecuteTime": {
     "end_time": "2023-11-06T14:58:15.911404817Z",
     "start_time": "2023-11-06T14:58:15.825869003Z"
    }
   },
   "id": "38788cfe75985219"
  },
  {
   "cell_type": "code",
   "execution_count": null,
   "outputs": [],
   "source": [],
   "metadata": {
    "collapsed": false,
    "ExecuteTime": {
     "start_time": "2023-11-06T16:06:43.189262522Z"
    }
   },
   "id": "96085339e5e9ad3a"
  },
  {
   "cell_type": "code",
   "execution_count": null,
   "outputs": [],
   "source": [],
   "metadata": {
    "collapsed": false
   },
   "id": "2565e2e2822aeafc"
  },
  {
   "cell_type": "code",
   "execution_count": null,
   "outputs": [],
   "source": [],
   "metadata": {
    "collapsed": false
   },
   "id": "faf306898cfff51"
  },
  {
   "cell_type": "code",
   "execution_count": 91,
   "outputs": [
    {
     "data": {
      "text/plain": "  0%|          | 0/9005 [00:00<?, ?it/s]",
      "application/vnd.jupyter.widget-view+json": {
       "version_major": 2,
       "version_minor": 0,
       "model_id": "273b19a7c7fe4a79aaee0614d4435d42"
      }
     },
     "metadata": {},
     "output_type": "display_data"
    },
    {
     "data": {
      "text/plain": "9005"
     },
     "execution_count": 91,
     "metadata": {},
     "output_type": "execute_result"
    }
   ],
   "source": [
    "# corrs = {}\n",
    "# for w , _ in tqdm(keywords.most_common()):\n",
    "# \tfor aid in date_aids[target]:\n",
    "# \t\tbag = all_bags[aid]\n",
    "# \t\tif w in bag:\n",
    "# \t\t\tcorrs.setdefault(w, Counter()).update(bag.keys())\n",
    "# len(corrs)\n",
    "\n",
    "present = {}\n",
    "for aid in date_aids[target]:\n",
    "\tbag = all_bags[aid]\n",
    "\tfor w in bag:\n",
    "\t\tif w in keywords:\n",
    "\t\t\tpresent.setdefault(w, set()).add(aid)\n",
    "len(present)\n",
    "ious = {w: Counter({w2: len(present[w].intersection(present[w2])) / len(present[w].union(present[w2])) for w2 in present if w != w2}) for w in tqdm(present)}\n",
    "len(ious)"
   ],
   "metadata": {
    "collapsed": false,
    "ExecuteTime": {
     "end_time": "2023-11-06T15:27:04.161332932Z",
     "start_time": "2023-11-06T15:26:23.908631314Z"
    }
   },
   "id": "47dd2425ce3d4bad"
  },
  {
   "cell_type": "code",
   "execution_count": 109,
   "outputs": [
    {
     "data": {
      "text/plain": "  0%|          | 0/9005 [00:00<?, ?it/s]",
      "application/vnd.jupyter.widget-view+json": {
       "version_major": 2,
       "version_minor": 0,
       "model_id": "a58d877c8c6b47d6b7c8d723a00f40a4"
      }
     },
     "metadata": {},
     "output_type": "display_data"
    }
   ],
   "source": [
    "importances = daytfidf[target]\n",
    "scores = {w: Counter({w2: ious[w][w2] * np.sqrt(importances[w2] * importances[w]) for w2 in ious[w]}) for w in tqdm(ious)}"
   ],
   "metadata": {
    "collapsed": false,
    "ExecuteTime": {
     "end_time": "2023-11-06T15:46:18.581089685Z",
     "start_time": "2023-11-06T15:45:08.155552757Z"
    }
   },
   "id": "2675078c29f09af6"
  },
  {
   "cell_type": "code",
   "execution_count": 28,
   "outputs": [
    {
     "ename": "NameError",
     "evalue": "name 'scores' is not defined",
     "output_type": "error",
     "traceback": [
      "\u001B[0;31m---------------------------------------------------------------------------\u001B[0m",
      "\u001B[0;31mNameError\u001B[0m                                 Traceback (most recent call last)",
      "Cell \u001B[0;32mIn[28], line 2\u001B[0m\n\u001B[1;32m      1\u001B[0m token \u001B[38;5;241m=\u001B[39m \u001B[38;5;124m'\u001B[39m\u001B[38;5;124mnews\u001B[39m\u001B[38;5;124m'\u001B[39m\n\u001B[0;32m----> 2\u001B[0m \u001B[38;5;28mprint\u001B[39m(tabulate([(w, s) \u001B[38;5;28;01mfor\u001B[39;00m w, s \u001B[38;5;129;01min\u001B[39;00m \u001B[43mscores\u001B[49m[token]\u001B[38;5;241m.\u001B[39mmost_common(\u001B[38;5;241m30\u001B[39m) \u001B[38;5;28;01mif\u001B[39;00m w \u001B[38;5;241m!=\u001B[39m token]))\n",
      "\u001B[0;31mNameError\u001B[0m: name 'scores' is not defined"
     ]
    }
   ],
   "source": [
    "token = 'news'\n",
    "print(tabulate([(w, s) for w, s in scores[token].most_common(30) if w != token]))"
   ],
   "metadata": {
    "collapsed": false,
    "ExecuteTime": {
     "end_time": "2023-11-06T16:21:26.467848007Z",
     "start_time": "2023-11-06T16:21:26.408812717Z"
    }
   },
   "id": "c935eeb302350d83"
  },
  {
   "cell_type": "code",
   "execution_count": 140,
   "outputs": [
    {
     "data": {
      "text/plain": "  0%|          | 0/9005 [00:00<?, ?it/s]",
      "application/vnd.jupyter.widget-view+json": {
       "version_major": 2,
       "version_minor": 0,
       "model_id": "be47e1bc337e45e083abdf717dedfe15"
      }
     },
     "metadata": {},
     "output_type": "display_data"
    },
    {
     "data": {
      "text/plain": "(7365, 11623)"
     },
     "execution_count": 140,
     "metadata": {},
     "output_type": "execute_result"
    }
   ],
   "source": [
    "G = nx.Graph()\n",
    "for w, iou in tqdm(scores.items()):\n",
    "\tG.add_edges_from((w, w2, {'weight': f}) for w2, f in iou.items() if w > w2 and f > 9e-7)\n",
    "len(G), len(G.edges)"
   ],
   "metadata": {
    "collapsed": false,
    "ExecuteTime": {
     "end_time": "2023-11-06T15:54:35.877156761Z",
     "start_time": "2023-11-06T15:54:31.948256679Z"
    }
   },
   "id": "ac03946b414e38c9"
  },
  {
   "cell_type": "code",
   "execution_count": 125,
   "outputs": [],
   "source": [
    "import community as community_louvain"
   ],
   "metadata": {
    "collapsed": false,
    "ExecuteTime": {
     "end_time": "2023-11-06T17:45:35.310808628Z",
     "start_time": "2023-11-06T17:45:35.206941971Z"
    }
   },
   "id": "a54c08b9e59b74f4"
  },
  {
   "cell_type": "code",
   "execution_count": 126,
   "outputs": [],
   "source": [
    "\n",
    "# Compute the best partition using the Louvain algorithm\n",
    "partition = community_louvain.best_partition(G)\n"
   ],
   "metadata": {
    "collapsed": false,
    "ExecuteTime": {
     "end_time": "2023-11-06T17:45:40.123177498Z",
     "start_time": "2023-11-06T17:45:37.569639585Z"
    }
   },
   "id": "778f7aa45d84e10a"
  },
  {
   "cell_type": "code",
   "execution_count": 127,
   "outputs": [
    {
     "name": "stdout",
     "output_type": "stream",
     "text": [
      "The modularity of the partition is 0.7202137514474273\n"
     ]
    }
   ],
   "source": [
    "\n",
    "# partition is a dictionary where the key is the node and the value is the cluster id\n",
    "# for node, cluster_id in partition.items():\n",
    "#     print(f'Node {node} is in cluster {cluster_id}')\n",
    "\n",
    "# Optionally, you can also assess the quality of the partition\n",
    "modularity = community_louvain.modularity(partition, G)\n",
    "print(f\"The modularity of the partition is {modularity}\")"
   ],
   "metadata": {
    "collapsed": false,
    "ExecuteTime": {
     "end_time": "2023-11-06T17:45:40.339287638Z",
     "start_time": "2023-11-06T17:45:40.144228446Z"
    }
   },
   "id": "d58e7e4d3996e279"
  },
  {
   "cell_type": "code",
   "execution_count": 135,
   "outputs": [
    {
     "name": "stdout",
     "output_type": "stream",
     "text": [
      "[1104, 127, 190, 1406, 433, 161, 213, 412, 226, 105, 74, 217, 263, 83, 78, 99, 63, 61, 45, 9, 42, 4, 26, 6]\n"
     ]
    },
    {
     "data": {
      "text/plain": "24"
     },
     "execution_count": 135,
     "metadata": {},
     "output_type": "execute_result"
    }
   ],
   "source": [
    "clusters = {}\n",
    "for node, cluster_id in partition.items():\n",
    "\tclusters.setdefault(cluster_id, []).append(node)\n",
    "print([len(clid) for clid in clusters.values()])\n",
    "len(clusters)"
   ],
   "metadata": {
    "collapsed": false,
    "ExecuteTime": {
     "end_time": "2023-11-06T17:49:32.361598233Z",
     "start_time": "2023-11-06T17:49:32.293591976Z"
    }
   },
   "id": "1e4a65d376b77429"
  },
  {
   "cell_type": "code",
   "execution_count": 138,
   "outputs": [
    {
     "name": "stdout",
     "output_type": "stream",
     "text": [
      "0 1104\n",
      "[2392207, 2905434, 2906164, 2906619, 2907832, 2909551, 2906262, 2907259, 2909715, 2910026, 2899241, 2900254, 2904967, 2905100, 2905488, 2905803, 2906433, 2906797, 2907548, 2908147, 2908295, 2904960, 2908778, 2910546, 2910804, 2910972, 2911033, 2906238, 2906523, 2908053, 2908110, 2908503, 2909427, 2911347, 1181063, 2369011, 2905166, 2905493, 2908336, 2908448, 2909109, 2911644, 2911797, 2911798, 2911860, 198353, 236513, 339466, 2568024, 571569, 571872, 2898471, 2905242, 2905972, 2906237, 2906801, 2906814, 2907010, 2907177, 2907298, 2907309, 2121444, 2907914, 2908773, 2908899, 2908958, 2910767, 2910904, 2911211, 916158, 2906055, 2906057, 2906124, 2906715, 2908724, 2911299, 2911349, 2899926, 2904930, 2905370, 2314, 2787772, 2900, 3509, 2899827, 151362, 2085300, 2905113, 2905848, 2906093, 2906310, 2906698, 2906760, 2906954, 2907256, 2907801, 2907925, 2908203, 2908414, 2908841, 2908892, 2908919, 2908984, 2908994, 2909025, 2909074, 2909547, 26090, 2909829, 2910438, 2910915, 2910969, 2911005, 2911394, 2911640, 1502643, 2911905, 2907431, 2907749, 2908005, 2909707, 2905430, 2906318, 2907295, 2907327, 2907388, 2909263, 2909646, 2911632, 1346602, 2899986, 2903597, 2905173, 2905431, 2905751, 2905796, 2905799, 2905864, 2906272, 2906794, 2907134, 2908304, 2908713, 2908761, 2908864, 2909222, 2909519, 2909560, 2909573, 2909696, 2910314, 1927404, 2910793, 2910909, 2911060, 2911142, 2911428, 1502637, 2911818, 2911880, 2911896, 1481988, 1652006, 1652112, 2898433, 2900486, 2903394, 2903535, 1068618, 2903710, 2904858, 2904878, 2905044, 2905184, 2905228, 2905351, 2905583, 2905630, 2905670, 2905713, 2905727, 2905797, 2905815, 2905839, 2905869, 2905946, 2906026, 2906661, 2907432, 2907794, 2907809, 2907840, 2908033, 2908056, 2908704, 2909005, 2909062, 2909457, 2909490, 2909597, 2909686, 2909852, 2909988, 2910421, 2910452, 2911243, 2911422, 2911469, 2911651, 2911720, 2911857, 1669780, 2892437, 2900681, 2901763, 2904956, 2905111, 2905463, 2905498, 2905709, 2905903, 2906058, 2907056, 2907347, 2908123, 2908299, 2908379, 2908719, 2908865, 2909105, 2910180, 2905705, 2906639, 2906973, 2908307, 2908618, 2909448, 2911308, 2899474, 2906268, 2906460, 2906674, 2907153, 2907346, 2908727, 2908819, 2909555, 2909773, 2910078, 2911864, 2905102, 2905874, 2906349, 2907650, 2909193, 2910428, 1086335, 1086561, 1161956, 2899517, 2901647, 2905887, 2907102, 2907149, 2907315, 2907780, 2908022, 2909629, 2909918, 2911530, 2445942, 2906355, 2905589, 2911429, 2905195, 2905808, 2905917, 2906448, 2908054, 2909420, 2910396, 2911066, 2911396, 2825212, 2891112, 2901518, 2904861, 2904867, 2907285, 2907412, 2908184, 2908533, 2909391, 2910381, 2845410, 1482033, 2899686, 2904949, 2906154, 2906586, 2906687, 2907104, 2909210, 2910052, 2910996, 2907175, 2907311, 2907567, 2907985, 2908196, 2908485, 2908795, 2908829, 2909207, 2909640, 2910671, 2910706, 2909504, 2905062, 2905170, 2906879, 2907522, 2908104, 2908412, 2909486, 2911794, 2905412, 2908015, 2909535, 2892211, 2910099, 2910466, 2911551, 2904990, 2906522, 2911192, 2905216, 2905336, 2905575, 2907101, 2907718, 2907817, 2908928, 2909101, 2909157, 2910002, 2910991, 2910060, 2911475, 2910036, 2905066, 2906122, 2907236, 2909081, 2910971, 2900144, 2900171, 2905110, 2905146, 2905432, 2905608, 2906197, 2908169, 2910003, 2911319, 2905136, 2905569, 2905665, 2909750, 2905447, 2907823, 2908799, 2910064, 2905891, 2908268, 2909962, 2904966, 2905211, 2906022, 2907215, 2907953, 2908098, 2909870, 2905802, 2898722, 2907042, 2909155, 2910632, 2908904, 2906994, 2908858, 2911628, 2906312, 2906502, 2907697, 2908118, 2908965, 2909247, 2910966, 2911094, 2907280, 2909953, 2900626, 2905118, 2905421, 2905658, 2906551, 2906891, 2906897, 2906899, 2907566, 2907952, 2908144, 2908461, 2908524, 2908914, 2908933, 2909279, 2909301, 2910591, 2910688, 2911907, 2903634, 2906149, 2907372, 2908570, 2908877, 2909050, 1287996, 1850740, 2908165, 1439936, 1669795, 2905400, 2905618, 2907074, 2907611, 174528, 2894699, 2901116, 2905651, 2905964, 2907592, 2907974, 2908573, 2909361, 2905316, 2907549, 2907897, 2907920, 2908453, 2908824, 2909274, 2909966, 2910015, 2911110, 2911348, 2905999, 2907116, 2908894, 2862301, 2899181, 2899565, 2899666, 2904894, 2904895, 2905093, 2905126, 2905167, 2905193, 2905276, 2906115, 2906532, 2906903, 2907394, 2907739, 2908468, 2908849, 2909282, 2909567, 2909663, 2910373, 2910443, 2911801, 2904746, 2906062, 2907333, 2908073, 2909605, 2906576, 2909668, 2904223, 2910746, 2909967, 2906710, 2907290, 2907316, 2906069, 2908959, 2906084, 2906410, 2907496, 2909421, 2911515, 2904931, 2906915, 2907789, 2909494, 2910415, 2910520, 2907113, 2906583, 2907923, 2908146, 2911682, 2908247, 2909872, 2905423, 2905487, 2907629, 2908739, 2909126, 2899041, 2899067, 2901515, 2905081, 2905300, 2905918, 2905923, 2905989, 2906640, 2908280, 2908918, 2908936, 2909149, 2909637, 2910329, 2910994, 2905944, 2906773, 2907231, 2907246, 2907747, 2909199, 2905976, 2910441, 2911754, 2911919, 2906053, 2907396, 2906769, 2910984, 2911894, 2908002, 2910640, 2906229, 2910198, 2899610, 2900873, 2908562, 2911272, 2911294, 2911719, 2906932, 2907040, 2907410, 2908934, 2909760, 2910763, 2906854, 2908525, 2908885, 2908929, 2909115, 2910007, 2905079, 2898713, 2905219, 2908697, 2910205, 2911717, 2904953, 2905971, 2909417, 2911331, 2905204, 2909598, 2905121, 2907668, 2909183, 2909259, 2910686, 2904984, 2905403, 2906049, 2908740, 2909880, 2911047, 2905298, 2906293, 2906672, 2907870, 2905433, 2907059, 2909485, 2910490, 2907105, 2910181, 2905456, 2907730, 2908754, 2910318, 2905687, 2905702, 2907717, 2908952, 2910208, 2910580, 2906423, 2906863, 2907374, 2910817, 2899372, 2905222, 2905690, 2906881, 2909295, 2909999, 2899422, 2905311, 2905646, 2906118, 2906665, 2906783, 2907188, 2907258, 2908027, 2908267, 2908776, 2909509, 2909532, 2909543, 2909590, 2910238, 2910303, 2910702, 2910735, 2911093, 2911132, 2911181, 2911680, 2911755, 2911769, 2899428, 2910218, 2905275, 2905523, 2907099, 2907385, 2907459, 2908115, 2908801, 2908942, 2909738, 2910013, 2910622, 2905127, 2910682, 2911051, 2899481, 2906518, 2908368, 2909226, 2910535, 2905194, 2908112, 2908215, 2909128, 2909318, 2910130, 2911824, 2905082, 2905313, 2909548, 2907763, 2909916, 2899744, 2905701, 2906669, 2910792, 2904857, 2905356, 2905851, 2905873, 2905967, 2905992, 2906013, 2906446, 2906545, 2906780, 2906787, 2907136, 2907972, 2908101, 2908260, 2908361, 2908498, 2908859, 2909001, 2910045, 2910196, 2910800, 2910813, 2911112, 2911800, 2908665, 2908041, 2907648, 2908385, 2911288, 2911703, 2908488, 2905245, 2906028, 2906092, 2906515, 2906667, 2906772, 2906861, 2911189, 2911452, 2911574, 2911707, 2906327, 2909403, 2909925, 2905328, 2905479, 2909428, 2909780, 2910004, 2910101, 2905478, 2905511, 2906716, 2906934, 2907994, 2908152, 2908313, 2908661, 2909364, 2911321, 2907205, 2900734, 2905542, 2906804, 2908026, 2910405, 2904937, 2905587, 2906555, 2908544, 2909103, 2909762, 2910275, 2906254, 2906370, 2909797, 2910953, 2908495, 2908572, 2909833, 2911691, 2909719, 2908338, 2907467, 2908749, 2908589, 2909009, 2909122, 2905708, 2907018, 2901331, 2905526, 2909901, 2905435, 2909954, 2900224, 2909478, 2905482, 2905900, 2910390, 2911415, 2900393, 2901170, 2905633, 2906955, 2906961, 2907843, 2908229, 2909744, 2909757, 2910913, 2910993, 2911913, 2906213, 2900942, 2909612, 2905213, 2906129, 2908509, 2909294, 2909435, 2908328, 2902041, 2906367, 2900630, 2906786, 2907568, 2907605, 2908672, 2908963, 2909255, 2910518, 2911044, 2906688, 2908349, 2900691, 2905016, 2905131, 2905376, 2909774, 2910801, 2911507, 2901848, 2905555, 2907293, 2911302, 2911871, 2908055, 2905755, 2906740, 2906753, 2908170, 2908742, 2901039, 2907737, 2911816, 2911904, 2911311, 2901129, 2905101, 2906825, 2907922, 2901616, 2906704, 2906970, 2907172, 2908137, 2908496, 2909221, 2901509, 2908239, 2909693, 2910171, 2910826, 2905415, 2905462, 2907384, 2910102, 2905256, 2909445, 2907078, 2905207, 2908067, 2908851, 2906883, 2906968, 2907050, 2909450, 2905858, 2908332, 2909837, 2905346, 2906050, 2908814, 2910460, 2906201, 2905700, 2910483, 2909878, 2906102, 2910384, 2911906, 2908234, 2908286, 2909188, 2909409, 2909688, 2909717, 2907631, 2905491, 2907414, 2908847, 2909517, 2910974, 2908981, 2907696, 2904669, 2905505, 2906060, 2906086, 2907937, 2908425, 2908470, 2911875, 2910920, 2905208, 2910785, 2908043, 2909338, 2910745, 2911015, 2905287, 2906089, 2908682, 2905867, 2906453, 2911210, 2911647, 2909963, 2911125, 2909836, 2906692, 2906290, 2907575, 2906595, 2908420, 2911489, 2906730, 2908982, 2905420, 2905607, 2907554, 2906526, 2909120, 2906248, 2906511, 2906872, 2911397, 2910772, 2906860, 2905754, 2906366, 2910679, 2910609, 2911671, 2907708, 2909991, 2911264, 2905036, 2906759, 2906155, 2907626, 2907831, 2910288, 2911345, 2908997, 2911283, 2911812, 2910575, 2905096, 2910360, 2905098, 2910556, 2909454, 2905437, 2906487, 2905116, 2907855, 2909500, 2909736, 2909995, 2910529, 2910541, 2910298, 2908297, 2908717, 2906653, 2906176, 2907973, 2907830, 2908464, 2905198, 2910083, 2908422, 2906847, 2909341, 2909121, 2906700, 2909261, 2909383, 2908465, 2905611, 2907446, 2906374, 2907540, 2908759, 2911669, 2906110, 2905662, 2908198, 2908371, 2909196, 2906800, 2908604, 2906168, 2906417, 2908556, 2906812, 2907595, 2908648, 2911554, 2909433, 2910173, 2907779, 2911212, 2908664, 2908513, 2909501, 2905371, 2907079, 2909434, 2908125, 2908265, 2906908, 2906570, 2909768, 2909769, 2911219, 2910462, 2909473, 2905439, 2910871, 2905451, 2906733, 2905476, 2905539, 2906625, 2909041, 2906018, 2910020, 2905668, 2911124, 2909492, 2905546, 2905552, 2911807, 2905693, 2906404, 2910700, 2907842, 2910819, 2907314, 2908868, 2906649, 2906131, 2910816, 2907365, 2908138, 2911054, 2906261, 2908975, 2906030, 2908757, 2907219, 2910032, 2909152, 2908555, 2906757, 2907002, 2908584, 2907982, 2909556, 2911078, 2906353, 2911322, 2907517, 2906521, 2910628, 2906696, 2907785, 2907866, 2907198, 2909018, 2907226, 2911432, 2907266, 2908802, 2907787, 2907936, 221873, 2909734, 2911826]\n"
     ]
    }
   ],
   "source": [
    "clsid = partition[2906997]\n",
    "clsid = 0\n",
    "print(clsid, len(clusters[clsid]))\n",
    "print(sorted(clusters[clsid], key=lambda aid: importances[aid], reverse=True))"
   ],
   "metadata": {
    "collapsed": false,
    "ExecuteTime": {
     "end_time": "2023-11-06T17:50:02.865225369Z",
     "start_time": "2023-11-06T17:50:02.764238923Z"
    }
   },
   "id": "bbfb3e870217c614"
  },
  {
   "cell_type": "code",
   "execution_count": 139,
   "outputs": [
    {
     "name": "stdout",
     "output_type": "stream",
     "text": [
      "-------  --  ----------  -----------------------------------------------------------------------------------------------------------------------------------------------------------------------------------------------------------------------------------------------\n",
      "2392207  th  2020-12-28  Nation TV, Thailand's number 1 news station website | Economy - Nation TV, 24-hour news station\n",
      "2905434  uk  2021-02-01  The expert told which websites should never be visited in public places - GSMinfo\n",
      "2906164  ar  2021-02-01  A doctor warns against heating living things on a stove: it causes cancer - Colors of the Nation - Alwan\n",
      "2906619  pt  2021-02-01  Website publishes alleged audios of Maradona's doctor: 'He's going to die shitting' - UOL Esporte\n",
      "2907832  en  2021-02-01  The road from Meath to the 2021 Six Nations via Brisbane and Belfast - The42\n",
      "2909551  ar  2021-02-01  Houria Farghali undergoes a delicate surgery that took 9 hours - Al Jadeed Official Website\n",
      "2906262  en  2021-02-01  Pregnant Shawn Johnson Tests Positive for Coronavirus | Coronavirus, Pregnant Celebrities, Shawn Johnson - Just Jared\n",
      "2907259  en  2021-02-01  Pregnant Shawn Johnson tests positive for COVID-19: 'My body is just exhausted' - USA TODAY\n",
      "2909715  de  2021-02-01  “Love in the stomach”: Anna Veith is pregnant - Die Presse\n",
      "2910026  ru  2021-02-01  “They recognized lung damage”: Zbruev spoke about his condition - Gazeta.Ru\n",
      "2899241  sr  2021-01-31  Three signs that you lack vitamin D and vitamin B12, and the consequences are a higher risk of cancer, viral infections, depression - Hello!\n",
      "2900254  sr  2021-01-31  Julia Roberts asked Matthew Perry to write her a term paper in quantum physics: And then they fell in love. - Style magazine\n",
      "2904967  de  2021-02-01  COVID-19: Which neurological consequences are most common? - Heilpraxisnet.de\n",
      "2905100  sr  2021-02-01  Do you take vitamin C every day? These things then happen in your body! - The first one\n",
      "2905488  tr  2021-02-01  The expert made warning after warning, saying that the name is seen in one in every ten people. Those with these symptoms should run to the doctor - YeniÇağ\n",
      "2905803  it  2021-02-01  Healthcare migration due to cancer: every year over 67 thousand hospitalizations outside the area of ​​residence - Corriere della Sera\n",
      "2906433  zh  2021-02-01  New genotypes of Wuhan pneumonia \"increasing in number every day\" The global virus has mutated into 3931 types - New head shell\n",
      "2906797  lt  2021-02-01  Doctors told about the post-epidemic consequences: the symptoms complicate the life of those who were mildly ill - tv3.lt\n",
      "2907548  ja  2021-02-01  \"Raspberry Pi Pico\" is now in stock. 550 yen at Switch Science - PC Watch\n",
      "2908147  zh  2021-02-01  Badminton year-end competition/Every failure is growth Tai Tzu Ying: Move yourself for 2 seconds - udn OOPS! News\n",
      "2908295  bg  2021-02-01  Radev: I will run for a second term - NOVA\n",
      "2904960  lt  2021-02-01  \"The Roop\" managed to surpass themselves: they broke the Lithuanian record - tv3.lt\n",
      "2908778  ar  2021-02-01  Art news and artist news: With loud makeup... Watch Menna Fadali show off her beauty on Instagram - Loma News\n",
      "2910546  en  2021-02-01  Apple Watch Unity Challenge Celebrating Black History Kicks Off Today - MacRumors\n",
      "2910804  ar  2021-02-01  Watch...the 12 best videos taken by NASA of the sun and outer space - News 24 - Akhbaar24\n",
      "2910972  en  2021-02-01  Watch NASA astronauts conduct the second spacewalk of the year - CNN\n",
      "2911033  en  2021-02-01  Watch NASA astronauts conduct the second spacewalk of the year - CNN International\n",
      "2906238  en  2021-02-01  Watch: ASTRO's Cha Eun Woo Breaks Down Crying While Talking About Marriage In “Master In The House” Preview - soompi\n",
      "2906523  zh  2021-02-01  In the early days, the Wuhan virus strain gradually decreased, but the global virus has mutated up to 3931 types - Mirror Weekly\n",
      "2908053  fr  2021-02-01  Ups and downs of life insurance taxation - Boursorama\n",
      "2908110  en  2021-02-01  COVID-19: Ryanair urges EU to step up 'slow pace' of vaccines as it posts €321m loss - Sky News\n",
      "2908503  en  2021-02-01  Johnson & Johnson appeal plays down importance of vaginal mesh product brochures - The Guardian\n",
      "2909427  en  2021-02-01  Schumer quietly nails down the left amid AOC primary chatter - POLITICO\n",
      "2911347  en  2021-02-01  Japan and South Korea take the slow road to Covid vaccinations - The Irish Times\n",
      "1181063  uk  2020-10-07  A study with a sample of 657,000 children refuted the link between the measles vaccine and autism - Public | hromadske.ua\n",
      "2369011  uk  2020-12-27  People with COVID-19 are most contagious in the first days after symptoms appear, so they need to isolate themselves in time — research - Public | hromadske.ua\n",
      "2905166  cs  2021-02-01  Artificial intelligence can one hundred percent predict some types of autism - ceskatelevize.cz/ct24\n",
      "2905493  he  2021-02-01  Did you receive a WhatsApp message about a gift from Samsung? Do not share or click on the link - Gadgety | Gadgety\n",
      "2908336  pt  2021-02-01  'Father' of the web, Tim Berners-Lee wants to reformulate the digital world - Link Estadão\n",
      "2908448  en  2021-02-01  SGH: Woman warded after receiving Covid-19 vaccine shows no evidence symptoms are linked to vaccination - The Independent\n",
      "2909109  hu  2021-02-01  MVM - hvg.hu advertises a private health insurance company linked to Lőrinc Mészáros to its customers\n",
      "2911644  en  2021-02-01  COVID-19: 'Surge testing' rolled out in parts of Surrey after South Africa COVID variant found in cases with no travel links - Sky News\n",
      "2911797  en  2021-02-01  Door-to-door testing for South Africa variant launched in Surrey after cases found with no travel links - Yahoo Philippines News\n",
      "2911798  en  2021-02-01  Door-to-door testing for South Africa variant launched in Surrey after cases found with no travel links - Yahoo Singapore News\n",
      "2911860  en  2021-02-01  Covid surge testing in Woking as 2 test positive for South Africa variant with no SA link - TechnoCodex\n",
      " 198353  zh  2020-08-15  Cases of German measles in Japan hit record high! The epidemic situation in Tokyo and Chiba is rising. Women of childbearing age should pay attention when traveling to Japan - Feng Media\n",
      " 236513  zh  2020-08-18  Taiwanese children are the fattest in Asia! Experts remind: Children with poor dietary concepts may get these 10 diseases - Feng Media\n",
      " 339466  zh  2020-08-24  Can people with diabetes eat chocolate? Eating 25 grams a day not only helps stabilize blood sugar, but also has these amazing benefits - Feng Media\n",
      "2568024  th  2021-01-09  We travel together - Droidsans\n",
      " 571569  zh  2020-09-05  Constipation, diarrhea, and intestinal irritation all the time? Doctor: I’m afraid it’s this kind of disease. There are 4 kinds of foods you should never eat - Feng Media\n",
      " 571872  zh  2020-09-05  Don’t ignore snoring and trouble sleeping at night. A 30-year-old man actually slept until he had heart failure! Doctors teach you 5 tips to help you sleep well - Feng Media\n",
      "2898471  ro  2021-01-31  Seventy new cases of measles registered in the last week | Free Romania - Free Romania\n",
      "2905242  tr  2021-02-01  Attention! Shocking statement about coronavirus! It causes sudden death in those who are deficient in that vitamin! - Calendar\n",
      "2905972  sr  2021-02-01  Leading German virologist warns: Vaccination and lockdown are not enough, here's what WE MUST DO - Blic\n",
      "2906237  sk  2021-02-01  Virgin Hyperloop showcased new cabin design that could travel at speeds of up to 1,200 km/h - PC Review\n",
      "2906801  ja  2021-02-01  App tracking permission selection starts in next iOS 14 beta - GIZMODO JAPAN\n",
      "2906814  en  2021-02-01  Mandatory hotel quarantine for international travel could be coming 'very quickly' - CTV News\n",
      "2907010  ja  2021-02-01  Mobile Suica gives you 3,000 yen back on purchases of 1,000 yen or more including tax - Engadget Japan version\n",
      "2907177  ja  2021-02-01  Israeli Ministry of Health releases official vaccination results for the first time (Israel) | Business News - JETRO (Japan External Trade Organization)\n",
      "2907298  ja  2021-02-01  30% of people under 30 will not seek medical attention if they have mild symptoms Osaka Prefecture surveys 1,000 people on coronavirus awareness - livedoor\n",
      "2907309  ja  2021-02-01  Australian Prime Minister confident that Microsoft will handle Google withdrawal - Reuters (Reuters Japan)\n",
      "2121444  zh  2020-12-07  8 major signs that almost all patients with dementia have! Please remember what the doctor said, you have to be careful if you meet 2 of the following... - Feng Media\n",
      "2907914  ja  2021-02-01  Sumitomo Mitsui Card starts issuing \"Numberless Card\"--up to 5% return at convenience stores, etc. - CNET Japan\n",
      "2908773  bg  2021-02-01  See how to travel with Hyperloop (VIDEO) - 24 hours\n",
      "2908899  ja  2021-02-01  “It’s so satisfying that I can’t believe it’s only 140 seconds” “Why is this masterpiece so buried?” A short film about the “last video streamer” who travels through collapsed Japan becomes a hot topic (page 1/2) - - Netorabo\n",
      "2908958  en  2021-02-01  Ryanair expects a loss of over $1 billion this year as travel restrictions bite - CNBC\n",
      "2910767  en  2021-02-01  Japan’s pharmaceutical industry is huge. But it was left behind in race to get vaccines to Japanese citizens. - The Washington Post\n",
      "2910904  ja  2021-02-01  GoTo Travel nationwide suspension extended Government rushes to consider conditions for reopening - goo.ne.jp\n",
      "2911211  it  2021-02-01  Yellow zone, today what can be done (and what not): bars, restaurants, travel, shops. The rules - Il Messaggero\n",
      " 916158  zh  2020-09-23  There are people with high blood sugar and diabetes in the family, so they eat the New Year’s Eve dinner with trepidation... The doctor clarified: In fact, it’s better to eat “this kind” of food without any worries - Feng Media\n",
      "2906055  es  2021-02-01  They discovered in Spain the footprint of a Neanderthal, the oldest from the Upper Pleistocene - TN - Todo Noticias\n",
      "2906057  es  2021-02-01  \"I had a talk with Marcelo Gallardo before leaving River, it was short and simple, without any hair on the tongue... - TNT Sports Argentina\n",
      "2906124  es  2021-02-01  The oldest Neanderthal footprint from the Upper Pleistocene is discovered in Spain | The Universal - The Universal\n",
      "2906715  sr  2021-02-01  \"ALL THAT IS CHOKING ME, I WANT TO BE SMILING!\" Tara without hair on the tongue about the relationship with the married rapper! - Serbia today\n",
      "2908724  pl  2021-02-01  Owsiak did not bite his tongue regarding TVP. Strong words were spoken - Fakt.pl\n",
      "2911299  en  2021-02-01  'COVID tongue': Mouth ulcers or rashes likely a coronavirus symptom, says expert - Euronews\n",
      "2911349  en  2021-02-01  'COVID tongue': Mouth ulcers or rashes likely a coronavirus symptom, says expert - euronews (in English)\n",
      "2899926  en  2021-01-31  Bet365 founder Coates named Britain's top taxpayer with £573 million paid - Racing Post\n",
      "2904930  lv  2021-02-01  The home-grown trio \"ZaKaBa\" starts its journey with the listeners with songs written during the house sit-in - Jauns.lv\n",
      "2905370  fr  2021-02-01  Death of guitarist Hilton Valentine, founder of the group The Animals (The House of the Rising Sun) - RTBF\n",
      "   2314  zh  2020-08-07  Does it mean that people who don’t blush even after drinking alcohol have good liver function? The doctor slaps you in the face: Be careful only if your expression remains unchanged even after drinking several glasses of wine! - Feng Media\n",
      "2787772  ro  2021-01-21  Drink this every morning and lose 10 kilograms in 30 days - RomaniaTV.net\n",
      "   2900  zh  2020-08-07  Can drinking beer really help pass stones? Urologists debunk 3 major myths about \"urinary tract stones\" - Feng Media\n",
      "   3509  zh  2020-08-07  Do you avoid eating eggs because you are afraid of high cholesterol levels as you get older? \"Journal of Heart Medicine\": One egg a day can keep you away from heart disease and stroke - Feng Media\n",
      "2899827  uk  2021-01-31  Scientists have named an alcoholic drink that affects the body as sports training - TSN UA\n",
      " 151362  zh  2020-08-13  Why does taking phlegm-reducing and cough-relieving medicines make my condition worse? The doctor lamented: Taiwanese people almost all eat randomly, and only taking it at \"this time\" is the right time - Feng Media\n",
      "2085300  ro  2020-12-05  What can happen if you drink Coca-Cola every day. Your health is at risk - RomaniaTV.net\n",
      "2905113  cs  2021-02-01  How much can you build a house for? Even for half a million crowns - E15.cz\n",
      "2905848  sl  2021-02-01  NOT EVEN CLOSE! Samardžić got a new club and a NEW SURNAME! It's crazy how they presented him... (photo) - Svet24.si\n",
      "2906093  it  2021-02-01  Covid vaccine, Burioni: \"Delayed delivery means deaths\" - Adnkronos\n",
      "2906310  hu  2021-02-01  The best Valentine's Day gift in 2021 - Buy Windows 10 in pairs, even cheaper (x) - 24.hu\n",
      "2906698  sr  2021-02-01  Just one glass of this drink a day burns 50 percent of fat deposits around the stomach - Krstarica\n",
      "2906760  en  2021-02-01  Millennial Money: How to invest? What do I even invest in? - Yahoo Singapore News\n",
      "2906954  zh  2021-02-01  All diabetics should be screened for liver disease! Joint statement from American associations: Fatty liver disease can easily deteriorate into cancer - yamNewsbo News\n",
      "2907256  en  2021-02-01  Government discusses lifting alcohol ban – report - BusinessTech\n",
      "2907801  tr  2021-02-01  Scientists listed them one by one, be careful! It looks so innocent but it eats the brain - Calendar\n",
      "2907925  zh  2021-02-01  Movie/Watanabe Yuta scored a total of 23 points as a substitute in the second game. The Japanese forward had a record high of 3 blocks in a single game, and even rewarded \"White Monster\" with a spicy hot pot shot - DONGTW Action Network\n",
      "2908203  hu  2021-02-01  Denzel Washington's new film leads the box office list even though it can be streamed - 24.hu\n",
      "2908414  uk  2021-02-01  The new Apple Watch will get a very interesting function - ITsider.\n",
      "2908841  pl  2021-02-01  They made furniture out of supercars. Now they can pay a fine of PLN 2 million and even go to prison - Moto.pl\n",
      "2908892  th  2021-02-01  FDA explains approval of health functions in Smart watches in another 15 hours - NEW18\n",
      "2908919  zh  2021-02-01  Can I shoot AV but not accompany me with drinks? Waseda's pretty girl reveals the hidden rules of prestigious schools-Mirror Weekly\n",
      "2908984  de  2021-02-01  We Covid drinkers: Alcohol is not a solution, but the temptation is great - DER SPIEGEL\n",
      "2908994  de  2021-02-01  World Cup title defended – Denmark’s golden boys are unstoppable even in the bubble - Swiss Radio and Television (SRF)\n",
      "2909025  pl  2021-02-01  Finale of the Great Orchestra of Christmas Charity. Dawid Podsiadło donated his own cheesecakes to the auction. Radek Kotarski: \"I will eat from you even with raisins\" - Pudelek\n",
      "2909074  el  2021-02-01  Irving: \"I couldn't even mark a stump today, I was desperate\" - SPORT 24\n",
      "2909547  pl  2021-02-01  Netflix introduces a sleep timer. What will be its function? - Interia\n",
      "  26090  zh  2020-08-08  Nail condition actually hides health code? If you have nails with this color, be careful of cancer - Feng Media\n",
      "2909829  fr  2021-02-01  A tourist poses with a world star... without even realizing it - 7sur7\n",
      "2910438  el  2021-02-01  Upheaval at Jumbo: They didn't even open with click in shop - gazzetta.gr\n",
      "2910915  de  2021-02-01  fraenk: You can use it even after the data volume has been used up - Caschys Blog\n",
      "2910969  fr  2021-02-01  Why do Covid-19 symptoms sometimes last for several months? A WHO official wants to unravel the mystery - Nice-Matin\n",
      "2911005  id  2021-02-01  Feel These 7 Symptoms? This means you have been infected with COVID-19 - VIVA - VIVA.co.id\n",
      "2911394  sv  2021-02-01  Is sick with an unusual liver disease - must get the right diet - Aftonbladet\n",
      "2911640  sv  2021-02-01  Bobi Wine takes the election results to court - Sydsvenskan\n",
      "1502643  ro  2020-10-25  15 foods that repair your liver after the Holidays - Click!\n",
      "2911905  es  2021-02-01  Be careful with the Treasury declaration: this is the latest cyberattack with the Income Tax - El Español\n",
      "2907431  ar  2021-02-01  Lose 50 kilograms of weight within a year with simple steps - Emirates Today\n",
      "2907749  zh  2021-02-01  Yang Qing only slept for 3 hours and lost 3 kilograms. She tasted the pain and screamed: Never again! - udn boo! Star news\n",
      "2908005  lt  2021-02-01  In the show \"E. Žičkus. Without limits\" - K. Kerbedis openly: plastic surgery plans and 30 thousand EUR royalties - 15 min\n",
      "2909707  cs  2021-02-01  A scientist from Olomouc described a prehistoric beetle that lived 30 million years before the tyrannosaurs - ceskatelevize.cz/ct24\n",
      "2905430  en  2021-02-01  Former 'Bigg Boss' contestant infected by COVID 19 passes away at a young age - Tamil News - IndiaGlitz.com\n",
      "2906318  en  2021-02-01  Missouri teen who beat rare cancer three times passes away from COVID-19 - KTVI Fox 2 St. Louis\n",
      "2907295  en  2021-02-01  Shatrughan Sinha reveals why Rajesh Khanna was ‘very upset’ with him: ‘He passed away before I could apologise’ - Hindustan Times\n",
      "2907327  en  2021-02-01  Limpopo man stoned to death, body burnt - News24\n",
      "2907388  id  2021-02-01  Eva Bellisima's Ex-Husband Really Appears, Mocks Kiwil Ugly - detikHot\n",
      "2909263  id  2021-02-01  Innalillahi, Soraya Abdullah Passed Away - JPNN.com\n",
      "2909646  th  2021-02-01  Very shocked! \"AF10 beer keg\" was grabbed by a skilled hand in the middle of a coffee shop - Thai Post\n",
      "2911632  es  2021-02-01  From Chanel to Valentino, passing through Fendi: the best of Paris Haute Couture spring/summer 2021 - Trendencias\n",
      "1346602  ro  2020-10-16  What diseases can you treat with horseradish - RomaniaTV.net\n",
      "2899986  sr  2021-01-31  RESEARCH BY RUSSIAN SCIENTISTS It is more effective to treat the infected with the blood plasma of the VACCINATED - Blic\n",
      "2903597  de  2021-01-31  Covid-19: Omega-3 fatty acids are said to protect against fatal disease progression - inFranken.de\n",
      "2905173  zh  2021-02-01  Not only does it strengthen your bones...it also prevents Parkinson's disease! Do \"these things\" to supplement vitamin D - Voice of Hope Radio\n",
      "2905431  fr  2021-02-01  Pyrénées-Orientales: two hunters contaminated with trichinellosis, what is this parasitic disease - LaDepeche.fr\n",
      "2905751  no  2021-02-01  | Grand Prix: Why does NRK treat us like bastards? - The online newspaper\n",
      "2905796  ar  2021-02-01  Easy and simple recipes for treating cyanosis and eye bruises - Target - Target Network\n",
      "2905799  ko  2021-02-01  Oral health management can lower the risk of cardiovascular disease - Segye Ilbo\n",
      "2905864  pt  2021-02-01  Mental health: discover stories of overcoming in MG and the fight against the disease that affects society - G1\n",
      "2906272  pl  2021-02-01  COVID-19 a seasonal disease? Scientists from the USA analyzed the coronavirus. Test results: it may be like the flu - TVP Info\n",
      "2906794  ar  2021-02-01  How to protect yourself from cervical cancer? Here are 5 foods that are useful for preventing the disease - The Seventh Day\n",
      "2907134  ro  2021-02-01  Kate Moss and her daughter, on the same catwalk, in the Fendi presentation in Paris. What disease does Lila Moss suffer from - VIVA Magazine!\n",
      "2908304  ja  2021-02-01  Metastatic Bone Disease Market Impact Analysis | Size, Growth, Demand, Opportunity and Forecast to 2028 – THE HACK\n",
      "2908713  en  2021-02-01  WHO team investigating coronavirus in China visits Hubei Centre for Disease Control and Prevention - ABC News\n",
      "2908761  el  2021-02-01  Disease X and the \"bell\" from a British scientist - Pandora's Box\n",
      "2908864  ar  2021-02-01  Accidents and diseases in the artistic community within just one day - Emirates News\n",
      "2909222  bg  2021-02-01  A 37-year-old man without diseases among the victims of the virus - m.dnes.bg\n",
      "2909519  ar  2021-02-01  Urgent: “Health” announces a change in the protocol for treating people infected with the Corona virus - Cairo 24\n",
      "2909560  tr  2021-02-01  The risk is great for those who have had Covid-19! Expert warns against that disease - CNN Turk\n",
      "2909573  lt  2021-02-01  KTU researcher: nanotechnology is completely changing medicine - from the treatment of oncological diseases to the fight against COVID-19 - LRT\n",
      "2909696  ar  2021-02-01  World Health: 84% of deaths in Egypt are due to chronic diseases - Youm7\n",
      "2910314  en  2021-02-01  Obesity drives risk for COVID-19 among Latino patients with rheumatic disease - Healio\n",
      "1927404  ro  2020-11-23  She is allergic to the sun and has been operated on 43 times because of the disease... - RomaniaTV.net\n",
      "2910793  de  2021-02-01  Corona: Can Covid-19 promote Alzheimer's and Parkinson's disease? - Hamburger Abendblatt\n",
      "2910909  en  2021-02-01  Study reveals nutrition, companionship reduce pain in mice with sickle cell disease - ANI News\n",
      "2911060  lt  2021-02-01  Oral cancer was betrayed by redness: how to detect the disease before it has time to progress - 15min\n",
      "2911142  en  2021-02-01  COVID-19 may be a risk factor for rheumatic disease flare - medwireNews\n",
      "2911428  en  2021-02-01  Alzheimer's disease: obesity may worsen its effects – new research - The Conversation UK\n",
      "1502637  ro  2020-10-25  Dana Deac, forced to stay in a bunker after being treated for cancer! Images filmed by the journalist - Click!\n",
      "2911818  en  2021-02-01  Protein alteration contributes to degeneration of neuronal populations in Huntington's disease - News-Medical.net\n",
      "2911880  en  2021-02-01  Enriched diet and companionship can reduce pain in mice with sickle cell disease - News-Medical.Net\n",
      "2911896  en  2021-02-01  Heart disease kills twice as many women annually as breast cancer - Express\n",
      "1481988  de  2020-10-24  Calf pain when walking can indicate a heart attack - Augsburger Allgemeine\n",
      "1652006  ro  2020-11-02  Do you suffer from diabetes? You can eat these fruits! - Click!\n",
      "1652112  ro  2020-11-02  How do you know you're having a stroke? What are the symptoms - Click!\n",
      "2898433  sk  2021-01-31  Košice Faculty of Medicine distances itself from tutoring for 1,500 euros - Korzár.sk\n",
      "2900486  es  2021-01-31  They invite people to file protections to guarantee medicine for children with cancer - El Sol de Tampico\n",
      "2903394  es  2021-01-31  War medicine in the Rosell ICU: \"We do not see the end of this nightmare\" - Murcia Plaza\n",
      "2903535  es  2021-01-31  They control the sale of anti-Covid medicine - El Mañana de Reynosa\n",
      "1068618  uk  2020-10-01  Scientists have developed a new drug that can stop memory loss in Alzheimer's disease - Public | hromadske.ua\n",
      "2903710  es  2021-01-31  If politics were medicine... - Eje Central\n",
      "2904858  ro  2021-02-01  Never eat these foods if you are taking medication! - Click!\n",
      "2904878  de  2021-02-01  Linz: “Ethics in Medicine”: JKU Vice Rector for Medicine invites you to two discussion events - regionews.at\n",
      "2905044  es  2021-02-01  Ivermectin, the unproven medicine against covid-19: what doctors say about their experience and possible adverse effects - CNN\n",
      "2905184  es  2021-02-01  Faculty of Medicine celebrates 144th anniversary - Pulso Diario de San Luis\n",
      "2905228  no  2021-02-01  \"Mommy, I'm afraid the sun will go out!\" - Aftenbladet.no\n",
      "2905351  es  2021-02-01  Radioisotope Nuclear Medicine Market Growth 2021 Development Forecast Report and Trends 2024 - La Vanguardia News\n",
      "2905583  ar  2021-02-01  Health risks that prompt you not to eat too much bread - elnabaa elwatany newspaper\n",
      "2905630  es  2021-02-01  La Libertad: insured people received 30,000 treatments with natural medicine - LaRepública.pe\n",
      "2905670  es  2021-02-01  Sports Medicine Market with Challenges and Future Prospects 2021 | Analysis by players, commercial prospects and competition scenario for 2023 - Heraldo De La Manga\n",
      "2905713  es  2021-02-01  What is known about the artificial heart that will appear on the market this year to serve as a \"bridge to... - RT in Spanish\n",
      "2905727  es  2021-02-01  They authorize an increase in prepaid medicine starting March 1 - Punto Biz\n",
      "2905797  ar  2021-02-01  Vaccine or medicine? Health experts reveal a mistake that “costs lives” - Sky News Arabia Sky News Arabia\n",
      "2905815  es  2021-02-01  Nausea Medicine Market: New Investment Trends and Forecast 2021-2030 - El Heraldo de León - El Heraldo de León\n",
      "2905839  es  2021-02-01  Alternative medicine expert warns that to overcome Covid we must overcome fear and mistrust - El Caribe\n",
      "2905869  es  2021-02-01  Latino deaths from COVID-19 reached “horrifying” levels, an increase of 1,000% since November in Los Angeles - CubaDebate\n",
      "2905946  es  2021-02-01  Respected Medicine teacher in Cauca died after losing the battle against COVID-19 - Noticias Caracol\n",
      "2906026  sr  2021-02-01  LEADING WORLD EPIDEMIOLOGIST: I'm afraid of what could happen in the spring and summer! Here's what we need to do - Courier\n",
      "2906661  zh  2021-02-01  Restricted from eating egg yolk pie as a child, a woman shares her experience after recovering from bulimia - Huasheng Online - Hunan Online\n",
      "2907432  ar  2021-02-01  3 ways to lose weight when eating bananas | Masrawy - Masrawy-Masrawy\n",
      "2907794  en  2021-02-01  The communities in Wales with the highest level of coronavirus - Wales Online\n",
      "2907809  zh  2021-02-01  The 51-year-old \"Godfather of Love Songs\" Zhou Chuanxiong has appeared on the variety show! The judge is a 22-year-old actress. The Internet is bombarded: the level of nonsense-CTWANT\n",
      "2907840  pt  2021-02-01  Stroke, accidents or Alzheimer's can cause aphasia, the inability to speak - VivaBem\n",
      "2908033  es  2021-02-01  Global Nuclear Medicine and Radiopharmaceuticals Market Sales 2021 – Analysis, Market Overview, Growth Factors, Demand, Revenue and Application and Industry Forecasts to 2026 – Status Report\n",
      "2908056  id  2021-02-01  One Piece Manga Schedule Chapter 1003: Kaido Is Again Afraid of Enma Roronoa Zoro - TribunJakarta.com\n",
      "2908704  de  2021-02-01  Eat or remove hailstone in the egg? That's what the thread on the yolk is all about - RTL Online\n",
      "2909005  es  2021-02-01  They trust in ancestral medicine - El Diario de Yucatán\n",
      "2909062  en  2021-02-01  No place like home - Armagh's struggle for level pitch - RTE.ie\n",
      "2909457  fr  2021-02-01  Just Eat France wants to recruit 4,500 delivery workers on permanent contracts in 2021 - Le Figaro\n",
      "2909490  tr  2021-02-01  Flu cases are at their lowest level in the last 130 years - NTV\n",
      "2909597  he  2021-02-01  The monopoly is broken: Superbus will replace Egged in Jerusalem - the whole city - Jerusalem\n",
      "2909686  en  2021-02-01  Former Just Eat boss David Buttress invests in Egypt's fastest growing online food delivery firm - Business Live\n",
      "2909852  id  2021-02-01  Don't be afraid to eat cayenne pepper, you can get these 6 health benefits - Okezone\n",
      "2909988  id  2021-02-01  Do you suffer from stomach acid? Nutmeg is useful as a herbal medicine for stomach acid - Cash\n",
      "2910421  es  2021-02-01  Stolen medicine recovered in Edomex - El Siglo de Torreón\n",
      "2910452  es  2021-02-01  Stolen medicine recovered in Edomex - El Siglo Durango\n",
      "2911243  ar  2021-02-01  Ring fire: “The fire ate the concrete of the tower” and fears of a catastrophic scenario - Video - Masrawy-Masrawy\n",
      "2911422  zh  2021-02-01  Can the epidemic-related milk dates in 26 provinces infect people? What should I do if I eat it? - Sina\n",
      "2911469  es  2021-02-01  Prepaid medicine goes up: how much will the increase be - El Diario Nuevo Dia\n",
      "2911651  en  2021-02-01  Women undergo less aggressive heart surgery, experience worse outcomes than men - Hindustan Times\n",
      "2911720  es  2021-02-01  Manolo Bakes and Just Eat expand their alliance to bring their 'manolitos' throughout Spain - infobae\n",
      "2911857  es  2021-02-01  The Ibex 35 rises 0.83% at the opening and recovers the level of 7,800 points - AGENCIA EFE\n",
      "1669780  ro  2020-11-03  Medicines for stomach aches - Click!\n",
      "2892437  fr  2021-01-30  The Moon may influence our sleep - Futura\n",
      "2900681  en  2021-01-31  How Lunar Phases Affect Sleep And Menstrual Cycles - IFLScience\n",
      "2901763  pt  2021-01-31  Sleep hormone: excess melatonin is harmful to health - Band Jornalismo\n",
      "2904956  uk  2021-02-01  Sleep and lose weight: nutritionists revealed the secret of how sleep affects our weight - RBC-Ukraine\n",
      "2905111  nl  2021-02-01  That's how quickly things can go wrong: how the city where the Brazilian corona variant emerged was crushed by it - Business AM - NL\n",
      "2905463  sl  2021-02-01  Do you sweat when you sleep? What is your body telling you? | Her.si is on najdi.si news - najdi.si\n",
      "2905498  ar  2021-02-01  Can the moon play a role in the way you sleep? - Al Jazeera\n",
      "2905709  en  2021-02-01  Rebekah Vardy's forgotten first husband who was humiliated when she slept with Peter Andre - Irish Mirror\n",
      "2905903  pt  2021-02-01  Boy is attacked and has cell phone stolen after sex show; PM acts quickly and arrests author - Patos Hoje - Notícias de Patos de Minas\n",
      "2906058  uk  2021-02-01  Panic attacks, insomnia, depression: 60% of people after COVID-19 have post-covid syndrome - TSN UA\n",
      "2907056  es  2021-02-01  “Coronasomnia”: why sleep rhythm disorders increased during the pandemic - infobae\n",
      "2907347  el  2021-02-01  Research - Moon: How it affects sleep and fertility - Topic One\n",
      "2908123  uk  2021-02-01  Netflix tests sleep timer on Android devices - ITsider\n",
      "2908299  zh  2021-02-01  Re-infection? Experts show symptoms again after Japanese infected with the epidemic returned to Taiwan: Symptoms may not come from Wuhan pneumonia - Free Times e-newsletter\n",
      "2908379  fr  2021-02-01  Diet: advice from Michel Cymes to quickly achieve satiety - RTL.fr\n",
      "2908719  hu  2021-02-01  Lack of sleep can make you sick! Let's break out of the vicious circle - WEBBeteg.hu\n",
      "2908865  id  2021-02-01  12 Diet Methods for Korean Artists Who Lose Weight Quickly - Wolipop\n",
      "2909105  id  2021-02-01  Is coffee actually beneficial for people who have trouble sleeping? This is what the experts say! - Very girly\n",
      "2910180  en  2021-02-01  Netflix begins testing sleep timer feature on Android - 9to5Google\n",
      "2905705  sr  2021-02-01  The owner is asking 1.5 million dollars for this original Apple old-timer - Telegraf.rs\n",
      "2906639  en  2021-02-01  Alberta reports another 461 COVID-19 cases as some business owners puzzled by relaunch timeline - Calgary Herald\n",
      "2906973  en  2021-02-01  Philanthropist calls for owners of Farmers and Whitcoulls to repay wage subsidy - New Zealand Herald\n",
      "2908307  de  2021-02-01  Andreas and Caro Robens: “The summer house profit is completely gone” - BILD\n",
      "2908618  ko  2021-02-01  'Supply of single-person housing' begins purchase of commercial buildings in the city (2021.02.01/5MBC News) - MBCNEWS\n",
      "2909448  en  2021-02-01  IKEA's team-up with ASUS bears fruit as new gaming line debuts in China - Pocket-lint\n",
      "2911308  fr  2021-02-01  Covid-19 | Ikea, Fnac, Décathlon... which supermarkets are forced to close? - Le Dauphiné Libéré\n",
      "2899474  ru  2021-01-31  An endocrinologist explained why diabetes is extremely dangerous with COVID-19 - Rambler/news\n",
      "2906268  en  2021-02-01  Saskatoon adds 127 new cases of COVID-19 over the weekend - CTV News Saskatoon\n",
      "2906460  es  2021-02-01  Jorge Sampaoli added a high-impact reinforcement for Atlético Mineiro - infobae\n",
      "2906674  zh  2021-02-01  Garmin and Fitbit are the two most practical smartwatches besides the Apple Watch recommended｜Technology toys-Hong Kong 01\n",
      "2907153  en  2021-02-01  Just add mushrooms: Making meals more nutritious - EurekAlert\n",
      "2907346  en  2021-02-01  As it happened: ASX recovers from early dive to add 0.8% - The Sydney Morning Herald\n",
      "2908727  id  2021-02-01  Practical Ways to Delete Cache on Samsung Cellphones - Rancah Post\n",
      "2908819  lt  2021-02-01  Schiller's assistant Woltmann - about Lauvergne's diligence, the importance of Jankūnas and the talent of Blaževičius - DELFI\n",
      "2909555  en  2021-02-01  New Onmyoji Arena Adds Demon Slayer’s Tanjiro and Nezuko As Playable Characters - IGN Southeast Asia\n",
      "2909773  en  2021-02-01  Will Netflix's mobile app soon feature a timer? - Yahoo Singapore News\n",
      "2910078  en  2021-02-01  How to get rid of visceral fat: Avoid processed and added sugars to burn the belly fat - Express\n",
      "2911864  en  2021-02-01  Making Meals More Nutritious (Micronutrients and Shortfall Nutrients): Just Add Mushrooms - SciTechDaily\n",
      "2905102  zh  2021-02-01  Paying with cash feels as painful as falling out of love! Neuroscientist teaches you 5 psychological tricks to save money - Business Weekly\n",
      "2905874  de  2021-02-01  Women's health: connection between the moon and the menstrual cycle - Heilpraxisnet.de\n",
      "2906349  es  2021-02-01  Vice Minister of Knowledge of Colombia presented resignation from his position - valoraanalitik.com\n",
      "2907650  id  2021-02-01  12 Portraits of I Wayan Toma Nakamura, Japanese Produce 101 Trainee with Balinese Blood: Formerly President of the Student Council at an Indonesian School - Once a Competition Champion - Kapanlagi.com - KapanLagi.com\n",
      "2909193  ar  2021-02-01  Women's News: Discovering the source of the blue fog in Pluto's atmosphere - Loma News\n",
      "2910428  de  2021-02-01  New vulnerability discovered in cancer cells - protein enables tumor cells to survive despite excess chromosomes - scinexx.de - scinexx | The knowledge magazine\n",
      "1086335  uk  2020-10-02  Spider venom helped scientists prevent the death of nerve cells - Public | hromadske.ua\n",
      "1086561  uk  2020-10-02  Scientists warn that COVID-19 can damage the brain and lead to neurological complications - Public | hromadske.ua\n",
      "1161956  uk  2020-10-06  UN: DR Congo has second largest Ebola outbreak in history - Public | hromadske.ua\n",
      "2899517  sl  2021-01-31  'Everyone who prevented people from buying shares should be closed' - 24ur.com\n",
      "2901647  ja  2021-01-31  Concerns about increasing infectivity of new coronavirus mutated virus - Strengthen monitoring and prevent spread, experts say - Jiji Press News\n",
      "2905887  es  2021-02-01  He snatched a cell phone in front of the Police and was arrested - Chronicle\n",
      "2907102  ar  2021-02-01  A fiery statement by Abu Trika after he was prevented from visiting the Al-Ahly delegation in Doha - Al-Masryoon\n",
      "2907149  es  2021-02-01  The siege against Cuba and Venezuela does not prevent cooperation from advancing - Diario Granma\n",
      "2907315  es  2021-02-01  New strains: how dangerous they are and how their spread in the country is prevented - LA NACION\n",
      "2907780  de  2021-02-01  Cancer: Common target of all cancer cells identified - Heilpraxisnet.de\n",
      "2908022  ja  2021-02-01  Panasonic withdraws from solar cell production - Home Appliances Watch\n",
      "2909629  pt  2021-02-01  He was presented as a reinforcement for Boavista, but debts prevent SAD from signing him up - O Jogo\n",
      "2909918  en  2021-02-01  This alternative surgery may prevent total knee replacement - The Tribune India\n",
      "2911530  en  2021-02-01  Altering balance of fibroblasts could prevent spread of colorectal cancer - Drug Target Review\n",
      "2445942  ro  2021-01-02  10 complications of polycystic kidney - Click!\n",
      "2906355  pt  2021-02-01  The Voice: Girl with brain tumor moves mentors: “So much tenderness…” - Hiper Fm\n",
      "2905589  bg  2021-02-01  Azis: I paid 100 grand for 13 operations on ears, eyebrows, breasts, abdomen, biceps, buttocks and... - Blitz - news from Bulgaria and the world\n",
      "2911429  en  2021-02-01  Virgin Galactic shares pop as company plans to redo spaceflight test as early as Feb. 13 - CNBC\n",
      "2905195  it  2021-02-01  Good fats, what they are and in which foods to find them - il Giornale\n",
      "2905808  it  2021-02-01  How much fat to take per day for a healthy and balanced diet - Stock Market Projections\n",
      "2905917  ar  2021-02-01  This is the best exercise for burning fat.. - Lebanon24\n",
      "2906448  es  2021-02-01  A chilling audio from Diego Maradona's doctor was revealed: insulting him and calling him fat - Gol Caracol\n",
      "2908054  id  2021-02-01  Doctor Before Maradona Died: The Fat Man Will Die - CNN Indonesia\n",
      "2909420  bg  2021-02-01  Maradona's doctor's shocking record: The fat man will die fucking himself - WebCafé\n",
      "2910396  en  2021-02-01  Elizabeth Sobinoff reveals fat shaming comments still hurt on Married At First Sight Grand Reunion - Daily Mail\n",
      "2911066  ro  2021-02-01  Luque called him fat and idiot when referring to Maradona. Diego's doctor tapes surfaced - DigiSport\n",
      "2911396  es  2021-02-01  \"The fat man is going to die\": the controversial audios from Maradona's doctor minutes before his death - RT in Spanish\n",
      "2825212  ro  2021-01-23  What you need to know about Pomelo, the largest fruit in the citrus family - Click!\n",
      "2891112  ro  2021-01-30  Romică Țociu: \"I felt sick when my wife told me she had breast cancer\" - Click!\n",
      "2901518  lv  2021-01-31  Biotechnology revolution - between endless possibilities and risks - Click - and the world opens! - TVNET\n",
      "2904861  ro  2021-02-01  How unlucky! He broke his penis during sex! How it happened - Click!\n",
      "2904867  ro  2021-02-01  Raw celery, an excellent detoxifier - Click!\n",
      "2907285  ar  2021-02-01  In the time of the epidemic...the largest influenza reversal in 130 years - tayyar.org\n",
      "2907412  he  2021-02-01  Ella Amhoff signed a modeling contract with the largest agency in the world - voila! Fashion\n",
      "2908184  de  2021-02-01  Apple schliesst Zero-Click-Exploit in iMessage - IT Magazine - IT Magazine\n",
      "2908533  ar  2021-02-01  Fruit bats are behind a new scare more dangerous than Corona - Arabic\n",
      "2909391  el  2021-02-01  Open with \"click in shop\" from tomorrow Jumbo in the \"red areas\" - naftemporiki.gr\n",
      "2910381  en  2021-02-01  Top Irish expert pinpoints moment large gatherings and concerts can return in Ireland - Irish Mirror\n",
      "2845410  ro  2021-01-24  The Maldives Islands, \"planet-paradise\". Why you have to get there! - Click!\n",
      "1482033  de  2020-10-24  Periodontitis treatment: Changing health insurance can be worthwhile - Augsburger Allgemeine\n",
      "2899686  it  2021-01-31  These foods help relieve menstrual cycle pain - Stock Market Projections\n",
      "2904949  uk  2021-02-01  From pain in the eyes to diarrhea: the doctor named the symptoms behind which the coronavirus may be hiding - TSN - Television news service\n",
      "2906154  pt  2021-02-01  Previously diverse, current crocodiles are remnants of a group that walked side by side with dinosaurs - Folha de S.Paulo\n",
      "2906586  es  2021-02-01  Eduardo Capetillo and Biby Gaytán, for a walk in Yucatan (photos) - El Diario de Yucatan\n",
      "2906687  en  2021-02-01  Pain relief medications like Tylenol and Advil are 'perfectly fine' for COVID-19 vaccine aftereffects, experts say - Yahoo! Voices\n",
      "2907104  en  2021-02-01  Sourav Ganguly taken to hospital after complaining of chest pain - Hindustan Times\n",
      "2909210  en  2021-02-01  Statins side effects: Do you walk like this? How the drug may affect your mobility - Express\n",
      "2910052  en  2021-02-01  Challenges in the management of pain in hospital patients with opioid use disorder - Nursing Standard\n",
      "2910996  th  2021-02-01  \"Ple Nakorn\" shares her experience from her real aunt who was infected with COVID-19 in Las Vegas. Had severe pain in her spine. Warning! It's not a distant matter (with clip) - TNNTHAILAND\n",
      "2907175  th  2021-02-01  OIC board upgrades innovation testing project Prepare to move forward in full force through the Insurance Regulatory Sandbox - Siamrath\n",
      "2907311  en  2021-02-01  Pemba Capital jumps back into insurance sector - The Australian Financial Review\n",
      "2907567  ar  2021-02-01  Today.. the implementation of the unified contract for all insurance companies and health care providers begins - Sabq\n",
      "2907985  en  2021-02-01  Insurance industry bracing themselves for staggering €1billion pay out to businesses for Covid-19 claims - The Irish Sun\n",
      "2908196  de  2021-02-01  Straka shines at the Farmers Insurance Open with a strong final round - Sky Sport Austria\n",
      "2908485  ko  2021-02-01  “The health insurance crisis is about to explode”... Young people are angry again, \"Is this fair?\" - Korea Economy\n",
      "2908795  ko  2021-02-01  National Health Insurance Service customer center goes on strike… Demand for improved treatment and direct employment - Maeil Business Newspaper - Maeil Business Newspaper\n",
      "2908829  ko  2021-02-01  This time, the health insurance call center strike… ‘Strife everywhere’ the government brought upon itself - Korea Economy\n",
      "2909207  zh  2021-02-01  What do labor funds invest in? The top 10 holdings of labor retirement and labor insurance revealed - Free Finance\n",
      "2909640  zh  2021-02-01  26 provinces have lowered Internet connection prices! Innovative diabetes drugs complete price adjustment ahead of schedule after being included in medical insurance - Oriental Fortune Network\n",
      "2910671  de  2021-02-01  Allianz: New health insurance with three product offerings - AssCompact\n",
      "2910706  zh  2021-02-01  Insurance company strategies revealed: What do Xinhua, China Life and Ping An think about the new critical illness regulations being implemented today? - Sina\n",
      "2909504  ja  2021-02-01  Living at the Imperial Hotel for 360,000 yen a month - Directly hit by coronavirus - Turning guest rooms into apartments - FNN Prime Online\n",
      "2905062  pt  2021-02-01  You're not alone: ​​it's normal to feel sad and anxious during confinement - NiT New in Town\n",
      "2905170  it  2021-02-01  Mental health, a good income is not enough to feel good - Il Fatto Quotidiano\n",
      "2906879  lt  2021-02-01  Entrepreneurs who carried out the development feel wronged: we invested, and now it turns against us - DELFI\n",
      "2907522  hu  2021-02-01  Her stepfather drew on her body with a felt-tip pen how much weight she had to lose: Emme eventually became the world's first plus size model - Femina.hu\n",
      "2908104  cs  2021-02-01  What to do if you feel lonely in a relationship - novinky.cz\n",
      "2908412  en  2021-02-01  ‘He demanded absolute professionalism’: Shane Lee feels Indian players ‘appear a bit scared’ under Kohli’s captaincy - Hindustan Times\n",
      "2909486  sr  2021-02-01  FILIP ĐUKIĆ OPERATED! Iva Grgurić talked to her ex-boyfriend all night, here's how she feels now - Courier\n",
      "2911794  es  2021-02-01  Javier Bardem reveals that filming of the remake of The Little Mermaid has already begun: \"There are many protocols and I feel safe\" - www.culturaocio.com\n",
      "2905412  lt  2021-02-01  Winter is the right time to get vaccinated against tick-borne encephalitis Ministry of Health Protection of the Republic of Lithuania - SAM\n",
      "2908015  ar  2021-02-01  “Palo Networks” extends the scope of protection for Internet of Things devices to include medical devices - Al-Bashaer\n",
      "2909535  en  2021-02-01  Statins side effects: Statins are known to cause muscle aches which could affect mobility - TechnoCodex\n",
      "2892211  uk  2021-01-30  The secret of longevity: scientists have found a way to block the gene responsible for aging - UNIAN\n",
      "2910099  uk  2021-02-01  American scientists found out how 20 seconds of hugs affect the human body - UNIAN\n",
      "2910466  pt  2021-02-01  Adaptation of cetaceans to the marine environment was based on the loss of genes - PÚBLICO\n",
      "2911551  en  2021-02-01  Would the Chiefs be able to handle playing under the rules of 1969? - KCTV5 News\n",
      "2904990  nl  2021-02-01  Janssen vaccine appears to be less effective, but that is not a problem, according to virologist Kikkert: 'Most of them simply become immune'\n",
      "2906522  pt  2021-02-01  Abel acquits Cuca in move that decided the Libertadores: \"Least chance\" - UOL Esporte\n",
      "2911192  fr  2021-02-01  Sharps Containers Market 2021 Growth Analysis, Share, Demand by Regions, Types and Key Players Analysis – Research Forecast to 2026 – thetfordactu.com – www.thetfordactu.com\n",
      "2905216  bg  2021-02-01  Nikolay Vitanov: With the hidden morbidity, the real cases of COVID-19 are over 850 thousand - bTV News\n",
      "2905336  en  2021-02-01  What if temperature determined a baby's sex? - Livescience.com\n",
      "2905575  he  2021-02-01  Test: iOS developers are not telling you the truth in the privacy statement of the applications - TGspot.co.il\n",
      "2907101  es  2021-02-01  22 thousand beneficiaries of solidarity income do not appear in the Valley - El País\n",
      "2907718  sr  2021-02-01  \"THEY ARRESTED MY FATHER FOR A BIG FRAUD\" Tika Stanić decided to speak about facing the sad truth - Blic\n",
      "2907817  es  2021-02-01  Webmoji, thousands of free emojis to use anywhere - WWWhat's new\n",
      "2908928  ja  2021-02-01  Thousands attend Jewish leader's funeral, raising concerns about spread of infection - FNN Prime Online\n",
      "2909101  hu  2021-02-01  A scandal is expected: forty thousand containers were returned empty from the USA to China - Origo\n",
      "2909157  nl  2021-02-01  Police handed out more than ten thousand fines over the weekend for ignoring curfew - NU.nl\n",
      "2910002  tr  2021-02-01  Thousands of people attended, coronavirus was ignored... The world watched the funeral in Israel! - Liberty\n",
      "2910991  id  2021-02-01  The country is already running around with thousands of people dying from Covid-19 per day, Biden has just implemented mandatory masks on public transportation, why? - GridHot.ID\n",
      "2910060  id  2021-02-01  Covid-19 Never Ends, Scientists Actually Reveal that the Corona Virus Has Mutated So Much, It's More Violent and More Contagious, These 10 Countries Have Been Infected! - Stylo\n",
      "2911475  en  2021-02-01  Why are variants of the coronavirus more contagious? - 11Alive\n",
      "2910036  fr  2021-02-01  Morocco and Nigeria determined to realize strategic projects - Le Courrier de l'Atlas\n",
      "2905066  ja  2021-02-01  \"Counseling before you have 50 employees\" What companies should do to take care of their mental health (Tsuginojidai) - Yahoo! News - Yahoo! News\n",
      "2906122  it  2021-02-01  Coronavirus, the numbers in clear. Maga: «Positive indicators. Returning to the yellow zone is possible\" - The video - Open\n",
      "2907236  he  2021-02-01  Beitar Jerusalem estimates: more players will be found positive for Corona - voila! sport\n",
      "2909081  en  2021-02-01  Positive data from Phase II study ATTRACT in patients with COVID-19 published online: Vicore Pharma Holding - GuruFocus.com\n",
      "2910971  he  2021-02-01  Hapoel Tel Aviv wants Bozaglu immediately, the direction is positive - One\n",
      "2900144  pl  2021-01-31  Omega-3 acids – a secret weapon in the fight against coronavirus! | - Niezalezna.pl\n",
      "2900171  uk  2021-01-31  Mortality from coronavirus: an expert spoke about the problem with statistics - UNIAN\n",
      "2905110  sr  2021-02-01  THE SYRIAN COAST WINGS MANY SECRETS: Archaeologists found the ruins of an ancient port, completely unknown until now! (VIDEO) - Courier\n",
      "2905146  sk  2021-02-01  Caught Queen. A document from Elizabeth II's private life, kept secret for decades, appeared on YouTube. - HNonline.sk\n",
      "2905432  no  2021-02-01  This is how the mobile phone must be responsible for Solbjørg to have coverage - NRK\n",
      "2905608  uk  2021-02-01  Beyoncé's cousin was shot dead in the USA - UNIAN\n",
      "2906197  uk  2021-02-01  The famous model caused a sensation in the network with her forms - UNIAN\n",
      "2908169  en  2021-02-01  Revealed: the Neanderthal secrets hidden in a Channel Islands cave - The Independent\n",
      "2910003  en  2021-02-01  Putin’s ‘secret daughter’, 17, pleads ‘make love not war’ after brutal crackdown on protests against her ‘dad’ - The Sun\n",
      "2911319  en  2021-02-01  Revealed: Neanderthal secrets hidden in the Channel Islands cave - theinformant.co.nz\n",
      "2905136  en  2021-02-01  Professor Avi Loeb: 'It would be arrogant to think we're alone in the universe' - The Guardian\n",
      "2905569  ar  2021-02-01  In the video.. Breathtaking views. Watch the earth from an altitude of 400 km - previously\n",
      "2905665  de  2021-02-01  Hilton Valentine died - VIEW\n",
      "2909750  sv  2021-02-01  Mapping: Here are the posts Ola Serneke wrote on Placera - Dagens Industri\n",
      "2905447  fr  2021-02-01  Strong emotion for Barbara Pravi, candidate for France at Eurovision: “I had a black hole” - Le Soir\n",
      "2907823  pt  2021-02-01  Video. Sofia Ribeiro cuts her hair at home and shows the final result - Notícias ao Minuto\n",
      "2908799  sr  2021-02-01  Ana Kurnjikova showed the world her youngest daughter and everyone claims that she is the MOST BEAUTIFUL CHILD of celebrities ever born: Look at that hair and those eyes! - A woman\n",
      "2910064  fr  2021-02-01  Hair Oil Market 2021 Overview, Demand, Size, Growth and Forecast 2026 Global Analysis – thetfordactu.com – www.thetfordactu.com\n",
      "2905891  es  2021-02-01  COVID-19: Distance classes show the high deficiency of Mexican students in mathematics - EL INFORMADOR\n",
      "2908268  el  2021-02-01  Distance learning, an emergency solution - Zougla\n",
      "2909962  sl  2021-02-01  Parents threatened to boycott the distance learning school - Labor\n",
      "2904966  ro  2021-02-01  The change you've been waiting for, if you watch Netflix on your phone: the experience will never be the same - PLAYTECH\n",
      "2905211  bg  2021-02-01  Vili Sechkova opens the Samsung Experience Store - the only official store of the brand in Bulgaria - Novini.bg\n",
      "2906022  pt  2021-02-01  WhatsApp is posting stories to try to convince you that they respect your privacy - Gizmodo Brasil - Gizmodo Brasil\n",
      "2907215  lt  2021-02-01  D. Sabonis stood out with his performance, \"Pacers\" experienced one of the most painful failures of the season - krepsinis.net\n",
      "2907953  fr  2021-02-01  Ryanair is experiencing the worst year in its history - 7sur7\n",
      "2908098  it  2021-02-01  Lose weight effortlessly: the anti-personal trainer's gymnastics - Corriere della Sera\n",
      "2909870  pt  2021-02-01  Isaac Alfaiate makes an obscene gesture to those who “do not respect confinement” - SAPO Lifestyle\n",
      "2905802  fr  2021-02-01  “We have proof that extraterrestrial civilizations exist” assures astrophysicist Avi Loeb - Futura\n",
      "2898722  zh  2021-01-31  Why are scientists particularly worried about the mutated strain of the new coronavirus from Brazil? - IT and Health- cnBeta\n",
      "2907042  pt  2021-02-01  Physical Test for the PRF competition: what to expect from this selection stage? - DIRECTED SHEET\n",
      "2909155  en  2021-02-01  Budget 2021 proposes new cess on fuel, liquor - The Hindu\n",
      "2910632  tr  2021-02-01  \"Sinovac suspends its use in Cyprus until it obtains scientific validity - Cyprus Post\n",
      "2908904  zh  2021-02-01  The United States appears behind Ukraine's \"action\" against Chinese companies, and Chinese companies angrily criticize - Sina.com\n",
      "2906994  ko  2021-02-01  Internet company expanding into Africa...Why? - ZD Net Korea\n",
      "2908858  en  2021-02-01  South Africa’s Covid vaccines – good and bad news - BusinessTech\n",
      "2911628  fr  2021-02-01  CHAN: Morocco and Guinea in the semi-final - BBC Africa\n",
      "2906312  th  2021-02-01  Trust the doctor! Dark circles around the eyes Started visiting in my early 20s - Naewna Newspaper\n",
      "2906502  id  2021-02-01  Inspirational! These Two Teenagers Successfully Discovered 4 New Alien Planets - Suara.com\n",
      "2907697  lt  2021-02-01  D. Poirier, who only thinks about vacation: \"If necessary, I will step back and watch how M. Chandler and Ch. Oliveira fight for the title\" - Sportas.lt\n",
      "2908118  it  2021-02-01  Toro, Mandragora's visits today - All Juve\n",
      "2908965  it  2021-02-01  Learned visits the Alfa Romeo Museum - AlVolante\n",
      "2909247  sr  2021-02-01  Iliev on the never more stable Partizan: \"They thought they were burning us\" - Sportske.net\n",
      "2910966  th  2021-02-01  When he saw the value of the dust, he was shocked. Pei thought of the time when he lost heavily. Go out and run for a moment. Rash covering the whole body - thebangkokinsight.com\n",
      "2911094  en  2021-02-01  CDS, Service Chiefs in operational visit to Maiduguri - Vanguard\n",
      "2907280  en  2021-02-01  Blake Lively calls out brands for ‘alienating’ sizing - NEWS.com.au\n",
      "2909953  fr  2021-02-01  Optical Sensors Market Growth and Share: 2021, CAGR Value, Size, Investment Scenario with Sales, Price, Total Revenue, Business Strategies to 2023 – thetfordactu.com - www.thetfordactu.com\n",
      "2900626  sr  2021-01-31  11 SYMPTOMS OF KOVID that nobody talks about! Have you heard of any of them? - Press Serbia\n",
      "2905118  pt  2021-02-01  Dysbiosis affects intestinal health: find out what it is if you have any symptoms - VivaBem\n",
      "2905421  it  2021-02-01  Gastroesophageal reflux and sport, when the symptoms are a question... of rhythm - La Gazzetta dello Sport\n",
      "2905658  fr  2021-02-01  Coronavirus: new symptoms have just appeared! - Internet Court\n",
      "2906551  ar  2021-02-01  This is how Zahid appears here in Mena Massoud’s movie “In the High Noon” - Youm7\n",
      "2906891  bg  2021-02-01  A specialist explained the unusual symptoms of vitamin D deficiency - Blitz - news from Bulgaria and the world\n",
      "2906897  en  2021-02-01  Kendall Jenner spellbinds everyone as she appears in chic outfit for private Pilates class - The News International\n",
      "2906899  ru  2021-02-01  Unusual symptoms of vitamin D deficiency named - Izvestia\n",
      "2907566  zh  2021-02-01  After Park Bo Young, Nam Joo Hyuk appears as the second guest in tvN's new variety show \"Accidentally Became the President\"! Support Cha Tae Hyun and Jo In Sung! - KSD Korean Star Network\n",
      "2907952  ru  2021-02-01  Release of the updated Lada Vesta: new details have appeared - Motor.ru\n",
      "2908144  nl  2021-02-01  Naked mole rats appear to have a dialect - Scientias.nl\n",
      "2908461  ru  2021-02-01  A clone of flagships with NFC and Full HD+ has appeared in Russia, inexpensively - iXBT.com\n",
      "2908524  it  2021-02-01  Covid: new symptoms discovered in those who have recovered - TecnoAndroid\n",
      "2908914  en  2021-02-01  The symptoms 'more common' for new Covid variant sufferers - the full list - Wiltshire Times\n",
      "2908933  id  2021-02-01  Menstruation Again After a Long Time of Menopause? Beware of Symptoms of Uterine Cancer - Suara.com\n",
      "2909279  it  2021-02-01  Covid, the Bergamo hospital study on the recovered: \"One in two still has symptoms\" - Il Fatto Quotidiano\n",
      "2909301  id  2021-02-01  Appearing on TENAA, Black Shark 4 Key Specifications Revealed - Rancah Post\n",
      "2910591  en  2021-02-01  Coronavirus symptoms: This is the likely order in which COVID-19 symptoms appear after you get infected - Times Now\n",
      "2910688  it  2021-02-01  Belén is expecting a girl: the baby's name appears - Corriere della Sera\n",
      "2911907  id  2021-02-01  Apart from Unnatural Vaginal Discharge, These Are Other Symptoms of Cervical Cancer to Watch Out for - Cantik Tempo.co\n",
      "2903634  hu  2021-01-31  Ancient fabrics dyed purple were found - 24.hu\n",
      "2906149  es  2021-02-01  Expert defends that a soldier from the First World War was the first person to become infected with HIV - Semana\n",
      "2907372  en  2021-02-01  Ancient Jersey teeth find hints at Neanderthal mixing - Yahoo News Australia\n",
      "2908570  th  2021-02-01  Judgment shows that the Red Shirt mob protested was not peaceful! Weapons of war are used - Post Today\n",
      "2908877  en  2021-02-01  Ancient Jersey teeth find hints at Neanderthal mixing - Yahoo News\n",
      "2909050  en  2021-02-01  Ancient Humans Might Have Mingled and Mated With the Neanderthals, Researchers Claim - News18\n",
      "1287996  ro  2020-10-13  Alert! It's an invasion of ticks and mosquitoes - Click!\n",
      "1850740  ro  2020-11-17  UPDATE Quarantine in Gorj, after one child died of meningitis, and two others are isolated - Click!\n",
      "2908165  sr  2021-02-01  Federer's clock is ticking, he knows exactly the day when Novak will overtake him and become the best of all time - Hello!\n",
      "1439936  ro  2020-10-21  Apple launched the iPhone 11, iPhone 11 Pro and iPhone 11 Pro Max. How much do the new models cost - Click!\n",
      "1669795  ro  2020-11-03  Don't throw it away! You had no idea you could do this with an old computer - Click!\n",
      "2905400  lt  2021-02-01  Bareikis reacted to Stonkaus' jokes about divorce: this is one of the biggest traumas for me and my family - tv3.lt\n",
      "2905618  lt  2021-02-01  The divorce of Rūta Šciogolevaitė and Rolandas Damijonaitis is going to court - 15min\n",
      "2907074  en  2021-02-01  Popular serial actress Farina uploads husband's photo after fans request! - Tamil News - IndiaGlitz.com\n",
      "2907611  en  2021-02-01  Scientists Finally Figured Out Why Wombats Poop Cubes. Thank Heavens. - Mashable India\n",
      " 174528  ro  2020-08-14  Gastritis or ulcer, how do you recognize them? - Click!\n",
      "2894699  zh  2021-01-30  4 must-read psychology books in 2021_Detailed interpretation_Latest news_Hot events-36kr\n",
      "2901116  no  2021-01-31  (+) The psychology expert: - What we see now is disturbing - Adresseavisen\n",
      "2905651  fr  2021-02-01  When the first name is heavy to bear PSYCHOLOGY - This first label with which the child is adorned - Le Figaro\n",
      "2905964  pt  2021-02-01  Director of the psychology service at São João: “I called a mother to say that her daughter was fine, but on television they reported her as dead\" - Observer\n",
      "2907592  de  2021-02-01  Study subjects explained: What I wish I had known about psychology as a freshman - SPIEGEL Start\n",
      "2907974  fr  2021-02-01  Here is the book that will help you realize your desire to become an entrepreneur - lalibre.be\n",
      "2908573  zh  2021-02-01  Zhu Yuanzhang opened Liu Bowen's coffin and was surprised to see this book - Yahoo News\n",
      "2909361  tr  2021-02-01  Dutch psychology student designed a 'genderless playing card': 'Why should men be more valuable than women?' - Mynet\n",
      "2905316  ar  2021-02-01  The Telecommunications Regulatory Authority reveals measures to improve the quality of mobile networks and the Internet - Al Masry Al Youm - Al-Masry Al-Youm\n",
      "2907549  id  2021-02-01  By.U Releases Unlimited Internet Packages, Prices Starting from IDR 1,000 Per Hour - Kompas.com - Tekno Kompas.com\n",
      "2907897  hu  2021-02-01  The UPC Wi-Free free internet has been discontinued - Origo\n",
      "2907920  tr  2021-02-01  He died twice in Mersin and came back! Nothing happened to his family in 45 days - Internet News\n",
      "2908453  ro  2021-02-01  Antonia is making waves on the internet. This is how you've never seen Alex Velea's girlfriend - IMPACT\n",
      "2908824  en  2021-02-01  Filipinos lead the world in time spent on social media, internet - ABS-CBN News\n",
      "2909274  en  2021-02-01  Farmers' protest: Govt extends suspension of internet at Delhi's border areas till 11 pm tomorrow - Mint\n",
      "2909966  fr  2021-02-01  inwi, No. 1 mobile internet network in Morocco for the 4th consecutive year | MAP Express MAP Express - MAP\n",
      "2910015  zh  2021-02-01  Wu Chun posted his \"first photo with his wife\" when he was 16 years old! The young man has a handsome face... Internet praises the man - ETtoday Starlight Cloud\n",
      "2911110  tr  2021-02-01  This time he couldn't fool anyone! Mehmet Ali Erbil's daughter Yasmin Erbil was caught badly - Internet News\n",
      "2911348  ru  2021-02-01  The expert commented on the likelihood of an Internet shutdown - Rambler\n",
      "2905999  ko  2021-02-01  “Belatedly, I studied my mind and went from a ‘good bride’ to a ‘funny bride.’” - The Hankyoreh\n",
      "2907116  en  2021-02-01  Perspective | Ask Amy: Cancer treatment brings on odd requests - Washington Post\n",
      "2908894  ko  2021-02-01  Nexon raises annual salary by 8 million won for all employees: IT : Economy : News - The Hankyoreh\n",
      "2862301  th  2021-01-25  Cleaning the Nakhon Sawan fresh market After finding a seafood merchant infected with COVID-19 20 hours later - NEW18\n",
      "2899181  bg  2021-01-31  The number of people infected with the British strain of COVID-19 in our country is growing - NOVA\n",
      "2899565  bg  2021-01-31  Virologist: Soon the number of people infected with the coronavirus in our country may jump sharply - Novini.bg\n",
      "2899666  sr  2021-01-31  WE ARE AGAIN ON THE CORONA SEE-GOAL: Today 1,543 newly infected, 17 patients died - Kurir\n",
      "2904894  th  2021-02-01  A 78-year-old woman in the Prachachuen area was infected with COVID-19 1 month ago - NEW18\n",
      "2904895  th  2021-02-01  CCSA finds a patient infected with COVID-19 115 new cases in the country - NEW18\n",
      "2905093  bg  2021-02-01  Azarei: Mercury retrograde, time to clean up! - Blitz - news from Bulgaria and the world\n",
      "2905126  bg  2021-02-01  Academician Petrunov: It is entirely possible for a person to re-infect himself with coronavirus - Plovdiv24.bg - News from Plovdiv and the region\n",
      "2905167  en  2021-02-01  Fresh data show toll SA virus variant takes on vaccine efficacy - TimesLIVE\n",
      "2905193  th  2021-02-01  'Doctor Mae Sot' tells a rough timeline of the time the nurse was infected with Covid from beginning to end, only having to come on duty in the morning and afternoon and late at night - Thai Post\n",
      "2905276  zh  2021-02-01  Canadian scholar: The first person infected with AIDS was caused by hunting chimpanzees - China Times News Network\n",
      "2906115  ja  2021-02-01  A patient infected with the new coronavirus leaves a nursing home in Niigata City without permission - Niigata Keizai Shimbun\n",
      "2906532  ar  2021-02-01  Details of Haitham Shaker’s health condition after he was infected with Corona - Masrawy-Masrawy\n",
      "2906903  en  2021-02-01  George Paton has a PR Mess to Clean Up with Drew Lock After Swinging & Missing on Stafford - Sports Illustrated\n",
      "2907394  th  2021-02-01  Open 6 districts in Bangkok for proactive inspections Found 45 infected people - TNNTHAILAND\n",
      "2907739  nl  2021-02-01  John Stamos infected with coronavirus for the THIRD time - Telegraaf.nl\n",
      "2908468  th  2021-02-01  Wrong timeline, life changes restaurant Closed shop - COVID test Before you know, later you announce the wrong branch - Kapook.com\n",
      "2908849  he  2021-02-01  Two million Australians are in lockdown because of one infected person - Haaretz\n",
      "2909282  th  2021-02-01  \"Jurin\" reveals consumer-farmer confidence continues to recover in 2020 - NEW18\n",
      "2909567  de  2021-02-01  Coronavirus Sars-CoV-2: People infected with two virus variants at the same time for the first time - 20 minutes\n",
      "2909663  en  2021-02-01  People infected with new Covid-19 variant less likely to have loss of taste, smell: Report - BusinessLine\n",
      "2910373  lt  2021-02-01  More and more companies are infected with COVID-19, 49 people have been infected under unclear circumstances - DELFI\n",
      "2910443  th  2021-02-01  Unbearable! \"Art\" tricks people into stealing treatment fees by tricking doctors into having hemorrhoids surgery. Then flees from the hospital - NEW18\n",
      "2911801  de  2021-02-01  People infected with two virus variants at the same time - Today.at - News and headlines\n",
      "2904746  uk  2021-01-31  The network showed a rare sedan that stood in a shed for more than 50 years: photo - Tvoya MASHYNA\n",
      "2906062  en  2021-02-01  $2 million duo: Ultra rare Holdens make history over the ditch - NZME\n",
      "2907333  sk  2021-02-01  Sagan's rivals waged a championship fight. Van der Poel is in a better mood for the season - PRAVDA.sk\n",
      "2908073  el  2021-02-01  Tim Cook: Data security and privacy, the threat of the 21st century - Techblog\n",
      "2909605  pt  2021-02-01  César Mourão shares rare photo of his wife and is flooded with compliments... for her: \"A saint, bless her God\" - Flash\n",
      "2906576  es  2021-02-01  Can Game Theory Discover Extraterrestrial Life? | The Universal - The Universal\n",
      "2909668  es  2021-02-01  Private transporters will pay regular gasoline at 15 pesos per liter instead of 25 - Diario 14ymedio\n",
      "2904223  cs  2021-01-31  Ham the chimpanzee was the first ape in space. He received an apple and half an orange for a dangerous flight - ceskatelevize.cz/ct24\n",
      "2910746  cs  2021-02-01  Smartwings is asking the government for compensation. He wants half a billion for the canceled flights - iDNES.cz\n",
      "2909967  it  2021-02-01  The old majority discusses how to get back together - The Post\n",
      "2906710  en  2021-02-01  All eyes on Quebec and Alberta schools as other provinces weigh return to in-person learning - The Globe and Mail\n",
      "2907290  no  2021-02-01  Mayor of hard-hit corona municipality: Why not mandatory testing earlier? - E24\n",
      "2907316  en  2021-02-01  Someone Leaks A Remastered XBLA Version Of Goldeneye 007 - Bleeding Cool News\n",
      "2906069  sr  2021-02-01  \"IMPOSSIBLE AND UNREASONABLE\" Peskov: the EU threw the potential of relations with Russia into the trash - Blic\n",
      "2908959  no  2021-02-01  New job for the ski profile - adressa.no - Adresseavisen\n",
      "2906084  pt  2021-02-01  Covid-19: analysis identifies 18 variants of the coronavirus in Amazonas - Correio Braziliense\n",
      "2906410  ar  2021-02-01  How to identify early signs of Coronavirus at home? - the seventh day\n",
      "2907496  en  2021-02-01  UK Covid-19 variant monitoring: 447 contacts identified in Bontoc, La Trinidad - INQUIRER.net\n",
      "2909421  fr  2021-02-01  ADHD: discovery of a new biomarker to identify it - Why Doctor?\n",
      "2911515  en  2021-02-01  Commission decision to invoke Article 16 without consulting Irish government 'extraordinary' - TheJournal.ie\n",
      "2904931  ro  2021-02-01  MacBook Air 2021 could be released in the summer at the earliest - IT Zone\n",
      "2906915  ru  2021-02-01  Scientists have explained how excess weight affects memory in old age - Reedus\n",
      "2907789  zh  2021-02-01  \"The Goddess Arrives\" airs its finale this week! Episode 15 Preview: Shujun has been accompanying Zhu Jing for the past two years and was preparing to confess, but Xiu Hao is back! - KSD Korean Star Network\n",
      "2909494  fr  2021-02-01  Cooking chicken is a disaster if you make this mistake, you're all affected! - Breakingnews.fr\n",
      "2910415  no  2021-02-01  Mogens (15) and Gustav (12) are buried today: - The tragedy affects far beyond Vågan municipality - VG\n",
      "2910520  de  2021-02-01  COVID-19: Smoking significantly increases the risk of death - Heilpraxisnet.de\n",
      "2907113  en  2021-02-01  Police investigating potential coronavirus regulations breaches at loyalist funeral in Belfast - Belfast Live\n",
      "2906583  en  2021-02-01  12-year-old boy dies following three-vehicle collision near Cambridge: WRPS - CTV Toronto\n",
      "2907923  en  2021-02-01  Taking Vitamin D Supplements? Here's What You Should Follow For Effective Results - NDTV\n",
      "2908146  pt  2021-02-01  Isolation with psychological health? There are ten suggestions you should follow - Notícias ao Minuto\n",
      "2911682  ru  2021-02-01  Rostov NPP received an anonymous message about an explosion threat - Rambler/news\n",
      "2908247  en  2021-02-01  The US is in an 'absolute race against time' with new coronavirus variants, expert says - CNN\n",
      "2909872  pt  2021-02-01  Netflix tests timer to stop streaming on mobile phones - Diário Digital\n",
      "2905423  fr  2021-02-01  Coronavirus: one in five children suffered from post-traumatic stress during the first confinement - Yahoo News\n",
      "2905487  pt  2021-02-01  Region will continue to suffer from heat wave | JORNAL DA REGION - JORNAL DA REGION - JUNDIAÍ\n",
      "2907629  lt  2021-02-01  Ryanair suffered a loss of 306 million last quarter. loss of EUR - LRT\n",
      "2908739  fr  2021-02-01  Confinement: one in five children suffered from post-traumatic stress - Magic Maman\n",
      "2909126  ar  2021-02-01  Watch Ahmed Fahmy: I do not suffer from a poverty complex, but I have a bigger complex - Sayidaty Magazine\n",
      "2899041  hu  2021-01-31  This is how Wall Street bankers have never been beaten before - Privátbankár.hu\n",
      "2899067  hu  2021-01-31  We will never get a Porsche 911 cheaper than this - Drive\n",
      "2901515  de  2021-01-31  Q+A about house dust - Why we never get rid of house dust - Tages-Anzeiger\n",
      "2905081  hu  2021-02-01  Pumpkin and mushrooms: foods rich in vitamin C and vitamin D - Health Guide\n",
      "2905300  bg  2021-02-01  6 foods that cause inflammation in our body - m.dnes.bg\n",
      "2905918  es  2021-02-01  5 interesting applications with different utilities that you may have never tried - WWWhat's new\n",
      "2905923  de  2021-02-01  “Germany's Next Top Model” 2021: Heidi Klum's candidates have never been so diverse - 20 minutes\n",
      "2905989  no  2021-02-01  (+) The family business is approaching 100 years: - We have never had as much to do as this autumn - Telemarksavisa\n",
      "2906640  en  2021-02-01  Rory McIlroy on drop: ''I've never tried to get away with anything out here' - Golf Channel\n",
      "2908280  tr  2021-02-01  iQOO 9 You are awesome! It Never Runs Out of Charge, It Charges Me Too! - teknoburada.net\n",
      "2908918  sk  2021-02-01  Phoenix i is an intelligent wheelchair like the world has never seen before! | TECHBOX.sk - TECHBOX.sk\n",
      "2908936  en  2021-02-01  Jordan Henderson is a captain of the most inspirational kind - The Irish Times\n",
      "2909149  pt  2021-02-01  Cristina Ferreira shares never-before-seen childhood photo - Selfie\n",
      "2909637  en  2021-02-01  RTE's Ryan Tubridy tells listeners why he'll never get a dog - RSVP Live\n",
      "2910329  lt  2021-02-01  This week, a mini-moon will fly by the Earth: then it will fly into open space and never return - DELFI\n",
      "2910994  en  2021-02-01  Rory McIlroy defends himself over drop-gate: 'I've never tried to get away with anything out here' - Independent.ie\n",
      "2905944  de  2021-02-01  Polar vortex split may cause icy cold until spring - Express.de\n",
      "2906773  en  2021-02-01  Billionaire Warren Buffett says investment tip will increase your value 'by 50 percent' - Express\n",
      "2907231  lv  2021-02-01  Tips for beginners on investing in stocks - Dienas Bizness\n",
      "2907246  zh  2021-02-01  The Jie team actually called Huang Jie a \"bitch\". Wang Wanyu: How can I teach my children like this? - New head shell\n",
      "2907747  zh  2021-02-01  Xiao You revealed that \"My best friend's lower body disappeared after taking a shower.\" The ambiguous man looked at the cookies and burst into tears: He actually doubted me - ETtoday Starlight Cloud\n",
      "2909199  el  2021-02-01  Politico: The forecast for vaccinations until the end of summer in the EU - The position of Greece - First Issue\n",
      "2905976  nl  2021-02-01  Six reports of 'severe allergic reactions' corona vaccine... - De Limburger\n",
      "2910441  en  2021-02-01  Google punches itself in the face by discontinuing the Pixel Slate - The Next Web\n",
      "2911754  sk  2021-02-01  The number of patients with CORONAVIRUS has increased in the Košice hospital: Younger people are increasing - Topky\n",
      "2911919  lt  2021-02-01  ILAW joins LEXTAL and establishes itself among the leading law firms in the Baltic countries - DELFI\n",
      "2906053  es  2021-02-01  Funvisis registered a magnitude 6 earthquake in Santa Elena de Uairén - Latest News\n",
      "2907396  ar  2021-02-01  Garmin: Lily is the smart watch that women have been waiting for - the Arab Technical News Portal\n",
      "2906769  zh  2021-02-01  Garmin’s new LILY smart watch, the milk tea color makes girls fall in love with it! - POPBEE\n",
      "2910984  tr  2021-02-01  We Investigated the Leaky Gut Syndrome that Caused Neslihan Atagül to Break Up with Ambassador's Daughter - Onedio\n",
      "2911894  pt  2021-02-01  Manaus investigates death of elderly person after taking the vaccine against covid-19 - GMC Online\n",
      "2908002  ro  2021-02-01  \"The players run like animals\". Guardiola's sensational run with Manchester City after a false start - DigiSport\n",
      "2910640  he  2021-02-01  \"This is how we will increase the power of the camp\": Bogi Ya'alon announced that he will not run in the upcoming elections - Israel Hayom\n",
      "2906229  fr  2021-02-01  Astronomy: a trace of extraterrestrial life? - Franceinfo\n",
      "2910198  en  2021-02-01  Researchers describe molecular mechanism involved in Huntington's neurodegeneration - Mirage News\n",
      "2899610  es  2021-01-31  Bridgerton: 3 keys that explain why the series became the most watched in the history of Netflix - El Nacional\n",
      "2900873  ar  2021-01-31  Colombian sociologist and UN advisor Gabriel Restrepo told Al Jazeera Net: Today we have entered the era of extreme relativism - Al Jazeera\n",
      "2908562  th  2021-02-01  Khunying Pattama gives a thumbs up to \"Bas-Porpo\" making sweeping history. Badminton Mixed Doubles Champion - Komchadluek\n",
      "2911272  de  2021-02-01  “Bridgerton” is the most successful series in the history of Netflix - Süddeutsche Zeitung\n",
      "2911294  fr  2021-02-01  Le Matin - Pandemic: Ryanair predicts the worst year in its history - LE MATiN\n",
      "2911719  en  2021-02-01  'The Dig': A charming look at one history-making moment now on Netflix - Arab News\n",
      "2906932  zh  2021-02-01  Badminton/Foreign media predicts world ranking: Xiao Dai will continue to be a ball player, and \"Lin Yangpei\" will reach a new high of No. 3 in the world - UDN United News Network\n",
      "2907040  zh  2021-02-01  MLB/championship veteran will leave the team? Yankees GM ambiguous - UDN United News Network\n",
      "2907410  he  2021-02-01  Blake Lively shares the difficulty of finding clothes after the birth of her daughter - voila! Fashion\n",
      "2908934  sl  2021-02-01  In front of the Zasava primary school, parents brought school bags as a sign of protest - 24ur.com\n",
      "2909760  de  2021-02-01  Despite a two-year contract: BMW and Lucas Auer part ways early - Motorsport-Total.com\n",
      "2910763  zh  2021-02-01  Detective 3 sets the record for the fastest pre-sales of a domestic film to exceed 100 million yuan. Wanda Movies may become the big winner in the Spring Festival - Sina.com\n",
      "2906854  en  2021-02-01  New COVID variants 'spreading as fast as planes can fly' - WLTX.com\n",
      "2908525  zh  2021-02-01  The two major U.S. oil giants have considered merging. What impact will it have on the oil market? - Sina\n",
      "2908885  id  2021-02-01  Russian demonstration spreads, police arrest more than 5,000 people - VIVA.CO.ID\n",
      "2908929  tr  2021-02-01  Watch out for this message spread via WhatsApp! News - Habertürk\n",
      "2909115  en  2021-02-01  EU meets drug giants for rapid development of vaccines against new COVID-19 variants - TheHealthSite\n",
      "2910007  en  2021-02-01  'Twindemic' fears ease as spread of flu 'exceptionally low' in Toronto - Toronto.com\n",
      "2905079  bg  2021-02-01  A new boom in the number of patients with COVID-19 due to the British strain is expected within weeks - m.dnes.bg\n",
      "2898713  nl  2021-01-31  Karine Van Doninck: 'I call myself a new freak' - De Tijd\n",
      "2905219  nl  2021-02-01  More than 40 percent do not get tested when returning from the red zone - De Tijd\n",
      "2908697  hu  2021-02-01  Ildikó Keresztes: I cut myself, the ambulance took me twice - Origo\n",
      "2910205  nl  2021-02-01  How decisive was Van Aert's puncture for the outcome of the World Cup? - In the Leader's jersey\n",
      "2911717  nl  2021-02-01  Van der Poel struggles with Tour participation: 'Consider leaving earlier' - NOS\n",
      "2904953  no  2021-02-01  Mutated virus discovered in Bodø - both relate to imported infection - NRK\n",
      "2905971  el  2021-02-01  Corona virus: Experts are worried about the mutated strain - Fears of a third wave - Vima Online\n",
      "2909417  tr  2021-02-01  Scientists announced the grave development! Mutated coronavirus is destroying the greatest precaution that everyone embraces - YeniÇağ\n",
      "2911331  tr  2021-02-01  Groundbreaking success from Turkish scientist: Developed a kit that detects mutated coronavirus! - Liberty\n",
      "2905204  de  2021-02-01  Logic puzzle: Which arithmetic symbols must be used here? - t-online.de\n",
      "2909598  nl  2021-02-01  Wanting to survive after the disaster requires commitment to climate - Reformatorisch Dagblad\n",
      "2905121  he  2021-02-01  \"Glue\": Shlomo Artzi returns with a new single about the period - knitted - knitted\n",
      "2907668  sk  2021-02-01  Sports newsfilter: Full skyboxes at Slovan watched as SBS brought out commentators and cameramen - Denník N\n",
      "2909183  sr  2021-02-01  LIVES IN A €500,000 VILLA, HAS A SWIMMING POOL IN THE MIDDLE OF THE HOUSE! And Elena Kitić's WARDROBE is full of rags worth a fortune - Kurir\n",
      "2909259  en  2021-02-01  State exams should proceed with modified papers, ASTI president says - The Irish Times\n",
      "2910686  th  2021-02-01  “Hua Hin” opens the first professional golf swing duel. Win a prize of 3 million - the city\n",
      "2904984  de  2021-02-01  Interview on Long Covid – “The psychological disorders after corona infections are noticeable” - BZ Berner Oberländer\n",
      "2905403  nl  2021-02-01  Beauty trends 2021. AHA, BHA, retinol, vitamin C serums. When and how do you use them? | TRENDYSTYLE - Trendy Style\n",
      "2906049  es  2021-02-01  Angels or demons?: the psychological test that reveals how you face life's problems - La 100\n",
      "2908740  pt  2021-02-01  After the birth of his daughter, he returns to FC Porto's eleven in the assault on his favorite victim - O Jogo\n",
      "2909880  en  2021-02-01  English and Scottish clubs circle for Shamrock Rovers ace Aaron McEneff - Irish Mirror\n",
      "2911047  lt  2021-02-01  The first releases for business: the opening of ski centers - first, shops and beauty salons \"in the coming days\" - DELFI\n",
      "2905298  de  2021-02-01  Strangely tall Porsche 911 prototype could be the long-awaited Safari - Motorsport-Total.com\n",
      "2906293  en  2021-02-01  Watch: $400K Porsche left a wreck after test drive goes wrong - NZME\n",
      "2906672  ko  2021-02-01  Exports increased by 11.4% last month… Semiconductors, home appliances, and mobile phones are driving the trend - ZD Net Korea\n",
      "2907870  pt  2021-02-01  South Korean company announces 1st test that detects multiple variants of Covid-19 - CNN Brasil\n",
      "2905433  no  2021-02-01  Sun, cold and little wind during the week, more snow for the weekend - Aftenbladet.no\n",
      "2907059  en  2021-02-01  Forecast: Diminishing trades as a cold front approaches - Hawaii News Now\n",
      "2909485  en  2021-02-01  FMC column: Take extra measures to protect yourself when the weather turns colder - Lancaster Eagle Gazette\n",
      "2910490  lt  2021-02-01  Forecasters: winter will not release its grip - double-digit cold, snow and blizzards await - Lrytas.lt\n",
      "2907105  en  2021-02-01  Singapore to grow manufacturing by attracting top firms, says Chan Chun Sing - CNA\n",
      "2910181  sr  2021-02-01  A pile of money on Grandma Praset's table, a 5,000-dinar bill torn \"This is slowly getting out of control\" - Blic\n",
      "2905456  en  2021-02-01  Brexit delivers record freight for Rosslare on ferries to mainland EU - The Irish Times\n",
      "2907730  id  2021-02-01  GFRIEND's Sowon Criticized After Uploading Intimate Photo of Nazi Soldier Statue - IntipSeleb.com\n",
      "2908754  zh  2021-02-01  Captain GFRIEND snuggles sweetly with the \"Nazi soldier\" Sowon was scolded and the IG post was urgently deleted - ETtoday Starlight Cloud\n",
      "2910318  en  2021-02-01  Source Music publishes official apology after GFRIEND Sowon's Nazi soldier statue controversy - allkpop\n",
      "2905687  fr  2021-02-01  Covid-19: Lille University Hospital alerts as vitamin D overdoses increase - France 3 Regions\n",
      "2905702  ar  2021-02-01  How much vitamin C does the body need daily...and this is how you get it - Masrawy-Masrawy\n",
      "2907717  el  2021-02-01  Corona virus: Why vitamin D is a natural shield! - MetroSport.gr\n",
      "2908952  fr  2021-02-01  Covid-19: a call for vigilance after vitamin D overdoses - lepaysgessien.fr\n",
      "2910208  de  2021-02-01  Vitamin D and Corona: Does vitamin D help against serious illness? - inFranken.de\n",
      "2910580  en  2021-02-01  Bleeding gums? It may be a sign of Vitamin C deficiency - Tech Explorist\n",
      "2906423  en  2021-02-01  Home and Away spoilers – Jasmine and Tori tension revisited again - Digital Spy\n",
      "2906863  en  2021-02-01  Heidi Klum Makes Her Brown Teddy Coat Pop with Animal Print Pants & Matching Boots - Footwear News\n",
      "2907374  zh  2021-02-01  The Australian Open allows 30,000 spectators per day, half the number in normal years_Isolation-Sohu\n",
      "2910817  de  2021-02-01  GrECo: New Regional Manager for GrECo Salzburg - AssCompact\n",
      "2899372  sk  2021-01-31  Losing one role after another... actor Hammer's scandal destroys his career! - PRAVDA.sk\n",
      "2905222  sk  2021-02-01  Music composer Ladislav Štaidl has died - Music - PRAVDA.sk\n",
      "2905690  sk  2021-02-01  Štaidl and Gott had a long friendship! This is how his widow Ivana reacted to his death - PRAVDA.sk\n",
      "2906881  en  2021-02-01  Julia Roberts and Matthew Perry flirted over fax before she said yes to ‘Friends role - The News International\n",
      "2909295  en  2021-02-01  Labour calls for action over 'extraordinary' cladding scandal - The Guardian\n",
      "2909999  ja  2021-02-01  Ryo Yoshizawa transforms into a teacher and a convenience store clerk, playing 12 roles in this year's calendar - Mynavi News\n",
      "2899422  es  2021-01-31  “Goodbye for now”: Sebastián Yatra left a single post on Instagram - El Nacional\n",
      "2905311  en  2021-02-01  Top seed Tai Tzu-ying claims badminton World Tour Final - Bangkok Post\n",
      "2905646  it  2021-02-01  How to lose weight forever while avoiding the frustrating post-diet yo-yo effect - Stock Market Projections\n",
      "2906118  es  2021-02-01  Are you retiring? Sebastián Yatra leaves his fans confused on networks - Show\n",
      "2906665  pt  2021-02-01  POST-ROUND: SIMULATING THE CLASSIFICATION | CORINTHIANS ARRIVES AT LIBERTADORES? - My Timon\n",
      "2906783  en  2021-02-01  Israeli coronavirus survivor gets reinfected with South African variant - The Jerusalem Post\n",
      "2907188  it  2021-02-01  POST-COVID HEALTH / Those already known recipes and the good revolution of nurses - Il Sussidiario.net\n",
      "2907258  en  2021-02-01  Deepika Padukone is a vision in white in her latest Instagram picture - Times of India\n",
      "2908027  en  2021-02-01  Heidi Klum kisses daughter Leni in Instagram snap they post online after teen makes modeling debut - Daily Mail\n",
      "2908267  zh  2021-02-01  Jumping and dancing is three years old! Xie Na posted a photo of her daughter’s back to send birthday wishes_Leisure and entertainment_Financial information-Banlong Securities Network\n",
      "2908776  en  2021-02-01  Bad bank, no Covid cess: Why Sensex zoomed 2,300 pts post Budget proposals - Business Standard\n",
      "2909509  it  2021-02-01  The \"receipt lottery\" starts today - Il Post\n",
      "2909532  it  2021-02-01  14 gifts for those celebrating Valentine's Day - Il Post\n",
      "2909543  he  2021-02-01  Instagram announced: We will not allow posting in stories - Israel Hayom\n",
      "2909590  ru  2021-02-01  FLGR posted a photo of Nepryaeva after surgery - news.Sportbox.ru\n",
      "2910238  en  2021-02-01  China's first Hualong One nuclear reactor begins commercial operations - South China Morning Post\n",
      "2910303  id  2021-02-01  Syahrini's Temptation When Serving Reino Barack Was Recorded, Incessant Clothing Highlighted - Banjarmasin Post\n",
      "2910702  es  2021-02-01  The family album of Enrique Iglesias and Anna Kournikova: their children, protagonists of Instagram - La Vanguardia\n",
      "2910735  en  2021-02-01  Battleborn's remaining players wave goodbye amid shutdown - Eurogamer.net\n",
      "2911093  en  2021-02-01  Oxford kept COVID-19 vaccine trial volunteers in dark about dosing error - The Jerusalem Post\n",
      "2911132  th  2021-02-01  All gone: \"We won on the S.B.M. Wallet.\" 5 billion - Post Today\n",
      "2911181  en  2021-02-01  Rochester police handcuffed and pepper-sprayed a 9-year-old girl, body-cam footage shows - The Washington Post\n",
      "2911680  en  2021-02-01  Coronavirus updates: E.U. boosts vaccine supply with two new agreements with drugmakers; Israel extends lockdown - The Washington Post\n",
      "2911755  es  2021-02-01  Osakidetza renews 3 headquarters in the San Sebastián Area - Medical Editorial Team\n",
      "2911769  en  2021-02-01  In Tokyo, iconic 'cute' kawaii cafe closes its doors as business hit by Covid-19 pandemic - South China Morning Post\n",
      "2899428  lt  2021-01-31  Garmin Forerunner 745 review: no pop for you - 15min\n",
      "2910218  en  2021-02-01  Global Motorcycle Helmet Cameras Market To Witness Huge Gains Over 2021-2026|Sena, Garmin, Gopro, Mio, Polaroid, etc – NeighborWebSJ - NeighborWebSJ\n",
      "2905275  lt  2021-02-01  In the last \"Lietuvos balsa\" blind audition show - the test of a well-known artist, which has become a tradition - DELFI\n",
      "2905523  lt  2021-02-01  Rūta Gajauskaitė-Zadarnauskienė had a daughter: she has already given the name - DELFI\n",
      "2907099  lt  2021-02-01  Due to snow and blizzard, traffic conditions are difficult in most of the country - DELFI\n",
      "2907385  en  2021-02-01  Sushant Singh Rajput`s cousin Raj Kumar Singh shot at in Bihar`s Saharsa - Zee News\n",
      "2907459  lt  2021-02-01  The Danes who triumphed in the Scandinavian derby are the world champions - DELFI\n",
      "2908115  zh  2021-02-01  How to shoot the ghost movie \"Teleportation\"? He laughed and revealed: He almost suffocated to death - ETtoday Starlight Cloud\n",
      "2908801  lt  2021-02-01  COVID-19 claimed the life of Vilnius council member Sergejaus Ursulas - DELFI\n",
      "2908942  lt  2021-02-01  Having won for sure, Berankis entered the second round of the tournament in Australia - DELFI\n",
      "2909738  lt  2021-02-01  Valančiūnas, who continues to not return to the field, risks missing the confrontation with Sabonis - DELFI\n",
      "2910013  lt  2021-02-01  Jonas Gricius, one of the most famous Lithuanian cinematographers, has died - DELFI\n",
      "2910622  fr  2021-02-01  Covid 19 and male infertility - Magic Maman\n",
      "2905127  ar  2021-02-01  The Hope Probe...numbers, goals and challenges - Sky News Arabia Sky News Arabia\n",
      "2910682  nl  2021-02-01  Tim Hofman under fire in Media Inside: 'You have a Messiah complex' - RTL Boulevard\n",
      "2911051  ru  2021-02-01  A scientist has found an unusual way to detect extraterrestrial civilizations - Rambler/news\n",
      "2899481  de  2021-01-31  App Store: Apple does not adequately check privacy labels - Golem.de - Golem.de\n",
      "2906518  zh  2021-02-01  WhatsApp Immigration Stories explain privacy update to keep customers - ePrice.HK\n",
      "2908368  cs  2021-02-01  WhatsApp tries to get users back, sends messages and assures privacy - CDR.cz\n",
      "2909226  en  2021-02-01  Airtel vs Jio: Check the best offers you can avail on Rs 129 prepaid plan - Kalinga TV\n",
      "2910535  en  2021-02-01  WhatsApp Online Privacy Concerns: Is This Real Or Just A Storm In A Teacup? - iAfrica.com\n",
      "2905194  sr  2021-02-01  Touching meeting again: Thanks to virtual reality, he danced with his late wife and made everyone cry - Blic\n",
      "2908112  sl  2021-02-01  The centenarian who raised 33 million euros for English healthcare has covid-19 - 24ur.com\n",
      "2908215  sl  2021-02-01  Miroslav Tuđman has died - 24ur.com - 24ur.com\n",
      "2909128  tr  2021-02-01  The weekend news crushed the ratings. Tense waiting in the FOX TV corridors. Everyone is talking about the Gülbin Tosun tsunami - YeniÇağ\n",
      "2909318  ja  2021-02-01  Kei Nishikori \"Everyone without masks...\" Surprised by Australia without coronavirus - Nikkan Sports\n",
      "2910130  sl  2021-02-01  Italy relaxes measures, one new case is confirmed in Perth and the city is closed for five days - 24ur.com\n",
      "2911824  es  2021-02-01  8 curiosities you didn't know about 'The Excavation', the movie that everyone is watching on Netflix - elle.com\n",
      "2905082  nl  2021-02-01  Corona is making a big impact. Happiness psychologist Bertus Jeronimus is concerned about youth: 'Children do not realize what they are losing' - Leeuwarder Courant\n",
      "2905313  bg  2021-02-01  Terziyski: Meteorological conditions suggest the activation of collapse processes - Novini.bg\n",
      "2909548  bg  2021-02-01  Georg Georgiev: Radev talking about reason - this is an abomination! - Novini.bg\n",
      "2907763  en  2021-02-01  Flu infection “almost wiped out”; lowest in 130 years - BusinessLine\n",
      "2909916  de  2021-02-01  The Huawei Watch GT 2e is receiving a software update, a retailer is offering it at the best price of 89 euros - Notebookcheck.com\n",
      "2899744  en  2021-01-31  'It's a different pandemic now': Variants taking toll on Covid-19 vaccine efficacy - BreakingNews.ie\n",
      "2905701  nl  2021-02-01  Why we find it difficult to accept when someone is different - BN DeStem\n",
      "2906669  ar  2021-02-01  Watch...the moon Raya Abi Rashid assumes different characters to promote her program Scoop with Raya - exclusive news\n",
      "2910792  sl  2021-02-01  He cried like rain for Maradona, but new revelations show him in a different light - zurnal24.si\n",
      "2904857  en  2021-02-01  Watch live today: bluShift Aerospace to launch 1st biofuel rocket from Maine - Space.com\n",
      "2905356  en  2021-02-01  Swedish nurse wins week watching films in isolation - RTE.ie\n",
      "2905851  pt  2021-02-01  Big Brother: Teresa Silva will return to the most watched house in the country. Fans say: “Inadmissible” ... - Hiper Fm\n",
      "2905873  sl  2021-02-01  12,000 applications to watch a film festival on a lonely Swedish island - RTV Slovenia\n",
      "2905967  pt  2021-02-01  Nurse chosen to spend seven days alone on an island watching films - Notícias ao Minuto\n",
      "2905992  en  2021-02-01  Watch Luis Suarez score stunning free-kick for Atletico Madrid as LaLiga leaders go ten points clear with 4-2 - The Sun\n",
      "2906013  hu  2021-02-01  BLESS Mobile and 8 more new mobile games worth watching - GameStar\n",
      "2906446  en  2021-02-01  Watch: Spock Demonstrates His Golf Clap In Latest Paramount+ Ad - TrekMovie\n",
      "2906545  en  2021-02-01  Stocks to watch: SGX, Metro, Keppel, MIT, SIAEC, Parkway Life Reit - The Business Times\n",
      "2906780  ja  2021-02-01  JAPANNEXT, 10.1/11.6/13.3 type 2-screen mobile display - PC Watch\n",
      "2906787  ja  2021-02-01  \"CentOS Linux\" to be discontinued; developer's turmoil and relief efforts - Cloud Watch\n",
      "2907136  en  2021-02-01  WATCH - Dinesh Karthik's Tamil Nadu Celebrate SMAT Win Dancing to 'Vaathi Coming' From Master - News18\n",
      "2907972  en  2021-02-01  Richie Porte handed keys to Tasmanian city of Launceston - Cyclingnews.com\n",
      "2908101  ja  2021-02-01  “Demon Slayer: Kimetsu no Yaiba” kanji calculation drill is provided free of charge by “Shinkenzemi” to elementary school students nationwide. Applications accepted starting today - GAME Watch\n",
      "2908260  zh  2021-02-01  Stay in Beijing to celebrate the New Year and watch the “Beijing-flavored Film New Year Exhibition” - China Daily\n",
      "2908361  he  2021-02-01  Gadgety Masker: Amazfit GTR 2 - a comfortable sports watch for everyday use - Gadgety | Gadgety\n",
      "2908498  pt  2021-02-01  Sport x Flamengo: see where to watch, lineups, absences and arbitration - globoesporte.com\n",
      "2908859  de  2021-02-01  Watch “Showtime of my Life” in the VOX live stream online on TVNOW - VOX Online\n",
      "2909001  es  2021-02-01  The real story of 'Bridgerton': what was George III's illness? - Hypertextual\n",
      "2910045  no  2021-02-01  WATCH THE GAME - Hollywood is to blame for not getting GoldenEye 007 for Xbox - ITavisen.no\n",
      "2910196  he  2021-02-01  Watch: Another stage in the experiment in the advanced version of an iron dome - knitted\n",
      "2910800  en  2021-02-01  Frontline nurse wins contest to watch movies in a remote lighthouse by herself - Mashable\n",
      "2910813  sv  2021-02-01  Watch the first episode of Studio Smålit - Johanna Linder talks about the struggle behind the art gallery - vetlandaposten.se\n",
      "2911112  es  2021-02-01  Promote coexistence between cyclists and drivers, key to safety - La Vanguardia\n",
      "2911800  en  2021-02-01  Spacewalking astronauts will install new cameras and wrap up space station power upgrades today. Watch it live! - Space.com\n",
      "2908665  ro  2021-02-01  Mauro Icardi, the last victim of the thieves. The value of the stolen goods was revealed by relatives - DigiSport\n",
      "2908041  sr  2021-02-01  LANE GUTOVIĆ FOUND PEACE IN A CONTAINER ON THE POND: The actor is honest about withdrawing into himself, but he's gone because of one thing - Kurir\n",
      "2907648  es  2021-02-01  COVID-19 Version of Global PVC Impact Modifier and Processing Auxiliary Market Growing Trade Among Emerging Economies Opening New Opportunities (2021-2029) – teknlifenews – Tek'n'Life\n",
      "2908385  zh  2021-02-01  \"Ys IX - Night of the Monsters -\" Switch / PC version will be released in the summer of 2021 - Bahamut Video Game Information Station\n",
      "2911288  es  2021-02-01  COVID-19 Version of the Global Passenger Vehicle Antenna Market Growing Trade Between Emerging Economies Opening New Opportunities (2021-2029) – Crossover Magazine – Crossover Magazine\n",
      "2911703  zh  2021-02-01  Preview of Spring Festival movies: Can Wanda Films make a pre-emptive loss of 6 billion on bets on \"Tang Detective 3\" to turn around? _Company News_Stocks_Securities Star Touch Screen Version-Securities Star\n",
      "2908488  bg  2021-02-01  Valentich extended the trials of the Norwegian, who has not played for 1 year - Plovdiv24.bg - News from Plovdiv and the region\n",
      "2905245  en  2021-02-01  ‘It’s been a joy’ – Blob and Viking are revealed on The Masked Singer - BreakingNews.ie\n",
      "2906028  en  2021-02-01  Coleen Rooney offer to Rebekah Vardy ‘still on the table’ - BreakingNews.ie\n",
      "2906092  fr  2021-02-01  Covid-19: new variants capable of avoiding vaccines? - Sputnik France\n",
      "2906515  en  2021-02-01  Britain and Brazil coronavirus variants found in the Bay Area - San Francisco Chronicle\n",
      "2906667  es  2021-02-01  Colombia confirms two cases in Leticia of the Brazilian variant - ElTiempo.com\n",
      "2906772  en  2021-02-01  Oil treads warily higher amid patchy vaccine rollouts, new coronavirus variants By Reuters - Investing.com\n",
      "2906861  en  2021-02-01  Pokemon Fan Creates Variant Mewtwos for All 18 Types - ComicBook.com\n",
      "2911189  en  2021-02-01  More cases of South African COVID-19 variant emerging in US - FOX59 News\n",
      "2911452  lv  2021-02-01  Newspaper: IIHF will decide between two variants of hockey World Cup host countries - Apollo.lv\n",
      "2911574  en  2021-02-01  South African coronavirus variant: All your questions answered - Livescience.com\n",
      "2911707  en  2021-02-01  BREAKING: South African COVID variant found in Surrey - Sky News\n",
      "2906327  pt  2021-02-01  Santa Clara already has a replacement for Thiago Santana: it's a return to Portugal - O Jogo\n",
      "2909403  pt  2021-02-01  \"Coca-Cola Tax\" generated 50 million in 2020 and could make Portugal an example in the fight against obesity - SAPO Lifestyle\n",
      "2909925  pt  2021-02-01  Sporting rotates forwards in the I League: one of them is a return to Portugal - O Jogo\n",
      "2905328  sl  2021-02-01  Loves Proeski, hides his girlfriend - Slovenian News\n",
      "2905479  es  2021-02-01  Covid-19: know where the virus can hide in the body - Lmneuquen.com\n",
      "2909428  sl  2021-02-01  The attacked Slovene came forward: \"What they say is not true\" - zurnal24.si\n",
      "2909780  tr  2021-02-01  BREAKING NEWS: A coronavirus case was detected in Australia: 2 million people were quarantined! - News - Habertürk\n",
      "2910004  zh  2021-02-01  5. Dad’s daughter didn’t go to school... He couldn’t get up! Calling out former employer: willing to accept 50K job - ETtoday News Cloud\n",
      "2910101  ar  2021-02-01  “Health” conducts 127,572 tests and detects 2,730 new infections with the emerging Coronavirus, 4,452 recoveries, and 9 deaths - Al-Ittihad\n",
      "2905478  ar  2021-02-01  Hibiscus...a mine of health benefits for the body - Al Bayan Health\n",
      "2905511  pt  2021-02-01  Baby's body is found in the garbage of a Health Unit - Jornal Bragança Em Pauta\n",
      "2906716  es  2021-02-01  Britney Spears shakes her body to the rhythm of J Balvin - Marca Claro Colombia\n",
      "2906934  cs  2021-02-01  Iceland cleverly keeps covid away from the body - novinky.cz\n",
      "2907994  zh  2021-02-01  Body design exposed! ASUS ROG Phone 5 obtains Chinese certification - SOGI Mobile King - SOGI Mobile King\n",
      "2908152  el  2021-02-01  Diet without sweeteners: 7 changes that occur in the body (pictures) - Onmed.gr - Onmed.gr\n",
      "2908313  nl  2021-02-01  Blake Lively unsure about body after third child - Telegraaf.nl\n",
      "2908661  tr  2021-02-01  Breaking news: 4 bodies were found in the vehicle! It's his birthday today! - Morning\n",
      "2909364  ru  2021-02-01  Will Smith attended Zenit training in Dubai - Sports.ru\n",
      "2911321  en  2021-02-01  Blake Lively opens up about body insecurities after the birth of her third daughter - cosmopolitan.com\n",
      "2907205  ru  2021-02-01  Northern isolation: - TASS\n",
      "2900734  lv  2021-01-31  Divan cinema hall: movies are recommended by Gints Grūbe and Ilze Burkovska-Jakobsena - Lsm.lv\n",
      "2905542  es  2021-02-01  LogoKit, the tool created by cybercriminals to produce phishing pages in real time - WWWhat's new\n",
      "2906804  en  2021-02-01  Government to scrap 'fundamentally unfair' barrier to councils introducing Māori wards - Newshub\n",
      "2908026  fr  2021-02-01  Death of Diego Maradona. A recording of his doctor creates controversy - Ouest-France\n",
      "2910405  en  2021-02-01  Genshin Impact Xiao banner: 4 star characters and release date - HITC - Football, Gaming, Movies, TV, Music\n",
      "2904937  nl  2021-02-01  From skin hunger to haphephobia: corona makes us allergic to touch - Weekend Knack\n",
      "2905587  ro  2021-02-01  Andreea Marin, new revelations from former marriages. \"You don't stay in a relationship when everything is a... - IMPACT\n",
      "2906555  en  2021-02-01  Genshin Impact 1.3 release date: New update reveal, pre-load news and Xiao Banner - Express\n",
      "2908544  en  2021-02-01  Three police officers attacked during Lancashire's busiest weekend for Covid-19 breaches - Lancs Live\n",
      "2909103  en  2021-02-01  Asian factories have mixed performance as pandemic impact lingers - ABS-CBN News\n",
      "2909762  ru  2021-02-01  Scientists have recorded an asteroid impact on Mercury for the first time - Gazeta.Ru\n",
      "2910275  id  2021-02-01  These are the changes to Zhongli's character in Update 1.3 Genshin Impact - SPIN Esports\n",
      "2906254  ar  2021-02-01  “The Little Things” tops American box office revenues - Sky News Arabia Sky News Arabia\n",
      "2906370  sr  2021-02-01  THIS IS THE SAME AS MAJA AND JANJUŠ LAST YEAR: Đolet's sister Dragica spoke about the relationship between Tara and Ša, she believes that something has ALREADY happened between the two of them! - Pink.rs\n",
      "2909797  ar  2021-02-01  The new Denzel Washington tops American cinema revenues with “The Little Things” - Al Khaleej\n",
      "2910953  it  2021-02-01  USA, police arrest and use pepper spray against 9-year-old African-American girl - Video - Il Fatto Quotidiano\n",
      "2908495  ru  2021-02-01  Russian language lessons and a new photo: Anna Kournikova and Enrique Iglesias celebrated their youngest daughter’s birthday - Gossip\n",
      "2908572  sr  2021-02-01  ELENA KARIĆ LEAVES SERBIA This is where she is going after she sold the property to Jelena Đoković! \"In the yard they will... - Blic\n",
      "2909833  sr  2021-02-01  Ljubiša Tumbaković's last letter to Serbian football: \"I punished BREACH OF DISCIPLINE by not inviting him\" - Blic\n",
      "2911691  ru  2021-02-01  A Russian schoolboy doused a classmate with a chemical liquid and set her on fire - Lenta.ru\n",
      "2909719  sr  2021-02-01  Debeli goes to hell, announces that he is dead: A shocking recording of the conversation before Maradona's death was leaked - Telegraf.rs\n",
      "2908338  ja  2021-02-01  Arbitration petition filed in athlete village apartment | NHK Metropolitan Area News - NHK NEWS WEB\n",
      "2907467  id  2021-02-01  America's lust for the moon must be postponed - VIVA - VIVA.co.id\n",
      "2908749  pt  2021-02-01  Hovione Capital changes name and expands investment to biotechnology startups - Jornal Económico\n",
      "2908589  bg  2021-02-01  Action with a famous Bulgarian in the USA - Blitz - news from Bulgaria and the world\n",
      "2909009  en  2021-02-01  'Gangnam Style' singer Psy's weight loss sparks concern among fans - The Star Online\n",
      "2909122  ar  2021-02-01  Loma Estelle: New street style models for 2021 - Loma News\n",
      "2905708  pl  2021-02-01  With COVID-19, we are attacked by... our own antibodies? | - Niezalezna.pl\n",
      "2907018  he  2021-02-01  The world's shark population has decreased by about 70% in 50 years - Haaretz\n",
      "2901331  ar  2021-01-31  “Statistics” reveals the per capita share of gas discoveries annually - Al-Dustour Newspaper\n",
      "2905526  he  2021-02-01  Want to get a grade in statistics? Make a date B - Israel today\n",
      "2909901  th  2021-02-01  Ministry of Public Health reveals the new wave of Covid maintains good statistics despite active infection in the community, the number is still high - Siamrath\n",
      "2905435  de  2021-02-01  First birthday: Anna Kournikova's daughter is so sweet - 20 minutes\n",
      "2909954  sk  2021-02-01  Ladislav Štaidl (†75): Dara SENT HIM THIS MESSAGE AFTER DEATH - Pluska.sk\n",
      "2900224  cs  2021-01-31  Video: Virgin Hyperloop presents what transport will look like in 2030 - World of hardware\n",
      "2909478  en  2021-02-01  Virgin Active reports increasing gym member terminations - BusinessTech\n",
      "2905482  no  2021-02-01  Katy Perry: - - Has changed my life - Seoghør.no\n",
      "2905900  bg  2021-02-01  Bomb for Chandler and Julia Roberts - Blitz - news from Bulgaria and the world\n",
      "2910390  en  2021-02-01  Reports: Panthers offered No. 8 pick and more for Matthew Stafford - NBC Sports\n",
      "2911415  hu  2021-02-01  Men's handball: We instilled deep trust in the players - László Nagy - Nemzeti Sport\n",
      "2900393  no  2021-01-31  Signed up for Farm after city trip - ABC News\n",
      "2901170  bg  2021-01-31  Can \"Sex and the City\" be without Samantha - 24 hours\n",
      "2905633  th  2021-02-01  'Hor Fong Sanan' reveals world criteria - cities with shortages - vaccine abundance - Krungthep Thurakit\n",
      "2906955  zh  2021-02-01  \"The Great Once Upon a Time\" represents one person and one city, united as one to win a championship-Dallas Mavericks-Sports Vision\n",
      "2906961  lt  2021-02-01  The pandemic has hit aviation: ordinary trips are fundamentally changing - tv3.lt\n",
      "2907843  pt  2021-02-01  Patrick de Paula was analyzed by City and Benfica in the Libertadores final - UOL Esporte\n",
      "2908229  it  2021-02-01  Italy almost all yellow zone, alarm for gatherings in cities - Adnkronos\n",
      "2909744  de  2021-02-01  City scooter from Berlin:Naon Zero-One - great scooter - n-tv NEWS\n",
      "2909757  de  2021-02-01  City on Museum - Art Project in Zurich - oe24.at\n",
      "2910913  id  2021-02-01  DHF Becomes a Serious Threat to Cimahi City during the Covid-19 Pandemic - iNews\n",
      "2910993  it  2021-02-01  Turin, Mandragora is in the city: medical examinations underway - Toro News\n",
      "2911913  fr  2021-02-01  Cities without slums: 152,000 families waiting for their turn - Leseco.ma\n",
      "2906213  ar  2021-02-01  4 Common Beliefs About Eye Health in Libra - Our Life\n",
      "2900942  bg  2021-01-31  Immunologist: The virus will not disappear, new vaccines will be needed - m.dnes.bg\n",
      "2909612  bg  2021-02-01  Red COVID code for Halkidiki, Lasithi and Zakynthos in Greece - m.dnes.bg\n",
      "2905213  no  2021-02-01  Someone has sun, summer and zero corona now - Aftenposten\n",
      "2906129  es  2021-02-01  “Canelo's kryptonite is someone who boxes and moves like Saunders,” says Tyson Fury - Izquierdazo\n",
      "2908509  ru  2021-02-01  Media: Elena Stepanenko secretly had an operation - Moskovsky Komsomolets\n",
      "2909294  fr  2021-02-01  Paris: magistrates fined in an illegal restaurant on the Île de la Cité this Friday - Le Figaro\n",
      "2909435  zh  2021-02-01  \"Glory Ping Pong\" reveals that \"a hundred 'practices' will make you a steel\" preview Bai Jingting and Xu Weizhou's interpretation of steely youth-Xi'an News Network\n",
      "2908328  sv  2021-02-01  Britney Spears' mysterious dance video for the ex's song - Expressen\n",
      "2902041  bg  2021-01-31  Experts with a sensational discovery of the last thing dying people hear - Blitz - news from Bulgaria and the world\n",
      "2906367  ar  2021-02-01  An official source denies recording any death due to “bird flu” - Sahara Media\n",
      "2900630  hu  2021-01-31  Hectic summers and mild winters are coming: we have to get used to extremes - Hajdú Online\n",
      "2906786  es  2021-02-01  Sun, microbikini and smile: Barby Franco showed summer her winning cards - Radio Miter\n",
      "2907568  en  2021-02-01  The Arvo Wrap: WA dodges new cases during lockdown; Aussie house prices skyrocket; Summer tennis continues - 9News\n",
      "2907605  bg  2021-02-01  Prof. Rachev: This is probably the warmest winter since there have been weather forecasts - 24 hours\n",
      "2908672  en  2021-02-01  Coronation Street spoilers: Summer left to die in tragic scenes tonight - Metro.co.uk\n",
      "2908963  de  2021-02-01  Daniel Koch contradicts experts: “In the summer, Europe will have the virus under control again” - 20 minutes\n",
      "2909255  en  2021-02-01  Ryanair forecasts 'strong return' of beach holidays this summer - BBC News\n",
      "2910518  en  2021-02-01  WINTER STORM WARNING: Philadelphia AccuWeather forecast for Pennsylvania, New Jersey and Delaware - WPVI-TV\n",
      "2911044  en  2021-02-01  Ryanair boss predicts Britons will return 'to the beaches of Europe' for the summer - Sky News\n",
      "2906688  en  2021-02-01  Bride demands her sister-in-law wear a baggy dress to her wedding after major weight loss - 9Honey\n",
      "2908349  nl  2021-02-01  Video! Calm Thierry Baudet confronts angry NPO journalist Twan Huys about corona: 'What's wrong with it?!' - The Daily Standard\n",
      "2900691  lt  2021-01-31  The main discoveries in the search for other life outside the Earth - tv3.lt\n",
      "2905016  lt  2021-02-01  The first 5 finalists of the Eurovision national selection have been revealed: these performers will continue the fight - tv3.lt\n",
      "2905131  it  2021-02-01  Sensational archaeological discovery in Cambridge: it is “one of the most important Anglo-Saxon finds ... - MeteoWeb\n",
      "2905376  bg  2021-02-01  Scientists made a discovery in China that will change the world - Blitz - news from Bulgaria and the world\n",
      "2909774  lt  2021-02-01  Sabonis shared a picture with his fiancee: the photo is worthy of a magazine cover - tv3.lt\n",
      "2910801  en  2021-02-01  'The Dig' stays on the surface of a historic discovery - The Breeze\n",
      "2911507  es  2021-02-01  LIVE | Astronauts carry out a spacewalk outside the ISS - El Mundo\n",
      "2901848  ro  2021-01-31  GoldenEye 007: a canceled Xbox 360 remaster movie was discovered - ProRally.ro\n",
      "2905555  he  2021-02-01  \"Live in the movie\": Avivit Bar Zohar opens a course for happiness and wealth - Israel Hayom\n",
      "2907293  en  2021-02-01  Thala Ajith showers praises on this Telugu movie! - Tamil News - IndiaGlitz.com\n",
      "2911302  lv  2021-02-01  LTV Dienas news will be hosted by journalist Ilze Vēbere Press releases - LETA\n",
      "2911871  es  2021-02-01  Rebecca Hall debuts as a director with 'Passing' - ElTiempo.com\n",
      "2908055  en  2021-02-01  Uppena in USA By Great India Films.. - Greatandhra.com\n",
      "2905755  nl  2021-02-01  Let's have a laugh with Woke-Sociologist Willem Schinkel - Geenstijl.nl\n",
      "2906740  en  2021-02-01  The top 50 Irish players of the Six Nations era: 50-41 - The men in green who ushered in triumphant 20 years - Independent.ie\n",
      "2906753  ko  2021-02-01  “A lump sum increase of 8 million won”… Nexon opens the era of industry-leading starting salary of 50 million won - Korea Economic Daily\n",
      "2908170  bg  2021-02-01  Immunologist: Soon we can expect the South African strain of the coronavirus in our country - Dnes.dir.bg\n",
      "2908742  pl  2021-02-01  Janusz Filipiak did not accept Michał Probierz's resignation. Origin of problems (sport.tvp.pl) - TVP SPORT\n",
      "2901039  ar  2021-01-31  New experiments raise concern about Corona strains evading vaccines - Al-Quds Al-Arabi\n",
      "2907737  en  2021-02-01  Morrison says Craig Kelly 'is not my doctor', evading question on Covid misinformation - The Guardian\n",
      "2911816  ar  2021-02-01  Assi Al-Helani greeting his daughter Marita: “My joy in all my life.” Nadia Elias - Al-Quds Al-Arabi\n",
      "2911904  ar  2021-02-01  How does Myriam Fares turn home quarantine into useful activities? - (Video) | Nadia Elias - Al-Quds Al-Arabi\n",
      "2911311  no  2021-02-01  (+)Big talent out with knee injury: Here is RBK's injury list - Adresseavisen\n",
      "2901129  no  2021-01-31  Tired of corona? Here's a glimpse from the past. - Aftenposten\n",
      "2905101  it  2021-02-01  Finished beds and tired doctors: \"Here there is already the third wave of Covid\" - ilGiornale.it\n",
      "2906825  en  2021-02-01  Sofia Richie gives fans a glimpse into her workout routines - The News International\n",
      "2907922  en  2021-02-01  Karisma Kapoor gives a glimpse of Amrita Arora’s birthday party; shares happy pictures ft. Kareena Kapoor - Times of India\n",
      "2901616  nl  2021-01-31  Live blog: Parade of football supporters in Genk and some preventive arrests in Antwerp, but no \"corona riots\" anywhere - VRT NWS\n",
      "2906704  en  2021-02-01  119 new cases, Winnipeg test positivity rate below 5 per cent - CHVN Radio\n",
      "2906970  no  2021-02-01  - Norway should produce 1 TWh of batteries annually - Tu.no - Tu.no\n",
      "2907172  fr  2021-02-01  More than 2,250 contaminations per day in Belgium, an increase of 10% - 7sur7\n",
      "2908137  ko  2021-02-01  HP enters the domestic Chromebook market with 20,000 units per year... The market is getting bigger - ZD Net Korea\n",
      "2908496  ru  2021-02-01  In Russia, 437 people with coronavirus died per day - RBC\n",
      "2909221  nl  2021-02-01  Australian singer Tones and I will give a show in AFAS Live - NU.nl in October\n",
      "2901509  fr  2021-01-31  Who is the best employer in Morocco? - Moroccans around the world\n",
      "2908239  fr  2021-02-01  Belgium: travelers arriving from Morocco do not get tested on their return - Moroccans around the world\n",
      "2909693  fr  2021-02-01  He died in Orlando as a result of Covid: Bachir Skiredj, an actor from the golden age is leaving - Today Morocco\n",
      "2910171  nl  2021-02-01  Financial compensation for employers who set up their own test street - RTL News\n",
      "2910826  fr  2021-02-01  Oil prices are increasing in Europe - Morocco diplomacy\n",
      "2905415  en  2021-02-01  Non-bailable arrest warrant issued against director Shankar - Tamil News - IndiaGlitz.com\n",
      "2905462  no  2021-02-01  Logitech MX Anywhere 3 - Test - Tek.no\n",
      "2907384  pl  2021-02-01  He took money to buy employee shares. The court extends the arrest - Money.pl\n",
      "2910102  sr  2021-02-01  SERIOUS ACCIDENT IN BOKA: A cyclist was hit by a truck, succumbed to his injuries in the hospital! Cargo truck driver arrested - Courier\n",
      "2905256  en  2021-02-01  The Animals guitarist, Hilton Valentine, dies aged 77 Music - RTE.ie\n",
      "2909445  fr  2021-02-01  The Little Mermaid: a sexist and cruel tale? - RTBF\n",
      "2907078  pl  2021-02-01  Coronavirus. Scientists: Melatonin produced in the lungs fights SARS-CoV-2 - Interia\n",
      "2905207  sk  2021-02-01  A preview of the canceled HD remaster of GoldenEye 007 has leaked - Sector.sk\n",
      "2908067  en  2021-02-01  Chromebook Shipments Almost Quadrupled in Q4 2020 With Over 11 Million Units: Canalys - Gadgets 360\n",
      "2908851  th  2021-02-01  Hunt for Olympic tickets! Khunying Pattama reveals the next mission of Thai badminton players - Khaosod\n",
      "2906883  en  2021-02-01  Ask LH: Why Is Wombat Poop Square-Shaped? - Lifehacker Australia\n",
      "2906968  en  2021-02-01  'QAnon Shaman' Jake Angeli offers to testify against Donald Trump - Newshub\n",
      "2907050  en  2021-02-01  Bindi Irwin is wearing Chandler Powell's uniform because her baby bump won't fit her shirt anymore - Daily Mail\n",
      "2909450  no  2021-02-01  10:31 Viking gave him away last year - sold for millions to Denmark - Aftenbladet.no\n",
      "2905858  he  2021-02-01  A new documentary about the life of Britney Spears seeks to understand once and for all what is happening in the family - Hebrew News\n",
      "2908332  ar  2021-02-01  A piece of her ribcage.. Houria Farghali begins a new journey of treatment, “Video” - Youm7\n",
      "2909837  nl  2021-02-01  Cultural sector once again receives millions of euros in support - NU.nl\n",
      "2905346  bg  2021-02-01  Here is the new love of Sanya Borisova PHOTO - Blitz - news from Bulgaria and the world\n",
      "2906050  bg  2021-02-01  US scientists found out what the daily consumption of bananas leads to - Blitz - news from Bulgaria and the world\n",
      "2908814  bg  2021-02-01  Ivaylo Kirilov: BGN 840 for an adult, BGN 420 for a child, and the end of the gray economy - Blitz - news from Bulgaria and the world\n",
      "2910460  pt  2021-02-01  Paulinho on his way to Sporting and Borja and Sporar heading to Braga: business accelerates - Record\n",
      "2906201  bg  2021-02-01  Alena's Horoscope: Mercury Retrograde Retaliates Sagittarian Pests and Helps Capricorn Problems - Labor\n",
      "2905700  cs  2021-02-01  5th Space Week 2021 | Phenomena | Articles - Astro\n",
      "2910483  pt  2021-02-01  After defeat to Palmeiras, Santos will have to fight to return to the Libertadores - Terra\n",
      "2909878  de  2021-02-01  Craft calculator: PC plug-in cards for the Raspberry Pi Compute Module 4 - heise online\n",
      "2906102  ar  2021-02-01  Everything you need to know about Kautilya Kataria, the youngest artificial intelligence programmer in the world - Youm7\n",
      "2910384  pt  2021-02-01  WhatsApp wants to clear up confusion with messages in Stories - Notícias ao Minuto\n",
      "2911906  fr  2021-02-01  Club World Cup: in Doha, a \"historic\" stadium, witness to Qatar's sporting ambitions - FRANCE 24\n",
      "2908234  ar  2021-02-01  Icardi...two losses at the same moment, “on the field and at home” - Sky News Arabia Sky News Arabia\n",
      "2908286  cs  2021-02-01  The restaurant is fully operational thanks to the fraud, the police are at a loss - Seznam Správy\n",
      "2909188  en  2021-02-01  TSB plummets to £204m loss amid impairments and branch closures | York Press - York Press\n",
      "2909409  cs  2021-02-01  Ryanair is at a loss of eight billion crowns - novinky.cz\n",
      "2909688  el  2021-02-01  Survivor 1/2: MEGA SPOILERS! LOSS! The photo showing red immunity! (pic)! - Sportime\n",
      "2909717  de  2021-02-01  Hoping for a quick recovery: Ryanair is heading for record losses - n-tv NEWS\n",
      "2907631  tr  2021-02-01  Archaeologists found purple fabric dye 'more valuable than gold' - Cumhuriyet\n",
      "2905491  nl  2021-02-01  Arithmetic whiz Willem Bouman: \"Arithmetic is everywhere!\" - Alphens.nl\n",
      "2907414  es  2021-02-01  Coca-Cola reinforces its commitment to the fight against climate change - OKDIARIO\n",
      "2908847  nl  2021-02-01  Dozens of accidents on the road due to icy conditions cause long traffic jams - NU.nl\n",
      "2909517  it  2021-02-01  Mandragora, a year and a half to reduce expectations. And leave again - Turin Granata\n",
      "2910974  de  2021-02-01  “Empty look”: Christin Kaeber about daughter Nia’s condition! - Promiflash.de\n",
      "2908981  ru  2021-02-01  The IIHF intends to hold all matches of the 2021 World Cup in Latvia - Sports.ru\n",
      "2907696  hu  2021-02-01  The Danish captain lived on drugs and cola before the final of the Handball World Cup - Origo\n",
      "2904669  pt  2021-01-31  Have you lost your vaccination booklet? Ten questions and answers about what to do - Extra\n",
      "2905505  fr  2021-02-01  Bénabar: “It’s not innocent to be 50” - lalibre.be\n",
      "2906060  es  2021-02-01  Adults between 50 and 65 years old, those who access credit the most in Colombia - valoraanalitik.com\n",
      "2906086  de  2021-02-01  Chasing a seven-day incidence of 50, pointless or sensible? - Tyrolean daily newspaper online\n",
      "2907937  cs  2021-02-01  Shark numbers have dropped by 71 percent in 50 years, study claims. It ends up on restaurant plates - iRozhlas.cz\n",
      "2908425  pt  2021-02-01  Live/ Vaccination starts for people over 50 years old and with comorbidities - Observer\n",
      "2908470  fr  2021-02-01  Woodstock 50: the festival receives compensation - RTBF\n",
      "2911875  he  2021-02-01  Gilat won a contract with a revenue potential of over 50 million dollars - sponsor\n",
      "2910920  en  2021-02-01  Budget 2021 | Bad bank is a bad idea, privatisation of public sector banks retrograde: AIBEA - Moneycontrol.com\n",
      "2905208  nl  2021-02-01  Striking increase in the number of infections in Zoeterwoude | sweeterwoude - Unity Now\n",
      "2910785  he  2021-02-01  Better Back: Matan Huzaz fights to reverse fate - One\n",
      "2908043  en  2021-02-01  Cannabis medication now available over-the-counter in Australia - 9News\n",
      "2909338  id  2021-02-01  Can be made into juice, know the 7 benefits of celery stalks for health - Popmama.com\n",
      "2910745  es  2021-02-01  Wild Rift patch 2.1: spectator mode, 6 new champions and more events - Movistar eSports\n",
      "2911015  pt  2021-02-01  Early morning after the first wall there is discussion, outbursts and plans - UOL\n",
      "2905287  pt  2021-02-01  Understand the case of the man who had cancer regression after contracting Covid-19 - Prime Time Zone\n",
      "2906089  it  2021-02-01  Epidemiologists: «It is a risk to restore so many yellow zones, according to some indices the contagion is in... - Corriere della Sera\n",
      "2908682  it  2021-02-01  Coronavirus, today's latest news on Covid: almost all of Italy in the yellow zone, State-Regions meeting on the vaccine plan - Fanpage.it\n",
      "2905867  sl  2021-02-01  Danes defend the title of world champions in Egypt - Siol.net\n",
      "2906453  pt  2021-02-01  Rebecca Heineman Cup: FKA GIRLS beats CUTE and LETHAIS, and takes the title - globoesporte.com\n",
      "2911210  lt  2021-02-01  He named when it will be possible to move between municipalities and when elementary school children will return to classes - 15 minutes\n",
      "2911647  de  2021-02-01  iOS 15 Update: Which iPhones and iPads will get the update? - PocketPC.ch\n",
      "2909963  nl  2021-02-01  Earth will lose its mini-moon one of these days - Scientias.nl\n",
      "2911125  en  2021-02-01  Tim Cook ordered to sit 7-hour deposition in Epic Games case - AppleInsider\n",
      "2909836  cs  2021-02-01  Smola went on the field too early, admitted Kováč. Opava shooting? Crazy, scary - iDNES.cz\n",
      "2906692  en  2021-02-01  COVID-19: Over 100 people flew from Vancouver to Hawaii on Friday and Saturday - Vancouver Sun\n",
      "2906290  no  2021-02-01  Dissatisfied with Golberg's sprint form: - He was \"dead\" and finished both mentally and physically - NRK\n",
      "2907575  no  2021-02-01  Nakstad: - We will know more today and tomorrow - NRK\n",
      "2906595  ko  2021-02-01  9 ways to lose weight without exercising - Comedy.com\n",
      "2908420  ru  2021-02-01  Russia has recorded a daily minimum of COVID-19 cases since the end of October - RBC\n",
      "2911489  ru  2021-02-01  Vasily Lanovoy was buried at Novodevichy Cemetery - RBC\n",
      "2906730  en  2021-02-01  Coronavirus crisis: Tim Minchin scraps Kings Park Perth Festival shows amid lockdown - The West Australian\n",
      "2908982  cs  2021-02-01  Now it will be fun, says the recovered Pastrňák. Will he still chase the leaders of the tables? - iDNES.cz\n",
      "2905420  ro  2021-02-01  The major detail noticed by fans at Andreea Bălan. George Burcea will surely get angry - PLAYTECH\n",
      "2905607  en  2021-02-01  Studies in Israel offer optimism for effectiveness of Covid-19 vaccine - The Irish Times\n",
      "2907554  en  2021-02-01  newsGP - GPs slam 'worrying', 'opportunistic' pharmacy COVID testing trial - RACGP\n",
      "2906526  pt  2021-02-01  Big Brother: New contestant was Kátia Aveiro's boyfriend and had problems with Savate - maria\n",
      "2909120  pl  2021-02-01  Kammel conducted an interview with the president of TVP. He was criticized for his questions. Arłukowicz: Plays in the orchestra. - Plotek.pl\n",
      "2906248  ro  2021-02-01  MM Stoica sounds the alarm before the derby with Dinamo! \"I hope the arbitration is not the same!\" What the FCSB official remarked during the UTA - Dinamo match - SPORT.RO\n",
      "2906511  es  2021-02-01  Audio. This is what the asteroid Ryugu sounds like | The Universal - The Universal\n",
      "2906872  es  2021-02-01  This is what the asteroid Ryugu sounds like - El Universal\n",
      "2911397  pl  2021-02-01  Coronavirus in Italy. They are loosening restrictions. Epidemiologist sounds the alarm - Interia\n",
      "2910772  fr  2021-02-01  Pyrénées-Orientales: Hunters contaminated by a parasite after consuming wild boar - 24matins.fr\n",
      "2906860  es  2021-02-01  The unknown audio of Selena that made her sister Suzette Quintanilla burst into tears - infobae\n",
      "2905754  es  2021-02-01  “Caleb Plant represents a problem for Canelo,” warns Andre Ward - Izquierdazo\n",
      "2906366  en  2021-02-01  HSBC, banks repayment hopes fade with Hin Leong liquidation plan - The Straits Times\n",
      "2910679  de  2021-02-01  Chess: Magnus Carlsen's severe form crisis - DER SPIEGEL\n",
      "2910609  nl  2021-02-01  Collection from stores will be allowed at short notice - NU.nl\n",
      "2911671  id  2021-02-01  Apart from Reducing Stress, Here Are 5 Benefits of Lavender Oil for Health - Cantik Tempo.co\n",
      "2907708  pt  2021-02-01  BB: Expulsion, new competitor and Teresa out of the gala for insulting Pipoca - Notícias ao Minuto\n",
      "2909991  pt  2021-02-01  Maradona's daughter 'explodes' after doctor's audio: \"You're a son of a bitch\" - Notícias ao Minuto\n",
      "2911264  de  2021-02-01  Danish handball world champion Mikkel Hansen: Powerful esthete - DER SPIEGEL\n",
      "2905036  es  2021-02-01  SIC asks López, mayor of Bogotá, to support the use of surgical masks and not cloth ones - valoraanalitik.com\n",
      "2906759  en  2021-02-01  Jennifer Lopez flaunts her chiseled abs in baggy jeans and a crop top during her outing - The News International\n",
      "2906155  es  2021-02-01  Anxious: Nazarena Vélez revealed when her daughter's wedding will be - MDZ Online\n",
      "2907626  nl  2021-02-01  Israel's lockdown extended again • Swedish woman goes to film festival all alone - NOS\n",
      "2907831  en  2021-02-01  Home and Away spoilers - Nikau's sad decision in 12 pictures - digitalspy.com\n",
      "2910288  de  2021-02-01  Unfair action at the golf tournament in San Diego: US star Reed makes his opponents sad and angry - DER SPIEGEL\n",
      "2911345  tr  2021-02-01  President Erdoğan: CHP management blames the AK Party if they get hurt - NTV\n",
      "2908997  ar  2021-02-01  The Brotherhood’s hidden intentions.. Ghannouchi’s statements raise political controversy - Sky News Arabia Sky News Arabia\n",
      "2911283  tr  2021-02-01  President Erdoğan realized his mistake regarding Müslüm Gürses and corrected it immediately - Haberler.com\n",
      "2911812  ar  2021-02-01  Why do some people get coronavirus after the vaccine? Scientists explain - Sky News Arabia Sky News Arabia\n",
      "2910575  en  2021-02-01  Just a serving of mushrooms could make your meals more nutritious! - ANI News\n",
      "2905096  pt  2021-02-01  Pandemic makes life expectancy at age 65 drop - PÚBLICO\n",
      "2910360  id  2021-02-01  Apart from Chemo, this treatment extends the life expectancy of cancer patients - VIVA - VIVA.co.id\n",
      "2905098  bg  2021-02-01  Only 20 died from the coronavirus in our country in 24 hours, but the total number is already over 9,000 - Dnes.dir.bg\n",
      "2910556  cs  2021-02-01  The pub in Olomouc received a fine of 9,000 crowns, it will continue to be open - novinky.cz\n",
      "2909454  th  2021-02-01  'Ple Nakorn' gets a surprise. Found 7 kittens under the roof - Morning story\n",
      "2905437  cs  2021-02-01  Chef Roman Paulus will cook for the Olomouc company Lobster - E15.cz\n",
      "2906487  pt  2021-02-01  Transtejo risks compensation under Peniche Shipyards contract - Diário de Notícias - Lisbon\n",
      "2905116  it  2021-02-01  The Sars Covid-2 infection is a complex flu | by Anna Foglia - Caffè Procope\n",
      "2907855  sv  2021-02-01  Recension: Year Historiker tells. - Anna Götlind and Magnus Linnarsson (ed) - Svenska Dagbladet\n",
      "2909500  de  2021-02-01  Anna Kournikova's daughter is so cute - Today.at - News and headlines\n",
      "2909736  pl  2021-02-01  Anna Mucha donated to WOŚP... Incredible! - pomponik.pl\n",
      "2909995  pl  2021-02-01  Will Anna and Grzegorz Bardowski have a third child? There is a comment! - pomponik.pl\n",
      "2910529  fr  2021-02-01  Threat at the gates of Switzerland - Little informed, chicken lovers could promote avian flu - 24 hours\n",
      "2910541  nl  2021-02-01  Cabinet wants shops to open for takeaway next week - NOS\n",
      "2910298  fr  2021-02-01  Bio-MEMS Market 2026: Top Companies, Regional Growth Overview and Growth Factor Details by Regions, Types and Applications – thetfordactu.com – www.thetfordactu.com\n",
      "2908297  he  2021-02-01  Idan Amadi: \"What would you do if this was your last day?\" - Knitted\n",
      "2908717  he  2021-02-01  Home Biogas started trading this morning on the Tel Aviv Stock Exchange - sponsor\n",
      "2906653  pt  2021-02-01  Frontline hero dies from coronavirus - Correio da Manhã\n",
      "2906176  pt  2021-02-01  It's the pandemic's fault! Iva Domingues can't find love and misses her daughter - Flash\n",
      "2907973  sl  2021-02-01  Disastrous news for the ski queen - zurnal24.si\n",
      "2907830  sv  2021-02-01  Denmark to support green companies with start-up capital - Sydsvenskan\n",
      "2908464  he  2021-02-01  Batam raises forecasts for the third time this year - Capital market - Bizportal\n",
      "2905198  no  2021-02-01  (+) Now the snow is coming, but there is no reason to find the skis yet - in Tromsø\n",
      "2910083  hu  2021-02-01  With incredibly cute pictures, the Olympic champion announced that she is expecting a child - Origo\n",
      "2908422  it  2021-02-01  Vaccine, the calendar region by region: the table by age - Il Messaggero\n",
      "2906847  ja  2021-02-01  Will Rakuten Mobile's clever plan \"0 yen up to 1GB\" help sustain the \"cancellation rush\"? (Mynavi News) - Yahoo! News - Yahoo! News\n",
      "2909341  de  2021-02-01  Prepaid: Blue offers up to 5 GB more LTE data volume - ComputerBase\n",
      "2909121  ar  2021-02-01  Decorations: Arab stars’ children’s bedroom decor designs that are best suited for your child’s bedroom - Loma News\n",
      "2906700  tr  2021-02-01  Snow gives way to rain - TRT News\n",
      "2909261  de  2021-02-01  Eric Stehfest takes a revealing snow bath with his wife Edith - VIP.de, Star News\n",
      "2909383  sv  2021-02-01  New York prepares for snow storm - Sydsvenskan\n",
      "2908465  de  2021-02-01  DSDS: Contract dispute over candidates Michelle, Stas, Ella and Emily - BILD\n",
      "2905611  en  2021-02-01  Rosanna Davison reveals her mum kept her old baby clothes ‘in case one day she had daughter’ - The Irish Sun\n",
      "2907446  en  2021-02-01  NRL 2021: Benji Marshall, South Sydney Rabbitohs, new club happy for star to represent Maori All Stars - NRL.COM\n",
      "2906374  tr  2021-02-01  Children from Kayseri - Calendar - Calendar\n",
      "2907540  en  2021-02-01  Anushka Sharma and Virat Kohli share name and adorable first photo of their daughter! - Tamil News - IndiaGlitz.com\n",
      "2908759  ru  2021-02-01  Pelageya took her daughter to the spa for the first time in the Maldives. Video - TV program\n",
      "2911669  es  2021-02-01  Williams: 'I received insults for being a woman and my father's daughter' - AS\n",
      "2906110  ar  2021-02-01  An unprecedented matter.. This is the effect of Corona on regular influenza - Lebanon24\n",
      "2905662  sk  2021-02-01  The Animals' guitarist Hilton Valentine has died - SME.sk\n",
      "2908198  en  2021-02-01  Laura Jean McKay wins $100,000 Victorian literature prize for The Animals in That Country - The Guardian\n",
      "2908371  sl  2021-02-01  Coolfotr Jana gave her Teja a gift of over 500 euros for Valentine's Day - zurnal24.si\n",
      "2909196  cs  2021-02-01  The Animals guitarist Hilton Valentine has died - novinky.cz\n",
      "2906800  ja  2021-02-01  Examining the latest circumstances of 2021's Windows big topic \"Sun Valley\": Windows Frontline (1/2 page) - - ITmedia\n",
      "2908604  ro  2021-02-01  What grade did Dennis Man get after his debut in Serie A - DigiSport\n",
      "2906168  pt  2021-02-01  FVS says the death of an elderly person in Manaus is under investigation, but that the vaccine is safe - Amazonas Atual\n",
      "2906417  es  2021-02-01  Will WhatsApp be paid? Users panic about it - Show\n",
      "2908556  en  2021-02-01  'We're in a storm': medical students on the Covid frontline - The Guardian\n",
      "2906812  en  2021-02-01  NRL 2021: Newcastle Knights, Blake Green, half tracking well for quick return - NRL.COM\n",
      "2907595  ko  2021-02-01  Girlfriend Sowon, controversy over hugging a Nazi mannequin... A barrage of criticism - Korea Economic Daily\n",
      "2908648  de  2021-02-01  News from the National League – Zug signs Suri, Herzog and Kreis - Swiss Radio and Television (SRF)\n",
      "2911554  en  2021-02-01  Why do wombats have cube-shaped poop? - Livescience.com\n",
      "2909433  it  2021-02-01  What's the weather like, Luciana Littizzetto's feet disconcert Fabio Fazio: this is how she looks in the studio - Liberoquotidiano.it\n",
      "2910173  no  2021-02-01  Chilimobil increases data volumes again - Tek.no\n",
      "2907779  es  2021-02-01  Nursing home: No time to forget - CubaDebate\n",
      "2911212  es  2021-02-01  The suitors knock on Magnus Carlsen's door - La Vanguardia\n",
      "2908664  zh  2021-02-01  Who will confess to Chen Xiao first? Michelle Chen's words made Joey Yung exclaim - Yahoo News\n",
      "2908513  tr  2021-02-01  BEWARE AFTER CORONA! Critical warning from experts: The number will increase after coronavirus - News - Habertürk\n",
      "2909501  fr  2021-02-01  Late infertility treatments: sharp increase in recourses in 10 years - South West\n",
      "2905371  es  2021-02-01  Is planning for 2021 possible?: how to reorganize life in the face of uncertainty - Diario El Día\n",
      "2907079  en  2021-02-01  Coronavirus in context: Florida reports 7788 new cases - 10 Tampa Bay\n",
      "2909434  en  2021-02-01  Ryanair CEO criticises Nphet for scaremongering - Irish Examiner\n",
      "2908125  es  2021-02-01  “We represent Tigres and no one else”: Nahuel Guzmán's controversy prior to his debut in the Club World Cup - infobae\n",
      "2908265  en  2021-02-01  'Kaliyon Ka Chaman' Plays In Cardi B's Video And Desi Twitter Can't Keep Calm - NDTV\n",
      "2906908  en  2021-02-01  Vishal's next action entertainer to release on this date! - Tamil News - IndiaGlitz.com\n",
      "2906570  es  2021-02-01  To the B Metro to the rhythm of Los Charros! -Ole\n",
      "2909768  de  2021-02-01  Used Opel Insignia B: One place often causes problems - BILD\n",
      "2909769  en  2021-02-01  Ryanair boss Michael O’Leary accuses Nphet of ‘mass hysteria’ as he launches tirade against health chiefs and RTÉ - Independent.ie\n",
      "2911219  en  2021-02-01  Bigg Boss 14: Aly Goni’s Sister Ilham Blessed With A Baby Girl; Jasmin Bhasin Says ‘Aly Will Go Crazy’ - Filmibeat\n",
      "2910462  en  2021-02-01  2 men to be charged with breaching Covid-19 laws during birthday celebration involving Mediacorp artistes - TODAYonline\n",
      "2909473  es  2021-02-01  Maradona's cook revealed how Diez died - mendozapost.com\n",
      "2905439  pt  2021-02-01  Man dies one day after receiving vaccine against Covid-19, in Manaus - Blasting News Brasil\n",
      "2910871  he  2021-02-01  I am here: Matan Hozaz is not ready to give up the yellow dream - Sport 5 - The Sports Channel\n",
      "2905451  es  2021-02-01  The audios that would implicate the Superintendent of Health, Fabio Aristizábal, with acts of corruption - infobae\n",
      "2906733  es  2021-02-01  They reveal audios of Maradona's doctor, moments before his death | The Universal - The Universal\n",
      "2905476  el  2021-02-01  Barley: Its unique health benefits (pictures) - Onmed.gr - Onmed.gr\n",
      "2905539  es  2021-02-01  What to do to recover a hacked WhatsApp account | The Universal - The Universal\n",
      "2906625  es  2021-02-01  Lindsay Lohan recorded empowering video for fan and then asks to download it | The Universal - The Universal\n",
      "2909041  pt  2021-02-01  Sampaoli admits using Arana in attack and avoids projecting Hulk into Atlético - Superesportes\n",
      "2906018  tr  2021-02-01  The new game in the markets. It may happen to you too - YeniÇağ\n",
      "2910020  fr  2021-02-01  Alstom completes acquisition of Bombardier - Leseco.ma\n",
      "2905668  he  2021-02-01  Caution: Fraudsters impersonate Samsung Israel - TGspot.co.il\n",
      "2911124  he  2021-02-01  In all the mess: Hapoel BS is waiting for Maccabi Tel Aviv - Israel Hayom\n",
      "2909492  ar  2021-02-01  Moscow: There is no dialogue with “barbarians”... and Washington’s position is rejected - Al Arabiya\n",
      "2905546  ar  2021-02-01  Mistakes we make in the time of Corona.. Beware of this matter after recovery - Masrawy-Masrawy\n",
      "2905552  es  2021-02-01  Ministry of Public Health: Cuba confirms 1,012 new cases of COVID-19, for a total of 26,686 - Diario Granma\n",
      "2911807  no  2021-02-01  Apple has launched something that makes everyday life much easier - ITavisen.no\n",
      "2905693  es  2021-02-01  Andrea Valdiri shows how the construction of her new cabin is going - Canal RCN\n",
      "2906404  es  2021-02-01  They robbed the house of Mauro Icardi and Wanda Nara in Paris and took a fortune - TN - Todo Noticias\n",
      "2910700  pt  2021-02-01  João Pereira returns to Sporting to finish his career - SAPO Desporto\n",
      "2907842  pt  2021-02-01  Corinthians shows optimism for renewing Cazares and Otero's contracts - globoesporte.com\n",
      "2910819  fr  2021-02-01  At just 7 years old, Kautilya Katariya is one of the UK's AI specialists - Lemon Squeezer\n",
      "2907314  en  2021-02-01  Ananya Panday's Throwback To Maldives Vacation, See Her Mesmerising Photos - News18\n",
      "2908868  pt  2021-02-01  Sporting-Benfica: derby brings teams with similar ideas but lion wins in one aspect - O Jogo\n",
      "2906649  en  2021-02-01  Muskwe scores, team humiliated - The Herald\n",
      "2906131  lt  2021-02-01  Withstanding the onslaught, \"Real\" broke the Las Palmas team represented by Dimša in the last seconds - basketnews.lt\n",
      "2910816  ro  2021-02-01  Sergiu Buș arrived in South Korea, but did not meet his new colleagues. What he was forced to do - DigiSport\n",
      "2907365  en  2021-02-01  Jake Sinderberry sentenced after Kellyville McDonald’s QR code outburst - 7NEWS.com.au\n",
      "2908138  pl  2021-02-01  Coronavirus in minks, there is the first case. It is confirmed by the ministry - Gazeta Pomorska\n",
      "2911054  sv  2021-02-01  Business leaders' pats on the back to Serneke on Linkedin | GP - Göteborgs-Posten\n",
      "2906261  es  2021-02-01  Denmark became two-time handball world champion - Rosario3.com\n",
      "2908975  ar  2021-02-01  Handball World Cup: Denmark is the champion and the Pharaohs are seventh, and Tunisia wins the President’s Cup - Youm7\n",
      "2906030  hu  2021-02-01  Eldorado: the end of the golden age - Origo\n",
      "2908757  de  2021-02-01  Italy: Corona easing despite continued high infection numbers - Express.de\n",
      "2907219  nl  2021-02-01  Doctors argue for relaxation of corona measures - De Limburger\n",
      "2910032  de  2021-02-01  SAP: Analysts raise their thumb - THE SHAREHOLDER - THE SHAREHOLDER\n",
      "2909152  id  2021-02-01  PPKM Ineffective, Epidemiologists Push for Pure PSBB Implementation - detikNews\n",
      "2908555  pt  2021-02-01  Corinthians falls in the table, but takes a place in the Libertadores - Terra\n",
      "2906757  pt  2021-02-01  ACM Neto won the MEC - O Antagonista\n",
      "2907002  en  2021-02-01  Trainer chasing big Randwick payday - Racenet\n",
      "2908584  it  2021-02-01  Covid, EMA: \"Five vaccines before Easter\" - Adnkronos\n",
      "2907982  pt  2021-02-01  Analysis: Fluminense plays better with Marcão and gains momentum behind the Libertadores dream - globoesporte.com\n",
      "2909556  th  2021-02-01  'Pom Pam - Tui Tui' apologize after drama over child's dream of wanting to go to Hua Hin before she dies - This morning's story\n",
      "2911078  fr  2021-02-01  Canal+ boycotts the LFP call for tenders for TV rights to Ligue 1 and Ligue 2 - L'Équipe.fr\n",
      "2906353  pt  2021-02-01  Abel Braga breaks Jorge Jesus' record - A Bola\n",
      "2911322  th  2021-02-01  'Bow Wanda' hits back at netizens After being teased for 'living with dead people' - Naewna Newspaper\n",
      "2907517  en  2021-02-01  Teja Warns Vishwak, I'm In The Industry For 20 Years.. - Greatandhra.com\n",
      "2906521  en  2021-02-01  The Latest: Lockdown in Perth, Australia reaches 5 days - Bloomington Pantagraph\n",
      "2910628  en  2021-02-01  PH seen losing P700 million daily with Metro Manila, other regions under GCQ - ABS-CBN News\n",
      "2906696  en  2021-02-01  Washington health officials warn of COVID-19 exposure at Camas salon - KOMO News\n",
      "2907785  he  2021-02-01  Lior Rafalov received an offer from Beitar Jerusalem. All details | Sport 1 - Sport 1\n",
      "2907866  he  2021-02-01  3 more new corona infections in Beitar Jerusalem - One\n",
      "2907198  zh  2021-02-01  Apple's revenue exceeded US$100 billion for the first time, and the Chinese market, which has been talking about boycotting, broke another record - Yahoo News\n",
      "2909018  sr  2021-02-01  From tonight, weekdays at 19.25 on Prva - Alo!\n",
      "2907226  tr  2021-02-01  'Doomsday Clock' statement from scientists - NTV\n",
      "2911432  lv  2021-02-01  The procurement of taromat is announced - Dienas Bizness\n",
      "2907266  en  2021-02-01  Duterte approves 60-day price ceiling for pork, chicken - Rappler\n",
      "2908802  en  2021-02-01  Coronavirus: Many Australians are still stranded overseas | 9 News Australia - 9 News Australia\n",
      "2907787  en  2021-02-01  Psychedelic hues of Tokyo's 'kawaii' cafe doused by pandemic - The Business Times\n",
      "2907936  en  2021-02-01  Psychedelic hues of Tokyo's 'kawaii' cafe doused by pandemic - SaltWire Network\n",
      " 221873  sk  2020-08-17  How best to place the router in the apartment? - SME.sk\n",
      "2909734  pl  2021-02-01  Radek Kotarski: who is the YouTuber who broke the WOŚP record? Silhouette. Career - Plejada.pl\n",
      "2911826  no  2021-02-01  Microsoft is ready if Google leaves Australia - ITavisen.no\n",
      "-------  --  ----------  -----------------------------------------------------------------------------------------------------------------------------------------------------------------------------------------------------------------------------------------------\n"
     ]
    }
   ],
   "source": [
    "print(tabulate([(aid, by_ID[aid]['language'], by_ID[aid]['instances'][0]['collectedAt'].split('T')[0], by_ID[aid].get('en-title', by_ID[aid]['title'])) \n",
    "\t\t\t\tfor aid in sorted(clusters[clsid], key=lambda aid: importances[aid], reverse=True)]))"
   ],
   "metadata": {
    "collapsed": false,
    "ExecuteTime": {
     "end_time": "2023-11-06T17:50:05.125555995Z",
     "start_time": "2023-11-06T17:50:05.042217354Z"
    }
   },
   "id": "82d557119dfeae7c"
  },
  {
   "cell_type": "code",
   "execution_count": null,
   "outputs": [],
   "source": [],
   "metadata": {
    "collapsed": false
   },
   "id": "5bb92a32db921c5c"
  },
  {
   "cell_type": "code",
   "execution_count": null,
   "outputs": [],
   "source": [],
   "metadata": {
    "collapsed": false
   },
   "id": "48548d9f6267b60f"
  },
  {
   "cell_type": "code",
   "execution_count": 440,
   "outputs": [],
   "source": [
    "# w, f = keywords.most_common()[0]\n",
    "# w, f, any(not unicodedata.category(char).startswith('P') for char in w), w not in stop_words"
   ],
   "metadata": {
    "collapsed": false,
    "ExecuteTime": {
     "end_time": "2023-11-05T13:43:24.035701312Z",
     "start_time": "2023-11-05T13:43:23.963782659Z"
    }
   },
   "id": "1241146e15488fa7"
  },
  {
   "cell_type": "code",
   "execution_count": 26,
   "outputs": [
    {
     "name": "stdout",
     "output_type": "stream",
     "text": [
      "-------------  --\n",
      "silver         82\n",
      "liverpool      75\n",
      "year           73\n",
      "february       69\n",
      "may            60\n",
      "myanmar        49\n",
      "international  44\n",
      "1              43\n",
      "transfer       42\n",
      "coup           40\n",
      "billion        36\n",
      "eu             36\n",
      "last           35\n",
      "name           34\n",
      "stock          34\n",
      "science        33\n",
      "get            33\n",
      "channel        32\n",
      "san            29\n",
      "11             28\n",
      "high           27\n",
      "post           27\n",
      "network        26\n",
      "million        26\n",
      "pfizer         26\n",
      "military       26\n",
      "investing.com  25\n",
      "discover       25\n",
      "speed          25\n",
      "icloud         25\n",
      "-------------  --\n"
     ]
    }
   ],
   "source": [
    "print(tabulate(keywords.most_common(30)))"
   ],
   "metadata": {
    "collapsed": false,
    "ExecuteTime": {
     "end_time": "2023-11-05T14:39:05.202454472Z",
     "start_time": "2023-11-05T14:39:05.175951973Z"
    }
   },
   "id": "a70564613812f669"
  },
  {
   "cell_type": "code",
   "execution_count": 27,
   "outputs": [
    {
     "data": {
      "text/plain": "19"
     },
     "execution_count": 27,
     "metadata": {},
     "output_type": "execute_result"
    }
   ],
   "source": [
    "keywords['aung']"
   ],
   "metadata": {
    "collapsed": false,
    "ExecuteTime": {
     "end_time": "2023-11-05T14:39:14.459908501Z",
     "start_time": "2023-11-05T14:39:14.411401449Z"
    }
   },
   "id": "f5888b7a1eb93f2c"
  },
  {
   "cell_type": "code",
   "execution_count": 92,
   "outputs": [
    {
     "data": {
      "text/plain": "170"
     },
     "execution_count": 92,
     "metadata": {},
     "output_type": "execute_result"
    }
   ],
   "source": [
    "token = 'kyi'\n",
    "included = [ID for ID, bag in all_bags.items() if token in bag]\n",
    "len(included)"
   ],
   "metadata": {
    "collapsed": false,
    "ExecuteTime": {
     "end_time": "2023-11-06T17:12:59.442969731Z",
     "start_time": "2023-11-06T17:12:58.934181057Z"
    }
   },
   "id": "6676c1fd92f331d9"
  },
  {
   "cell_type": "code",
   "execution_count": 93,
   "outputs": [
    {
     "name": "stderr",
     "output_type": "stream",
     "text": [
      "/tmp/ipykernel_1128367/2288863398.py:2: UserWarning: Boolean Series key will be reindexed to match DataFrame index.\n",
      "  df[df['aid'].isin(included)][df['date'] == target]\n"
     ]
    },
    {
     "data": {
      "text/plain": "             aid                                              title  \\\n5299712  2906997  Coup d'état in Myanmar: the army takes power \"...   \n5020331  2910418  Military coup in Burma and Suu Kyi: answers an...   \n168220   2910066  Aung San Suu Kyi: The Myanmar Lady Who Became ...   \n527302   2910866  Burma, coup d'état: Aung San Suu Kyi arrested....   \n6164961  2906440  Army on the streets of Myanmar, Aung San Suu K...   \n6164972  2907976  The army staged a coup in Myanmar, Prime Minis...   \n2555915  2909178  [Aung San Suu Kyi was arrested] The Myanmar mi...   \n4315455  2907695  Aung San Suu Kyi, Myanmar leader, detained in ...   \n7240316  2910547  Aung San Suu Kyi and many others were detained...   \n3811936  2910175  Coup in Myanmar: Aung San Suu Kyi calls for pr...   \n4219037  2908388  Putsch in Myanmar. What Aung San Suu Kyi told ...   \n3636948  2908218  Aung San Suu Kyi's appeal to the Burmese popul...   \n4135306  2908083  A military coup took place in Myanmar. The cou...   \n1908218  2911912  Burma: Head of government, Aung San Suu Kyi, a...   \n5122607  2909302  Myanmar's leader Suu Kyi was arrested by the a...   \n436612   2911692  Myanmar's military has detained leader Aun San...   \n436611   2911692  Myanmar's military has detained leader Aun San...   \n1607298  2907304  Myanmar military stages coup and declares stat...   \n3480310  2911829  Military coup in Myanmar... Aung San Suu Kyi d...   \n6736353  2908506  Myanmar's military stages coup, detains Aung S...   \n\n                       source language               collectedAt location  \\\n5299712                Clarín       es 2021-02-01 14:11:00+00:00       ar   \n5020331            Www.nzz.ch       de 2021-02-01 14:11:00+00:00       ch   \n168220             News247.gr       el 2021-02-01 14:11:00+00:00       gr   \n527302   Ilfattoquotidiano.it       it 2021-02-01 14:11:00+00:00       it   \n6164961            Www.rts.rs       sr 2021-02-01 14:11:00+00:00       rs   \n6164972              Danas.rs       sr 2021-02-01 14:11:00+00:00       rs   \n2555915              Hket.com       zh 2021-02-01 14:11:00+00:00       hk   \n4315455           Thecable.ng       en 2021-02-01 14:11:00+00:00       ng   \n7240316              Sohu.com       zh 2021-02-01 14:11:00+00:00       cn   \n3811936   Süddeutsche Zeitung       de 2021-02-01 14:11:00+00:00       de   \n4219037             Pravda.sk       sk 2021-02-01 14:11:00+00:00       sk   \n3636948           Dpgmedia.be       fr 2021-02-01 14:11:00+00:00       be   \n4135306              BBC News       uk 2021-02-01 14:11:00+00:00       ua   \n1908218                 2m.ma       fr 2021-02-01 14:11:00+00:00       ma   \n5122607           Walla.co.il       he 2021-02-01 14:11:00+00:00       il   \n436612                    CNN       en 2021-02-01 14:11:00+00:00       us   \n436611                    CNN       en 2021-02-01 14:11:00+00:00       sa   \n1607298                News24       en 2021-02-01 14:11:00+00:00       za   \n3480310           Sedaily.com       ko 2021-02-01 14:11:00+00:00       kr   \n6736353    The Times of India       en 2021-02-01 14:11:00+00:00       in   \n\n        category          iid        date  \n5299712  general  2906997-000  2021-02-01  \n5020331  general  2910418-000  2021-02-01  \n168220   general  2910066-000  2021-02-01  \n527302   general  2910866-000  2021-02-01  \n6164961  general  2906440-000  2021-02-01  \n6164972  general  2907976-000  2021-02-01  \n2555915  general  2909178-000  2021-02-01  \n4315455  general  2907695-000  2021-02-01  \n7240316  general  2910547-000  2021-02-01  \n3811936  general  2910175-000  2021-02-01  \n4219037  general  2908388-000  2021-02-01  \n3636948  general  2908218-000  2021-02-01  \n4135306  general  2908083-000  2021-02-01  \n1908218  general  2911912-000  2021-02-01  \n5122607  general  2909302-000  2021-02-01  \n436612   general  2911692-001  2021-02-01  \n436611   general  2911692-000  2021-02-01  \n1607298  general  2907304-000  2021-02-01  \n3480310  general  2911829-000  2021-02-01  \n6736353  general  2908506-000  2021-02-01  ",
      "text/html": "<div>\n<style scoped>\n    .dataframe tbody tr th:only-of-type {\n        vertical-align: middle;\n    }\n\n    .dataframe tbody tr th {\n        vertical-align: top;\n    }\n\n    .dataframe thead th {\n        text-align: right;\n    }\n</style>\n<table border=\"1\" class=\"dataframe\">\n  <thead>\n    <tr style=\"text-align: right;\">\n      <th></th>\n      <th>aid</th>\n      <th>title</th>\n      <th>source</th>\n      <th>language</th>\n      <th>collectedAt</th>\n      <th>location</th>\n      <th>category</th>\n      <th>iid</th>\n      <th>date</th>\n    </tr>\n  </thead>\n  <tbody>\n    <tr>\n      <th>5299712</th>\n      <td>2906997</td>\n      <td>Coup d'état in Myanmar: the army takes power \"...</td>\n      <td>Clarín</td>\n      <td>es</td>\n      <td>2021-02-01 14:11:00+00:00</td>\n      <td>ar</td>\n      <td>general</td>\n      <td>2906997-000</td>\n      <td>2021-02-01</td>\n    </tr>\n    <tr>\n      <th>5020331</th>\n      <td>2910418</td>\n      <td>Military coup in Burma and Suu Kyi: answers an...</td>\n      <td>Www.nzz.ch</td>\n      <td>de</td>\n      <td>2021-02-01 14:11:00+00:00</td>\n      <td>ch</td>\n      <td>general</td>\n      <td>2910418-000</td>\n      <td>2021-02-01</td>\n    </tr>\n    <tr>\n      <th>168220</th>\n      <td>2910066</td>\n      <td>Aung San Suu Kyi: The Myanmar Lady Who Became ...</td>\n      <td>News247.gr</td>\n      <td>el</td>\n      <td>2021-02-01 14:11:00+00:00</td>\n      <td>gr</td>\n      <td>general</td>\n      <td>2910066-000</td>\n      <td>2021-02-01</td>\n    </tr>\n    <tr>\n      <th>527302</th>\n      <td>2910866</td>\n      <td>Burma, coup d'état: Aung San Suu Kyi arrested....</td>\n      <td>Ilfattoquotidiano.it</td>\n      <td>it</td>\n      <td>2021-02-01 14:11:00+00:00</td>\n      <td>it</td>\n      <td>general</td>\n      <td>2910866-000</td>\n      <td>2021-02-01</td>\n    </tr>\n    <tr>\n      <th>6164961</th>\n      <td>2906440</td>\n      <td>Army on the streets of Myanmar, Aung San Suu K...</td>\n      <td>Www.rts.rs</td>\n      <td>sr</td>\n      <td>2021-02-01 14:11:00+00:00</td>\n      <td>rs</td>\n      <td>general</td>\n      <td>2906440-000</td>\n      <td>2021-02-01</td>\n    </tr>\n    <tr>\n      <th>6164972</th>\n      <td>2907976</td>\n      <td>The army staged a coup in Myanmar, Prime Minis...</td>\n      <td>Danas.rs</td>\n      <td>sr</td>\n      <td>2021-02-01 14:11:00+00:00</td>\n      <td>rs</td>\n      <td>general</td>\n      <td>2907976-000</td>\n      <td>2021-02-01</td>\n    </tr>\n    <tr>\n      <th>2555915</th>\n      <td>2909178</td>\n      <td>[Aung San Suu Kyi was arrested] The Myanmar mi...</td>\n      <td>Hket.com</td>\n      <td>zh</td>\n      <td>2021-02-01 14:11:00+00:00</td>\n      <td>hk</td>\n      <td>general</td>\n      <td>2909178-000</td>\n      <td>2021-02-01</td>\n    </tr>\n    <tr>\n      <th>4315455</th>\n      <td>2907695</td>\n      <td>Aung San Suu Kyi, Myanmar leader, detained in ...</td>\n      <td>Thecable.ng</td>\n      <td>en</td>\n      <td>2021-02-01 14:11:00+00:00</td>\n      <td>ng</td>\n      <td>general</td>\n      <td>2907695-000</td>\n      <td>2021-02-01</td>\n    </tr>\n    <tr>\n      <th>7240316</th>\n      <td>2910547</td>\n      <td>Aung San Suu Kyi and many others were detained...</td>\n      <td>Sohu.com</td>\n      <td>zh</td>\n      <td>2021-02-01 14:11:00+00:00</td>\n      <td>cn</td>\n      <td>general</td>\n      <td>2910547-000</td>\n      <td>2021-02-01</td>\n    </tr>\n    <tr>\n      <th>3811936</th>\n      <td>2910175</td>\n      <td>Coup in Myanmar: Aung San Suu Kyi calls for pr...</td>\n      <td>Süddeutsche Zeitung</td>\n      <td>de</td>\n      <td>2021-02-01 14:11:00+00:00</td>\n      <td>de</td>\n      <td>general</td>\n      <td>2910175-000</td>\n      <td>2021-02-01</td>\n    </tr>\n    <tr>\n      <th>4219037</th>\n      <td>2908388</td>\n      <td>Putsch in Myanmar. What Aung San Suu Kyi told ...</td>\n      <td>Pravda.sk</td>\n      <td>sk</td>\n      <td>2021-02-01 14:11:00+00:00</td>\n      <td>sk</td>\n      <td>general</td>\n      <td>2908388-000</td>\n      <td>2021-02-01</td>\n    </tr>\n    <tr>\n      <th>3636948</th>\n      <td>2908218</td>\n      <td>Aung San Suu Kyi's appeal to the Burmese popul...</td>\n      <td>Dpgmedia.be</td>\n      <td>fr</td>\n      <td>2021-02-01 14:11:00+00:00</td>\n      <td>be</td>\n      <td>general</td>\n      <td>2908218-000</td>\n      <td>2021-02-01</td>\n    </tr>\n    <tr>\n      <th>4135306</th>\n      <td>2908083</td>\n      <td>A military coup took place in Myanmar. The cou...</td>\n      <td>BBC News</td>\n      <td>uk</td>\n      <td>2021-02-01 14:11:00+00:00</td>\n      <td>ua</td>\n      <td>general</td>\n      <td>2908083-000</td>\n      <td>2021-02-01</td>\n    </tr>\n    <tr>\n      <th>1908218</th>\n      <td>2911912</td>\n      <td>Burma: Head of government, Aung San Suu Kyi, a...</td>\n      <td>2m.ma</td>\n      <td>fr</td>\n      <td>2021-02-01 14:11:00+00:00</td>\n      <td>ma</td>\n      <td>general</td>\n      <td>2911912-000</td>\n      <td>2021-02-01</td>\n    </tr>\n    <tr>\n      <th>5122607</th>\n      <td>2909302</td>\n      <td>Myanmar's leader Suu Kyi was arrested by the a...</td>\n      <td>Walla.co.il</td>\n      <td>he</td>\n      <td>2021-02-01 14:11:00+00:00</td>\n      <td>il</td>\n      <td>general</td>\n      <td>2909302-000</td>\n      <td>2021-02-01</td>\n    </tr>\n    <tr>\n      <th>436612</th>\n      <td>2911692</td>\n      <td>Myanmar's military has detained leader Aun San...</td>\n      <td>CNN</td>\n      <td>en</td>\n      <td>2021-02-01 14:11:00+00:00</td>\n      <td>us</td>\n      <td>general</td>\n      <td>2911692-001</td>\n      <td>2021-02-01</td>\n    </tr>\n    <tr>\n      <th>436611</th>\n      <td>2911692</td>\n      <td>Myanmar's military has detained leader Aun San...</td>\n      <td>CNN</td>\n      <td>en</td>\n      <td>2021-02-01 14:11:00+00:00</td>\n      <td>sa</td>\n      <td>general</td>\n      <td>2911692-000</td>\n      <td>2021-02-01</td>\n    </tr>\n    <tr>\n      <th>1607298</th>\n      <td>2907304</td>\n      <td>Myanmar military stages coup and declares stat...</td>\n      <td>News24</td>\n      <td>en</td>\n      <td>2021-02-01 14:11:00+00:00</td>\n      <td>za</td>\n      <td>general</td>\n      <td>2907304-000</td>\n      <td>2021-02-01</td>\n    </tr>\n    <tr>\n      <th>3480310</th>\n      <td>2911829</td>\n      <td>Military coup in Myanmar... Aung San Suu Kyi d...</td>\n      <td>Sedaily.com</td>\n      <td>ko</td>\n      <td>2021-02-01 14:11:00+00:00</td>\n      <td>kr</td>\n      <td>general</td>\n      <td>2911829-000</td>\n      <td>2021-02-01</td>\n    </tr>\n    <tr>\n      <th>6736353</th>\n      <td>2908506</td>\n      <td>Myanmar's military stages coup, detains Aung S...</td>\n      <td>The Times of India</td>\n      <td>en</td>\n      <td>2021-02-01 14:11:00+00:00</td>\n      <td>in</td>\n      <td>general</td>\n      <td>2908506-000</td>\n      <td>2021-02-01</td>\n    </tr>\n  </tbody>\n</table>\n</div>"
     },
     "execution_count": 93,
     "metadata": {},
     "output_type": "execute_result"
    }
   ],
   "source": [
    "# matching instances\n",
    "df[df['aid'].isin(included)][df['date'] == target]"
   ],
   "metadata": {
    "collapsed": false,
    "ExecuteTime": {
     "end_time": "2023-11-06T17:12:59.888106161Z",
     "start_time": "2023-11-06T17:12:59.440304176Z"
    }
   },
   "id": "fe367281509e4f65"
  },
  {
   "cell_type": "code",
   "execution_count": null,
   "outputs": [],
   "source": [],
   "metadata": {
    "collapsed": false
   },
   "id": "f64f4e5a3ba53180"
  },
  {
   "cell_type": "code",
   "execution_count": null,
   "outputs": [],
   "source": [],
   "metadata": {
    "collapsed": false
   },
   "id": "3f471e4962c12a28"
  },
  {
   "cell_type": "code",
   "execution_count": null,
   "outputs": [],
   "source": [],
   "metadata": {
    "collapsed": false
   },
   "id": "8f77999dca2c1db8"
  },
  {
   "cell_type": "code",
   "execution_count": null,
   "outputs": [],
   "source": [],
   "metadata": {
    "collapsed": false
   },
   "id": "8b9b68f4b4f5a44c"
  },
  {
   "cell_type": "code",
   "execution_count": null,
   "outputs": [],
   "source": [],
   "metadata": {
    "collapsed": false
   },
   "id": "be42159d3bde84bb"
  },
  {
   "cell_type": "code",
   "execution_count": null,
   "outputs": [],
   "source": [],
   "metadata": {
    "collapsed": false
   },
   "id": "7d9d5dd795b61606"
  },
  {
   "cell_type": "code",
   "execution_count": null,
   "outputs": [],
   "source": [],
   "metadata": {
    "collapsed": false
   },
   "id": "ad91d0af77a60424"
  },
  {
   "cell_type": "code",
   "execution_count": null,
   "outputs": [],
   "source": [],
   "metadata": {
    "collapsed": false
   },
   "id": "8aa3a48511da59f"
  }
 ],
 "metadata": {
  "kernelspec": {
   "display_name": "Python 3",
   "language": "python",
   "name": "python3"
  },
  "language_info": {
   "codemirror_mode": {
    "name": "ipython",
    "version": 2
   },
   "file_extension": ".py",
   "mimetype": "text/x-python",
   "name": "python",
   "nbconvert_exporter": "python",
   "pygments_lexer": "ipython2",
   "version": "2.7.6"
  }
 },
 "nbformat": 4,
 "nbformat_minor": 5
}
