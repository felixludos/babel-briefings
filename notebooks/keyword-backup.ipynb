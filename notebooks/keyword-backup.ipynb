{
 "cells": [
  {
   "cell_type": "code",
   "execution_count": 2,
   "id": "initial_id",
   "metadata": {
    "collapsed": true,
    "ExecuteTime": {
     "end_time": "2023-11-05T14:08:02.177530919Z",
     "start_time": "2023-11-05T14:08:01.921378787Z"
    }
   },
   "outputs": [],
   "source": [
    "from pathlib import Path\n",
    "from tqdm.notebook import tqdm\n",
    "from tabulate import tabulate\n",
    "import random, json\n",
    "import pycountry\n",
    "from iso639 import languages\n",
    "import networkx as nx\n",
    "from dateutil import parser\n",
    "from datetime import datetime\n",
    "from collections import Counter\n",
    "from langdetect import detect\n",
    "from omnibelt import load_json, save_json"
   ]
  },
  {
   "cell_type": "code",
   "execution_count": 14,
   "outputs": [],
   "source": [
    "from wordcloud import WordCloud\n",
    "import nltk\n",
    "from nltk import word_tokenize, pos_tag, ne_chunk\n",
    "from nltk.stem import WordNetLemmatizer\n",
    "from nltk.corpus import stopwords\n",
    "from rake_nltk import Rake\n",
    "import spacy\n",
    "# from sklearn.cluster import DBSCAN\n",
    "# import numpy as np\n",
    "\n",
    "stop_words = set(stopwords.words('english'))\n",
    "stop_words.update(\"'s\", '|', 'I', \"n't\", \"`s\", \"'s\", 'n`t')\n",
    "\n",
    "# nlp = spacy.load('en_core_web_md')"
   ],
   "metadata": {
    "collapsed": false,
    "ExecuteTime": {
     "end_time": "2023-11-05T14:12:02.132904246Z",
     "start_time": "2023-11-05T14:12:01.163678706Z"
    }
   },
   "id": "d68287dc5cd515b9"
  },
  {
   "cell_type": "code",
   "execution_count": null,
   "outputs": [],
   "source": [
    "import Levenshtein\n",
    "from unidecode import unidecode\n",
    "import unicodedata"
   ],
   "metadata": {
    "collapsed": false
   },
   "id": "fc020f4a9ab865f0"
  },
  {
   "cell_type": "code",
   "execution_count": null,
   "outputs": [],
   "source": [
    "import pandas as pd\n",
    "import seaborn as sns\n",
    "import matplotlib.pyplot as plt\n",
    "import matplotlib.dates as mdates"
   ],
   "metadata": {
    "collapsed": false
   },
   "id": "4dde13e01b3c6eb0"
  },
  {
   "cell_type": "code",
   "execution_count": 3,
   "outputs": [
    {
     "data": {
      "text/plain": "54"
     },
     "execution_count": 3,
     "metadata": {},
     "output_type": "execute_result"
    }
   ],
   "source": [
    "lang_clusters = {'en': ['au', 'ca', 'gb', 'ie', 'in', 'my', 'ng', 'nz', 'ph', 'sa', 'sg', 'us', 'za'],\n",
    "\t\t\t\t 'es': ['ar', 'co', 'cu', 'mx', 've'], 'de': ['at', 'ch', 'de'], 'fr': ['be', 'fr', 'ma'],\n",
    "\t\t\t\t 'zh': ['cn', 'hk', 'tw'], 'ar': ['ae', 'eg'], 'pt': ['br', 'pt'], 'bg': ['bg'], 'cs': ['cz'],\n",
    "\t\t\t\t 'el': ['gr'], 'he': ['il'], 'hu': ['hu'], 'id': ['id'], 'it': ['it'], 'ja': ['jp'], 'ko': ['kr'],\n",
    "\t\t\t\t 'lt': ['lt'], 'lv': ['lv'], 'nl': ['nl'], 'no': ['no'], 'pl': ['pl'], 'ro': ['ro'], 'ru': ['ru'],\n",
    "\t\t\t\t 'sv': ['se'], 'sl': ['si'], 'sk': ['sk'], 'sr': ['rs'], 'th': ['th'], 'tr': ['tr'], 'uk': ['ua']}\n",
    "loc_names = {'gb': 'United Kingdom', 'ar': 'Argentina', 'pl': 'Poland', 'sk': 'Slovakia', 'us': 'United States',\n",
    "\t\t\t 'eg': 'Egypt', 'no': 'Norway', 'ph': 'Philippines', 'at': 'Austria', 'rs': 'Serbia', 'tw': 'Taiwan',\n",
    "\t\t\t 'be': 'Belgium', 'cu': 'Cuba', 'sa': 'Saudi Arabia', 'th': 'Thailand', 'id': 'Indonesia',\n",
    "\t\t\t 'ru': 'Russian Federation', 'ch': 'Switzerland', 'fr': 'France', 'lt': 'Lithuania', 'tr': 'Turkey',\n",
    "\t\t\t 'de': 'Germany', 'cz': 'Czechia', 'pt': 'Portugal', 'ae': 'United Arab Emirates', 'it': 'Italy',\n",
    "\t\t\t 'cn': 'China', 'lv': 'Latvia', 'nl': 'Netherlands', 'hk': 'Hong Kong', 'ca': 'Canada', 'br': 'Brazil',\n",
    "\t\t\t 'hu': 'Hungary', 'kr': 'Korea', 'si': 'Slovenia', 'au': 'Australia', 'my': 'Malaysia', 'ie': 'Ireland',\n",
    "\t\t\t 'ua': 'Ukraine', 'in': 'India', 'ma': 'Morocco', 'bg': 'Bulgaria', 'ng': 'Nigeria', 'il': 'Israel',\n",
    "\t\t\t 'se': 'Sweden', 'za': 'South Africa', 've': 'Venezuela', 'nz': 'New Zealand', 'jp': 'Japan',\n",
    "\t\t\t 'sg': 'Singapore', 'gr': 'Greece', 'mx': 'Mexico', 'co': 'Colombia', 'ro': 'Romania'}\n",
    "lang_names = {'en': 'English', 'ko': 'Korean', 'ru': 'Russian', 'es': 'Spanish', 'pt': 'Portuguese', 'cs': 'Czech',\n",
    "\t\t\t  'tr': 'Turkish', 'nl': 'Dutch', 'ar': 'Arabic', 'fr': 'French', 'bg': 'Bulgarian', 'id': 'Indonesian',\n",
    "\t\t\t  'sk': 'Slovak', 'el': 'Greek', 'he': 'Hebrew', 'sr': 'Serbian', 'hu': 'Hungarian', 'th': 'Thai',\n",
    "\t\t\t  'zh': 'Chinese', 'no': 'Norwegian', 'sl': 'Slovenian', 'sv': 'Swedish', 'de': 'German', 'lv': 'Latvian',\n",
    "\t\t\t  'pl': 'Polish', 'it': 'Italian', 'ro': 'Romanian', 'lt': 'Lithuanian', 'ja': 'Japanese',\n",
    "\t\t\t  'uk': 'Ukrainian'}\n",
    "cluster_id = {loc: lang for lang, locs in lang_clusters.items() for loc in locs}\n",
    "len(cluster_id)"
   ],
   "metadata": {
    "collapsed": false,
    "ExecuteTime": {
     "end_time": "2023-11-05T14:08:02.431325507Z",
     "start_time": "2023-11-05T14:08:02.370206378Z"
    }
   },
   "id": "2aaed80af771fb0f"
  },
  {
   "cell_type": "code",
   "execution_count": 4,
   "outputs": [],
   "source": [
    "def show_date(date):\n",
    "\treturn date.strftime('%d %b%y')\n",
    "def get_locs(article):\n",
    "\treturn [f'{loc_names[loc]}' for loc in sorted(set(i['location'] for i in article['instances']))]\n",
    "def get_cats(article):\n",
    "\treturn [f'<{cat}>' for cat in sorted(set(i['category'] for i in article['instances']))]\n",
    "def view_article(art, detailed=False):\n",
    "\tcats = ' '.join(get_cats(art))\n",
    "\tlocs = ', '.join(map(repr, get_locs(art)))\n",
    "\tpublished = parser.parse(art['publishedAt'])\n",
    "\tcollected = [parser.parse(i['collectedAt']) for i in art['instances']]\n",
    "\tfirst = min(collected)\n",
    "\tlast = max(collected)\n",
    "\ttiming = f'{show_date(first)}' if first == last else f'{show_date(first)} - {show_date(last)}'\n",
    "\n",
    "\tlines = []\n",
    "\tif 'en-title' in art:\n",
    "\t\tlines.append(f'English Title: {art[\"en-title\"]!r}')\n",
    "\tlines.append(f'{lang_names[art[\"language\"]]} Title: {art[\"title\"]!r}')\n",
    "\tlines.append(f'Categories: {cats}  ---   {locs} ({timing})  ---  {art[\"source-name\"]}')\n",
    "\n",
    "\tif detailed:\n",
    "\t\tadded_desc = False\n",
    "\t\tdesc = art.get('description')\n",
    "\t\ten_desc = art.get('en-description')\n",
    "\t\tif en_desc is not None and len(en_desc):\n",
    "\t\t\tlines.append(f'English Description: {en_desc}')\n",
    "\t\t\tadded_desc = True\n",
    "\t\tif desc is not None and len(desc):\n",
    "\t\t\tlines.append(f'{lang_names[art[\"language\"]]} Description: {desc}')\n",
    "\t\t\tadded_desc = True\n",
    "\t\tif not added_desc:\n",
    "\t\t\tlines.append(f'- No description -')\n",
    "\tprint('\\n'.join(lines))"
   ],
   "metadata": {
    "collapsed": false,
    "ExecuteTime": {
     "end_time": "2023-11-05T14:08:03.337953613Z",
     "start_time": "2023-11-05T14:08:03.276325970Z"
    }
   },
   "id": "f3328ed774ca9a7a"
  },
  {
   "cell_type": "code",
   "execution_count": 5,
   "outputs": [
    {
     "data": {
      "text/plain": "  0%|          | 0/54 [00:00<?, ?it/s]",
      "application/vnd.jupyter.widget-view+json": {
       "version_major": 2,
       "version_minor": 0,
       "model_id": "3bfb9b939f344496bf277271d78ca58e"
      }
     },
     "metadata": {},
     "output_type": "display_data"
    },
    {
     "data": {
      "text/plain": "4719199"
     },
     "execution_count": 5,
     "metadata": {},
     "output_type": "execute_result"
    }
   ],
   "source": [
    "root = Path('/home/fleeb/workspace/local_data/nnn')\n",
    "recs = (root / 'babel-briefings-v1').glob('**/*.json')\n",
    "recs = list(recs)\n",
    "len(recs)\n",
    "articles = []\n",
    "for rec in tqdm(recs):\n",
    "\tarticles.extend(load_json(rec))\n",
    "len(articles)"
   ],
   "metadata": {
    "collapsed": false,
    "ExecuteTime": {
     "end_time": "2023-11-05T14:08:53.855085792Z",
     "start_time": "2023-11-05T14:08:04.479777436Z"
    }
   },
   "id": "40a5912898e5088"
  },
  {
   "cell_type": "code",
   "execution_count": 6,
   "outputs": [
    {
     "data": {
      "text/plain": "  0%|          | 0/4719199 [00:00<?, ?it/s]",
      "application/vnd.jupyter.widget-view+json": {
       "version_major": 2,
       "version_minor": 0,
       "model_id": "5017b93fc2764092a7b650b8a6c10c07"
      }
     },
     "metadata": {},
     "output_type": "display_data"
    },
    {
     "data": {
      "text/plain": "(54, 30)"
     },
     "execution_count": 6,
     "metadata": {},
     "output_type": "execute_result"
    }
   ],
   "source": [
    "by_loc = {}\n",
    "by_lang = {}\n",
    "by_source = {}\n",
    "by_ID = {}\n",
    "for article in tqdm(articles):\n",
    "\tby_ID[article['ID']] = article\n",
    "\t# article['published'] = parser.parse(article['publishedAt'])\n",
    "\tby_source.setdefault(article['source-name'], []).append(article)\n",
    "\tby_lang.setdefault(article['language'], []).append(article)\n",
    "\tfor instance in article['instances']:\n",
    "\t\t# instance['collected'] = parser.parse(instance['collectedAt'])\n",
    "\t\tby_loc.setdefault(instance['location'], []).append(article)\n",
    "len(by_loc), len(by_lang)"
   ],
   "metadata": {
    "collapsed": false,
    "ExecuteTime": {
     "end_time": "2023-11-05T14:08:57.959168439Z",
     "start_time": "2023-11-05T14:08:53.850970630Z"
    }
   },
   "id": "885dfa17cff11bd3"
  },
  {
   "cell_type": "code",
   "execution_count": 159,
   "outputs": [],
   "source": [],
   "metadata": {
    "collapsed": false,
    "ExecuteTime": {
     "end_time": "2023-11-03T16:23:11.952365156Z",
     "start_time": "2023-11-03T16:23:11.147404254Z"
    }
   },
   "id": "655633fb19ed3c8e"
  },
  {
   "cell_type": "code",
   "execution_count": null,
   "outputs": [],
   "source": [],
   "metadata": {
    "collapsed": false
   },
   "id": "99314156f236449c"
  },
  {
   "cell_type": "code",
   "execution_count": 12,
   "outputs": [
    {
     "ename": "NameError",
     "evalue": "name 'spacy' is not defined",
     "output_type": "error",
     "traceback": [
      "\u001B[0;31m---------------------------------------------------------------------------\u001B[0m",
      "\u001B[0;31mNameError\u001B[0m                                 Traceback (most recent call last)",
      "Cell \u001B[0;32mIn[12], line 1\u001B[0m\n\u001B[0;32m----> 1\u001B[0m nlp \u001B[38;5;241m=\u001B[39m \u001B[43mspacy\u001B[49m\u001B[38;5;241m.\u001B[39mload(\u001B[38;5;124m'\u001B[39m\u001B[38;5;124men_core_web_md\u001B[39m\u001B[38;5;124m'\u001B[39m)\n\u001B[1;32m      2\u001B[0m \u001B[38;5;66;03m# rake_nltk_var = Rake()\u001B[39;00m\n\u001B[1;32m      3\u001B[0m \u001B[38;5;66;03m# lemmatizer = WordNetLemmatizer()\u001B[39;00m\n",
      "\u001B[0;31mNameError\u001B[0m: name 'spacy' is not defined"
     ]
    }
   ],
   "source": [
    "\n",
    "\n",
    "nlp = spacy.load('en_core_web_md')\n",
    "# rake_nltk_var = Rake()\n",
    "# lemmatizer = WordNetLemmatizer()"
   ],
   "metadata": {
    "collapsed": false,
    "ExecuteTime": {
     "end_time": "2023-11-05T14:11:44.573747858Z",
     "start_time": "2023-11-05T14:11:44.530933610Z"
    }
   },
   "id": "ad5e600c6d89dff5"
  },
  {
   "cell_type": "code",
   "execution_count": null,
   "outputs": [],
   "source": [
    "noun_phrases = []\n",
    "for headline in headlines:\n",
    "    doc = nlp(headline)\n",
    "    for p in doc.noun_chunks:\n",
    "        noun_phrases.append(str(p))\n",
    "\n",
    "# Convert noun phrases to vectors\n",
    "vectors = [nlp(p).vector for p in noun_phrases]\n",
    "\n",
    "# Apply DBSCAN clustering\n",
    "clustering = DBSCAN(eps=0.5, min_samples=1, metric='cosine').fit(np.array(vectors))\n",
    "labels = clustering.labels_\n",
    "\n",
    "# Group noun phrases based on clustering results\n",
    "groups = {}\n",
    "for np, label in zip(noun_phrases, labels):\n",
    "    if label not in groups:\n",
    "        groups[label] = []\n",
    "    groups[label].append(np)\n",
    "\n",
    "# Print the grouped noun phrases\n",
    "for label, nps in groups.items():\n",
    "    print(f\"Group {label}: {nps}\")"
   ],
   "metadata": {
    "collapsed": false
   },
   "id": "cf44f02535b1907a"
  },
  {
   "cell_type": "code",
   "execution_count": 9,
   "outputs": [
    {
     "data": {
      "text/plain": "  0%|          | 0/4719199 [00:00<?, ?it/s]",
      "application/vnd.jupyter.widget-view+json": {
       "version_major": 2,
       "version_minor": 0,
       "model_id": "bce6ef7fbda54b8dbd781aaf36049a64"
      }
     },
     "metadata": {},
     "output_type": "display_data"
    },
    {
     "data": {
      "text/plain": "27116"
     },
     "execution_count": 9,
     "metadata": {},
     "output_type": "execute_result"
    }
   ],
   "source": [],
   "metadata": {
    "collapsed": false,
    "ExecuteTime": {
     "end_time": "2023-11-03T13:35:29.102543727Z",
     "start_time": "2023-11-03T13:35:27.495458638Z"
    }
   },
   "id": "e6e5670aa129c6e1"
  },
  {
   "cell_type": "code",
   "execution_count": null,
   "outputs": [],
   "source": [],
   "metadata": {
    "collapsed": false
   },
   "id": "60e3e9e88161841f"
  },
  {
   "cell_type": "code",
   "execution_count": null,
   "outputs": [],
   "source": [],
   "metadata": {
    "collapsed": false
   },
   "id": "cda675db6f7176a4"
  },
  {
   "cell_type": "code",
   "execution_count": null,
   "outputs": [],
   "source": [],
   "metadata": {
    "collapsed": false
   },
   "id": "58e29acb75de445b"
  },
  {
   "cell_type": "code",
   "execution_count": 7,
   "outputs": [
    {
     "data": {
      "text/plain": "259718"
     },
     "execution_count": 7,
     "metadata": {},
     "output_type": "execute_result"
    }
   ],
   "source": [
    "batch = by_lang['de']\n",
    "len(batch)"
   ],
   "metadata": {
    "collapsed": false,
    "ExecuteTime": {
     "end_time": "2023-11-03T13:33:36.722508705Z",
     "start_time": "2023-11-03T13:33:36.716103473Z"
    }
   },
   "id": "a6023af18feaf95f"
  },
  {
   "cell_type": "code",
   "execution_count": 8,
   "outputs": [
    {
     "name": "stdout",
     "output_type": "stream",
     "text": [
      "English Title: 'WhatsApp opens up unimagined possibilities: When will this audio function come? - inside digital'\n",
      "German Title: 'WhatsApp eröffnet ungeahnte Möglichkeiten: Wann kommt diese Audio-Funktion? - inside digital'\n",
      "Categories: <technology>  ---   'Germany' (04 Oct21 - 05 Oct21)\n",
      "English Description: The recipient of voice messages on WhatsApp can only listen and wait while listening. At least until now.\n",
      "German Description: Der Empfänger von Sprachnachrichten bei WhatsApp kann während des Abhörens nur zuhören und abwarten. Zumindest bis jetzt.\n",
      "inside digital\n"
     ]
    }
   ],
   "source": [
    "art = random.choice(batch)\n",
    "view_article(art, detailed=True)\n",
    "print(art['source-name'])"
   ],
   "metadata": {
    "collapsed": false,
    "ExecuteTime": {
     "end_time": "2023-11-03T13:33:36.746576469Z",
     "start_time": "2023-11-03T13:33:36.718596446Z"
    }
   },
   "id": "344957ccf1296321"
  },
  {
   "cell_type": "code",
   "execution_count": 95,
   "outputs": [
    {
     "data": {
      "text/plain": "1437"
     },
     "execution_count": 95,
     "metadata": {},
     "output_type": "execute_result"
    }
   ],
   "source": [
    "sources = {}\n",
    "for art in batch:\n",
    "\tsources.setdefault(art['source-name'], []).append(art)\n",
    "len(sources)"
   ],
   "metadata": {
    "collapsed": false,
    "ExecuteTime": {
     "end_time": "2023-11-02T17:07:43.597259380Z",
     "start_time": "2023-11-02T17:07:43.554885002Z"
    }
   },
   "id": "6e986750617e3da1"
  },
  {
   "cell_type": "code",
   "execution_count": 119,
   "outputs": [
    {
     "data": {
      "text/plain": "('Www.otz.de', 5)"
     },
     "execution_count": 119,
     "metadata": {},
     "output_type": "execute_result"
    }
   ],
   "source": [
    "src, arts = random.choice(list(sources.items()))\n",
    "src, len(arts)"
   ],
   "metadata": {
    "collapsed": false,
    "ExecuteTime": {
     "end_time": "2023-11-02T17:35:11.576677705Z",
     "start_time": "2023-11-02T17:35:11.552866219Z"
    }
   },
   "id": "588e7282bd9679f6"
  },
  {
   "cell_type": "code",
   "execution_count": 120,
   "outputs": [
    {
     "data": {
      "text/plain": "[['Ex-basketball player Dirk Nowitzki extends contract with Thüringer Bauerfeind AG',\n  'Ostthüringer Zeitung'],\n ['No stadium solution for Viktoria Berlin: FC Carl Zeiss Jena as a beneficiary?',\n  'Ostthüringer Zeitung'],\n ['Thuringian State Observatory measures over 8,000 potential threats to the Earth',\n  'Ostthüringer Zeitung'],\n ['Participants from Jena wanted for study on corona consequences',\n  'Thuringian state newspaper'],\n ['Greiz district: Introduced viruses are becoming more common',\n  'Ostthüringer Zeitung']]"
     },
     "execution_count": 120,
     "metadata": {},
     "output_type": "execute_result"
    }
   ],
   "source": [
    "segs = [a.get('en-title', art['title']).split(' - ') for a in arts]\n",
    "segs"
   ],
   "metadata": {
    "collapsed": false,
    "ExecuteTime": {
     "end_time": "2023-11-02T17:35:11.791495509Z",
     "start_time": "2023-11-02T17:35:11.752771465Z"
    }
   },
   "id": "9ea785c976242f37"
  },
  {
   "cell_type": "code",
   "execution_count": 8,
   "outputs": [],
   "source": [
    "# endterms = [x.get('en-title', art['title']).split(' - ')[-1] for x in xs]\n",
    "# endterms"
   ],
   "metadata": {
    "collapsed": false,
    "ExecuteTime": {
     "end_time": "2023-11-05T14:09:40.903123421Z",
     "start_time": "2023-11-05T14:09:40.865310677Z"
    }
   },
   "id": "caeb58b6eef9a2f0"
  },
  {
   "cell_type": "code",
   "execution_count": 46,
   "outputs": [],
   "source": [],
   "metadata": {
    "collapsed": false,
    "ExecuteTime": {
     "end_time": "2023-11-03T14:06:58.895769475Z",
     "start_time": "2023-11-03T14:06:58.841203841Z"
    }
   },
   "id": "6b9aead04c36d5b2"
  },
  {
   "cell_type": "code",
   "execution_count": 55,
   "outputs": [],
   "source": [
    "def str_similarity(string1: str, string2: str):\n",
    "\tdistance = Levenshtein.distance(string1, string2)\n",
    "\tsimilarity = 1 - (distance / max(len(string1), len(string2)))\n",
    "\treturn similarity\n",
    "def capsim(s1, s2):\n",
    "\ts1, s2 = unidecode(s1), unidecode(s2)\n",
    "\treturn (str_similarity(s1.lower(), s2.lower()) + str_similarity(s1, s2)) / 2"
   ],
   "metadata": {
    "collapsed": false,
    "ExecuteTime": {
     "end_time": "2023-11-03T14:09:19.947515534Z",
     "start_time": "2023-11-03T14:09:19.920920210Z"
    }
   },
   "id": "fe5f4a8e986b8b3c"
  },
  {
   "cell_type": "code",
   "execution_count": 18,
   "outputs": [
    {
     "data": {
      "text/plain": "  0%|          | 0/4719199 [00:00<?, ?it/s]",
      "application/vnd.jupyter.widget-view+json": {
       "version_major": 2,
       "version_minor": 0,
       "model_id": "6c0ec274dbfc4f569fe04af6846502ac"
      }
     },
     "metadata": {},
     "output_type": "display_data"
    }
   ],
   "source": [
    "todo = list(articles)\n",
    "pbar = tqdm(total=len(todo))"
   ],
   "metadata": {
    "collapsed": false,
    "ExecuteTime": {
     "end_time": "2023-11-03T13:46:12.773498108Z",
     "start_time": "2023-11-03T13:46:12.726294191Z"
    }
   },
   "id": "13a6df18df6b48c5"
  },
  {
   "cell_type": "code",
   "execution_count": null,
   "outputs": [],
   "source": [
    "# eng vs orig\n",
    "# source-name\n",
    "# suffix degree\n",
    "\n",
    "class Enders:\n",
    "\tdef __init__(self, world):\n",
    "\t\tself.en = {}\n",
    "\t\tself.orig = {}"
   ],
   "metadata": {
    "collapsed": false
   },
   "id": "a0661c9a95179ff4"
  },
  {
   "cell_type": "code",
   "execution_count": 61,
   "outputs": [],
   "source": [
    "def add_title(table, src, title):\n",
    "\tkey = unidecode(src)\n",
    "\tif key not in table:\n",
    "\t\ttable[key] = []\n",
    "\tsegs = unidecode(title).split(' - ')[1:]\n",
    "\tfor i, seg in enumerate(reversed(segs)):\n",
    "\t\tif i >= len(table[key]):\n",
    "\t\t\ttable[key].append(Counter())\n",
    "\t\tcnt = table[key][i]\n",
    "\t\tcnt.update([seg])"
   ],
   "metadata": {
    "collapsed": false,
    "ExecuteTime": {
     "end_time": "2023-11-03T14:50:41.641423532Z",
     "start_time": "2023-11-03T14:50:41.611891819Z"
    }
   },
   "id": "5eddf925da816725"
  },
  {
   "cell_type": "code",
   "execution_count": 62,
   "outputs": [
    {
     "data": {
      "text/plain": "  0%|          | 0/27116 [00:00<?, ?it/s]",
      "application/vnd.jupyter.widget-view+json": {
       "version_major": 2,
       "version_minor": 0,
       "model_id": "012b8cf705074f1fb9949c33fb5b924d"
      }
     },
     "metadata": {},
     "output_type": "display_data"
    }
   ],
   "source": [
    "orig_table = {}\n",
    "engl_table = {}\n",
    "\n",
    "for src, arts in tqdm(by_source.items()):\n",
    "\tfor art in arts:\n",
    "\t\tadd_title(orig_table if 'en-title' in art else engl_table, src, art['title'])\n",
    "\t\tif 'en-title' in art:\n",
    "\t\t\tadd_title(engl_table, src, art['en-title'])"
   ],
   "metadata": {
    "collapsed": false,
    "ExecuteTime": {
     "end_time": "2023-11-03T14:53:24.765885716Z",
     "start_time": "2023-11-03T14:52:34.594456732Z"
    }
   },
   "id": "8dea6e28fb176f36"
  },
  {
   "cell_type": "code",
   "execution_count": 69,
   "outputs": [
    {
     "name": "stdout",
     "output_type": "stream",
     "text": [
      "English Title: 'Microsoft - PC Forum publishes a keyboard with only number keys'\n",
      "Hungarian Title: 'Csak számgombokból álló billentyűzetet ad ki a Microsoft - PC Fórum'\n",
      "Categories: <technology>  ---   'Hungary' (03 Oct20 - 06 Oct20)  ---  Pcforum.hu\n",
      "English Description: Welcome to the PC Forum!\n",
      "Hungarian Description: Üdvözlünk a PC Fórum-n!\n"
     ]
    }
   ],
   "source": [
    "sel = [art for art in by_loc['hu'] if art.get('en-title', '').endswith('PC Forum publishes a keyboard with only number keys')]\n",
    "art = random.choice(sel)\n",
    "view_article(art, detailed=True)"
   ],
   "metadata": {
    "collapsed": false,
    "ExecuteTime": {
     "end_time": "2023-11-03T15:03:16.219285514Z",
     "start_time": "2023-11-03T15:03:16.156774917Z"
    }
   },
   "id": "460f113c96482a3f"
  },
  {
   "cell_type": "code",
   "execution_count": 98,
   "outputs": [],
   "source": [
    "\n",
    "\n",
    "\n",
    "class SmartFilter:\n",
    "\tdef __init__(self, art):\n",
    "\t\tself.art = art\n",
    "\t\tself.base = art.get('en-title', art['title'])\n",
    "\t\tself.orig_base = art['title'] if 'en-title' in art else self.base\n",
    "\t\tsrc = art['source-name']\n",
    "\t\tcommon = by_source[src]\n",
    "\t\tendings = Counter([common.get('en-title', art['title']).split(' - ')[-1] for common in common])\n",
    "\t\tself.src = src\n",
    "\t\tself.endings = endings\n",
    "\t\t\n",
    "\t\t\n",
    "\tdef clean_title(self):\n",
    "\t\tbase = self.base\n",
    "\t\torig_base = self.orig_base\n",
    "\t\t\n",
    "\t\tsegs = base.split(' - ')\n",
    "\t\t\n",
    "\t\tassert len(segs) == 2, f'Bad title: {base!r}'\n",
    "\t\t\n",
    "\t\twhile len(segs) > 1:\n",
    "\t\t\tcand = segs.pop()\n",
    "\t\t\t\n",
    "\t\t\t\n",
    "\t\t\t\n",
    "\t\t\tpass\n",
    "\t\t\n",
    "\t\treturn segs[0]\n",
    "\t\t\n",
    "\n",
    "def preprocess_title(art):\n",
    "\tbase = art.get('en-title', art['title'])\n",
    "\torig_base = art['title'] if 'en-title' in art else base\n",
    "\tsegs = base.split(' - ')\n",
    "\t\n",
    "\tassert len(segs) == 2, f'Bad title: {base!r}'\n",
    "\t\n",
    "\twhile len(segs) > 1:\n",
    "\t\tcand = segs.pop()\n",
    "\t\t\n",
    "\t\t\n",
    "\t\t\n",
    "\t\tpass\n",
    "\t\n",
    "\treturn segs[0]\n",
    "\t\n",
    "\tif len(segs) == 1:\n",
    "\t\treturn base\n",
    "\tif len(segs) > 2:\n",
    "\t\tinfo, *rest = segs\n",
    "\t\treturn info\n",
    "\treturn segs[0]"
   ],
   "metadata": {
    "collapsed": false,
    "ExecuteTime": {
     "end_time": "2023-11-03T15:40:29.001394809Z",
     "start_time": "2023-11-03T15:40:28.946297391Z"
    }
   },
   "id": "7dba9ab21eb4817e"
  },
  {
   "cell_type": "code",
   "execution_count": 20,
   "outputs": [
    {
     "ename": "AssertionError",
     "evalue": "Bad title: 'Hrdina Pastrňák. Český kanonýr rozhodl tři minuty před koncem o výhře Bostonu - Aktuálně.cz - Aktuálně.cz'",
     "output_type": "error",
     "traceback": [
      "\u001B[0;31m---------------------------------------------------------------------------\u001B[0m",
      "\u001B[0;31mAssertionError\u001B[0m                            Traceback (most recent call last)",
      "Cell \u001B[0;32mIn[20], line 4\u001B[0m\n\u001B[1;32m      2\u001B[0m art \u001B[38;5;241m=\u001B[39m todo\u001B[38;5;241m.\u001B[39mpop()\n\u001B[1;32m      3\u001B[0m \u001B[38;5;28;01mtry\u001B[39;00m:\n\u001B[0;32m----> 4\u001B[0m \tclean \u001B[38;5;241m=\u001B[39m \u001B[43mpreprocess_title\u001B[49m\u001B[43m(\u001B[49m\u001B[43mart\u001B[49m\u001B[43m)\u001B[49m\n\u001B[1;32m      5\u001B[0m \u001B[38;5;28;01mexcept\u001B[39;00m:\n\u001B[1;32m      6\u001B[0m \ttodo\u001B[38;5;241m.\u001B[39mappend(art)\n",
      "Cell \u001B[0;32mIn[19], line 6\u001B[0m, in \u001B[0;36mpreprocess_title\u001B[0;34m(art)\u001B[0m\n\u001B[1;32m      3\u001B[0m orig_base \u001B[38;5;241m=\u001B[39m art[\u001B[38;5;124m'\u001B[39m\u001B[38;5;124mtitle\u001B[39m\u001B[38;5;124m'\u001B[39m] \u001B[38;5;28;01mif\u001B[39;00m \u001B[38;5;124m'\u001B[39m\u001B[38;5;124men-title\u001B[39m\u001B[38;5;124m'\u001B[39m \u001B[38;5;129;01min\u001B[39;00m art \u001B[38;5;28;01melse\u001B[39;00m base\n\u001B[1;32m      4\u001B[0m segs \u001B[38;5;241m=\u001B[39m base\u001B[38;5;241m.\u001B[39msplit(\u001B[38;5;124m'\u001B[39m\u001B[38;5;124m - \u001B[39m\u001B[38;5;124m'\u001B[39m)\n\u001B[0;32m----> 6\u001B[0m \u001B[38;5;28;01massert\u001B[39;00m \u001B[38;5;28mlen\u001B[39m(segs) \u001B[38;5;241m==\u001B[39m \u001B[38;5;241m2\u001B[39m, \u001B[38;5;124mf\u001B[39m\u001B[38;5;124m'\u001B[39m\u001B[38;5;124mBad title: \u001B[39m\u001B[38;5;132;01m{\u001B[39;00morig_base\u001B[38;5;132;01m!r}\u001B[39;00m\u001B[38;5;124m'\u001B[39m\n\u001B[1;32m      8\u001B[0m \u001B[38;5;28;01mif\u001B[39;00m \u001B[38;5;28mlen\u001B[39m(segs) \u001B[38;5;241m==\u001B[39m \u001B[38;5;241m1\u001B[39m:\n\u001B[1;32m      9\u001B[0m \t\u001B[38;5;28;01mreturn\u001B[39;00m base\n",
      "\u001B[0;31mAssertionError\u001B[0m: Bad title: 'Hrdina Pastrňák. Český kanonýr rozhodl tři minuty před koncem o výhře Bostonu - Aktuálně.cz - Aktuálně.cz'"
     ]
    }
   ],
   "source": [
    "while len(todo):\n",
    "\tart = todo.pop()\n",
    "\ttry:\n",
    "\t\tclean = preprocess_title(art)\n",
    "\texcept:\n",
    "\t\ttodo.append(art)\n",
    "\t\traise\n",
    "\telse:\n",
    "\t\tpbar.update(1)"
   ],
   "metadata": {
    "collapsed": false,
    "ExecuteTime": {
     "end_time": "2023-11-03T13:47:26.758985873Z",
     "start_time": "2023-11-03T13:47:26.570539925Z"
    }
   },
   "id": "4c54b039c7f9dff7"
  },
  {
   "cell_type": "code",
   "execution_count": 29,
   "outputs": [
    {
     "name": "stdout",
     "output_type": "stream",
     "text": [
      "English Title: 'The hero Pastrňák. The Czech gunner decided to win Boston three minutes before the end - Aktuálně.cz - Aktuálně.cz'\n",
      "Czech Title: 'Hrdina Pastrňák. Český kanonýr rozhodl tři minuty před koncem o výhře Bostonu - Aktuálně.cz - Aktuálně.cz'\n",
      "Categories: <sports>  ---   'Czechia' (29 Nov21)  ---  Aktualne.cz\n",
      "English Description: The Czech forward made his mark on the power play when he scored his seventh goal of the season after Brad Marchand's cross pass across the goal area.\n",
      "Czech Description: Český útočník se prosadil v přesilové hře, kdy po křižné přihrávce Brada Marchanda přes brankoviště vstřelil svůj sedmý gól v sezoně.\n"
     ]
    }
   ],
   "source": [
    "view_article(art, detailed=True)"
   ],
   "metadata": {
    "collapsed": false,
    "ExecuteTime": {
     "end_time": "2023-11-03T13:52:19.425044477Z",
     "start_time": "2023-11-03T13:52:19.371427746Z"
    }
   },
   "id": "d8c1359904b4f8eb"
  },
  {
   "cell_type": "code",
   "execution_count": 49,
   "outputs": [
    {
     "data": {
      "text/plain": "4538"
     },
     "execution_count": 49,
     "metadata": {},
     "output_type": "execute_result"
    }
   ],
   "source": [
    "src = art['source-name']\n",
    "common = by_source[src]\n",
    "endings = Counter([common.get('en-title', art['title']).split(' - ')[-1] for common in common])\n",
    "len(common)"
   ],
   "metadata": {
    "collapsed": false,
    "ExecuteTime": {
     "end_time": "2023-11-03T14:07:52.178438476Z",
     "start_time": "2023-11-03T14:07:52.141768152Z"
    }
   },
   "id": "18d1fa6ab33225ce"
  },
  {
   "cell_type": "code",
   "execution_count": 48,
   "outputs": [
    {
     "data": {
      "text/plain": "1.0"
     },
     "execution_count": 48,
     "metadata": {},
     "output_type": "execute_result"
    }
   ],
   "source": [
    "capsim('Apple announces new iPhone', 'Apple announces new iPhone')"
   ],
   "metadata": {
    "collapsed": false,
    "ExecuteTime": {
     "end_time": "2023-11-03T14:07:35.134060154Z",
     "start_time": "2023-11-03T14:07:35.105816474Z"
    }
   },
   "id": "1249ec7f293d2180"
  },
  {
   "cell_type": "code",
   "execution_count": null,
   "outputs": [],
   "source": [],
   "metadata": {
    "collapsed": false
   },
   "id": "64a421080888256b"
  },
  {
   "cell_type": "code",
   "execution_count": 51,
   "outputs": [],
   "source": [
    "base = art.get('en-title', art['title'])\n",
    "orig_base = art['title'] if 'en-title' in art else base\n",
    "segs = base.split(' - ')"
   ],
   "metadata": {
    "collapsed": false,
    "ExecuteTime": {
     "end_time": "2023-11-03T14:08:51.796490546Z",
     "start_time": "2023-11-03T14:08:51.729304162Z"
    }
   },
   "id": "b4f02b693fde3cd4"
  },
  {
   "cell_type": "code",
   "execution_count": 52,
   "outputs": [
    {
     "data": {
      "text/plain": "'Aktuálně.cz'"
     },
     "execution_count": 52,
     "metadata": {},
     "output_type": "execute_result"
    }
   ],
   "source": [
    "cand = segs[-1]\n",
    "cand"
   ],
   "metadata": {
    "collapsed": false,
    "ExecuteTime": {
     "end_time": "2023-11-03T14:08:58.951744842Z",
     "start_time": "2023-11-03T14:08:58.923681195Z"
    }
   },
   "id": "dac8da25ed93216e"
  },
  {
   "cell_type": "code",
   "execution_count": 57,
   "outputs": [
    {
     "data": {
      "text/plain": "(1.0, 'Aktualne.cz', 'Aktuálně.cz')"
     },
     "execution_count": 57,
     "metadata": {},
     "output_type": "execute_result"
    }
   ],
   "source": [
    "capsim(src, cand), src, cand"
   ],
   "metadata": {
    "collapsed": false,
    "ExecuteTime": {
     "end_time": "2023-11-03T14:09:40.566000994Z",
     "start_time": "2023-11-03T14:09:40.536557236Z"
    }
   },
   "id": "51c7cbf62b868ba0"
  },
  {
   "cell_type": "code",
   "execution_count": null,
   "outputs": [],
   "source": [],
   "metadata": {
    "collapsed": false
   },
   "id": "f19ddc3301cfa1e9"
  },
  {
   "cell_type": "code",
   "execution_count": null,
   "outputs": [],
   "source": [],
   "metadata": {
    "collapsed": false
   },
   "id": "b591ae24f89a4fb6"
  },
  {
   "cell_type": "code",
   "execution_count": 111,
   "outputs": [],
   "source": [
    "# def to_prompt(art):\n",
    "# \ttitle = art.get('en-title', art['title'])\n",
    "# \t# rake_nltk_var.extract_keywords_from_text(title)\n",
    "# \tdesc = art.get('en-description', art['description'])\n",
    "# \tif desc is not None and len(desc):\n",
    "# \t\tpass\n",
    "# \t\t# rake_nltk_var.extract_keywords_from_text(desc)\n",
    "# \telse:\n",
    "# \t\tdesc = ''\n",
    "# \tcontent = art.get('en-content', art['content'])\n",
    "# \tif content is not None and len(content):\n",
    "# \t\tpass\n",
    "# \t\t# rake_nltk_var.extract_keywords_from_text(content)\n",
    "# \telse:\n",
    "# \t\tcontent = ''\n",
    "# \t\n",
    "# \ttext = f'{title}\\n{desc}\\n{content}'\n",
    "# \treturn text\n",
    "\n",
    "def preprocess_title(art):\n",
    "\tbase = art.get('en-title', art['title'])\n",
    "\tsrc = art['source-name']\n",
    "\ttitle = base.replace(src, '')\n",
    "\treturn title\n",
    "\n",
    "\n",
    "\n"
   ],
   "metadata": {
    "collapsed": false,
    "ExecuteTime": {
     "end_time": "2023-11-03T15:47:28.239563439Z",
     "start_time": "2023-11-03T15:47:28.199252326Z"
    }
   },
   "id": "146f64677a03387e"
  },
  {
   "cell_type": "code",
   "execution_count": 147,
   "outputs": [
    {
     "name": "stdout",
     "output_type": "stream",
     "text": [
      "English Title: \"Ripple's Blockchain Report: Will Central Bank Digital Currencies Overtake Bitcoin? - finanzen.net\"\n",
      "German Title: 'Ripples Blockchain-Bericht: Werden digitale Zentralbankwährungen Bitcoin den Rang ablaufen? - finanzen.net'\n",
      "Categories: <technology>  ---   'Austria' (04 Nov20 - 05 Nov20)  ---  Finanzen.net\n",
      "English Description: In recent years, cryptocurrencies have come more and more into the spotlight and even become known to the masses. The shift in the trend towards blockchain technology also brought governments to work on so-called CBDCs.\n",
      "German Description: In den vergangenen Jahren rückten Kryptowährungen immer stärker ins Rampenlicht und wurden sogar der Masse ein Begriff. Die Verschiebung des Trends Richtung Blockchain-Technologie rief auch Regierungen auf den Plan, die an sogenannten CBDCs arbeiten.\n"
     ]
    },
    {
     "data": {
      "text/plain": "Counter({'ripple': 1,\n         \"'s\": 1,\n         'blockchain': 1,\n         'report': 1,\n         'central': 1,\n         'bank': 1,\n         'digital': 1,\n         'currencies': 1,\n         'bitcoin': 1,\n         'finanzen.net': 1})"
     },
     "execution_count": 147,
     "metadata": {},
     "output_type": "execute_result"
    }
   ],
   "source": [
    "art = random.choice(batch)\n",
    "view_article(art, detailed=True)\n",
    "title = preprocess_title(art)\n",
    "title_doc = nlp(title)\n",
    "# lemmatized_tokens = [token.lemma_.lower() for token in doc if str(token).lower() not in stopwords.words('english')]\n",
    "# print(lemmatized_tokens)\n",
    "# raw_nouns = list(title_doc.noun_chunks)\n",
    "# raw_verbs = [token for token in title_doc if token.pos_ == \"VERB\"]\n",
    "# print()\n",
    "# print(raw_nouns)\n",
    "# print(raw_verbs)\n",
    "key_terms = Counter([token.lemma_.lower() for chunk in title_doc.noun_chunks for token in chunk])\n",
    "key_terms"
   ],
   "metadata": {
    "collapsed": false,
    "ExecuteTime": {
     "end_time": "2023-11-03T16:09:26.214525120Z",
     "start_time": "2023-11-03T16:09:26.189898088Z"
    }
   },
   "id": "963292d87e1a235b"
  },
  {
   "cell_type": "code",
   "execution_count": 158,
   "outputs": [],
   "source": [
    "def get_title(art):\n",
    "\treturn art.get('en-title', art['title'])\n",
    "def article_title_bag(art):\n",
    "\ttitle = art.get('en-title', art['title'])\n",
    "\ttitle_doc = nlp(title)\n",
    "\tkey_terms = Counter([token.lemma_.lower() for chunk in title_doc.noun_chunks for token in chunk])\n",
    "\treturn key_terms"
   ],
   "metadata": {
    "collapsed": false,
    "ExecuteTime": {
     "end_time": "2023-11-03T16:22:36.762689072Z",
     "start_time": "2023-11-03T16:22:36.704469559Z"
    }
   },
   "id": "a681e5b1eec6e31"
  },
  {
   "cell_type": "code",
   "execution_count": 150,
   "outputs": [
    {
     "data": {
      "text/plain": "  0%|          | 0/4719199 [00:00<?, ?it/s]",
      "application/vnd.jupyter.widget-view+json": {
       "version_major": 2,
       "version_minor": 0,
       "model_id": "af3fcab752aa4b2492ab6719715908f0"
      }
     },
     "metadata": {},
     "output_type": "display_data"
    }
   ],
   "source": [
    "todo = list(articles)\n",
    "pbar = tqdm(total=len(todo))\n",
    "bags = {}\n",
    "def process_additional(n=100):\n",
    "\tbatch_pbar = tqdm(total=min(n, len(todo)))\n",
    "\twhile len(todo) and batch_pbar.n < n:\n",
    "\t\tart = todo.pop()\n",
    "\t\tif art['ID'] in bags:\n",
    "\t\t\tcontinue\n",
    "\t\ttry:\n",
    "\t\t\tbag = article_title_bag(art)\n",
    "\t\texcept:\n",
    "\t\t\ttodo.append(art)\n",
    "\t\t\traise\n",
    "\t\telse:\n",
    "\t\t\tbags[art['ID']] = bag\n",
    "\t\t\tpbar.update(1)\n",
    "\t\t\tbatch_pbar.update(1)"
   ],
   "metadata": {
    "collapsed": false,
    "ExecuteTime": {
     "end_time": "2023-11-03T16:19:07.239091125Z",
     "start_time": "2023-11-03T16:19:07.191116726Z"
    }
   },
   "id": "6a34138e64651512"
  },
  {
   "cell_type": "code",
   "execution_count": 180,
   "outputs": [
    {
     "data": {
      "text/plain": "  0%|          | 0/10000 [00:00<?, ?it/s]",
      "application/vnd.jupyter.widget-view+json": {
       "version_major": 2,
       "version_minor": 0,
       "model_id": "2c2dfb9c8def45c7a14d9d0dab4d6efb"
      }
     },
     "metadata": {},
     "output_type": "display_data"
    }
   ],
   "source": [
    "process_additional(10000)"
   ],
   "metadata": {
    "collapsed": false,
    "ExecuteTime": {
     "end_time": "2023-11-03T16:29:43.207349875Z",
     "start_time": "2023-11-03T16:28:59.673672284Z"
    }
   },
   "id": "573d10e1619f1f41"
  },
  {
   "cell_type": "code",
   "execution_count": 191,
   "outputs": [],
   "source": [
    "query = 'ahn sang suu kyi'\n",
    "# query = 'iphone'\n",
    "query = 'alibaba'\n",
    "qdoc = nlp(query)\n",
    "qtokens = [token.lemma_.lower() for token in qdoc]\n",
    "qkeys = set(qtokens)"
   ],
   "metadata": {
    "collapsed": false,
    "ExecuteTime": {
     "end_time": "2023-11-03T16:32:08.513115217Z",
     "start_time": "2023-11-03T16:32:08.458614774Z"
    }
   },
   "id": "1efb67e73d16ae2c"
  },
  {
   "cell_type": "code",
   "execution_count": 207,
   "outputs": [
    {
     "data": {
      "text/plain": "1"
     },
     "execution_count": 207,
     "metadata": {},
     "output_type": "execute_result"
    }
   ],
   "source": [
    "min_hits = None\n",
    "matches = Counter()\n",
    "for ID, bag in bags.items():\n",
    "\thits = qkeys.intersection(bag.keys())\n",
    "\tif len(hits) and (min_hits is None or len(hits) >= min_hits):\n",
    "\t\tmatches[ID] = len(hits)\n",
    "len(matches)"
   ],
   "metadata": {
    "collapsed": false,
    "ExecuteTime": {
     "end_time": "2023-11-04T16:06:34.368376486Z",
     "start_time": "2023-11-04T16:06:34.310380747Z"
    }
   },
   "id": "a0b91e479f11096d"
  },
  {
   "cell_type": "code",
   "execution_count": null,
   "outputs": [],
   "source": [],
   "metadata": {
    "collapsed": false
   },
   "id": "90cd7a305f34e4d1"
  },
  {
   "cell_type": "code",
   "execution_count": 193,
   "outputs": [
    {
     "name": "stdout",
     "output_type": "stream",
     "text": [
      "English Title: 'The cloud of Alibaba and Baidu is coming into the crosshairs of the Chinese authorities - Patria.cz'\n",
      "Czech Title: 'Do hledáčku čínských úřadů se dostává cloud Alibaby a Baidu - Patria.cz'\n",
      "Categories: <technology>  ---   'Czechia' (23 Nov21)  ---  Patria.cz\n",
      "\n",
      "English Title: 'They brought out reports of the rape, it cost them the place. Alibaba fired 10 people - iDNES.cz'\n",
      "Czech Title: 'Vynesli zprávy o znásilnění, stálo je to místo. Alibaba propustila 10 lidí - iDNES.cz'\n",
      "Categories: <business> <general>  ---   'Czechia' (31 Aug21)  ---  Idnes.cz\n",
      "\n",
      "English Title: 'Alibaba receives another blow in the form of Chinese regulations - Kurzy.cz'\n",
      "Czech Title: 'Alibaba dostává další ránu v podobě čínských regulací - Kurzy.cz'\n",
      "Categories: <business>  ---   'Czechia' (25 Aug21)  ---  Kurzy.cz\n",
      "\n",
      "English Title: 'Billion dollar fine sent Alibaba into a loss. No problem, we will pay, responds the company - iDNES.cz'\n",
      "Czech Title: 'Miliardová pokuta poslala Alibabu do ztráty. Není problém, zaplatíme, reaguje firma - iDNES.cz'\n",
      "Categories: <business>  ---   'Czechia' (14 May21)  ---  Idnes.cz\n"
     ]
    }
   ],
   "source": [
    "sel = [by_ID[ID] for ID, score in matches.most_common(10)]\n",
    "\n",
    "for art in sel[:4]:\n",
    "\tview_article(art, detailed=False)\n",
    "\tprint()"
   ],
   "metadata": {
    "collapsed": false,
    "ExecuteTime": {
     "end_time": "2023-11-03T16:32:09.649833184Z",
     "start_time": "2023-11-03T16:32:09.575475658Z"
    }
   },
   "id": "7a1ca9c8317a28e4"
  },
  {
   "cell_type": "code",
   "execution_count": 9,
   "outputs": [
    {
     "data": {
      "text/plain": "  0%|          | 0/4719199 [00:00<?, ?it/s]",
      "application/vnd.jupyter.widget-view+json": {
       "version_major": 2,
       "version_minor": 0,
       "model_id": "589f04b79724463d9c802a35d4396188"
      }
     },
     "metadata": {},
     "output_type": "display_data"
    }
   ],
   "source": [
    "bagowords = {int(ID): bag for ID, bag in load_json(root/'bagowords.json').items()}"
   ],
   "metadata": {
    "collapsed": false,
    "ExecuteTime": {
     "end_time": "2023-11-05T14:10:50.253341975Z",
     "start_time": "2023-11-05T14:10:30.899242722Z"
    }
   },
   "id": "9a1ed03f5a16280d"
  },
  {
   "cell_type": "code",
   "execution_count": 202,
   "outputs": [
    {
     "data": {
      "text/plain": "  0%|          | 0/4719199 [00:00<?, ?it/s]",
      "application/vnd.jupyter.widget-view+json": {
       "version_major": 2,
       "version_minor": 0,
       "model_id": "1be0039c6361430c80f1997b8789474c"
      }
     },
     "metadata": {},
     "output_type": "display_data"
    },
    {
     "data": {
      "text/plain": "4719199"
     },
     "execution_count": 202,
     "metadata": {},
     "output_type": "execute_result"
    }
   ],
   "source": [
    "for art in tqdm(articles):\n",
    "\tif art['ID'] not in bagowords:\n",
    "\t\tbagowords[art['ID']] = Counter([token.lemma_ for token in nlp(unidecode(art.get('en-title', art['title'])))])\n",
    "len(bagowords)"
   ],
   "metadata": {
    "collapsed": false,
    "ExecuteTime": {
     "end_time": "2023-11-03T21:59:41.838188865Z",
     "start_time": "2023-11-03T16:39:54.280268702Z"
    }
   },
   "id": "c621675cc3f3ef08"
  },
  {
   "cell_type": "code",
   "execution_count": 204,
   "outputs": [],
   "source": [
    "# save_json(bagowords, root/'bagowords.json');"
   ],
   "metadata": {
    "collapsed": false,
    "ExecuteTime": {
     "end_time": "2023-11-04T13:10:27.917782257Z",
     "start_time": "2023-11-04T13:09:43.021352195Z"
    }
   },
   "id": "ecec8095e6dd0387"
  },
  {
   "cell_type": "code",
   "execution_count": 10,
   "outputs": [
    {
     "data": {
      "text/plain": "  0%|          | 0/4719199 [00:00<?, ?it/s]",
      "application/vnd.jupyter.widget-view+json": {
       "version_major": 2,
       "version_minor": 0,
       "model_id": "6321c4e9f32e440a8f83e7796e482d46"
      }
     },
     "metadata": {},
     "output_type": "display_data"
    }
   ],
   "source": [
    "lowords = {ID: {k.lower(): v for k,v in bag.items()} for ID, bag in tqdm(bagowords.items())}"
   ],
   "metadata": {
    "collapsed": false,
    "ExecuteTime": {
     "end_time": "2023-11-05T14:11:24.044599051Z",
     "start_time": "2023-11-05T14:11:12.473737457Z"
    }
   },
   "id": "8ec2ba35a8479030"
  },
  {
   "cell_type": "code",
   "execution_count": 15,
   "outputs": [
    {
     "name": "stdout",
     "output_type": "stream",
     "text": [
      "{'kyi', 'san', 'aung', 'burma', 'myanmar', 'sing', 'ahn', 'aun', 'burmese', 'suu'}\n"
     ]
    }
   ],
   "source": [
    "query = 'ahn sang suu kyi'\n",
    "# query = 'iphone'\n",
    "query = 'alibaba'\n",
    "# query = 'myanmar burma coup burmese military ahn sang suu kyi aung san aun'\n",
    "query = 'ahn sang suu kyi aung san aun myanmar burma burmese'\n",
    "qdoc = nlp(query)\n",
    "qtokens = [token.lemma_.lower() for token in qdoc]\n",
    "qkeys = set(qtokens)\n",
    "print(qkeys)"
   ],
   "metadata": {
    "collapsed": false,
    "ExecuteTime": {
     "end_time": "2023-11-05T14:12:22.491104455Z",
     "start_time": "2023-11-05T14:12:22.430902544Z"
    }
   },
   "id": "93784cfe4bd5e780"
  },
  {
   "cell_type": "code",
   "execution_count": 16,
   "outputs": [
    {
     "data": {
      "text/plain": "  0%|          | 0/4719199 [00:00<?, ?it/s]",
      "application/vnd.jupyter.widget-view+json": {
       "version_major": 2,
       "version_minor": 0,
       "model_id": "f4a99639a1774dd18d1e1ca2ae7bf254"
      }
     },
     "metadata": {},
     "output_type": "display_data"
    },
    {
     "data": {
      "text/plain": "160"
     },
     "execution_count": 16,
     "metadata": {},
     "output_type": "execute_result"
    }
   ],
   "source": [
    "min_hits = 3\n",
    "matches = Counter()\n",
    "for ID, bag in tqdm(bagowords.items()):\n",
    "\thits = qkeys.intersection([k.lower() for k in bag.keys()])\n",
    "\tif len(hits) and (min_hits is None or len(hits) >= min_hits):\n",
    "\t\tmatches[ID] = len(hits)\n",
    "len(matches)"
   ],
   "metadata": {
    "collapsed": false,
    "ExecuteTime": {
     "end_time": "2023-11-05T14:13:16.311751877Z",
     "start_time": "2023-11-05T14:13:07.547833482Z"
    }
   },
   "id": "aea1524765217473"
  },
  {
   "cell_type": "code",
   "execution_count": 320,
   "outputs": [],
   "source": [
    "# matches = Counter([art['ID'] for art in tqdm(articles) if 'suu kyi' in unidecode(art.get('en-title', art['title']).lower())])\n",
    "# len(matches)"
   ],
   "metadata": {
    "collapsed": false,
    "ExecuteTime": {
     "end_time": "2023-11-05T12:27:29.556259127Z",
     "start_time": "2023-11-05T12:27:29.548756304Z"
    }
   },
   "id": "c0645d632aa7b2cc"
  },
  {
   "cell_type": "code",
   "execution_count": 18,
   "outputs": [
    {
     "name": "stdout",
     "output_type": "stream",
     "text": [
      "English Title: 'Burma: As protests continue, Aung San Suu Kyi indicted again - 20 Minutes'\n",
      "French Title: 'Birmanie : Pendant que les manifestations se poursuivent, Aung San Suu Kyi de nouveau inculpée - 20 Minutes'\n",
      "Categories: <general>  ---   'France' (17 Feb21)  ---  20 Minutes\n"
     ]
    }
   ],
   "source": [
    "sel = [by_ID[ID] for ID, score in matches.most_common(10)]\n",
    "art = random.choice(sel)\n",
    "view_article(art)"
   ],
   "metadata": {
    "collapsed": false,
    "ExecuteTime": {
     "end_time": "2023-11-05T14:13:50.000301782Z",
     "start_time": "2023-11-05T14:13:49.952560161Z"
    }
   },
   "id": "bb42e5877de1443a"
  },
  {
   "cell_type": "code",
   "execution_count": 20,
   "outputs": [
    {
     "data": {
      "text/plain": "    language               collectedAt location category           ID  \\\n141       th 2020-09-03 06:55:00+00:00       th  general  0547450-000   \n5         en 2020-11-06 13:38:00+00:00       sa  general  1743778-000   \n6         en 2020-11-06 13:38:00+00:00       us  general  1743778-001   \n71        en 2020-11-07 11:01:00+00:00       us  general  1757195-000   \n7         en 2020-11-07 11:01:00+00:00       sa  general  1758980-000   \n..       ...                       ...      ...      ...          ...   \n53        en 2021-06-19 08:29:00+00:00       ph  general  5245848-000   \n119       en 2021-06-20 11:34:00+00:00       my  general  5260902-000   \n109       en 2021-06-29 09:06:00+00:00       sg  general  5426173-000   \n54        en 2021-09-17 11:47:00+00:00       ph  general  6494786-000   \n90        de 2021-10-27 10:01:00+00:00       at  general  6999892-000   \n\n                                                 title        date  \n141  Suu Kyi points out that Myanmar faces 'COVID d...  2020-09-03  \n5    Aung San Suu Kyi: Myanmar democracy icon who f...  2020-11-06  \n6    Aung San Suu Kyi: Myanmar democracy icon who f...  2020-11-06  \n71   Despite accusations of genocide, Aung San Suu ...  2020-11-07  \n7    A look at Myanmar's election and Suu Kyi's exp...  2020-11-07  \n..                                                 ...         ...  \n53   Myanmar protesters wear flowers to mark Suu Ky...  2021-06-19  \n119  Myanmar protesters wear flowers to mark Suu Ky...  2021-06-20  \n109  Myanmar's Aung San Suu Kyi urges people to be ...  2021-06-29  \n54   Myanmar junta to put Suu Kyi on trial for corr...  2021-09-17  \n90   Aung San Suu Kyi testified in court for the fi...  2021-10-27  \n\n[174 rows x 7 columns]",
      "text/html": "<div>\n<style scoped>\n    .dataframe tbody tr th:only-of-type {\n        vertical-align: middle;\n    }\n\n    .dataframe tbody tr th {\n        vertical-align: top;\n    }\n\n    .dataframe thead th {\n        text-align: right;\n    }\n</style>\n<table border=\"1\" class=\"dataframe\">\n  <thead>\n    <tr style=\"text-align: right;\">\n      <th></th>\n      <th>language</th>\n      <th>collectedAt</th>\n      <th>location</th>\n      <th>category</th>\n      <th>ID</th>\n      <th>title</th>\n      <th>date</th>\n    </tr>\n  </thead>\n  <tbody>\n    <tr>\n      <th>141</th>\n      <td>th</td>\n      <td>2020-09-03 06:55:00+00:00</td>\n      <td>th</td>\n      <td>general</td>\n      <td>0547450-000</td>\n      <td>Suu Kyi points out that Myanmar faces 'COVID d...</td>\n      <td>2020-09-03</td>\n    </tr>\n    <tr>\n      <th>5</th>\n      <td>en</td>\n      <td>2020-11-06 13:38:00+00:00</td>\n      <td>sa</td>\n      <td>general</td>\n      <td>1743778-000</td>\n      <td>Aung San Suu Kyi: Myanmar democracy icon who f...</td>\n      <td>2020-11-06</td>\n    </tr>\n    <tr>\n      <th>6</th>\n      <td>en</td>\n      <td>2020-11-06 13:38:00+00:00</td>\n      <td>us</td>\n      <td>general</td>\n      <td>1743778-001</td>\n      <td>Aung San Suu Kyi: Myanmar democracy icon who f...</td>\n      <td>2020-11-06</td>\n    </tr>\n    <tr>\n      <th>71</th>\n      <td>en</td>\n      <td>2020-11-07 11:01:00+00:00</td>\n      <td>us</td>\n      <td>general</td>\n      <td>1757195-000</td>\n      <td>Despite accusations of genocide, Aung San Suu ...</td>\n      <td>2020-11-07</td>\n    </tr>\n    <tr>\n      <th>7</th>\n      <td>en</td>\n      <td>2020-11-07 11:01:00+00:00</td>\n      <td>sa</td>\n      <td>general</td>\n      <td>1758980-000</td>\n      <td>A look at Myanmar's election and Suu Kyi's exp...</td>\n      <td>2020-11-07</td>\n    </tr>\n    <tr>\n      <th>...</th>\n      <td>...</td>\n      <td>...</td>\n      <td>...</td>\n      <td>...</td>\n      <td>...</td>\n      <td>...</td>\n      <td>...</td>\n    </tr>\n    <tr>\n      <th>53</th>\n      <td>en</td>\n      <td>2021-06-19 08:29:00+00:00</td>\n      <td>ph</td>\n      <td>general</td>\n      <td>5245848-000</td>\n      <td>Myanmar protesters wear flowers to mark Suu Ky...</td>\n      <td>2021-06-19</td>\n    </tr>\n    <tr>\n      <th>119</th>\n      <td>en</td>\n      <td>2021-06-20 11:34:00+00:00</td>\n      <td>my</td>\n      <td>general</td>\n      <td>5260902-000</td>\n      <td>Myanmar protesters wear flowers to mark Suu Ky...</td>\n      <td>2021-06-20</td>\n    </tr>\n    <tr>\n      <th>109</th>\n      <td>en</td>\n      <td>2021-06-29 09:06:00+00:00</td>\n      <td>sg</td>\n      <td>general</td>\n      <td>5426173-000</td>\n      <td>Myanmar's Aung San Suu Kyi urges people to be ...</td>\n      <td>2021-06-29</td>\n    </tr>\n    <tr>\n      <th>54</th>\n      <td>en</td>\n      <td>2021-09-17 11:47:00+00:00</td>\n      <td>ph</td>\n      <td>general</td>\n      <td>6494786-000</td>\n      <td>Myanmar junta to put Suu Kyi on trial for corr...</td>\n      <td>2021-09-17</td>\n    </tr>\n    <tr>\n      <th>90</th>\n      <td>de</td>\n      <td>2021-10-27 10:01:00+00:00</td>\n      <td>at</td>\n      <td>general</td>\n      <td>6999892-000</td>\n      <td>Aung San Suu Kyi testified in court for the fi...</td>\n      <td>2021-10-27</td>\n    </tr>\n  </tbody>\n</table>\n<p>174 rows × 7 columns</p>\n</div>"
     },
     "execution_count": 20,
     "metadata": {},
     "output_type": "execute_result"
    }
   ],
   "source": [
    "insts = []\n",
    "for ID in matches:\n",
    "\tart = by_ID[ID]\n",
    "\tinsts.extend({\n",
    "\t\t\t\t\t 'language': art['language'], \n",
    "\t\t\t\t\t **inst, \n",
    "\t\t\t\t\t 'ID': f'{str(art[\"ID\"]).zfill(7)}-{str(i).zfill(3)}',\n",
    "\t\t\t\t\t 'title': art.get('en-title', art['title']),\n",
    "\t\t\t\t  } for i, inst in enumerate(art['instances']))\n",
    "tbl = pd.DataFrame(insts)\n",
    "tbl['collectedAt'] = pd.to_datetime(tbl['collectedAt'])\n",
    "tbl = tbl.sort_values('collectedAt')\n",
    "tbl['date'] = tbl['collectedAt'].dt.date\n",
    "tbl"
   ],
   "metadata": {
    "collapsed": false,
    "ExecuteTime": {
     "end_time": "2023-11-05T14:14:37.478665543Z",
     "start_time": "2023-11-05T14:14:37.415946231Z"
    }
   },
   "id": "f29bfbf59a39aeff"
  },
  {
   "cell_type": "code",
   "execution_count": 21,
   "outputs": [],
   "source": [
    "cat = 'language'\n",
    "grouped_df = tbl.groupby(['date', cat]).size().reset_index(name='counts')\n"
   ],
   "metadata": {
    "collapsed": false,
    "ExecuteTime": {
     "end_time": "2023-11-05T14:14:51.859343115Z",
     "start_time": "2023-11-05T14:14:51.827400482Z"
    }
   },
   "id": "710172ec03d35f0b"
  },
  {
   "cell_type": "code",
   "execution_count": 22,
   "outputs": [
    {
     "data": {
      "text/plain": "<Figure size 1400x700 with 1 Axes>",
      "image/png": "[encoded data removed]"
     },
     "metadata": {},
     "output_type": "display_data"
    }
   ],
   "source": [
    "plt.figure(figsize=(14, 7))\n",
    "sns.histplot(data=grouped_df, x='date', weights='counts', hue=cat, multiple='stack')\n",
    "\n",
    "# Rotating the x-axis labels for better readability\n",
    "plt.xticks(rotation=45);"
   ],
   "metadata": {
    "collapsed": false,
    "ExecuteTime": {
     "end_time": "2023-11-05T14:15:01.685276373Z",
     "start_time": "2023-11-05T14:14:52.910326139Z"
    }
   },
   "id": "aafaff2f74a57392"
  },
  {
   "cell_type": "code",
   "execution_count": 27,
   "outputs": [],
   "source": [
    "def inst_id(art_id, inst_idx):\n",
    "\treturn f'{str(art_id).zfill(7)}-{str(inst_idx).zfill(3)}'\n",
    "def get_inst(inst_id):\n",
    "\tart_id, inst_idx = inst_id.split('-')\n",
    "\tart = by_ID[art_id]\n",
    "\tinst = art['instances'][int(inst_idx)]\n",
    "\treturn {**inst, **art}\n",
    "def art_row(art):\n",
    "\treturn {'aid': art['ID'], 'title': art.get('en-title', art['title']), 'source': art['source-name'], 'language': art['language']}"
   ],
   "metadata": {
    "collapsed": false,
    "ExecuteTime": {
     "end_time": "2023-11-05T14:16:32.368921171Z",
     "start_time": "2023-11-05T14:16:32.280508838Z"
    }
   },
   "id": "6c5ed2ed19a82cdc"
  },
  {
   "cell_type": "code",
   "execution_count": 28,
   "outputs": [
    {
     "data": {
      "text/plain": "  0%|          | 0/4719199 [00:00<?, ?it/s]",
      "application/vnd.jupyter.widget-view+json": {
       "version_major": 2,
       "version_minor": 0,
       "model_id": "5945c9644b2248d7bc14f65f6441ed91"
      }
     },
     "metadata": {},
     "output_type": "display_data"
    },
    {
     "data": {
      "text/plain": "7419089"
     },
     "execution_count": 28,
     "metadata": {},
     "output_type": "execute_result"
    }
   ],
   "source": [
    "df = pd.DataFrame([{**row, **inst, 'iid': inst_id(row['aid'], i)} for row in tqdm([art_row(art) for art in articles]) for i, inst in enumerate(by_ID[row['aid']]['instances'])])\n",
    "df['collectedAt'] = pd.to_datetime(df['collectedAt'])\n",
    "df = df.sort_values('collectedAt')\n",
    "df['date'] = df['collectedAt'].dt.date\n",
    "len(df)"
   ],
   "metadata": {
    "collapsed": false,
    "ExecuteTime": {
     "end_time": "2023-11-05T14:16:52.193084994Z",
     "start_time": "2023-11-05T14:16:34.514181265Z"
    }
   },
   "id": "4eefdee7e38f9303"
  },
  {
   "cell_type": "code",
   "execution_count": 29,
   "outputs": [
    {
     "data": {
      "text/plain": "  0%|          | 0/413 [00:00<?, ?it/s]",
      "application/vnd.jupyter.widget-view+json": {
       "version_major": 2,
       "version_minor": 0,
       "model_id": "f702926500f54e38acf0fc3d6218bb5b"
      }
     },
     "metadata": {},
     "output_type": "display_data"
    },
    {
     "data": {
      "text/plain": "413"
     },
     "execution_count": 29,
     "metadata": {},
     "output_type": "execute_result"
    }
   ],
   "source": [
    "daybags = {}\n",
    "date_aids = dict(df.groupby('date')['aid'].apply(list))\n",
    "for date, aIDs in tqdm(sorted(date_aids.items())):\n",
    "\ttotal = Counter()\n",
    "\tfor aID in aIDs:\n",
    "\t\ttotal.update({k.lower(): v for k,v in bagowords[aID].items()})\n",
    "\tdaybags[date] = total\n",
    "len(daybags)"
   ],
   "metadata": {
    "collapsed": false,
    "ExecuteTime": {
     "end_time": "2023-11-05T14:17:26.960477788Z",
     "start_time": "2023-11-05T14:16:52.559348521Z"
    }
   },
   "id": "fe3ec85ae5c5a057"
  },
  {
   "cell_type": "code",
   "execution_count": null,
   "outputs": [
    {
     "data": {
      "text/plain": "  0%|          | 0/412 [00:00<?, ?it/s]",
      "application/vnd.jupyter.widget-view+json": {
       "version_major": 2,
       "version_minor": 0,
       "model_id": "ee1a323b5a444444bd6eee3a3b79c761"
      }
     },
     "metadata": {},
     "output_type": "display_data"
    }
   ],
   "source": [
    "deltas = {}\n",
    "dates = list(daybags.keys())\n",
    "for d1, d2 in tqdm(zip(dates[:-1], dates[1:]),total=len(dates)-1):\n",
    "\tdelta = daybags[d2] - daybags[d1]\n",
    "\tdeltas[d2] = delta"
   ],
   "metadata": {
    "collapsed": false,
    "ExecuteTime": {
     "start_time": "2023-11-05T14:17:26.961968238Z"
    }
   },
   "id": "ab3050d3047104ae"
  },
  {
   "cell_type": "code",
   "execution_count": null,
   "outputs": [],
   "source": [
    "len(deltas[datetime(2021, 2, 1).date()])"
   ],
   "metadata": {
    "collapsed": false
   },
   "id": "762777bf7b5aca95"
  },
  {
   "cell_type": "code",
   "execution_count": 451,
   "outputs": [
    {
     "data": {
      "text/plain": "             aid                                              title  \\\n6339958  2907816  The most notable new products in online cinema...   \n6339955  2907800  Samsung will copy a feature from LG that could...   \n6339962  2908166  “This is a challenge for me”: actor Zhidkov sh...   \n6339964  2908187  Platinum and molybdenum carbide helped produce...   \n6339936  2905422  Fiber optic sensors will help monitor road qua...   \n...          ...                                                ...   \n6736386  2909440  Here’s how you can transfer WhatsApp chats to ...   \n2021775  2906395  Shabana to Youm7 TV: Suleiman threatens Ajay’s...   \n2021776  2906416  What is the difference...the most prominent di...   \n6736387  2909558  MediaTek Entered Apple’s Supply Chain, Will Sh...   \n6339977  2908509  Media: Elena Stepanenko secretly had an operat...   \n\n                    source language               collectedAt location  \\\n6339958         Newsru.com       ru 2021-02-01 14:11:00+00:00       ru   \n6339955           Cnews.ru       ru 2021-02-01 14:11:00+00:00       ru   \n6339962  Teleprogramma.pro       ru 2021-02-01 14:11:00+00:00       ru   \n6339964          Nplus1.ru       ru 2021-02-01 14:11:00+00:00       ru   \n6339936       Indicator.ru       ru 2021-02-01 14:11:00+00:00       ru   \n...                    ...      ...                       ...      ...   \n6736386          The Hindu       en 2021-02-01 14:11:00+00:00       in   \n2021775          Youm7.com       ar 2021-02-01 14:11:00+00:00       eg   \n2021776          Youm7.com       ar 2021-02-01 14:11:00+00:00       eg   \n6736387       Gizchina.com       en 2021-02-01 14:11:00+00:00       in   \n6339977          Www.mk.ru       ru 2021-02-01 14:11:00+00:00       ru   \n\n              category          iid        date  \n6339958        general  2907816-000  2021-02-01  \n6339955        general  2907800-000  2021-02-01  \n6339962  entertainment  2908166-000  2021-02-01  \n6339964        science  2908187-000  2021-02-01  \n6339936        science  2905422-000  2021-02-01  \n...                ...          ...         ...  \n6736386     technology  2909440-000  2021-02-01  \n2021775         sports  2906395-000  2021-02-01  \n2021776  entertainment  2906416-000  2021-02-01  \n6736387     technology  2909558-000  2021-02-01  \n6339977  entertainment  2908509-000  2021-02-01  \n\n[6928 rows x 9 columns]",
      "text/html": "<div>\n<style scoped>\n    .dataframe tbody tr th:only-of-type {\n        vertical-align: middle;\n    }\n\n    .dataframe tbody tr th {\n        vertical-align: top;\n    }\n\n    .dataframe thead th {\n        text-align: right;\n    }\n</style>\n<table border=\"1\" class=\"dataframe\">\n  <thead>\n    <tr style=\"text-align: right;\">\n      <th></th>\n      <th>aid</th>\n      <th>title</th>\n      <th>source</th>\n      <th>language</th>\n      <th>collectedAt</th>\n      <th>location</th>\n      <th>category</th>\n      <th>iid</th>\n      <th>date</th>\n    </tr>\n  </thead>\n  <tbody>\n    <tr>\n      <th>6339958</th>\n      <td>2907816</td>\n      <td>The most notable new products in online cinema...</td>\n      <td>Newsru.com</td>\n      <td>ru</td>\n      <td>2021-02-01 14:11:00+00:00</td>\n      <td>ru</td>\n      <td>general</td>\n      <td>2907816-000</td>\n      <td>2021-02-01</td>\n    </tr>\n    <tr>\n      <th>6339955</th>\n      <td>2907800</td>\n      <td>Samsung will copy a feature from LG that could...</td>\n      <td>Cnews.ru</td>\n      <td>ru</td>\n      <td>2021-02-01 14:11:00+00:00</td>\n      <td>ru</td>\n      <td>general</td>\n      <td>2907800-000</td>\n      <td>2021-02-01</td>\n    </tr>\n    <tr>\n      <th>6339962</th>\n      <td>2908166</td>\n      <td>“This is a challenge for me”: actor Zhidkov sh...</td>\n      <td>Teleprogramma.pro</td>\n      <td>ru</td>\n      <td>2021-02-01 14:11:00+00:00</td>\n      <td>ru</td>\n      <td>entertainment</td>\n      <td>2908166-000</td>\n      <td>2021-02-01</td>\n    </tr>\n    <tr>\n      <th>6339964</th>\n      <td>2908187</td>\n      <td>Platinum and molybdenum carbide helped produce...</td>\n      <td>Nplus1.ru</td>\n      <td>ru</td>\n      <td>2021-02-01 14:11:00+00:00</td>\n      <td>ru</td>\n      <td>science</td>\n      <td>2908187-000</td>\n      <td>2021-02-01</td>\n    </tr>\n    <tr>\n      <th>6339936</th>\n      <td>2905422</td>\n      <td>Fiber optic sensors will help monitor road qua...</td>\n      <td>Indicator.ru</td>\n      <td>ru</td>\n      <td>2021-02-01 14:11:00+00:00</td>\n      <td>ru</td>\n      <td>science</td>\n      <td>2905422-000</td>\n      <td>2021-02-01</td>\n    </tr>\n    <tr>\n      <th>...</th>\n      <td>...</td>\n      <td>...</td>\n      <td>...</td>\n      <td>...</td>\n      <td>...</td>\n      <td>...</td>\n      <td>...</td>\n      <td>...</td>\n      <td>...</td>\n    </tr>\n    <tr>\n      <th>6736386</th>\n      <td>2909440</td>\n      <td>Here’s how you can transfer WhatsApp chats to ...</td>\n      <td>The Hindu</td>\n      <td>en</td>\n      <td>2021-02-01 14:11:00+00:00</td>\n      <td>in</td>\n      <td>technology</td>\n      <td>2909440-000</td>\n      <td>2021-02-01</td>\n    </tr>\n    <tr>\n      <th>2021775</th>\n      <td>2906395</td>\n      <td>Shabana to Youm7 TV: Suleiman threatens Ajay’s...</td>\n      <td>Youm7.com</td>\n      <td>ar</td>\n      <td>2021-02-01 14:11:00+00:00</td>\n      <td>eg</td>\n      <td>sports</td>\n      <td>2906395-000</td>\n      <td>2021-02-01</td>\n    </tr>\n    <tr>\n      <th>2021776</th>\n      <td>2906416</td>\n      <td>What is the difference...the most prominent di...</td>\n      <td>Youm7.com</td>\n      <td>ar</td>\n      <td>2021-02-01 14:11:00+00:00</td>\n      <td>eg</td>\n      <td>entertainment</td>\n      <td>2906416-000</td>\n      <td>2021-02-01</td>\n    </tr>\n    <tr>\n      <th>6736387</th>\n      <td>2909558</td>\n      <td>MediaTek Entered Apple’s Supply Chain, Will Sh...</td>\n      <td>Gizchina.com</td>\n      <td>en</td>\n      <td>2021-02-01 14:11:00+00:00</td>\n      <td>in</td>\n      <td>technology</td>\n      <td>2909558-000</td>\n      <td>2021-02-01</td>\n    </tr>\n    <tr>\n      <th>6339977</th>\n      <td>2908509</td>\n      <td>Media: Elena Stepanenko secretly had an operat...</td>\n      <td>Www.mk.ru</td>\n      <td>ru</td>\n      <td>2021-02-01 14:11:00+00:00</td>\n      <td>ru</td>\n      <td>entertainment</td>\n      <td>2908509-000</td>\n      <td>2021-02-01</td>\n    </tr>\n  </tbody>\n</table>\n<p>6928 rows × 9 columns</p>\n</div>"
     },
     "execution_count": 451,
     "metadata": {},
     "output_type": "execute_result"
    }
   ],
   "source": [
    "target = datetime(2021, 2, 1).date()\n",
    "# sel = random.choices(date_aids[target], k=10)\n",
    "# df[df['aid'].isin(sel)]\n",
    "df[df['date'] == target]"
   ],
   "metadata": {
    "collapsed": false,
    "ExecuteTime": {
     "end_time": "2023-11-05T13:48:41.669311830Z",
     "start_time": "2023-11-05T13:48:41.628173380Z"
    }
   },
   "id": "ae754eb92054a075"
  },
  {
   "cell_type": "code",
   "execution_count": 446,
   "outputs": [
    {
     "data": {
      "text/plain": "9073"
     },
     "execution_count": 446,
     "metadata": {},
     "output_type": "execute_result"
    }
   ],
   "source": [
    "dt = deltas[target]\n",
    "len(dt)"
   ],
   "metadata": {
    "collapsed": false,
    "ExecuteTime": {
     "end_time": "2023-11-05T13:47:21.437007567Z",
     "start_time": "2023-11-05T13:47:21.362372197Z"
    }
   },
   "id": "b09a65043d594f71"
  },
  {
   "cell_type": "code",
   "execution_count": 447,
   "outputs": [
    {
     "data": {
      "text/plain": "9005"
     },
     "execution_count": 447,
     "metadata": {},
     "output_type": "execute_result"
    }
   ],
   "source": [
    "keywords = Counter({w:f for w, f in dt.items() if any(not unicodedata.category(char).startswith('P') for char in w) and w not in stop_words})\n",
    "len(keywords)"
   ],
   "metadata": {
    "collapsed": false,
    "ExecuteTime": {
     "end_time": "2023-11-05T13:47:22.748730467Z",
     "start_time": "2023-11-05T13:47:22.678878131Z"
    }
   },
   "id": "56baa2662dffe7e4"
  },
  {
   "cell_type": "code",
   "execution_count": 440,
   "outputs": [],
   "source": [
    "# w, f = keywords.most_common()[0]\n",
    "# w, f, any(not unicodedata.category(char).startswith('P') for char in w), w not in stop_words"
   ],
   "metadata": {
    "collapsed": false,
    "ExecuteTime": {
     "end_time": "2023-11-05T13:43:24.035701312Z",
     "start_time": "2023-11-05T13:43:23.963782659Z"
    }
   },
   "id": "1241146e15488fa7"
  },
  {
   "cell_type": "code",
   "execution_count": 450,
   "outputs": [
    {
     "name": "stdout",
     "output_type": "stream",
     "text": [
      "-------------  --\n",
      "silver         82\n",
      "liverpool      75\n",
      "year           73\n",
      "february       69\n",
      "may            60\n",
      "myanmar        49\n",
      "international  44\n",
      "1              43\n",
      "transfer       42\n",
      "coup           40\n",
      "billion        36\n",
      "eu             36\n",
      "last           35\n",
      "name           34\n",
      "stock          34\n",
      "science        33\n",
      "get            33\n",
      "channel        32\n",
      "san            29\n",
      "11             28\n",
      "high           27\n",
      "post           27\n",
      "network        26\n",
      "million        26\n",
      "pfizer         26\n",
      "military       26\n",
      "investing.com  25\n",
      "discover       25\n",
      "speed          25\n",
      "icloud         25\n",
      "-------------  --\n"
     ]
    }
   ],
   "source": [
    "print(tabulate(keywords.most_common(30)))"
   ],
   "metadata": {
    "collapsed": false,
    "ExecuteTime": {
     "end_time": "2023-11-05T13:47:43.319985491Z",
     "start_time": "2023-11-05T13:47:43.235737578Z"
    }
   },
   "id": "a70564613812f669"
  },
  {
   "cell_type": "code",
   "execution_count": 449,
   "outputs": [
    {
     "data": {
      "text/plain": "19"
     },
     "execution_count": 449,
     "metadata": {},
     "output_type": "execute_result"
    }
   ],
   "source": [
    "keywords['aung']"
   ],
   "metadata": {
    "collapsed": false,
    "ExecuteTime": {
     "end_time": "2023-11-05T13:47:27.205099965Z",
     "start_time": "2023-11-05T13:47:27.161289294Z"
    }
   },
   "id": "f5888b7a1eb93f2c"
  },
  {
   "cell_type": "code",
   "execution_count": null,
   "outputs": [],
   "source": [
    "sel = [ID for ID, bag in bagowords.items() if 'aung' in bag]"
   ],
   "metadata": {
    "collapsed": false
   },
   "id": "1b60a80fdd6ba318"
  },
  {
   "cell_type": "code",
   "execution_count": 453,
   "outputs": [
    {
     "data": {
      "text/plain": "             aid                                              title  \\\n6339958  2907816  The most notable new products in online cinema...   \n6339955  2907800  Samsung will copy a feature from LG that could...   \n6339962  2908166  “This is a challenge for me”: actor Zhidkov sh...   \n6339964  2908187  Platinum and molybdenum carbide helped produce...   \n6339936  2905422  Fiber optic sensors will help monitor road qua...   \n...          ...                                                ...   \n6736386  2909440  Here’s how you can transfer WhatsApp chats to ...   \n2021775  2906395  Shabana to Youm7 TV: Suleiman threatens Ajay’s...   \n2021776  2906416  What is the difference...the most prominent di...   \n6736387  2909558  MediaTek Entered Apple’s Supply Chain, Will Sh...   \n6339977  2908509  Media: Elena Stepanenko secretly had an operat...   \n\n                    source language               collectedAt location  \\\n6339958         Newsru.com       ru 2021-02-01 14:11:00+00:00       ru   \n6339955           Cnews.ru       ru 2021-02-01 14:11:00+00:00       ru   \n6339962  Teleprogramma.pro       ru 2021-02-01 14:11:00+00:00       ru   \n6339964          Nplus1.ru       ru 2021-02-01 14:11:00+00:00       ru   \n6339936       Indicator.ru       ru 2021-02-01 14:11:00+00:00       ru   \n...                    ...      ...                       ...      ...   \n6736386          The Hindu       en 2021-02-01 14:11:00+00:00       in   \n2021775          Youm7.com       ar 2021-02-01 14:11:00+00:00       eg   \n2021776          Youm7.com       ar 2021-02-01 14:11:00+00:00       eg   \n6736387       Gizchina.com       en 2021-02-01 14:11:00+00:00       in   \n6339977          Www.mk.ru       ru 2021-02-01 14:11:00+00:00       ru   \n\n              category          iid        date  \n6339958        general  2907816-000  2021-02-01  \n6339955        general  2907800-000  2021-02-01  \n6339962  entertainment  2908166-000  2021-02-01  \n6339964        science  2908187-000  2021-02-01  \n6339936        science  2905422-000  2021-02-01  \n...                ...          ...         ...  \n6736386     technology  2909440-000  2021-02-01  \n2021775         sports  2906395-000  2021-02-01  \n2021776  entertainment  2906416-000  2021-02-01  \n6736387     technology  2909558-000  2021-02-01  \n6339977  entertainment  2908509-000  2021-02-01  \n\n[6928 rows x 9 columns]",
      "text/html": "<div>\n<style scoped>\n    .dataframe tbody tr th:only-of-type {\n        vertical-align: middle;\n    }\n\n    .dataframe tbody tr th {\n        vertical-align: top;\n    }\n\n    .dataframe thead th {\n        text-align: right;\n    }\n</style>\n<table border=\"1\" class=\"dataframe\">\n  <thead>\n    <tr style=\"text-align: right;\">\n      <th></th>\n      <th>aid</th>\n      <th>title</th>\n      <th>source</th>\n      <th>language</th>\n      <th>collectedAt</th>\n      <th>location</th>\n      <th>category</th>\n      <th>iid</th>\n      <th>date</th>\n    </tr>\n  </thead>\n  <tbody>\n    <tr>\n      <th>6339958</th>\n      <td>2907816</td>\n      <td>The most notable new products in online cinema...</td>\n      <td>Newsru.com</td>\n      <td>ru</td>\n      <td>2021-02-01 14:11:00+00:00</td>\n      <td>ru</td>\n      <td>general</td>\n      <td>2907816-000</td>\n      <td>2021-02-01</td>\n    </tr>\n    <tr>\n      <th>6339955</th>\n      <td>2907800</td>\n      <td>Samsung will copy a feature from LG that could...</td>\n      <td>Cnews.ru</td>\n      <td>ru</td>\n      <td>2021-02-01 14:11:00+00:00</td>\n      <td>ru</td>\n      <td>general</td>\n      <td>2907800-000</td>\n      <td>2021-02-01</td>\n    </tr>\n    <tr>\n      <th>6339962</th>\n      <td>2908166</td>\n      <td>“This is a challenge for me”: actor Zhidkov sh...</td>\n      <td>Teleprogramma.pro</td>\n      <td>ru</td>\n      <td>2021-02-01 14:11:00+00:00</td>\n      <td>ru</td>\n      <td>entertainment</td>\n      <td>2908166-000</td>\n      <td>2021-02-01</td>\n    </tr>\n    <tr>\n      <th>6339964</th>\n      <td>2908187</td>\n      <td>Platinum and molybdenum carbide helped produce...</td>\n      <td>Nplus1.ru</td>\n      <td>ru</td>\n      <td>2021-02-01 14:11:00+00:00</td>\n      <td>ru</td>\n      <td>science</td>\n      <td>2908187-000</td>\n      <td>2021-02-01</td>\n    </tr>\n    <tr>\n      <th>6339936</th>\n      <td>2905422</td>\n      <td>Fiber optic sensors will help monitor road qua...</td>\n      <td>Indicator.ru</td>\n      <td>ru</td>\n      <td>2021-02-01 14:11:00+00:00</td>\n      <td>ru</td>\n      <td>science</td>\n      <td>2905422-000</td>\n      <td>2021-02-01</td>\n    </tr>\n    <tr>\n      <th>...</th>\n      <td>...</td>\n      <td>...</td>\n      <td>...</td>\n      <td>...</td>\n      <td>...</td>\n      <td>...</td>\n      <td>...</td>\n      <td>...</td>\n      <td>...</td>\n    </tr>\n    <tr>\n      <th>6736386</th>\n      <td>2909440</td>\n      <td>Here’s how you can transfer WhatsApp chats to ...</td>\n      <td>The Hindu</td>\n      <td>en</td>\n      <td>2021-02-01 14:11:00+00:00</td>\n      <td>in</td>\n      <td>technology</td>\n      <td>2909440-000</td>\n      <td>2021-02-01</td>\n    </tr>\n    <tr>\n      <th>2021775</th>\n      <td>2906395</td>\n      <td>Shabana to Youm7 TV: Suleiman threatens Ajay’s...</td>\n      <td>Youm7.com</td>\n      <td>ar</td>\n      <td>2021-02-01 14:11:00+00:00</td>\n      <td>eg</td>\n      <td>sports</td>\n      <td>2906395-000</td>\n      <td>2021-02-01</td>\n    </tr>\n    <tr>\n      <th>2021776</th>\n      <td>2906416</td>\n      <td>What is the difference...the most prominent di...</td>\n      <td>Youm7.com</td>\n      <td>ar</td>\n      <td>2021-02-01 14:11:00+00:00</td>\n      <td>eg</td>\n      <td>entertainment</td>\n      <td>2906416-000</td>\n      <td>2021-02-01</td>\n    </tr>\n    <tr>\n      <th>6736387</th>\n      <td>2909558</td>\n      <td>MediaTek Entered Apple’s Supply Chain, Will Sh...</td>\n      <td>Gizchina.com</td>\n      <td>en</td>\n      <td>2021-02-01 14:11:00+00:00</td>\n      <td>in</td>\n      <td>technology</td>\n      <td>2909558-000</td>\n      <td>2021-02-01</td>\n    </tr>\n    <tr>\n      <th>6339977</th>\n      <td>2908509</td>\n      <td>Media: Elena Stepanenko secretly had an operat...</td>\n      <td>Www.mk.ru</td>\n      <td>ru</td>\n      <td>2021-02-01 14:11:00+00:00</td>\n      <td>ru</td>\n      <td>entertainment</td>\n      <td>2908509-000</td>\n      <td>2021-02-01</td>\n    </tr>\n  </tbody>\n</table>\n<p>6928 rows × 9 columns</p>\n</div>"
     },
     "execution_count": 453,
     "metadata": {},
     "output_type": "execute_result"
    }
   ],
   "source": [
    "df[df['date'] == target][]"
   ],
   "metadata": {
    "collapsed": false,
    "ExecuteTime": {
     "end_time": "2023-11-05T14:02:58.316688212Z",
     "start_time": "2023-11-05T14:02:58.288398676Z"
    }
   },
   "id": "9404f6c4ef56c5ed"
  },
  {
   "cell_type": "code",
   "execution_count": null,
   "outputs": [],
   "source": [],
   "metadata": {
    "collapsed": false
   },
   "id": "f64f4e5a3ba53180"
  },
  {
   "cell_type": "code",
   "execution_count": null,
   "outputs": [],
   "source": [],
   "metadata": {
    "collapsed": false
   },
   "id": "3f471e4962c12a28"
  },
  {
   "cell_type": "code",
   "execution_count": 77,
   "outputs": [],
   "source": [
    "# art['en-content']"
   ],
   "metadata": {
    "collapsed": false,
    "ExecuteTime": {
     "end_time": "2023-11-03T15:31:25.547616669Z",
     "start_time": "2023-11-03T15:31:25.513410840Z"
    }
   },
   "id": "c242417f51307e95"
  },
  {
   "cell_type": "code",
   "execution_count": 102,
   "outputs": [
    {
     "name": "stdout",
     "output_type": "stream",
     "text": [
      "['continue', 'has', 'find', 'continue', 'has']\n"
     ]
    }
   ],
   "source": [
    "verbs = [token.text for token in doc if token.pos_ == \"VERB\"]\n",
    "\n",
    "print(verbs)  # Output: ['jumps']"
   ],
   "metadata": {
    "collapsed": false,
    "ExecuteTime": {
     "end_time": "2023-11-03T15:43:09.970795561Z",
     "start_time": "2023-11-03T15:43:09.928521780Z"
    }
   },
   "id": "58d48849417a6a25"
  },
  {
   "cell_type": "code",
   "execution_count": null,
   "outputs": [],
   "source": [],
   "metadata": {
    "collapsed": false
   },
   "id": "8f77999dca2c1db8"
  },
  {
   "cell_type": "code",
   "execution_count": null,
   "outputs": [],
   "source": [],
   "metadata": {
    "collapsed": false
   },
   "id": "8b9b68f4b4f5a44c"
  },
  {
   "cell_type": "code",
   "execution_count": null,
   "outputs": [],
   "source": [],
   "metadata": {
    "collapsed": false
   },
   "id": "be42159d3bde84bb"
  },
  {
   "cell_type": "code",
   "execution_count": 77,
   "outputs": [
    {
     "name": "stdout",
     "output_type": "stream",
     "text": [
      "Argentina's nuclear power plants achieved a record in electricity production - Facts.BG\n",
      "The company operator of the Argentine nuclear power plants Nucleoéléctrica Argentina ..\n",
      "Nuclear Power Argentina 2020, Grupo La Provincia. „“ 1 2 „“ 7,947 1 - 30 . , 2020 . , , 5,059 . „, “, .\n",
      "---------------  -\n",
      "Argentina        3\n",
      "power            2\n",
      "plant            2\n",
      "„                2\n",
      "record           1\n",
      "electricity      1\n",
      "production       1\n",
      "Facts.BG         1\n",
      "company          1\n",
      "operator         1\n",
      "Argentine        1\n",
      "Nucleoéléctrica  1\n",
      "..               1\n",
      "Nuclear          1\n",
      "Power            1\n",
      "Grupo            1\n",
      "La               1\n",
      "Provincia        1\n",
      "“                1\n",
      "---------------  -\n"
     ]
    }
   ],
   "source": [
    "\n",
    "text = to_prompt(art)\n",
    "# rake_nltk_var.extract_keywords_from_text(text)\n",
    "# keywords = rake_nltk_var.get_ranked_phrases()\n",
    "\n",
    "tokens = word_tokenize(text)\n",
    "tokens = [word for word in tokens if word.lower() not in stopwords.words('english')]\n",
    "\n",
    "# wordcloud = WordCloud(width = 800, height = 800, background_color ='white', min_font_size = 10).generate(' '.join(tokens))\n",
    "# keywords = wordcloud.words_\n",
    "\n",
    "# # tokens = word_tokenize(text.lower())  # Lowercasing\n",
    "# tokens = word_tokenize(text)\n",
    "lemmatized_tokens = [lemmatizer.lemmatize(token) for token in tokens]\n",
    "\n",
    "tags = pos_tag(lemmatized_tokens)\n",
    "keywords = [word for word, pos in tags if pos in ['NN', 'NNP']]\n",
    "\n",
    "keyword_freq = Counter(keywords)\n",
    "# print(f'Input: {title!r}')\n",
    "print(text)\n",
    "print(tabulate(keyword_freq.most_common()))"
   ],
   "metadata": {
    "collapsed": false,
    "ExecuteTime": {
     "end_time": "2023-11-02T16:46:24.180394409Z",
     "start_time": "2023-11-02T16:46:24.123434324Z"
    }
   },
   "id": "dfbe6f4a2c8780fd"
  },
  {
   "cell_type": "code",
   "execution_count": null,
   "outputs": [],
   "source": [],
   "metadata": {
    "collapsed": false
   },
   "id": "7d9d5dd795b61606"
  },
  {
   "cell_type": "code",
   "execution_count": 26,
   "outputs": [
    {
     "data": {
      "text/plain": "['today']"
     },
     "execution_count": 26,
     "metadata": {},
     "output_type": "execute_result"
    }
   ],
   "source": [
    "rake_nltk_var.extract_keywords_from_text(art['source-name'])\n",
    "rake_nltk_var.get_ranked_phrases()"
   ],
   "metadata": {
    "collapsed": false,
    "ExecuteTime": {
     "end_time": "2023-11-02T15:45:24.085002870Z",
     "start_time": "2023-11-02T15:45:24.016442976Z"
    }
   },
   "id": "b55f9764a23b646"
  },
  {
   "cell_type": "code",
   "execution_count": 30,
   "outputs": [
    {
     "name": "stderr",
     "output_type": "stream",
     "text": [
      "[nltk_data] Downloading package averaged_perceptron_tagger to\n",
      "[nltk_data]     /home/fleeb/nltk_data...\n",
      "[nltk_data]   Unzipping taggers/averaged_perceptron_tagger.zip.\n",
      "[nltk_data] Downloading package maxent_ne_chunker to\n",
      "[nltk_data]     /home/fleeb/nltk_data...\n",
      "[nltk_data]   Package maxent_ne_chunker is already up-to-date!\n",
      "[nltk_data] Downloading package words to /home/fleeb/nltk_data...\n",
      "[nltk_data]   Package words is already up-to-date!\n"
     ]
    }
   ],
   "source": [
    "import nltk\n",
    "from nltk import word_tokenize, pos_tag, ne_chunk\n",
    "nltk.download('averaged_perceptron_tagger')\n",
    "nltk.download('maxent_ne_chunker')\n",
    "nltk.download('words')\n",
    "\n",
    "sentence = \"Apple is looking at buying U.K. startup for $1 billion\"\n",
    "tokens = word_tokenize(sentence)\n",
    "tags = pos_tag(tokens)\n",
    "tree = ne_chunk(tags)\n",
    "keywords = [leaf for leaf in tree if isinstance(leaf, nltk.Tree)]\n"
   ],
   "metadata": {
    "collapsed": false,
    "ExecuteTime": {
     "end_time": "2023-11-02T15:53:14.130031362Z",
     "start_time": "2023-11-02T15:53:13.810273599Z"
    }
   },
   "id": "7f2f5fe76c6c9b7f"
  },
  {
   "cell_type": "code",
   "execution_count": 31,
   "outputs": [
    {
     "data": {
      "text/plain": "[Tree('GPE', [('Apple', 'NNP')])]"
     },
     "execution_count": 31,
     "metadata": {},
     "output_type": "execute_result"
    }
   ],
   "source": [
    "keywords"
   ],
   "metadata": {
    "collapsed": false,
    "ExecuteTime": {
     "end_time": "2023-11-02T15:53:21.257383587Z",
     "start_time": "2023-11-02T15:53:21.191848236Z"
    }
   },
   "id": "af43963870e5ab48"
  },
  {
   "cell_type": "code",
   "execution_count": 34,
   "outputs": [
    {
     "name": "stderr",
     "output_type": "stream",
     "text": [
      "[nltk_data] Downloading package punkt to /home/fleeb/nltk_data...\n",
      "[nltk_data]   Package punkt is already up-to-date!\n"
     ]
    }
   ],
   "source": [
    "import nltk\n",
    "from nltk import FreqDist\n",
    "from nltk.tokenize import word_tokenize\n",
    "\n",
    "nltk.download('punkt')\n",
    "\n",
    "text = \"This is a sample sentence, showing off the stop words filtration.\"\n",
    "tokens = word_tokenize(text)\n",
    "fdist = FreqDist(tokens)\n",
    "keywords = [word for word, count in fdist.items() if count > 1]\n"
   ],
   "metadata": {
    "collapsed": false,
    "ExecuteTime": {
     "end_time": "2023-11-02T15:56:34.927314537Z",
     "start_time": "2023-11-02T15:56:34.897711764Z"
    }
   },
   "id": "b7686fc285a05927"
  },
  {
   "cell_type": "code",
   "execution_count": 35,
   "outputs": [
    {
     "data": {
      "text/plain": "[]"
     },
     "execution_count": 35,
     "metadata": {},
     "output_type": "execute_result"
    }
   ],
   "source": [
    "keywords"
   ],
   "metadata": {
    "collapsed": false,
    "ExecuteTime": {
     "end_time": "2023-11-02T15:56:35.327043270Z",
     "start_time": "2023-11-02T15:56:35.251117633Z"
    }
   },
   "id": "193b1c810321fbc8"
  },
  {
   "cell_type": "code",
   "execution_count": 38,
   "outputs": [
    {
     "name": "stderr",
     "output_type": "stream",
     "text": [
      "[nltk_data] Downloading package averaged_perceptron_tagger to\n",
      "[nltk_data]     /home/fleeb/nltk_data...\n",
      "[nltk_data]   Package averaged_perceptron_tagger is already up-to-\n",
      "[nltk_data]       date!\n"
     ]
    },
    {
     "data": {
      "text/plain": "['brown', 'fox', 'dog']"
     },
     "execution_count": 38,
     "metadata": {},
     "output_type": "execute_result"
    }
   ],
   "source": [
    "import nltk\n",
    "from nltk.tokenize import word_tokenize\n",
    "\n",
    "nltk.download('averaged_perceptron_tagger')\n",
    "\n",
    "text = \"The quick brown fox jumps over the lazy dog\"\n",
    "tokens = word_tokenize(text)\n",
    "tags = pos_tag(tokens)\n",
    "keywords = [word for word, pos in tags if pos in ['NN', 'NNP']]\n",
    "keywords"
   ],
   "metadata": {
    "collapsed": false,
    "ExecuteTime": {
     "end_time": "2023-11-02T15:57:16.083880385Z",
     "start_time": "2023-11-02T15:57:16.038694263Z"
    }
   },
   "id": "d38196b597571a28"
  },
  {
   "cell_type": "code",
   "execution_count": 7,
   "outputs": [
    {
     "name": "stderr",
     "output_type": "stream",
     "text": [
      "[nltk_data] Downloading package wordnet to /home/fleeb/nltk_data...\n",
      "[nltk_data] Downloading package punkt to /home/fleeb/nltk_data...\n",
      "[nltk_data]   Unzipping tokenizers/punkt.zip.\n"
     ]
    },
    {
     "data": {
      "text/plain": "True"
     },
     "execution_count": 7,
     "metadata": {},
     "output_type": "execute_result"
    }
   ],
   "source": [
    "import nltk\n",
    "from nltk.stem import WordNetLemmatizer\n",
    "from nltk.tokenize import word_tokenize\n",
    "\n",
    "nltk.download('wordnet')\n",
    "nltk.download('punkt')\n"
   ],
   "metadata": {
    "collapsed": false,
    "ExecuteTime": {
     "end_time": "2023-11-02T15:38:35.955936166Z",
     "start_time": "2023-11-02T15:38:32.257926236Z"
    }
   },
   "id": "bd142ab40cd4efac"
  },
  {
   "cell_type": "code",
   "execution_count": 12,
   "outputs": [],
   "source": [
    "from rake_nltk import Rake\n",
    "\n",
    "rake_nltk_var = Rake()\n",
    "text = \"This is a sample sentence, showing off the stop words filtration.\"\n",
    "rake_nltk_var.extract_keywords_from_text(text)\n",
    "keyword_ranked_phrases = rake_nltk_var.get_ranked_phrases()\n"
   ],
   "metadata": {
    "collapsed": false,
    "ExecuteTime": {
     "end_time": "2023-11-02T15:40:18.225194546Z",
     "start_time": "2023-11-02T15:40:18.175791239Z"
    }
   },
   "id": "ec8e94972557711"
  },
  {
   "cell_type": "code",
   "execution_count": 13,
   "outputs": [
    {
     "data": {
      "text/plain": "['stop words filtration', 'sample sentence', 'showing']"
     },
     "execution_count": 13,
     "metadata": {},
     "output_type": "execute_result"
    }
   ],
   "source": [
    "keyword_ranked_phrases"
   ],
   "metadata": {
    "collapsed": false,
    "ExecuteTime": {
     "end_time": "2023-11-02T15:40:23.975406112Z",
     "start_time": "2023-11-02T15:40:23.942354721Z"
    }
   },
   "id": "c3f3921fb319c42d"
  },
  {
   "cell_type": "code",
   "execution_count": 63,
   "outputs": [
    {
     "name": "stdout",
     "output_type": "stream",
     "text": [
      "[array([['hits', 'high', 'lawsuits', 'global', 'giants', 'face',\n",
      "        'climate', 'change', 'challenge', 'antitrust']], dtype=object)]\n"
     ]
    }
   ],
   "source": [
    "import nltk\n",
    "from sklearn.feature_extraction.text import TfidfVectorizer\n",
    "\n",
    "# Sample headlines\n",
    "headlines = [\n",
    "    \"Climate Change: A Global Challenge\",\n",
    "    \"Tech Giants Face Antitrust Lawsuits\",\n",
    "    \"Stock Market Hits Record High\"\n",
    "]\n",
    "\n",
    "# Preprocess text\n",
    "preprocessed_headlines = [headline.lower() for headline in headlines]\n",
    "\n",
    "# Create TF-IDF Vectorizer\n",
    "vectorizer = TfidfVectorizer(max_df=0.85, max_features=10, stop_words='english')\n",
    "tfidf_matrix = vectorizer.fit_transform(preprocessed_headlines)\n",
    "\n",
    "# Extract keywords\n",
    "feature_names = vectorizer.get_feature_names_out()\n",
    "keywords = [feature_names[idx] for idx in tfidf_matrix.sum(axis=0).argsort()[0, ::-1]]\n",
    "print(keywords)\n"
   ],
   "metadata": {
    "collapsed": false,
    "ExecuteTime": {
     "end_time": "2023-11-02T16:25:29.197647450Z",
     "start_time": "2023-11-02T16:25:29.154630138Z"
    }
   },
   "id": "5e010c2cde5ce9df"
  },
  {
   "cell_type": "code",
   "execution_count": 64,
   "outputs": [],
   "source": [
    "import spacy\n",
    "nlp = spacy.load('en_core_web_sm')"
   ],
   "metadata": {
    "collapsed": false,
    "ExecuteTime": {
     "end_time": "2023-11-02T16:38:20.381525776Z",
     "start_time": "2023-11-02T16:38:18.778950804Z"
    }
   },
   "id": "582ad0ac5cda786a"
  },
  {
   "cell_type": "code",
   "execution_count": 69,
   "outputs": [
    {
     "data": {
      "text/plain": "Argentina's nuclear power plants achieved a record in electricity production - Facts.BG\nThe company operator of the Argentine nuclear power plants Nucleoéléctrica Argentina ..\nNuclear Power Argentina 2020, Grupo La Provincia. „“ 1 2 „“ 7,947 1 - 30 . , 2020 . , , 5,059 . „, “, ."
     },
     "execution_count": 69,
     "metadata": {},
     "output_type": "execute_result"
    }
   ],
   "source": [
    "doc = nlp(text)\n",
    "# lemmatizer = nlp.add_pipe(\"lemmatizer\")\n",
    "# This usually happens under the hood\n",
    "# processed = lemmatizer(doc)\n",
    "# processed\n",
    "doc"
   ],
   "metadata": {
    "collapsed": false,
    "ExecuteTime": {
     "end_time": "2023-11-02T16:39:26.213371872Z",
     "start_time": "2023-11-02T16:39:26.156236760Z"
    }
   },
   "id": "d611e09a3c2b8111"
  },
  {
   "cell_type": "code",
   "execution_count": 76,
   "outputs": [
    {
     "data": {
      "text/plain": "['argentina',\n \"'s\",\n 'nuclear',\n 'power',\n 'plant',\n 'achieve',\n 'record',\n 'electricity',\n 'production',\n '-',\n 'fact',\n '.',\n 'bg',\n '\\n',\n 'company',\n 'operator',\n 'argentine',\n 'nuclear',\n 'power',\n 'plant',\n 'nucleoéléctrica',\n 'argentina',\n '..',\n '\\n',\n 'nuclear',\n 'power',\n 'argentina',\n '2020',\n ',',\n 'grupo',\n 'la',\n 'provincia',\n '.',\n '„',\n '\"',\n '1',\n '2',\n '„',\n '\"',\n '7,947',\n '1',\n '-',\n '30',\n '.',\n ',',\n '2020',\n '.',\n ',',\n ',',\n '5,059',\n '.',\n '„',\n ',',\n '\"',\n ',',\n '.']"
     },
     "execution_count": 76,
     "metadata": {},
     "output_type": "execute_result"
    }
   ],
   "source": [
    "lemmatized_tokens = [token.lemma_.lower() for token in doc if str(token).lower() not in stopwords.words('english')]\n",
    "lemmatized_tokens"
   ],
   "metadata": {
    "collapsed": false,
    "ExecuteTime": {
     "end_time": "2023-11-02T16:42:35.508628671Z",
     "start_time": "2023-11-02T16:42:35.453283407Z"
    }
   },
   "id": "9c1aa97e2e3f9d74"
  },
  {
   "cell_type": "code",
   "execution_count": 74,
   "outputs": [
    {
     "data": {
      "text/plain": "'Argentina'"
     },
     "execution_count": 74,
     "metadata": {},
     "output_type": "execute_result"
    }
   ],
   "source": [
    "from nltk.stem import WordNetLemmatizer\n",
    "\n",
    "lemmatizer = WordNetLemmatizer()\n",
    "\n"
   ],
   "metadata": {
    "collapsed": false,
    "ExecuteTime": {
     "end_time": "2023-11-02T16:41:54.732237043Z",
     "start_time": "2023-11-02T16:41:54.701254567Z"
    }
   },
   "id": "1968b6035006a46f"
  },
  {
   "cell_type": "code",
   "execution_count": 8,
   "outputs": [],
   "source": [
    "\n",
    "# Initialize lemmatizer\n",
    "lemmatizer = WordNetLemmatizer()\n",
    "\n",
    "# Example text\n",
    "text = \"Barack Obama, President Obama, and Obama are all referring to the same person.\"\n",
    "\n",
    "# Tokenize and lemmatize\n",
    "tokens = word_tokenize(text.lower())  # Lowercasing\n",
    "lemmatized_tokens = [lemmatizer.lemmatize(token) for token in tokens]\n",
    "\n",
    "# Now 'Barack Obama', 'President Obama', and 'Obama' can be processed further for similarity matching or synonym mapping\n"
   ],
   "metadata": {
    "collapsed": false,
    "ExecuteTime": {
     "end_time": "2023-11-02T15:38:40.178690Z",
     "start_time": "2023-11-02T15:38:39.666855407Z"
    }
   },
   "id": "ba3335c606ba506"
  },
  {
   "cell_type": "code",
   "execution_count": 9,
   "outputs": [
    {
     "data": {
      "text/plain": "['barack',\n 'obama',\n ',',\n 'president',\n 'obama',\n ',',\n 'and',\n 'obama',\n 'are',\n 'all',\n 'referring',\n 'to',\n 'the',\n 'same',\n 'person',\n '.']"
     },
     "execution_count": 9,
     "metadata": {},
     "output_type": "execute_result"
    }
   ],
   "source": [
    "lemmatized_tokens"
   ],
   "metadata": {
    "collapsed": false,
    "ExecuteTime": {
     "end_time": "2023-11-02T15:38:44.379334150Z",
     "start_time": "2023-11-02T15:38:44.205418852Z"
    }
   },
   "id": "f285357e16b33185"
  },
  {
   "cell_type": "code",
   "execution_count": 82,
   "outputs": [
    {
     "name": "stdout",
     "output_type": "stream",
     "text": [
      "Group 0: ['Apple', 'new iPhone', 'Microsoft', 'Windows', 'Windows', 'new features', 'Apple iPhone sales skyrocket']\n",
      "Group 1: ['New iPhone']\n",
      "Group 2: ['positive reviews']\n"
     ]
    }
   ],
   "source": [
    "import spacy\n",
    "from sklearn.cluster import DBSCAN\n",
    "import numpy as np\n",
    "\n",
    "# Load SpaCy NLP model\n",
    "nlp = spacy.load('en_core_web_md')\n",
    "# nlp = spacy.load('en_core_web_sm')\n",
    "\n",
    "# Example dataset of news headlines\n",
    "headlines = [\n",
    "    \"Apple announces new iPhone\",\n",
    "    \"Microsoft releases Windows 11\",\n",
    "    \"New iPhone receives positive reviews\",\n",
    "    \"Windows 11 has new features\",\n",
    "    \"Apple iPhone sales skyrocket\",\n",
    "]\n",
    "\n",
    "# Preprocess headlines and extract noun phrases\n",
    "noun_phrases = []\n",
    "for headline in headlines:\n",
    "    doc = nlp(headline)\n",
    "    for p in doc.noun_chunks:\n",
    "        noun_phrases.append(str(p))\n",
    "\n",
    "# Convert noun phrases to vectors\n",
    "vectors = [nlp(p).vector for p in noun_phrases]\n",
    "\n",
    "# Apply DBSCAN clustering\n",
    "clustering = DBSCAN(eps=0.5, min_samples=1, metric='cosine').fit(np.array(vectors))\n",
    "labels = clustering.labels_\n",
    "\n",
    "# Group noun phrases based on clustering results\n",
    "groups = {}\n",
    "for np, label in zip(noun_phrases, labels):\n",
    "    if label not in groups:\n",
    "        groups[label] = []\n",
    "    groups[label].append(np)\n",
    "\n",
    "# Print the grouped noun phrases\n",
    "for label, nps in groups.items():\n",
    "    print(f\"Group {label}: {nps}\")\n"
   ],
   "metadata": {
    "collapsed": false,
    "ExecuteTime": {
     "end_time": "2023-11-02T16:52:02.691927575Z",
     "start_time": "2023-11-02T16:52:01.760943419Z"
    }
   },
   "id": "738ef2d7613d5c73"
  },
  {
   "cell_type": "code",
   "execution_count": null,
   "outputs": [],
   "source": [],
   "metadata": {
    "collapsed": false
   },
   "id": "ad91d0af77a60424"
  },
  {
   "cell_type": "code",
   "execution_count": null,
   "outputs": [],
   "source": [],
   "metadata": {
    "collapsed": false
   },
   "id": "8aa3a48511da59f"
  }
 ],
 "metadata": {
  "kernelspec": {
   "display_name": "Python 3",
   "language": "python",
   "name": "python3"
  },
  "language_info": {
   "codemirror_mode": {
    "name": "ipython",
    "version": 2
   },
   "file_extension": ".py",
   "mimetype": "text/x-python",
   "name": "python",
   "nbconvert_exporter": "python",
   "pygments_lexer": "ipython2",
   "version": "2.7.6"
  }
 },
 "nbformat": 4,
 "nbformat_minor": 5
}
