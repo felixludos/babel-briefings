{
 "cells": [
  {
   "cell_type": "code",
   "execution_count": 9,
   "id": "initial_id",
   "metadata": {
    "collapsed": true,
    "ExecuteTime": {
     "end_time": "2024-03-29T20:12:50.681545Z",
     "start_time": "2024-03-29T20:12:50.677600Z"
    }
   },
   "outputs": [],
   "source": [
    "from pathlib import Path\n",
    "from tqdm.notebook import tqdm\n",
    "from omnibelt import load_json, save_json"
   ]
  },
  {
   "cell_type": "code",
   "outputs": [
    {
     "data": {
      "text/plain": "13"
     },
     "execution_count": 6,
     "metadata": {},
     "output_type": "execute_result"
    }
   ],
   "source": [
    "downloads_dir = Path('~/Downloads').expanduser()\n",
    "paths = list(downloads_dir.glob('babel-briefings-v1-*.json'))\n",
    "len(paths)"
   ],
   "metadata": {
    "collapsed": false,
    "ExecuteTime": {
     "end_time": "2024-03-29T20:10:29.651004Z",
     "start_time": "2024-03-29T20:10:29.641127Z"
    }
   },
   "id": "607ce31181b2a5e3",
   "execution_count": 6
  },
  {
   "cell_type": "code",
   "outputs": [
    {
     "data": {
      "text/plain": "  0%|          | 0/13 [00:00<?, ?it/s]",
      "application/vnd.jupyter.widget-view+json": {
       "version_major": 2,
       "version_minor": 0,
       "model_id": "7d8b0f1ba73d4465965031b3b09a4eb0"
      }
     },
     "metadata": {},
     "output_type": "display_data"
    }
   ],
   "source": [
    "for path in tqdm(paths):\n",
    "\tdata = load_json(path)\n",
    "\tfor sample in data:\n",
    "\t\tfor key in ['en-title', 'en-description', 'en-content']:\n",
    "\t\t\tassert key not in sample\n",
    "\t\t\tsample[key] = None\n",
    "\tsave_json(data, path)"
   ],
   "metadata": {
    "collapsed": false,
    "ExecuteTime": {
     "end_time": "2024-03-29T20:14:51.795428Z",
     "start_time": "2024-03-29T20:13:42.725645Z"
    }
   },
   "id": "b3556cf495c989be",
   "execution_count": 12
  },
  {
   "cell_type": "code",
   "outputs": [],
   "source": [],
   "metadata": {
    "collapsed": false,
    "ExecuteTime": {
     "end_time": "2024-03-29T20:07:57.384524Z",
     "start_time": "2024-03-29T20:07:57.380843Z"
    }
   },
   "id": "5c89ef285fe9e92b",
   "execution_count": 1
  },
  {
   "cell_type": "code",
   "outputs": [],
   "source": [],
   "metadata": {
    "collapsed": false
   },
   "id": "feead795ec2b0ef8"
  }
 ],
 "metadata": {
  "kernelspec": {
   "display_name": "Python 3",
   "language": "python",
   "name": "python3"
  },
  "language_info": {
   "codemirror_mode": {
    "name": "ipython",
    "version": 2
   },
   "file_extension": ".py",
   "mimetype": "text/x-python",
   "name": "python",
   "nbconvert_exporter": "python",
   "pygments_lexer": "ipython2",
   "version": "2.7.6"
  }
 },
 "nbformat": 4,
 "nbformat_minor": 5
}
