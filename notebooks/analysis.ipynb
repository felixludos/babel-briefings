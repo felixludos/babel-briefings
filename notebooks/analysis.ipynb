{
 "cells": [
  {
   "cell_type": "code",
   "execution_count": 1,
   "id": "initial_id",
   "metadata": {
    "collapsed": true,
    "ExecuteTime": {
     "end_time": "2023-10-17T12:39:30.123077526Z",
     "start_time": "2023-10-17T12:39:29.971568553Z"
    }
   },
   "outputs": [],
   "source": [
    "from pathlib import Path\n",
    "from tqdm.notebook import tqdm\n",
    "from tabulate import tabulate\n",
    "import random\n",
    "import pycountry\n",
    "import networkx as nx\n",
    "from dateutil import parser\n",
    "from datetime import datetime\n",
    "from collections import Counter\n",
    "from langdetect import detect\n",
    "from omnibelt import load_json, save_json"
   ]
  },
  {
   "cell_type": "code",
   "execution_count": 2,
   "outputs": [
    {
     "data": {
      "text/plain": "54"
     },
     "execution_count": 2,
     "metadata": {},
     "output_type": "execute_result"
    }
   ],
   "source": [
    "root = Path('/home/fleeb/workspace/local_data/nnn')\n",
    "recs = (root/'global-news-headlines').glob('**/*.json')\n",
    "recs = list(recs)\n",
    "len(recs)"
   ],
   "metadata": {
    "collapsed": false,
    "ExecuteTime": {
     "end_time": "2023-10-17T12:39:30.352974280Z",
     "start_time": "2023-10-17T12:39:30.333045486Z"
    }
   },
   "id": "a01e756ba4171845"
  },
  {
   "cell_type": "code",
   "execution_count": 3,
   "outputs": [
    {
     "data": {
      "text/plain": "  0%|          | 0/54 [00:00<?, ?it/s]",
      "application/vnd.jupyter.widget-view+json": {
       "version_major": 2,
       "version_minor": 0,
       "model_id": "6f8bb70576114283b33f34163b7f2b6a"
      }
     },
     "metadata": {},
     "output_type": "display_data"
    },
    {
     "data": {
      "text/plain": "4719199"
     },
     "execution_count": 3,
     "metadata": {},
     "output_type": "execute_result"
    }
   ],
   "source": [
    "articles = []\n",
    "for rec in tqdm(recs):\n",
    "\tarticles.extend(load_json(rec))\n",
    "len(articles)"
   ],
   "metadata": {
    "collapsed": false,
    "ExecuteTime": {
     "end_time": "2023-10-17T12:40:11.555857474Z",
     "start_time": "2023-10-17T12:39:31.028853547Z"
    }
   },
   "id": "252e5a649d332858"
  },
  {
   "cell_type": "code",
   "execution_count": 4,
   "outputs": [
    {
     "data": {
      "text/plain": "  0%|          | 0/4719199 [00:00<?, ?it/s]",
      "application/vnd.jupyter.widget-view+json": {
       "version_major": 2,
       "version_minor": 0,
       "model_id": "a72d4300c6b14a41827cb697277825c3"
      }
     },
     "metadata": {},
     "output_type": "display_data"
    },
    {
     "data": {
      "text/plain": "54"
     },
     "execution_count": 4,
     "metadata": {},
     "output_type": "execute_result"
    }
   ],
   "source": [
    "by_loc = {}\n",
    "for article in tqdm(articles):\n",
    "\tfor instance in article['instances']:\n",
    "\t\tby_loc.setdefault(instance['location'], []).append(article)\n",
    "country_names = {code: pycountry.countries.get(alpha_2=code.upper()).name.split(',')[0] for code in by_loc}\n",
    "clusters = {\n",
    "\t'english': {'sa', 'ie', 'sg', 'us', 'ph', 'au', 'my', 'za', 'in', 'nz', 'ca', 'gb', 'ng'}, \n",
    "\t'spanish': {'ar', 've', 'co', 'cu', 'mx'}, \n",
    "\t'arabic': {'ae', 'eg'}, \n",
    "\t'german': {'at', 'de', 'ch'}, \n",
    "\t'chinese': {'tw', 'hk', 'cn'}, \n",
    "\t'french': {'be', 'fr', 'ma'}, \n",
    "\t'portuguese': {'pt', 'br'},\n",
    "}\n",
    "to_cluster = {country_names[loc]: cluster for cluster, locs in clusters.items() for loc in locs}\n",
    "len(by_loc)"
   ],
   "metadata": {
    "collapsed": false,
    "ExecuteTime": {
     "end_time": "2023-10-17T12:40:13.419978489Z",
     "start_time": "2023-10-17T12:40:11.555946707Z"
    }
   },
   "id": "f4e09821b955764b"
  },
  {
   "cell_type": "code",
   "execution_count": 5,
   "outputs": [],
   "source": [
    "def show_date(date):\n",
    "\treturn date.strftime('%d %b%y')\n",
    "def get_locs(article):\n",
    "\treturn [f'{country_names[loc]}' for loc in sorted(set(i['location'] for i in article['instances']))]\n",
    "def get_cats(article):\n",
    "\treturn [f'<{cat}>' for cat in sorted(set(i['category'] for i in article['instances']))]\n",
    "def view_article(art, detailed=False):\n",
    "\tcats = ' '.join(get_cats(art))\n",
    "\tlocs = ', '.join(map(repr,get_locs(art)))\n",
    "\tfirst = min(i['collected'] for i in art['instances'])\n",
    "\tlast = max(i['collected'] for i in art['instances'])\n",
    "\ttiming = f'{show_date(first)}' if first==last else f'{show_date(first)} - {show_date(last)}'\n",
    "\tprint(f'''Title: {art['title']!r}\n",
    "Categories: {cats}   ---   {locs} ({timing})\n",
    "Published: {show_date(art['published'])}'''\n",
    "\t) # ({art['source-name']})\n",
    "\tif detailed:\n",
    "\t\tprint(f'''Description: {art['description']}''')\n",
    "\t\t# print(f'''Content: {art['content']}''')"
   ],
   "metadata": {
    "collapsed": false,
    "ExecuteTime": {
     "end_time": "2023-10-17T12:40:13.465802978Z",
     "start_time": "2023-10-17T12:40:13.421108771Z"
    }
   },
   "id": "b74fb36ed427df7d"
  },
  {
   "cell_type": "code",
   "execution_count": 7,
   "outputs": [
    {
     "data": {
      "text/plain": "  0%|          | 0/4719199 [00:00<?, ?it/s]",
      "application/vnd.jupyter.widget-view+json": {
       "version_major": 2,
       "version_minor": 0,
       "model_id": "931cc09371834b39b8e44c81e2f3ac99"
      }
     },
     "metadata": {},
     "output_type": "display_data"
    },
    {
     "data": {
      "text/plain": "4719199"
     },
     "execution_count": 7,
     "metadata": {},
     "output_type": "execute_result"
    }
   ],
   "source": [
    "world = [a for a in articles]# if a['langdetect'] == 'en']\n",
    "for a in tqdm(world):\n",
    "\tif 'published' not in a and isinstance(a['publishedAt'], str):\n",
    "\t\ta['published'] = parser.parse(a['publishedAt'])\n",
    "\tfor i in a['instances']:\n",
    "\t\tif 'collected' not in i and isinstance(i['collectedAt'], str):\n",
    "\t\t\ti['collected'] = parser.parse(i['collectedAt'])\n",
    "len(world)"
   ],
   "metadata": {
    "collapsed": false,
    "ExecuteTime": {
     "end_time": "2023-10-17T12:48:50.487441809Z",
     "start_time": "2023-10-17T12:42:36.649249522Z"
    }
   },
   "id": "6aeddae47094992c"
  },
  {
   "cell_type": "code",
   "execution_count": 8,
   "outputs": [
    {
     "name": "stdout",
     "output_type": "stream",
     "text": [
      "-----------  ------  -\n",
      "Nigeria      177832  1\n",
      "Philippines  176976  1\n",
      "Morocco      176357  1\n",
      "Brazil       175726  1\n",
      "Cuba         175488  1\n",
      "Canada       173911  1\n",
      "India        173891  1\n",
      "Australia    172501  1\n",
      "Argentina    169860  1\n",
      "Italy        169696  1\n",
      "-----------  ------  -\n"
     ]
    },
    {
     "data": {
      "text/plain": "54"
     },
     "execution_count": 8,
     "metadata": {},
     "output_type": "execute_result"
    }
   ],
   "source": [
    "locs = Counter([i['location'] for a in world for i in a['instances']])\n",
    "print(tabulate([country_names[key], count, count/len(by_loc[key])] for key, count in locs.most_common(10)))\n",
    "len(locs)"
   ],
   "metadata": {
    "collapsed": false,
    "ExecuteTime": {
     "end_time": "2023-10-17T12:50:45.930107570Z",
     "start_time": "2023-10-17T12:50:44.650964132Z"
    }
   },
   "id": "30d0b60b8c2a86ba"
  },
  {
   "cell_type": "code",
   "execution_count": 35,
   "outputs": [
    {
     "name": "stdout",
     "output_type": "stream",
     "text": [
      "Title: '«Тонкая талия и бесконечные ноги»: Ходченкова показала идеальную фигуру в бикини - Комсомольская правда'\n",
      "Categories: <entertainment>   ---   'Russian Federation' (16 Aug21)\n",
      "Published: 15 Aug21\n",
      "Description: Звезда нежится на пляже, готовясь к съемкам в «Анне Карениной»\n"
     ]
    },
    {
     "data": {
      "text/plain": "3759035"
     },
     "execution_count": 35,
     "metadata": {},
     "output_type": "execute_result"
    }
   ],
   "source": [
    "art = random.choice(world)\n",
    "view_article(art, True)\n",
    "ID = art['ID']\n",
    "ID"
   ],
   "metadata": {
    "collapsed": false,
    "ExecuteTime": {
     "end_time": "2023-10-17T12:57:20.057523390Z",
     "start_time": "2023-10-17T12:57:20.041359405Z"
    }
   },
   "id": "48153139c286e9d2"
  },
  {
   "cell_type": "code",
   "execution_count": 17,
   "outputs": [
    {
     "data": {
      "text/plain": "  0%|          | 0/4719199 [00:00<?, ?it/s]",
      "application/vnd.jupyter.widget-view+json": {
       "version_major": 2,
       "version_minor": 0,
       "model_id": "aa871ff7efa34e988a1fffba4e017a16"
      }
     },
     "metadata": {},
     "output_type": "display_data"
    },
    {
     "data": {
      "text/plain": "30"
     },
     "execution_count": 17,
     "metadata": {},
     "output_type": "execute_result"
    }
   ],
   "source": [
    "query = 'Aung San Suu Kyi'\n",
    "query = 'El Salvador'\n",
    "query = 'Jovenel Moïse'\n",
    "matches = [a for a in tqdm(world) if query in a['title']]\n",
    "len(matches)"
   ],
   "metadata": {
    "collapsed": false,
    "ExecuteTime": {
     "end_time": "2023-10-17T12:55:39.568360946Z",
     "start_time": "2023-10-17T12:55:38.180102278Z"
    }
   },
   "id": "8581da224a87df92"
  },
  {
   "cell_type": "code",
   "execution_count": 18,
   "outputs": [
    {
     "name": "stdout",
     "output_type": "stream",
     "text": [
      "--------  ----------  ------------------------------------------------------------------------------------------------------------------------\n",
      "07 Jul21  french      Le président haïtien Jovenel Moïse assassiné chez lui par un commando, la Maison Blanche prête à «assister - Sudinfo.be\n",
      "07 Jul21  spanish     Lamenta y condena Díaz-Canel asesinato del presidente haitiano, Jovenel Moïse - Cuba.cu\n",
      "08 Jul21  german      Jovenel Moïse: Festnahmen nach Präsidentenmord in Haiti - ZEIT ONLINE\n",
      "08 Jul21  english     What we know about the assassination of Haiti's President Jovenel Moïse - ABC News\n",
      "08 Jul21  french      Haïti : quatre «mercenaires» tués, deux arrêtés après l'assassinat de Jovenel Moïse - Le Figaro\n",
      "08 Jul21  spanish     Los asesinos del presidente de Haití, Jovenel Moïse, eran \"mercenarios vestidos como agentes de la DEA\" - Página 12\n",
      "09 Jul21  spanish     Gobierno de Haití confirma que 28 mercenarios están involucrados en el magnicidio de Jovenel Moïse - teleSUR TV\n",
      "09 Jul21  spanish     Haití: un comando colombiano-estadounidense habría asesinado al presidente Jovenel Moïse - Página 12\n",
      "09 Jul21  english     Haiti police say 26 Colombians, two US-Haitians took part in Jovenel Moïse assassination - The Guardian\n",
      "09 Jul21  german      Haitis Staatsoberhaupt Jovenel Moïse: Kolumbianer und Amerikaner beteiligt - BLICK\n",
      "09 Jul21  english     Foreign ‘mercenaries’ who assassinated Haiti President Jovenel Moïse paraded by gun cops in ute as US citizen arrested -\n",
      "09 Jul21  french      Qui est derrière l'assassinat du président Jovenel Moïse en Haïti? Ce que l'on sait - lalibre.be\n",
      "09 Jul21  french      Jovenel Moïse tué par 28 assaillants, dont 26 Colombiens (police haïtienne) - Euronews\n",
      "09 Jul21  spanish     Las 5 cosas que debes saber este 9 de julio: ¿Quién mandó a matar a Jovenel Moïse? - CNN\n",
      "09 Jul21  portuguese  Haiti: a indústria de mercenários colombianos que pode estar por trás do assassinato do presidente Jovenel Moïse - BBC N\n",
      "10 Jul21  spanish     Jovenel Moïse, presidente de Haití, fue torturado y descuartizado antes de ser asesinado a balazos - Debate\n",
      "11 Jul21  spanish     Jovenel Moïse: una empresa de seguridad habría contratado a los asesinos del presidente haitiano - LaRepública.pe\n",
      "12 Jul21  spanish     Feroz lucha por el poder en Haití tras el asesinato de Jovenel Moïse mientras el país se desmorona - infobae\n",
      "12 Jul21  portuguese  Haiti anuncia prisão de suposto mandante do assassinato do presidente Jovenel Moïse - O Globo\n",
      "12 Jul21  english     Haiti: 'Key suspect' arrested after President Jovenel Moïse's assassination - BBC News\n",
      "12 Jul21  french      Assassinat de Jovenel Moïse : qui est Christian E. Sanon, cerveau présumé de l'opération commando ? - FRANCE 24\n",
      "13 Jul21  spanish     Haití: investigan posible implicación del personal de seguridad de Jovenel Moïse en su asesinato - FRANCE 24 Español\n",
      "14 Jul21  spanish     Responsables de seguridad de Jovenel Moïse evaden declarar ante fiscal haitiano - teleSUR TV\n",
      "14 Jul21  spanish     Asesinato de Jovenel Moïse: la confesión de un exmilitar colombiano capturado | Semana Noticias - Revista Semana\n",
      "16 Jul21  spanish     Nuevas revelaciones sobre el magnicidio de Jovenel Moïse en Haití - Página 12\n",
      "16 Jul21  spanish     Confirman que dos colombianos dispararon contra Jovenel Moïse - Últimas Noticias\n",
      "17 Jul21  spanish     860.000 dólares habría sido el costo del asesinato del presidente Jovenel Moïse - Revista Semana\n",
      "25 Jul21  spanish     Confirmado: En camino delegación que viaja a Haití a verificar estado de exmilitares implicados en homicidio del preside\n",
      "07 Aug21  spanish     Jueces haitianos no quieren investigar muerte del presidente Jovenel Moïse; ¿por qué? - Pulzo.com\n",
      "12 Aug21  spanish     Asesinato de Jovenel Moïse: Premeditación, participación de los EEUU y complicidad del personal de seguridad - CubaDebat\n",
      "--------  ----------  ------------------------------------------------------------------------------------------------------------------------\n"
     ]
    }
   ],
   "source": [
    "print(tabulate([[show_date(a['published']), \n",
    "\t\t\t\t # '\\n'.join(get_locs(a)), \n",
    "\t\t\t\t '\\n'.join(sorted(set(map(lambda x: to_cluster.get(x,x), get_locs(a))))),\n",
    "\t\t\t\t a['title'][:120]\n",
    "\t\t\t\t ] for a in sorted(matches, key=lambda a: a['published'])]))"
   ],
   "metadata": {
    "collapsed": false,
    "ExecuteTime": {
     "end_time": "2023-10-17T12:55:40.335249061Z",
     "start_time": "2023-10-17T12:55:40.315777854Z"
    }
   },
   "id": "e7edc5df7e61a337"
  },
  {
   "cell_type": "code",
   "execution_count": null,
   "outputs": [],
   "source": [],
   "metadata": {
    "collapsed": false
   },
   "id": "b91bdcd3b743355e"
  },
  {
   "cell_type": "code",
   "execution_count": 37,
   "outputs": [],
   "source": [
    "# locs = {a['ID']: get_locs(a) for a in tqdm(world)}\n",
    "# len(locs)"
   ],
   "metadata": {
    "collapsed": false,
    "ExecuteTime": {
     "end_time": "2023-10-16T15:54:57.109068801Z",
     "start_time": "2023-10-16T15:54:57.067055744Z"
    }
   },
   "id": "89f52b235bc7714"
  },
  {
   "cell_type": "code",
   "execution_count": null,
   "outputs": [],
   "source": [
    "loc_ids = {loc: set(a['ID'] for a in by_loc[loc]) for loc in tqdm(by_loc)}\n",
    "len(loc_ids)"
   ],
   "metadata": {
    "collapsed": false
   },
   "id": "c9b0d2bd0d03068c"
  },
  {
   "cell_type": "code",
   "execution_count": 39,
   "outputs": [],
   "source": [
    "from itertools import combinations"
   ],
   "metadata": {
    "collapsed": false,
    "ExecuteTime": {
     "end_time": "2023-10-16T16:02:14.296570928Z",
     "start_time": "2023-10-16T16:02:14.285858383Z"
    }
   },
   "id": "375aeaf42009b869"
  },
  {
   "cell_type": "code",
   "execution_count": 41,
   "outputs": [
    {
     "data": {
      "text/plain": "  0%|          | 0/1431.0 [00:00<?, ?it/s]",
      "application/vnd.jupyter.widget-view+json": {
       "version_major": 2,
       "version_minor": 0,
       "model_id": "0da25aeb41e9470f9c8b4c843de58a92"
      }
     },
     "metadata": {},
     "output_type": "display_data"
    },
    {
     "data": {
      "text/plain": "1431"
     },
     "execution_count": 41,
     "metadata": {},
     "output_type": "execute_result"
    }
   ],
   "source": [
    "pair_counts = Counter()\n",
    "for loc_a, loc_b in tqdm(combinations(loc_ids.keys(), 2), total=len(loc_ids)*(len(loc_ids)-1)/2):\n",
    "\tpair = frozenset([loc_a, loc_b])\n",
    "\tif pair in pair_counts:\n",
    "\t\tcontinue\n",
    "\tpair_counts[pair] = len(loc_ids[loc_a] & loc_ids[loc_b])\n",
    "len(pair_counts)"
   ],
   "metadata": {
    "collapsed": false,
    "ExecuteTime": {
     "end_time": "2023-10-16T16:02:56.069346088Z",
     "start_time": "2023-10-16T16:02:52.848169529Z"
    }
   },
   "id": "f675d5621c3dc9cb"
  },
  {
   "cell_type": "code",
   "execution_count": 42,
   "outputs": [
    {
     "name": "stdout",
     "output_type": "stream",
     "text": [
      "------------  -----------  -----\n",
      "Saudi Arabia  Canada       98791\n",
      "Philippines   Nigeria      54747\n",
      "Philippines   Malaysia     44820\n",
      "Singapore     Malaysia     42380\n",
      "Nigeria       Malaysia     40625\n",
      "New Zealand   Philippines  38082\n",
      "New Zealand   Nigeria      38015\n",
      "New Zealand   Malaysia     37114\n",
      "Singapore     Philippines  36467\n",
      "South Africa  Nigeria      36007\n",
      "------------  -----------  -----\n"
     ]
    }
   ],
   "source": [
    "print(tabulate([[country_names[loc_a], country_names[loc_b], count] for (loc_a, loc_b), count in pair_counts.most_common(10)]))"
   ],
   "metadata": {
    "collapsed": false,
    "ExecuteTime": {
     "end_time": "2023-10-16T16:03:41.237223312Z",
     "start_time": "2023-10-16T16:03:41.190120372Z"
    }
   },
   "id": "720676d21e0e7071"
  },
  {
   "cell_type": "code",
   "execution_count": 117,
   "outputs": [
    {
     "name": "stdout",
     "output_type": "stream",
     "text": [
      "23 loners, 31 members\n"
     ]
    }
   ],
   "source": [
    "def get_neighbors(loc):\n",
    "\treturn Counter({loc_b if loc_a == loc else loc_a: count for (loc_a, loc_b), count in pair_counts.items() if loc_a == loc or loc_b == loc})\n",
    "\n",
    "loners = [loc for loc in loc_ids if get_neighbors(loc).most_common(1)[0][1] == 0]\n",
    "members = [loc for loc in loc_ids if loc not in loners]\n",
    "print(f'{len(loners)} loners, {len(members)} members')"
   ],
   "metadata": {
    "collapsed": false,
    "ExecuteTime": {
     "end_time": "2023-10-17T10:37:29.288879774Z",
     "start_time": "2023-10-17T10:37:29.190873974Z"
    }
   },
   "id": "f69697c9508eb0ef"
  },
  {
   "cell_type": "code",
   "execution_count": 199,
   "outputs": [
    {
     "name": "stdout",
     "output_type": "stream",
     "text": [
      "{'pl': 'Poland', 'sk': 'Slovakia', 'no': 'Norway', 'rs': 'Serbia', 'th': 'Thailand', 'id': 'Indonesia', 'ru': 'Russian Federation', 'lt': 'Lithuania', 'tr': 'Turkey', 'cz': 'Czechia', 'it': 'Italy', 'lv': 'Latvia', 'nl': 'Netherlands', 'hu': 'Hungary', 'kr': 'Korea', 'si': 'Slovenia', 'ua': 'Ukraine', 'bg': 'Bulgaria', 'il': 'Israel', 'se': 'Sweden', 'jp': 'Japan', 'gr': 'Greece', 'ro': 'Romania'}\n",
      "{'gb': 'United Kingdom', 'ca': 'Canada', 'za': 'South Africa', 'sa': 'Saudi Arabia', 'us': 'United States', 'ie': 'Ireland', 'my': 'Malaysia', 'nz': 'New Zealand', 'sg': 'Singapore', 'ng': 'Nigeria', 'ph': 'Philippines', 'au': 'Australia', 'in': 'India', 'ar': 'Argentina', 'mx': 'Mexico', 'co': 'Colombia', 'cu': 'Cuba', 've': 'Venezuela', 'eg': 'Egypt', 'ae': 'United Arab Emirates', 'at': 'Austria', 'de': 'Germany', 'ch': 'Switzerland', 'tw': 'Taiwan', 'hk': 'Hong Kong', 'cn': 'China', 'be': 'Belgium', 'ma': 'Morocco', 'fr': 'France', 'br': 'Brazil', 'pt': 'Portugal'}\n"
     ]
    }
   ],
   "source": [
    "print({loc:country_names[loc] for loc in loners})\n",
    "print({loc:country_names[loc] for loc in members})"
   ],
   "metadata": {
    "collapsed": false,
    "ExecuteTime": {
     "end_time": "2023-10-17T11:52:37.817843533Z",
     "start_time": "2023-10-17T11:52:37.775803106Z"
    }
   },
   "id": "989efc988947a877"
  },
  {
   "cell_type": "code",
   "execution_count": 200,
   "outputs": [
    {
     "name": "stdout",
     "output_type": "stream",
     "text": [
      "--------------  -  -\n",
      "United Kingdom  0  0\n",
      "Canada          0  0\n",
      "South Africa    0  0\n",
      "Saudi Arabia    0  0\n",
      "United States   0  0\n",
      "Ireland         0  0\n",
      "Malaysia        0  0\n",
      "New Zealand     0  0\n",
      "Singapore       0  0\n",
      "Nigeria         0  0\n",
      "Philippines     0  0\n",
      "Australia       0  0\n",
      "India           0  0\n",
      "Argentina       0  0\n",
      "Mexico          0  0\n",
      "--------------  -  -\n"
     ]
    }
   ],
   "source": [
    "print(tabulate([[country_names[loc], count, count/len(loc_ids[loc])] for loc, count in get_neighbors('ro').most_common(15)]))"
   ],
   "metadata": {
    "collapsed": false,
    "ExecuteTime": {
     "end_time": "2023-10-17T11:52:42.677020155Z",
     "start_time": "2023-10-17T11:52:42.663623749Z"
    }
   },
   "id": "5c543b334579e3dc"
  },
  {
   "cell_type": "code",
   "execution_count": null,
   "outputs": [],
   "source": [
    "import matplotlib.pyplot as plt\n",
    "import numpy as np\n",
    "import networkx as nx\n",
    "from collections import defaultdict\n",
    "from itertools import combinations"
   ],
   "metadata": {
    "collapsed": false
   },
   "id": "3f05d28468da3ae7"
  },
  {
   "cell_type": "code",
   "execution_count": 178,
   "outputs": [],
   "source": [
    "\n",
    "# Create a graph\n",
    "G = nx.Graph()\n",
    "\n",
    "# Add edges to the graph with weights representing the number of shared articles\n",
    "for pair, count in pair_counts.items():\n",
    "\tcountry_a, country_b = pair\n",
    "\tif count > 5:\n",
    "\t\tG.add_edge(country_names[country_a], country_names[country_b], weight=count)\n"
   ],
   "metadata": {
    "collapsed": false,
    "ExecuteTime": {
     "end_time": "2023-10-17T11:00:08.110386412Z",
     "start_time": "2023-10-17T11:00:08.001007174Z"
    }
   },
   "id": "727147eea6f42d38"
  },
  {
   "cell_type": "code",
   "execution_count": 205,
   "outputs": [
    {
     "data": {
      "text/plain": "7"
     },
     "execution_count": 205,
     "metadata": {},
     "output_type": "execute_result"
    }
   ],
   "source": [
    "clusters = []\n",
    "for (loc_a, loc_b), w in pair_counts.items():\n",
    "\tif w < 5:\n",
    "\t\tcontinue\n",
    "\tfor candidate in clusters:\n",
    "\t\tif loc_a in candidate or loc_b in candidate:\n",
    "\t\t\tcandidate.add(loc_a)\n",
    "\t\t\tcandidate.add(loc_b)\n",
    "\t\t\tbreak\n",
    "\telse:\n",
    "\t\tclusters.append({loc_a, loc_b})\n",
    "len(clusters)"
   ],
   "metadata": {
    "collapsed": false,
    "ExecuteTime": {
     "end_time": "2023-10-17T12:03:06.774353Z",
     "start_time": "2023-10-17T12:03:06.725096554Z"
    }
   },
   "id": "ad34cbf47759573d"
  },
  {
   "cell_type": "code",
   "execution_count": 207,
   "outputs": [],
   "source": [],
   "metadata": {
    "collapsed": false,
    "ExecuteTime": {
     "end_time": "2023-10-17T12:04:37.545027719Z",
     "start_time": "2023-10-17T12:04:37.500443784Z"
    }
   },
   "id": "fd5d03abe15449b9"
  },
  {
   "cell_type": "code",
   "execution_count": 173,
   "outputs": [],
   "source": [
    "init_pos = nx.random_layout(G)\n",
    "\n",
    "pos = nx.spring_layout(G, k=300, iterations=1000, pos=init_pos)\n",
    "# pos = init_pos"
   ],
   "metadata": {
    "collapsed": false,
    "ExecuteTime": {
     "end_time": "2023-10-17T10:51:35.100486600Z",
     "start_time": "2023-10-17T10:51:34.991498377Z"
    }
   },
   "id": "5cc0141e57f8b75c"
  },
  {
   "cell_type": "code",
   "execution_count": 193,
   "outputs": [],
   "source": [
    "# # Draw the graph\n",
    "# plt.figure(figsize=(10,8))\n",
    "# # pos = nx.circular_layout(G)  # positions for all nodes\n",
    "# \n",
    "# nx.draw_networkx_nodes(G, pos, node_size=700)\n",
    "# nx.draw_networkx_edges(G, pos, width=[np.log10(d['weight'])/5 if d['weight'] > 0 else 0 for _, _, d in G.edges(data=True)])\n",
    "# nx.draw_networkx_labels(G, pos, font_size=20, font_family='sans-serif')\n",
    "# \n",
    "# plt.title('Shared Articles Between Countries')\n",
    "# # plt.show()\n"
   ],
   "metadata": {
    "collapsed": false,
    "ExecuteTime": {
     "end_time": "2023-10-17T11:48:21.959955965Z",
     "start_time": "2023-10-17T11:48:21.870481829Z"
    }
   },
   "id": "b22727a09c53cca9"
  },
  {
   "cell_type": "code",
   "execution_count": 56,
   "outputs": [
    {
     "data": {
      "text/plain": "(0, 98791)"
     },
     "execution_count": 56,
     "metadata": {},
     "output_type": "execute_result"
    }
   ],
   "source": [
    "# min(pair_counts.values()), max(pair_counts.values())"
   ],
   "metadata": {
    "collapsed": false,
    "ExecuteTime": {
     "end_time": "2023-10-16T16:13:06.082285574Z",
     "start_time": "2023-10-16T16:13:06.027604165Z"
    }
   },
   "id": "52d35c0850895489"
  },
  {
   "cell_type": "code",
   "execution_count": 79,
   "outputs": [
    {
     "data": {
      "text/plain": "'Morocco'"
     },
     "execution_count": 79,
     "metadata": {},
     "output_type": "execute_result"
    }
   ],
   "source": [
    "country_names['ma']"
   ],
   "metadata": {
    "collapsed": false,
    "ExecuteTime": {
     "end_time": "2023-10-16T16:20:51.066278385Z",
     "start_time": "2023-10-16T16:20:51.010217085Z"
    }
   },
   "id": "d3c3d3e4197e9353"
  },
  {
   "cell_type": "code",
   "execution_count": 186,
   "outputs": [],
   "source": [
    "# nx.draw(G, with_labels=True);"
   ],
   "metadata": {
    "collapsed": false,
    "ExecuteTime": {
     "end_time": "2023-10-17T11:43:59.727160442Z",
     "start_time": "2023-10-17T11:43:59.638426035Z"
    }
   },
   "id": "1e650d6526127e56"
  },
  {
   "cell_type": "code",
   "execution_count": 194,
   "outputs": [],
   "source": [
    "# import plotly.graph_objects as go\n",
    "# from collections import defaultdict\n",
    "# from itertools import combinations\n",
    "# \n",
    "# country_pairs = pair_counts\n",
    "# \n",
    "# # Create a network graph\n",
    "# import networkx as nx\n",
    "# G = nx.Graph()\n",
    "# for pair, count in country_pairs.items():\n",
    "#     country_a, country_b = pair\n",
    "#     G.add_edge(country_a, country_b, weight=count)\n",
    "# \n",
    "# # Generate the spring layout positions\n",
    "# pos = nx.spring_layout(G)\n",
    "# \n",
    "# # Extract positions, edges and weights\n",
    "# G = nx.Graph()\n",
    "# for pair, count in country_pairs.items():\n",
    "#     country_a, country_b = pair\n",
    "#     G.add_edge(country_names[country_a], country_names[country_b], weight=count)\n",
    "# \n",
    "# # Get positions for the nodes in G\n",
    "# pos = nx.spring_layout(G)\n",
    "# \n",
    "# # Create edge traces\n",
    "# edge_traces = []\n",
    "# for edge in G.edges(data=True):\n",
    "#     weight = edge[2]['weight']\n",
    "#     x0, y0 = pos[edge[0]]\n",
    "#     x1, y1 = pos[edge[1]]\n",
    "#     edge_trace = go.Scatter(\n",
    "#         x=[x0, x1, None],\n",
    "#         y=[y0, y1, None],\n",
    "#         line=dict(width=weight*2, color='#888'),\n",
    "#         hoverinfo='none',\n",
    "#         mode='lines'\n",
    "#     )\n",
    "#     edge_traces.append(edge_trace)\n",
    "# \n",
    "# # Create node trace\n",
    "# node_x = []\n",
    "# node_y = []\n",
    "# for node in G.nodes():\n",
    "#     x, y = pos[node]\n",
    "#     node_x.append(x)\n",
    "#     node_y.append(y)\n",
    "# \n",
    "# node_trace = go.Scatter(\n",
    "#     x=node_x, y=node_y,\n",
    "#     mode='markers',\n",
    "#     hoverinfo='text',\n",
    "#     marker=dict(\n",
    "#         showscale=True,\n",
    "#         colorbar=dict(\n",
    "#             thickness=15,\n",
    "#             title='Node Connections',\n",
    "#             xanchor='left',\n",
    "#             titleside='right'\n",
    "#         ),\n",
    "#         line_width=2))\n",
    "# \n",
    "# # Update node hover information\n",
    "# node_adjacencies = []\n",
    "# node_text = []\n",
    "# for node, adjacencies in enumerate(G.adjacency()):\n",
    "#     node_adjacencies.append(len(adjacencies[1]))\n",
    "#     node_text.append(f'{adjacencies[0]}, # of connections: {len(adjacencies[1])}')\n",
    "# \n",
    "# node_trace.marker.color = node_adjacencies\n",
    "# node_trace.text = node_text\n",
    "# \n",
    "# # Create the figure\n",
    "# fig = go.Figure(data=edge_traces + [node_trace],\n",
    "#                 layout=go.Layout(\n",
    "#                     showlegend=False,\n",
    "#                     hovermode='closest',\n",
    "#                     margin=dict(b=0, l=0, r=0, t=0),\n",
    "#                     xaxis=dict(showgrid=False, zeroline=False, showticklabels=False),\n",
    "#                     yaxis=dict(showgrid=False, zeroline=False, showticklabels=False))\n",
    "#                 )\n",
    "# # fig.show()"
   ],
   "metadata": {
    "collapsed": false,
    "ExecuteTime": {
     "end_time": "2023-10-17T11:48:31.922793548Z",
     "start_time": "2023-10-17T11:48:31.901613971Z"
    }
   },
   "id": "9660cc3974ef635"
  },
  {
   "cell_type": "code",
   "execution_count": null,
   "outputs": [],
   "source": [
    "import pandas as pd\n",
    "df = pd.DataFrame(list(G.edges(data=True)), columns=['source', 'target', 'Attributes'])\n",
    "df = pd.concat([df.drop(['Attributes'], axis=1), df['Attributes'].apply(pd.Series)], axis=1)\n",
    "# df"
   ],
   "metadata": {
    "collapsed": false
   },
   "id": "727ef47dda35a95a"
  },
  {
   "cell_type": "code",
   "execution_count": 185,
   "outputs": [
    {
     "name": "stderr",
     "output_type": "stream",
     "text": [
      "[d3blocks] >INFO> Cleaning edge_properties and config parameters..\n",
      "[d3blocks] >INFO> Set directed=True to see the markers!\n",
      "[d3blocks] >INFO> Keep only edges with weight>0\n",
      "[d3blocks] >INFO> Number of unique nodes: 31\n",
      "[d3blocks] >INFO> Slider range is set to [14, 98791]\n",
      "[d3blocks] >INFO> Write to path: [/tmp/tmpygdlmreo/Elasticgraph.html]\n",
      "[d3blocks] >INFO> File already exists and will be overwritten: [/tmp/tmpygdlmreo/Elasticgraph.html]\n"
     ]
    },
    {
     "ename": "AttributeError",
     "evalue": "'D3Blocks' object has no attribute 'Elasticgraph'",
     "output_type": "error",
     "traceback": [
      "\u001B[0;31m---------------------------------------------------------------------------\u001B[0m",
      "\u001B[0;31mAttributeError\u001B[0m                            Traceback (most recent call last)",
      "Cell \u001B[0;32mIn[185], line 14\u001B[0m\n\u001B[1;32m     11\u001B[0m d3\u001B[38;5;241m.\u001B[39md3graph(df, filepath\u001B[38;5;241m=\u001B[39m\u001B[38;5;124m'\u001B[39m\u001B[38;5;124mElasticgraph.html\u001B[39m\u001B[38;5;124m'\u001B[39m)\n\u001B[1;32m     12\u001B[0m \u001B[38;5;66;03m#\u001B[39;00m\n\u001B[1;32m     13\u001B[0m \u001B[38;5;66;03m# Show elasticgraph\u001B[39;00m\n\u001B[0;32m---> 14\u001B[0m \u001B[43md3\u001B[49m\u001B[38;5;241;43m.\u001B[39;49m\u001B[43mElasticgraph\u001B[49m\u001B[38;5;241m.\u001B[39mshow()\n\u001B[1;32m     15\u001B[0m \u001B[38;5;66;03m# Show original graph with the same properties\u001B[39;00m\n\u001B[1;32m     16\u001B[0m \u001B[38;5;66;03m# d3.Elasticgraph.D3graph.show()\u001B[39;00m\n\u001B[1;32m     17\u001B[0m \u001B[38;5;66;03m# #\u001B[39;00m\n\u001B[0;32m   (...)\u001B[0m\n\u001B[1;32m     30\u001B[0m \u001B[38;5;66;03m# d3.Elasticgraph.D3graph.edge_properties\u001B[39;00m\n\u001B[1;32m     31\u001B[0m \u001B[38;5;66;03m#\u001B[39;00m\n",
      "\u001B[0;31mAttributeError\u001B[0m: 'D3Blocks' object has no attribute 'Elasticgraph'"
     ]
    }
   ],
   "source": [
    "# Load library\n",
    "from d3blocks import D3Blocks\n",
    "#\n",
    "# Initialize\n",
    "d3 = D3Blocks()\n",
    "#\n",
    "# Import example\n",
    "# df = d3.import_example('stormofswords') # 'stormofswords'\n",
    "#\n",
    "# Create force-directed-network (without cluster labels)\n",
    "d3.d3graph(df, filepath='Elasticgraph.html')\n",
    "#\n",
    "# Show elasticgraph\n",
    "d3.Elasticgraph.show()\n",
    "# Show original graph with the same properties\n",
    "# d3.Elasticgraph.D3graph.show()\n",
    "# #\n",
    "# # Add cluster labels (no need to do it again because it is the default)\n",
    "# # d3.Elasticgraph.set_node_properties(color=None)\n",
    "# #\n",
    "# # After making changes, show the graph again using show()\n",
    "# d3.Elasticgraph.show()\n",
    "# # Show original graph\n",
    "# d3.Elasticgraph.D3graph.show()\n",
    "# #\n",
    "# # Node properties\n",
    "# d3.Elasticgraph.D3graph.node_properties\n",
    "# #\n",
    "# # Node properties\n",
    "# d3.Elasticgraph.D3graph.edge_properties\n",
    "#"
   ],
   "metadata": {
    "collapsed": false,
    "ExecuteTime": {
     "end_time": "2023-10-17T11:32:42.334899888Z",
     "start_time": "2023-10-17T11:32:41.344109312Z"
    }
   },
   "id": "56b10d6a44cebc60"
  },
  {
   "cell_type": "code",
   "execution_count": null,
   "outputs": [],
   "source": [],
   "metadata": {
    "collapsed": false
   },
   "id": "4d848548a42e779b"
  },
  {
   "cell_type": "code",
   "execution_count": 183,
   "outputs": [
    {
     "name": "stderr",
     "output_type": "stream",
     "text": [
      "/tmp/ipykernel_1134149/3292951907.py:2: FutureWarning:\n",
      "\n",
      "Returning a DataFrame from Series.apply when the supplied function returns a Series is deprecated and will be removed in a future version.\n",
      "\n"
     ]
    },
    {
     "data": {
      "text/plain": "       source          target  weight\n0      Canada  United Kingdom    3957\n1      Canada    South Africa   16088\n2      Canada    Saudi Arabia   98791\n3      Canada   United States   14573\n4      Canada         Ireland   16826\n..        ...             ...     ...\n94  Hong Kong           China      17\n95    Belgium         Morocco   34084\n96    Belgium          France   17787\n97    Morocco          France   21197\n98   Portugal          Brazil    8248\n\n[99 rows x 3 columns]",
      "text/html": "<div>\n<style scoped>\n    .dataframe tbody tr th:only-of-type {\n        vertical-align: middle;\n    }\n\n    .dataframe tbody tr th {\n        vertical-align: top;\n    }\n\n    .dataframe thead th {\n        text-align: right;\n    }\n</style>\n<table border=\"1\" class=\"dataframe\">\n  <thead>\n    <tr style=\"text-align: right;\">\n      <th></th>\n      <th>source</th>\n      <th>target</th>\n      <th>weight</th>\n    </tr>\n  </thead>\n  <tbody>\n    <tr>\n      <th>0</th>\n      <td>Canada</td>\n      <td>United Kingdom</td>\n      <td>3957</td>\n    </tr>\n    <tr>\n      <th>1</th>\n      <td>Canada</td>\n      <td>South Africa</td>\n      <td>16088</td>\n    </tr>\n    <tr>\n      <th>2</th>\n      <td>Canada</td>\n      <td>Saudi Arabia</td>\n      <td>98791</td>\n    </tr>\n    <tr>\n      <th>3</th>\n      <td>Canada</td>\n      <td>United States</td>\n      <td>14573</td>\n    </tr>\n    <tr>\n      <th>4</th>\n      <td>Canada</td>\n      <td>Ireland</td>\n      <td>16826</td>\n    </tr>\n    <tr>\n      <th>...</th>\n      <td>...</td>\n      <td>...</td>\n      <td>...</td>\n    </tr>\n    <tr>\n      <th>94</th>\n      <td>Hong Kong</td>\n      <td>China</td>\n      <td>17</td>\n    </tr>\n    <tr>\n      <th>95</th>\n      <td>Belgium</td>\n      <td>Morocco</td>\n      <td>34084</td>\n    </tr>\n    <tr>\n      <th>96</th>\n      <td>Belgium</td>\n      <td>France</td>\n      <td>17787</td>\n    </tr>\n    <tr>\n      <th>97</th>\n      <td>Morocco</td>\n      <td>France</td>\n      <td>21197</td>\n    </tr>\n    <tr>\n      <th>98</th>\n      <td>Portugal</td>\n      <td>Brazil</td>\n      <td>8248</td>\n    </tr>\n  </tbody>\n</table>\n<p>99 rows × 3 columns</p>\n</div>"
     },
     "execution_count": 183,
     "metadata": {},
     "output_type": "execute_result"
    }
   ],
   "source": [],
   "metadata": {
    "collapsed": false,
    "ExecuteTime": {
     "end_time": "2023-10-17T11:02:07.365547111Z",
     "start_time": "2023-10-17T11:02:07.320189084Z"
    }
   },
   "id": "75f9b6a9f773dee2"
  },
  {
   "cell_type": "code",
   "execution_count": null,
   "outputs": [],
   "source": [],
   "metadata": {
    "collapsed": false,
    "ExecuteTime": {
     "end_time": "2023-10-16T14:43:00.636935211Z",
     "start_time": "2023-10-16T14:43:00.611601788Z"
    }
   },
   "id": "7625b586ceb66bab"
  },
  {
   "cell_type": "code",
   "execution_count": 2,
   "outputs": [],
   "source": [],
   "metadata": {
    "collapsed": false,
    "ExecuteTime": {
     "end_time": "2023-10-17T13:06:52.318302435Z",
     "start_time": "2023-10-17T13:06:40.102051308Z"
    }
   },
   "id": "7b4454a113701cd6"
  },
  {
   "cell_type": "code",
   "execution_count": 3,
   "outputs": [
    {
     "name": "stdout",
     "output_type": "stream",
     "text": [
      "['The head of the United Nations says there is no military solution in Syria']\n"
     ]
    }
   ],
   "source": [
    "\n",
    "# translate Hindi to French\n",
    "tokenizer.src_lang = \"hi_IN\"\n",
    "encoded_hi = tokenizer(article_hi, return_tensors=\"pt\")\n",
    "generated_tokens = model.generate(\n",
    "    **encoded_hi,\n",
    "    forced_bos_token_id=tokenizer.lang_code_to_id[\"en_XX\"]\n",
    ")\n",
    "out1 = tokenizer.batch_decode(generated_tokens, skip_special_tokens=True)\n",
    "# => \"Le chef de l 'ONU affirme qu 'il n 'y a pas de solution militaire dans la Syrie.\"\n",
    "print(out1)"
   ],
   "metadata": {
    "collapsed": false,
    "ExecuteTime": {
     "end_time": "2023-10-17T13:06:58.224331251Z",
     "start_time": "2023-10-17T13:06:55.866829160Z"
    }
   },
   "id": "55f01f76c05e33a8"
  },
  {
   "cell_type": "code",
   "execution_count": 4,
   "outputs": [
    {
     "name": "stdout",
     "output_type": "stream",
     "text": [
      "['The Secretary-General of the United Nations says there is no military solution in Syria.']\n"
     ]
    }
   ],
   "source": [
    "\n",
    "# translate Arabic to English\n",
    "tokenizer.src_lang = \"ar_AR\"\n",
    "encoded_ar = tokenizer(article_ar, return_tensors=\"pt\")\n",
    "generated_tokens = model.generate(\n",
    "    **encoded_ar,\n",
    "    forced_bos_token_id=tokenizer.lang_code_to_id[\"en_XX\"]\n",
    ")\n",
    "out2 = tokenizer.batch_decode(generated_tokens, skip_special_tokens=True)\n",
    "print(out2)"
   ],
   "metadata": {
    "collapsed": false,
    "ExecuteTime": {
     "end_time": "2023-10-17T13:07:07.058063820Z",
     "start_time": "2023-10-17T13:07:04.609704802Z"
    }
   },
   "id": "f840b4f525f2d26a"
  },
  {
   "cell_type": "code",
   "execution_count": null,
   "outputs": [],
   "source": [],
   "metadata": {
    "collapsed": false
   },
   "id": "95f646ca85141fb2"
  }
 ],
 "metadata": {
  "kernelspec": {
   "display_name": "Python 3",
   "language": "python",
   "name": "python3"
  },
  "language_info": {
   "codemirror_mode": {
    "name": "ipython",
    "version": 2
   },
   "file_extension": ".py",
   "mimetype": "text/x-python",
   "name": "python",
   "nbconvert_exporter": "python",
   "pygments_lexer": "ipython2",
   "version": "2.7.6"
  }
 },
 "nbformat": 4,
 "nbformat_minor": 5
}
