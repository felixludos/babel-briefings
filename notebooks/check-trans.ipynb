{
 "cells": [
  {
   "cell_type": "code",
   "execution_count": 1,
   "id": "initial_id",
   "metadata": {
    "collapsed": true,
    "ExecuteTime": {
     "end_time": "2023-10-29T14:32:23.639818060Z",
     "start_time": "2023-10-29T14:32:23.530930405Z"
    }
   },
   "outputs": [],
   "source": [
    "from pathlib import Path\n",
    "from tqdm.notebook import tqdm\n",
    "from tabulate import tabulate\n",
    "import random\n",
    "import pycountry\n",
    "# import networkx as nx\n",
    "from dateutil import parser\n",
    "import json\n",
    "from datetime import datetime\n",
    "from collections import Counter\n",
    "# from langdetect import detect\n",
    "from omnibelt import load_json, save_json"
   ]
  },
  {
   "cell_type": "code",
   "execution_count": 2,
   "outputs": [
    {
     "data": {
      "text/plain": "PosixPath('/home/fleeb/workspace/code/nnn')"
     },
     "execution_count": 2,
     "metadata": {},
     "output_type": "execute_result"
    }
   ],
   "source": [
    "localroot = Path().absolute().parent\n",
    "localroot"
   ],
   "metadata": {
    "collapsed": false,
    "ExecuteTime": {
     "end_time": "2023-10-29T14:32:29.619557213Z",
     "start_time": "2023-10-29T14:32:29.602627961Z"
    }
   },
   "id": "4665827dea56286e"
  },
  {
   "cell_type": "code",
   "execution_count": 3,
   "outputs": [
    {
     "name": "stdout",
     "output_type": "stream",
     "text": [
      "['raw_news', 'ftlang.json', 'full.json', 'translated', 'prompts', 'langdetect.json', 'dense', 'temp', 'global-news-headlines', 'global-news-headlines.zip', 'assets']\n"
     ]
    }
   ],
   "source": [
    "root = Path('/home/fleeb/workspace/local_data/nnn')\n",
    "print(list(p.name for p in root.glob('*')))"
   ],
   "metadata": {
    "collapsed": false,
    "ExecuteTime": {
     "end_time": "2023-10-29T14:32:35.021961029Z",
     "start_time": "2023-10-29T14:32:35.003035088Z"
    }
   },
   "id": "83296673fd8f1de2"
  },
  {
   "cell_type": "code",
   "execution_count": 4,
   "outputs": [
    {
     "data": {
      "text/plain": "54"
     },
     "execution_count": 4,
     "metadata": {},
     "output_type": "execute_result"
    }
   ],
   "source": [
    "recs = (root/'global-news-headlines').glob('**/*.json')\n",
    "recs = list(recs)\n",
    "len(recs)"
   ],
   "metadata": {
    "collapsed": false,
    "ExecuteTime": {
     "end_time": "2023-10-29T14:32:48.381874508Z",
     "start_time": "2023-10-29T14:32:48.331815758Z"
    }
   },
   "id": "3569f6c2c79b7aba"
  },
  {
   "cell_type": "code",
   "execution_count": 5,
   "outputs": [
    {
     "data": {
      "text/plain": "  0%|          | 0/54 [00:00<?, ?it/s]",
      "application/vnd.jupyter.widget-view+json": {
       "version_major": 2,
       "version_minor": 0,
       "model_id": "4e2a215cb1b040a3983f1fc2a48286c4"
      }
     },
     "metadata": {},
     "output_type": "display_data"
    },
    {
     "data": {
      "text/plain": "4719199"
     },
     "execution_count": 5,
     "metadata": {},
     "output_type": "execute_result"
    }
   ],
   "source": [
    "articles = []\n",
    "for rec in tqdm(recs):\n",
    "\tarticles.extend(load_json(rec))\n",
    "by_IDs = {art['ID']: art for art in articles}\n",
    "len(articles)"
   ],
   "metadata": {
    "collapsed": false,
    "ExecuteTime": {
     "end_time": "2023-10-29T14:33:30.297402541Z",
     "start_time": "2023-10-29T14:32:49.347704467Z"
    }
   },
   "id": "a63a19944d72e9b8"
  },
  {
   "cell_type": "code",
   "execution_count": 102,
   "outputs": [
    {
     "name": "stdout",
     "output_type": "stream",
     "text": [
      "-------  ----------------------  ----------------------------------------------------------------------------------------------------------------------------------------------------------------------------------------------------------------------\n",
      " 359322  ph, ph                  Gordon Murrays next project will be a little bit more conventional.\n",
      "                                 Speaking to Top Gear on the reveal of the T.50s racerthe track-only version of the T.50 supercarMurray revealed that whatever he d… [+2440 chars]\n",
      "3548224  ar, ar                  Este miércoles, Marcelo Tinelli dio por concluida la quinta ronda de La Academia y reveló el voto secreto de Ángel De Brito para las 19 parejas de La Academia en la ronda de samba de ballroom. Así, c… [+1948 chars]\n",
      "  21525  hk, tw, hk, tw, hk, tw  Anthony Davis 103-101 LeBron James Davis 34 8 4 …\n",
      "                                 Davis Kawhi Leonard Davis 17 DavisAD Marcus Morris\n",
      "                                  Davis\n",
      "                                  LeBron JamesDanny GreenKentavious Caldwell-PopeDavis JaVale McGee  -13Davis 3 McGee D… [+285 chars]\n",
      " 417260  cn, cn                  Mac iPad AirPods AirPods Pro\n",
      "1580470  ar, ar, ar              Crédito: Shutterstock\n",
      "                                 Por momentos suena a ciencia ficción, pero es algo muy real. Las ciudades inteligentes ya se están desarrollando en el mundo, y si bien se sirven del big data y tecnologías ava… [+937 chars]\n",
      "3513362  eg                      - :\n",
      "                                  \" \" .\n",
      "                                  \"\": \" .. \".\n",
      "                                 : \" \".\n",
      "                                  \" \" \"\" .\n",
      "                                  \" \" \" \" .\n",
      "                                 <li></li>\n",
      "3849545  kr                      .\n",
      "                                  25 .\n",
      "                                 [ ] We are grateful for the partnership of international governments in this effort.\n",
      "                                  3 , , .\n",
      "                                   378 26   13 .\n",
      "                                  , , · .\n",
      "                                 [ ] As the United States mobilizes an unprecedented, global effort… [+248 chars]\n",
      "3330753  br, br                  A Caixa Econômica Federal sorteou, na noite desta quarta-feira (23/6), duas loterias: os concursos 2263 da Lotofácil e o 2383 da Mega-Sena. O sorteio foi realizado no Espaço Caixa Loterias, no Termin… [+694 chars]\n",
      "  17301  za                      Volkswagen South Africa recently announced pricing for its three-strong upcoming T-Roc range. And now the German firm's local arm has detailed the options list, too.\n",
      "                                  At the local launch in November… [+2178 chars]\n",
      "3956263  rs                      Biva zadrugarka Sara Relji postala je \"Miss Multiverse Srbije\" i predstavljae nau zemlju na takmienju Miss Sveta u decembru u Dominikanskoj Republici.\n",
      "                                 Sara je otkrila kako se osea nakon to je dobila… [+779 chars]\n",
      "2352882  br                      A pausa nos eventos esportivos em Minas faz parte da onda roxa do programa Minas Consciente, uma série de medidas restritivas que tenta conter o avanço da pandemia da COVID-19.Entre elas estão a limi… [+200 chars]\n",
      "2857134  in                      Veteran actor Amitabh Bachchan on May 10 shared a detailed list of all the charitable work he has done to help India in its fight against the coronavirus pandemic.\n",
      "                                 Reacting to negative comments and … [+4029 chars]\n",
      "2443402  be, be                  Sarah Fraisou, la star de télé-réalité française de 28 ans, a révélé avoir le coeur brisé sur son compte Snapchat. Entre Ahmed et elle, c'est terminé.  Une information que le principal intéressé, Ahm… [+771 chars]\n",
      "4655441  th, th                  \"\"             \"\"    2563\n",
      "                                  2 \"\" The Smile of Friendship ( )\n",
      "1985945  jp, jp, jp              PC\n",
      "                                 GTX 1660\n",
      "                                 GeForce RTX 3070GTX 1660 Super1660RTX 3090RTX 1650RadeonRX 6000RX 5000GeForce\n",
      "                                 TSUKUMO eX.27\n",
      "                                 GTX 16601660 Super\n",
      "                                 Copyright © ITmedia, Inc. All Rights Reserved.\n",
      "4090059  at, de                  Dass André und Anna wieder Eltern geworden sind, hat sich im Netz schnell rumgesprochen. Zahlreiche Promis nutzen die Gunst der Stunde, um den beiden zu gratulieren. Glückwunsch ihr Süßen, kommentier… [+243 chars]\n",
      "3933671  br                      A pandemia nos trouxe muitas coisas ruins, mas alguns novos hábitos adquiridos no período foram benéficos. Um levantamento da Strava, plataforma de registro de atividades físicas, revelou que houve u… [+7289 chars]\n",
      "1783767  hu                      A mexikói egészségügyi minisztérium csütörtöki tájékoztatása szerint a 126 milliós Mexikóban az elmúlt napon 18 670 új fertzöttet és 1506 halálesetet regisztrálták, ezzel a járvány kezdete óta 1 825 … [+1638 chars]\n",
      "1645697  tr                      Herkesin bir Nâzm Hikmeti vardr. Daha ortaokulda okumaya baladm iirleriyle bana iiri sevdiren büyük air, bana babamdan sonra, hakszla kar susmamay, bozuk düzene boyun ememeyi, cesareti öretti. Onun i… [+1741 chars]\n",
      "3993748  mx, mx                  El invierno que recién concluyó en Nueva Zelanda fue el más cálido del que se tengan registros, y los científicos afirman que el cambio climático sigue elevando las temperaturas.\n",
      "                                 En el periodo de tr… [+1879 chars]\n",
      "-------  ----------------------  ----------------------------------------------------------------------------------------------------------------------------------------------------------------------------------------------------------------------\n"
     ]
    }
   ],
   "source": [
    "print(tabulate([art['ID'], ', '.join(i['location'] for i in art['instances']), art['content']] for art in random.choices(articles, k=20)))"
   ],
   "metadata": {
    "collapsed": false,
    "ExecuteTime": {
     "end_time": "2023-10-29T15:19:29.735141278Z",
     "start_time": "2023-10-29T15:19:29.682943735Z"
    }
   },
   "id": "1424e16ef2480480"
  },
  {
   "cell_type": "code",
   "execution_count": 23,
   "outputs": [
    {
     "data": {
      "text/plain": "41"
     },
     "execution_count": 23,
     "metadata": {},
     "output_type": "execute_result"
    }
   ],
   "source": [
    "trpaths = (root/'translated').glob('**/*.jsonl')\n",
    "trpaths = list(trpaths)\n",
    "len(trpaths)"
   ],
   "metadata": {
    "collapsed": false,
    "ExecuteTime": {
     "end_time": "2023-10-29T14:42:20.407503814Z",
     "start_time": "2023-10-29T14:42:20.356541418Z"
    }
   },
   "id": "d9b28d8f53e35a67"
  },
  {
   "cell_type": "code",
   "execution_count": 24,
   "outputs": [],
   "source": [
    "def load_jsonl(path):\n",
    "\treturn [json.loads(line) for line in path.read_text().split('\\n') if len(line)]\n",
    "def to_ids(records):\n",
    "\tids, errs = {}, set()\n",
    "\tfor record in records:\n",
    "\t\tpayload = record['title'], record.get('description')\n",
    "\t\tfor ID in record.get('ids', [record.get('ID')]):\n",
    "\t\t\tif ID in ids:\n",
    "\t\t\t\terrs.add(ID)\n",
    "\t\t\tids[ID] = payload\n",
    "\treturn ids, errs"
   ],
   "metadata": {
    "collapsed": false,
    "ExecuteTime": {
     "end_time": "2023-10-29T14:42:29.153678883Z",
     "start_time": "2023-10-29T14:42:29.122959161Z"
    }
   },
   "id": "65713bd314092c73"
  },
  {
   "cell_type": "code",
   "execution_count": 76,
   "outputs": [
    {
     "data": {
      "text/plain": "3590966"
     },
     "execution_count": 76,
     "metadata": {},
     "output_type": "execute_result"
    }
   ],
   "source": [
    "trrecs = [to_ids(load_jsonl(trpath))[0] for trpath in tqdm(trpaths)]\n",
    "trsids = {}\n",
    "for tr in trrecs:\n",
    "\tassert not set(tr) & set(trsids)\n",
    "\ttrsids.update(tr)\n",
    "len(trsids)"
   ],
   "metadata": {
    "collapsed": false,
    "ExecuteTime": {
     "end_time": "2023-10-29T15:06:22.871557649Z",
     "start_time": "2023-10-29T15:06:19.832369Z"
    }
   },
   "id": "e94120f1eed97129"
  },
  {
   "cell_type": "code",
   "execution_count": 77,
   "outputs": [
    {
     "data": {
      "text/plain": "1128233"
     },
     "execution_count": 77,
     "metadata": {},
     "output_type": "execute_result"
    }
   ],
   "source": [
    "trs = [by_IDs[ID] for ID in trsids]\n",
    "nontrs = [art for art in articles if art['ID'] not in trsids]\n",
    "len(nontrs)"
   ],
   "metadata": {
    "collapsed": false,
    "ExecuteTime": {
     "end_time": "2023-10-29T15:06:36.799381911Z",
     "start_time": "2023-10-29T15:06:35.750303719Z"
    }
   },
   "id": "bb97c312923bf579"
  },
  {
   "cell_type": "code",
   "execution_count": 27,
   "outputs": [
    {
     "data": {
      "text/plain": "4719199"
     },
     "execution_count": 27,
     "metadata": {},
     "output_type": "execute_result"
    }
   ],
   "source": [
    "langdet = {int(i): v for i, v in load_json(root/'langdetect.json').items()}\n",
    "len(langdet)"
   ],
   "metadata": {
    "collapsed": false,
    "ExecuteTime": {
     "end_time": "2023-10-29T14:42:54.196100309Z",
     "start_time": "2023-10-29T14:42:51.146043153Z"
    }
   },
   "id": "e8e5b89cc898584e"
  },
  {
   "cell_type": "code",
   "execution_count": 28,
   "outputs": [
    {
     "data": {
      "text/plain": "1128233"
     },
     "execution_count": 28,
     "metadata": {},
     "output_type": "execute_result"
    }
   ],
   "source": [
    "missing_langs = {art['ID']: langdet[art['ID']] for art in nontrs}\n",
    "len(missing_langs)"
   ],
   "metadata": {
    "collapsed": false,
    "ExecuteTime": {
     "end_time": "2023-10-29T14:42:54.448141966Z",
     "start_time": "2023-10-29T14:42:54.210613390Z"
    }
   },
   "id": "b2efe9d47ceb9a4d"
  },
  {
   "cell_type": "code",
   "execution_count": 29,
   "outputs": [
    {
     "name": "stdout",
     "output_type": "stream",
     "text": [
      "lang      count\n",
      "------  -------\n",
      "en      1125849\n",
      "de          892\n",
      "nl          227\n",
      "ca          213\n",
      "it          197\n",
      "fr          158\n",
      "af          112\n",
      "id           98\n",
      "no           74\n",
      "tl           68\n",
      "es           62\n",
      "da           52\n",
      "sv           50\n",
      "pt           42\n",
      "ro           41\n",
      "et           34\n",
      "sl           20\n",
      "hr            6\n",
      "so            6\n",
      "fi            5\n",
      "cs            5\n",
      "vi            4\n",
      "cy            4\n",
      "pl            3\n",
      "sw            3\n",
      "ar            2\n",
      "hi            2\n",
      "hu            1\n",
      "lt            1\n",
      "tr            1\n",
      "lv            1\n"
     ]
    }
   ],
   "source": [
    "print(tabulate(Counter(missing_langs.values()).most_common(), headers=['lang', 'count']))"
   ],
   "metadata": {
    "collapsed": false,
    "ExecuteTime": {
     "end_time": "2023-10-29T14:42:54.522569492Z",
     "start_time": "2023-10-29T14:42:54.518914488Z"
    }
   },
   "id": "592f12739589a67d"
  },
  {
   "cell_type": "code",
   "execution_count": 48,
   "outputs": [
    {
     "name": "stdout",
     "output_type": "stream",
     "text": [
      "     ID  title                                                                                                         description\n",
      "-------  ------------------------------------------------------------------------------------------------------------  -------------\n",
      "1685740  Loga in pre-match juju drama - The Herald\n",
      "2131395  Japan's Takeda seeks govt approval for Moderna COVID-19 vaccine - Nasdaq\n",
      "3187441  Novak Djokovic Congratulates Nikola Jokic On NBA MVP - ATP Tour\n",
      "1685740  Loga in pre-match juju drama - The Herald\n",
      "2131395  Japan's Takeda seeks govt approval for Moderna COVID-19 vaccine - Nasdaq\n",
      "3187441  Novak Djokovic Congratulates Nikola Jokic On NBA MVP - ATP Tour\n",
      "2912522  Mavs PostGame Interview: Luka Dončić (05/14/21) - Dallas Mavericks\n",
      "2131395  Japan's Takeda seeks govt approval for Moderna COVID-19 vaccine - Nasdaq\n",
      "2912522  Mavs PostGame Interview: Luka Dončić (05/14/21) - Dallas Mavericks\n",
      "1033301  Yakuza: Like A Dragon Review - GameSpot\n",
      "2912522  Mavs PostGame Interview: Luka Dončić (05/14/21) - Dallas Mavericks\n",
      "1935752  Demon Slayer: Kimetsu no Yaiba – Hinokami Keppuutan 2021 Gameplay Footage | Nezuko vs Inosuke - Geek Culture\n",
      "3187441  Novak Djokovic Congratulates Nikola Jokic On NBA MVP - ATP Tour\n",
      "2131395  Japan's Takeda seeks govt approval for Moderna COVID-19 vaccine - Nasdaq\n",
      "1033301  Yakuza: Like A Dragon Review - GameSpot\n",
      "1685740  Loga in pre-match juju drama - The Herald\n",
      "3187441  Novak Djokovic Congratulates Nikola Jokic On NBA MVP - ATP Tour\n",
      "1685740  Loga in pre-match juju drama - The Herald\n",
      "2912522  Mavs PostGame Interview: Luka Dončić (05/14/21) - Dallas Mavericks\n",
      "2131395  Japan's Takeda seeks govt approval for Moderna COVID-19 vaccine - Nasdaq\n"
     ]
    }
   ],
   "source": [
    "arts = [by_IDs[ID] for ID, ld in missing_langs.items() if ld == 'hr']\n",
    "print(tabulate([(art['ID'], art['title'], art['description']) for art in random.choices(arts,k=20)], headers=['ID', 'title', 'description']))"
   ],
   "metadata": {
    "collapsed": false,
    "ExecuteTime": {
     "end_time": "2023-10-29T14:49:56.600118484Z",
     "start_time": "2023-10-29T14:49:56.520208524Z"
    }
   },
   "id": "39c4584b8a49131e"
  },
  {
   "cell_type": "code",
   "execution_count": 41,
   "outputs": [],
   "source": [
    "countries = {'gb': 'United Kingdom', 'ar': 'Argentina', 'pl': 'Poland', 'sk': 'Slovakia', 'us': 'United States', 'eg': 'Egypt', 'no': 'Norway', 'ph': 'Philippines', 'at': 'Austria', 'rs': 'Serbia', 'tw': 'Taiwan', 'be': 'Belgium', 'cu': 'Cuba', 'sa': 'Saudi Arabia', 'th': 'Thailand', 'id': 'Indonesia', 'ru': 'Russian Federation', 'ch': 'Switzerland', 'fr': 'France', 'lt': 'Lithuania', 'tr': 'Turkey', 'de': 'Germany', 'cz': 'Czechia', 'pt': 'Portugal', 'ae': 'United Arab Emirates', 'it': 'Italy', 'cn': 'China', 'lv': 'Latvia', 'nl': 'Netherlands', 'hk': 'Hong Kong', 'ca': 'Canada', 'br': 'Brazil', 'hu': 'Hungary', 'kr': 'Korea', 'si': 'Slovenia', 'au': 'Australia', 'my': 'Malaysia', 'ie': 'Ireland', 'ua': 'Ukraine', 'in': 'India', 'ma': 'Morocco', 'bg': 'Bulgaria', 'ng': 'Nigeria', 'il': 'Israel', 'se': 'Sweden', 'za': 'South Africa', 've': 'Venezuela', 'nz': 'New Zealand', 'jp': 'Japan', 'sg': 'Singapore', 'gr': 'Greece', 'mx': 'Mexico', 'co': 'Colombia', 'ro': 'Romania'}"
   ],
   "metadata": {
    "collapsed": false,
    "ExecuteTime": {
     "end_time": "2023-10-29T14:47:41.784839235Z",
     "start_time": "2023-10-29T14:47:41.739446594Z"
    }
   },
   "id": "fc4855601425f4a0"
  },
  {
   "cell_type": "code",
   "execution_count": 45,
   "outputs": [
    {
     "name": "stdout",
     "output_type": "stream",
     "text": [
      "['au', 'ca', 'gb', 'ie', 'in', 'my', 'ng', 'nz', 'ph', 'sa', 'sg', 'us', 'za']\n"
     ]
    }
   ],
   "source": [
    "done = [path.stem.split('_')[-1] for path in (root/'translated').glob('**/*.jsonl')]\n",
    "notdone = [c for c in countries if c not in done]\n",
    "print(sorted(notdone))"
   ],
   "metadata": {
    "collapsed": false,
    "ExecuteTime": {
     "end_time": "2023-10-29T14:48:59.886997206Z",
     "start_time": "2023-10-29T14:48:59.844566101Z"
    }
   },
   "id": "39c49bd89275400f"
  },
  {
   "cell_type": "code",
   "execution_count": 55,
   "outputs": [],
   "source": [
    "import unicodedata\n",
    "\n",
    "def is_latin(s):\n",
    "\treturn all(not char.isalpha() or unicodedata.name(char, '').startswith('LATIN') for char in s)"
   ],
   "metadata": {
    "collapsed": false,
    "ExecuteTime": {
     "end_time": "2023-10-29T14:59:11.814379043Z",
     "start_time": "2023-10-29T14:59:11.764263273Z"
    }
   },
   "id": "12eb6efeb3e0780e"
  },
  {
   "cell_type": "code",
   "execution_count": 82,
   "outputs": [
    {
     "data": {
      "text/plain": "  0%|          | 0/3590966 [00:00<?, ?it/s]",
      "application/vnd.jupyter.widget-view+json": {
       "version_major": 2,
       "version_minor": 0,
       "model_id": "119a1703aef946e3b025c9d86231f84f"
      }
     },
     "metadata": {},
     "output_type": "display_data"
    },
    {
     "data": {
      "text/plain": "5431"
     },
     "execution_count": 82,
     "metadata": {},
     "output_type": "execute_result"
    }
   ],
   "source": [
    "# sus = [art for art in tqdm(nontrs) if not is_latin(art['title'])]\n",
    "sus = [art for art in tqdm(trs) if not is_latin(trsids[art['ID']][0])]\n",
    "len(sus)"
   ],
   "metadata": {
    "collapsed": false,
    "ExecuteTime": {
     "end_time": "2023-10-29T15:09:30.165786003Z",
     "start_time": "2023-10-29T15:08:43.694918323Z"
    }
   },
   "id": "165cc333d0fc0498"
  },
  {
   "cell_type": "code",
   "execution_count": 93,
   "outputs": [
    {
     "name": "stdout",
     "output_type": "stream",
     "text": [
      "-------  ----------  ----------------------------------------------------------------------------------------------------------------------------------------------------------------------------------------------------------------------------\n",
      "2582963  hk          Collection of Frank Confessions: The Situation in Ukraine｜Comments｜Hong Kong and Macao｜on.cc东网- on.cc东网\n",
      " 537264  tw, tw, tw  Sleepless for 5 days, carrying everyone’s sorrow! Brother Xian’s haggard appearance was exposed in private @东sen News CH51 - Dongsen News CH51\n",
      "1396279  hk, hk      Star Making III丨Judas’ performance was inaccurate and missed the top 10. ANSONBEAN’s charming smile won the hearts of the people｜Apple Daily-Hong Kong Apple Daily\n",
      "3219185  bg          They discovered signs of ancient life on Mars ᐉ News from Fakti.bg - Curious | FACTS.BG - Facts.BG\n",
      "4215757  hk          Homesickness War丨Wang Juntang's handsome boy Dongdong was praised for being handsome and calm at 190cm and developing into the modeling industry - Qingbao - Entertainment - China, Hong Kong and Taiwan - Qingbao Sky Post\n",
      " 208410  jp, jp      10th Anniversary of E-Mount α Mirrorless Thanks Campaign - Digital Camera Watch\n",
      " 483614  bg          Victoria Tomova crushed the former number 25 in the world - ᐉ Sports news today and from the last hour | FACTS.BG - Facts.BG\n",
      "3821696  ro          The most powerful smartphone in the world was presented - Noi.md - Новости Мольдовы\n",
      "2278454  hk          Charmaine Sheh's motherly love is overflowing, and the eldest daughter Chung Liqi takes the initiative to kiss - on.cc 东网\n",
      "2878364  ua, ua      \"It will reach $1 and become a stable coin,\" — billionaire Mark Cuban about the Dogecoin cryptocurrency - НВ\n",
      " 428282  hk, hk      Wheelock Properties sells OASIS Place shopping mall in Kai Tak for NT$200 million - on.cc东网\n",
      "2230025  hk          Hong Kong company failed to prove a distribution agreement against Nissin Foods and lost the lawsuit - on.cc东网\n",
      "4597023  hk          10 surprises in 1 week: Super inflation hits the \"crocodile king\" warning: cash will be lost in the wok... - on.cc 东网\n",
      "1208853  hk          Financial Management Campus: What are the alternatives to the lost ants in the Hong Kong and US stock markets? - on.cc东网\n",
      "  72790  hk          The University of Hong Kong has the largest number of top diplomats in the Joint University Entrance Examination List - on.cc东网\n",
      "2687198  ru          Arsenal - Everton: forecast, announcement and bet on the match 04/23/2021 ᐉ FootBoom - Footboom.com\n",
      "3359275  hk          Local community transmission has been eliminated. Zhong Nanshan expects China and Hong Kong to have limited customs clearance next month - on.cc东网\n",
      "2431489  hk          The child star of \"Stride\" has a crush on Liu Yingxuan and has already filmed a commercial - on.cc 东网\n",
      "1520320  hk          [In-Depth Deconstruction] Hong Kong stocks face Trump in the first week of the new year without a honeymoon - on.cc 东网\n",
      "  80764  cn          Forefront丨JD Logistics improves the ecosystem, with a 3 billion yuan holding to deepen the \"leapfrogging\" of air cargo_Detailed interpretation_Latest news_Hot events-36kr\n",
      "-------  ----------  ----------------------------------------------------------------------------------------------------------------------------------------------------------------------------------------------------------------------------\n"
     ]
    }
   ],
   "source": [
    "# print(tabulate([art['ID'], ', '.join(i['location'] for i in art['instances']), art['title']] for art in random.choices(sus, k=20)))\n",
    "print(tabulate([art['ID'], ', '.join(i['location'] for i in art['instances']), trsids[art['ID']][0]] for art in random.choices(sus, k=20)))"
   ],
   "metadata": {
    "collapsed": false,
    "ExecuteTime": {
     "end_time": "2023-10-29T15:10:32.636538562Z",
     "start_time": "2023-10-29T15:10:32.603176738Z"
    }
   },
   "id": "81d62430ebcc8b47"
  },
  {
   "cell_type": "code",
   "execution_count": 63,
   "outputs": [
    {
     "name": "stdout",
     "output_type": "stream",
     "text": [
      "China's Mars rover accomplishes planned exploration tasks_英语频道_央视网(cctv.com) - CCTV\n"
     ]
    }
   ],
   "source": [
    "art = sus[0]\n",
    "art = random.choice(sus)\n",
    "print(art['title'])"
   ],
   "metadata": {
    "collapsed": false,
    "ExecuteTime": {
     "end_time": "2023-10-29T15:02:01.450433297Z",
     "start_time": "2023-10-29T15:02:01.443901719Z"
    }
   },
   "id": "ae69ee87c5424760"
  },
  {
   "cell_type": "code",
   "execution_count": 61,
   "outputs": [
    {
     "name": "stdout",
     "output_type": "stream",
     "text": [
      "-  -----  -----------------------------------\n",
      "ت  False  ARABIC LETTER TEH\n",
      "ط  False  ARABIC LETTER TAH\n",
      "و  False  ARABIC LETTER WAW\n",
      "ر  False  ARABIC LETTER REH\n",
      "   True   SPACE\n",
      "خ  False  ARABIC LETTER KHAH\n",
      "ط  False  ARABIC LETTER TAH\n",
      "ي  False  ARABIC LETTER YEH\n",
      "ر  False  ARABIC LETTER REH\n",
      ".  True   FULL STOP\n",
      ".  True   FULL STOP\n",
      "   True   SPACE\n",
      "ط  False  ARABIC LETTER TAH\n",
      "ا  False  ARABIC LETTER ALEF\n",
      "ئ  False  ARABIC LETTER YEH WITH HAMZA ABOVE\n",
      "ر  False  ARABIC LETTER REH\n",
      "ة  False  ARABIC LETTER TEH MARBUTA\n",
      "   True   SPACE\n",
      "إ  False  ARABIC LETTER ALEF WITH HAMZA BELOW\n",
      "ث  False  ARABIC LETTER THEH\n",
      "ي  False  ARABIC LETTER YEH\n",
      "و  False  ARABIC LETTER WAW\n",
      "ب  False  ARABIC LETTER BEH\n",
      "ي  False  ARABIC LETTER YEH\n",
      "ة  False  ARABIC LETTER TEH MARBUTA\n",
      "   True   SPACE\n",
      "ت  False  ARABIC LETTER TEH\n",
      "خ  False  ARABIC LETTER KHAH\n",
      "ت  False  ARABIC LETTER TEH\n",
      "ر  False  ARABIC LETTER REH\n",
      "ق  False  ARABIC LETTER QAF\n",
      "   True   SPACE\n",
      "ح  False  ARABIC LETTER HAH\n",
      "د  False  ARABIC LETTER DAL\n",
      "و  False  ARABIC LETTER WAW\n",
      "د  False  ARABIC LETTER DAL\n",
      "   True   SPACE\n",
      "ا  False  ARABIC LETTER ALEF\n",
      "ل  False  ARABIC LETTER LAM\n",
      "س  False  ARABIC LETTER SEEN\n",
      "و  False  ARABIC LETTER WAW\n",
      "د  False  ARABIC LETTER DAL\n",
      "ا  False  ARABIC LETTER ALEF\n",
      "ن  False  ARABIC LETTER NOON\n",
      "   True   SPACE\n",
      "-  True   HYPHEN-MINUS\n",
      "   True   SPACE\n",
      "ا  False  ARABIC LETTER ALEF\n",
      "ل  False  ARABIC LETTER LAM\n",
      "ع  False  ARABIC LETTER AIN\n",
      "ر  False  ARABIC LETTER REH\n",
      "ب  False  ARABIC LETTER BEH\n",
      "ي  False  ARABIC LETTER YEH\n",
      "ة  False  ARABIC LETTER TEH MARBUTA\n",
      "-  -----  -----------------------------------\n"
     ]
    }
   ],
   "source": [
    "print(tabulate([(c, not c.isalpha(), unicodedata.name(c, '')) for c in art['title']]))"
   ],
   "metadata": {
    "collapsed": false,
    "ExecuteTime": {
     "end_time": "2023-10-29T15:00:56.819755555Z",
     "start_time": "2023-10-29T15:00:56.791228130Z"
    }
   },
   "id": "2a26925369e02ef"
  },
  {
   "cell_type": "code",
   "execution_count": 94,
   "outputs": [
    {
     "data": {
      "text/plain": "3590966"
     },
     "execution_count": 94,
     "metadata": {},
     "output_type": "execute_result"
    }
   ],
   "source": [
    "len(trsids)"
   ],
   "metadata": {
    "collapsed": false,
    "ExecuteTime": {
     "end_time": "2023-10-29T15:11:10.138315228Z",
     "start_time": "2023-10-29T15:11:10.091587788Z"
    }
   },
   "id": "d1bfa0158aa0c1e2"
  },
  {
   "cell_type": "code",
   "execution_count": 95,
   "outputs": [
    {
     "data": {
      "text/plain": "  0%|          | 0/54 [00:00<?, ?it/s]",
      "application/vnd.jupyter.widget-view+json": {
       "version_major": 2,
       "version_minor": 0,
       "model_id": "e2d350fadbfc4b4d9aa05ba306994c2d"
      }
     },
     "metadata": {},
     "output_type": "display_data"
    }
   ],
   "source": [
    "# for rec in tqdm(recs):\n",
    "# \tarts = load_json(rec)\n",
    "# \t\n",
    "# \tfor art in arts:\n",
    "# \t\tif art['ID'] in trsids:\n",
    "# \t\t\tart['english-title'], art['english-description'] = trsids[art['ID']]\n",
    "# \t\n",
    "# \tsave_json(arts, rec)"
   ],
   "metadata": {
    "collapsed": false,
    "ExecuteTime": {
     "end_time": "2023-10-29T15:14:48.164502490Z",
     "start_time": "2023-10-29T15:12:46.668817552Z"
    }
   },
   "id": "33d61e30057da292"
  },
  {
   "cell_type": "code",
   "execution_count": 97,
   "outputs": [],
   "source": [
    "check = load_json(recs[8])"
   ],
   "metadata": {
    "collapsed": false,
    "ExecuteTime": {
     "end_time": "2023-10-29T15:16:08.888119699Z",
     "start_time": "2023-10-29T15:16:08.058378772Z"
    }
   },
   "id": "b51bb02106ab2c1"
  },
  {
   "cell_type": "code",
   "execution_count": null,
   "outputs": [],
   "source": [],
   "metadata": {
    "collapsed": false
   },
   "id": "746f4d79bd489f21"
  },
  {
   "cell_type": "code",
   "execution_count": null,
   "outputs": [],
   "source": [],
   "metadata": {
    "collapsed": false
   },
   "id": "7e0f31d8ecc935d6"
  }
 ],
 "metadata": {
  "kernelspec": {
   "display_name": "Python 3",
   "language": "python",
   "name": "python3"
  },
  "language_info": {
   "codemirror_mode": {
    "name": "ipython",
    "version": 2
   },
   "file_extension": ".py",
   "mimetype": "text/x-python",
   "name": "python",
   "nbconvert_exporter": "python",
   "pygments_lexer": "ipython2",
   "version": "2.7.6"
  }
 },
 "nbformat": 4,
 "nbformat_minor": 5
}
