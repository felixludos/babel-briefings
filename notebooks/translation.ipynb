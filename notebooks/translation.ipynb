{
 "cells": [
  {
   "cell_type": "code",
   "execution_count": 1,
   "id": "initial_id",
   "metadata": {
    "collapsed": true,
    "ExecuteTime": {
     "end_time": "2023-10-19T10:02:01.506024223Z",
     "start_time": "2023-10-19T10:02:00.000115776Z"
    }
   },
   "outputs": [],
   "source": [
    "from pathlib import Path\n",
    "from tqdm.notebook import tqdm\n",
    "from tabulate import tabulate\n",
    "import random\n",
    "import pycountry\n",
    "import networkx as nx\n",
    "from dateutil import parser\n",
    "from datetime import datetime\n",
    "from collections import Counter\n",
    "from langdetect import detect\n",
    "from omnibelt import load_json, save_json\n",
    "# from transformers import MBartForConditionalGeneration, MBart50TokenizerFast\n",
    "# from transformers import pipeline"
   ]
  },
  {
   "cell_type": "code",
   "execution_count": 2,
   "outputs": [
    {
     "data": {
      "text/plain": "54"
     },
     "execution_count": 2,
     "metadata": {},
     "output_type": "execute_result"
    }
   ],
   "source": [
    "root = Path('/home/fleeb/workspace/local_data/nnn')\n",
    "recs = (root/'global-news-headlines').glob('**/*.json')\n",
    "recs = list(recs)\n",
    "len(recs)"
   ],
   "metadata": {
    "collapsed": false,
    "ExecuteTime": {
     "end_time": "2023-10-19T10:02:01.512188276Z",
     "start_time": "2023-10-19T10:02:01.509330088Z"
    }
   },
   "id": "e52019b0a761137f"
  },
  {
   "cell_type": "code",
   "execution_count": 4,
   "outputs": [
    {
     "data": {
      "text/plain": "  0%|          | 0/54 [00:00<?, ?it/s]",
      "application/vnd.jupyter.widget-view+json": {
       "version_major": 2,
       "version_minor": 0,
       "model_id": "c0ee64ce074d427bb9e5990f3f135432"
      }
     },
     "metadata": {},
     "output_type": "display_data"
    },
    {
     "data": {
      "text/plain": "4719199"
     },
     "execution_count": 4,
     "metadata": {},
     "output_type": "execute_result"
    }
   ],
   "source": [
    "articles = []\n",
    "for rec in tqdm(recs):\n",
    "\tarticles.extend(load_json(rec))\n",
    "len(articles)"
   ],
   "metadata": {
    "collapsed": false,
    "ExecuteTime": {
     "end_time": "2023-10-19T10:06:47.943456010Z",
     "start_time": "2023-10-19T10:06:12.697592605Z"
    }
   },
   "id": "6b941da45cf09b77"
  },
  {
   "cell_type": "code",
   "execution_count": 5,
   "outputs": [
    {
     "data": {
      "text/plain": "  0%|          | 0/4719199 [00:00<?, ?it/s]",
      "application/vnd.jupyter.widget-view+json": {
       "version_major": 2,
       "version_minor": 0,
       "model_id": "53903dc5e75a44639c569216fa3ddcd2"
      }
     },
     "metadata": {},
     "output_type": "display_data"
    },
    {
     "data": {
      "text/plain": "54"
     },
     "execution_count": 5,
     "metadata": {},
     "output_type": "execute_result"
    }
   ],
   "source": [
    "by_loc = {}\n",
    "for article in tqdm(articles):\n",
    "\tfor instance in article['instances']:\n",
    "\t\tby_loc.setdefault(instance['location'], []).append(article)\n",
    "country_names = {code: pycountry.countries.get(alpha_2=code.upper()).name.split(',')[0] for code in by_loc}\n",
    "clusters = {\n",
    "\t'english': {'sa', 'ie', 'sg', 'us', 'ph', 'au', 'my', 'za', 'in', 'nz', 'ca', 'gb', 'ng'}, \n",
    "\t'spanish': {'ar', 've', 'co', 'cu', 'mx'}, \n",
    "\t'arabic': {'ae', 'eg'}, \n",
    "\t'german': {'at', 'de', 'ch'}, \n",
    "\t'chinese': {'tw', 'hk', 'cn'}, \n",
    "\t'french': {'be', 'fr', 'ma'}, \n",
    "\t'portuguese': {'pt', 'br'},\n",
    "}\n",
    "to_cluster = {country_names[loc]: cluster for cluster, locs in clusters.items() for loc in locs}\n",
    "len(by_loc)"
   ],
   "metadata": {
    "collapsed": false,
    "ExecuteTime": {
     "end_time": "2023-10-17T13:12:14.183823877Z",
     "start_time": "2023-10-17T13:12:12.312011936Z"
    }
   },
   "id": "9ce620cc74ec3f1d"
  },
  {
   "cell_type": "code",
   "execution_count": 17,
   "outputs": [],
   "source": [
    "def show_date(date):\n",
    "\treturn date.strftime('%d %b%y')\n",
    "def get_locs(article):\n",
    "\treturn [f'{country_names[loc]}' for loc in sorted(set(i['location'] for i in article['instances']))]\n",
    "def get_cats(article):\n",
    "\treturn [f'<{cat}>' for cat in sorted(set(i['category'] for i in article['instances']))]\n",
    "def view_article(art, detailed=False):\n",
    "\tcats = ' '.join(get_cats(art))\n",
    "\tlocs = ', '.join(map(repr,get_locs(art)))\n",
    "\tif 'published' not in art:\n",
    "\t\tart['published'] = parser.parse(art['publishedAt'])\n",
    "\tfor i in art['instances']:\n",
    "\t\tif 'collected' not in i:\n",
    "\t\t\ti['collected'] = parser.parse(i['collectedAt'])\n",
    "\tfirst = min(i['collected'] for i in art['instances'])\n",
    "\tlast = max(i['collected'] for i in art['instances'])\n",
    "\ttiming = f'{show_date(first)}' if first==last else f'{show_date(first)} - {show_date(last)}'\n",
    "\tprint(f'''Title: {art['title']!r}\n",
    "Categories: {cats}   ---   {locs} ({timing})\n",
    "Published: {show_date(art['published'])}'''\n",
    "\t) # ({art['source-name']})\n",
    "\tif detailed:\n",
    "\t\tprint(f'''Description: {art['description']}''')\n",
    "\t\t# print(f'''Content: {art['content']}''')"
   ],
   "metadata": {
    "collapsed": false,
    "ExecuteTime": {
     "end_time": "2023-10-17T13:15:08.654981690Z",
     "start_time": "2023-10-17T13:15:08.632140630Z"
    }
   },
   "id": "a8b7f0d863e003a4"
  },
  {
   "cell_type": "code",
   "execution_count": 2,
   "outputs": [
    {
     "data": {
      "text/plain": "Downloading (…)lve/main/config.json:   0%|          | 0.00/1.42k [00:00<?, ?B/s]",
      "application/vnd.jupyter.widget-view+json": {
       "version_major": 2,
       "version_minor": 0,
       "model_id": "eadb5d2126db4a73921fa576629cb662"
      }
     },
     "metadata": {},
     "output_type": "display_data"
    },
    {
     "data": {
      "text/plain": "Downloading pytorch_model.bin:   0%|          | 0.00/1.11G [00:00<?, ?B/s]",
      "application/vnd.jupyter.widget-view+json": {
       "version_major": 2,
       "version_minor": 0,
       "model_id": "5a29a546a45d479098496c5f89c4da92"
      }
     },
     "metadata": {},
     "output_type": "display_data"
    },
    {
     "data": {
      "text/plain": "Downloading (…)okenizer_config.json:   0%|          | 0.00/502 [00:00<?, ?B/s]",
      "application/vnd.jupyter.widget-view+json": {
       "version_major": 2,
       "version_minor": 0,
       "model_id": "3fc73d0d7b534a45b13aeb948d47298e"
      }
     },
     "metadata": {},
     "output_type": "display_data"
    },
    {
     "data": {
      "text/plain": "Downloading (…)tencepiece.bpe.model:   0%|          | 0.00/5.07M [00:00<?, ?B/s]",
      "application/vnd.jupyter.widget-view+json": {
       "version_major": 2,
       "version_minor": 0,
       "model_id": "8b5631c23d374f61b281d25fe7d5b31f"
      }
     },
     "metadata": {},
     "output_type": "display_data"
    },
    {
     "data": {
      "text/plain": "Downloading (…)/main/tokenizer.json:   0%|          | 0.00/9.08M [00:00<?, ?B/s]",
      "application/vnd.jupyter.widget-view+json": {
       "version_major": 2,
       "version_minor": 0,
       "model_id": "ea6c19b01778440fabeb617124623e96"
      }
     },
     "metadata": {},
     "output_type": "display_data"
    },
    {
     "data": {
      "text/plain": "Downloading (…)cial_tokens_map.json:   0%|          | 0.00/239 [00:00<?, ?B/s]",
      "application/vnd.jupyter.widget-view+json": {
       "version_major": 2,
       "version_minor": 0,
       "model_id": "e3cd0c4640dc4d9399e6665aa3b869d4"
      }
     },
     "metadata": {},
     "output_type": "display_data"
    }
   ],
   "source": [
    "# Use a pipeline as a high-level helper\n",
    "pipe = pipeline(\"text-classification\", model=\"papluca/xlm-roberta-base-language-detection\")"
   ],
   "metadata": {
    "collapsed": false,
    "ExecuteTime": {
     "end_time": "2023-10-17T13:11:28.684480854Z",
     "start_time": "2023-10-17T13:11:14.491669998Z"
    }
   },
   "id": "11f46815ac519961"
  },
  {
   "cell_type": "code",
   "execution_count": 7,
   "outputs": [],
   "source": [
    "batch = random.choices(articles, k=10)\n"
   ],
   "metadata": {
    "collapsed": false,
    "ExecuteTime": {
     "end_time": "2023-10-17T13:12:42.182541329Z",
     "start_time": "2023-10-17T13:12:42.133134493Z"
    }
   },
   "id": "85469a65114e37e3"
  },
  {
   "cell_type": "code",
   "execution_count": 22,
   "outputs": [],
   "source": [
    "sel = [a for a in articles if a['langdetect'] == 'cs']"
   ],
   "metadata": {
    "collapsed": false,
    "ExecuteTime": {
     "end_time": "2023-10-17T13:17:16.067521988Z",
     "start_time": "2023-10-17T13:17:15.731957193Z"
    }
   },
   "id": "2babbeb21b72536c"
  },
  {
   "cell_type": "code",
   "execution_count": 23,
   "outputs": [
    {
     "name": "stdout",
     "output_type": "stream",
     "text": [
      "Title: 'Pohřeb Andreje Hryce, hvězdy Ulice - eXtra.cz'\n",
      "Categories: <entertainment> <general>   ---   'Czechia' (08 Feb21 - 09 Feb21)\n",
      "Published: 07 Feb21\n",
      "Description: Ve věku jedenasedmdesáti let odešel do uměleckého nebe herec Andy Hryc,\n",
      "který 31. ledna prohrál boj se zákeřnou nemocí. O tragické události\n",
      "informovala jeho dcera Wanda Adamík Hrycová na sociálních sítích, nyní\n",
      "sdělila i informace o posledním rozloučení s her…\n"
     ]
    }
   ],
   "source": [
    "art = batch[0]\n",
    "# art = random.choice(by_loc['bg'])\n",
    "art = random.choice(sel)\n",
    "view_article(art, detailed=True)"
   ],
   "metadata": {
    "collapsed": false,
    "ExecuteTime": {
     "end_time": "2023-10-17T13:17:23.707989661Z",
     "start_time": "2023-10-17T13:17:23.652952633Z"
    }
   },
   "id": "bd41ec306729cd3e"
  },
  {
   "cell_type": "code",
   "execution_count": 24,
   "outputs": [
    {
     "name": "stdout",
     "output_type": "stream",
     "text": [
      "[{'label': 'tr', 'score': 0.241484597325325}]\n"
     ]
    }
   ],
   "source": [
    "print(pipe(art['title']))"
   ],
   "metadata": {
    "collapsed": false,
    "ExecuteTime": {
     "end_time": "2023-10-17T13:17:27.665687197Z",
     "start_time": "2023-10-17T13:17:27.608068512Z"
    }
   },
   "id": "d7af173e64a19cc2"
  },
  {
   "cell_type": "code",
   "execution_count": 21,
   "outputs": [
    {
     "name": "stdout",
     "output_type": "stream",
     "text": [
      "--  -------\n",
      "en  1202138\n",
      "es   454544\n",
      "fr   287983\n",
      "de   263461\n",
      "pt   243874\n",
      "ar   176290\n",
      "ko   164654\n",
      "id   130952\n",
      "it   130541\n",
      "tr   122706\n",
      "pl   117532\n",
      "el   117423\n",
      "ja   109040\n",
      "ru   108779\n",
      "nl   104251\n",
      "th    87606\n",
      "sv    86923\n",
      "hr    74282\n",
      "hu    73416\n",
      "cs    70629\n",
      "--  -------\n"
     ]
    }
   ],
   "source": [
    "langs = Counter(a['langdetect'] for a in articles)"
   ],
   "metadata": {
    "collapsed": false,
    "ExecuteTime": {
     "end_time": "2023-10-17T13:16:18.095265714Z",
     "start_time": "2023-10-17T13:16:17.482083378Z"
    }
   },
   "id": "a11928e37b155d2c"
  },
  {
   "cell_type": "code",
   "execution_count": 25,
   "outputs": [
    {
     "name": "stdout",
     "output_type": "stream",
     "text": [
      "-----  -------\n",
      "en     1202138\n",
      "es      454544\n",
      "fr      287983\n",
      "de      263461\n",
      "pt      243874\n",
      "ar      176290\n",
      "ko      164654\n",
      "id      130952\n",
      "it      130541\n",
      "tr      122706\n",
      "pl      117532\n",
      "el      117423\n",
      "ja      109040\n",
      "ru      108779\n",
      "nl      104251\n",
      "th       87606\n",
      "sv       86923\n",
      "hr       74282\n",
      "hu       73416\n",
      "cs       70629\n",
      "bg       69558\n",
      "he       67420\n",
      "uk       62629\n",
      "zh-cn    59522\n",
      "ro       56366\n",
      "no       54861\n",
      "sk       42993\n",
      "lv       39984\n",
      "lt       34948\n",
      "sl       34355\n",
      "zh-tw    24764\n",
      "vi       19535\n",
      "et        8550\n",
      "mk        5177\n",
      "ca        5151\n",
      "bn        2174\n",
      "af        1039\n",
      "tl         943\n",
      "da         812\n",
      "so         768\n",
      "sw         218\n",
      "cy         193\n",
      "fi         102\n",
      "sq          99\n",
      "fa           6\n",
      "ur           5\n",
      "hi           3\n",
      "-----  -------\n"
     ]
    }
   ],
   "source": [
    "print(tabulate(langs.most_common(50)))"
   ],
   "metadata": {
    "collapsed": false,
    "ExecuteTime": {
     "end_time": "2023-10-17T13:18:57.770598609Z",
     "start_time": "2023-10-17T13:18:57.759351005Z"
    }
   },
   "id": "649202126d209783"
  },
  {
   "cell_type": "code",
   "execution_count": 33,
   "outputs": [
    {
     "ename": "AttributeError",
     "evalue": "module 'omnifig' has no attribute 'Script'",
     "output_type": "error",
     "traceback": [
      "\u001B[0;31m---------------------------------------------------------------------------\u001B[0m",
      "\u001B[0;31mAttributeError\u001B[0m                            Traceback (most recent call last)",
      "Cell \u001B[0;32mIn[33], line 1\u001B[0m\n\u001B[0;32m----> 1\u001B[0m \u001B[38;5;28;01mfrom\u001B[39;00m \u001B[38;5;21;01msrc\u001B[39;00m\u001B[38;5;21;01m.\u001B[39;00m\u001B[38;5;21;01mcommon\u001B[39;00m \u001B[38;5;28;01mimport\u001B[39;00m LANGUAGE_CODES\n",
      "File \u001B[0;32m~/workspace/code/nnn/src/__init__.py:2\u001B[0m\n\u001B[0;32m----> 2\u001B[0m \u001B[38;5;28;01mfrom\u001B[39;00m \u001B[38;5;21;01m.\u001B[39;00m \u001B[38;5;28;01mimport\u001B[39;00m scrape_news\n\u001B[1;32m      3\u001B[0m \u001B[38;5;28;01mfrom\u001B[39;00m \u001B[38;5;21;01m.\u001B[39;00m \u001B[38;5;28;01mimport\u001B[39;00m present_notion\n\u001B[1;32m      4\u001B[0m \u001B[38;5;28;01mfrom\u001B[39;00m \u001B[38;5;21;01m.\u001B[39;00m \u001B[38;5;28;01mimport\u001B[39;00m sanitize\n",
      "File \u001B[0;32m~/workspace/code/nnn/src/scrape_news.py:97\u001B[0m\n\u001B[1;32m     94\u001B[0m \t\t\u001B[38;5;28mself\u001B[39m\u001B[38;5;241m.\u001B[39m_client\u001B[38;5;241m.\u001B[39mkey \u001B[38;5;241m=\u001B[39m key\n\u001B[1;32m     95\u001B[0m \t\t\u001B[38;5;28;01mreturn\u001B[39;00m \u001B[38;5;28mself\u001B[39m\u001B[38;5;241m.\u001B[39m_client\n\u001B[0;32m---> 97\u001B[0m \u001B[38;5;129m@fig\u001B[39m\u001B[38;5;241;43m.\u001B[39;49m\u001B[43mScript\u001B[49m(\u001B[38;5;124m'\u001B[39m\u001B[38;5;124mscrape-news\u001B[39m\u001B[38;5;124m'\u001B[39m, description\u001B[38;5;241m=\u001B[39m\u001B[38;5;124m'\u001B[39m\u001B[38;5;124mScrape news using News API\u001B[39m\u001B[38;5;124m'\u001B[39m)\n\u001B[1;32m     98\u001B[0m \u001B[38;5;28;01mdef\u001B[39;00m \u001B[38;5;21mscrape_news\u001B[39m(A):\n\u001B[1;32m    100\u001B[0m \tsilent \u001B[38;5;241m=\u001B[39m A\u001B[38;5;241m.\u001B[39mpull(\u001B[38;5;124m'\u001B[39m\u001B[38;5;124msilent\u001B[39m\u001B[38;5;124m'\u001B[39m, \u001B[38;5;28;01mFalse\u001B[39;00m, silent\u001B[38;5;241m=\u001B[39m\u001B[38;5;28;01mTrue\u001B[39;00m)\n\u001B[1;32m    102\u001B[0m \tapi_keys \u001B[38;5;241m=\u001B[39m A\u001B[38;5;241m.\u001B[39mpull(\u001B[38;5;124m'\u001B[39m\u001B[38;5;124mnews_api_keys\u001B[39m\u001B[38;5;124m'\u001B[39m, \u001B[38;5;124m'\u001B[39m\u001B[38;5;124m<>news_api_key\u001B[39m\u001B[38;5;124m'\u001B[39m, \u001B[38;5;124m'\u001B[39m\u001B[38;5;124m<>api_keys\u001B[39m\u001B[38;5;124m'\u001B[39m, \u001B[38;5;124m'\u001B[39m\u001B[38;5;124m<>api_key\u001B[39m\u001B[38;5;124m'\u001B[39m,\n\u001B[1;32m    103\u001B[0m \t                 os\u001B[38;5;241m.\u001B[39menviron\u001B[38;5;241m.\u001B[39mget(\u001B[38;5;124m'\u001B[39m\u001B[38;5;124mNEWS_API_KEY\u001B[39m\u001B[38;5;124m'\u001B[39m, \u001B[38;5;28;01mNone\u001B[39;00m), silent\u001B[38;5;241m=\u001B[39m\u001B[38;5;28;01mTrue\u001B[39;00m)\n",
      "\u001B[0;31mAttributeError\u001B[0m: module 'omnifig' has no attribute 'Script'"
     ]
    }
   ],
   "source": [
    "from src.common import LANGUAGE_CODES"
   ],
   "metadata": {
    "collapsed": false,
    "ExecuteTime": {
     "end_time": "2023-10-17T13:22:53.611544020Z",
     "start_time": "2023-10-17T13:22:53.548658901Z"
    }
   },
   "id": "af371a4e8fe18a33"
  },
  {
   "cell_type": "code",
   "execution_count": 34,
   "outputs": [
    {
     "ename": "NameError",
     "evalue": "name 'LANGUAGE_CODES' is not defined",
     "output_type": "error",
     "traceback": [
      "\u001B[0;31m---------------------------------------------------------------------------\u001B[0m",
      "\u001B[0;31mNameError\u001B[0m                                 Traceback (most recent call last)",
      "Cell \u001B[0;32mIn[34], line 1\u001B[0m\n\u001B[0;32m----> 1\u001B[0m \u001B[43mLANGUAGE_CODES\u001B[49m\u001B[38;5;241m.\u001B[39mget(\u001B[38;5;124m'\u001B[39m\u001B[38;5;124mes\u001B[39m\u001B[38;5;124m'\u001B[39m)\n",
      "\u001B[0;31mNameError\u001B[0m: name 'LANGUAGE_CODES' is not defined"
     ]
    }
   ],
   "source": [
    "LANGUAGE_CODES.get('es')"
   ],
   "metadata": {
    "collapsed": false,
    "ExecuteTime": {
     "end_time": "2023-10-17T13:22:53.871668290Z",
     "start_time": "2023-10-17T13:22:53.830746661Z"
    }
   },
   "id": "7cb5bd3838c56f53"
  },
  {
   "cell_type": "code",
   "execution_count": null,
   "outputs": [],
   "source": [],
   "metadata": {
    "collapsed": false
   },
   "id": "740616fb3ff31dac"
  },
  {
   "cell_type": "code",
   "execution_count": null,
   "outputs": [],
   "source": [
    "\n",
    "article_hi = \"संयुक्त राष्ट्र के प्रमुख का कहना है कि सीरिया में कोई सैन्य समाधान नहीं है\"\n",
    "article_ar = \"الأمين العام للأمم المتحدة يقول إنه لا يوجد حل عسكري في سوريا.\"\n",
    "\n",
    "model = MBartForConditionalGeneration.from_pretrained(\"facebook/mbart-large-50-many-to-many-mmt\")\n",
    "tokenizer = MBart50TokenizerFast.from_pretrained(\"facebook/mbart-large-50-many-to-many-mmt\")\n"
   ],
   "metadata": {
    "collapsed": false,
    "ExecuteTime": {
     "end_time": "2023-10-17T13:07:46.585452474Z",
     "start_time": "2023-10-17T13:07:46.585055018Z"
    }
   },
   "id": "c2bff511ed1b5e07"
  },
  {
   "cell_type": "code",
   "execution_count": 42,
   "outputs": [
    {
     "name": "stdout",
     "output_type": "stream",
     "text": [
      "True\n"
     ]
    },
    {
     "data": {
      "text/plain": "('RUSSIAN', 'ru', 98, 404.0)"
     },
     "execution_count": 42,
     "metadata": {},
     "output_type": "execute_result"
    }
   ],
   "source": [
    "import pycld2 as cld2\n",
    "\n",
    "isReliable, textBytesFound, details = cld2.detect(\n",
    "    \"а неправильный формат идентификатора дн назад\",\n",
    "\t# returnVectors=True\n",
    ")\n",
    "\n",
    "print(isReliable)\n",
    "# True\n",
    "details[0]\n",
    "# ('RUSSIAN', 'ru', 98, 404.0)"
   ],
   "metadata": {
    "collapsed": false,
    "ExecuteTime": {
     "end_time": "2023-10-17T13:48:02.511042079Z",
     "start_time": "2023-10-17T13:48:02.499560349Z"
    }
   },
   "id": "6a237d3d545b049f"
  },
  {
   "cell_type": "code",
   "execution_count": 43,
   "outputs": [
    {
     "data": {
      "text/plain": "(('RUSSIAN', 'ru', 98, 404.0),\n ('Unknown', 'un', 0, 0.0),\n ('Unknown', 'un', 0, 0.0))"
     },
     "execution_count": 43,
     "metadata": {},
     "output_type": "execute_result"
    }
   ],
   "source": [
    "details"
   ],
   "metadata": {
    "collapsed": false,
    "ExecuteTime": {
     "end_time": "2023-10-17T13:48:02.929533442Z",
     "start_time": "2023-10-17T13:48:02.926646399Z"
    }
   },
   "id": "6466274f069c8346"
  },
  {
   "cell_type": "code",
   "execution_count": 44,
   "outputs": [
    {
     "name": "stdout",
     "output_type": "stream",
     "text": [
      "((0, 94, 'ENGLISH', 'en'), (94, 329, 'FRENCH', 'fr'), (423, 139, 'ENGLISH', 'en'))\n"
     ]
    }
   ],
   "source": [
    "\n",
    "\n",
    "fr_en_Latn = \"\"\"\\\n",
    "France is the largest country in Western Europe and the third-largest in Europe as a whole.\n",
    "A accès aux chiens et aux frontaux qui lui ont été il peut consulter et modifier ses collections\n",
    "et exporter Cet article concerne le pays européen aujourd’hui appelé République française.\n",
    "Pour d’autres usages du nom France, Pour une aide rapide et effective, veuiller trouver votre aide\n",
    "dans le menu ci-dessus.\n",
    "Motoring events began soon after the construction of the first successful gasoline-fueled automobiles.\n",
    "The quick brown fox jumped over the lazy dog.\"\"\"\n",
    "\n",
    "isReliable, textBytesFound, details, vectors = cld2.detect(\n",
    "    fr_en_Latn, returnVectors=True\n",
    ")\n",
    "print(vectors)\n",
    "# ((0, 94, 'ENGLISH', 'en'), (94, 329, 'FRENCH', 'fr'), (423, 139, 'ENGLISH', 'en'))"
   ],
   "metadata": {
    "collapsed": false,
    "ExecuteTime": {
     "end_time": "2023-10-17T13:48:30.001339502Z",
     "start_time": "2023-10-17T13:48:29.960662745Z"
    }
   },
   "id": "ca1dfa35385bcc21"
  },
  {
   "cell_type": "code",
   "execution_count": 45,
   "outputs": [
    {
     "data": {
      "text/plain": "(('FRENCH', 'fr', 58, 883.0),\n ('ENGLISH', 'en', 41, 1148.0),\n ('Unknown', 'un', 0, 0.0))"
     },
     "execution_count": 45,
     "metadata": {},
     "output_type": "execute_result"
    }
   ],
   "source": [
    "details"
   ],
   "metadata": {
    "collapsed": false,
    "ExecuteTime": {
     "end_time": "2023-10-17T13:48:35.003205276Z",
     "start_time": "2023-10-17T13:48:34.999344418Z"
    }
   },
   "id": "2f51e03c82c4f3eb"
  },
  {
   "cell_type": "code",
   "execution_count": 1,
   "outputs": [],
   "source": [
    "html_template = \"\"\"\n",
    "<!DOCTYPE html>\n",
    "<html lang=\"en\">\n",
    "<head>\n",
    "\t<meta charset=\"UTF-8\">\n",
    "\t<meta name=\"viewport\" content=\"width=device-width, initial-scale=1.0\">\n",
    "\t<title>News Headlines</title>\n",
    "\t<style>\n",
    "\t\tbody {{\n",
    "\t\t\tfont-family: Arial, sans-serif;\n",
    "\t\t\tmargin: 20px;\n",
    "\t\t}}\n",
    "\t\t.headline {{\n",
    "\t\t\tpadding: 5px;\n",
    "\t\t\tborder-bottom: 1px solid #ddd;\n",
    "\t\t\tdisplay: flex;\n",
    "\t\t\tjustify-content: space-between;\n",
    "\t\t}}\n",
    "\t\t.title {{\n",
    "\t\t\tflex: 2;\n",
    "\t\t}}\n",
    "\t\t.ids {{\n",
    "\t\t\tflex: 1;\n",
    "\t\t\ttext-align: right;\n",
    "\t\t}}\n",
    "\t</style>\n",
    "</head>\n",
    "<body>\n",
    "\t<div id=\"news-container\">\n",
    "\t\t{headlines}\n",
    "\t</div>\n",
    "</body>\n",
    "</html>\n",
    "\"\"\""
   ],
   "metadata": {
    "collapsed": false,
    "ExecuteTime": {
     "end_time": "2023-10-24T09:14:55.294106Z",
     "start_time": "2023-10-24T09:14:55.276423Z"
    }
   },
   "id": "169f484dfec0abc"
  },
  {
   "cell_type": "code",
   "execution_count": 2,
   "outputs": [],
   "source": [
    "from pathlib import Path"
   ],
   "metadata": {
    "collapsed": false,
    "ExecuteTime": {
     "end_time": "2023-10-24T09:20:17.511711Z",
     "start_time": "2023-10-24T09:20:17.492682Z"
    }
   },
   "id": "d45708fef0ceb985"
  },
  {
   "cell_type": "code",
   "execution_count": 4,
   "outputs": [
    {
     "name": "stdout",
     "output_type": "stream",
     "text": [
      "['temp', 'raw_news', 'full.json', 'ftlang.json', 'langdetect.json', 'assets', 'global-news-headlines', 'global-news-headlines.zip']\n"
     ]
    }
   ],
   "source": [
    "root = Path('/Users/homeworld/workspace/local_data/nnn')\n",
    "print(list(p.name for p in root.glob('*')))"
   ],
   "metadata": {
    "collapsed": false,
    "ExecuteTime": {
     "end_time": "2023-10-24T09:21:47.901980Z",
     "start_time": "2023-10-24T09:21:47.882679Z"
    }
   },
   "id": "ee1f89aa7904261b"
  },
  {
   "cell_type": "code",
   "execution_count": null,
   "outputs": [],
   "source": [],
   "metadata": {
    "collapsed": false
   },
   "id": "9c62562ae7e5f0bb"
  },
  {
   "cell_type": "code",
   "execution_count": null,
   "outputs": [],
   "source": [],
   "metadata": {
    "collapsed": false
   },
   "id": "6dc6992d5c9e23a2"
  },
  {
   "cell_type": "code",
   "execution_count": null,
   "outputs": [],
   "source": [
    "def generate_html_from_dict(headlines_dict):\n",
    "    # Base HTML template\n",
    "    # Generate headlines\n",
    "    headlines = \"\"\n",
    "    for headline, ids in headlines_dict.items():\n",
    "        ids_str = ', '.join(map(str, ids))\n",
    "        headlines += f'<div class=\"headline\"><span class=\"title\">{headline}</span><span class=\"ids\">[{ids_str}]</span></div>\\n'\n",
    "    \n",
    "    # Insert headlines into the HTML template\n",
    "    return html_template.format(headlines=headlines)\n",
    "\n",
    "# Sample headlines dictionary for testing\n",
    "sample_headlines_dict = {\n",
    "    \"Breaking: Earthquake in Paris\": [101, 102, 103],\n",
    "    \"Rain causes uproar in London\": [104, 105],\n",
    "    \"London witnesses Earthquake phenomenon\": [106]\n",
    "}\n",
    "\n",
    "# Generate the HTML content\n",
    "html_content_from_dict = generate_html_from_dict(sample_headlines_dict)\n",
    "html_content_from_dict[:1000]  # Displaying only the first 1000 characters for brevity\n"
   ],
   "metadata": {
    "collapsed": false
   },
   "id": "aa416e1dea448431"
  },
  {
   "cell_type": "code",
   "execution_count": null,
   "outputs": [],
   "source": [],
   "metadata": {
    "collapsed": false
   },
   "id": "dae13b6e354a9c8d"
  },
  {
   "cell_type": "code",
   "execution_count": null,
   "outputs": [],
   "source": [],
   "metadata": {
    "collapsed": false
   },
   "id": "4f9a4d2e58071ab1"
  }
 ],
 "metadata": {
  "kernelspec": {
   "display_name": "Python 3",
   "language": "python",
   "name": "python3"
  },
  "language_info": {
   "codemirror_mode": {
    "name": "ipython",
    "version": 2
   },
   "file_extension": ".py",
   "mimetype": "text/x-python",
   "name": "python",
   "nbconvert_exporter": "python",
   "pygments_lexer": "ipython2",
   "version": "2.7.6"
  }
 },
 "nbformat": 4,
 "nbformat_minor": 5
}
