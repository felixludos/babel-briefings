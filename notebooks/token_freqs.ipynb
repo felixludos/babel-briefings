{
 "cells": [
  {
   "cell_type": "code",
   "execution_count": 1,
   "id": "initial_id",
   "metadata": {
    "collapsed": true,
    "ExecuteTime": {
     "end_time": "2023-11-15T12:25:26.199737775Z",
     "start_time": "2023-11-15T12:25:20.136742770Z"
    }
   },
   "outputs": [],
   "source": [
    "from pathlib import Path\n",
    "from tqdm.notebook import tqdm\n",
    "from tabulate import tabulate\n",
    "import random, json\n",
    "import pycountry\n",
    "from iso639 import languages\n",
    "import networkx as nx\n",
    "import textwrap\n",
    "from itertools import combinations, islice\n",
    "from dateutil import parser\n",
    "from datetime import datetime\n",
    "from collections import Counter\n",
    "from langdetect import detect\n",
    "from omnibelt import load_json, save_json\n",
    "import Levenshtein\n",
    "from unidecode import unidecode\n",
    "import unicodedata\n",
    "from wordcloud import WordCloud\n",
    "import nltk\n",
    "from nltk import word_tokenize, pos_tag, ne_chunk\n",
    "from nltk.stem import WordNetLemmatizer\n",
    "from nltk.corpus import stopwords\n",
    "from rake_nltk import Rake\n",
    "import spacy\n",
    "import pickle as pkl\n",
    "\n",
    "# from sklearn.cluster import DBSCAN\n",
    "# import numpy as np\n",
    "\n",
    "stop_words = set(stopwords.words('english'))\n",
    "stop_words.update(\"'s\", '|', 'I', \"n't\", \"`s\", \"'s\", 'n`t')\n",
    "\n",
    "nlp = spacy.load('en_core_web_md')\n",
    "import numpy as np\n",
    "import pandas as pd\n",
    "import seaborn as sns\n",
    "import matplotlib.pyplot as plt\n",
    "import matplotlib.dates as mdates\n",
    "import numpy as np\n",
    "from sklearn.cluster import KMeans\n",
    "from sklearn.decomposition import PCA\n",
    "import umap\n",
    "import matplotlib.pyplot as plt\n",
    "import matplotlib.dates as mdates\n",
    "from gensim.models import KeyedVectors\n",
    "from nltk.tokenize import word_tokenize\n",
    "import nltk\n",
    "\n",
    "# Download the tokenizers\n",
    "# nltk.download('punkt')\n",
    "\n",
    "# word_vectors = KeyedVectors.load_word2vec_format('/home/fleeb/Downloads/GoogleNews-vectors-negative300.bin',\n",
    "# \t\t\t\t\t\t\t\t\t\t\t\t binary=True)\n"
   ]
  },
  {
   "cell_type": "code",
   "execution_count": 2,
   "outputs": [
    {
     "data": {
      "text/plain": "54"
     },
     "execution_count": 2,
     "metadata": {},
     "output_type": "execute_result"
    }
   ],
   "source": [
    "lang_clusters = {'en': ['au', 'ca', 'gb', 'ie', 'in', 'my', 'ng', 'nz', 'ph', 'sa', 'sg', 'us', 'za'],\n",
    "\t\t\t\t 'es': ['ar', 'co', 'cu', 'mx', 've'], 'de': ['at', 'ch', 'de'], 'fr': ['be', 'fr', 'ma'],\n",
    "\t\t\t\t 'zh': ['cn', 'hk', 'tw'], 'ar': ['ae', 'eg'], 'pt': ['br', 'pt'], 'bg': ['bg'], 'cs': ['cz'],\n",
    "\t\t\t\t 'el': ['gr'], 'he': ['il'], 'hu': ['hu'], 'id': ['id'], 'it': ['it'], 'ja': ['jp'], 'ko': ['kr'],\n",
    "\t\t\t\t 'lt': ['lt'], 'lv': ['lv'], 'nl': ['nl'], 'no': ['no'], 'pl': ['pl'], 'ro': ['ro'], 'ru': ['ru'],\n",
    "\t\t\t\t 'sv': ['se'], 'sl': ['si'], 'sk': ['sk'], 'sr': ['rs'], 'th': ['th'], 'tr': ['tr'], 'uk': ['ua']}\n",
    "loc_names = {'gb': 'United Kingdom', 'ar': 'Argentina', 'pl': 'Poland', 'sk': 'Slovakia', 'us': 'United States',\n",
    "\t\t\t 'eg': 'Egypt', 'no': 'Norway', 'ph': 'Philippines', 'at': 'Austria', 'rs': 'Serbia', 'tw': 'Taiwan',\n",
    "\t\t\t 'be': 'Belgium', 'cu': 'Cuba', 'sa': 'Saudi Arabia', 'th': 'Thailand', 'id': 'Indonesia',\n",
    "\t\t\t 'ru': 'Russian Federation', 'ch': 'Switzerland', 'fr': 'France', 'lt': 'Lithuania', 'tr': 'Turkey',\n",
    "\t\t\t 'de': 'Germany', 'cz': 'Czechia', 'pt': 'Portugal', 'ae': 'United Arab Emirates', 'it': 'Italy',\n",
    "\t\t\t 'cn': 'China', 'lv': 'Latvia', 'nl': 'Netherlands', 'hk': 'Hong Kong', 'ca': 'Canada', 'br': 'Brazil',\n",
    "\t\t\t 'hu': 'Hungary', 'kr': 'Korea', 'si': 'Slovenia', 'au': 'Australia', 'my': 'Malaysia', 'ie': 'Ireland',\n",
    "\t\t\t 'ua': 'Ukraine', 'in': 'India', 'ma': 'Morocco', 'bg': 'Bulgaria', 'ng': 'Nigeria', 'il': 'Israel',\n",
    "\t\t\t 'se': 'Sweden', 'za': 'South Africa', 've': 'Venezuela', 'nz': 'New Zealand', 'jp': 'Japan',\n",
    "\t\t\t 'sg': 'Singapore', 'gr': 'Greece', 'mx': 'Mexico', 'co': 'Colombia', 'ro': 'Romania'}\n",
    "lang_names = {'en': 'English', 'ko': 'Korean', 'ru': 'Russian', 'es': 'Spanish', 'pt': 'Portuguese', 'cs': 'Czech',\n",
    "\t\t\t  'tr': 'Turkish', 'nl': 'Dutch', 'ar': 'Arabic', 'fr': 'French', 'bg': 'Bulgarian', 'id': 'Indonesian',\n",
    "\t\t\t  'sk': 'Slovak', 'el': 'Greek', 'he': 'Hebrew', 'sr': 'Serbian', 'hu': 'Hungarian', 'th': 'Thai',\n",
    "\t\t\t  'zh': 'Chinese', 'no': 'Norwegian', 'sl': 'Slovenian', 'sv': 'Swedish', 'de': 'German', 'lv': 'Latvian',\n",
    "\t\t\t  'pl': 'Polish', 'it': 'Italian', 'ro': 'Romanian', 'lt': 'Lithuanian', 'ja': 'Japanese',\n",
    "\t\t\t  'uk': 'Ukrainian'}\n",
    "cluster_id = {loc: lang for lang, locs in lang_clusters.items() for loc in locs}\n",
    "len(cluster_id)"
   ],
   "metadata": {
    "collapsed": false,
    "ExecuteTime": {
     "end_time": "2023-11-15T12:25:31.910106185Z",
     "start_time": "2023-11-15T12:25:31.856119319Z"
    }
   },
   "id": "ca221793bcd998c3"
  },
  {
   "cell_type": "code",
   "execution_count": 3,
   "outputs": [
    {
     "data": {
      "text/plain": "  0%|          | 0/54 [00:00<?, ?it/s]",
      "application/vnd.jupyter.widget-view+json": {
       "version_major": 2,
       "version_minor": 0,
       "model_id": "d234fed7f0f4448ab7d99cb9a0537570"
      }
     },
     "metadata": {},
     "output_type": "display_data"
    },
    {
     "data": {
      "text/plain": "  0%|          | 0/4719199 [00:00<?, ?it/s]",
      "application/vnd.jupyter.widget-view+json": {
       "version_major": 2,
       "version_minor": 0,
       "model_id": "452547d995174919b217bba26fe20cab"
      }
     },
     "metadata": {},
     "output_type": "display_data"
    },
    {
     "data": {
      "text/plain": "(4719199, 54, 30)"
     },
     "execution_count": 3,
     "metadata": {},
     "output_type": "execute_result"
    }
   ],
   "source": [
    "root = Path('/home/fleeb/workspace/local_data/nnn')\n",
    "recs = (root / 'babel-briefings-v1').glob('**/*.json')\n",
    "recs = list(recs)\n",
    "len(recs)\n",
    "articles = []\n",
    "for rec in tqdm(recs):\n",
    "\tarticles.extend(load_json(rec))\n",
    "by_loc = {}\n",
    "by_lang = {}\n",
    "by_source = {}\n",
    "by_ID = {}\n",
    "for article in tqdm(articles):\n",
    "\tby_ID[article['ID']] = article\n",
    "\t# article['published'] = parser.parse(article['publishedAt'])\n",
    "\tby_source.setdefault(article['source-name'], []).append(article)\n",
    "\tby_lang.setdefault(article['language'], []).append(article)\n",
    "\tfor instance in article['instances']:\n",
    "\t\t# instance['collected'] = parser.parse(instance['collectedAt'])\n",
    "\t\tby_loc.setdefault(instance['location'], []).append(article)\n",
    "len(articles), len(by_loc), len(by_lang)"
   ],
   "metadata": {
    "collapsed": false,
    "ExecuteTime": {
     "end_time": "2023-11-15T12:26:24.947665552Z",
     "start_time": "2023-11-15T12:25:31.997192390Z"
    }
   },
   "id": "2b51396b51124256"
  },
  {
   "cell_type": "code",
   "execution_count": 45,
   "outputs": [],
   "source": [
    "def show_date(date):\n",
    "\treturn date.strftime('%d %b%y')\n",
    "def get_locs(article):\n",
    "\treturn [f'{loc_names[loc]}' for loc in sorted(set(i['location'] for i in article['instances']))]\n",
    "def get_cats(article):\n",
    "\treturn [f'<{cat}>' for cat in sorted(set(i['category'] for i in article['instances']))]\n",
    "def view_article(art, detailed=False):\n",
    "\tcats = ' '.join(get_cats(art))\n",
    "\tlocs = ', '.join(map(repr, get_locs(art)))\n",
    "\tpublished = parser.parse(art['publishedAt'])\n",
    "\tcollected = [parser.parse(i['collectedAt']) for i in art['instances']]\n",
    "\tfirst = min(collected)\n",
    "\tlast = max(collected)\n",
    "\ttiming = f'{show_date(first)}' if first == last else f'{show_date(first)} - {show_date(last)}'\n",
    "\n",
    "\tlines = []\n",
    "\tif 'en-title' in art:\n",
    "\t\tlines.append(f'English Title: {art[\"en-title\"]!r}')\n",
    "\tlines.append(f'{lang_names[art[\"language\"]]} Title: {art[\"title\"]!r}')\n",
    "\tlines.append(f'Categories: {cats}  ---   {locs} ({timing})  ---  {art[\"source-name\"]}')\n",
    "\n",
    "\tif detailed:\n",
    "\t\tadded_desc = False\n",
    "\t\tdesc = art.get('description')\n",
    "\t\ten_desc = art.get('en-description')\n",
    "\t\tif en_desc is not None and len(en_desc):\n",
    "\t\t\tlines.append(f'English Description: {en_desc}')\n",
    "\t\t\tadded_desc = True\n",
    "\t\telif desc is not None and len(desc):\n",
    "\t\t\tlines.append(f'{lang_names[art[\"language\"]]} Description: {desc}')\n",
    "\t\t\tadded_desc = True\n",
    "\t\tif not added_desc:\n",
    "\t\t\tlines.append(f'- No description -')\n",
    "\tprint('\\n'.join(lines))\n",
    "\n",
    "def inst_id(art_id, inst_idx):\n",
    "\treturn f'{str(art_id).zfill(7)}-{str(inst_idx).zfill(3)}'\n",
    "def get_inst(inst_id):\n",
    "\tart_id, inst_idx = inst_id.split('-')\n",
    "\tart = by_ID[art_id]\n",
    "\tinst = art['instances'][int(inst_idx)]\n",
    "\treturn {**inst, **art}\n",
    "def art_row(art):\n",
    "\treturn {'aid': art['ID'], 'title': art.get('en-title', art['title']), 'source': art['source-name'],\n",
    "\t\t\t'language': art['language']}\n",
    "def get_title(art):\n",
    "\treturn art.get('en-title', art['title'])\n",
    "def article_title_bag(art):\n",
    "\ttitle = art.get('en-title', art['title'])\n",
    "\ttitle_doc = nlp(title)\n",
    "\tkey_terms = Counter([token.lemma_.lower() for chunk in title_doc.noun_chunks for token in chunk])\n",
    "\treturn key_terms\n",
    "_my_stop_words = {\"'s\", 'news'}\n",
    "def is_good_word(w):\n",
    "\treturn not all(unicodedata.category(char).startswith('P') or unicodedata.category(char).startswith('N') for char in w) and w not in stop_words and w not in _my_stop_words"
   ],
   "metadata": {
    "collapsed": false,
    "ExecuteTime": {
     "end_time": "2023-11-15T12:45:47.966123527Z",
     "start_time": "2023-11-15T12:45:47.914645735Z"
    }
   },
   "id": "f68966916638d364"
  },
  {
   "cell_type": "code",
   "execution_count": 46,
   "outputs": [
    {
     "data": {
      "text/plain": "(4719199, 4719199)"
     },
     "execution_count": 46,
     "metadata": {},
     "output_type": "execute_result"
    }
   ],
   "source": [
    "# all_bags = pkl.load(open(root/'temp'/'all_bags.pkl', 'rb'))\n",
    "all_bags_inds = pkl.load(open(root/'temp'/'all_bags_inds.pkl', 'rb'))\n",
    "all_bags = {ID: Counter({w: len(inds) for w, inds in bag.items() if len(inds) and is_good_word(w)}) for ID, bag in all_bags_inds.items()}\n",
    "len(all_bags), len(all_bags_inds)"
   ],
   "metadata": {
    "collapsed": false,
    "ExecuteTime": {
     "end_time": "2023-11-15T12:47:30.108505774Z",
     "start_time": "2023-11-15T12:46:06.169072757Z"
    }
   },
   "id": "3080e1bb71b89abc"
  },
  {
   "cell_type": "code",
   "execution_count": 47,
   "outputs": [
    {
     "name": "stdout",
     "output_type": "stream",
     "text": [
      "English Title: \"New robotic thumb affects the brain's perception of the hand - Illivet\"\n",
      "Swedish Title: 'Ny robottumme påverkar hjärnans uppfattning av handen - Illivet'\n",
      "Categories: <general> <health>  ---   'Sweden' (28 May21 - 29 May21)  ---  Illvet.se\n",
      "English Description: Now a group of researchers has invented a robotic thumb that makes it possible to perform tasks with one hand that previously required two hands.\n"
     ]
    }
   ],
   "source": [
    "art = random.choice(articles)\n",
    "view_article(art, detailed=True)"
   ],
   "metadata": {
    "collapsed": false,
    "ExecuteTime": {
     "end_time": "2023-11-15T12:47:30.108733480Z",
     "start_time": "2023-11-15T12:47:30.096721094Z"
    }
   },
   "id": "95e21adbc40ffd76"
  },
  {
   "cell_type": "code",
   "execution_count": 230,
   "outputs": [
    {
     "data": {
      "text/plain": "270887"
     },
     "execution_count": 230,
     "metadata": {},
     "output_type": "execute_result"
    }
   ],
   "source": [
    "\n",
    "world = articles\n",
    "\n",
    "# select articles of one language\n",
    "world = by_lang['zh']\n",
    "\n",
    "len(world)"
   ],
   "metadata": {
    "collapsed": false,
    "ExecuteTime": {
     "end_time": "2023-11-15T13:55:54.037004162Z",
     "start_time": "2023-11-15T13:55:54.031093490Z"
    }
   },
   "id": "7d8bdd0d5676e4a4"
  },
  {
   "cell_type": "code",
   "execution_count": 231,
   "outputs": [
    {
     "data": {
      "text/plain": "  0%|          | 0/270887 [00:00<?, ?it/s]",
      "application/vnd.jupyter.widget-view+json": {
       "version_major": 2,
       "version_minor": 0,
       "model_id": "3206ca747b8d44839d0dc1e8f704d6c6"
      }
     },
     "metadata": {},
     "output_type": "display_data"
    },
    {
     "data": {
      "text/plain": "412219"
     },
     "execution_count": 231,
     "metadata": {},
     "output_type": "execute_result"
    }
   ],
   "source": [
    "df = pd.DataFrame(\n",
    "\t[{**row, **inst, 'iid': inst_id(row['aid'], i)} for row in tqdm([art_row(art) for art in world]) for i, inst in\n",
    "\t enumerate(by_ID[row['aid']]['instances'])])\n",
    "df['collectedAt'] = pd.to_datetime(df['collectedAt'])\n",
    "df = df.sort_values('collectedAt')\n",
    "df['date'] = df['collectedAt'].dt.date\n",
    "len(df)"
   ],
   "metadata": {
    "collapsed": false,
    "ExecuteTime": {
     "end_time": "2023-11-15T13:55:59.484550992Z",
     "start_time": "2023-11-15T13:55:57.894544719Z"
    }
   },
   "id": "5b3056757fc47d3d"
  },
  {
   "cell_type": "code",
   "execution_count": 232,
   "outputs": [
    {
     "data": {
      "text/plain": "  0%|          | 0/413 [00:00<?, ?it/s]",
      "application/vnd.jupyter.widget-view+json": {
       "version_major": 2,
       "version_minor": 0,
       "model_id": "f241bd2c1fd94b24a53f817fe6f1744d"
      }
     },
     "metadata": {},
     "output_type": "display_data"
    },
    {
     "data": {
      "text/plain": "  0%|          | 0/413 [00:00<?, ?it/s]",
      "application/vnd.jupyter.widget-view+json": {
       "version_major": 2,
       "version_minor": 0,
       "model_id": "df985f4a714c4bd39d9b7a99feaa16b9"
      }
     },
     "metadata": {},
     "output_type": "display_data"
    },
    {
     "data": {
      "text/plain": "  0%|          | 0/413 [00:00<?, ?it/s]",
      "application/vnd.jupyter.widget-view+json": {
       "version_major": 2,
       "version_minor": 0,
       "model_id": "4caae5b985834659ade61fcd5e51446f"
      }
     },
     "metadata": {},
     "output_type": "display_data"
    },
    {
     "data": {
      "text/plain": "413"
     },
     "execution_count": 232,
     "metadata": {},
     "output_type": "execute_result"
    }
   ],
   "source": [
    "daybags = {}\n",
    "date_aids = dict(df.groupby('date')['aid'].apply(set))\n",
    "for date, aIDs in tqdm(sorted(date_aids.items())):\n",
    "\ttotal = Counter()\n",
    "\tfor aID in aIDs:\n",
    "\t\ttotal.update(all_bags[aID])\n",
    "\tdaybags[date] = total\n",
    "len(daybags)\n",
    "dayidf = Counter()\n",
    "for date, bag in tqdm(daybags.items()):\n",
    "\tdayidf.update(bag.keys())\n",
    "dayidf = {w: np.log(len(daybags) / f) for w, f in dayidf.items()}\n",
    "daytotals = {d: sum(bag.values()) for d, bag in daybags.items()}\n",
    "daytfidf = {day: Counter({w: f / daytotals[day] * dayidf[w] for w, f in bag.items()}) for day, bag in\n",
    "\t\t\ttqdm(daybags.items())}\n",
    "len(daytfidf)"
   ],
   "metadata": {
    "collapsed": false,
    "ExecuteTime": {
     "end_time": "2023-11-15T13:56:04.185831803Z",
     "start_time": "2023-11-15T13:56:02.473914939Z"
    }
   },
   "id": "4c02f6054bd2c059"
  },
  {
   "cell_type": "code",
   "execution_count": 233,
   "outputs": [
    {
     "name": "stdout",
     "output_type": "stream",
     "text": [
      "03 Jun 2021\n"
     ]
    }
   ],
   "source": [
    "target = random.choice(list(daytfidf.keys()))\n",
    "importances = daytfidf[target]\n",
    "counts = daybags[target]\n",
    "print(target.strftime('%d %b %Y'))"
   ],
   "metadata": {
    "collapsed": false,
    "ExecuteTime": {
     "end_time": "2023-11-15T13:56:16.850701469Z",
     "start_time": "2023-11-15T13:56:16.827350931Z"
    }
   },
   "id": "b9e3a4c87805356"
  },
  {
   "cell_type": "code",
   "execution_count": 235,
   "outputs": [
    {
     "name": "stdout",
     "output_type": "stream",
     "text": [
      "---------  -----------  --\n",
      "june       0.00109679   21\n",
      "licenses   0.000998996   2\n",
      "jbs        0.000981177   3\n",
      "qingluo    0.000884037   2\n",
      "pingzhou   0.000884037   2\n",
      "slowpoke   0.000884037   2\n",
      "amc        0.000881052   4\n",
      "stopwatch  0.000769078   2\n",
      "kingston   0.000742767   4\n",
      "alluring   0.000732069   2\n",
      "---------  -----------  --\n"
     ]
    }
   ],
   "source": [
    "print(tabulate([(w, f, counts[w]) for w, f in importances.most_common(10)]))"
   ],
   "metadata": {
    "collapsed": false,
    "ExecuteTime": {
     "end_time": "2023-11-15T13:56:22.188907163Z",
     "start_time": "2023-11-15T13:56:22.164342327Z"
    }
   },
   "id": "bbd33dc9446b9c8c"
  },
  {
   "cell_type": "code",
   "execution_count": 237,
   "outputs": [
    {
     "data": {
      "text/plain": "479"
     },
     "execution_count": 237,
     "metadata": {},
     "output_type": "execute_result"
    }
   ],
   "source": [
    "dayidx = []\n",
    "dates = []\n",
    "origin = min(daytfidf)\n",
    "for day in sorted(daytfidf):\n",
    "\tdates.append(day)\n",
    "\tdayidx.append((day - origin).days)\n",
    "dayidx = np.array(dayidx)\n",
    "dates = np.array(dates)\n",
    "date2day = {d: day for d, day in zip(dates, dayidx)}\n",
    "dayidx[-1]"
   ],
   "metadata": {
    "collapsed": false,
    "ExecuteTime": {
     "end_time": "2023-11-15T13:56:43.071393360Z",
     "start_time": "2023-11-15T13:56:43.042869869Z"
    }
   },
   "id": "83a2fe2a790a6a3f"
  },
  {
   "cell_type": "code",
   "execution_count": 238,
   "outputs": [
    {
     "data": {
      "text/plain": "(317, datetime.date(2020, 10, 3), datetime.date(2021, 10, 2))"
     },
     "execution_count": 238,
     "metadata": {},
     "output_type": "execute_result"
    }
   ],
   "source": [
    "# deltadays = 57\n",
    "# sel = (dayidx >= deltadays) & (dayidx <= dayidx[-1] - deltadays)\n",
    "m, d = 10, 3\n",
    "sel = np.array([datetime(2020, m, d).date() <= date < datetime(2021, m, d).date() for date in dates]).astype(bool)\n",
    "seldates = dates[sel]\n",
    "selidx = dayidx[sel]\n",
    "sum(sel), seldates[0], seldates[-1]"
   ],
   "metadata": {
    "collapsed": false,
    "ExecuteTime": {
     "end_time": "2023-11-15T13:56:45.286329025Z",
     "start_time": "2023-11-15T13:56:45.282041789Z"
    }
   },
   "id": "c4e1ebadd543414e"
  },
  {
   "cell_type": "code",
   "execution_count": 239,
   "outputs": [
    {
     "name": "stdout",
     "output_type": "stream",
     "text": [
      "03 Feb 2021\n"
     ]
    }
   ],
   "source": [
    "target = random.choice(seldates)\n",
    "importances = daytfidf[target]\n",
    "counts = daybags[target]\n",
    "print(target.strftime('%d %b %Y'))"
   ],
   "metadata": {
    "collapsed": false,
    "ExecuteTime": {
     "end_time": "2023-11-15T13:56:47.511018265Z",
     "start_time": "2023-11-15T13:56:47.507041302Z"
    }
   },
   "id": "5d11a7a40cd6e357"
  },
  {
   "cell_type": "code",
   "execution_count": 241,
   "outputs": [],
   "source": [
    "# print(tabulate([(w, f, counts[w]) for w, f in importances.most_common(20)]))"
   ],
   "metadata": {
    "collapsed": false,
    "ExecuteTime": {
     "end_time": "2023-11-15T13:56:54.359770305Z",
     "start_time": "2023-11-15T13:56:54.312456862Z"
    }
   },
   "id": "7e5f2c3af018e920"
  },
  {
   "cell_type": "code",
   "execution_count": 242,
   "outputs": [
    {
     "data": {
      "text/plain": "  0%|          | 0/317 [00:00<?, ?it/s]",
      "application/vnd.jupyter.widget-view+json": {
       "version_major": 2,
       "version_minor": 0,
       "model_id": "91956e3763e74a2abf397f939862d824"
      }
     },
     "metadata": {},
     "output_type": "display_data"
    },
    {
     "data": {
      "text/plain": "(317, 4294)"
     },
     "execution_count": 242,
     "metadata": {},
     "output_type": "execute_result"
    }
   ],
   "source": [
    "topwordsperday = {date2day[day]: [w for w, f in daytfidf[day].most_common(20)] for day in tqdm(seldates)}\n",
    "alltopwords = {w for ws in topwordsperday.values() for w in ws}\n",
    "len(topwordsperday), len(alltopwords)"
   ],
   "metadata": {
    "collapsed": false,
    "ExecuteTime": {
     "end_time": "2023-11-15T13:56:56.677938529Z",
     "start_time": "2023-11-15T13:56:56.555535084Z"
    }
   },
   "id": "c7453ba55604cc72"
  },
  {
   "cell_type": "code",
   "execution_count": 243,
   "outputs": [
    {
     "data": {
      "text/plain": "'jianming'"
     },
     "execution_count": 243,
     "metadata": {},
     "output_type": "execute_result"
    }
   ],
   "source": [
    "token = random.choice(list(alltopwords))\n",
    "# token = 'covid'\n",
    "token"
   ],
   "metadata": {
    "collapsed": false,
    "ExecuteTime": {
     "end_time": "2023-11-15T13:56:58.843461796Z",
     "start_time": "2023-11-15T13:56:58.838115607Z"
    }
   },
   "id": "2880ca6ca5344ee9"
  },
  {
   "cell_type": "code",
   "execution_count": 246,
   "outputs": [],
   "source": [
    "imps = np.array([daytfidf[d][token] for d in dates])\n",
    "cnts = np.array([daybags[d][token] for d in dates])\n",
    "\n",
    "sub = pd.DataFrame({'date': dates, 'importance': imps, 'counts': cnts})\n",
    "# sub"
   ],
   "metadata": {
    "collapsed": false,
    "ExecuteTime": {
     "end_time": "2023-11-15T13:57:29.113535393Z",
     "start_time": "2023-11-15T13:57:29.039971657Z"
    }
   },
   "id": "ff7b20e6456906e"
  },
  {
   "cell_type": "code",
   "execution_count": 247,
   "outputs": [
    {
     "data": {
      "text/plain": "<Figure size 4000x400 with 1 Axes>",
      "image/png": "[encoded data removed]"
     },
     "metadata": {},
     "output_type": "display_data"
    }
   ],
   "source": [
    "plt.figure(figsize=(40, 4))\n",
    "sns.barplot(data=sub, x='date', y='counts');\n",
    "plt.xticks(ticks=[i for i, date in enumerate(sub['date']) if date.day in {1, 15}], \n",
    "           labels=[date.strftime('%Y-%m-%d') for date in sub['date'] if date.day in {1, 15}],\n",
    "           rotation=45)\n",
    "plt.tight_layout();"
   ],
   "metadata": {
    "collapsed": false,
    "ExecuteTime": {
     "end_time": "2023-11-15T13:57:32.457691102Z",
     "start_time": "2023-11-15T13:57:31.347745691Z"
    }
   },
   "id": "f626624c90a8967a"
  },
  {
   "cell_type": "code",
   "execution_count": 250,
   "outputs": [],
   "source": [
    "def compute_peak_shape(tokens, back_lim=30, forw_lim=30, pbar=True):\n",
    "\tword_dens = Counter()\n",
    "\tword_nums = Counter()\n",
    "\t\n",
    "\tfor token in tqdm(tokens) if pbar else tokens:\n",
    "\t\timps = np.array([daytfidf[d][token] for d in dates])\n",
    "\t\tcnts = np.array([daybags[d][token] for d in dates])\n",
    "\t\t\n",
    "\t\tpeak_deltas = dayidx - dayidx[np.argmax(cnts)]\n",
    "\t\t\n",
    "\t\tfor delta, imp, cnt in zip(peak_deltas, imps, cnts):\n",
    "\t\t\tif -back_lim <= delta <= forw_lim:\n",
    "\t\t\t\tword_dens[delta] += 1\n",
    "\t\t\t\tword_nums[delta] += cnt\n",
    "\t\n",
    "\tword_deltas = {delta: word_nums[delta] / word_dens[delta] for delta in word_dens}\n",
    "\treturn np.array(sorted(word_deltas.items())).T"
   ],
   "metadata": {
    "collapsed": false,
    "ExecuteTime": {
     "end_time": "2023-11-15T14:00:02.829036677Z",
     "start_time": "2023-11-15T14:00:02.777645679Z"
    }
   },
   "id": "55bc7aa0960c12b2"
  },
  {
   "cell_type": "code",
   "execution_count": 251,
   "outputs": [
    {
     "data": {
      "text/plain": "  0%|          | 0/4294 [00:00<?, ?it/s]",
      "application/vnd.jupyter.widget-view+json": {
       "version_major": 2,
       "version_minor": 0,
       "model_id": "09875c56cf8d4e5a9101e2b5d5c8b905"
      }
     },
     "metadata": {},
     "output_type": "display_data"
    },
    {
     "data": {
      "text/plain": "<Figure size 1000x500 with 1 Axes>",
      "image/png": "[encoded data removed]"
     },
     "metadata": {},
     "output_type": "display_data"
    }
   ],
   "source": [
    "X, Y = compute_peak_shape(alltopwords)\n",
    "plt.figure(figsize=(10, 5))\n",
    "plt.plot(X, Y);\n",
    "# plt.gca().minorticks_on()\n",
    "# plt.tight_layout();"
   ],
   "metadata": {
    "collapsed": false,
    "ExecuteTime": {
     "end_time": "2023-11-15T14:00:06.621432602Z",
     "start_time": "2023-11-15T14:00:05.047651677Z"
    }
   },
   "id": "2eb374ffdcb8e5f0"
  },
  {
   "cell_type": "code",
   "execution_count": 227,
   "outputs": [
    {
     "data": {
      "text/plain": "  0%|          | 0/3108 [00:00<?, ?it/s]",
      "application/vnd.jupyter.widget-view+json": {
       "version_major": 2,
       "version_minor": 0,
       "model_id": "0626c4f2bfd84610b62ac271c014fc15"
      }
     },
     "metadata": {},
     "output_type": "display_data"
    },
    {
     "data": {
      "text/plain": "<Figure size 1000x500 with 1 Axes>",
      "image/png": "[encoded data removed]"
     },
     "metadata": {},
     "output_type": "display_data"
    }
   ],
   "source": [
    "X, Y = compute_peak_shape(alltopwords)\n",
    "plt.figure(figsize=(10, 5))\n",
    "plt.plot(X, Y);\n",
    "# plt.gca().minorticks_on()\n",
    "# plt.tight_layout();"
   ],
   "metadata": {
    "collapsed": false,
    "ExecuteTime": {
     "end_time": "2023-11-15T13:54:07.593152517Z",
     "start_time": "2023-11-15T13:54:06.065307330Z"
    }
   },
   "id": "b16075b977d78bf5"
  },
  {
   "cell_type": "code",
   "execution_count": null,
   "outputs": [],
   "source": [],
   "metadata": {
    "collapsed": false
   },
   "id": "d05df63b60b7ac1d"
  },
  {
   "cell_type": "code",
   "execution_count": 254,
   "outputs": [],
   "source": [
    "def compute_peak_shape_from_world(world, numtop=20, back_lim=30, forw_lim=30):\n",
    "\tdf = pd.DataFrame(\n",
    "\t\t[{**row, **inst, 'iid': inst_id(row['aid'], i)} for row in ([art_row(art) for art in world]) for i, inst in\n",
    "\t\t enumerate(by_ID[row['aid']]['instances'])])\n",
    "\tdf['collectedAt'] = pd.to_datetime(df['collectedAt'])\n",
    "\tdf = df.sort_values('collectedAt')\n",
    "\tdf['date'] = df['collectedAt'].dt.date\n",
    "\tlen(df)\n",
    "\tdaybags = {}\n",
    "\tdate_aids = dict(df.groupby('date')['aid'].apply(set))\n",
    "\tfor date, aIDs in (sorted(date_aids.items())):\n",
    "\t\ttotal = Counter()\n",
    "\t\tfor aID in aIDs:\n",
    "\t\t\ttotal.update(all_bags[aID])\n",
    "\t\tdaybags[date] = total\n",
    "\tlen(daybags)\n",
    "\tdayidf = Counter()\n",
    "\tfor date, bag in (daybags.items()):\n",
    "\t\tdayidf.update(bag.keys())\n",
    "\tdayidf = {w: np.log(len(daybags) / f) for w, f in dayidf.items()}\n",
    "\tdaytotals = {d: sum(bag.values()) for d, bag in daybags.items()}\n",
    "\tdaytfidf = {day: Counter({w: f / daytotals[day] * dayidf[w] for w, f in bag.items()}) for day, bag in\n",
    "\t\t\t\t(daybags.items())}\n",
    "\tlen(daytfidf)\n",
    "\t# print(tabulate([(w, f, counts[w]) for w, f in importances.most_common(10)]))\n",
    "\tdayidx = []\n",
    "\tdates = []\n",
    "\torigin = min(daytfidf)\n",
    "\tfor day in sorted(daytfidf):\n",
    "\t\tdates.append(day)\n",
    "\t\tdayidx.append((day - origin).days)\n",
    "\tdayidx = np.array(dayidx)\n",
    "\tdates = np.array(dates)\n",
    "\tdate2day = {d: day for d, day in zip(dates, dayidx)}\n",
    "\tdayidx[-1]\n",
    "\t# deltadays = 57\n",
    "\t# sel = (dayidx >= deltadays) & (dayidx <= dayidx[-1] - deltadays)\n",
    "\tm, d = 10, 3\n",
    "\tsel = np.array([datetime(2020, m, d).date() <= date < datetime(2021, m, d).date() for date in dates]).astype(bool)\n",
    "\tseldates = dates[sel]\n",
    "\tselidx = dayidx[sel]\n",
    "\tsum(sel), seldates[0], seldates[-1]\n",
    "\t# print(tabulate([(w, f, counts[w]) for w, f in importances.most_common(20)]))\n",
    "\ttopwordsperday = {date2day[day]: [w for w, f in daytfidf[day].most_common(numtop)] for day in (seldates)}\n",
    "\talltopwords = {w for ws in topwordsperday.values() for w in ws}\n",
    "\tlen(topwordsperday), len(alltopwords)\n",
    "\t\n",
    "\tdef compute_peak_shape(tokens, pbar=True):\n",
    "\t\tword_dens = Counter()\n",
    "\t\tword_nums = Counter()\n",
    "\t\t\n",
    "\t\tfor token in (tokens) if pbar else tokens:\n",
    "\t\t\timps = np.array([daytfidf[d][token] for d in dates])\n",
    "\t\t\tcnts = np.array([daybags[d][token] for d in dates])\n",
    "\t\t\t\n",
    "\t\t\tpeak_deltas = dayidx - dayidx[np.argmax(cnts)]\n",
    "\t\t\t\n",
    "\t\t\tfor delta, imp, cnt in zip(peak_deltas, imps, cnts):\n",
    "\t\t\t\tif -back_lim <= delta <= forw_lim:\n",
    "\t\t\t\t\tword_dens[delta] += 1\n",
    "\t\t\t\t\tword_nums[delta] += cnt\n",
    "\t\t\n",
    "\t\tword_deltas = {delta: word_nums[delta] / word_dens[delta] for delta in word_dens}\n",
    "\t\treturn np.array(sorted(word_deltas.items())).T\n",
    "\t\n",
    "\treturn compute_peak_shape(alltopwords)"
   ],
   "metadata": {
    "collapsed": false,
    "ExecuteTime": {
     "end_time": "2023-11-15T14:07:17.435293050Z",
     "start_time": "2023-11-15T14:07:17.403720936Z"
    }
   },
   "id": "7619c20a04425ec2"
  },
  {
   "cell_type": "code",
   "execution_count": 256,
   "outputs": [
    {
     "data": {
      "text/plain": "270887"
     },
     "execution_count": 256,
     "metadata": {},
     "output_type": "execute_result"
    }
   ],
   "source": [
    "\n",
    "world = articles\n",
    "\n",
    "# select articles of one language\n",
    "world = by_lang['zh']\n",
    "\n",
    "len(world)"
   ],
   "metadata": {
    "collapsed": false,
    "ExecuteTime": {
     "end_time": "2023-11-15T14:08:23.153546690Z",
     "start_time": "2023-11-15T14:08:23.107825569Z"
    }
   },
   "id": "2b13fa5bd3cb0327"
  },
  {
   "cell_type": "code",
   "execution_count": null,
   "outputs": [],
   "source": [],
   "metadata": {
    "collapsed": false
   },
   "id": "c5f7b943cb4beb76"
  },
  {
   "cell_type": "code",
   "execution_count": null,
   "outputs": [],
   "source": [],
   "metadata": {
    "collapsed": false
   },
   "id": "7524840c4f7851ff"
  },
  {
   "cell_type": "code",
   "execution_count": 266,
   "outputs": [
    {
     "data": {
      "text/plain": "('en', 'es', 'fr', 'zh', 'de', 'pt', 'ar', 'id', 'it', 'tr')"
     },
     "execution_count": 266,
     "metadata": {},
     "output_type": "execute_result"
    }
   ],
   "source": [
    "langcounts = Counter(dict((l, len(arts)) for l, arts in by_lang.items()))\n",
    "langs, _ = zip(*langcounts.most_common(10))\n",
    "# print(tabulate(langcounts.most_common(10)))"
   ],
   "metadata": {
    "collapsed": false,
    "ExecuteTime": {
     "end_time": "2023-11-15T14:11:53.526157837Z",
     "start_time": "2023-11-15T14:11:53.495703123Z"
    }
   },
   "id": "c0eee8fee34f5a16"
  },
  {
   "cell_type": "code",
   "execution_count": 267,
   "outputs": [
    {
     "data": {
      "text/plain": "  0%|          | 0/10 [00:00<?, ?it/s]",
      "application/vnd.jupyter.widget-view+json": {
       "version_major": 2,
       "version_minor": 0,
       "model_id": "e828fac1762c4e8fa5a8b9a0dacd4749"
      }
     },
     "metadata": {},
     "output_type": "display_data"
    }
   ],
   "source": [
    "freqs = {}\n",
    "\n",
    "for lang in tqdm(langs):\n",
    "\tX, Y = compute_peak_shape_from_world(by_lang[lang], numtop=10, back_lim=30, forw_lim=30)\n",
    "\tfreqs[lang] = Y"
   ],
   "metadata": {
    "collapsed": false,
    "ExecuteTime": {
     "end_time": "2023-11-15T14:14:17.657884601Z",
     "start_time": "2023-11-15T14:13:45.338466561Z"
    }
   },
   "id": "129c73386185e48"
  },
  {
   "cell_type": "code",
   "execution_count": 271,
   "outputs": [
    {
     "data": {
      "text/plain": "<Figure size 1000x500 with 1 Axes>",
      "image/png": "[encoded data removed]"
     },
     "metadata": {},
     "output_type": "display_data"
    }
   ],
   "source": [
    "# plt.tight_layout();\n",
    "\n",
    "# X, Y = compute_peak_shape_from_world(by_lang['zh'], numtop=10, back_lim=30, forw_lim=30)\n",
    "plt.figure(figsize=(10, 5))\n",
    "\n",
    "for l in langs:\n",
    "\tplt.plot(X, freqs[l]/max(freqs[l]), label=lang_names[l]);\n",
    "\n",
    "plt.legend();\n",
    "plt.tight_layout();"
   ],
   "metadata": {
    "collapsed": false,
    "ExecuteTime": {
     "end_time": "2023-11-15T14:18:27.964830128Z",
     "start_time": "2023-11-15T14:18:27.737196850Z"
    }
   },
   "id": "3a8b2b61560ab964"
  },
  {
   "cell_type": "code",
   "execution_count": 252,
   "outputs": [
    {
     "data": {
      "text/plain": "4719199"
     },
     "execution_count": 252,
     "metadata": {},
     "output_type": "execute_result"
    }
   ],
   "source": [
    "aids = list(by_ID)\n",
    "len(aids)"
   ],
   "metadata": {
    "collapsed": false,
    "ExecuteTime": {
     "end_time": "2023-11-15T14:03:13.741865196Z",
     "start_time": "2023-11-15T14:03:13.692644159Z"
    }
   },
   "id": "89608e049fc98ba1"
  },
  {
   "cell_type": "code",
   "execution_count": null,
   "outputs": [],
   "source": [],
   "metadata": {
    "collapsed": false
   },
   "id": "58a00d1cdbb230"
  },
  {
   "cell_type": "code",
   "execution_count": 1,
   "outputs": [],
   "source": [],
   "metadata": {
    "collapsed": false,
    "ExecuteTime": {
     "end_time": "2023-11-15T12:25:26.241458413Z",
     "start_time": "2023-11-15T12:25:26.240785870Z"
    }
   },
   "id": "a4dc9d02e6e613c7"
  },
  {
   "cell_type": "code",
   "execution_count": null,
   "outputs": [],
   "source": [],
   "metadata": {
    "collapsed": false
   },
   "id": "8c5a4d9b6b8bcad8"
  }
 ],
 "metadata": {
  "kernelspec": {
   "display_name": "Python 3",
   "language": "python",
   "name": "python3"
  },
  "language_info": {
   "codemirror_mode": {
    "name": "ipython",
    "version": 2
   },
   "file_extension": ".py",
   "mimetype": "text/x-python",
   "name": "python",
   "nbconvert_exporter": "python",
   "pygments_lexer": "ipython2",
   "version": "2.7.6"
  }
 },
 "nbformat": 4,
 "nbformat_minor": 5
}
