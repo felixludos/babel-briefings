{
 "cells": [
  {
   "cell_type": "code",
   "execution_count": 2,
   "id": "initial_id",
   "metadata": {
    "collapsed": true,
    "ExecuteTime": {
     "end_time": "2023-11-14T16:34:47.237619973Z",
     "start_time": "2023-11-14T16:34:46.945383573Z"
    }
   },
   "outputs": [],
   "source": [
    "from pathlib import Path\n",
    "from multiprocessing import Pool\n",
    "from tqdm.notebook import tqdm\n",
    "import numpy as np\n",
    "from omnibelt import load_json, save_json\n",
    "from nltk.corpus import stopwords\n",
    "from itertools import combinations, islice\n",
    "from collections import Counter\n",
    "import unicodedata\n",
    "import pandas as pd"
   ]
  },
  {
   "cell_type": "code",
   "execution_count": 3,
   "outputs": [
    {
     "data": {
      "text/plain": "54"
     },
     "execution_count": 3,
     "metadata": {},
     "output_type": "execute_result"
    }
   ],
   "source": [
    "lang_clusters = {'en': ['au', 'ca', 'gb', 'ie', 'in', 'my', 'ng', 'nz', 'ph', 'sa', 'sg', 'us', 'za'],\n",
    "\t\t\t\t 'es': ['ar', 'co', 'cu', 'mx', 've'], 'de': ['at', 'ch', 'de'], 'fr': ['be', 'fr', 'ma'],\n",
    "\t\t\t\t 'zh': ['cn', 'hk', 'tw'], 'ar': ['ae', 'eg'], 'pt': ['br', 'pt'], 'bg': ['bg'], 'cs': ['cz'],\n",
    "\t\t\t\t 'el': ['gr'], 'he': ['il'], 'hu': ['hu'], 'id': ['id'], 'it': ['it'], 'ja': ['jp'], 'ko': ['kr'],\n",
    "\t\t\t\t 'lt': ['lt'], 'lv': ['lv'], 'nl': ['nl'], 'no': ['no'], 'pl': ['pl'], 'ro': ['ro'], 'ru': ['ru'],\n",
    "\t\t\t\t 'sv': ['se'], 'sl': ['si'], 'sk': ['sk'], 'sr': ['rs'], 'th': ['th'], 'tr': ['tr'], 'uk': ['ua']}\n",
    "loc_names = {'gb': 'United Kingdom', 'ar': 'Argentina', 'pl': 'Poland', 'sk': 'Slovakia', 'us': 'United States',\n",
    "\t\t\t 'eg': 'Egypt', 'no': 'Norway', 'ph': 'Philippines', 'at': 'Austria', 'rs': 'Serbia', 'tw': 'Taiwan',\n",
    "\t\t\t 'be': 'Belgium', 'cu': 'Cuba', 'sa': 'Saudi Arabia', 'th': 'Thailand', 'id': 'Indonesia',\n",
    "\t\t\t 'ru': 'Russian Federation', 'ch': 'Switzerland', 'fr': 'France', 'lt': 'Lithuania', 'tr': 'Turkey',\n",
    "\t\t\t 'de': 'Germany', 'cz': 'Czechia', 'pt': 'Portugal', 'ae': 'United Arab Emirates', 'it': 'Italy',\n",
    "\t\t\t 'cn': 'China', 'lv': 'Latvia', 'nl': 'Netherlands', 'hk': 'Hong Kong', 'ca': 'Canada', 'br': 'Brazil',\n",
    "\t\t\t 'hu': 'Hungary', 'kr': 'Korea', 'si': 'Slovenia', 'au': 'Australia', 'my': 'Malaysia', 'ie': 'Ireland',\n",
    "\t\t\t 'ua': 'Ukraine', 'in': 'India', 'ma': 'Morocco', 'bg': 'Bulgaria', 'ng': 'Nigeria', 'il': 'Israel',\n",
    "\t\t\t 'se': 'Sweden', 'za': 'South Africa', 've': 'Venezuela', 'nz': 'New Zealand', 'jp': 'Japan',\n",
    "\t\t\t 'sg': 'Singapore', 'gr': 'Greece', 'mx': 'Mexico', 'co': 'Colombia', 'ro': 'Romania'}\n",
    "lang_names = {'en': 'English', 'ko': 'Korean', 'ru': 'Russian', 'es': 'Spanish', 'pt': 'Portuguese', 'cs': 'Czech',\n",
    "\t\t\t  'tr': 'Turkish', 'nl': 'Dutch', 'ar': 'Arabic', 'fr': 'French', 'bg': 'Bulgarian', 'id': 'Indonesian',\n",
    "\t\t\t  'sk': 'Slovak', 'el': 'Greek', 'he': 'Hebrew', 'sr': 'Serbian', 'hu': 'Hungarian', 'th': 'Thai',\n",
    "\t\t\t  'zh': 'Chinese', 'no': 'Norwegian', 'sl': 'Slovenian', 'sv': 'Swedish', 'de': 'German', 'lv': 'Latvian',\n",
    "\t\t\t  'pl': 'Polish', 'it': 'Italian', 'ro': 'Romanian', 'lt': 'Lithuanian', 'ja': 'Japanese',\n",
    "\t\t\t  'uk': 'Ukrainian'}\n",
    "cluster_id = {loc: lang for lang, locs in lang_clusters.items() for loc in locs}\n",
    "len(cluster_id)"
   ],
   "metadata": {
    "collapsed": false,
    "ExecuteTime": {
     "end_time": "2023-11-14T16:34:48.053922119Z",
     "start_time": "2023-11-14T16:34:48.025635044Z"
    }
   },
   "id": "b55370e4437f92ec"
  },
  {
   "cell_type": "code",
   "execution_count": 4,
   "outputs": [],
   "source": [
    "def topk_ngrams(importances, ordered_keywords, n=2, k=10):\n",
    "\tassert len(ordered_keywords) >= n, f'Not enough tokens in bag: {len(ordered_keywords)} < {n}: {ordered_keywords}'\n",
    "\treturn [frozenset(ws) for ws in islice(\n",
    "\t\tsorted(combinations(ordered_keywords, n), key=lambda ws: sum(importances[w] for w in ws), reverse=True), k)]\n",
    "# def ngram_shells(importances, keywords, num_shells=3, k=10):\n",
    "# \tmost = min(num_shells, len(keywords))\n",
    "# \tcontent = [set(topk_ngrams(importances, keywords, n=i, k=k)) for i in range(1, most + 1)]\n",
    "# \tfor _ in range(most, num_shells):\n",
    "# \t\tcontent.append(set())\n",
    "# \treturn content\n",
    "def has_hits(art_keywords, aids, segs):\n",
    "\treturn any(all(w in art_keywords[aid] for w in seg) for aid in aids for seg in segs)\n",
    "def find_hits(art_keywords, aids, segs):\n",
    "\thits = {}\n",
    "\tfor aid in aids:\n",
    "\t\tfor seg in segs:\n",
    "\t\t\tif all(w in art_keywords[aid] for w in seg):\n",
    "\t\t\t\thits.setdefault(seg, []).append(aid)\n",
    "\treturn hits\n",
    "def segs2keywords(importances, segs):\n",
    "\treturn sorted(set(w for seg in segs for w in seg), key=lambda w: importances[w], reverse=True)\n",
    "def generate_candidates(art_keywords, importances, tier, kws, members=None, num_kw=10, num_member=10):\n",
    "\tcands = set()\n",
    "\tif len(kws) >= tier:\n",
    "\t\tcands.update(topk_ngrams(importances, kws, n=tier, k=num_kw))\n",
    "\tif members and len(members) and num_member:\n",
    "\t\tmember_cands = Counter()\n",
    "\t\tfor aid in members:\n",
    "\t\t\tmember_cands.update(topk_ngrams(importances, art_keywords[aid], n=tier, k=num_kw))\n",
    "\t\tfor seg, _ in member_cands.most_common(num_member):\n",
    "\t\t\tcands.add(seg)\n",
    "\treturn cands\n",
    "def mainline_cluster_tiers(art_keywords, importances, center, options, starting_tier=7, min_tier=2, num_kw=10, num_member=10):\n",
    "\tkws = art_keywords[center]\n",
    "\tmembers = set()\n",
    "\n",
    "\tknown_tokens = set()\n",
    "\ttokens = {}\n",
    "\ttiers = {}\n",
    "\ttrace = Counter()\n",
    "\tremaining = list(options)\n",
    "\tif center in remaining:\n",
    "\t\tremaining.remove(center)\n",
    "\tassert min_tier >= 1, f'Minimum tier must be at least 1: {min_tier}'\n",
    "\tfor tier in range(starting_tier, min_tier - 1, -1):\n",
    "\t\tif not len(remaining):\n",
    "\t\t\tbreak\n",
    "\n",
    "\t\tcands = generate_candidates(art_keywords, importances, tier, kws, members=members, num_kw=num_kw, num_member=num_member)\n",
    "\t\t# print(tier, len(cands))\n",
    "\t\ttrace[tier] = len(cands)\n",
    "\t\tif not has_hits(art_keywords, remaining, cands):\n",
    "\t\t\tcontinue\n",
    "\n",
    "\t\thits = find_hits(art_keywords, remaining, cands)\n",
    "\n",
    "\t\tgold = {}\n",
    "\t\tfor seg, aids in hits.items():\n",
    "\t\t\tfor aid in aids:\n",
    "\t\t\t\tgold.setdefault(aid, set()).update(seg)\n",
    "\t\ttokens[tier] = Counter(w for seq in gold.values() for w in seq if w not in known_tokens)\n",
    "\t\tkws = segs2keywords(importances, hits.keys())\n",
    "\t\tknown_tokens.update(kws)\n",
    "\t\ttiers[tier] = set(aid for seg, aids in hits.items() for aid in aids)\n",
    "\t\tmembers.update(tiers[tier])\n",
    "\t\tremaining = [aid for aid in remaining if aid not in members]\n",
    "\n",
    "\treturn tokens, tiers, trace\n",
    "\n",
    "stop_words = set(stopwords.words('english'))\n",
    "stop_words.update(\"'s\", '|', 'I', \"n't\", \"`s\", \"'s\", 'n`t')\n",
    "_my_stop_words = {\"'s\", 'news'}\n",
    "\n",
    "\n",
    "def is_good_word(w):\n",
    "\treturn any(not unicodedata.category(char).startswith('P') for char in\n",
    "\t\t\t   w) and w not in stop_words and w not in _my_stop_words"
   ],
   "metadata": {
    "collapsed": false,
    "ExecuteTime": {
     "end_time": "2023-11-14T16:34:49.081421102Z",
     "start_time": "2023-11-14T16:34:49.028422356Z"
    }
   },
   "id": "62d424d5195dcc3a"
  },
  {
   "cell_type": "code",
   "execution_count": 5,
   "outputs": [
    {
     "data": {
      "text/plain": "  0%|          | 0/54 [00:00<?, ?it/s]",
      "application/vnd.jupyter.widget-view+json": {
       "version_major": 2,
       "version_minor": 0,
       "model_id": "3bd2098f3da044668807be77f1064fde"
      }
     },
     "metadata": {},
     "output_type": "display_data"
    },
    {
     "data": {
      "text/plain": "4719199"
     },
     "execution_count": 5,
     "metadata": {},
     "output_type": "execute_result"
    }
   ],
   "source": [
    "root = Path('/home/fleeb/workspace/local_data/nnn')\n",
    "recs = (root / 'babel-briefings-v1').glob('**/*.json')\n",
    "recs = list(recs)\n",
    "len(recs)\n",
    "articles = []\n",
    "for rec in tqdm(recs):\n",
    "\tarticles.extend(load_json(rec))\n",
    "len(articles)"
   ],
   "metadata": {
    "collapsed": false,
    "ExecuteTime": {
     "end_time": "2023-11-14T16:35:40.140612677Z",
     "start_time": "2023-11-14T16:34:50.986454649Z"
    }
   },
   "id": "1c3b47853ca85342"
  },
  {
   "cell_type": "code",
   "execution_count": 6,
   "outputs": [
    {
     "data": {
      "text/plain": "  0%|          | 0/4719199 [00:00<?, ?it/s]",
      "application/vnd.jupyter.widget-view+json": {
       "version_major": 2,
       "version_minor": 0,
       "model_id": "79afe8e90a8d47a482964d173a3b993c"
      }
     },
     "metadata": {},
     "output_type": "display_data"
    },
    {
     "data": {
      "text/plain": "(54, 30)"
     },
     "execution_count": 6,
     "metadata": {},
     "output_type": "execute_result"
    }
   ],
   "source": [
    "by_loc = {}\n",
    "by_lang = {}\n",
    "by_source = {}\n",
    "by_ID = {}\n",
    "for article in tqdm(articles):\n",
    "\tby_ID[article['ID']] = article\n",
    "\t# article['published'] = parser.parse(article['publishedAt'])\n",
    "\tby_source.setdefault(article['source-name'], []).append(article)\n",
    "\tby_lang.setdefault(article['language'], []).append(article)\n",
    "\tfor instance in article['instances']:\n",
    "\t\t# instance['collected'] = parser.parse(instance['collectedAt'])\n",
    "\t\tby_loc.setdefault(instance['location'], []).append(article)\n",
    "len(by_loc), len(by_lang)"
   ],
   "metadata": {
    "collapsed": false,
    "ExecuteTime": {
     "end_time": "2023-11-14T16:35:44.358806158Z",
     "start_time": "2023-11-14T16:35:40.176800934Z"
    }
   },
   "id": "f85fcd317346520f"
  },
  {
   "cell_type": "code",
   "execution_count": 7,
   "outputs": [],
   "source": [
    "cluster_root = root / 'clusterings'\n",
    "cluster_root.mkdir(exist_ok=True)"
   ],
   "metadata": {
    "collapsed": false,
    "ExecuteTime": {
     "end_time": "2023-11-14T16:35:44.401912720Z",
     "start_time": "2023-11-14T16:35:44.356482164Z"
    }
   },
   "id": "f29c546c6ad904a0"
  },
  {
   "cell_type": "code",
   "execution_count": 8,
   "outputs": [
    {
     "data": {
      "text/plain": "  0%|          | 0/4719199 [00:00<?, ?it/s]",
      "application/vnd.jupyter.widget-view+json": {
       "version_major": 2,
       "version_minor": 0,
       "model_id": "2f3c0014b87d48bcb66e8af1c27ce27c"
      }
     },
     "metadata": {},
     "output_type": "display_data"
    },
    {
     "data": {
      "text/plain": "  0%|          | 0/4719199 [00:00<?, ?it/s]",
      "application/vnd.jupyter.widget-view+json": {
       "version_major": 2,
       "version_minor": 0,
       "model_id": "b998a33c238f46d9924a380ed37d380c"
      }
     },
     "metadata": {},
     "output_type": "display_data"
    },
    {
     "data": {
      "text/plain": "  0%|          | 0/4719199 [00:00<?, ?it/s]",
      "application/vnd.jupyter.widget-view+json": {
       "version_major": 2,
       "version_minor": 0,
       "model_id": "8c7af7c161e849c892ea0ea5ee4f5e0b"
      }
     },
     "metadata": {},
     "output_type": "display_data"
    },
    {
     "data": {
      "text/plain": "  0%|          | 0/4719199 [00:00<?, ?it/s]",
      "application/vnd.jupyter.widget-view+json": {
       "version_major": 2,
       "version_minor": 0,
       "model_id": "636991fd34bf4e548d73bb731247989c"
      }
     },
     "metadata": {},
     "output_type": "display_data"
    },
    {
     "data": {
      "text/plain": "4719199"
     },
     "execution_count": 8,
     "metadata": {},
     "output_type": "execute_result"
    }
   ],
   "source": [
    "lowercase_all = True\n",
    "full_bagowords_inds = {int(ID): {k.lower() if lowercase_all else k:v for k,v in bag.items()} \n",
    "\t\t\t\t\t   for ID, bag in tqdm(load_json(root/'bagowords-ordered-full.json').items())}\n",
    "\n",
    "pre_dash = Counter()\n",
    "for ID, bagi in tqdm(full_bagowords_inds.items()):\n",
    "\tif '-' in bagi:\n",
    "\t\tpre_dash.update({w: len(inds) for w, inds in bagi.items() if all(i < bagi[\"-\"][-1] for i in inds)})\n",
    "\n",
    "post_dash = Counter()\n",
    "for ID, bagi in tqdm(full_bagowords_inds.items()):\n",
    "\tif '-' in bagi:\n",
    "\t\tpost_dash.update({w: len(inds) for w, inds in bagi.items() if w not in pre_dash})\n",
    "all_bags_inds = {ID: {w: [i for i in inds if bag.get('-', [float('inf')])[-1] > i]\n",
    "\t\t\t\t\t  for w, inds in bag.items() if w not in post_dash and is_good_word(w)}\n",
    "\t\t\t\t for ID, bag in tqdm(full_bagowords_inds.items())}\n",
    "all_bags = {ID: Counter({w: len(inds) for w, inds in bag.items() if len(inds)}) for ID, bag in all_bags_inds.items()}\n",
    "len(all_bags)"
   ],
   "metadata": {
    "collapsed": false,
    "ExecuteTime": {
     "end_time": "2023-11-14T16:39:42.670800605Z",
     "start_time": "2023-11-14T16:35:44.400679040Z"
    }
   },
   "id": "2d7caae5bdf55d04"
  },
  {
   "cell_type": "code",
   "execution_count": 9,
   "outputs": [
    {
     "data": {
      "text/plain": "  0%|          | 0/4719199 [00:00<?, ?it/s]",
      "application/vnd.jupyter.widget-view+json": {
       "version_major": 2,
       "version_minor": 0,
       "model_id": "b296df11709c453ca47de0c380405f22"
      }
     },
     "metadata": {},
     "output_type": "display_data"
    }
   ],
   "source": [
    "df = pd.DataFrame(\n",
    "\t[{**inst, 'aid': art['ID']} for art in tqdm(articles) for i, inst in\n",
    "\t enumerate(by_ID[art['ID']]['instances'])])\n",
    "df['collectedAt'] = pd.to_datetime(df['collectedAt'])\n",
    "df = df.sort_values('collectedAt')\n",
    "df['date'] = df['collectedAt'].dt.date"
   ],
   "metadata": {
    "collapsed": false,
    "ExecuteTime": {
     "end_time": "2023-11-14T16:39:52.434297570Z",
     "start_time": "2023-11-14T16:39:42.669767208Z"
    }
   },
   "id": "f70c4174b1f8e681"
  },
  {
   "cell_type": "code",
   "execution_count": 10,
   "outputs": [
    {
     "data": {
      "text/plain": "  0%|          | 0/413 [00:00<?, ?it/s]",
      "application/vnd.jupyter.widget-view+json": {
       "version_major": 2,
       "version_minor": 0,
       "model_id": "46ef5e2ff0b949cb8501c52fba691493"
      }
     },
     "metadata": {},
     "output_type": "display_data"
    },
    {
     "data": {
      "text/plain": "413"
     },
     "execution_count": 10,
     "metadata": {},
     "output_type": "execute_result"
    }
   ],
   "source": [
    "daybags = {}\n",
    "date_aids = dict(df.groupby('date')['aid'].apply(set))\n",
    "for date, aIDs in tqdm(sorted(date_aids.items())):\n",
    "\ttotal = Counter()\n",
    "\tfor aID in aIDs:\n",
    "\t\ttotal.update(all_bags[aID])\n",
    "\tdaybags[date] = total\n",
    "len(daybags)"
   ],
   "metadata": {
    "collapsed": false,
    "ExecuteTime": {
     "end_time": "2023-11-14T16:40:04.384444130Z",
     "start_time": "2023-11-14T16:39:52.795279779Z"
    }
   },
   "id": "a931c748153a9ef3"
  },
  {
   "cell_type": "code",
   "execution_count": 11,
   "outputs": [
    {
     "data": {
      "text/plain": "  0%|          | 0/413 [00:00<?, ?it/s]",
      "application/vnd.jupyter.widget-view+json": {
       "version_major": 2,
       "version_minor": 0,
       "model_id": "ace63d2557c747c08550f7604ba85251"
      }
     },
     "metadata": {},
     "output_type": "display_data"
    },
    {
     "data": {
      "text/plain": "  0%|          | 0/413 [00:00<?, ?it/s]",
      "application/vnd.jupyter.widget-view+json": {
       "version_major": 2,
       "version_minor": 0,
       "model_id": "0a2f5728d1df4f26be1e97e476f389f8"
      }
     },
     "metadata": {},
     "output_type": "display_data"
    }
   ],
   "source": [
    "dayidf = Counter()\n",
    "for date, bag in tqdm(daybags.items()):\n",
    "\tdayidf.update(bag.keys())\n",
    "dayidf = {w: np.log(len(daybags) / f)  for w, f in dayidf.items()}\n",
    "daytotals = {d: sum(bag.values()) for d, bag in daybags.items()}\n",
    "daytfidf = {day: Counter({w: f / daytotals[day] * dayidf[w] for w, f in bag.items()}) for day, bag in tqdm(daybags.items())}"
   ],
   "metadata": {
    "collapsed": false,
    "ExecuteTime": {
     "end_time": "2023-11-14T16:40:13.472170778Z",
     "start_time": "2023-11-14T16:40:06.542558776Z"
    }
   },
   "id": "40bddfa7657bfe5e"
  },
  {
   "cell_type": "code",
   "execution_count": 16,
   "outputs": [],
   "source": [
    "\n",
    "# def w():\n",
    "def worker_fn(dateidx, target, today_aids, today_tfidf, today_bags):\n",
    "\t\n",
    "\tdatstr = target.strftime('%Y-%m-%d')\n",
    "\tcls_path = Path('/home/fleeb/workspace/local_data/nnn') / 'clusterings' / f'clusters_{datstr}.json'\n",
    "\t\n",
    "\tif cls_path.exists():\n",
    "\t\tprint(f'{dateidx+1}/{413} - Skipping {datstr} - already exists')\n",
    "\t\treturn\n",
    "\t\n",
    "\t# today_aids = date_aids[target]\n",
    "\t# today_bag = daybags[target]\n",
    "\t# today_df = df[df['date'] == target]\n",
    "\t# today_tfidf = token_importances\n",
    "\timportances = today_tfidf\n",
    "\n",
    "\ttreat_bags_as_sets = True\n",
    "\tprior_art_scores = Counter({aID: sum(\n",
    "\t\timportances[w] * (1 if treat_bags_as_sets else f) for w, f in today_bags[aID].items() if w in importances) for aID\n",
    "\t\t\t\t\t\t\t\tin today_aids})\n",
    "\n",
    "\tart_imps = list(prior_art_scores.most_common())\n",
    "\taidorder = np.array([c for c, _ in art_imps])\n",
    "\n",
    "\tart_keywords = {\n",
    "\t\taid: [w for w in sorted(today_bags[aid], key=lambda w: importances[w], reverse=True) if importances[w] > 1e-8] for\n",
    "\t\taid in aidorder}\n",
    "\n",
    "\tfull_clusters = {}\n",
    "\ttodo = aidorder.tolist()\n",
    "\ttotal = len(todo)\n",
    "\t# itr = tqdm(total=total)\n",
    "\t# itr.set_description(f'{dateidx + 1}/{len(daybags)} - {datstr}')\n",
    "\t\n",
    "\tprint(f'{dateidx+1}/{413} - Starting {datstr} ({total} articles)')\n",
    "\t\n",
    "\twhile len(todo):\n",
    "\t\tcenter = todo[0]\n",
    "\t\ttokens, tiers, trace = mainline_cluster_tiers(art_keywords, importances, center, todo, starting_tier=7, min_tier=3, num_kw=200,\n",
    "\t\t\t\t\t\t\t\t\t\t\t\t\t  num_member=200)\n",
    "\t\tprev = len(todo)\n",
    "\t\tfor aids in tiers.values():\n",
    "\t\t\ttodo = [aid for aid in todo if aid not in aids]\n",
    "\t\tif center in todo:\n",
    "\t\t\ttodo.remove(center)\n",
    "\t\t# itr.update(prev - len(todo))\n",
    "\t\tfull_clusters[center] = {'tokens': tokens, 'tiers': tiers, 'trace': trace}\n",
    "\n",
    "\t# itr.close()\n",
    "\n",
    "\tsave_json({center: {'tokens': info['tokens'], 'tiers': {t: list(aids) for t, aids in info['tiers'].items()},\n",
    "\t\t\t\t\t\t'trace': info['trace']} for center, info in full_clusters.items()}, cls_path)\n",
    "\t\n",
    "\tprint(f'{dateidx+1}/{413} - Finished {datstr} ({total} articles) - {len(full_clusters)} clusters')"
   ],
   "metadata": {
    "collapsed": false,
    "ExecuteTime": {
     "end_time": "2023-11-14T16:41:50.223613850Z",
     "start_time": "2023-11-14T16:41:50.197761021Z"
    }
   },
   "id": "10f299c0fd323418"
  },
  {
   "cell_type": "code",
   "execution_count": 17,
   "outputs": [
    {
     "name": "stdout",
     "output_type": "stream",
     "text": [
      "Starting 2020-08-07 (3998 articles)\n",
      "Starting 2020-08-20 (15628 articles)\n",
      "Starting 2020-09-02 (15421 articles)\n",
      "Starting 2020-09-15 (15000 articles)\n",
      "Starting 2020-09-28 (14657 articles)\n",
      "Starting 2020-10-11 (14974 articles)\n",
      "Starting 2020-10-24 (15657 articles)\n",
      "Starting 2020-11-06 (15746 articles)\n",
      "Finished 2020-08-07 (3998 articles) - 3522 clusters\n",
      "Starting 2020-08-08 (15211 articles)\n",
      "Finished 2020-09-28 (14657 articles) - 11911 clusters\n",
      "Starting 2020-09-29 (14845 articles)\n",
      "Finished 2020-09-15 (15000 articles) - 12334 clusters\n",
      "Starting 2020-09-16 (15576 articles)\n",
      "Finished 2020-10-11 (14974 articles) - 12370 clusters\n",
      "Starting 2020-10-12 (14474 articles)\n",
      "Finished 2020-09-02 (15421 articles) - 12552 clusters\n",
      "Starting 2020-09-03 (14959 articles)\n",
      "Finished 2020-08-20 (15628 articles) - 12810 clusters\n",
      "Starting 2020-08-21 (15599 articles)\n",
      "Finished 2020-10-24 (15657 articles) - 12876 clusters\n",
      "Starting 2020-10-25 (14860 articles)\n",
      "Finished 2020-08-08 (15211 articles) - 12488 clusters\n",
      "Starting 2020-08-09 (22321 articles)\n",
      "Finished 2020-11-06 (15746 articles) - 12762 clusters\n",
      "Starting 2020-11-07 (15372 articles)\n",
      "Finished 2020-09-29 (14845 articles) - 12142 clusters\n",
      "Starting 2020-09-30 (15635 articles)\n",
      "Finished 2020-10-12 (14474 articles) - 11995 clusters\n",
      "Starting 2020-10-13 (15230 articles)\n",
      "Finished 2020-09-03 (14959 articles) - 12178 clusters\n",
      "Starting 2020-09-04 (15407 articles)\n",
      "Finished 2020-09-16 (15576 articles) - 12745 clusters\n",
      "Starting 2020-09-17 (15435 articles)\n",
      "Finished 2020-10-25 (14860 articles) - 12211 clusters\n",
      "Starting 2020-10-26 (14385 articles)\n",
      "Finished 2020-08-21 (15599 articles) - 12926 clusters\n",
      "Starting 2020-08-22 (5248 articles)\n",
      "Finished 2020-11-07 (15372 articles) - 12502 clusters\n",
      "Starting 2020-11-09 (14220 articles)\n",
      "Finished 2020-08-22 (5248 articles) - 4242 clusters\n",
      "Starting 2020-08-23 (14555 articles)\n",
      "Finished 2020-10-13 (15230 articles) - 12583 clusters\n",
      "Starting 2020-10-14 (15839 articles)\n",
      "Finished 2020-09-04 (15407 articles) - 12494 clusters\n",
      "Starting 2020-09-05 (15549 articles)\n",
      "Finished 2020-09-30 (15635 articles) - 12715 clusters\n",
      "Starting 2020-10-01 (15735 articles)\n",
      "Finished 2020-10-26 (14385 articles) - 11858 clusters\n",
      "Starting 2020-10-27 (15348 articles)\n",
      "Finished 2020-08-09 (22321 articles) - 17193 clusters\n",
      "Starting 2020-08-10 (14298 articles)\n",
      "Finished 2020-11-09 (14220 articles) - 11841 clusters\n",
      "Starting 2020-11-10 (15466 articles)\n",
      "Finished 2020-09-17 (15435 articles) - 12585 clusters\n",
      "Starting 2020-09-18 (15786 articles)\n",
      "Finished 2020-08-23 (14555 articles) - 11943 clusters\n",
      "Starting 2020-08-24 (13642 articles)\n",
      "Finished 2020-08-10 (14298 articles) - 11705 clusters\n",
      "Starting 2020-08-11 (14709 articles)\n",
      "Finished 2020-09-05 (15549 articles) - 12638 clusters\n",
      "Starting 2020-09-06 (14813 articles)\n",
      "Finished 2020-08-24 (13642 articles) - 11157 clusters\n",
      "Starting 2020-08-25 (14625 articles)\n",
      "Finished 2020-10-01 (15735 articles) - 12791 clusters\n",
      "Starting 2020-10-02 (15844 articles)\n",
      "Finished 2020-10-14 (15839 articles) - 13050 clusters\n",
      "Starting 2020-10-15 (15848 articles)\n",
      "Finished 2020-10-27 (15348 articles) - 12590 clusters\n",
      "Starting 2020-10-28 (15907 articles)\n",
      "Finished 2020-09-18 (15786 articles) - 12800 clusters\n",
      "Starting 2020-09-19 (15617 articles)\n",
      "Finished 2020-11-10 (15466 articles) - 12803 clusters\n",
      "Starting 2020-11-12 (15808 articles)\n",
      "Finished 2020-08-11 (14709 articles) - 12015 clusters\n",
      "Starting 2020-08-12 (15310 articles)\n",
      "Finished 2020-09-06 (14813 articles) - 12147 clusters\n",
      "Starting 2020-09-07 (14552 articles)\n",
      "Finished 2020-08-25 (14625 articles) - 12188 clusters\n",
      "Starting 2020-08-26 (15231 articles)\n",
      "Finished 2020-10-02 (15844 articles) - 12786 clusters\n",
      "Starting 2020-10-03 (15648 articles)\n",
      "Finished 2020-10-15 (15848 articles) - 13053 clusters\n",
      "Starting 2020-10-16 (15870 articles)\n",
      "Finished 2020-10-28 (15907 articles) - 12946 clusters\n",
      "Starting 2020-10-29 (15930 articles)\n",
      "Finished 2020-09-19 (15617 articles) - 12714 clusters\n",
      "Starting 2020-09-20 (14852 articles)\n",
      "Finished 2020-11-12 (15808 articles) - 12989 clusters\n",
      "Starting 2020-11-13 (10575 articles)\n",
      "Finished 2020-11-13 (10575 articles) - 8773 clusters\n",
      "Starting 2020-11-14 (15701 articles)\n",
      "Finished 2020-08-12 (15310 articles) - 12488 clusters\n",
      "Starting 2020-08-13 (15669 articles)\n",
      "Finished 2020-09-07 (14552 articles) - 12006 clusters\n",
      "Starting 2020-09-08 (14908 articles)\n",
      "Finished 2020-08-26 (15231 articles) - 12468 clusters\n",
      "Starting 2020-08-27 (15510 articles)\n",
      "Finished 2020-10-03 (15648 articles) - 12755 clusters\n",
      "Starting 2020-10-04 (14923 articles)\n",
      "Finished 2020-09-20 (14852 articles) - 12096 clusters\n",
      "Starting 2020-09-21 (13308 articles)\n",
      "Finished 2020-10-16 (15870 articles) - 12997 clusters\n",
      "Starting 2020-10-17 (15189 articles)\n",
      "Finished 2020-10-29 (15930 articles) - 12919 clusters\n",
      "Starting 2020-10-30 (15980 articles)\n",
      "Finished 2020-11-14 (15701 articles) - 12994 clusters\n",
      "Starting 2020-11-17 (15303 articles)\n",
      "Finished 2020-09-08 (14908 articles) - 12324 clusters\n",
      "Starting 2020-09-09 (15587 articles)\n",
      "Finished 2020-08-13 (15669 articles) - 12748 clusters\n",
      "Starting 2020-08-14 (15303 articles)\n",
      "Finished 2020-09-21 (13308 articles) - 10994 clusters\n",
      "Starting 2020-09-22 (15040 articles)\n",
      "Finished 2020-08-27 (15510 articles) - 12466 clusters\n",
      "Starting 2020-08-28 (15458 articles)\n",
      "Finished 2020-10-04 (14923 articles) - 12229 clusters\n",
      "Starting 2020-10-05 (14470 articles)\n",
      "Finished 2020-10-17 (15189 articles) - 12507 clusters\n",
      "Starting 2020-10-18 (14918 articles)\n",
      "Finished 2020-10-30 (15980 articles) - 13092 clusters\n",
      "Starting 2020-10-31 (15712 articles)\n",
      "Finished 2020-08-14 (15303 articles) - 12562 clusters\n",
      "Starting 2020-08-15 (14967 articles)\n",
      "Finished 2020-11-17 (15303 articles) - 12473 clusters\n",
      "Starting 2020-11-18 (15714 articles)\n",
      "Finished 2020-09-09 (15587 articles) - 12863 clusters\n",
      "Starting 2020-09-10 (15775 articles)\n",
      "Finished 2020-09-22 (15040 articles) - 12333 clusters\n",
      "Starting 2020-09-23 (15673 articles)\n",
      "Finished 2020-10-05 (14470 articles) - 11818 clusters\n",
      "Starting 2020-10-06 (15132 articles)\n",
      "Finished 2020-08-28 (15458 articles) - 12421 clusters\n",
      "Starting 2020-08-29 (15253 articles)\n",
      "Finished 2020-10-18 (14918 articles) - 12282 clusters\n",
      "Starting 2020-10-19 (14548 articles)\n",
      "Finished 2020-10-31 (15712 articles) - 12847 clusters\n",
      "Starting 2020-11-01 (15043 articles)\n"
     ]
    },
    {
     "name": "stderr",
     "output_type": "stream",
     "text": [
      "Process ForkPoolWorker-17:\n",
      "Process ForkPoolWorker-20:\n",
      "Process ForkPoolWorker-15:\n",
      "Process ForkPoolWorker-13:\n",
      "Process ForkPoolWorker-19:\n",
      "Traceback (most recent call last):\n",
      "Traceback (most recent call last):\n",
      "  File \"/home/fleeb/miniconda3/lib/python3.11/multiprocessing/process.py\", line 314, in _bootstrap\n",
      "    self.run()\n",
      "  File \"/home/fleeb/miniconda3/lib/python3.11/multiprocessing/process.py\", line 314, in _bootstrap\n",
      "    self.run()\n",
      "  File \"/home/fleeb/miniconda3/lib/python3.11/multiprocessing/process.py\", line 108, in run\n",
      "    self._target(*self._args, **self._kwargs)\n",
      "  File \"/home/fleeb/miniconda3/lib/python3.11/multiprocessing/pool.py\", line 125, in worker\n",
      "    result = (True, func(*args, **kwds))\n",
      "                    ^^^^^^^^^^^^^^^^^^^\n",
      "  File \"/home/fleeb/miniconda3/lib/python3.11/multiprocessing/process.py\", line 108, in run\n",
      "    self._target(*self._args, **self._kwargs)\n",
      "  File \"/home/fleeb/miniconda3/lib/python3.11/multiprocessing/pool.py\", line 51, in starmapstar\n",
      "    return list(itertools.starmap(args[0], args[1]))\n",
      "           ^^^^^^^^^^^^^^^^^^^^^^^^^^^^^^^^^^^^^^^^^\n",
      "Traceback (most recent call last):\n",
      "  File \"/home/fleeb/miniconda3/lib/python3.11/multiprocessing/pool.py\", line 125, in worker\n",
      "    result = (True, func(*args, **kwds))\n",
      "                    ^^^^^^^^^^^^^^^^^^^\n",
      "  File \"/home/fleeb/miniconda3/lib/python3.11/multiprocessing/process.py\", line 314, in _bootstrap\n",
      "    self.run()\n",
      "  File \"/tmp/ipykernel_3257952/1907112334.py\", line 34, in worker_fn\n",
      "    tokens, tiers, trace = mainline_cluster_tiers(art_keywords, importances, center, todo, starting_tier=7, min_tier=3, num_kw=200,\n",
      "                           ^^^^^^^^^^^^^^^^^^^^^^^^^^^^^^^^^^^^^^^^^^^^^^^^^^^^^^^^^^^^^^^^^^^^^^^^^^^^^^^^^^^^^^^^^^^^^^^^^^^^^^^^\n",
      "  File \"/home/fleeb/miniconda3/lib/python3.11/multiprocessing/process.py\", line 108, in run\n",
      "    self._target(*self._args, **self._kwargs)\n",
      "  File \"/home/fleeb/miniconda3/lib/python3.11/multiprocessing/pool.py\", line 125, in worker\n",
      "    result = (True, func(*args, **kwds))\n",
      "                    ^^^^^^^^^^^^^^^^^^^\n",
      "  File \"/home/fleeb/miniconda3/lib/python3.11/multiprocessing/pool.py\", line 51, in starmapstar\n",
      "    return list(itertools.starmap(args[0], args[1]))\n",
      "           ^^^^^^^^^^^^^^^^^^^^^^^^^^^^^^^^^^^^^^^^^\n",
      "Process ForkPoolWorker-14:\n",
      "  File \"/home/fleeb/miniconda3/lib/python3.11/multiprocessing/process.py\", line 314, in _bootstrap\n",
      "    self.run()\n",
      "  File \"/tmp/ipykernel_3257952/4039373025.py\", line 52, in mainline_cluster_tiers\n",
      "    if not has_hits(art_keywords, remaining, cands):\n",
      "           ^^^^^^^^^^^^^^^^^^^^^^^^^^^^^^^^^^^^^^^^\n",
      "  File \"/tmp/ipykernel_3257952/1907112334.py\", line 34, in worker_fn\n",
      "    tokens, tiers, trace = mainline_cluster_tiers(art_keywords, importances, center, todo, starting_tier=7, min_tier=3, num_kw=200,\n",
      "                           ^^^^^^^^^^^^^^^^^^^^^^^^^^^^^^^^^^^^^^^^^^^^^^^^^^^^^^^^^^^^^^^^^^^^^^^^^^^^^^^^^^^^^^^^^^^^^^^^^^^^^^^^\n",
      "Traceback (most recent call last):\n",
      "  File \"/home/fleeb/miniconda3/lib/python3.11/multiprocessing/pool.py\", line 51, in starmapstar\n",
      "    return list(itertools.starmap(args[0], args[1]))\n",
      "           ^^^^^^^^^^^^^^^^^^^^^^^^^^^^^^^^^^^^^^^^^\n",
      "Process ForkPoolWorker-18:\n",
      "Traceback (most recent call last):\n",
      "Traceback (most recent call last):\n",
      "  File \"/tmp/ipykernel_3257952/4039373025.py\", line 12, in has_hits\n",
      "    return any(all(w in art_keywords[aid] for w in seg) for aid in aids for seg in segs)\n",
      "           ^^^^^^^^^^^^^^^^^^^^^^^^^^^^^^^^^^^^^^^^^^^^^^^^^^^^^^^^^^^^^^^^^^^^^^^^^^^^^\n",
      "Process ForkPoolWorker-16:\n",
      "  File \"/home/fleeb/miniconda3/lib/python3.11/multiprocessing/process.py\", line 314, in _bootstrap\n",
      "    self.run()\n",
      "  File \"/tmp/ipykernel_3257952/4039373025.py\", line 12, in <genexpr>\n",
      "    return any(all(w in art_keywords[aid] for w in seg) for aid in aids for seg in segs)\n",
      "               ^^^^^^^^^^^^^^^^^^^^^^^^^^^^^^^^^^^^^^^^\n",
      "  File \"/tmp/ipykernel_3257952/4039373025.py\", line 52, in mainline_cluster_tiers\n",
      "    if not has_hits(art_keywords, remaining, cands):\n",
      "           ^^^^^^^^^^^^^^^^^^^^^^^^^^^^^^^^^^^^^^^^\n",
      "  File \"/home/fleeb/miniconda3/lib/python3.11/multiprocessing/process.py\", line 314, in _bootstrap\n",
      "    self.run()\n",
      "  File \"/tmp/ipykernel_3257952/1907112334.py\", line 34, in worker_fn\n",
      "    tokens, tiers, trace = mainline_cluster_tiers(art_keywords, importances, center, todo, starting_tier=7, min_tier=3, num_kw=200,\n",
      "                           ^^^^^^^^^^^^^^^^^^^^^^^^^^^^^^^^^^^^^^^^^^^^^^^^^^^^^^^^^^^^^^^^^^^^^^^^^^^^^^^^^^^^^^^^^^^^^^^^^^^^^^^^\n",
      "  File \"/home/fleeb/miniconda3/lib/python3.11/multiprocessing/process.py\", line 108, in run\n",
      "    self._target(*self._args, **self._kwargs)\n",
      "Traceback (most recent call last):\n",
      "  File \"/tmp/ipykernel_3257952/4039373025.py\", line 52, in mainline_cluster_tiers\n",
      "    if not has_hits(art_keywords, remaining, cands):\n",
      "           ^^^^^^^^^^^^^^^^^^^^^^^^^^^^^^^^^^^^^^^^\n",
      "Traceback (most recent call last):\n",
      "  File \"/home/fleeb/miniconda3/lib/python3.11/multiprocessing/process.py\", line 108, in run\n",
      "    self._target(*self._args, **self._kwargs)\n",
      "  File \"/tmp/ipykernel_3257952/4039373025.py\", line 12, in has_hits\n",
      "    return any(all(w in art_keywords[aid] for w in seg) for aid in aids for seg in segs)\n",
      "           ^^^^^^^^^^^^^^^^^^^^^^^^^^^^^^^^^^^^^^^^^^^^^^^^^^^^^^^^^^^^^^^^^^^^^^^^^^^^^\n",
      "  File \"/home/fleeb/miniconda3/lib/python3.11/multiprocessing/pool.py\", line 125, in worker\n",
      "    result = (True, func(*args, **kwds))\n",
      "                    ^^^^^^^^^^^^^^^^^^^\n",
      "  File \"/home/fleeb/miniconda3/lib/python3.11/multiprocessing/process.py\", line 108, in run\n",
      "    self._target(*self._args, **self._kwargs)\n",
      "  File \"/tmp/ipykernel_3257952/4039373025.py\", line 12, in has_hits\n",
      "    return any(all(w in art_keywords[aid] for w in seg) for aid in aids for seg in segs)\n",
      "           ^^^^^^^^^^^^^^^^^^^^^^^^^^^^^^^^^^^^^^^^^^^^^^^^^^^^^^^^^^^^^^^^^^^^^^^^^^^^^\n",
      "  File \"/home/fleeb/miniconda3/lib/python3.11/multiprocessing/pool.py\", line 125, in worker\n",
      "    result = (True, func(*args, **kwds))\n",
      "                    ^^^^^^^^^^^^^^^^^^^\n",
      "  File \"/tmp/ipykernel_3257952/4039373025.py\", line 12, in <genexpr>\n",
      "    return any(all(w in art_keywords[aid] for w in seg) for aid in aids for seg in segs)\n",
      "               ^^^^^^^^^^^^^^^^^^^^^^^^^^^^^^^^^^^^^^^^\n",
      "KeyboardInterrupt\n",
      "  File \"/home/fleeb/miniconda3/lib/python3.11/multiprocessing/process.py\", line 314, in _bootstrap\n",
      "    self.run()\n",
      "  File \"/home/fleeb/miniconda3/lib/python3.11/multiprocessing/process.py\", line 314, in _bootstrap\n",
      "    self.run()\n",
      "KeyboardInterrupt\n",
      "  File \"/home/fleeb/miniconda3/lib/python3.11/multiprocessing/pool.py\", line 51, in starmapstar\n",
      "    return list(itertools.starmap(args[0], args[1]))\n",
      "           ^^^^^^^^^^^^^^^^^^^^^^^^^^^^^^^^^^^^^^^^^\n",
      "  File \"/home/fleeb/miniconda3/lib/python3.11/multiprocessing/process.py\", line 108, in run\n",
      "    self._target(*self._args, **self._kwargs)\n",
      "  File \"/home/fleeb/miniconda3/lib/python3.11/multiprocessing/pool.py\", line 125, in worker\n",
      "    result = (True, func(*args, **kwds))\n",
      "                    ^^^^^^^^^^^^^^^^^^^\n",
      "  File \"/home/fleeb/miniconda3/lib/python3.11/multiprocessing/pool.py\", line 51, in starmapstar\n",
      "    return list(itertools.starmap(args[0], args[1]))\n",
      "           ^^^^^^^^^^^^^^^^^^^^^^^^^^^^^^^^^^^^^^^^^\n",
      "  File \"/home/fleeb/miniconda3/lib/python3.11/multiprocessing/process.py\", line 108, in run\n",
      "    self._target(*self._args, **self._kwargs)\n",
      "  File \"/home/fleeb/miniconda3/lib/python3.11/multiprocessing/pool.py\", line 125, in worker\n",
      "    result = (True, func(*args, **kwds))\n",
      "                    ^^^^^^^^^^^^^^^^^^^\n",
      "  File \"/home/fleeb/miniconda3/lib/python3.11/multiprocessing/pool.py\", line 125, in worker\n",
      "    result = (True, func(*args, **kwds))\n",
      "                    ^^^^^^^^^^^^^^^^^^^\n",
      "  File \"/tmp/ipykernel_3257952/4039373025.py\", line 12, in <genexpr>\n",
      "    return any(all(w in art_keywords[aid] for w in seg) for aid in aids for seg in segs)\n",
      "               ^^^^^^^^^^^^^^^^^^^^^^^^^^^^^^^^^^^^^^^^\n",
      "  File \"/tmp/ipykernel_3257952/1907112334.py\", line 34, in worker_fn\n",
      "    tokens, tiers, trace = mainline_cluster_tiers(art_keywords, importances, center, todo, starting_tier=7, min_tier=3, num_kw=200,\n",
      "                           ^^^^^^^^^^^^^^^^^^^^^^^^^^^^^^^^^^^^^^^^^^^^^^^^^^^^^^^^^^^^^^^^^^^^^^^^^^^^^^^^^^^^^^^^^^^^^^^^^^^^^^^^\n",
      "  File \"/home/fleeb/miniconda3/lib/python3.11/multiprocessing/pool.py\", line 51, in starmapstar\n",
      "    return list(itertools.starmap(args[0], args[1]))\n",
      "           ^^^^^^^^^^^^^^^^^^^^^^^^^^^^^^^^^^^^^^^^^\n",
      "  File \"/tmp/ipykernel_3257952/4039373025.py\", line 12, in <genexpr>\n",
      "    return any(all(w in art_keywords[aid] for w in seg) for aid in aids for seg in segs)\n",
      "    \n",
      "  File \"/home/fleeb/miniconda3/lib/python3.11/multiprocessing/pool.py\", line 51, in starmapstar\n",
      "    return list(itertools.starmap(args[0], args[1]))\n",
      "           ^^^^^^^^^^^^^^^^^^^^^^^^^^^^^^^^^^^^^^^^^\n",
      "  File \"/tmp/ipykernel_3257952/1907112334.py\", line 34, in worker_fn\n",
      "    tokens, tiers, trace = mainline_cluster_tiers(art_keywords, importances, center, todo, starting_tier=7, min_tier=3, num_kw=200,\n",
      "                           ^^^^^^^^^^^^^^^^^^^^^^^^^^^^^^^^^^^^^^^^^^^^^^^^^^^^^^^^^^^^^^^^^^^^^^^^^^^^^^^^^^^^^^^^^^^^^^^^^^^^^^^^\n",
      "  File \"/home/fleeb/miniconda3/lib/python3.11/multiprocessing/pool.py\", line 51, in starmapstar\n",
      "    return list(itertools.starmap(args[0], args[1]))\n",
      "           ^^^^^^^^^^^^^^^^^^^^^^^^^^^^^^^^^^^^^^^^^\n",
      "  File \"/tmp/ipykernel_3257952/4039373025.py\", line 52, in mainline_cluster_tiers\n",
      "    if not has_hits(art_keywords, remaining, cands):\n",
      "           ^^^^^^^^^^^^^^^^^^^^^^^^^^^^^^^^^^^^^^^^\n",
      "KeyboardInterrupt\n",
      "  File \"/tmp/ipykernel_3257952/4039373025.py\", line 12, in has_hits\n",
      "    return any(all(w in art_keywords[aid] for w in seg) for aid in aids for seg in segs)\n",
      "           ^^^^^^^^^^^^^^^^^^^^^^^^^^^^^^^^^^^^^^^^^^^^^^^^^^^^^^^^^^^^^^^^^^^^^^^^^^^^^\n",
      "  File \"/tmp/ipykernel_3257952/1907112334.py\", line 34, in worker_fn\n",
      "    tokens, tiers, trace = mainline_cluster_tiers(art_keywords, importances, center, todo, starting_tier=7, min_tier=3, num_kw=200,\n",
      "                           ^^^^^^^^^^^^^^^^^^^^^^^^^^^^^^^^^^^^^^^^^^^^^^^^^^^^^^^^^^^^^^^^^^^^^^^^^^^^^^^^^^^^^^^^^^^^^^^^^^^^^^^^\n",
      "  File \"/tmp/ipykernel_3257952/4039373025.py\", line 52, in mainline_cluster_tiers\n",
      "    if not has_hits(art_keywords, remaining, cands):\n",
      "           ^^^^^^^^^^^^^^^^^^^^^^^^^^^^^^^^^^^^^^^^\n",
      "  File \"/tmp/ipykernel_3257952/1907112334.py\", line 34, in worker_fn\n",
      "    tokens, tiers, trace = mainline_cluster_tiers(art_keywords, importances, center, todo, starting_tier=7, min_tier=3, num_kw=200,\n",
      "                           ^^^^^^^^^^^^^^^^^^^^^^^^^^^^^^^^^^^^^^^^^^^^^^^^^^^^^^^^^^^^^^^^^^^^^^^^^^^^^^^^^^^^^^^^^^^^^^^^^^^^^^^^\n",
      "  File \"/tmp/ipykernel_3257952/1907112334.py\", line 34, in worker_fn\n",
      "    tokens, tiers, trace = mainline_cluster_tiers(art_keywords, importances, center, todo, starting_tier=7, min_tier=3, num_kw=200,\n",
      "                           ^^^^^^^^^^^^^^^^^^^^^^^^^^^^^^^^^^^^^^^^^^^^^^^^^^^^^^^^^^^^^^^^^^^^^^^^^^^^^^^^^^^^^^^^^^^^^^^^^^^^^^^^\n",
      "  File \"/tmp/ipykernel_3257952/4039373025.py\", line 52, in mainline_cluster_tiers\n",
      "    if not has_hits(art_keywords, remaining, cands):\n",
      "           ^^^^^^^^^^^^^^^^^^^^^^^^^^^^^^^^^^^^^^^^\n",
      "  File \"/tmp/ipykernel_3257952/4039373025.py\", line 12, in has_hits\n",
      "    return any(all(w in art_keywords[aid] for w in seg) for aid in aids for seg in segs)\n",
      "           ^^^^^^^^^^^^^^^^^^^^^^^^^^^^^^^^^^^^^^^^^^^^^^^^^^^^^^^^^^^^^^^^^^^^^^^^^^^^^\n",
      "  File \"/tmp/ipykernel_3257952/4039373025.py\", line 12, in <genexpr>\n",
      "    return any(all(w in art_keywords[aid] for w in seg) for aid in aids for seg in segs)\n",
      "               ^^^^^^^^^^^^^^^^^^^^^^^^^^^^^^^^^^^^^^^^\n",
      "  File \"/tmp/ipykernel_3257952/4039373025.py\", line 52, in mainline_cluster_tiers\n",
      "    if not has_hits(art_keywords, remaining, cands):\n",
      "           ^^^^^^^^^^^^^^^^^^^^^^^^^^^^^^^^^^^^^^^^\n",
      "  File \"/tmp/ipykernel_3257952/4039373025.py\", line 12, in has_hits\n",
      "    return any(all(w in art_keywords[aid] for w in seg) for aid in aids for seg in segs)\n",
      "           ^^^^^^^^^^^^^^^^^^^^^^^^^^^^^^^^^^^^^^^^^^^^^^^^^^^^^^^^^^^^^^^^^^^^^^^^^^^^^\n",
      "  File \"/tmp/ipykernel_3257952/4039373025.py\", line 52, in mainline_cluster_tiers\n",
      "    if not has_hits(art_keywords, remaining, cands):\n",
      "           ^^^^^^^^^^^^^^^^^^^^^^^^^^^^^^^^^^^^^^^^\n",
      "  File \"/tmp/ipykernel_3257952/4039373025.py\", line 12, in has_hits\n",
      "    return any(all(w in art_keywords[aid] for w in seg) for aid in aids for seg in segs)\n",
      "           ^^^^^^^^^^^^^^^^^^^^^^^^^^^^^^^^^^^^^^^^^^^^^^^^^^^^^^^^^^^^^^^^^^^^^^^^^^^^^\n",
      "  File \"/tmp/ipykernel_3257952/4039373025.py\", line 12, in <genexpr>\n",
      "    return any(all(w in art_keywords[aid] for w in seg) for aid in aids for seg in segs)\n",
      "    \n",
      "  File \"/tmp/ipykernel_3257952/4039373025.py\", line 12, in <genexpr>\n",
      "    return any(all(w in art_keywords[aid] for w in seg) for aid in aids for seg in segs)\n",
      "               ^^^^^^^^^^^^^^^^^^^^^^^^^^^^^^^^^^^^^^^^\n",
      "  File \"/tmp/ipykernel_3257952/4039373025.py\", line 12, in has_hits\n",
      "    return any(all(w in art_keywords[aid] for w in seg) for aid in aids for seg in segs)\n",
      "           ^^^^^^^^^^^^^^^^^^^^^^^^^^^^^^^^^^^^^^^^^^^^^^^^^^^^^^^^^^^^^^^^^^^^^^^^^^^^^\n",
      "KeyboardInterrupt\n",
      "KeyboardInterrupt\n",
      "  File \"/tmp/ipykernel_3257952/4039373025.py\", line 12, in <genexpr>\n",
      "    return any(all(w in art_keywords[aid] for w in seg) for aid in aids for seg in segs)\n",
      "               ^^^^^^^^^^^^^^^^^^^^^^^^^^^^^^^^^^^^^^^^\n",
      "  File \"/tmp/ipykernel_3257952/4039373025.py\", line 12, in <genexpr>\n",
      "    return any(all(w in art_keywords[aid] for w in seg) for aid in aids for seg in segs)\n",
      "               ^^^^^^^^^^^^^^^^^^^^^^^^^^^^^^^^^^^^^^^^\n",
      "  File \"/tmp/ipykernel_3257952/4039373025.py\", line 12, in <genexpr>\n",
      "    return any(all(w in art_keywords[aid] for w in seg) for aid in aids for seg in segs)\n",
      "               ^^^^^^^^^^^^^^^^^^^^^^^^^^^^^^^^^^^^^^^^\n",
      "KeyboardInterrupt\n",
      "KeyboardInterrupt\n",
      "KeyboardInterrupt\n"
     ]
    },
    {
     "ename": "KeyboardInterrupt",
     "evalue": "",
     "output_type": "error",
     "traceback": [
      "\u001B[0;31m---------------------------------------------------------------------------\u001B[0m",
      "\u001B[0;31mKeyboardInterrupt\u001B[0m                         Traceback (most recent call last)",
      "Cell \u001B[0;32mIn[17], line 2\u001B[0m\n\u001B[1;32m      1\u001B[0m \u001B[38;5;28;01mwith\u001B[39;00m Pool(\u001B[38;5;241m8\u001B[39m) \u001B[38;5;28;01mas\u001B[39;00m pool:\n\u001B[0;32m----> 2\u001B[0m \t\u001B[43mpool\u001B[49m\u001B[38;5;241;43m.\u001B[39;49m\u001B[43mstarmap\u001B[49m\u001B[43m(\u001B[49m\u001B[43mworker_fn\u001B[49m\u001B[43m,\u001B[49m\u001B[43m \u001B[49m\u001B[43m[\u001B[49m\u001B[43m(\u001B[49m\u001B[43mtarget\u001B[49m\u001B[43m,\u001B[49m\u001B[43m \u001B[49m\u001B[43mdate_aids\u001B[49m\u001B[43m[\u001B[49m\u001B[43mtarget\u001B[49m\u001B[43m]\u001B[49m\u001B[43m,\u001B[49m\u001B[43m \u001B[49m\u001B[43mdaytfidf\u001B[49m\u001B[43m[\u001B[49m\u001B[43mtarget\u001B[49m\u001B[43m]\u001B[49m\u001B[43m,\u001B[49m\u001B[43m \u001B[49m\u001B[43m{\u001B[49m\u001B[43maid\u001B[49m\u001B[43m:\u001B[49m\u001B[43m \u001B[49m\u001B[43mall_bags\u001B[49m\u001B[43m[\u001B[49m\u001B[43maid\u001B[49m\u001B[43m]\u001B[49m\u001B[43m \u001B[49m\u001B[38;5;28;43;01mfor\u001B[39;49;00m\u001B[43m \u001B[49m\u001B[43maid\u001B[49m\u001B[43m \u001B[49m\u001B[38;5;129;43;01min\u001B[39;49;00m\u001B[43m \u001B[49m\u001B[43mdate_aids\u001B[49m\u001B[43m[\u001B[49m\u001B[43mtarget\u001B[49m\u001B[43m]\u001B[49m\u001B[43m}\u001B[49m\u001B[43m)\u001B[49m\u001B[43m \u001B[49m\u001B[38;5;28;43;01mfor\u001B[39;49;00m\u001B[43m \u001B[49m\u001B[43mtarget\u001B[49m\u001B[43m \u001B[49m\u001B[38;5;129;43;01min\u001B[39;49;00m\u001B[43m \u001B[49m\u001B[38;5;28;43msorted\u001B[39;49m\u001B[43m(\u001B[49m\u001B[43mdaybags\u001B[49m\u001B[43m)\u001B[49m\u001B[43m]\u001B[49m\u001B[43m)\u001B[49m\n",
      "File \u001B[0;32m~/miniconda3/lib/python3.11/multiprocessing/pool.py:375\u001B[0m, in \u001B[0;36mPool.starmap\u001B[0;34m(self, func, iterable, chunksize)\u001B[0m\n\u001B[1;32m    369\u001B[0m \u001B[38;5;28;01mdef\u001B[39;00m \u001B[38;5;21mstarmap\u001B[39m(\u001B[38;5;28mself\u001B[39m, func, iterable, chunksize\u001B[38;5;241m=\u001B[39m\u001B[38;5;28;01mNone\u001B[39;00m):\n\u001B[1;32m    370\u001B[0m \u001B[38;5;250m    \u001B[39m\u001B[38;5;124;03m'''\u001B[39;00m\n\u001B[1;32m    371\u001B[0m \u001B[38;5;124;03m    Like `map()` method but the elements of the `iterable` are expected to\u001B[39;00m\n\u001B[1;32m    372\u001B[0m \u001B[38;5;124;03m    be iterables as well and will be unpacked as arguments. Hence\u001B[39;00m\n\u001B[1;32m    373\u001B[0m \u001B[38;5;124;03m    `func` and (a, b) becomes func(a, b).\u001B[39;00m\n\u001B[1;32m    374\u001B[0m \u001B[38;5;124;03m    '''\u001B[39;00m\n\u001B[0;32m--> 375\u001B[0m     \u001B[38;5;28;01mreturn\u001B[39;00m \u001B[38;5;28;43mself\u001B[39;49m\u001B[38;5;241;43m.\u001B[39;49m\u001B[43m_map_async\u001B[49m\u001B[43m(\u001B[49m\u001B[43mfunc\u001B[49m\u001B[43m,\u001B[49m\u001B[43m \u001B[49m\u001B[43miterable\u001B[49m\u001B[43m,\u001B[49m\u001B[43m \u001B[49m\u001B[43mstarmapstar\u001B[49m\u001B[43m,\u001B[49m\u001B[43m \u001B[49m\u001B[43mchunksize\u001B[49m\u001B[43m)\u001B[49m\u001B[38;5;241;43m.\u001B[39;49m\u001B[43mget\u001B[49m\u001B[43m(\u001B[49m\u001B[43m)\u001B[49m\n",
      "File \u001B[0;32m~/miniconda3/lib/python3.11/multiprocessing/pool.py:768\u001B[0m, in \u001B[0;36mApplyResult.get\u001B[0;34m(self, timeout)\u001B[0m\n\u001B[1;32m    767\u001B[0m \u001B[38;5;28;01mdef\u001B[39;00m \u001B[38;5;21mget\u001B[39m(\u001B[38;5;28mself\u001B[39m, timeout\u001B[38;5;241m=\u001B[39m\u001B[38;5;28;01mNone\u001B[39;00m):\n\u001B[0;32m--> 768\u001B[0m     \u001B[38;5;28;43mself\u001B[39;49m\u001B[38;5;241;43m.\u001B[39;49m\u001B[43mwait\u001B[49m\u001B[43m(\u001B[49m\u001B[43mtimeout\u001B[49m\u001B[43m)\u001B[49m\n\u001B[1;32m    769\u001B[0m     \u001B[38;5;28;01mif\u001B[39;00m \u001B[38;5;129;01mnot\u001B[39;00m \u001B[38;5;28mself\u001B[39m\u001B[38;5;241m.\u001B[39mready():\n\u001B[1;32m    770\u001B[0m         \u001B[38;5;28;01mraise\u001B[39;00m \u001B[38;5;167;01mTimeoutError\u001B[39;00m\n",
      "File \u001B[0;32m~/miniconda3/lib/python3.11/multiprocessing/pool.py:765\u001B[0m, in \u001B[0;36mApplyResult.wait\u001B[0;34m(self, timeout)\u001B[0m\n\u001B[1;32m    764\u001B[0m \u001B[38;5;28;01mdef\u001B[39;00m \u001B[38;5;21mwait\u001B[39m(\u001B[38;5;28mself\u001B[39m, timeout\u001B[38;5;241m=\u001B[39m\u001B[38;5;28;01mNone\u001B[39;00m):\n\u001B[0;32m--> 765\u001B[0m     \u001B[38;5;28;43mself\u001B[39;49m\u001B[38;5;241;43m.\u001B[39;49m\u001B[43m_event\u001B[49m\u001B[38;5;241;43m.\u001B[39;49m\u001B[43mwait\u001B[49m\u001B[43m(\u001B[49m\u001B[43mtimeout\u001B[49m\u001B[43m)\u001B[49m\n",
      "File \u001B[0;32m~/miniconda3/lib/python3.11/threading.py:622\u001B[0m, in \u001B[0;36mEvent.wait\u001B[0;34m(self, timeout)\u001B[0m\n\u001B[1;32m    620\u001B[0m signaled \u001B[38;5;241m=\u001B[39m \u001B[38;5;28mself\u001B[39m\u001B[38;5;241m.\u001B[39m_flag\n\u001B[1;32m    621\u001B[0m \u001B[38;5;28;01mif\u001B[39;00m \u001B[38;5;129;01mnot\u001B[39;00m signaled:\n\u001B[0;32m--> 622\u001B[0m     signaled \u001B[38;5;241m=\u001B[39m \u001B[38;5;28;43mself\u001B[39;49m\u001B[38;5;241;43m.\u001B[39;49m\u001B[43m_cond\u001B[49m\u001B[38;5;241;43m.\u001B[39;49m\u001B[43mwait\u001B[49m\u001B[43m(\u001B[49m\u001B[43mtimeout\u001B[49m\u001B[43m)\u001B[49m\n\u001B[1;32m    623\u001B[0m \u001B[38;5;28;01mreturn\u001B[39;00m signaled\n",
      "File \u001B[0;32m~/miniconda3/lib/python3.11/threading.py:320\u001B[0m, in \u001B[0;36mCondition.wait\u001B[0;34m(self, timeout)\u001B[0m\n\u001B[1;32m    318\u001B[0m \u001B[38;5;28;01mtry\u001B[39;00m:    \u001B[38;5;66;03m# restore state no matter what (e.g., KeyboardInterrupt)\u001B[39;00m\n\u001B[1;32m    319\u001B[0m     \u001B[38;5;28;01mif\u001B[39;00m timeout \u001B[38;5;129;01mis\u001B[39;00m \u001B[38;5;28;01mNone\u001B[39;00m:\n\u001B[0;32m--> 320\u001B[0m         \u001B[43mwaiter\u001B[49m\u001B[38;5;241;43m.\u001B[39;49m\u001B[43macquire\u001B[49m\u001B[43m(\u001B[49m\u001B[43m)\u001B[49m\n\u001B[1;32m    321\u001B[0m         gotit \u001B[38;5;241m=\u001B[39m \u001B[38;5;28;01mTrue\u001B[39;00m\n\u001B[1;32m    322\u001B[0m     \u001B[38;5;28;01melse\u001B[39;00m:\n",
      "\u001B[0;31mKeyboardInterrupt\u001B[0m: "
     ]
    }
   ],
   "source": [
    "with Pool(8) as pool:\n",
    "\tpool.starmap(worker_fn, [(i, target, date_aids[target], daytfidf[target], {aid: all_bags[aid] for aid in date_aids[target]}) for i, target in enumerate(sorted(daybags))])\n"
   ],
   "metadata": {
    "collapsed": false,
    "ExecuteTime": {
     "end_time": "2023-11-15T10:54:40.041267589Z",
     "start_time": "2023-11-14T16:41:58.912669569Z"
    }
   },
   "id": "acec7582f9e2f433"
  },
  {
   "cell_type": "code",
   "execution_count": null,
   "outputs": [],
   "source": [],
   "metadata": {
    "collapsed": false
   },
   "id": "ece36f113f59352f"
  },
  {
   "cell_type": "code",
   "execution_count": null,
   "outputs": [],
   "source": [
    "\n",
    "# for dateidx, target in enumerate(daybags):\n",
    "# \n",
    "# \ttoday_aids = date_aids[target]\n",
    "# \ttoday_bag = daybags[target]\n",
    "# \t# today_df = df[df['date'] == target]\n",
    "# \ttoday_tfidf = daytfidf[target]\n",
    "# \timportances = today_tfidf\n",
    "# \n",
    "# \ttreat_bags_as_sets = True\n",
    "# \tprior_art_scores = Counter({aID: sum(\n",
    "# \t\timportances[w] * (1 if treat_bags_as_sets else f) for w, f in all_bags[aID].items() if w in importances) for aID\n",
    "# \t\t\t\t\t\t\t\tin today_aids})\n",
    "# \n",
    "# \n",
    "# \tdef article_affinity(aid1, aid2):\n",
    "# \t\tbag1, bag2 = all_bags[aid1], all_bags[aid2]\n",
    "# \t\treturn sum(importances[w] * (1 if treat_bags_as_sets else min(f, bag2[w])) for w, f in bag1.items() if\n",
    "# \t\t\t\t   w in bag2) / np.sqrt(prior_art_scores[aid1] * prior_art_scores[aid2])\n",
    "# \n",
    "# \n",
    "# \tart_imps = list(prior_art_scores.most_common())\n",
    "# \taidorder = np.array([c for c, _ in art_imps])\n",
    "# \n",
    "# \tart_keywords = {\n",
    "# \t\taid: [w for w in sorted(all_bags[aid], key=lambda w: importances[w], reverse=True) if importances[w] > 1e-8] for\n",
    "# \t\taid in aidorder}\n",
    "# \n",
    "# \tdatstr = target.strftime('%Y-%m-%d')\n",
    "# \n",
    "# \tfull_clusters = {}\n",
    "# \ttodo = aidorder.tolist()\n",
    "# \ttotal = len(todo)\n",
    "# \titr = tqdm(total=total)\n",
    "# \titr.set_description(f'{dateidx + 1}/{len(daybags)} - {datstr}')\n",
    "# \twhile len(todo):\n",
    "# \t\tcenter = todo[0]\n",
    "# \t\ttokens, tiers, trace = mainline_cluster_tiers(center, todo, starting_tier=7, min_tier=3, num_kw=200,\n",
    "# \t\t\t\t\t\t\t\t\t\t\t\t\t  num_member=200)\n",
    "# \t\tprev = len(todo)\n",
    "# \t\tfor aids in tiers.values():\n",
    "# \t\t\ttodo = [aid for aid in todo if aid not in aids]\n",
    "# \t\tif center in todo:\n",
    "# \t\t\ttodo.remove(center)\n",
    "# \t\titr.update(prev - len(todo))\n",
    "# \t\tfull_clusters[center] = {'tokens': tokens, 'tiers': tiers, 'trace': trace}\n",
    "# \n",
    "# \titr.close()\n",
    "# \n",
    "# \tsave_json({center: {'tokens': info['tokens'], 'tiers': {t: list(aids) for t, aids in info['tiers'].items()},\n",
    "# \t\t\t\t\t\t'trace': info['trace']} for center, info in full_clusters.items()},\n",
    "# \t\t\t  cluster_root / f'clusters_{datstr}.json')"
   ],
   "metadata": {
    "collapsed": false,
    "ExecuteTime": {
     "end_time": "2023-11-14T16:05:03.473038122Z",
     "start_time": "2023-11-14T16:05:03.472843816Z"
    }
   },
   "id": "e8c2f7ad8c47d2f1"
  },
  {
   "cell_type": "code",
   "execution_count": null,
   "outputs": [],
   "source": [],
   "metadata": {
    "collapsed": false,
    "ExecuteTime": {
     "end_time": "2023-11-14T16:05:03.476355333Z",
     "start_time": "2023-11-14T16:05:03.472956661Z"
    }
   },
   "id": "fe8bccfa8bf29570"
  },
  {
   "cell_type": "code",
   "execution_count": null,
   "outputs": [],
   "source": [],
   "metadata": {
    "collapsed": false
   },
   "id": "d87f6c24d562a844"
  }
 ],
 "metadata": {
  "kernelspec": {
   "display_name": "Python 3",
   "language": "python",
   "name": "python3"
  },
  "language_info": {
   "codemirror_mode": {
    "name": "ipython",
    "version": 2
   },
   "file_extension": ".py",
   "mimetype": "text/x-python",
   "name": "python",
   "nbconvert_exporter": "python",
   "pygments_lexer": "ipython2",
   "version": "2.7.6"
  }
 },
 "nbformat": 4,
 "nbformat_minor": 5
}
