{
 "cells": [
  {
   "cell_type": "code",
   "execution_count": 1,
   "id": "initial_id",
   "metadata": {
    "collapsed": true,
    "ExecuteTime": {
     "end_time": "2023-11-15T18:12:17.344643177Z",
     "start_time": "2023-11-15T18:12:17.158247849Z"
    }
   },
   "outputs": [],
   "source": [
    "from pathlib import Path\n",
    "from multiprocessing import Pool\n",
    "from tqdm.notebook import tqdm\n",
    "import numpy as np\n",
    "from tqdm.notebook import tqdm\n",
    "import pickle as pkl\n",
    "from omnibelt import load_json, save_json\n",
    "from nltk.corpus import stopwords\n",
    "from itertools import combinations, islice\n",
    "from collections import Counter\n",
    "import unicodedata\n",
    "import pandas as pd"
   ]
  },
  {
   "cell_type": "code",
   "execution_count": 2,
   "outputs": [
    {
     "data": {
      "text/plain": "54"
     },
     "execution_count": 2,
     "metadata": {},
     "output_type": "execute_result"
    }
   ],
   "source": [
    "lang_clusters = {'en': ['au', 'ca', 'gb', 'ie', 'in', 'my', 'ng', 'nz', 'ph', 'sa', 'sg', 'us', 'za'],\n",
    "\t\t\t\t 'es': ['ar', 'co', 'cu', 'mx', 've'], 'de': ['at', 'ch', 'de'], 'fr': ['be', 'fr', 'ma'],\n",
    "\t\t\t\t 'zh': ['cn', 'hk', 'tw'], 'ar': ['ae', 'eg'], 'pt': ['br', 'pt'], 'bg': ['bg'], 'cs': ['cz'],\n",
    "\t\t\t\t 'el': ['gr'], 'he': ['il'], 'hu': ['hu'], 'id': ['id'], 'it': ['it'], 'ja': ['jp'], 'ko': ['kr'],\n",
    "\t\t\t\t 'lt': ['lt'], 'lv': ['lv'], 'nl': ['nl'], 'no': ['no'], 'pl': ['pl'], 'ro': ['ro'], 'ru': ['ru'],\n",
    "\t\t\t\t 'sv': ['se'], 'sl': ['si'], 'sk': ['sk'], 'sr': ['rs'], 'th': ['th'], 'tr': ['tr'], 'uk': ['ua']}\n",
    "loc_names = {'gb': 'United Kingdom', 'ar': 'Argentina', 'pl': 'Poland', 'sk': 'Slovakia', 'us': 'United States',\n",
    "\t\t\t 'eg': 'Egypt', 'no': 'Norway', 'ph': 'Philippines', 'at': 'Austria', 'rs': 'Serbia', 'tw': 'Taiwan',\n",
    "\t\t\t 'be': 'Belgium', 'cu': 'Cuba', 'sa': 'Saudi Arabia', 'th': 'Thailand', 'id': 'Indonesia',\n",
    "\t\t\t 'ru': 'Russian Federation', 'ch': 'Switzerland', 'fr': 'France', 'lt': 'Lithuania', 'tr': 'Turkey',\n",
    "\t\t\t 'de': 'Germany', 'cz': 'Czechia', 'pt': 'Portugal', 'ae': 'United Arab Emirates', 'it': 'Italy',\n",
    "\t\t\t 'cn': 'China', 'lv': 'Latvia', 'nl': 'Netherlands', 'hk': 'Hong Kong', 'ca': 'Canada', 'br': 'Brazil',\n",
    "\t\t\t 'hu': 'Hungary', 'kr': 'Korea', 'si': 'Slovenia', 'au': 'Australia', 'my': 'Malaysia', 'ie': 'Ireland',\n",
    "\t\t\t 'ua': 'Ukraine', 'in': 'India', 'ma': 'Morocco', 'bg': 'Bulgaria', 'ng': 'Nigeria', 'il': 'Israel',\n",
    "\t\t\t 'se': 'Sweden', 'za': 'South Africa', 've': 'Venezuela', 'nz': 'New Zealand', 'jp': 'Japan',\n",
    "\t\t\t 'sg': 'Singapore', 'gr': 'Greece', 'mx': 'Mexico', 'co': 'Colombia', 'ro': 'Romania'}\n",
    "lang_names = {'en': 'English', 'ko': 'Korean', 'ru': 'Russian', 'es': 'Spanish', 'pt': 'Portuguese', 'cs': 'Czech',\n",
    "\t\t\t  'tr': 'Turkish', 'nl': 'Dutch', 'ar': 'Arabic', 'fr': 'French', 'bg': 'Bulgarian', 'id': 'Indonesian',\n",
    "\t\t\t  'sk': 'Slovak', 'el': 'Greek', 'he': 'Hebrew', 'sr': 'Serbian', 'hu': 'Hungarian', 'th': 'Thai',\n",
    "\t\t\t  'zh': 'Chinese', 'no': 'Norwegian', 'sl': 'Slovenian', 'sv': 'Swedish', 'de': 'German', 'lv': 'Latvian',\n",
    "\t\t\t  'pl': 'Polish', 'it': 'Italian', 'ro': 'Romanian', 'lt': 'Lithuanian', 'ja': 'Japanese',\n",
    "\t\t\t  'uk': 'Ukrainian'}\n",
    "cluster_id = {loc: lang for lang, locs in lang_clusters.items() for loc in locs}\n",
    "len(cluster_id)"
   ],
   "metadata": {
    "collapsed": false,
    "ExecuteTime": {
     "end_time": "2023-11-15T18:12:17.389175929Z",
     "start_time": "2023-11-15T18:12:17.342201669Z"
    }
   },
   "id": "b55370e4437f92ec"
  },
  {
   "cell_type": "code",
   "execution_count": 3,
   "outputs": [],
   "source": [
    "def topk_ngrams(importances, ordered_keywords, n=2, k=10):\n",
    "\tassert len(ordered_keywords) >= n, f'Not enough tokens in bag: {len(ordered_keywords)} < {n}: {ordered_keywords}'\n",
    "\treturn [frozenset(ws) for ws in islice(\n",
    "\t\tsorted(combinations(ordered_keywords, n), key=lambda ws: sum(importances[w] for w in ws), reverse=True), k)]\n",
    "# def ngram_shells(importances, keywords, num_shells=3, k=10):\n",
    "# \tmost = min(num_shells, len(keywords))\n",
    "# \tcontent = [set(topk_ngrams(importances, keywords, n=i, k=k)) for i in range(1, most + 1)]\n",
    "# \tfor _ in range(most, num_shells):\n",
    "# \t\tcontent.append(set())\n",
    "# \treturn content\n",
    "def has_hits(art_keywords, aids, segs):\n",
    "\treturn any(all(w in art_keywords[aid] for w in seg) for aid in aids for seg in segs)\n",
    "def find_hits(art_keywords, aids, segs):\n",
    "\thits = {}\n",
    "\tfor aid in aids:\n",
    "\t\tfor seg in segs:\n",
    "\t\t\tif all(w in art_keywords[aid] for w in seg):\n",
    "\t\t\t\thits.setdefault(seg, []).append(aid)\n",
    "\treturn hits\n",
    "def segs2keywords(importances, segs):\n",
    "\treturn sorted(set(w for seg in segs for w in seg), key=lambda w: importances[w], reverse=True)\n",
    "def generate_candidates(art_keywords, importances, tier, kws, members=None, num_kw=10, num_member=10):\n",
    "\tcands = set()\n",
    "\tif len(kws) >= tier:\n",
    "\t\tcands.update(topk_ngrams(importances, kws, n=tier, k=num_kw))\n",
    "\tif members and len(members) and num_member:\n",
    "\t\tmember_cands = Counter()\n",
    "\t\tfor aid in members:\n",
    "\t\t\tmember_cands.update(topk_ngrams(importances, art_keywords[aid], n=tier, k=num_kw))\n",
    "\t\tfor seg, _ in member_cands.most_common(num_member):\n",
    "\t\t\tcands.add(seg)\n",
    "\treturn cands\n",
    "def mainline_cluster_tiers(art_keywords, importances, center, options, starting_tier=7, min_tier=2, num_kw=10, num_member=10):\n",
    "\tkws = art_keywords[center]\n",
    "\tmembers = set()\n",
    "\n",
    "\tknown_tokens = set()\n",
    "\ttokens = {}\n",
    "\ttiers = {}\n",
    "\ttrace = Counter()\n",
    "\tremaining = list(options)\n",
    "\tif center in remaining:\n",
    "\t\tremaining.remove(center)\n",
    "\tassert min_tier >= 1, f'Minimum tier must be at least 1: {min_tier}'\n",
    "\tfor tier in range(starting_tier, min_tier - 1, -1):\n",
    "\t\tif not len(remaining):\n",
    "\t\t\tbreak\n",
    "\n",
    "\t\tcands = generate_candidates(art_keywords, importances, tier, kws, members=members, num_kw=num_kw, num_member=num_member)\n",
    "\t\t# print(tier, len(cands))\n",
    "\t\ttrace[tier] = len(cands)\n",
    "\t\tif not has_hits(art_keywords, remaining, cands):\n",
    "\t\t\tcontinue\n",
    "\n",
    "\t\thits = find_hits(art_keywords, remaining, cands)\n",
    "\n",
    "\t\tgold = {}\n",
    "\t\tfor seg, aids in hits.items():\n",
    "\t\t\tfor aid in aids:\n",
    "\t\t\t\tgold.setdefault(aid, set()).update(seg)\n",
    "\t\ttokens[tier] = Counter(w for seq in gold.values() for w in seq if w not in known_tokens)\n",
    "\t\tkws = segs2keywords(importances, hits.keys())\n",
    "\t\tknown_tokens.update(kws)\n",
    "\t\ttiers[tier] = set(aid for seg, aids in hits.items() for aid in aids)\n",
    "\t\tmembers.update(tiers[tier])\n",
    "\t\tremaining = [aid for aid in remaining if aid not in members]\n",
    "\n",
    "\treturn tokens, tiers, trace\n",
    "\n",
    "stop_words = set(stopwords.words('english'))\n",
    "stop_words.update(\"'s\", '|', 'I', \"n't\", \"`s\", \"'s\", 'n`t')\n",
    "_my_stop_words = {\"'s\", 'news'}\n",
    "\n",
    "\n",
    "def is_good_word(w):\n",
    "\treturn any(not unicodedata.category(char).startswith('P') for char in\n",
    "\t\t\t   w) and w not in stop_words and w not in _my_stop_words"
   ],
   "metadata": {
    "collapsed": false,
    "ExecuteTime": {
     "end_time": "2023-11-15T18:12:17.389250683Z",
     "start_time": "2023-11-15T18:12:17.388722611Z"
    }
   },
   "id": "62d424d5195dcc3a"
  },
  {
   "cell_type": "code",
   "execution_count": 4,
   "outputs": [
    {
     "data": {
      "text/plain": "  0%|          | 0/54 [00:00<?, ?it/s]",
      "application/vnd.jupyter.widget-view+json": {
       "version_major": 2,
       "version_minor": 0,
       "model_id": "48c16dcbbaaf47a8b018d80274fea4e0"
      }
     },
     "metadata": {},
     "output_type": "display_data"
    },
    {
     "data": {
      "text/plain": "4719199"
     },
     "execution_count": 4,
     "metadata": {},
     "output_type": "execute_result"
    }
   ],
   "source": [
    "root = Path('/home/fleeb/workspace/local_data/nnn')\n",
    "recs = (root / 'babel-briefings-v1').glob('**/*.json')\n",
    "recs = list(recs)\n",
    "len(recs)\n",
    "articles = []\n",
    "for rec in tqdm(recs):\n",
    "\tarticles.extend(load_json(rec))\n",
    "len(articles)"
   ],
   "metadata": {
    "collapsed": false,
    "ExecuteTime": {
     "end_time": "2023-11-15T18:13:04.355423300Z",
     "start_time": "2023-11-15T18:12:17.508807187Z"
    }
   },
   "id": "1c3b47853ca85342"
  },
  {
   "cell_type": "code",
   "execution_count": 5,
   "outputs": [
    {
     "data": {
      "text/plain": "  0%|          | 0/4719199 [00:00<?, ?it/s]",
      "application/vnd.jupyter.widget-view+json": {
       "version_major": 2,
       "version_minor": 0,
       "model_id": "fff19eb8c5fb427eb215afaa2c509e91"
      }
     },
     "metadata": {},
     "output_type": "display_data"
    },
    {
     "data": {
      "text/plain": "(54, 30)"
     },
     "execution_count": 5,
     "metadata": {},
     "output_type": "execute_result"
    }
   ],
   "source": [
    "by_loc = {}\n",
    "by_lang = {}\n",
    "by_source = {}\n",
    "by_ID = {}\n",
    "for article in tqdm(articles):\n",
    "\tby_ID[article['ID']] = article\n",
    "\t# article['published'] = parser.parse(article['publishedAt'])\n",
    "\tby_source.setdefault(article['source-name'], []).append(article)\n",
    "\tby_lang.setdefault(article['language'], []).append(article)\n",
    "\tfor instance in article['instances']:\n",
    "\t\t# instance['collected'] = parser.parse(instance['collectedAt'])\n",
    "\t\tby_loc.setdefault(instance['location'], []).append(article)\n",
    "len(by_loc), len(by_lang)"
   ],
   "metadata": {
    "collapsed": false,
    "ExecuteTime": {
     "end_time": "2023-11-15T18:13:08.435447942Z",
     "start_time": "2023-11-15T18:13:04.352392876Z"
    }
   },
   "id": "f85fcd317346520f"
  },
  {
   "cell_type": "code",
   "execution_count": 6,
   "outputs": [],
   "source": [
    "cluster_root = root / 'clusterings'\n",
    "cluster_root.mkdir(exist_ok=True)"
   ],
   "metadata": {
    "collapsed": false,
    "ExecuteTime": {
     "end_time": "2023-11-15T18:13:08.492916712Z",
     "start_time": "2023-11-15T18:13:08.437624619Z"
    }
   },
   "id": "f29c546c6ad904a0"
  },
  {
   "cell_type": "code",
   "execution_count": 7,
   "outputs": [
    {
     "data": {
      "text/plain": "(4719199, 4719199)"
     },
     "execution_count": 7,
     "metadata": {},
     "output_type": "execute_result"
    }
   ],
   "source": [
    "# lowercase_all = True\n",
    "# full_bagowords_inds = {int(ID): {k.lower() if lowercase_all else k:v for k,v in bag.items()} \n",
    "# \t\t\t\t\t   for ID, bag in tqdm(load_json(root/'bagowords-ordered-full.json').items())}\n",
    "# \n",
    "# pre_dash = Counter()\n",
    "# for ID, bagi in tqdm(full_bagowords_inds.items()):\n",
    "# \tif '-' in bagi:\n",
    "# \t\tpre_dash.update({w: len(inds) for w, inds in bagi.items() if all(i < bagi[\"-\"][-1] for i in inds)})\n",
    "# \n",
    "# post_dash = Counter()\n",
    "# for ID, bagi in tqdm(full_bagowords_inds.items()):\n",
    "# \tif '-' in bagi:\n",
    "# \t\tpost_dash.update({w: len(inds) for w, inds in bagi.items() if w not in pre_dash})\n",
    "# all_bags_inds = {ID: {w: [i for i in inds if bag.get('-', [float('inf')])[-1] > i]\n",
    "# \t\t\t\t\t  for w, inds in bag.items() if w not in post_dash and is_good_word(w)}\n",
    "# \t\t\t\t for ID, bag in tqdm(full_bagowords_inds.items())}\n",
    "# all_bags = {ID: Counter({w: len(inds) for w, inds in bag.items() if len(inds)}) for ID, bag in all_bags_inds.items()}\n",
    "# len(all_bags)\n",
    "all_bags_inds = pkl.load(open(root/'temp'/'all_bags_inds.pkl', 'rb'))\n",
    "all_bags = {ID: Counter({w: len(inds) for w, inds in bag.items() if len(inds) and is_good_word(w)}) for ID, bag in all_bags_inds.items()}\n",
    "len(all_bags), len(all_bags_inds)"
   ],
   "metadata": {
    "collapsed": false,
    "ExecuteTime": {
     "end_time": "2023-11-15T18:14:23.336863292Z",
     "start_time": "2023-11-15T18:13:08.480744452Z"
    }
   },
   "id": "2d7caae5bdf55d04"
  },
  {
   "cell_type": "code",
   "execution_count": 8,
   "outputs": [
    {
     "data": {
      "text/plain": "  0%|          | 0/4719199 [00:00<?, ?it/s]",
      "application/vnd.jupyter.widget-view+json": {
       "version_major": 2,
       "version_minor": 0,
       "model_id": "98108a66255647c8b756b197baaff410"
      }
     },
     "metadata": {},
     "output_type": "display_data"
    }
   ],
   "source": [
    "df = pd.DataFrame(\n",
    "\t[{**inst, 'aid': art['ID']} for art in tqdm(articles) for i, inst in\n",
    "\t enumerate(by_ID[art['ID']]['instances'])])\n",
    "df['collectedAt'] = pd.to_datetime(df['collectedAt'])\n",
    "df = df.sort_values('collectedAt')\n",
    "df['date'] = df['collectedAt'].dt.date"
   ],
   "metadata": {
    "collapsed": false,
    "ExecuteTime": {
     "end_time": "2023-11-15T18:14:33.469391021Z",
     "start_time": "2023-11-15T18:14:23.336798287Z"
    }
   },
   "id": "f70c4174b1f8e681"
  },
  {
   "cell_type": "code",
   "execution_count": 9,
   "outputs": [
    {
     "data": {
      "text/plain": "  0%|          | 0/413 [00:00<?, ?it/s]",
      "application/vnd.jupyter.widget-view+json": {
       "version_major": 2,
       "version_minor": 0,
       "model_id": "fc322c9766604f7ba163040b9b5e3bbb"
      }
     },
     "metadata": {},
     "output_type": "display_data"
    },
    {
     "data": {
      "text/plain": "413"
     },
     "execution_count": 9,
     "metadata": {},
     "output_type": "execute_result"
    }
   ],
   "source": [
    "daybags = {}\n",
    "date_aids = dict(df.groupby('date')['aid'].apply(set))\n",
    "for date, aIDs in tqdm(sorted(date_aids.items())):\n",
    "\ttotal = Counter()\n",
    "\tfor aID in aIDs:\n",
    "\t\ttotal.update(all_bags[aID])\n",
    "\tdaybags[date] = total\n",
    "len(daybags)"
   ],
   "metadata": {
    "collapsed": false,
    "ExecuteTime": {
     "end_time": "2023-11-15T18:14:45.683841893Z",
     "start_time": "2023-11-15T18:14:33.832398822Z"
    }
   },
   "id": "a931c748153a9ef3"
  },
  {
   "cell_type": "code",
   "execution_count": 10,
   "outputs": [
    {
     "data": {
      "text/plain": "  0%|          | 0/413 [00:00<?, ?it/s]",
      "application/vnd.jupyter.widget-view+json": {
       "version_major": 2,
       "version_minor": 0,
       "model_id": "72a69a12773744239135cb39776fb5bf"
      }
     },
     "metadata": {},
     "output_type": "display_data"
    },
    {
     "data": {
      "text/plain": "  0%|          | 0/413 [00:00<?, ?it/s]",
      "application/vnd.jupyter.widget-view+json": {
       "version_major": 2,
       "version_minor": 0,
       "model_id": "7089c97592ba40bdb48a01f54775e4a6"
      }
     },
     "metadata": {},
     "output_type": "display_data"
    }
   ],
   "source": [
    "dayidf = Counter()\n",
    "for date, bag in tqdm(daybags.items()):\n",
    "\tdayidf.update(bag.keys())\n",
    "dayidf = {w: np.log(len(daybags) / f)  for w, f in dayidf.items()}\n",
    "daytotals = {d: sum(bag.values()) for d, bag in daybags.items()}\n",
    "daytfidf = {day: Counter({w: f / daytotals[day] * dayidf[w] for w, f in bag.items()}) for day, bag in tqdm(daybags.items())}"
   ],
   "metadata": {
    "collapsed": false,
    "ExecuteTime": {
     "end_time": "2023-11-15T18:14:52.604366463Z",
     "start_time": "2023-11-15T18:14:45.698789224Z"
    }
   },
   "id": "40bddfa7657bfe5e"
  },
  {
   "cell_type": "code",
   "execution_count": 11,
   "outputs": [],
   "source": [
    "\n",
    "# def w():\n",
    "def worker_fn(dateidx, target, today_aids, today_tfidf, today_bags):\n",
    "\t\n",
    "\tdatstr = target.strftime('%Y-%m-%d')\n",
    "\tcls_path = Path('/home/fleeb/workspace/local_data/nnn') / 'clusterings' / f'clusters_{datstr}.json'\n",
    "\t\n",
    "\tif cls_path.exists():\n",
    "\t\tprint(f'{dateidx+1}/{413} - Skipping {datstr} - already exists')\n",
    "\t\treturn\n",
    "\t\n",
    "\t# today_aids = date_aids[target]\n",
    "\t# today_bag = daybags[target]\n",
    "\t# today_df = df[df['date'] == target]\n",
    "\t# today_tfidf = token_importances\n",
    "\timportances = today_tfidf\n",
    "\n",
    "\ttreat_bags_as_sets = True\n",
    "\tprior_art_scores = Counter({aID: sum(\n",
    "\t\timportances[w] * (1 if treat_bags_as_sets else f) for w, f in today_bags[aID].items() if w in importances) for aID\n",
    "\t\t\t\t\t\t\t\tin today_aids})\n",
    "\n",
    "\tart_imps = list(prior_art_scores.most_common())\n",
    "\taidorder = np.array([c for c, _ in art_imps])\n",
    "\n",
    "\tart_keywords = {\n",
    "\t\taid: [w for w in sorted(today_bags[aid], key=lambda w: importances[w], reverse=True) if importances[w] > 1e-8] for\n",
    "\t\taid in aidorder}\n",
    "\n",
    "\tfull_clusters = {}\n",
    "\ttodo = aidorder.tolist()\n",
    "\ttotal = len(todo)\n",
    "\t# itr = tqdm(total=total)\n",
    "\t# itr.set_description(f'{dateidx + 1}/{len(daybags)} - {datstr}')\n",
    "\t\n",
    "\tprint(f'{dateidx+1}/{413} - Starting {datstr} ({total} articles)')\n",
    "\t\n",
    "\twhile len(todo):\n",
    "\t\tcenter = todo[0]\n",
    "\t\ttokens, tiers, trace = mainline_cluster_tiers(art_keywords, importances, center, todo, starting_tier=7, min_tier=3, num_kw=200,\n",
    "\t\t\t\t\t\t\t\t\t\t\t\t\t  num_member=200)\n",
    "\t\tprev = len(todo)\n",
    "\t\tfor aids in tiers.values():\n",
    "\t\t\ttodo = [aid for aid in todo if aid not in aids]\n",
    "\t\tif center in todo:\n",
    "\t\t\ttodo.remove(center)\n",
    "\t\t# itr.update(prev - len(todo))\n",
    "\t\tfull_clusters[center] = {'tokens': tokens, 'tiers': tiers, 'trace': trace}\n",
    "\n",
    "\t# itr.close()\n",
    "\n",
    "\tsave_json({center: {'tokens': info['tokens'], 'tiers': {t: list(aids) for t, aids in info['tiers'].items()},\n",
    "\t\t\t\t\t\t'trace': info['trace']} for center, info in full_clusters.items()}, cls_path)\n",
    "\t\n",
    "\tprint(f'{dateidx+1}/{413} - Finished {datstr} ({total} articles) - {len(full_clusters)} clusters')"
   ],
   "metadata": {
    "collapsed": false,
    "ExecuteTime": {
     "end_time": "2023-11-15T18:14:52.652861956Z",
     "start_time": "2023-11-15T18:14:52.605241054Z"
    }
   },
   "id": "10f299c0fd323418"
  },
  {
   "cell_type": "code",
   "execution_count": null,
   "outputs": [
    {
     "name": "stdout",
     "output_type": "stream",
     "text": [
      "1/413 - Skipping 2020-08-07 - already exists\n",
      "2/413 - Skipping 2020-08-08 - already exists\n",
      "3/413 - Skipping 2020-08-09 - already exists\n",
      "4/413 - Skipping 2020-08-10 - already exists\n",
      "5/413 - Skipping 2020-08-11 - already exists\n",
      "6/413 - Skipping 2020-08-12 - already exists\n",
      "7/413 - Skipping 2020-08-13 - already exists\n",
      "8/413 - Skipping 2020-08-14 - already exists\n",
      "9/413 - Skipping 2020-08-15 - already exists\n",
      "10/413 - Skipping 2020-08-16 - already exists\n",
      "11/413 - Skipping 2020-08-17 - already exists\n",
      "12/413 - Skipping 2020-08-18 - already exists\n",
      "13/413 - Starting 2020-08-19 (15637 articles)\n",
      "14/413 - Skipping 2020-08-20 - already exists\n",
      "15/413 - Skipping 2020-08-21 - already exists\n",
      "16/413 - Skipping 2020-08-22 - already exists\n",
      "17/413 - Skipping 2020-08-23 - already exists\n",
      "18/413 - Skipping 2020-08-24 - already exists\n",
      "19/413 - Skipping 2020-08-25 - already exists\n",
      "20/413 - Skipping 2020-08-26 - already exists\n",
      "21/413 - Skipping 2020-08-27 - already exists\n",
      "22/413 - Skipping 2020-08-28 - already exists\n",
      "23/413 - Starting 2020-08-29 (15253 articles)\n",
      "27/413 - Skipping 2020-09-02 - already exists\n",
      "28/413 - Skipping 2020-09-03 - already exists\n",
      "29/413 - Skipping 2020-09-04 - already exists\n",
      "30/413 - Skipping 2020-09-05 - already exists\n",
      "31/413 - Skipping 2020-09-06 - already exists\n",
      "32/413 - Skipping 2020-09-07 - already exists\n",
      "33/413 - Skipping 2020-09-08 - already exists\n",
      "34/413 - Skipping 2020-09-09 - already exists35/413 - Starting 2020-09-10 (15775 articles)\n",
      "40/413 - Skipping 2020-09-15 - already exists\n",
      "41/413 - Skipping 2020-09-16 - already exists\n",
      "42/413 - Skipping 2020-09-17 - already exists\n",
      "43/413 - Skipping 2020-09-18 - already exists\n",
      "44/413 - Skipping 2020-09-19 - already exists\n",
      "45/413 - Skipping 2020-09-20 - already exists\n",
      "46/413 - Skipping 2020-09-21 - already exists\n",
      "47/413 - Skipping 2020-09-22 - already exists\n",
      "48/413 - Starting 2020-09-23 (15673 articles)\n",
      "53/413 - Skipping 2020-09-28 - already exists\n",
      "54/413 - Skipping 2020-09-29 - already exists\n",
      "55/413 - Skipping 2020-09-30 - already exists\n",
      "56/413 - Skipping 2020-10-01 - already exists\n",
      "57/413 - Skipping 2020-10-02 - already exists\n",
      "58/413 - Skipping 2020-10-03 - already exists\n",
      "59/413 - Skipping 2020-10-04 - already exists\n",
      "60/413 - Skipping 2020-10-05 - already exists\n",
      "61/413 - Starting 2020-10-06 (15132 articles)\n",
      "66/413 - Skipping 2020-10-11 - already exists\n",
      "67/413 - Skipping 2020-10-12 - already exists\n",
      "68/413 - Skipping 2020-10-13 - already exists\n",
      "69/413 - Skipping 2020-10-14 - already exists\n",
      "70/413 - Skipping 2020-10-15 - already exists\n",
      "71/413 - Skipping 2020-10-16 - already exists\n",
      "72/413 - Skipping 2020-10-17 - already exists\n",
      "73/413 - Skipping 2020-10-18 - already exists\n",
      "74/413 - Starting 2020-10-19 (14548 articles)\n",
      "79/413 - Skipping 2020-10-24 - already exists\n",
      "80/413 - Skipping 2020-10-25 - already exists\n",
      "81/413 - Skipping 2020-10-26 - already exists\n",
      "82/413 - Skipping 2020-10-27 - already exists\n",
      "83/413 - Skipping 2020-10-28 - already exists\n",
      "84/413 - Skipping 2020-10-29 - already exists\n",
      "85/413 - Skipping 2020-10-30 - already exists\n",
      "86/413 - Skipping 2020-10-31 - already exists\n",
      "87/413 - Starting 2020-11-01 (15043 articles)92/413 - Skipping 2020-11-06 - already exists\n",
      "93/413 - Skipping 2020-11-07 - already exists\n",
      "94/413 - Skipping 2020-11-09 - already exists\n",
      "95/413 - Skipping 2020-11-10 - already exists\n",
      "96/413 - Skipping 2020-11-12 - already exists\n",
      "97/413 - Skipping 2020-11-13 - already exists\n",
      "98/413 - Skipping 2020-11-14 - already exists\n",
      "99/413 - Skipping 2020-11-17 - already exists\n",
      "100/413 - Starting 2020-11-18 (15714 articles)\n",
      "23/413 - Finished 2020-08-29 (15253 articles) - 12334 clusters\n",
      "24/413 - Starting 2020-08-30 (14636 articles)\n",
      "61/413 - Finished 2020-10-06 (15132 articles) - 12370 clusters\n",
      "62/413 - Starting 2020-10-07 (15943 articles)\n",
      "74/413 - Finished 2020-10-19 (14548 articles) - 11926 clusters\n",
      "75/413 - Starting 2020-10-20 (15264 articles)\n",
      "87/413 - Finished 2020-11-01 (15043 articles) - 12242 clusters\n",
      "88/413 - Starting 2020-11-02 (14536 articles)\n",
      "13/413 - Finished 2020-08-19 (15637 articles) - 12736 clusters\n",
      "105/413 - Starting 2020-11-28 (15772 articles)\n",
      "48/413 - Finished 2020-09-23 (15673 articles) - 12818 clusters\n",
      "49/413 - Starting 2020-09-24 (15787 articles)\n",
      "35/413 - Finished 2020-09-10 (15775 articles) - 13001 clusters\n",
      "36/413 - Starting 2020-09-11 (15732 articles)\n",
      "100/413 - Finished 2020-11-18 (15714 articles) - 12728 clusters\n",
      "101/413 - Starting 2020-11-19 (15930 articles)\n",
      "24/413 - Finished 2020-08-30 (14636 articles) - 11844 clusters\n",
      "25/413 - Starting 2020-08-31 (14095 articles)\n",
      "88/413 - Finished 2020-11-02 (14536 articles) - 11911 clusters\n",
      "89/413 - Starting 2020-11-03 (15185 articles)\n",
      "62/413 - Finished 2020-10-07 (15943 articles) - 12756 clusters\n",
      "63/413 - Starting 2020-10-08 (12853 articles)\n",
      "75/413 - Finished 2020-10-20 (15264 articles) - 12598 clusters\n",
      "76/413 - Starting 2020-10-21 (15914 articles)\n",
      "105/413 - Finished 2020-11-28 (15772 articles) - 12987 clusters\n",
      "106/413 - Starting 2020-11-29 (15013 articles)\n",
      "36/413 - Finished 2020-09-11 (15732 articles) - 12901 clusters\n",
      "37/413 - Starting 2020-09-12 (15517 articles)\n",
      "49/413 - Finished 2020-09-24 (15787 articles) - 12810 clusters\n",
      "50/413 - Starting 2020-09-25 (15724 articles)\n",
      "101/413 - Finished 2020-11-19 (15930 articles) - 12921 clusters\n",
      "102/413 - Starting 2020-11-20 (16065 articles)\n",
      "63/413 - Finished 2020-10-08 (12853 articles) - 10267 clusters\n",
      "64/413 - Starting 2020-10-09 (12802 articles)\n",
      "25/413 - Finished 2020-08-31 (14095 articles) - 11501 clusters\n",
      "26/413 - Starting 2020-09-01 (14905 articles)\n",
      "89/413 - Finished 2020-11-03 (15185 articles) - 12363 clusters\n",
      "90/413 - Starting 2020-11-04 (15633 articles)\n",
      "76/413 - Finished 2020-10-21 (15914 articles) - 13012 clusters\n",
      "77/413 - Starting 2020-10-22 (730 articles)\n",
      "77/413 - Finished 2020-10-22 (730 articles) - 677 clusters\n",
      "78/413 - Starting 2020-10-23 (16072 articles)\n",
      "106/413 - Finished 2020-11-29 (15013 articles) - 12328 clusters\n",
      "107/413 - Starting 2020-12-01 (15334 articles)\n",
      "50/413 - Finished 2020-09-25 (15724 articles) - 12802 clusters\n",
      "51/413 - Starting 2020-09-26 (15461 articles)\n",
      "37/413 - Finished 2020-09-12 (15517 articles) - 12879 clusters\n",
      "38/413 - Starting 2020-09-13 (14893 articles)\n",
      "102/413 - Finished 2020-11-20 (16065 articles) - 13173 clusters\n",
      "103/413 - Starting 2020-11-23 (14839 articles)\n",
      "64/413 - Finished 2020-10-09 (12802 articles) - 10327 clusters\n",
      "65/413 - Starting 2020-10-10 (15735 articles)\n",
      "26/413 - Finished 2020-09-01 (14905 articles) - 12095 clusters\n"
     ]
    }
   ],
   "source": [
    "with Pool(8) as pool:\n",
    "\tpool.starmap(worker_fn, [(i, target, date_aids[target], daytfidf[target], {aid: all_bags[aid] for aid in date_aids[target]}) for i, target in enumerate(sorted(daybags))])\n"
   ],
   "metadata": {
    "collapsed": false,
    "is_executing": true,
    "ExecuteTime": {
     "start_time": "2023-11-15T18:14:58.235280843Z"
    }
   },
   "id": "acec7582f9e2f433"
  },
  {
   "cell_type": "code",
   "execution_count": null,
   "outputs": [],
   "source": [],
   "metadata": {
    "collapsed": false
   },
   "id": "ece36f113f59352f"
  },
  {
   "cell_type": "code",
   "execution_count": null,
   "outputs": [],
   "source": [
    "\n",
    "# for dateidx, target in enumerate(daybags):\n",
    "# \n",
    "# \ttoday_aids = date_aids[target]\n",
    "# \ttoday_bag = daybags[target]\n",
    "# \t# today_df = df[df['date'] == target]\n",
    "# \ttoday_tfidf = daytfidf[target]\n",
    "# \timportances = today_tfidf\n",
    "# \n",
    "# \ttreat_bags_as_sets = True\n",
    "# \tprior_art_scores = Counter({aID: sum(\n",
    "# \t\timportances[w] * (1 if treat_bags_as_sets else f) for w, f in all_bags[aID].items() if w in importances) for aID\n",
    "# \t\t\t\t\t\t\t\tin today_aids})\n",
    "# \n",
    "# \n",
    "# \tdef article_affinity(aid1, aid2):\n",
    "# \t\tbag1, bag2 = all_bags[aid1], all_bags[aid2]\n",
    "# \t\treturn sum(importances[w] * (1 if treat_bags_as_sets else min(f, bag2[w])) for w, f in bag1.items() if\n",
    "# \t\t\t\t   w in bag2) / np.sqrt(prior_art_scores[aid1] * prior_art_scores[aid2])\n",
    "# \n",
    "# \n",
    "# \tart_imps = list(prior_art_scores.most_common())\n",
    "# \taidorder = np.array([c for c, _ in art_imps])\n",
    "# \n",
    "# \tart_keywords = {\n",
    "# \t\taid: [w for w in sorted(all_bags[aid], key=lambda w: importances[w], reverse=True) if importances[w] > 1e-8] for\n",
    "# \t\taid in aidorder}\n",
    "# \n",
    "# \tdatstr = target.strftime('%Y-%m-%d')\n",
    "# \n",
    "# \tfull_clusters = {}\n",
    "# \ttodo = aidorder.tolist()\n",
    "# \ttotal = len(todo)\n",
    "# \titr = tqdm(total=total)\n",
    "# \titr.set_description(f'{dateidx + 1}/{len(daybags)} - {datstr}')\n",
    "# \twhile len(todo):\n",
    "# \t\tcenter = todo[0]\n",
    "# \t\ttokens, tiers, trace = mainline_cluster_tiers(center, todo, starting_tier=7, min_tier=3, num_kw=200,\n",
    "# \t\t\t\t\t\t\t\t\t\t\t\t\t  num_member=200)\n",
    "# \t\tprev = len(todo)\n",
    "# \t\tfor aids in tiers.values():\n",
    "# \t\t\ttodo = [aid for aid in todo if aid not in aids]\n",
    "# \t\tif center in todo:\n",
    "# \t\t\ttodo.remove(center)\n",
    "# \t\titr.update(prev - len(todo))\n",
    "# \t\tfull_clusters[center] = {'tokens': tokens, 'tiers': tiers, 'trace': trace}\n",
    "# \n",
    "# \titr.close()\n",
    "# \n",
    "# \tsave_json({center: {'tokens': info['tokens'], 'tiers': {t: list(aids) for t, aids in info['tiers'].items()},\n",
    "# \t\t\t\t\t\t'trace': info['trace']} for center, info in full_clusters.items()},\n",
    "# \t\t\t  cluster_root / f'clusters_{datstr}.json')"
   ],
   "metadata": {
    "collapsed": false,
    "ExecuteTime": {
     "end_time": "2023-11-14T16:05:03.473038122Z",
     "start_time": "2023-11-14T16:05:03.472843816Z"
    }
   },
   "id": "e8c2f7ad8c47d2f1"
  },
  {
   "cell_type": "code",
   "execution_count": null,
   "outputs": [],
   "source": [],
   "metadata": {
    "collapsed": false,
    "ExecuteTime": {
     "end_time": "2023-11-14T16:05:03.476355333Z",
     "start_time": "2023-11-14T16:05:03.472956661Z"
    }
   },
   "id": "fe8bccfa8bf29570"
  },
  {
   "cell_type": "code",
   "execution_count": null,
   "outputs": [],
   "source": [],
   "metadata": {
    "collapsed": false
   },
   "id": "d87f6c24d562a844"
  }
 ],
 "metadata": {
  "kernelspec": {
   "display_name": "Python 3",
   "language": "python",
   "name": "python3"
  },
  "language_info": {
   "codemirror_mode": {
    "name": "ipython",
    "version": 2
   },
   "file_extension": ".py",
   "mimetype": "text/x-python",
   "name": "python",
   "nbconvert_exporter": "python",
   "pygments_lexer": "ipython2",
   "version": "2.7.6"
  }
 },
 "nbformat": 4,
 "nbformat_minor": 5
}
