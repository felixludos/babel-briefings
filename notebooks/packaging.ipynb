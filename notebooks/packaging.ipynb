{
 "cells": [
  {
   "cell_type": "code",
   "execution_count": 1,
   "id": "initial_id",
   "metadata": {
    "collapsed": true,
    "ExecuteTime": {
     "end_time": "2023-10-30T12:49:56.758276Z",
     "start_time": "2023-10-30T12:49:55.283797500Z"
    }
   },
   "outputs": [],
   "source": [
    "from pathlib import Path\n",
    "from tqdm.notebook import tqdm\n",
    "import json\n",
    "from tabulate import tabulate\n",
    "import random\n",
    "# import pycountry\n",
    "from iso639 import languages\n",
    "import networkx as nx\n",
    "from dateutil import parser\n",
    "from datetime import datetime\n",
    "from collections import Counter\n",
    "# from langdetect import detect\n",
    "from omnibelt import load_json, save_json\n",
    "# from transformers import MBartForConditionalGeneration, MBart50TokenizerFast\n",
    "# from transformers import pipeline"
   ]
  },
  {
   "cell_type": "code",
   "execution_count": 405,
   "outputs": [
    {
     "name": "stdout",
     "output_type": "stream",
     "text": [
      "au ca gb ie in my ng nz ph sa sg us za\n"
     ]
    }
   ],
   "source": [
    "country_codes = {'gb': 'United Kingdom', 'ar': 'Argentina', 'pl': 'Poland', 'sk': 'Slovakia', 'us': 'United States', 'eg': 'Egypt', 'no': 'Norway', 'ph': 'Philippines', 'at': 'Austria', 'rs': 'Serbia', 'tw': 'Taiwan', 'be': 'Belgium', 'cu': 'Cuba', 'sa': 'Saudi Arabia', 'th': 'Thailand', 'id': 'Indonesia', 'ru': 'Russian Federation', 'ch': 'Switzerland', 'fr': 'France', 'lt': 'Lithuania', 'tr': 'Turkey', 'de': 'Germany', 'cz': 'Czechia', 'pt': 'Portugal', 'ae': 'United Arab Emirates', 'it': 'Italy', 'cn': 'China', 'lv': 'Latvia', 'nl': 'Netherlands', 'hk': 'Hong Kong', 'ca': 'Canada', 'br': 'Brazil', 'hu': 'Hungary', 'kr': 'Korea', 'si': 'Slovenia', 'au': 'Australia', 'my': 'Malaysia', 'ie': 'Ireland', 'ua': 'Ukraine', 'in': 'India', 'ma': 'Morocco', 'bg': 'Bulgaria', 'ng': 'Nigeria', 'il': 'Israel', 'se': 'Sweden', 'za': 'South Africa', 've': 'Venezuela', 'nz': 'New Zealand', 'jp': 'Japan', 'sg': 'Singapore', 'gr': 'Greece', 'mx': 'Mexico', 'co': 'Colombia', 'ro': 'Romania'}\n",
    "eng_country = {'sa', 'ie', 'sg', 'us', 'ph', 'au', 'my', 'za', 'in', 'nz', 'ca', 'gb', 'ng'}\n",
    "# print(' '.join(sorted(c for c in country_codes if c not in eng_country)))\n",
    "print(' '.join(sorted(eng_country)))"
   ],
   "metadata": {
    "collapsed": false,
    "ExecuteTime": {
     "end_time": "2023-10-30T13:49:55.981046200Z",
     "start_time": "2023-10-30T13:49:55.952827600Z"
    }
   },
   "id": "d1183e4e15937d0f"
  },
  {
   "cell_type": "code",
   "execution_count": 454,
   "outputs": [],
   "source": [
    "loc = 'za'"
   ],
   "metadata": {
    "collapsed": false,
    "ExecuteTime": {
     "end_time": "2023-10-30T13:54:07.857284200Z",
     "start_time": "2023-10-30T13:54:07.823102400Z"
    }
   },
   "id": "2c32eb047ef169ba"
  },
  {
   "cell_type": "code",
   "execution_count": 455,
   "outputs": [
    {
     "data": {
      "text/plain": "1"
     },
     "execution_count": 455,
     "metadata": {},
     "output_type": "execute_result"
    }
   ],
   "source": [
    "root = Path(r'C:\\Users\\anwan\\workspace\\local_data\\nnn-manual')\n",
    "dstroot = root / 'nnn-v1'\n",
    "dstroot.mkdir(exist_ok=True)\n",
    "recs = (root/'global-news-headlines-zip').glob(f'**/*{loc}.json')\n",
    "recs = list(recs)\n",
    "len(recs)"
   ],
   "metadata": {
    "collapsed": false,
    "ExecuteTime": {
     "end_time": "2023-10-30T13:54:08.154957700Z",
     "start_time": "2023-10-30T13:54:08.135611Z"
    }
   },
   "id": "43398fd9e3e3debe"
  },
  {
   "cell_type": "code",
   "execution_count": 456,
   "outputs": [
    {
     "data": {
      "text/plain": "  0%|          | 0/1 [00:00<?, ?it/s]",
      "application/vnd.jupyter.widget-view+json": {
       "version_major": 2,
       "version_minor": 0,
       "model_id": "280b532a277d4ab6a7117ec418da0d8e"
      }
     },
     "metadata": {},
     "output_type": "display_data"
    },
    {
     "data": {
      "text/plain": "63222"
     },
     "execution_count": 456,
     "metadata": {},
     "output_type": "execute_result"
    }
   ],
   "source": [
    "articles = []\n",
    "for rec in tqdm(recs):\n",
    "\tarticles.extend(load_json(rec))\n",
    "by_ID = {art['ID']: art for art in articles}\n",
    "len(articles)"
   ],
   "metadata": {
    "collapsed": false,
    "ExecuteTime": {
     "end_time": "2023-10-30T13:54:10.160113700Z",
     "start_time": "2023-10-30T13:54:08.555578400Z"
    }
   },
   "id": "b0ebe4d3381ce46c"
  },
  {
   "cell_type": "code",
   "execution_count": null,
   "outputs": [],
   "source": [],
   "metadata": {
    "collapsed": false
   },
   "id": "5b7d0987b6e40843"
  },
  {
   "cell_type": "code",
   "execution_count": 400,
   "outputs": [
    {
     "data": {
      "text/plain": "  0%|          | 0/46811 [00:00<?, ?it/s]",
      "application/vnd.jupyter.widget-view+json": {
       "version_major": 2,
       "version_minor": 0,
       "model_id": "669d6eb6e2df4438a02cfcedf769d635"
      }
     },
     "metadata": {},
     "output_type": "display_data"
    },
    {
     "data": {
      "text/plain": "(46811, 47374)"
     },
     "execution_count": 400,
     "metadata": {},
     "output_type": "execute_result"
    }
   ],
   "source": [
    "trpath = root/'translated'/f'completed_{loc}.jsonl'\n",
    "trfull = [json.loads(line) for line in tqdm(trpath.read_text().split('\\n'))]\n",
    "trs = {ID: {'title': tr['title'], 'description': tr['description']} for tr in trfull for ID in tr['ids']}\n",
    "len(trfull), len(trs)"
   ],
   "metadata": {
    "collapsed": false,
    "ExecuteTime": {
     "end_time": "2023-10-30T13:48:25.526211700Z",
     "start_time": "2023-10-30T13:48:24.869110300Z"
    }
   },
   "id": "d5b0e7abb63eab2d"
  },
  {
   "cell_type": "code",
   "execution_count": 401,
   "outputs": [
    {
     "data": {
      "text/plain": "  0%|          | 0/41310 [00:00<?, ?it/s]",
      "application/vnd.jupyter.widget-view+json": {
       "version_major": 2,
       "version_minor": 0,
       "model_id": "c08765ad3e914727b028bb245464a896"
      }
     },
     "metadata": {},
     "output_type": "display_data"
    },
    {
     "data": {
      "text/plain": "(41310, 47374)"
     },
     "execution_count": 401,
     "metadata": {},
     "output_type": "execute_result"
    }
   ],
   "source": [
    "cnpath = root / 'completed' / f'completed_{loc}.jsonl'\n",
    "cnfull = [json.loads(line) for line in tqdm(cnpath.read_text().split('\\n'))]\n",
    "_contents = {ID: tr['result'] for tr in cnfull for ID in json.loads(tr['id'])}\n",
    "issues = []\n",
    "for ID, tr in trs.items():\n",
    "\tif ID in _contents:\n",
    "\t\ttr['content'] = _contents[ID]\n",
    "\telse:\n",
    "\t\tissues.append(ID)\n",
    "len(cnfull), len(_contents)"
   ],
   "metadata": {
    "collapsed": false,
    "ExecuteTime": {
     "end_time": "2023-10-30T13:48:26.412700500Z",
     "start_time": "2023-10-30T13:48:25.537205400Z"
    }
   },
   "id": "99589110d5f8d488"
  },
  {
   "cell_type": "code",
   "execution_count": 402,
   "outputs": [
    {
     "data": {
      "text/plain": "0"
     },
     "execution_count": 402,
     "metadata": {},
     "output_type": "execute_result"
    }
   ],
   "source": [
    "missing = set(by_ID).symmetric_difference(set(trs))\n",
    "len(missing)"
   ],
   "metadata": {
    "collapsed": false,
    "ExecuteTime": {
     "end_time": "2023-10-30T13:48:26.487177Z",
     "start_time": "2023-10-30T13:48:26.435016900Z"
    }
   },
   "id": "90d4362cecacefc4"
  },
  {
   "cell_type": "code",
   "execution_count": 403,
   "outputs": [
    {
     "data": {
      "text/plain": "  0%|          | 0/47374 [00:00<?, ?it/s]",
      "application/vnd.jupyter.widget-view+json": {
       "version_major": 2,
       "version_minor": 0,
       "model_id": "2ba03ac7182e4a838f4cc86f138e2425"
      }
     },
     "metadata": {},
     "output_type": "display_data"
    }
   ],
   "source": [
    "for art in tqdm(articles):\n",
    "\tID = art['ID']\n",
    "\ttrans = trs.get(ID, {})\n",
    "\tfor key in ['title', 'description', 'content']:\n",
    "\t\tif key in trans and trans[key] is not None and len(trans[key]) and art[key] != trans[key]:\n",
    "\t\t\tart[f'en-{key}'] = trans[key]"
   ],
   "metadata": {
    "collapsed": false,
    "ExecuteTime": {
     "end_time": "2023-10-30T13:48:26.687478900Z",
     "start_time": "2023-10-30T13:48:26.447206500Z"
    }
   },
   "id": "f824efdad8286b25"
  },
  {
   "cell_type": "code",
   "execution_count": 457,
   "outputs": [
    {
     "name": "stdout",
     "output_type": "stream",
     "text": [
      "nnn-v1-za.json\n"
     ]
    }
   ],
   "source": [
    "dst = dstroot / f'nnn-v1-{loc}.json'\n",
    "# dst.write_text(json.dumps(articles), encoding='utf8');\n",
    "print(dst.name)"
   ],
   "metadata": {
    "collapsed": false,
    "ExecuteTime": {
     "end_time": "2023-10-30T13:54:14.047751600Z",
     "start_time": "2023-10-30T13:54:13.925945Z"
    }
   },
   "id": "854d3cee7ac31e3a"
  },
  {
   "cell_type": "code",
   "execution_count": 388,
   "outputs": [],
   "source": [],
   "metadata": {
    "collapsed": false,
    "ExecuteTime": {
     "end_time": "2023-10-30T13:48:02.479358100Z",
     "start_time": "2023-10-30T13:48:02.465512100Z"
    }
   },
   "id": "2f2cb94c931136ee"
  },
  {
   "cell_type": "code",
   "execution_count": 503,
   "outputs": [],
   "source": [
    "clusters = {\n",
    "\t'en': {'sa', 'ie', 'sg', 'us', 'ph', 'au', 'my', 'za', 'in', 'nz', 'ca', 'gb', 'ng'}, \n",
    "\t'es': {'ar', 've', 'co', 'cu', 'mx'}, \n",
    "\t'ar': {'ae', 'eg'}, \n",
    "\t'de': {'at', 'de', 'ch'}, \n",
    "\t'zh': {'tw', 'hk', 'cn'}, \n",
    "\t'fr': {'be', 'fr', 'ma'}, \n",
    "\t'pt': {'pt', 'br'},\n",
    "\t'bg': {'bg'},\n",
    "\t'cs': {'cz'},\n",
    "\t'tr': {'tr'},\n",
    "\t'th': {'th'},\n",
    "\t'ua': {'ua'},\n",
    "\t'el': {'gr'},\n",
    "\t'he': {'il'},\n",
    "\t'ja': {'jp'},\n",
    "\t'sr': {'rs'},\n",
    "}\n"
   ],
   "metadata": {
    "collapsed": false,
    "ExecuteTime": {
     "end_time": "2023-10-30T15:39:51.344865900Z",
     "start_time": "2023-10-30T15:39:51.312774900Z"
    }
   },
   "id": "ef765a6905da364f"
  },
  {
   "cell_type": "code",
   "execution_count": 506,
   "outputs": [
    {
     "name": "stdout",
     "output_type": "stream",
     "text": [
      "[]\n"
     ]
    }
   ],
   "source": [
    "known = {c for cs in clusters.values() for c in cs}\n",
    "missing = {c for c in country_codes if c not in known}\n",
    "print(sorted(missing))"
   ],
   "metadata": {
    "collapsed": false,
    "ExecuteTime": {
     "end_time": "2023-10-30T15:39:56.164420400Z",
     "start_time": "2023-10-30T15:39:56.148292800Z"
    }
   },
   "id": "fe63152030ccddb3"
  },
  {
   "cell_type": "code",
   "execution_count": 505,
   "outputs": [],
   "source": [
    "for m in missing:\n",
    "\ttry:\n",
    "\t\tlanguages.get(part1=m).name\n",
    "\texcept:\n",
    "\t\tpass\n",
    "\telse:\n",
    "\t\tclusters[m] = {m}"
   ],
   "metadata": {
    "collapsed": false,
    "ExecuteTime": {
     "end_time": "2023-10-30T15:39:53.578119200Z",
     "start_time": "2023-10-30T15:39:53.578119200Z"
    }
   },
   "id": "62ec6cbc58baf046"
  },
  {
   "cell_type": "code",
   "execution_count": null,
   "outputs": [],
   "source": [],
   "metadata": {
    "collapsed": false
   },
   "id": "29d49096095b4388"
  },
  {
   "cell_type": "code",
   "execution_count": 498,
   "outputs": [
    {
     "data": {
      "text/plain": "'Modern Greek (1453-)'"
     },
     "execution_count": 498,
     "metadata": {},
     "output_type": "execute_result"
    }
   ],
   "source": [
    "languages.get(part1='el').name\n",
    "# languages.get(name='Czech').part1"
   ],
   "metadata": {
    "collapsed": false,
    "ExecuteTime": {
     "end_time": "2023-10-30T15:38:27.524971200Z",
     "start_time": "2023-10-30T15:38:27.508646300Z"
    }
   },
   "id": "204a86ba9c02d3f7"
  },
  {
   "cell_type": "code",
   "execution_count": 508,
   "outputs": [
    {
     "name": "stdout",
     "output_type": "stream",
     "text": [
      "{'en': {'ie', 'my', 'gb', 'ca', 'za', 'ng', 'us', 'ph', 'in', 'sa', 'sg', 'au', 'nz'}, 'es': {'ar', 'co', 'mx', 'cu', 've'}, 'ar': {'eg', 'ae'}, 'de': {'at', 'de', 'ch'}, 'zh': {'tw', 'cn', 'hk'}, 'fr': {'ma', 'fr', 'be'}, 'pt': {'br', 'pt'}, 'bg': {'bg'}, 'cs': {'cz'}, 'tr': {'tr'}, 'th': {'th'}, 'ua': {'ua'}, 'el': {'gr'}, 'he': {'il'}, 'ja': {'jp'}, 'sr': {'rs'}, 'it': {'it'}, 'ru': {'ru'}, 'no': {'no'}, 'si': {'si'}, 'kr': {'kr'}, 'se': {'se'}, 'sk': {'sk'}, 'hu': {'hu'}, 'ro': {'ro'}, 'nl': {'nl'}, 'id': {'id'}, 'pl': {'pl'}, 'lv': {'lv'}, 'lt': {'lt'}}\n"
     ]
    }
   ],
   "source": [
    "print(clusters)"
   ],
   "metadata": {
    "collapsed": false,
    "ExecuteTime": {
     "end_time": "2023-10-30T15:40:36.109560400Z",
     "start_time": "2023-10-30T15:40:36.092426500Z"
    }
   },
   "id": "18329d93b6eeb3db"
  },
  {
   "cell_type": "code",
   "execution_count": 510,
   "outputs": [
    {
     "name": "stdout",
     "output_type": "stream",
     "text": [
      "{'en': ['au', 'ca', 'gb', 'ie', 'in', 'my', 'ng', 'nz', 'ph', 'sa', 'sg', 'us', 'za'], 'es': ['ar', 'co', 'cu', 'mx', 've'], 'de': ['at', 'ch', 'de'], 'fr': ['be', 'fr', 'ma'], 'zh': ['cn', 'hk', 'tw'], 'ar': ['ae', 'eg'], 'pt': ['br', 'pt'], 'bg': ['bg'], 'cs': ['cz'], 'el': ['gr'], 'he': ['il'], 'hu': ['hu'], 'id': ['id'], 'it': ['it'], 'ja': ['jp'], 'kr': ['kr'], 'lt': ['lt'], 'lv': ['lv'], 'nl': ['nl'], 'no': ['no'], 'pl': ['pl'], 'ro': ['ro'], 'ru': ['ru'], 'se': ['se'], 'si': ['si'], 'sk': ['sk'], 'sr': ['rs'], 'th': ['th'], 'tr': ['tr'], 'ua': ['ua']}\n"
     ]
    }
   ],
   "source": [
    "langs = {l:sorted(v) for l, v in sorted(clusters.items(), key=lambda i: (-len(i[1]), i[0]))}\n",
    "print(langs)"
   ],
   "metadata": {
    "collapsed": false,
    "ExecuteTime": {
     "end_time": "2023-10-30T15:42:37.949479600Z",
     "start_time": "2023-10-30T15:42:37.924426700Z"
    }
   },
   "id": "77b49815827f541e"
  },
  {
   "cell_type": "code",
   "execution_count": null,
   "outputs": [],
   "source": [],
   "metadata": {
    "collapsed": false
   },
   "id": "f58fbb6ab21bd7b2"
  },
  {
   "cell_type": "code",
   "execution_count": null,
   "outputs": [],
   "source": [],
   "metadata": {
    "collapsed": false
   },
   "id": "6c2910587ae9cbba"
  },
  {
   "cell_type": "code",
   "execution_count": null,
   "outputs": [],
   "source": [],
   "metadata": {
    "collapsed": false
   },
   "id": "7f151d34f365c4dd"
  }
 ],
 "metadata": {
  "kernelspec": {
   "display_name": "Python 3",
   "language": "python",
   "name": "python3"
  },
  "language_info": {
   "codemirror_mode": {
    "name": "ipython",
    "version": 2
   },
   "file_extension": ".py",
   "mimetype": "text/x-python",
   "name": "python",
   "nbconvert_exporter": "python",
   "pygments_lexer": "ipython2",
   "version": "2.7.6"
  }
 },
 "nbformat": 4,
 "nbformat_minor": 5
}
