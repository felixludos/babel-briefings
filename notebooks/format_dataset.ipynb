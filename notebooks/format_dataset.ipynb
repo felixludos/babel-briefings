{
 "cells": [
  {
   "cell_type": "code",
   "execution_count": 1,
   "outputs": [],
   "source": [
    "from pathlib import Path\n",
    "import random\n",
    "import pycountry\n",
    "from collections import Counter\n",
    "from tqdm.notebook import tqdm\n",
    "from tabulate import tabulate\n",
    "from dateutil import parser\n",
    "from datetime import datetime\n",
    "from omnibelt import load_json, save_json"
   ],
   "metadata": {
    "collapsed": false,
    "ExecuteTime": {
     "end_time": "2023-10-13T12:15:19.873730433Z",
     "start_time": "2023-10-13T12:15:19.816990303Z"
    }
   },
   "id": "9345de4c3c14794e"
  },
  {
   "cell_type": "code",
   "execution_count": 2,
   "outputs": [],
   "source": [
    "root = Path('/home/fleeb/workspace/local_data/nnn')"
   ],
   "metadata": {
    "collapsed": false,
    "ExecuteTime": {
     "end_time": "2023-10-13T12:15:20.000207794Z",
     "start_time": "2023-10-13T12:15:19.956488501Z"
    }
   },
   "id": "fb630b34ca9f487c"
  },
  {
   "cell_type": "code",
   "execution_count": 3,
   "outputs": [
    {
     "data": {
      "text/plain": "152506"
     },
     "execution_count": 3,
     "metadata": {},
     "output_type": "execute_result"
    }
   ],
   "source": [
    "recs = root.glob('**/*.json')\n",
    "recs = list(recs)\n",
    "len(recs)"
   ],
   "metadata": {
    "collapsed": false,
    "ExecuteTime": {
     "end_time": "2023-10-13T12:15:20.778127049Z",
     "start_time": "2023-10-13T12:15:20.147243208Z"
    }
   },
   "id": "eb66de478d6b4191"
  },
  {
   "cell_type": "code",
   "execution_count": 4,
   "outputs": [
    {
     "data": {
      "text/plain": "54"
     },
     "execution_count": 4,
     "metadata": {},
     "output_type": "execute_result"
    }
   ],
   "source": [
    "codes = set(p.stem.split('_')[1] for p in root.glob('**/general_*.json'))\n",
    "len(codes)"
   ],
   "metadata": {
    "collapsed": false,
    "ExecuteTime": {
     "end_time": "2023-10-13T12:15:14.520244860Z",
     "start_time": "2023-10-13T12:15:14.274280648Z"
    }
   },
   "id": "869b5c361f7153cf"
  },
  {
   "cell_type": "code",
   "execution_count": 5,
   "outputs": [
    {
     "data": {
      "text/plain": "PosixPath('/home/fleeb/workspace/local_data/nnn/raw_news/21-01-05/08-53-07/general_us.json')"
     },
     "execution_count": 5,
     "metadata": {},
     "output_type": "execute_result"
    }
   ],
   "source": [
    "path = random.choice(recs)\n",
    "path = random.choice(list(root.glob('**/general_us.json')))\n",
    "path"
   ],
   "metadata": {
    "collapsed": false,
    "ExecuteTime": {
     "end_time": "2023-10-13T12:15:15.296832299Z",
     "start_time": "2023-10-13T12:15:15.199607984Z"
    }
   },
   "id": "ea63848b2b3b6b33"
  },
  {
   "cell_type": "code",
   "execution_count": 4,
   "outputs": [],
   "source": [
    "def parse_date(date: str, time: str):\n",
    "\t# date = parser.parse(date)\n",
    "\t# time = parser.parse(time)\n",
    "\tdate = datetime.strptime(date, '%y-%m-%d')\n",
    "\ttime = datetime.strptime(time, '%H-%M-%S')\n",
    "\treturn datetime(date.year, date.month, date.day, time.hour, time.minute)"
   ],
   "metadata": {
    "collapsed": false,
    "ExecuteTime": {
     "end_time": "2023-10-13T12:15:23.532605487Z",
     "start_time": "2023-10-13T12:15:23.529911598Z"
    }
   },
   "id": "3d4b3c9df1f1d3e6"
  },
  {
   "cell_type": "code",
   "execution_count": 55,
   "outputs": [
    {
     "data": {
      "text/plain": "dict_keys(['status', 'totalResults', 'articles', 'timestamp', 'nation', 'category'])"
     },
     "execution_count": 55,
     "metadata": {},
     "output_type": "execute_result"
    }
   ],
   "source": [
    "content = load_json(path)\n",
    "content.keys()"
   ],
   "metadata": {
    "collapsed": false,
    "ExecuteTime": {
     "end_time": "2023-10-13T11:29:50.453300263Z",
     "start_time": "2023-10-13T11:29:50.436303796Z"
    }
   },
   "id": "25b18f8952ed8003"
  },
  {
   "cell_type": "code",
   "execution_count": 56,
   "outputs": [
    {
     "data": {
      "text/plain": "dict_keys(['source', 'author', 'title', 'description', 'url', 'urlToImage', 'publishedAt', 'content'])"
     },
     "execution_count": 56,
     "metadata": {},
     "output_type": "execute_result"
    }
   ],
   "source": [
    "art = content['articles'][0]#.keys()\n",
    "art.keys()"
   ],
   "metadata": {
    "collapsed": false,
    "ExecuteTime": {
     "end_time": "2023-10-13T11:29:50.641067355Z",
     "start_time": "2023-10-13T11:29:50.620275644Z"
    }
   },
   "id": "161be8b4175652c8"
  },
  {
   "cell_type": "code",
   "execution_count": 57,
   "outputs": [
    {
     "data": {
      "text/plain": "'2020-10-31T06:40:27Z'"
     },
     "execution_count": 57,
     "metadata": {},
     "output_type": "execute_result"
    }
   ],
   "source": [
    "art['publishedAt']"
   ],
   "metadata": {
    "collapsed": false,
    "ExecuteTime": {
     "end_time": "2023-10-13T11:29:51.722793622Z",
     "start_time": "2023-10-13T11:29:51.721285420Z"
    }
   },
   "id": "bb7601c25086716d"
  },
  {
   "cell_type": "code",
   "execution_count": 52,
   "outputs": [
    {
     "data": {
      "text/plain": "('general', 'hk', '2021-03-31T07:59:00Z')"
     },
     "execution_count": 52,
     "metadata": {},
     "output_type": "execute_result"
    }
   ],
   "source": [
    "*rest, scrape_date, scrape_time, _ = path.parts\n",
    "scraped = parse_date(scrape_date, scrape_time).strftime('%Y-%m-%dT%H:%M:%SZ')\n",
    "cat, loc = path.stem.split('_')\n",
    "cat, loc, scraped"
   ],
   "metadata": {
    "collapsed": false,
    "ExecuteTime": {
     "end_time": "2023-10-13T11:29:35.799307442Z",
     "start_time": "2023-10-13T11:29:35.797430566Z"
    }
   },
   "id": "2d76e13bed283d09"
  },
  {
   "cell_type": "code",
   "execution_count": 7,
   "outputs": [],
   "source": [
    "cats = {'general', 'business', 'entertainment', 'health', 'science', 'sports', 'technology'}"
   ],
   "metadata": {
    "collapsed": false,
    "ExecuteTime": {
     "end_time": "2023-10-13T12:15:37.404428859Z",
     "start_time": "2023-10-13T12:15:37.389571136Z"
    }
   },
   "id": "a29b8e4ea052d969"
  },
  {
   "cell_type": "code",
   "execution_count": 8,
   "outputs": [],
   "source": [
    "full = {}"
   ],
   "metadata": {
    "collapsed": false,
    "ExecuteTime": {
     "end_time": "2023-10-13T12:15:38.508232612Z",
     "start_time": "2023-10-13T12:15:38.505079510Z"
    }
   },
   "id": "7706e28e0432547f"
  },
  {
   "cell_type": "code",
   "execution_count": 9,
   "outputs": [
    {
     "data": {
      "text/plain": "  0%|          | 0/152506 [00:00<?, ?it/s]",
      "application/vnd.jupyter.widget-view+json": {
       "version_major": 2,
       "version_minor": 0,
       "model_id": "8e9ae5aec98e472fb5b6cd76ce900450"
      }
     },
     "metadata": {},
     "output_type": "display_data"
    },
    {
     "data": {
      "text/plain": "54"
     },
     "execution_count": 9,
     "metadata": {},
     "output_type": "execute_result"
    }
   ],
   "source": [
    "itr = tqdm(sorted(recs))\n",
    "for p in itr:\n",
    "\t*rest, scrape_date, scrape_time, _ = p.parts\n",
    "\tif scrape_date.startswith('bad'):\n",
    "\t\tcontinue\n",
    "\tscraped = parse_date(scrape_date, scrape_time).strftime('%Y-%m-%dT%H:%M:%SZ')\n",
    "\tcat, loc = p.stem.split('_')\n",
    "\tif cat not in cats:\n",
    "\t\tif loc not in cats:\n",
    "\t\t\traise ValueError(f'Unknown category {cat} {loc}')\n",
    "\t\tcat, loc = loc, cat\n",
    "\tcontent = load_json(p)\n",
    "\t# itr.set_description(f'{len(content[\"articles\"])} {cat}-{loc}')\n",
    "\tfor a in content['articles']:\n",
    "\t\ta.update({'location': loc, 'category': cat, 'collectedAt': scraped})\n",
    "\t\tfull.setdefault(loc, {}).setdefault(cat, []).append(a)\n",
    "len(full)\t"
   ],
   "metadata": {
    "collapsed": false,
    "ExecuteTime": {
     "end_time": "2023-10-13T12:16:32.309562749Z",
     "start_time": "2023-10-13T12:15:38.812505775Z"
    }
   },
   "id": "9091efa86bacc308"
  },
  {
   "cell_type": "code",
   "execution_count": 10,
   "outputs": [],
   "source": [
    "sec = full['us']"
   ],
   "metadata": {
    "collapsed": false,
    "ExecuteTime": {
     "end_time": "2023-10-13T12:16:32.309676990Z",
     "start_time": "2023-10-13T12:16:32.309190570Z"
    }
   },
   "id": "78273842837ec602"
  },
  {
   "cell_type": "code",
   "execution_count": 11,
   "outputs": [
    {
     "data": {
      "text/plain": "15323"
     },
     "execution_count": 11,
     "metadata": {},
     "output_type": "execute_result"
    }
   ],
   "source": [
    "len(sec['general'])"
   ],
   "metadata": {
    "collapsed": false,
    "ExecuteTime": {
     "end_time": "2023-10-13T12:16:32.309833409Z",
     "start_time": "2023-10-13T12:16:32.309310485Z"
    }
   },
   "id": "db625848b7041c2d"
  },
  {
   "cell_type": "code",
   "execution_count": 12,
   "outputs": [
    {
     "data": {
      "text/plain": "(150972, 137569)"
     },
     "execution_count": 12,
     "metadata": {},
     "output_type": "execute_result"
    }
   ],
   "source": [
    "base_raw = [a['title'] for arts in [sec['business'], sec['entertainment'], sec['health'], \n",
    "\t\t\t\t\t\t\t\t\tsec['science'], sec['sports'], sec['technology']] \n",
    "\t\t\tfor a in arts]\n",
    "base = Counter(base_raw)\n",
    "len(base_raw), len(base)"
   ],
   "metadata": {
    "collapsed": false,
    "ExecuteTime": {
     "end_time": "2023-10-13T12:16:32.361853388Z",
     "start_time": "2023-10-13T12:16:32.309362474Z"
    }
   },
   "id": "983efd7b406592a9"
  },
  {
   "cell_type": "code",
   "execution_count": 13,
   "outputs": [
    {
     "name": "stdout",
     "output_type": "stream",
     "text": [
      "Title                                                                                                    Count\n",
      "-----------------------------------------------------------------------------------------------------  -------\n",
      "Covid-19 vaccine tracker: View vaccinations by country - CNN                                                20\n",
      "The latest on the coronavirus pandemic and vaccines: Live updates - CNN                                     18\n",
      "Volcanoes Today - summary of volcanic activity world-wide - VolcanoDiscovery                                18\n",
      "The latest on the coronavirus pandemic: Live updates - CNN                                                  14\n",
      "Updated daily: Latest COVID-19 cases, deaths in Ohio, Kentucky, Indiana - WLWT Cincinnati                   12\n",
      "Coronavirus Map: Tracking COVID-19 cases across the Bay Area and California - San Francisco Chronicle       11\n",
      "Space calendar 2021: Rocket launches, sky events, missions & more! - Space.com                              11\n",
      "Brazil Coronavirus Map and Case Count - The New York Times                                                  10\n",
      "Samsung has updated these phones to Android 11 - 9to5Google                                                  8\n",
      "Google Issues Warning For 2 Billion Chrome Users - Forbes                                                    8\n"
     ]
    }
   ],
   "source": [
    "print(tabulate(base.most_common(10), headers=['Title', 'Count']))"
   ],
   "metadata": {
    "collapsed": false,
    "ExecuteTime": {
     "end_time": "2023-10-13T12:16:32.405317222Z",
     "start_time": "2023-10-13T12:16:32.363146210Z"
    }
   },
   "id": "3eb13e7210f3eff9"
  },
  {
   "cell_type": "code",
   "execution_count": 35,
   "outputs": [
    {
     "data": {
      "text/plain": "20"
     },
     "execution_count": 35,
     "metadata": {},
     "output_type": "execute_result"
    }
   ],
   "source": [
    "key = base.most_common(1)[0][0]\n",
    "res = [a for arts in sec.values() for a in arts if a['title'] == key]\n",
    "len(res)"
   ],
   "metadata": {
    "collapsed": false,
    "ExecuteTime": {
     "end_time": "2023-10-13T11:57:59.797595993Z",
     "start_time": "2023-10-13T11:57:59.795837112Z"
    }
   },
   "id": "39aa4bc874e6bd51"
  },
  {
   "cell_type": "code",
   "execution_count": 37,
   "outputs": [
    {
     "data": {
      "text/plain": "0.4091235397768061"
     },
     "execution_count": 37,
     "metadata": {},
     "output_type": "execute_result"
    }
   ],
   "source": [
    "novel = [a['title'] for a in sec['general'] if a['title'] not in base]\n",
    "len(novel)/len(sec['general'])"
   ],
   "metadata": {
    "collapsed": false,
    "ExecuteTime": {
     "end_time": "2023-10-13T12:06:51.541945900Z",
     "start_time": "2023-10-13T12:06:51.506740047Z"
    }
   },
   "id": "87a96789643ca759"
  },
  {
   "cell_type": "code",
   "execution_count": 15,
   "outputs": [
    {
     "data": {
      "text/plain": "general:   0%|          | 0/15323 [00:00<?, ?it/s]",
      "application/vnd.jupyter.widget-view+json": {
       "version_major": 2,
       "version_minor": 0,
       "model_id": "fa61dab7968e4e459420a9cddd43e34c"
      }
     },
     "metadata": {},
     "output_type": "display_data"
    },
    {
     "data": {
      "text/plain": "business:   0%|          | 0/27317 [00:00<?, ?it/s]",
      "application/vnd.jupyter.widget-view+json": {
       "version_major": 2,
       "version_minor": 0,
       "model_id": "1b06c8fb52ed40f3b1a213b706447c31"
      }
     },
     "metadata": {},
     "output_type": "display_data"
    },
    {
     "data": {
      "text/plain": "entertainment:   0%|          | 0/26990 [00:00<?, ?it/s]",
      "application/vnd.jupyter.widget-view+json": {
       "version_major": 2,
       "version_minor": 0,
       "model_id": "ef4b39e8d41d4126ad40624e496e7e66"
      }
     },
     "metadata": {},
     "output_type": "display_data"
    },
    {
     "data": {
      "text/plain": "health:   0%|          | 0/26543 [00:00<?, ?it/s]",
      "application/vnd.jupyter.widget-view+json": {
       "version_major": 2,
       "version_minor": 0,
       "model_id": "8e9c82e89336446e971242b17a0d4f41"
      }
     },
     "metadata": {},
     "output_type": "display_data"
    },
    {
     "data": {
      "text/plain": "science:   0%|          | 0/16251 [00:00<?, ?it/s]",
      "application/vnd.jupyter.widget-view+json": {
       "version_major": 2,
       "version_minor": 0,
       "model_id": "81a164d69b794632b68236c548cb2cf0"
      }
     },
     "metadata": {},
     "output_type": "display_data"
    },
    {
     "data": {
      "text/plain": "sports:   0%|          | 0/26498 [00:00<?, ?it/s]",
      "application/vnd.jupyter.widget-view+json": {
       "version_major": 2,
       "version_minor": 0,
       "model_id": "ea686ca92dc24fcd8f067dbaa67ebb0a"
      }
     },
     "metadata": {},
     "output_type": "display_data"
    },
    {
     "data": {
      "text/plain": "technology:   0%|          | 0/27373 [00:00<?, ?it/s]",
      "application/vnd.jupyter.widget-view+json": {
       "version_major": 2,
       "version_minor": 0,
       "model_id": "32b8803e829e4d8ca2c5aba9a197b382"
      }
     },
     "metadata": {},
     "output_type": "display_data"
    }
   ],
   "source": [
    "titles = {}\n",
    "for c, arts in sec.items():\n",
    "\tfor a in arts:\n",
    "\t\ttitles.setdefault(a['title'], set()).add(a['category'])"
   ],
   "metadata": {
    "collapsed": false,
    "ExecuteTime": {
     "end_time": "2023-10-13T12:16:45.408106009Z",
     "start_time": "2023-10-13T12:16:45.232246042Z"
    }
   },
   "id": "155f05395030a685"
  },
  {
   "cell_type": "code",
   "execution_count": 16,
   "outputs": [],
   "source": [
    "for v in titles.values():\n",
    "\tv.discard('general')"
   ],
   "metadata": {
    "collapsed": false,
    "ExecuteTime": {
     "end_time": "2023-10-13T12:18:29.087896859Z",
     "start_time": "2023-10-13T12:18:29.043812123Z"
    }
   },
   "id": "9f1194a1fcbc123"
  },
  {
   "cell_type": "code",
   "execution_count": 17,
   "outputs": [],
   "source": [
    "multis = {k: v for k, v in titles.items() if len(v) > 1}"
   ],
   "metadata": {
    "collapsed": false,
    "ExecuteTime": {
     "end_time": "2023-10-13T12:18:38.999355547Z",
     "start_time": "2023-10-13T12:18:38.982014086Z"
    }
   },
   "id": "23f6a1523138e5ea"
  },
  {
   "cell_type": "code",
   "execution_count": null,
   "outputs": [],
   "source": [],
   "metadata": {
    "collapsed": false
   },
   "id": "779a438811d2aad"
  },
  {
   "cell_type": "code",
   "execution_count": 35,
   "outputs": [
    {
     "name": "stdout",
     "output_type": "stream",
     "text": [
      "{'ae': 'United Arab Emirates', 'lv': 'Latvia', 'ro': 'Romania', 'ie': 'Ireland', 'tr': 'Turkey', 'hk': 'Hong Kong', 'br': 'Brazil', 'nl': 'Netherlands', 'mx': 'Mexico', 'ma': 'Morocco', 'il': 'Israel', 'se': 'Sweden', 'za': 'South Africa', 'cn': 'China', 'no': 'Norway', 'fr': 'France', 'at': 'Austria', 'si': 'Slovenia', 'it': 'Italy', 'ca': 'Canada', 'rs': 'Serbia', 'sk': 'Slovakia', 'bg': 'Bulgaria', 'my': 'Malaysia', 'sa': 'Saudi Arabia', 'in': 'India', 'tw': 'Taiwan, Province of China', 'ng': 'Nigeria', 'be': 'Belgium', 'kr': 'Korea, Republic of', 'ar': 'Argentina', 'lt': 'Lithuania', 'nz': 'New Zealand', 'id': 'Indonesia', 'co': 'Colombia', 'gb': 'United Kingdom', 'eg': 'Egypt', 'de': 'Germany', 'hu': 'Hungary', 'pl': 'Poland', 'ru': 'Russian Federation', 'sg': 'Singapore', 'cu': 'Cuba', 'pt': 'Portugal', 've': 'Venezuela, Bolivarian Republic of', 'cz': 'Czechia', 'us': 'United States', 'ua': 'Ukraine', 'gr': 'Greece', 'ch': 'Switzerland', 'jp': 'Japan', 'th': 'Thailand', 'ph': 'Philippines', 'au': 'Australia'}\n"
     ]
    }
   ],
   "source": [
    "\n",
    "\n",
    "country_names = {}\n",
    "\n",
    "for code in codes:\n",
    "    try:\n",
    "        country = pycountry.countries.get(alpha_2=code.upper())\n",
    "        country_names[code] = country.name\n",
    "    except AttributeError:\n",
    "        country_names[code] = None\n",
    "\n",
    "print(country_names)\n"
   ],
   "metadata": {
    "collapsed": false,
    "ExecuteTime": {
     "end_time": "2023-10-13T11:23:16.866388829Z",
     "start_time": "2023-10-13T11:23:16.849036587Z"
    }
   },
   "id": "2d359f899470d81e"
  },
  {
   "cell_type": "code",
   "execution_count": null,
   "outputs": [],
   "source": [],
   "metadata": {
    "collapsed": false
   },
   "id": "4a90fe81d694d8d4"
  },
  {
   "cell_type": "code",
   "execution_count": null,
   "outputs": [],
   "source": [],
   "metadata": {
    "collapsed": false
   },
   "id": "766fbea69c3ece1e"
  },
  {
   "cell_type": "code",
   "execution_count": null,
   "id": "initial_id",
   "metadata": {
    "collapsed": true
   },
   "outputs": [],
   "source": []
  }
 ],
 "metadata": {
  "kernelspec": {
   "display_name": "Python 3",
   "language": "python",
   "name": "python3"
  },
  "language_info": {
   "codemirror_mode": {
    "name": "ipython",
    "version": 2
   },
   "file_extension": ".py",
   "mimetype": "text/x-python",
   "name": "python",
   "nbconvert_exporter": "python",
   "pygments_lexer": "ipython2",
   "version": "2.7.6"
  }
 },
 "nbformat": 4,
 "nbformat_minor": 5
}
