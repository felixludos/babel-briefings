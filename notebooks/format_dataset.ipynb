{
 "cells": [
  {
   "cell_type": "code",
   "execution_count": 1,
   "outputs": [],
   "source": [
    "from pathlib import Path\n",
    "import random\n",
    "import pycountry\n",
    "from collections import Counter\n",
    "from tqdm.notebook import tqdm\n",
    "from tabulate import tabulate\n",
    "from dateutil import parser\n",
    "from datetime import datetime\n",
    "from omnibelt import load_json, save_json"
   ],
   "metadata": {
    "collapsed": false,
    "ExecuteTime": {
     "end_time": "2023-10-13T15:41:13.906230264Z",
     "start_time": "2023-10-13T15:41:13.848944101Z"
    }
   },
   "id": "9345de4c3c14794e"
  },
  {
   "cell_type": "code",
   "execution_count": 21,
   "outputs": [],
   "source": [
    "def parse_date(date: str, time: str):\n",
    "\t# date = parser.parse(date)\n",
    "\t# time = parser.parse(time)\n",
    "\tdate = datetime.strptime(date, '%y-%m-%d')\n",
    "\ttime = datetime.strptime(time, '%H-%M-%S')\n",
    "\treturn datetime(date.year, date.month, date.day, time.hour, time.minute)\n",
    "\n",
    "def get_ident(art):\n",
    "\treturn (art['title'], art['publishedAt'])\n",
    "\treturn art['url']\n",
    "\treturn (art['title'], art['publishedAt'], art['url'])"
   ],
   "metadata": {
    "collapsed": false,
    "ExecuteTime": {
     "end_time": "2023-10-13T18:50:52.226547632Z",
     "start_time": "2023-10-13T18:50:52.177561982Z"
    }
   },
   "id": "34f48a7ff0a72197"
  },
  {
   "cell_type": "code",
   "execution_count": 4,
   "outputs": [
    {
     "data": {
      "text/plain": "152506"
     },
     "execution_count": 4,
     "metadata": {},
     "output_type": "execute_result"
    }
   ],
   "source": [
    "root = Path('/home/fleeb/workspace/local_data/nnn')\n",
    "recs = (root/'raw_news').glob('**/*.json')\n",
    "recs = list(recs)\n",
    "len(recs)"
   ],
   "metadata": {
    "collapsed": false,
    "ExecuteTime": {
     "end_time": "2023-10-13T15:41:55.180584271Z",
     "start_time": "2023-10-13T15:41:54.597467622Z"
    }
   },
   "id": "fb630b34ca9f487c"
  },
  {
   "cell_type": "code",
   "execution_count": 4,
   "outputs": [
    {
     "data": {
      "text/plain": "54"
     },
     "execution_count": 4,
     "metadata": {},
     "output_type": "execute_result"
    }
   ],
   "source": [
    "codes = set(p.stem.split('_')[1] for p in root.glob('**/general_*.json'))\n",
    "len(codes)"
   ],
   "metadata": {
    "collapsed": false,
    "ExecuteTime": {
     "end_time": "2023-10-13T14:00:02.630041405Z",
     "start_time": "2023-10-13T14:00:02.413570751Z"
    }
   },
   "id": "869b5c361f7153cf"
  },
  {
   "cell_type": "code",
   "execution_count": 5,
   "outputs": [],
   "source": [
    "all_categories = {'general', 'business', 'entertainment', 'health', 'science', 'sports', 'technology'}\n",
    "def load_fixed(p: Path):\n",
    "\t*rest, scrape_date, scrape_time, _ = p.parts\n",
    "\tscraped = parse_date(scrape_date, scrape_time).strftime('%Y-%m-%dT%H:%M:%SZ')\n",
    "\tcat, loc = p.stem.split('_')\n",
    "\tif cat not in all_categories:\n",
    "\t\tif loc not in all_categories:\n",
    "\t\t\traise ValueError(f'Unknown category {cat} {loc}')\n",
    "\t\tcat, loc = loc, cat\n",
    "\tcontent = load_json(p)\n",
    "\t# itr.set_description(f'{len(content[\"articles\"])} {cat}-{loc}')\n",
    "\tfor a in content['articles']:\n",
    "\t\ta.update({'location': loc, 'category': cat, 'collectedAt': scraped})\n",
    "\treturn content['articles']"
   ],
   "metadata": {
    "collapsed": false,
    "ExecuteTime": {
     "end_time": "2023-10-13T14:00:05.525124807Z",
     "start_time": "2023-10-13T14:00:05.521156653Z"
    }
   },
   "id": "341000c925c480b"
  },
  {
   "cell_type": "code",
   "execution_count": 6,
   "outputs": [],
   "source": [
    "all_articles = []"
   ],
   "metadata": {
    "collapsed": false,
    "ExecuteTime": {
     "end_time": "2023-10-13T14:00:05.931644695Z",
     "start_time": "2023-10-13T14:00:05.928001263Z"
    }
   },
   "id": "943bbdbe442f7d12"
  },
  {
   "cell_type": "code",
   "execution_count": 7,
   "outputs": [
    {
     "data": {
      "text/plain": "  0%|          | 0/152506 [00:00<?, ?it/s]",
      "application/vnd.jupyter.widget-view+json": {
       "version_major": 2,
       "version_minor": 0,
       "model_id": "606edc4294ee490cae4e572d3c5e5537"
      }
     },
     "metadata": {},
     "output_type": "display_data"
    },
    {
     "data": {
      "text/plain": "7419387"
     },
     "execution_count": 7,
     "metadata": {},
     "output_type": "execute_result"
    }
   ],
   "source": [
    "for p in tqdm(sorted(recs)):\n",
    "\t*_, scrape_date, scrape_time, _ = p.parts\n",
    "\tif scrape_date.startswith('bad'):\n",
    "\t\tcontinue\n",
    "\tall_articles.extend(load_fixed(p))\n",
    "len(all_articles)"
   ],
   "metadata": {
    "collapsed": false,
    "ExecuteTime": {
     "end_time": "2023-10-13T14:00:59.545565920Z",
     "start_time": "2023-10-13T14:00:08.346319436Z"
    }
   },
   "id": "8301062d7f02477e"
  },
  {
   "cell_type": "code",
   "execution_count": 32,
   "outputs": [
    {
     "data": {
      "text/plain": "  0%|          | 0/7419387 [00:00<?, ?it/s]",
      "application/vnd.jupyter.widget-view+json": {
       "version_major": 2,
       "version_minor": 0,
       "model_id": "836954c00b82414f93f71bf77d030c30"
      }
     },
     "metadata": {},
     "output_type": "display_data"
    },
    {
     "data": {
      "text/plain": "4719199"
     },
     "execution_count": 32,
     "metadata": {},
     "output_type": "execute_result"
    }
   ],
   "source": [
    "unique = {}\n",
    "for a in tqdm(all_articles):\n",
    "\tunique.setdefault(get_ident(a), []).append(a)\n",
    "len(unique)"
   ],
   "metadata": {
    "collapsed": false,
    "ExecuteTime": {
     "end_time": "2023-10-13T14:27:00.864578504Z",
     "start_time": "2023-10-13T14:26:49.653625234Z"
    }
   },
   "id": "cbd356c584644739"
  },
  {
   "cell_type": "code",
   "execution_count": 33,
   "outputs": [
    {
     "data": {
      "text/plain": "4719199"
     },
     "execution_count": 33,
     "metadata": {},
     "output_type": "execute_result"
    }
   ],
   "source": [
    "nums = Counter({k: len(v) for k, v in unique.items()})\n",
    "len(nums)"
   ],
   "metadata": {
    "collapsed": false,
    "ExecuteTime": {
     "end_time": "2023-10-13T14:27:11.561270132Z",
     "start_time": "2023-10-13T14:27:10.225832819Z"
    }
   },
   "id": "fa91a4ff4bc2bbcc"
  },
  {
   "cell_type": "code",
   "execution_count": 34,
   "outputs": [
    {
     "data": {
      "text/plain": "(586, 507, 476, 424, 408, 386, 384, 381, 371, 345)"
     },
     "execution_count": 34,
     "metadata": {},
     "output_type": "execute_result"
    }
   ],
   "source": [
    "keys, most = zip(*nums.most_common(10))\n",
    "most\n",
    "# print(tabulate([[*k[:-1], v] for k,v in nums.most_common(10)], headers=['Title', 'Published', 'Count']))"
   ],
   "metadata": {
    "collapsed": false,
    "ExecuteTime": {
     "end_time": "2023-10-13T14:27:21.733961080Z",
     "start_time": "2023-10-13T14:27:21.389282284Z"
    }
   },
   "id": "ce3b7d75d6897887"
  },
  {
   "cell_type": "code",
   "execution_count": 35,
   "outputs": [],
   "source": [
    "def article_difference(a, b):\n",
    "\treturn {k: (a[k], b[k]) for k in a if a[k] != b[k]}"
   ],
   "metadata": {
    "collapsed": false,
    "ExecuteTime": {
     "end_time": "2023-10-13T14:27:36.632636245Z",
     "start_time": "2023-10-13T14:27:36.627964248Z"
    }
   },
   "id": "9c6e7353f8a25253"
  },
  {
   "cell_type": "code",
   "execution_count": 36,
   "outputs": [],
   "source": [
    "most_ident, most_count = nums.most_common(1)[0]"
   ],
   "metadata": {
    "collapsed": false,
    "ExecuteTime": {
     "end_time": "2023-10-13T14:27:46.823454572Z",
     "start_time": "2023-10-13T14:27:46.822187945Z"
    }
   },
   "id": "d79ca4b8b9e0394f"
  },
  {
   "cell_type": "code",
   "execution_count": 37,
   "outputs": [
    {
     "data": {
      "text/plain": "586"
     },
     "execution_count": 37,
     "metadata": {},
     "output_type": "execute_result"
    }
   ],
   "source": [
    "iv = unique[most_ident]\n",
    "len(iv)"
   ],
   "metadata": {
    "collapsed": false,
    "ExecuteTime": {
     "end_time": "2023-10-13T14:27:46.839241261Z",
     "start_time": "2023-10-13T14:27:46.824616807Z"
    }
   },
   "id": "23d0ab9fe262d040"
  },
  {
   "cell_type": "code",
   "execution_count": 38,
   "outputs": [],
   "source": [
    "diffs = [article_difference(a, iv[0]) for a in iv[1:]]"
   ],
   "metadata": {
    "collapsed": false,
    "ExecuteTime": {
     "end_time": "2023-10-13T14:27:46.855292056Z",
     "start_time": "2023-10-13T14:27:46.838318225Z"
    }
   },
   "id": "7f50f780aa9f5959"
  },
  {
   "cell_type": "code",
   "execution_count": 42,
   "outputs": [
    {
     "data": {
      "text/plain": "  0%|          | 0/4719199 [00:00<?, ?it/s]",
      "application/vnd.jupyter.widget-view+json": {
       "version_major": 2,
       "version_minor": 0,
       "model_id": "6d7bf8ce208242a18c2ddbdf54f36f8f"
      }
     },
     "metadata": {},
     "output_type": "display_data"
    }
   ],
   "source": [
    "unique_locs = {}\n",
    "for ident, arts in tqdm(unique.items()):\n",
    "\tlocs = set(a['location'] for a in arts)\n",
    "\tif len(locs) == 1:\n",
    "\t\tunique_locs.setdefault(locs.pop(), []).append(ident)\n",
    "uloc_nums = {code: len(v) for code, v in unique_locs.items()}"
   ],
   "metadata": {
    "collapsed": false,
    "ExecuteTime": {
     "end_time": "2023-10-13T14:34:38.566993448Z",
     "start_time": "2023-10-13T14:34:34.825350812Z"
    }
   },
   "id": "103b4bc86dc4d55e"
  },
  {
   "cell_type": "code",
   "execution_count": 44,
   "outputs": [
    {
     "data": {
      "text/plain": "  0%|          | 0/4719199 [00:00<?, ?it/s]",
      "application/vnd.jupyter.widget-view+json": {
       "version_major": 2,
       "version_minor": 0,
       "model_id": "75f68df323684207aacb3fe5ffd52519"
      }
     },
     "metadata": {},
     "output_type": "display_data"
    },
    {
     "data": {
      "text/plain": "5109"
     },
     "execution_count": 44,
     "metadata": {},
     "output_type": "execute_result"
    }
   ],
   "source": [
    "locset = {}\n",
    "for ident, arts in tqdm(unique.items()):\n",
    "\tlocs = set(a['location'] for a in arts)\n",
    "\tlocset.setdefault(tuple(sorted(locs)), []).append(ident)\n",
    "len(locset)"
   ],
   "metadata": {
    "collapsed": false,
    "ExecuteTime": {
     "end_time": "2023-10-13T14:40:09.034826971Z",
     "start_time": "2023-10-13T14:40:04.465684249Z"
    }
   },
   "id": "4df5254d9bee2418"
  },
  {
   "cell_type": "code",
   "execution_count": 47,
   "outputs": [
    {
     "data": {
      "text/plain": "('au', 'ca', 'gb', 'ie', 'in', 'my', 'ng', 'nz', 'ph', 'sa', 'sg', 'us', 'za')"
     },
     "execution_count": 47,
     "metadata": {},
     "output_type": "execute_result"
    }
   ],
   "source": [
    "plu = max(locset, key=lambda x: len(x))\n",
    "plu"
   ],
   "metadata": {
    "collapsed": false,
    "ExecuteTime": {
     "end_time": "2023-10-13T14:44:22.093808503Z",
     "start_time": "2023-10-13T14:44:22.045098890Z"
    }
   },
   "id": "593502126e458fd9"
  },
  {
   "cell_type": "code",
   "execution_count": 49,
   "outputs": [
    {
     "data": {
      "text/plain": "\"Modern Human Ancestry Won't Be Traced to a Single Point - Ancient Origins, 2021-02-13T17:50:00Z\""
     },
     "execution_count": 49,
     "metadata": {},
     "output_type": "execute_result"
    }
   ],
   "source": [
    "sample = random.choice(locset[plu])\n",
    "sample"
   ],
   "metadata": {
    "collapsed": false,
    "ExecuteTime": {
     "end_time": "2023-10-13T14:44:50.893922935Z",
     "start_time": "2023-10-13T14:44:50.893496853Z"
    }
   },
   "id": "13aa6c9396a6e5ca"
  },
  {
   "cell_type": "code",
   "execution_count": 50,
   "outputs": [
    {
     "data": {
      "text/plain": "17"
     },
     "execution_count": 50,
     "metadata": {},
     "output_type": "execute_result"
    }
   ],
   "source": [
    "arts = unique[sample]\n",
    "len(arts)"
   ],
   "metadata": {
    "collapsed": false,
    "ExecuteTime": {
     "end_time": "2023-10-13T14:45:12.570178547Z",
     "start_time": "2023-10-13T14:45:12.541797927Z"
    }
   },
   "id": "1938af2171be14b7"
  },
  {
   "cell_type": "code",
   "execution_count": 51,
   "outputs": [],
   "source": [
    "diffs = [article_difference(a, arts[0]) for a in arts[1:]]"
   ],
   "metadata": {
    "collapsed": false,
    "ExecuteTime": {
     "end_time": "2023-10-13T14:45:29.046292922Z",
     "start_time": "2023-10-13T14:45:28.999628800Z"
    }
   },
   "id": "6e36cb25fa9da335"
  },
  {
   "cell_type": "code",
   "execution_count": null,
   "outputs": [],
   "source": [],
   "metadata": {
    "collapsed": false
   },
   "id": "ebbb560e7d25c14f"
  },
  {
   "cell_type": "code",
   "execution_count": 62,
   "outputs": [
    {
     "data": {
      "text/plain": "  0%|          | 0/4719199 [00:00<?, ?it/s]",
      "application/vnd.jupyter.widget-view+json": {
       "version_major": 2,
       "version_minor": 0,
       "model_id": "da2695d2f07f4b659da953c3a2967cc2"
      }
     },
     "metadata": {},
     "output_type": "display_data"
    },
    {
     "data": {
      "text/plain": "(4719199, 0)"
     },
     "execution_count": 62,
     "metadata": {},
     "output_type": "execute_result"
    }
   ],
   "source": [
    "fixed = {}\n",
    "bad = []\n",
    "bad_keys = {'title', 'author', 'publishedAt', 'url', 'description', 'content', 'urlToImage'}\n",
    "itr = tqdm(unique.items())\n",
    "for ident, arts in itr:\n",
    "\titr.set_description(f'bad={len(bad)}')\n",
    "\tassert ident not in fixed, str(ident)\n",
    "\tif len(arts) > 1:\n",
    "\t\tbad_overlap = set(x for a in arts[1:] for xs in article_difference(a, arts[0]) for x in xs if x in bad_keys)\n",
    "\t\tif bad_overlap:\n",
    "\t\t\tbad.append(ident)\n",
    "\t\t\tcontinue\n",
    "\tinstances = set((a['collectedAt'], a['location'], a['category']) for a in arts)\n",
    "\t# if len(instances) != len(arts):\n",
    "\t# \tbad.append(ident)\n",
    "\t# \tcontinue\n",
    "\tinfo = arts[0].copy()\n",
    "\t# info['category'] = list(sorted(set(a['category'] for a in arts)))\n",
    "\tinfo['instances'] = [{'collectedAt': col, 'location': loc, 'category': cat} for col, loc, cat in sorted(instances)]\n",
    "\tif info['publishedAt'] == '1970-01-01T00:00:00Z':\n",
    "\t\tinfo['publishedAt'] = None\n",
    "\tinfo['source-id'] = info['source']['id']\n",
    "\tinfo['source-name'] = info['source']['name']\n",
    "\tdel info['category'], info['location'], info['collectedAt'], info['source']\n",
    "\tfixed[ident] = info\n",
    "\n",
    "len(fixed), len(bad)"
   ],
   "metadata": {
    "collapsed": false,
    "ExecuteTime": {
     "end_time": "2023-10-13T15:29:59.149597219Z",
     "start_time": "2023-10-13T15:27:29.405471848Z"
    }
   },
   "id": "25b720e809d205b8"
  },
  {
   "cell_type": "code",
   "execution_count": 67,
   "outputs": [
    {
     "data": {
      "text/plain": "('2020-08-07T18:53:00Z', '2021-11-29T09:46:00Z')"
     },
     "execution_count": 67,
     "metadata": {},
     "output_type": "execute_result"
    }
   ],
   "source": [
    "collecteds = [inst['collectedAt'] for a in fixed.values() for inst in a['instances']]\n",
    "min(collecteds), max(collecteds)"
   ],
   "metadata": {
    "collapsed": false,
    "ExecuteTime": {
     "end_time": "2023-10-13T15:33:17.135126007Z",
     "start_time": "2023-10-13T15:33:16.360374684Z"
    }
   },
   "id": "9f09b419c4ab15e"
  },
  {
   "cell_type": "code",
   "execution_count": 70,
   "outputs": [
    {
     "data": {
      "text/plain": "5"
     },
     "execution_count": 70,
     "metadata": {},
     "output_type": "execute_result"
    }
   ],
   "source": [
    "num_pub_issue = sum(1 for a in fixed.values() if a['publishedAt'] is None)\n",
    "num_pub_issue"
   ],
   "metadata": {
    "collapsed": false,
    "ExecuteTime": {
     "end_time": "2023-10-13T15:37:19.483950878Z",
     "start_time": "2023-10-13T15:37:19.163096824Z"
    }
   },
   "id": "a57c0d3c28c1e411"
  },
  {
   "cell_type": "code",
   "execution_count": 72,
   "outputs": [],
   "source": [
    "full_unique = list(fixed.values())"
   ],
   "metadata": {
    "collapsed": false,
    "ExecuteTime": {
     "end_time": "2023-10-13T15:38:45.928561969Z",
     "start_time": "2023-10-13T15:38:45.927736470Z"
    }
   },
   "id": "17c564300cd8755b"
  },
  {
   "cell_type": "code",
   "execution_count": 73,
   "outputs": [],
   "source": [
    "# save_json(full_unique, root/'fixed-full.json')"
   ],
   "metadata": {
    "collapsed": false,
    "ExecuteTime": {
     "end_time": "2023-10-13T15:40:01.261927579Z",
     "start_time": "2023-10-13T15:39:00.201036936Z"
    }
   },
   "id": "8eb363d37ca189c3"
  },
  {
   "cell_type": "code",
   "execution_count": null,
   "outputs": [],
   "source": [],
   "metadata": {
    "collapsed": false
   },
   "id": "8c4f7ca3e4ec0733"
  },
  {
   "cell_type": "code",
   "execution_count": 6,
   "outputs": [],
   "source": [
    "# Identify languages"
   ],
   "metadata": {
    "collapsed": false,
    "ExecuteTime": {
     "end_time": "2023-10-13T15:43:20.685088382Z",
     "start_time": "2023-10-13T15:43:20.639878295Z"
    }
   },
   "id": "8eb7c1920961b85b"
  },
  {
   "cell_type": "code",
   "execution_count": 5,
   "outputs": [
    {
     "data": {
      "text/plain": "4719199"
     },
     "execution_count": 5,
     "metadata": {},
     "output_type": "execute_result"
    }
   ],
   "source": [
    "articles = load_json(root/'fixed-full.json')\n",
    "len(articles)"
   ],
   "metadata": {
    "collapsed": false,
    "ExecuteTime": {
     "end_time": "2023-10-13T15:42:46.586408732Z",
     "start_time": "2023-10-13T15:42:10.822658396Z"
    }
   },
   "id": "a9f5b04de151f91e"
  },
  {
   "cell_type": "code",
   "execution_count": 14,
   "outputs": [],
   "source": [
    "from langdetect import detect, LangDetectException"
   ],
   "metadata": {
    "collapsed": false,
    "ExecuteTime": {
     "end_time": "2023-10-13T15:51:22.555572103Z",
     "start_time": "2023-10-13T15:51:22.540994463Z"
    }
   },
   "id": "7901e7d78f3ab332"
  },
  {
   "cell_type": "code",
   "execution_count": 9,
   "outputs": [
    {
     "data": {
      "text/plain": "{'author': 'Mariana Leiva',\n 'title': 'El dólar CCL y el MEP saltan hasta 2,6% y superan los $124 - ámbito.com',\n 'description': 'El dólar Contado con Liquidación avanza a $126,75, mientras el Bolsa asciende a $124,36. Sucede en el cierre de la semana, donde se acordó con los acreedores para la reestructuración de la deuda.',\n 'url': 'https://www.ambito.com/finanzas/banco-central/el-dolar-ccl-y-el-mep-saltan-26-y-superan-los-124-n5123188',\n 'urlToImage': 'https://media.ambito.com/adjuntos/239/imagenes/037/625/0037625472.jpg',\n 'publishedAt': '2020-08-07T15:36:46Z',\n 'content': 'El dólar MEP, o Bolsa -similar operación a la del CCL pero dentro del país- trepa un 2,2% ($2,68) a $124,36, con lo cual la brecha con el oficial se estira al 70,9%.\\r\\nDurante el comienzo de la semana… [+3031 chars]',\n 'instances': [{'collectedAt': '2020-08-07T18:53:00Z',\n   'location': 'ar',\n   'category': 'general'}],\n 'source-id': None,\n 'source-name': 'ámbito.com'}"
     },
     "execution_count": 9,
     "metadata": {},
     "output_type": "execute_result"
    }
   ],
   "source": [
    "art = articles[0]\n",
    "art"
   ],
   "metadata": {
    "collapsed": false,
    "ExecuteTime": {
     "end_time": "2023-10-13T15:43:44.161774524Z",
     "start_time": "2023-10-13T15:43:44.111846570Z"
    }
   },
   "id": "34a18978e151785d"
  },
  {
   "cell_type": "code",
   "execution_count": 16,
   "outputs": [],
   "source": [
    "# votes = [detect(art['title'])]\n",
    "# if art['description']:\n",
    "# \tvotes.append(detect(art['description']))\n",
    "# if art['content']:\n",
    "# \tvotes.append(detect(art['content']))\n",
    "# votes"
   ],
   "metadata": {
    "collapsed": false,
    "ExecuteTime": {
     "end_time": "2023-10-13T15:54:31.642415577Z",
     "start_time": "2023-10-13T15:54:31.598370790Z"
    }
   },
   "id": "b1056ad8e188a3aa"
  },
  {
   "cell_type": "code",
   "execution_count": null,
   "outputs": [
    {
     "data": {
      "text/plain": "  0%|          | 0/4719199 [00:00<?, ?it/s]",
      "application/vnd.jupyter.widget-view+json": {
       "version_major": 2,
       "version_minor": 0,
       "model_id": "23a4c235c378445b979c061c98f5ddfe"
      }
     },
     "metadata": {},
     "output_type": "display_data"
    }
   ],
   "source": [
    "langs = {}\n",
    "bad = {}\n",
    "bad_strs = {}\n",
    "itr = tqdm(articles)\n",
    "for art in itr:\n",
    "\t# itr.set_description(f'done={len(langs)}, bad={len(bad)}')\n",
    "\tident = get_ident(art)\n",
    "\tif ident in langs or ident in bad:\n",
    "\t\tcontinue\n",
    "\tvotes = [detect(art['title'])]\n",
    "\t# try:\n",
    "\t# \tif art['description']:\n",
    "\t# \t\tvotes.append(detect(art['description']))\n",
    "\t# except LangDetectException:\n",
    "\t# \tbad_strs.setdefault(ident, []).append('description')\n",
    "\t# try:\n",
    "\t# \tif art['content']:\n",
    "\t# \t\tvotes.append(detect(art['content']))\n",
    "\t# except LangDetectException:\n",
    "\t# \tbad_strs.setdefault(ident, []).append('content')\n",
    "\t# if len(set(votes)) > 1:\n",
    "\t# \tbad[ident] = votes\n",
    "\t# \tcontinue\n",
    "\tlangs[ident] = votes[0]"
   ],
   "metadata": {
    "collapsed": false,
    "is_executing": true,
    "ExecuteTime": {
     "start_time": "2023-10-13T18:51:10.133838539Z"
    }
   },
   "id": "6ec88c9c309bb5fb"
  },
  {
   "cell_type": "code",
   "execution_count": null,
   "outputs": [],
   "source": [
    "save_json(langs, root/'temp-langs.json')"
   ],
   "metadata": {
    "collapsed": false,
    "is_executing": true
   },
   "id": "d09fd2c8107e2ef6"
  },
  {
   "cell_type": "code",
   "execution_count": null,
   "outputs": [],
   "source": [],
   "metadata": {
    "collapsed": false
   },
   "id": "2e626e326a494870"
  },
  {
   "cell_type": "code",
   "execution_count": null,
   "outputs": [],
   "source": [],
   "metadata": {
    "collapsed": false
   },
   "id": "c04f207aeb65a9c3"
  },
  {
   "cell_type": "code",
   "execution_count": null,
   "outputs": [],
   "source": [],
   "metadata": {
    "collapsed": false
   },
   "id": "c7c9b887a83c0cab"
  },
  {
   "cell_type": "code",
   "execution_count": null,
   "outputs": [],
   "source": [],
   "metadata": {
    "collapsed": false
   },
   "id": "6caa3f4c3b9bef5d"
  },
  {
   "cell_type": "code",
   "execution_count": null,
   "outputs": [],
   "source": [
    "\n",
    "\n",
    "# Your text string\n",
    "text = \"Bonjour tout le monde\"\n",
    "\n",
    "# Detect the language\n",
    "language = detect(text)\n",
    "\n",
    "print(f\"The language is: {language}\")\n"
   ],
   "metadata": {
    "collapsed": false
   },
   "id": "9741af5406d254ff"
  },
  {
   "cell_type": "code",
   "execution_count": null,
   "outputs": [],
   "source": [],
   "metadata": {
    "collapsed": false
   },
   "id": "18fd81a4bda485f5"
  },
  {
   "cell_type": "code",
   "execution_count": 58,
   "outputs": [],
   "source": [
    "xs = unique[bad[0]]"
   ],
   "metadata": {
    "collapsed": false,
    "ExecuteTime": {
     "end_time": "2023-10-13T15:15:42.368377228Z",
     "start_time": "2023-10-13T15:15:42.295862611Z"
    }
   },
   "id": "4b95b39cd5dc7269"
  },
  {
   "cell_type": "code",
   "execution_count": 59,
   "outputs": [],
   "source": [
    "diffs = [article_difference(a, xs[0]) for a in xs[1:]]"
   ],
   "metadata": {
    "collapsed": false,
    "ExecuteTime": {
     "end_time": "2023-10-13T15:16:50.501580786Z",
     "start_time": "2023-10-13T15:16:50.458700702Z"
    }
   },
   "id": "79be7c106f4ae5c5"
  },
  {
   "cell_type": "code",
   "execution_count": null,
   "outputs": [],
   "source": [],
   "metadata": {
    "collapsed": false
   },
   "id": "26adf2b68c2ff2d"
  },
  {
   "cell_type": "code",
   "execution_count": null,
   "outputs": [],
   "source": [
    "path = random.choice(recs)\n",
    "path = random.choice(list(root.glob('**/general_us.json')))\n",
    "path"
   ],
   "metadata": {
    "collapsed": false
   },
   "id": "a2cf2e472c2d6587"
  },
  {
   "cell_type": "code",
   "execution_count": null,
   "outputs": [],
   "source": [
    "content = load_json(path)\n",
    "content.keys()"
   ],
   "metadata": {
    "collapsed": false
   },
   "id": "b5e080e484cabeb3"
  },
  {
   "cell_type": "code",
   "execution_count": 56,
   "outputs": [
    {
     "data": {
      "text/plain": "dict_keys(['source', 'author', 'title', 'description', 'url', 'urlToImage', 'publishedAt', 'content'])"
     },
     "execution_count": 56,
     "metadata": {},
     "output_type": "execute_result"
    }
   ],
   "source": [
    "art = content['articles'][0]#.keys()\n",
    "art.keys()"
   ],
   "metadata": {
    "collapsed": false,
    "ExecuteTime": {
     "end_time": "2023-10-13T11:29:50.641067355Z",
     "start_time": "2023-10-13T11:29:50.620275644Z"
    }
   },
   "id": "161be8b4175652c8"
  },
  {
   "cell_type": "code",
   "execution_count": 57,
   "outputs": [
    {
     "data": {
      "text/plain": "'2020-10-31T06:40:27Z'"
     },
     "execution_count": 57,
     "metadata": {},
     "output_type": "execute_result"
    }
   ],
   "source": [
    "art['publishedAt']"
   ],
   "metadata": {
    "collapsed": false,
    "ExecuteTime": {
     "end_time": "2023-10-13T11:29:51.722793622Z",
     "start_time": "2023-10-13T11:29:51.721285420Z"
    }
   },
   "id": "bb7601c25086716d"
  },
  {
   "cell_type": "code",
   "execution_count": 52,
   "outputs": [
    {
     "data": {
      "text/plain": "('general', 'hk', '2021-03-31T07:59:00Z')"
     },
     "execution_count": 52,
     "metadata": {},
     "output_type": "execute_result"
    }
   ],
   "source": [
    "*rest, scrape_date, scrape_time, _ = path.parts\n",
    "scraped = parse_date(scrape_date, scrape_time).strftime('%Y-%m-%dT%H:%M:%SZ')\n",
    "cat, loc = path.stem.split('_')\n",
    "cat, loc, scraped"
   ],
   "metadata": {
    "collapsed": false,
    "ExecuteTime": {
     "end_time": "2023-10-13T11:29:35.799307442Z",
     "start_time": "2023-10-13T11:29:35.797430566Z"
    }
   },
   "id": "2d76e13bed283d09"
  },
  {
   "cell_type": "code",
   "execution_count": 7,
   "outputs": [],
   "source": [],
   "metadata": {
    "collapsed": false,
    "ExecuteTime": {
     "end_time": "2023-10-13T12:15:37.404428859Z",
     "start_time": "2023-10-13T12:15:37.389571136Z"
    }
   },
   "id": "a29b8e4ea052d969"
  },
  {
   "cell_type": "code",
   "execution_count": 8,
   "outputs": [],
   "source": [
    "full = {}"
   ],
   "metadata": {
    "collapsed": false,
    "ExecuteTime": {
     "end_time": "2023-10-13T12:15:38.508232612Z",
     "start_time": "2023-10-13T12:15:38.505079510Z"
    }
   },
   "id": "7706e28e0432547f"
  },
  {
   "cell_type": "code",
   "execution_count": 9,
   "outputs": [
    {
     "data": {
      "text/plain": "  0%|          | 0/152506 [00:00<?, ?it/s]",
      "application/vnd.jupyter.widget-view+json": {
       "version_major": 2,
       "version_minor": 0,
       "model_id": "8e9ae5aec98e472fb5b6cd76ce900450"
      }
     },
     "metadata": {},
     "output_type": "display_data"
    },
    {
     "data": {
      "text/plain": "54"
     },
     "execution_count": 9,
     "metadata": {},
     "output_type": "execute_result"
    }
   ],
   "source": [
    "itr = tqdm(sorted(recs))\n",
    "for p in itr:\n",
    "\t*rest, scrape_date, scrape_time, _ = p.parts\n",
    "\tif scrape_date.startswith('bad'):\n",
    "\t\tcontinue\n",
    "\tscraped = parse_date(scrape_date, scrape_time).strftime('%Y-%m-%dT%H:%M:%SZ')\n",
    "\tcat, loc = p.stem.split('_')\n",
    "\tif cat not in cats:\n",
    "\t\tif loc not in cats:\n",
    "\t\t\traise ValueError(f'Unknown category {cat} {loc}')\n",
    "\t\tcat, loc = loc, cat\n",
    "\tcontent = load_json(p)\n",
    "\t# itr.set_description(f'{len(content[\"articles\"])} {cat}-{loc}')\n",
    "\tfor a in content['articles']:\n",
    "\t\ta.update({'location': loc, 'category': cat, 'collectedAt': scraped})\n",
    "\t\tfull.setdefault(loc, {}).setdefault(cat, []).append(a)\n",
    "len(full)\t"
   ],
   "metadata": {
    "collapsed": false,
    "ExecuteTime": {
     "end_time": "2023-10-13T12:16:32.309562749Z",
     "start_time": "2023-10-13T12:15:38.812505775Z"
    }
   },
   "id": "9091efa86bacc308"
  },
  {
   "cell_type": "code",
   "execution_count": 10,
   "outputs": [],
   "source": [
    "sec = full['us']"
   ],
   "metadata": {
    "collapsed": false,
    "ExecuteTime": {
     "end_time": "2023-10-13T12:16:32.309676990Z",
     "start_time": "2023-10-13T12:16:32.309190570Z"
    }
   },
   "id": "78273842837ec602"
  },
  {
   "cell_type": "code",
   "execution_count": 11,
   "outputs": [
    {
     "data": {
      "text/plain": "15323"
     },
     "execution_count": 11,
     "metadata": {},
     "output_type": "execute_result"
    }
   ],
   "source": [
    "len(sec['general'])"
   ],
   "metadata": {
    "collapsed": false,
    "ExecuteTime": {
     "end_time": "2023-10-13T12:16:32.309833409Z",
     "start_time": "2023-10-13T12:16:32.309310485Z"
    }
   },
   "id": "db625848b7041c2d"
  },
  {
   "cell_type": "code",
   "execution_count": 12,
   "outputs": [
    {
     "data": {
      "text/plain": "(150972, 137569)"
     },
     "execution_count": 12,
     "metadata": {},
     "output_type": "execute_result"
    }
   ],
   "source": [
    "base_raw = [a['title'] for arts in [sec['business'], sec['entertainment'], sec['health'], \n",
    "\t\t\t\t\t\t\t\t\tsec['science'], sec['sports'], sec['technology']] \n",
    "\t\t\tfor a in arts]\n",
    "base = Counter(base_raw)\n",
    "len(base_raw), len(base)"
   ],
   "metadata": {
    "collapsed": false,
    "ExecuteTime": {
     "end_time": "2023-10-13T12:16:32.361853388Z",
     "start_time": "2023-10-13T12:16:32.309362474Z"
    }
   },
   "id": "983efd7b406592a9"
  },
  {
   "cell_type": "code",
   "execution_count": 13,
   "outputs": [
    {
     "name": "stdout",
     "output_type": "stream",
     "text": [
      "Title                                                                                                    Count\n",
      "-----------------------------------------------------------------------------------------------------  -------\n",
      "Covid-19 vaccine tracker: View vaccinations by country - CNN                                                20\n",
      "The latest on the coronavirus pandemic and vaccines: Live updates - CNN                                     18\n",
      "Volcanoes Today - summary of volcanic activity world-wide - VolcanoDiscovery                                18\n",
      "The latest on the coronavirus pandemic: Live updates - CNN                                                  14\n",
      "Updated daily: Latest COVID-19 cases, deaths in Ohio, Kentucky, Indiana - WLWT Cincinnati                   12\n",
      "Coronavirus Map: Tracking COVID-19 cases across the Bay Area and California - San Francisco Chronicle       11\n",
      "Space calendar 2021: Rocket launches, sky events, missions & more! - Space.com                              11\n",
      "Brazil Coronavirus Map and Case Count - The New York Times                                                  10\n",
      "Samsung has updated these phones to Android 11 - 9to5Google                                                  8\n",
      "Google Issues Warning For 2 Billion Chrome Users - Forbes                                                    8\n"
     ]
    }
   ],
   "source": [
    "print(tabulate(base.most_common(10), headers=['Title', 'Count']))"
   ],
   "metadata": {
    "collapsed": false,
    "ExecuteTime": {
     "end_time": "2023-10-13T12:16:32.405317222Z",
     "start_time": "2023-10-13T12:16:32.363146210Z"
    }
   },
   "id": "3eb13e7210f3eff9"
  },
  {
   "cell_type": "code",
   "execution_count": 35,
   "outputs": [
    {
     "data": {
      "text/plain": "20"
     },
     "execution_count": 35,
     "metadata": {},
     "output_type": "execute_result"
    }
   ],
   "source": [
    "key = base.most_common(1)[0][0]\n",
    "res = [a for arts in sec.values() for a in arts if a['title'] == key]\n",
    "len(res)"
   ],
   "metadata": {
    "collapsed": false,
    "ExecuteTime": {
     "end_time": "2023-10-13T11:57:59.797595993Z",
     "start_time": "2023-10-13T11:57:59.795837112Z"
    }
   },
   "id": "39aa4bc874e6bd51"
  },
  {
   "cell_type": "code",
   "execution_count": 37,
   "outputs": [
    {
     "data": {
      "text/plain": "0.4091235397768061"
     },
     "execution_count": 37,
     "metadata": {},
     "output_type": "execute_result"
    }
   ],
   "source": [
    "novel = [a['title'] for a in sec['general'] if a['title'] not in base]\n",
    "len(novel)/len(sec['general'])"
   ],
   "metadata": {
    "collapsed": false,
    "ExecuteTime": {
     "end_time": "2023-10-13T12:06:51.541945900Z",
     "start_time": "2023-10-13T12:06:51.506740047Z"
    }
   },
   "id": "87a96789643ca759"
  },
  {
   "cell_type": "code",
   "execution_count": 15,
   "outputs": [
    {
     "data": {
      "text/plain": "general:   0%|          | 0/15323 [00:00<?, ?it/s]",
      "application/vnd.jupyter.widget-view+json": {
       "version_major": 2,
       "version_minor": 0,
       "model_id": "fa61dab7968e4e459420a9cddd43e34c"
      }
     },
     "metadata": {},
     "output_type": "display_data"
    },
    {
     "data": {
      "text/plain": "business:   0%|          | 0/27317 [00:00<?, ?it/s]",
      "application/vnd.jupyter.widget-view+json": {
       "version_major": 2,
       "version_minor": 0,
       "model_id": "1b06c8fb52ed40f3b1a213b706447c31"
      }
     },
     "metadata": {},
     "output_type": "display_data"
    },
    {
     "data": {
      "text/plain": "entertainment:   0%|          | 0/26990 [00:00<?, ?it/s]",
      "application/vnd.jupyter.widget-view+json": {
       "version_major": 2,
       "version_minor": 0,
       "model_id": "ef4b39e8d41d4126ad40624e496e7e66"
      }
     },
     "metadata": {},
     "output_type": "display_data"
    },
    {
     "data": {
      "text/plain": "health:   0%|          | 0/26543 [00:00<?, ?it/s]",
      "application/vnd.jupyter.widget-view+json": {
       "version_major": 2,
       "version_minor": 0,
       "model_id": "8e9c82e89336446e971242b17a0d4f41"
      }
     },
     "metadata": {},
     "output_type": "display_data"
    },
    {
     "data": {
      "text/plain": "science:   0%|          | 0/16251 [00:00<?, ?it/s]",
      "application/vnd.jupyter.widget-view+json": {
       "version_major": 2,
       "version_minor": 0,
       "model_id": "81a164d69b794632b68236c548cb2cf0"
      }
     },
     "metadata": {},
     "output_type": "display_data"
    },
    {
     "data": {
      "text/plain": "sports:   0%|          | 0/26498 [00:00<?, ?it/s]",
      "application/vnd.jupyter.widget-view+json": {
       "version_major": 2,
       "version_minor": 0,
       "model_id": "ea686ca92dc24fcd8f067dbaa67ebb0a"
      }
     },
     "metadata": {},
     "output_type": "display_data"
    },
    {
     "data": {
      "text/plain": "technology:   0%|          | 0/27373 [00:00<?, ?it/s]",
      "application/vnd.jupyter.widget-view+json": {
       "version_major": 2,
       "version_minor": 0,
       "model_id": "32b8803e829e4d8ca2c5aba9a197b382"
      }
     },
     "metadata": {},
     "output_type": "display_data"
    }
   ],
   "source": [
    "titles = {}\n",
    "for c, arts in sec.items():\n",
    "\tfor a in arts:\n",
    "\t\ttitles.setdefault(a['title'], set()).add(a['category'])"
   ],
   "metadata": {
    "collapsed": false,
    "ExecuteTime": {
     "end_time": "2023-10-13T12:16:45.408106009Z",
     "start_time": "2023-10-13T12:16:45.232246042Z"
    }
   },
   "id": "155f05395030a685"
  },
  {
   "cell_type": "code",
   "execution_count": 16,
   "outputs": [],
   "source": [
    "for v in titles.values():\n",
    "\tv.discard('general')"
   ],
   "metadata": {
    "collapsed": false,
    "ExecuteTime": {
     "end_time": "2023-10-13T12:18:29.087896859Z",
     "start_time": "2023-10-13T12:18:29.043812123Z"
    }
   },
   "id": "9f1194a1fcbc123"
  },
  {
   "cell_type": "code",
   "execution_count": 17,
   "outputs": [],
   "source": [
    "multis = {k: v for k, v in titles.items() if len(v) > 1}"
   ],
   "metadata": {
    "collapsed": false,
    "ExecuteTime": {
     "end_time": "2023-10-13T12:18:38.999355547Z",
     "start_time": "2023-10-13T12:18:38.982014086Z"
    }
   },
   "id": "23f6a1523138e5ea"
  },
  {
   "cell_type": "code",
   "execution_count": null,
   "outputs": [],
   "source": [],
   "metadata": {
    "collapsed": false
   },
   "id": "779a438811d2aad"
  },
  {
   "cell_type": "code",
   "execution_count": 23,
   "outputs": [
    {
     "name": "stdout",
     "output_type": "stream",
     "text": [
      "{'lt': 'Lithuania', 'ie': 'Ireland', 'cn': 'China', 'us': 'United States', 'my': 'Malaysia', 'ma': 'Morocco', 'se': 'Sweden', 'nl': 'Netherlands', 'il': 'Israel', 'ch': 'Switzerland', 'rs': 'Serbia', 'ng': 'Nigeria', 've': 'Venezuela, Bolivarian Republic of', 'si': 'Slovenia', 'lv': 'Latvia', 'jp': 'Japan', 'ph': 'Philippines', 'hu': 'Hungary', 'it': 'Italy', 'cz': 'Czechia', 'bg': 'Bulgaria', 'mx': 'Mexico', 'gr': 'Greece', 'co': 'Colombia', 'gb': 'United Kingdom', 'cu': 'Cuba', 'in': 'India', 'sa': 'Saudi Arabia', 'hk': 'Hong Kong', 'sk': 'Slovakia', 'kr': 'Korea, Republic of', 'id': 'Indonesia', 'au': 'Australia', 'fr': 'France', 'ca': 'Canada', 'ua': 'Ukraine', 'th': 'Thailand', 'ru': 'Russian Federation', 'pl': 'Poland', 'tr': 'Turkey', 'pt': 'Portugal', 'be': 'Belgium', 'eg': 'Egypt', 'ae': 'United Arab Emirates', 'no': 'Norway', 'za': 'South Africa', 'br': 'Brazil', 'at': 'Austria', 'ro': 'Romania', 'ar': 'Argentina', 'de': 'Germany', 'tw': 'Taiwan, Province of China', 'nz': 'New Zealand', 'sg': 'Singapore'}\n"
     ]
    }
   ],
   "source": [
    "\n",
    "\n",
    "country_names = {}\n",
    "\n",
    "for code in codes:\n",
    "    try:\n",
    "        country = pycountry.countries.get(alpha_2=code.upper())\n",
    "        country_names[code] = country.name\n",
    "    except AttributeError:\n",
    "        country_names[code] = None\n",
    "\n",
    "print(country_names)\n"
   ],
   "metadata": {
    "collapsed": false,
    "ExecuteTime": {
     "end_time": "2023-10-13T14:14:38.969269258Z",
     "start_time": "2023-10-13T14:14:38.925142744Z"
    }
   },
   "id": "2d359f899470d81e"
  },
  {
   "cell_type": "code",
   "execution_count": 43,
   "outputs": [
    {
     "data": {
      "text/plain": "'Turkey'"
     },
     "execution_count": 43,
     "metadata": {},
     "output_type": "execute_result"
    }
   ],
   "source": [
    "country_names['tr']"
   ],
   "metadata": {
    "collapsed": false,
    "ExecuteTime": {
     "end_time": "2023-10-13T14:36:20.554716798Z",
     "start_time": "2023-10-13T14:36:20.509327290Z"
    }
   },
   "id": "4a90fe81d694d8d4"
  },
  {
   "cell_type": "code",
   "execution_count": null,
   "outputs": [],
   "source": [],
   "metadata": {
    "collapsed": false
   },
   "id": "766fbea69c3ece1e"
  },
  {
   "cell_type": "code",
   "execution_count": null,
   "id": "initial_id",
   "metadata": {
    "collapsed": true
   },
   "outputs": [],
   "source": []
  }
 ],
 "metadata": {
  "kernelspec": {
   "display_name": "Python 3",
   "language": "python",
   "name": "python3"
  },
  "language_info": {
   "codemirror_mode": {
    "name": "ipython",
    "version": 2
   },
   "file_extension": ".py",
   "mimetype": "text/x-python",
   "name": "python",
   "nbconvert_exporter": "python",
   "pygments_lexer": "ipython2",
   "version": "2.7.6"
  }
 },
 "nbformat": 4,
 "nbformat_minor": 5
}
