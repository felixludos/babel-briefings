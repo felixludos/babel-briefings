{
 "cells": [
  {
   "cell_type": "code",
   "execution_count": 15,
   "id": "initial_id",
   "metadata": {
    "collapsed": true,
    "ExecuteTime": {
     "end_time": "2023-11-15T11:13:48.542844590Z",
     "start_time": "2023-11-15T11:13:47.679060583Z"
    }
   },
   "outputs": [],
   "source": [
    "from pathlib import Path\n",
    "from tqdm.notebook import tqdm\n",
    "from tabulate import tabulate\n",
    "import random, json\n",
    "import pycountry\n",
    "from iso639 import languages\n",
    "import networkx as nx\n",
    "import textwrap\n",
    "from itertools import combinations, islice\n",
    "from dateutil import parser\n",
    "from datetime import datetime\n",
    "from collections import Counter\n",
    "from langdetect import detect\n",
    "from omnibelt import load_json, save_json\n",
    "import Levenshtein\n",
    "from unidecode import unidecode\n",
    "import unicodedata\n",
    "from wordcloud import WordCloud\n",
    "import nltk\n",
    "from nltk import word_tokenize, pos_tag, ne_chunk\n",
    "from nltk.stem import WordNetLemmatizer\n",
    "from nltk.corpus import stopwords\n",
    "from rake_nltk import Rake\n",
    "import spacy\n",
    "import pickle as pkl\n",
    "\n",
    "# from sklearn.cluster import DBSCAN\n",
    "# import numpy as np\n",
    "\n",
    "stop_words = set(stopwords.words('english'))\n",
    "stop_words.update(\"'s\", '|', 'I', \"n't\", \"`s\", \"'s\", 'n`t')\n",
    "\n",
    "nlp = spacy.load('en_core_web_md')\n",
    "import numpy as np\n",
    "import pandas as pd\n",
    "import seaborn as sns\n",
    "import matplotlib.pyplot as plt\n",
    "import matplotlib.dates as mdates\n",
    "import numpy as np\n",
    "from sklearn.cluster import KMeans\n",
    "from sklearn.decomposition import PCA\n",
    "import umap\n",
    "import matplotlib.pyplot as plt\n",
    "from gensim.models import KeyedVectors\n",
    "from nltk.tokenize import word_tokenize\n",
    "import nltk\n",
    "\n",
    "# Download the tokenizers\n",
    "# nltk.download('punkt')\n",
    "\n",
    "# word_vectors = KeyedVectors.load_word2vec_format('/home/fleeb/Downloads/GoogleNews-vectors-negative300.bin',\n",
    "# \t\t\t\t\t\t\t\t\t\t\t\t binary=True)\n"
   ]
  },
  {
   "cell_type": "code",
   "execution_count": 3,
   "outputs": [
    {
     "data": {
      "text/plain": "54"
     },
     "execution_count": 3,
     "metadata": {},
     "output_type": "execute_result"
    }
   ],
   "source": [
    "lang_clusters = {'en': ['au', 'ca', 'gb', 'ie', 'in', 'my', 'ng', 'nz', 'ph', 'sa', 'sg', 'us', 'za'],\n",
    "\t\t\t\t 'es': ['ar', 'co', 'cu', 'mx', 've'], 'de': ['at', 'ch', 'de'], 'fr': ['be', 'fr', 'ma'],\n",
    "\t\t\t\t 'zh': ['cn', 'hk', 'tw'], 'ar': ['ae', 'eg'], 'pt': ['br', 'pt'], 'bg': ['bg'], 'cs': ['cz'],\n",
    "\t\t\t\t 'el': ['gr'], 'he': ['il'], 'hu': ['hu'], 'id': ['id'], 'it': ['it'], 'ja': ['jp'], 'ko': ['kr'],\n",
    "\t\t\t\t 'lt': ['lt'], 'lv': ['lv'], 'nl': ['nl'], 'no': ['no'], 'pl': ['pl'], 'ro': ['ro'], 'ru': ['ru'],\n",
    "\t\t\t\t 'sv': ['se'], 'sl': ['si'], 'sk': ['sk'], 'sr': ['rs'], 'th': ['th'], 'tr': ['tr'], 'uk': ['ua']}\n",
    "loc_names = {'gb': 'United Kingdom', 'ar': 'Argentina', 'pl': 'Poland', 'sk': 'Slovakia', 'us': 'United States',\n",
    "\t\t\t 'eg': 'Egypt', 'no': 'Norway', 'ph': 'Philippines', 'at': 'Austria', 'rs': 'Serbia', 'tw': 'Taiwan',\n",
    "\t\t\t 'be': 'Belgium', 'cu': 'Cuba', 'sa': 'Saudi Arabia', 'th': 'Thailand', 'id': 'Indonesia',\n",
    "\t\t\t 'ru': 'Russian Federation', 'ch': 'Switzerland', 'fr': 'France', 'lt': 'Lithuania', 'tr': 'Turkey',\n",
    "\t\t\t 'de': 'Germany', 'cz': 'Czechia', 'pt': 'Portugal', 'ae': 'United Arab Emirates', 'it': 'Italy',\n",
    "\t\t\t 'cn': 'China', 'lv': 'Latvia', 'nl': 'Netherlands', 'hk': 'Hong Kong', 'ca': 'Canada', 'br': 'Brazil',\n",
    "\t\t\t 'hu': 'Hungary', 'kr': 'Korea', 'si': 'Slovenia', 'au': 'Australia', 'my': 'Malaysia', 'ie': 'Ireland',\n",
    "\t\t\t 'ua': 'Ukraine', 'in': 'India', 'ma': 'Morocco', 'bg': 'Bulgaria', 'ng': 'Nigeria', 'il': 'Israel',\n",
    "\t\t\t 'se': 'Sweden', 'za': 'South Africa', 've': 'Venezuela', 'nz': 'New Zealand', 'jp': 'Japan',\n",
    "\t\t\t 'sg': 'Singapore', 'gr': 'Greece', 'mx': 'Mexico', 'co': 'Colombia', 'ro': 'Romania'}\n",
    "lang_names = {'en': 'English', 'ko': 'Korean', 'ru': 'Russian', 'es': 'Spanish', 'pt': 'Portuguese', 'cs': 'Czech',\n",
    "\t\t\t  'tr': 'Turkish', 'nl': 'Dutch', 'ar': 'Arabic', 'fr': 'French', 'bg': 'Bulgarian', 'id': 'Indonesian',\n",
    "\t\t\t  'sk': 'Slovak', 'el': 'Greek', 'he': 'Hebrew', 'sr': 'Serbian', 'hu': 'Hungarian', 'th': 'Thai',\n",
    "\t\t\t  'zh': 'Chinese', 'no': 'Norwegian', 'sl': 'Slovenian', 'sv': 'Swedish', 'de': 'German', 'lv': 'Latvian',\n",
    "\t\t\t  'pl': 'Polish', 'it': 'Italian', 'ro': 'Romanian', 'lt': 'Lithuanian', 'ja': 'Japanese',\n",
    "\t\t\t  'uk': 'Ukrainian'}\n",
    "cluster_id = {loc: lang for lang, locs in lang_clusters.items() for loc in locs}\n",
    "len(cluster_id)"
   ],
   "metadata": {
    "collapsed": false,
    "ExecuteTime": {
     "end_time": "2023-11-15T10:59:54.561069158Z",
     "start_time": "2023-11-15T10:59:54.560786729Z"
    }
   },
   "id": "651e04180cdcac51"
  },
  {
   "cell_type": "code",
   "execution_count": 4,
   "outputs": [
    {
     "data": {
      "text/plain": "  0%|          | 0/54 [00:00<?, ?it/s]",
      "application/vnd.jupyter.widget-view+json": {
       "version_major": 2,
       "version_minor": 0,
       "model_id": "91075505946e4527a6f5b8e5e4065e70"
      }
     },
     "metadata": {},
     "output_type": "display_data"
    },
    {
     "data": {
      "text/plain": "  0%|          | 0/4719199 [00:00<?, ?it/s]",
      "application/vnd.jupyter.widget-view+json": {
       "version_major": 2,
       "version_minor": 0,
       "model_id": "8deeba3be5a74376a2a36c700af7a607"
      }
     },
     "metadata": {},
     "output_type": "display_data"
    },
    {
     "data": {
      "text/plain": "(4719199, 54, 30)"
     },
     "execution_count": 4,
     "metadata": {},
     "output_type": "execute_result"
    }
   ],
   "source": [
    "root = Path('/home/fleeb/workspace/local_data/nnn')\n",
    "recs = (root / 'babel-briefings-v1').glob('**/*.json')\n",
    "recs = list(recs)\n",
    "len(recs)\n",
    "articles = []\n",
    "for rec in tqdm(recs):\n",
    "\tarticles.extend(load_json(rec))\n",
    "by_loc = {}\n",
    "by_lang = {}\n",
    "by_source = {}\n",
    "by_ID = {}\n",
    "for article in tqdm(articles):\n",
    "\tby_ID[article['ID']] = article\n",
    "\t# article['published'] = parser.parse(article['publishedAt'])\n",
    "\tby_source.setdefault(article['source-name'], []).append(article)\n",
    "\tby_lang.setdefault(article['language'], []).append(article)\n",
    "\tfor instance in article['instances']:\n",
    "\t\t# instance['collected'] = parser.parse(instance['collectedAt'])\n",
    "\t\tby_loc.setdefault(instance['location'], []).append(article)\n",
    "len(articles), len(by_loc), len(by_lang)"
   ],
   "metadata": {
    "collapsed": false,
    "ExecuteTime": {
     "end_time": "2023-11-15T11:00:50.086303966Z",
     "start_time": "2023-11-15T10:59:56.673576216Z"
    }
   },
   "id": "aa6449d083b059bc"
  },
  {
   "cell_type": "code",
   "execution_count": 5,
   "outputs": [],
   "source": [
    "def show_date(date):\n",
    "\treturn date.strftime('%d %b%y')\n",
    "def get_locs(article):\n",
    "\treturn [f'{loc_names[loc]}' for loc in sorted(set(i['location'] for i in article['instances']))]\n",
    "def get_cats(article):\n",
    "\treturn [f'<{cat}>' for cat in sorted(set(i['category'] for i in article['instances']))]\n",
    "def view_article(art, detailed=False):\n",
    "\tcats = ' '.join(get_cats(art))\n",
    "\tlocs = ', '.join(map(repr, get_locs(art)))\n",
    "\tpublished = parser.parse(art['publishedAt'])\n",
    "\tcollected = [parser.parse(i['collectedAt']) for i in art['instances']]\n",
    "\tfirst = min(collected)\n",
    "\tlast = max(collected)\n",
    "\ttiming = f'{show_date(first)}' if first == last else f'{show_date(first)} - {show_date(last)}'\n",
    "\n",
    "\tlines = []\n",
    "\tif 'en-title' in art:\n",
    "\t\tlines.append(f'English Title: {art[\"en-title\"]!r}')\n",
    "\tlines.append(f'{lang_names[art[\"language\"]]} Title: {art[\"title\"]!r}')\n",
    "\tlines.append(f'Categories: {cats}  ---   {locs} ({timing})  ---  {art[\"source-name\"]}')\n",
    "\n",
    "\tif detailed:\n",
    "\t\tadded_desc = False\n",
    "\t\tdesc = art.get('description')\n",
    "\t\ten_desc = art.get('en-description')\n",
    "\t\tif en_desc is not None and len(en_desc):\n",
    "\t\t\tlines.append(f'English Description: {en_desc}')\n",
    "\t\t\tadded_desc = True\n",
    "\t\telif desc is not None and len(desc):\n",
    "\t\t\tlines.append(f'{lang_names[art[\"language\"]]} Description: {desc}')\n",
    "\t\t\tadded_desc = True\n",
    "\t\tif not added_desc:\n",
    "\t\t\tlines.append(f'- No description -')\n",
    "\tprint('\\n'.join(lines))\n",
    "\n",
    "def inst_id(art_id, inst_idx):\n",
    "\treturn f'{str(art_id).zfill(7)}-{str(inst_idx).zfill(3)}'\n",
    "def get_inst(inst_id):\n",
    "\tart_id, inst_idx = inst_id.split('-')\n",
    "\tart = by_ID[art_id]\n",
    "\tinst = art['instances'][int(inst_idx)]\n",
    "\treturn {**inst, **art}\n",
    "def art_row(art):\n",
    "\treturn {'aid': art['ID'], 'title': art.get('en-title', art['title']), 'source': art['source-name'],\n",
    "\t\t\t'language': art['language']}\n",
    "def get_title(art):\n",
    "\treturn art.get('en-title', art['title'])\n",
    "def article_title_bag(art):\n",
    "\ttitle = art.get('en-title', art['title'])\n",
    "\ttitle_doc = nlp(title)\n",
    "\tkey_terms = Counter([token.lemma_.lower() for chunk in title_doc.noun_chunks for token in chunk])\n",
    "\treturn key_terms\n",
    "_my_stop_words = {\"'s\", 'news'}\n",
    "def is_good_word(w):\n",
    "\treturn any(not unicodedata.category(char).startswith('P') for char in w) and w not in stop_words and w not in _my_stop_words"
   ],
   "metadata": {
    "collapsed": false,
    "ExecuteTime": {
     "end_time": "2023-11-15T11:01:37.592842031Z",
     "start_time": "2023-11-15T11:01:37.550524845Z"
    }
   },
   "id": "2b6178d236d46070"
  },
  {
   "cell_type": "code",
   "execution_count": 6,
   "outputs": [
    {
     "name": "stdout",
     "output_type": "stream",
     "text": [
      "English Title: \"Five banks in the fray for Citi India's retail business: Report - Moneycontrol\"\n",
      "Categories: <business>  ---   'India' (10 Aug21)  ---  Moneycontrol\n",
      "English Description: Axis Bank, IndusInd Bank, Kotak Mahindra Bank, HDFC Bank, and DBS Bank are reportedly the top contenders for Citi's retail business in India.\n"
     ]
    }
   ],
   "source": [
    "art = random.choice(articles)\n",
    "view_article(art, detailed=True)"
   ],
   "metadata": {
    "collapsed": false,
    "ExecuteTime": {
     "end_time": "2023-11-15T11:01:38.429733334Z",
     "start_time": "2023-11-15T11:01:38.353415515Z"
    }
   },
   "id": "7f3fc0996b328b86"
  },
  {
   "cell_type": "code",
   "execution_count": 12,
   "outputs": [
    {
     "data": {
      "text/plain": "  0%|          | 0/4719199 [00:00<?, ?it/s]",
      "application/vnd.jupyter.widget-view+json": {
       "version_major": 2,
       "version_minor": 0,
       "model_id": "b146d6a69edb49bcb6db8b34326ef786"
      }
     },
     "metadata": {},
     "output_type": "display_data"
    },
    {
     "data": {
      "text/plain": "  0%|          | 0/4719199 [00:00<?, ?it/s]",
      "application/vnd.jupyter.widget-view+json": {
       "version_major": 2,
       "version_minor": 0,
       "model_id": "d5ecebfee2af4f6096916f40a642725b"
      }
     },
     "metadata": {},
     "output_type": "display_data"
    },
    {
     "data": {
      "text/plain": "  0%|          | 0/4719199 [00:00<?, ?it/s]",
      "application/vnd.jupyter.widget-view+json": {
       "version_major": 2,
       "version_minor": 0,
       "model_id": "d99bf3a38d4646618f97eed949bac8b0"
      }
     },
     "metadata": {},
     "output_type": "display_data"
    },
    {
     "data": {
      "text/plain": "  0%|          | 0/4719199 [00:00<?, ?it/s]",
      "application/vnd.jupyter.widget-view+json": {
       "version_major": 2,
       "version_minor": 0,
       "model_id": "0730870e3765462f8d84c1cc0725209c"
      }
     },
     "metadata": {},
     "output_type": "display_data"
    },
    {
     "data": {
      "text/plain": "4719199"
     },
     "execution_count": 12,
     "metadata": {},
     "output_type": "execute_result"
    }
   ],
   "source": [
    "# lowercase_all = True\n",
    "# full_bagowords_inds = {int(ID): {k.lower() if lowercase_all else k:v for k,v in bag.items()} \n",
    "# \t\t\t\t\t   for ID, bag in tqdm(load_json(root/'bagowords-ordered-full.json', desc='loading bag').items())}\n",
    "# # bagowords_inds = {}\n",
    "# # for art in tqdm(articles):\n",
    "# # \tif art['ID'] not in bagowords_inds:\n",
    "# # \t\tinds = {}\n",
    "# # \t\tfor i, w in enumerate([token.lemma_ for token in nlp(unidecode(art.get('en-title', art['title'])))]): # if is_good_word(token.lemma_)\n",
    "# # \t\t\tinds.setdefault(w, []).append(i)\n",
    "# # \t\tbagowords_inds[art['ID']] = inds\n",
    "# # save_json(bagowords, root/'bagowords.json');\n",
    "# # save_json(bagowords_inds, root/'bagowords-ordered-full.json')\n",
    "# \n",
    "# pre_dash = Counter()\n",
    "# for ID, bagi in tqdm(full_bagowords_inds.items(), desc='extracting pre-dash tokens'):\n",
    "# \tif '-' in bagi:\n",
    "# \t\tpre_dash.update({w: len(inds) for w, inds in bagi.items() if all(i < bagi[\"-\"][-1] for i in inds)})\n",
    "# \n",
    "# post_dash = Counter()\n",
    "# for ID, bagi in tqdm(full_bagowords_inds.items(), desc='extracting post-dash tokens'):\n",
    "# \tif '-' in bagi:\n",
    "# \t\tpost_dash.update({w: len(inds) for w, inds in bagi.items() if w not in pre_dash})\n",
    "# all_bags_inds = {ID: {w: [i for i in inds if bag.get('-', [float('inf')])[-1] > i]\n",
    "# \t\t\t\t\t  for w, inds in bag.items() if w not in post_dash and is_good_word(w)}\n",
    "# \t\t\t\t for ID, bag in tqdm(full_bagowords_inds.items())}\n",
    "# all_bags = {ID: Counter({w: len(inds) for w, inds in bag.items() if len(inds)}) for ID, bag in all_bags_inds.items()}\n",
    "# len(all_bags)\n",
    "\n",
    "# pkl.dump(all_bags, open(root/'temp'/'all_bags.pkl', 'wb'))\n",
    "# pkl.dump(all_bags_inds, open(root/'temp'/'all_bags_inds.pkl', 'wb'))\n",
    "all_bags = pkl.load(open(root/'temp'/'all_bags.pkl', 'rb'))\n",
    "all_bags_inds = pkl.load(open(root/'temp'/'all_bags_inds.pkl', 'rb'))\n",
    "len(all_bags), len(all_bags_inds)"
   ],
   "metadata": {
    "collapsed": false,
    "ExecuteTime": {
     "end_time": "2023-11-15T11:13:14.244332825Z",
     "start_time": "2023-11-15T11:09:09.623358027Z"
    }
   },
   "id": "2a7cfc85ce41e9df"
  },
  {
   "cell_type": "code",
   "execution_count": 13,
   "outputs": [
    {
     "data": {
      "text/plain": "  0%|          | 0/4719199 [00:00<?, ?it/s]",
      "application/vnd.jupyter.widget-view+json": {
       "version_major": 2,
       "version_minor": 0,
       "model_id": "94b350ba183b450cb2db676bbb1f09f8"
      }
     },
     "metadata": {},
     "output_type": "display_data"
    },
    {
     "data": {
      "text/plain": "7419089"
     },
     "execution_count": 13,
     "metadata": {},
     "output_type": "execute_result"
    }
   ],
   "source": [
    "df = pd.DataFrame(\n",
    "\t[{**row, **inst, 'iid': inst_id(row['aid'], i)} for row in tqdm([art_row(art) for art in articles]) for i, inst in\n",
    "\t enumerate(by_ID[row['aid']]['instances'])])\n",
    "df['collectedAt'] = pd.to_datetime(df['collectedAt'])\n",
    "df = df.sort_values('collectedAt')\n",
    "df['date'] = df['collectedAt'].dt.date\n",
    "len(df)"
   ],
   "metadata": {
    "collapsed": false,
    "ExecuteTime": {
     "end_time": "2023-11-15T11:13:31.812970789Z",
     "start_time": "2023-11-15T11:13:14.240200688Z"
    }
   },
   "id": "d590819ba573a85"
  },
  {
   "cell_type": "code",
   "execution_count": null,
   "outputs": [],
   "source": [
    "query = 'ahn sang suu kyi'\n",
    "# query = 'iphone'\n",
    "query = 'alibaba'\n",
    "# query = 'myanmar burma coup burmese military ahn sang suu kyi aung san aun'\n",
    "query = 'ahn sang suu kyi aung san aun myanmar burma burmese'\n",
    "qdoc = nlp(query)\n",
    "qtokens = [token.lemma_.lower() for token in qdoc]\n",
    "qkeys = set(qtokens)\n",
    "print(qkeys)"
   ],
   "metadata": {
    "collapsed": false,
    "ExecuteTime": {
     "end_time": "2023-11-15T10:57:55.283690814Z",
     "start_time": "2023-11-15T10:57:55.229399542Z"
    }
   },
   "id": "da4cc05e7921cac4"
  },
  {
   "cell_type": "code",
   "execution_count": null,
   "outputs": [],
   "source": [
    "# cat = 'language'\n",
    "# grouped_df = sub.groupby(['date', cat]).size().reset_index(name='counts')\n",
    "# \n",
    "# plt.figure(figsize=(14, 7))\n",
    "# sns.histplot(data=grouped_df, x='date', weights='counts', hue=cat, multiple='stack')\n",
    "# \n",
    "# # Rotating the x-axis labels for better readability\n",
    "# plt.xticks(rotation=45);"
   ],
   "metadata": {
    "collapsed": false
   },
   "id": "64c6bb9e3a342ed6"
  },
  {
   "cell_type": "code",
   "execution_count": 17,
   "outputs": [
    {
     "data": {
      "text/plain": "  0%|          | 0/413 [00:00<?, ?it/s]",
      "application/vnd.jupyter.widget-view+json": {
       "version_major": 2,
       "version_minor": 0,
       "model_id": "82e7a6f9e6814b01a02bafcd3964ebc8"
      }
     },
     "metadata": {},
     "output_type": "display_data"
    },
    {
     "data": {
      "text/plain": "413"
     },
     "execution_count": 17,
     "metadata": {},
     "output_type": "execute_result"
    }
   ],
   "source": [
    "daybags = {}\n",
    "date_aids = dict(df.groupby('date')['aid'].apply(set))\n",
    "for date, aIDs in tqdm(sorted(date_aids.items())):\n",
    "\ttotal = Counter()\n",
    "\tfor aID in aIDs:\n",
    "\t\ttotal.update(all_bags[aID])\n",
    "\tdaybags[date] = total\n",
    "len(daybags)"
   ],
   "metadata": {
    "collapsed": false,
    "ExecuteTime": {
     "end_time": "2023-11-15T11:15:12.856494937Z",
     "start_time": "2023-11-15T11:15:01.186976663Z"
    }
   },
   "id": "178bd68695e7cd9f"
  },
  {
   "cell_type": "code",
   "execution_count": 18,
   "outputs": [
    {
     "data": {
      "text/plain": "  0%|          | 0/413 [00:00<?, ?it/s]",
      "application/vnd.jupyter.widget-view+json": {
       "version_major": 2,
       "version_minor": 0,
       "model_id": "1bc4480714004b1c9bdb30620caf6ae6"
      }
     },
     "metadata": {},
     "output_type": "display_data"
    },
    {
     "data": {
      "text/plain": "  0%|          | 0/413 [00:00<?, ?it/s]",
      "application/vnd.jupyter.widget-view+json": {
       "version_major": 2,
       "version_minor": 0,
       "model_id": "19bd6d1cc4a94b84a874400273ff8180"
      }
     },
     "metadata": {},
     "output_type": "display_data"
    },
    {
     "data": {
      "text/plain": "413"
     },
     "execution_count": 18,
     "metadata": {},
     "output_type": "execute_result"
    }
   ],
   "source": [
    "dayidf = Counter()\n",
    "for date, bag in tqdm(daybags.items()):\n",
    "\tdayidf.update(bag.keys())\n",
    "dayidf = {w: np.log(len(daybags) / f) for w, f in dayidf.items()}\n",
    "daytotals = {d: sum(bag.values()) for d, bag in daybags.items()}\n",
    "daytfidf = {day: Counter({w: f / daytotals[day] * dayidf[w] for w, f in bag.items()}) for day, bag in\n",
    "\t\t\ttqdm(daybags.items())}\n",
    "len(daytfidf)"
   ],
   "metadata": {
    "collapsed": false,
    "ExecuteTime": {
     "end_time": "2023-11-15T11:15:21.327807173Z",
     "start_time": "2023-11-15T11:15:14.583064021Z"
    }
   },
   "id": "3fc77766bd0f658b"
  },
  {
   "cell_type": "code",
   "execution_count": 68,
   "outputs": [
    {
     "name": "stdout",
     "output_type": "stream",
     "text": [
      "69 clustering dates\n",
      "21 Aug 2020\n"
     ]
    }
   ],
   "source": [
    "cluster_root = root / 'clusterings'\n",
    "clustering_paths = list(cluster_root.glob('*.json'))\n",
    "print(f'{len(clustering_paths)} clustering dates')\n",
    "clspath = random.choice(clustering_paths)\n",
    "clsdate = parser.parse(clspath.stem.split('_')[-1]).date()\n",
    "# target = datetime(2021, 2, 1).date()\n",
    "target = clsdate\n",
    "print(target.strftime('%d %b %Y'))"
   ],
   "metadata": {
    "collapsed": false,
    "ExecuteTime": {
     "end_time": "2023-11-15T11:44:59.464318927Z",
     "start_time": "2023-11-15T11:44:59.462774266Z"
    }
   },
   "id": "4696feea73c25b39"
  },
  {
   "cell_type": "code",
   "execution_count": 69,
   "outputs": [
    {
     "data": {
      "text/plain": "(21857, 15599, 8.421244951599462)"
     },
     "execution_count": 69,
     "metadata": {},
     "output_type": "execute_result"
    }
   ],
   "source": [
    "# target = datetime(2021, 1, 7).date()\n",
    "today_aids = date_aids[target]\n",
    "today_bag = daybags[target]\n",
    "today_df = df[df['date'] == target]\n",
    "today_tfidf = daytfidf[target]\n",
    "importances = today_tfidf\n",
    "\n",
    "treat_bags_as_sets = True\n",
    "prior_art_scores = Counter({aID: sum(importances[w] * (1 if treat_bags_as_sets else f) for w, f in all_bags[aID].items() if w in importances) for aID in today_aids})\n",
    "def article_affinity(aid1, aid2):\n",
    "\tbag1, bag2 = all_bags[aid1], all_bags[aid2]\n",
    "\treturn sum(importances[w] * (1 if treat_bags_as_sets else min(f, bag2[w])) for w, f in bag1.items() if w in bag2) / np.sqrt(prior_art_scores[aid1] * prior_art_scores[aid2])\n",
    "art_imps = list(prior_art_scores.most_common())\n",
    "aidorder = np.array([c for c, _ in art_imps])\n",
    "\n",
    "art_keywords = {aid: [w for w in sorted(all_bags[aid], key=lambda w: importances[w], reverse=True) if importances[w] > 1e-8] for aid in aidorder}\n",
    "\n",
    "len(today_bag), len(today_aids), sum(len(all_bags[aID]) for aID in today_aids) / len(today_aids)"
   ],
   "metadata": {
    "collapsed": false,
    "ExecuteTime": {
     "end_time": "2023-11-15T11:45:02.231649376Z",
     "start_time": "2023-11-15T11:45:02.019757364Z"
    }
   },
   "id": "fb4b27334aed2785"
  },
  {
   "cell_type": "code",
   "execution_count": 70,
   "outputs": [
    {
     "data": {
      "text/plain": "12926"
     },
     "execution_count": 70,
     "metadata": {},
     "output_type": "execute_result"
    }
   ],
   "source": [
    "full_clusters = load_json(clspath)\n",
    "full_clusters = {int(center): {'tokens': {int(t): Counter(ws) for t, ws in info['tokens'].items()},\n",
    "\t\t\t\t\t\t\t   'tiers': {int(t): set(aids) for t, aids in info['tiers'].items()},\n",
    "\t\t\t\t\t\t\t   'trace': Counter({int(t): n for t, n in info['trace'].items()})}\n",
    "\t\t\t\t for center, info in full_clusters.items()}\n",
    "len(full_clusters)"
   ],
   "metadata": {
    "collapsed": false,
    "ExecuteTime": {
     "end_time": "2023-11-15T11:45:02.288683801Z",
     "start_time": "2023-11-15T11:45:02.227546243Z"
    }
   },
   "id": "67d6a485e31e1cfb"
  },
  {
   "cell_type": "code",
   "execution_count": 71,
   "outputs": [],
   "source": [
    "_linepeek, _linewidth = 120, 120\n",
    "_numtop = 10\n",
    "vtitle = lambda aid: textwrap.fill(by_ID[aid].get('en-title', by_ID[aid]['title'])[:_linepeek], width=_linewidth)\n",
    "vID = lambda aid: by_ID[aid]['ID']\n",
    "vimp = lambda aid: prior_art_scores[aid]\n",
    "vtoptokens = lambda aid: ', '.join(w for w in sorted(all_bags[aid], key=lambda w: importances[w], reverse=True)[:_numtop]) + (f' [{len(all_bags[aid])-_numtop} more]' if len(all_bags[aid]) > _numtop else '')\n",
    "def makerow(aid, *fns):\n",
    "\treturn [fn(aid) for fn in fns]"
   ],
   "metadata": {
    "collapsed": false,
    "ExecuteTime": {
     "end_time": "2023-11-15T11:45:04.552165087Z",
     "start_time": "2023-11-15T11:45:04.521773939Z"
    }
   },
   "id": "311b55d424db3f88"
  },
  {
   "cell_type": "code",
   "execution_count": 72,
   "outputs": [
    {
     "name": "stdout",
     "output_type": "stream",
     "text": [
      "----------  -----------\n",
      "20200820    0.000487641\n",
      "devayne     0.000476788\n",
      "gooding     0.000389672\n",
      "8/20/20     0.000361956\n",
      "abidal      0.000295651\n",
      "blackberry  0.000281896\n",
      "gnabry      0.000223967\n",
      "momenta     0.000222501\n",
      "-media      0.000190317\n",
      "20/08/2020  0.000180978\n",
      "----------  -----------\n",
      "--  -----------  --  ------  --------------------------------------------------------------------------------------------------------------------------------  ------------------------------------------------------------------------------------------\n",
      " 0  0.000613189  zh  303370  Europa League | What’s the happiest thing about seeing Barcelona eliminated? Chios: Gloating messages spread wildly with          20200820, 23:35, chio, gloat, europa, barcelona, wildly, madrid, happy, eliminate [8 more]\n",
      " 1  0.000606971  en  310025  RuPaul's Drag Race star Chi Chi DeVayne has died aged 34 - Sky News                                                               devayne, rupaul, chi, aged, 34, drag, race, star, die\n",
      " 2  0.000606458  en  306213  Chi Chi DeVayne dead: RuPaul's Drag Race star dies at 34 after pneumonia battle - Irish Mirror                                    devayne, rupaul, chi, pneumonia, 34, drag, race, battle, dead, star [1 more]\n",
      " 3  0.000605022  en  309345  Chi Chi DeVayne, Popular Contestant on ‘RuPaul’s Drag Race,’ Dies at 34 - The New York Times                                      devayne, rupaul, chi, 34, drag, race, contestant, popular, die\n",
      " 4  0.00060286   es  309246  Chi Chi DeVayne, RuPaul's Drag Race contestant, dies | The Universal - The Universal                                              devayne, rupaul, chi, drag, race, universal, contestant, die\n",
      " 5  0.000602779  pl  306764  Chi Chi DeVayne is DEAD! The \"RuPaul's Drag Race\" participant was 34 years old - Pudelek                                          devayne, rupaul, chi, 34, drag, race, participant, dead, year, old\n",
      " 6  0.000602594  en  306322  'RuPaul's Drag Race' queen Chi Chi DeVayne dies at 34 - EW.com                                                                    devayne, rupaul, chi, 34, drag, race, queen, die\n",
      " 7  0.000601794  pt  306730  Chi Chi DeVayne, star of the series \"RuPaul's Drag Race\", has died - SAPO Mag                                                     devayne, rupaul, chi, series, drag, race, star, die\n",
      " 8  0.000601755  pt  306939  Chi Chi DeVayne, from RuPaul's Drag Race, dies at age 34 - UOL Entretenimento                                                     devayne, rupaul, chi, 34, drag, race, die, age\n",
      " 9  0.000601755  en  307711  'RuPaul's Drag Race' star Chi Chi DeVayne dies at 34 - Stuff.co.nz                                                                devayne, rupaul, chi, 34, drag, race, star, die\n",
      "10  0.000601755  es  307893  Chi Chi DeVayne from “RuPaul's Drag Race” dies at 34 - TONICA                                                                     devayne, rupaul, chi, 34, drag, race, die\n",
      "11  0.000601755  en  309318  'RuPaul's Drag Race' Star Chi Chi DeVayne Dead at 34 - Entertainment Tonight                                                      devayne, rupaul, chi, 34, drag, race, star, dead\n",
      "12  0.000601755  en  310584  RuPaul's Drag Race star Chi Chi DeVayne, 34, dies - News24                                                                        devayne, rupaul, chi, 34, drag, race, star, die\n",
      "13  0.000542838  zh  296531  【Ho Che 500】Buy Wharf and Sell Nine Properties - Ho Che ｜ Finance ｜ Daily ｜ He Che 500 ｜ Column ｜ Column ｜ 20200820 - Ho  20200820, che, wharf, properties, sell, ho, column, 500, nine, finance [2 more]\n",
      "14  0.000542118  zh  298935  It is rumored that Yang Ming was kicked out of TVB because of his poor image. Producer Wang Xinwei said he has no intent          20200820, xinwei, ming, tvb, intention, image, showbiz, yang, producer, kick [6 more]\n",
      "15  0.000540063  zh  303254  [Money Line 100%] 20200820 Full Version (Part 2) \"The Fed's monetary policy may turn around and overheat, and the market          20200820, fed, buck, >, overheat, gate, profit, ghost, financial, monetary [33 more]\n",
      "16  0.000529756  zh  300825  The police received a report about a sex clip of boys and girls from a prestigious school that was circulated online (19          20200820, 19:24, prestigious, clip, circulate, kong, hong, sex, boy, police [5 more]\n",
      "17  0.000525447  zh  298928  New coronavirus pneumonia | 18 new cases confirmed today, at least 17 are local infections in the past month and a half           20200820, 16:35, pneumonia, kong, hong, least, 18, 17, new, coronavirus [8 more]\n",
      "18  0.000522693  en  307206  Ru Paul's Drag Race star Chi Chi DeVayne dead aged 34 - BBC News                                                                  devayne, chi, ru, aged, 34, drag, race, paul, star, dead\n",
      "19  0.00051524   zh  297060  Ma Guoming transforms into soccer king Miss Tang Luowen and wants to release more funny clips - 20200820 - SHOWBIZ - Min          20200820, luowen, guoming, soccer, showbiz, clip, king, transform, funny, tang [3 more]\n",
      "--  -----------  --  ------  --------------------------------------------------------------------------------------------------------------------------------  ------------------------------------------------------------------------------------------\n"
     ]
    },
    {
     "data": {
      "text/plain": "15599"
     },
     "execution_count": 72,
     "metadata": {},
     "output_type": "execute_result"
    }
   ],
   "source": [
    "print(tabulate(today_tfidf.most_common(10)))\n",
    "print(tabulate([(i, imp, by_ID[aid]['language'], *makerow(aid, vID, vtitle, vtoptokens)) for i, (aid, imp) in\n",
    "\t\t\t\tenumerate(prior_art_scores.most_common(20))]))\n",
    "len(art_imps)"
   ],
   "metadata": {
    "collapsed": false,
    "ExecuteTime": {
     "end_time": "2023-11-15T11:45:04.573022167Z",
     "start_time": "2023-11-15T11:45:04.524208379Z"
    }
   },
   "id": "58df8e4c7c68a835"
  },
  {
   "cell_type": "code",
   "execution_count": 73,
   "outputs": [
    {
     "name": "stdout",
     "output_type": "stream",
     "text": [
      "------  --  ------------------------------------------------------------------------------------------------------------------------  -----------------------------------------------------------------------------------------------------------------------------------\n",
      "300135  25  ‘He gave me absolutely nothing’: Gerard Deulofeu offers scathing criticism of new Barcelona coach Ronald Koeman - The In  barcelona:22, gerard:1, nothing:1, deulofeu:1, koeman:1, coach:1, ronald:1, anything:1, manager:1\n",
      "287817  22  Champions League | Serge Gnabry guides Bayern Munich to the final against PSG - Fichajes.com                              champions:2, serge:2, munich:2, bayern:2, gnabry:2, arsenal:2, hero:1, dream:1, regret:1, wenger:1, flick:1, hansi:1\n",
      "300051  22  Earth's magnetic field anomaly over the Atlantic has split in two, now expanding westward: NASA - Firstpost               grow:4, nasa:2, anomaly:2, magnetic:2, field:2, strange:2, atlantic:1, split:1, investigates:1, mysterious:1, track:1\n",
      "307145  21  DC will do what Marvel has not wanted to do: Ben Affleck and Michael Keaton will reprise their roles as Batman in... - X  flash:6, michael:1, reprise:1, batman:1, ben:1, affleck:1, keaton:1, role:1, alongside:1, version:1\n",
      "303156  21  ZTE Axon 20 5G gets rid of notches and retractable cameras to promote sensor under the screen in teaser - Tudocelular.co  smartphone:7, g:3, zte:3, axon:3, screen:3, camera:2, sensor:1, render:1, selfie:1, display:1, front:1\n",
      "296389  18  TV Show and Film Schedule Thursday 20 August on Trans TV, GTV, Trans7, TVRI, SCTV, Indosiar, RCTI - Wartakota             21:17, friday:17, rcti:1, schedule:1, trans:1, august:1, sctv:1, gtv:1, tvri:1\n",
      "295537  18  Meghan Markle, Prince Harry enchanted by Santa Barbara after ‘turbulent move: source - Geo News                           harry:2, santa:2, meghan:2, barbara:2, markle:2, prince:2, hollywood:2, secret:2, joint:1, appearance:1, crown:1\n",
      "310049  17  Biden pledges to end US 'darkness' in accepting Democratic nomination - CNA                                               accept:5, biden:5, nomination:5, democratic:4, joe:3, presidential:3, trump:3, america:2, season:2, darkness:1, officially:1, vow:1\n",
      "311153  16  Record melt: Greenland lost 586 billion tonnes of ice in 2019 - The Indian Express                                        sheet:4, sea:3, melt:1, 586:1, ice:1, 2019:1, greenland:1, ever:1\n",
      "309326  16  NBA》Antetokounmpo’s crazy double-20 performance helped the Bucks equalize the Magic series-Free Times E-Newsletter       times:10, >:10, e:10, magic:5, series:4, nba:4, antetokounmpo:3, bucks:3, equalize:2\n",
      "310025  15  RuPaul's Drag Race star Chi Chi DeVayne has died aged 34 - Sky News                                                       drag:10, devayne:10, chi:10, 34:10, race:10, rupaul:9, aged:1, contestant:1\n",
      "301725  15  Alphonso Davies reveals Messi's reaction when he asked for his shirt after (2-8) and the reason for the rejection! - RT   bayern:3, barca:3, lionel:2, barcelona:2, reaction:1, messi:1, alphonso:1, davies:1, shirt:1, upset:1, jersey:1\n",
      "304122  15  Resistance Thermometers (RTD) COVID-19 Market Impact Analysis 2020 by Market Investment, Business Overview, Scope and Fo  investment:5, overview:5, analysis:5, impact:5, scope:5, 2026:5, forecast:5, acid:1\n",
      "302596  15  PS5 And Xbox Series X Pricing Does Not Seem Likely For August, As Wait Continues - Forbes                                 series:2, xbox:2, x:2, ps5:2\n",
      "307490  15  Premier League fixtures released: Liverpool will host Leeds United to kick off season | ESPN FC - ESPN UK                 liverpool:3, season:3, leeds:3, title:3, match:3, schedule:3, premier:2, kick:1\n",
      "311008  15  Different from the Common Flu, These Are the Characteristics of Loss of Sense of Smell Due to Covid-19 - HiMedik.com - h  taste:5, cold:4, different:1, smell:1, flu:1, loss:1, sense:1, occur:1\n",
      "298862  14  Get in touch with of Duty Black Ops: Cold War Introduced, Throughout the world Reveal Established for August 26 - Aviati  26:1, duty:1, ops:1, cold:1, war:1, august:1, officially:1\n",
      "288795  14  Hundreds of iPhones With Fortnite Installed Flood eBay - MacRumors                                                        instal:9, sell:9, ebay:1, hundred:1, iphones:1, fortnite:1\n",
      "294220  13  How good is Samsung Galaxy Note 20 Ultra's Gorilla Glass Victus? (video) - Techmaniacs                                    galaxy:13, ultra:13, note:13\n",
      "284081  12  Already indicted for touching and sexual harassment, Cuba Gooding Jr. this time accused of rape - Paris Match Belgium     jr.:12, gooding:12, rape:11, sexual:1\n",
      "------  --  ------------------------------------------------------------------------------------------------------------------------  -----------------------------------------------------------------------------------------------------------------------------------\n"
     ]
    }
   ],
   "source": [
    "signatures = {}\n",
    "for center, info in full_clusters.items():\n",
    "\tfeatures = Counter()\n",
    "\tfor tier, tokens in info['tokens'].items():\n",
    "\t\tfeatures.update(tokens)\n",
    "\tsignatures[center] = features\n",
    "claids = {center: set(aid for aids in info['tiers'].values() for aid in aids) for center, info in full_clusters.items()}\n",
    "claidcnts = Counter({center: len(aids) for center, aids in claids.items()})\n",
    "# print(tabulate([center, len(aids), by_ID[center].get('en-title', by_ID[center]['title'])] for center, aids in claids[:10]))\n",
    "print(tabulate([center, cnt, vtitle(center),\n",
    "\t\t\t\t', '.join(f'{w}:{f}' for w, f in signatures[center].most_common())] \n",
    "\t\t\t   for center, cnt in claidcnts.most_common(20)))"
   ],
   "metadata": {
    "collapsed": false,
    "ExecuteTime": {
     "end_time": "2023-11-15T11:45:07.793577385Z",
     "start_time": "2023-11-15T11:45:07.754265478Z"
    }
   },
   "id": "ee9cdeae342b62fe"
  },
  {
   "cell_type": "code",
   "execution_count": 74,
   "outputs": [
    {
     "name": "stdout",
     "output_type": "stream",
     "text": [
      "Counter({'grow': 4, 'nasa': 2, 'anomaly': 2, 'magnetic': 2, 'field': 2, 'strange': 2, 'atlantic': 1, 'split': 1, 'investigates': 1, 'mysterious': 1, 'track': 1})\n",
      "-  ------  ------------------------------------------------------------------------------------------------------------------------------------------  --  --------------------------------------------------------------------------------------\n",
      "X  300051  Earth's magnetic field anomaly over the Atlantic has split in two, now expanding westward: NASA - Firstpost                                 en  anomaly, westward, atlantic, magnetic, split, nasa, expand, field\n",
      "5  281520  Weakening Earth's Magnetic Field Could Cause Danger, NASA Investigates South Atlantic Anomaly - People's Thoughts                           id  anomaly, investigates, atlantic, magnetic, nasa, weaken, field\n",
      "5  281302  NASA says 'anomaly' in Earth's magnetic field is splitting - Pplware                                                                        pt  anomaly, magnetic, split, nasa, field\n",
      "4  303393  NASA finds an anomaly in the Earth's magnetic field in South America - Very Interesting Mexico                                              es  anomaly, magnetic, nasa, field, america\n",
      "4  294275  NASA monitors anomaly in Earth's magnetic field - Olhar Digital                                                                             pt  anomaly, magnetic, nasa, field, monitor\n",
      "4  305318  NASA investigates anomaly in Earth's magnetic field, which could cause chaos in communications - G1                                         pt  anomaly, magnetic, nasa, field, communication, chaos, investigate\n",
      "4  295689  NASA studies a strange anomaly in the Earth's magnetic field - Clarín                                                                       es  anomaly, magnetic, strange, nasa, field\n",
      "4  289677  Warning of Danger, NASA Investigates Mysterious Areas in Earth's Magnetic Field - Suara.com                                                 id  investigates, areas, magnetic, mysterious, nasa, field\n",
      "4  283312  The South Atlantic anomaly in the Earth's magnetic field is increasing - novinky.cz                                                         cs  anomaly, atlantic, magnetic, field\n",
      "4  309073  NASA investigates anomaly in Earth's magnetic field, which could cause chaos in communications - HOUR 7                                     pt  anomaly, magnetic, nasa, field, communication, chaos, investigate\n",
      "4  292914  NASA recorded an anomaly in the Earth's magnetic field - Ukrinform. News of Ukraine and the world                                           uk  anomaly, magnetic, nasa, field\n",
      "4  298420  NASA Tracks Huge Growing Anomaly in Earth's Magnetic Field (Video) - OFFNews                                                                bg  anomaly, magnetic, nasa, field, grow, track\n",
      "4  279930  NASA Closely Monitors Vast Anomaly in Earth's Magnetic Field - Trust My Science                                                             fr  anomaly, closely, magnetic, vast, nasa, field, monitor\n",
      "3  307877  Weak spot in Earth's magnetic field is growing, may harm satellites - Business Insider - Business Insider                                   en  magnetic, field, harm, satellite, grow, spot, insider, weak\n",
      "3  304939  A mysterious anomaly in the Earth's magnetic field began to mutate. Are we preparing for the end of the world? - HB (in Ukrainian)          uk  anomaly, magnetic, mutate, mysterious, field\n",
      "3  287448  Growing 'dent' in earth's magnetic field over Atlantic ocean puzzles scientists - 7NEWS.com.au                                              en  dent, atlantic, magnetic, field, grow, puzzle, ocean\n",
      "3  294259  Challenging anomaly in Earth's magnetic field appears to be growing and changing - Scientias.nl                                             nl  anomaly, magnetic, appear, field, grow, challenge\n",
      "3  259605  The strange formation of the Earth's magnetic field splits - Origo                                                                          hu  magnetic, split, strange, field, formation\n",
      "3  295062  NASA discovers a dent in the Earth's magnetic field - Tecnoxplora                                                                           es  dent, magnetic, nasa, field\n",
      "3  305591  Earth's magnetic field anomaly is growing - SoCientífica                                                                                    pt  anomaly, magnetic, field, grow\n",
      "3  291128  NASA tracks strange \"dents\" in the Earth's magnetic field. Satellites \"passing\" this area may be damaged - Scientific Exploration - cnBeta  zh  dent, magnetic, scientific, strange, nasa, pass, field, exploration, satellite, damage\n",
      "3  283862  How NASA deals with the \"indentation\" in the Earth's magnetic field - Longplay.si                                                           sl  indentation, magnetic, deal, nasa, field\n",
      "3  292415  Urgent coded statement from NASA: The magnetic field is collapsing! - ABC Newspaper                                                         tr  coded, magnetic, nasa, field, collapse, urgent\n",
      "-  ------  ------------------------------------------------------------------------------------------------------------------------------------------  --  --------------------------------------------------------------------------------------\n"
     ]
    },
    {
     "data": {
      "text/plain": "23"
     },
     "execution_count": 74,
     "metadata": {},
     "output_type": "execute_result"
    }
   ],
   "source": [
    "crs = 2906997\n",
    "# crs = 2905115\n",
    "# crs = 2911138\n",
    "# crs = 2905545\n",
    "crs = 300051\n",
    "\n",
    "info = full_clusters[crs]\n",
    "tokens, tiers, trace = info['tokens'], info['tiers'], info['trace']\n",
    "base = signatures[crs]\n",
    "print(base)\n",
    "print(tabulate([(tier, aid, textwrap.fill(by_ID[aid].get('en-title', by_ID[aid]['title']), 150), by_ID[aid]['language'],\n",
    "\t\t\t\t ', '.join(art_keywords[aid][:10])) for tier in ['X', *sorted(tiers.keys(), reverse=True)] for aid in\n",
    "\t\t\t\ttiers.get(tier, [crs])]))\n",
    "sum(len(vs) for vs in tiers.values()) + 1"
   ],
   "metadata": {
    "collapsed": false,
    "ExecuteTime": {
     "end_time": "2023-11-15T11:45:25.254676100Z",
     "start_time": "2023-11-15T11:45:25.200673329Z"
    }
   },
   "id": "adc41906256191d9"
  },
  {
   "cell_type": "code",
   "execution_count": 75,
   "outputs": [
    {
     "name": "stdout",
     "output_type": "stream",
     "text": [
      "Counter({'magnetic': 23, 'field': 23, 'nasa': 16, 'anomaly': 15, 'grow': 5, 'atlantic': 4, 'split': 3, 'strange': 3, 'investigates': 2, 'mysterious': 2, 'track': 2})\n",
      "------  --------  -----------------------------------------------------------------------------------------------------------------\n",
      "300051  0.857143  Earth's magnetic field anomaly over the Atlantic has split in two, now expanding westward: NASA - Firstpost\n",
      "298420  0.857143  NASA Tracks Huge Growing Anomaly in Earth's Magnetic Field (Video) - OFFNews\n",
      "281520  0.846939  Weakening Earth's Magnetic Field Could Cause Danger, NASA Investigates South Atlantic Anomaly - People's Thoughts\n",
      "295689  0.816327  NASA studies a strange anomaly in the Earth's magnetic field - Clarín\n",
      "281302  0.816327  NASA says 'anomaly' in Earth's magnetic field is splitting - Pplware\n",
      "292415  0.632653  Urgent coded statement from NASA: The magnetic field is collapsing! - ABC Newspaper\n",
      "283862  0.632653  How NASA deals with the \"indentation\" in the Earth's magnetic field - Longplay.si\n",
      "287448  0.561224  Growing 'dent' in earth's magnetic field over Atlantic ocean puzzles scientists - 7NEWS.com.au\n",
      "259605  0.530612  The strange formation of the Earth's magnetic field splits - Origo\n",
      "307877  0.520408  Weak spot in Earth's magnetic field is growing, may harm satellites - Business Insider - Business Insider\n",
      "------  --------  -----------------------------------------------------------------------------------------------------------------\n"
     ]
    },
    {
     "data": {
      "text/plain": "0.6326530612244898"
     },
     "execution_count": 75,
     "metadata": {},
     "output_type": "execute_result"
    }
   ],
   "source": [
    "freqs = Counter({w: len([aid for aid in [crs, *claids[crs]] if w in all_bags[aid]]) for w in base})\n",
    "freqs = Counter({w: f for w, f in freqs.items() if f > 0})\n",
    "print(freqs)\n",
    "den = sum(freqs.values())\n",
    "def compute_score(aid):\n",
    "\treturn sum(f for w, f in freqs.items() if w in all_bags[aid]) / den\n",
    "scores = Counter({aid: compute_score(aid) for aid in [crs, *claids[crs]]})\n",
    "pct_threshold = int(0.8 * len(scores))\n",
    "threshold = sorted(scores.values(), reverse=True)[pct_threshold]\n",
    "print(tabulate([(aid, score, vtitle(aid)) for aid, score in (scores.most_common(5) + scores.most_common()[-5:])]))\n",
    "threshold"
   ],
   "metadata": {
    "collapsed": false,
    "ExecuteTime": {
     "end_time": "2023-11-15T11:45:27.517076782Z",
     "start_time": "2023-11-15T11:45:27.509165045Z"
    }
   },
   "id": "acfc7ed21e0d3b40"
  },
  {
   "cell_type": "code",
   "execution_count": 76,
   "outputs": [
    {
     "data": {
      "text/plain": "  0%|          | 0/4719199 [00:00<?, ?it/s]",
      "application/vnd.jupyter.widget-view+json": {
       "version_major": 2,
       "version_minor": 0,
       "model_id": "8ce120292a894893a7c34ff4bb1a242e"
      }
     },
     "metadata": {},
     "output_type": "display_data"
    },
    {
     "name": "stdout",
     "output_type": "stream",
     "text": [
      "------  --------  ----------  ------------------------------------------------------------------------------------------------------------------\n",
      "264324  0.867347  2020-08-19  NASA is intensively monitoring a strange and growing anomaly in the Earth's magnetic field - Fontech\n",
      "234188  0.857143  2020-08-18  NASA Is Tracking a Vast, Growing Anomaly in Earth's Magnetic Field - ScienceAlert\n",
      "324906  0.857143  2020-08-23  NASA is tracking a huge number of growing anomalies in the Earth's magnetic field - cikycaky.sk\n",
      "408938  0.857143  2020-08-27  NASA is tracking a huge number of growing anomalies in the Earth's magnetic field - cikycaky.sk\n",
      "481824  0.857143  2020-08-31  NASA is tracking a huge number of growing anomalies in the Earth's magnetic field - cikycaky.sk\n",
      "533426  0.857143  2020-09-03  NASA is tracking a huge number of growing anomalies in the Earth's magnetic field - cikycaky.sk\n",
      "298420  0.857143  2020-08-21  NASA Tracks Huge Growing Anomaly in Earth's Magnetic Field (Video) - OFFNews\n",
      "300051  0.857143  2020-08-21  Earth's magnetic field anomaly over the Atlantic has split in two, now expanding westward: NASA - Firstpost\n",
      "281520  0.846939  2020-08-20  Weakening Earth's Magnetic Field Could Cause Danger, NASA Investigates South Atlantic Anomaly - People's Thoughts\n",
      "258109  0.836735  2020-08-19  NASA monitors a huge, growing anomaly in the Earth's magnetic field - Longplay.si\n",
      "314363  0.826531  2020-08-22  NASA Investigates Mysterious Magnetic Field Anomaly on Earth which is Increasingly Weakening Page all - KOMPAS.com\n",
      "322321  0.826531  2020-08-23  NASA Investigates Mysterious Magnetic Field Anomaly on Earth which is Increasingly Weakening Page all - KOMPAS.com\n",
      "281302  0.816327  2020-08-20  NASA says 'anomaly' in Earth's magnetic field is splitting - Pplware\n",
      "295689  0.816327  2020-08-21  NASA studies a strange anomaly in the Earth's magnetic field - Clarín\n",
      "263291  0.806122  2020-08-19  NASA tracks slow movement in anomaly in Earth's magnetic field - FreeGameGuide\n",
      "303393  0.785714  2020-08-21  NASA finds an anomaly in the Earth's magnetic field in South America - Very Interesting Mexico\n",
      "466363  0.785714  2020-08-30  NASA warned about an anomaly in the Earth's magnetic field - tv3.lt\n",
      "279930  0.785714  2020-08-20  NASA Closely Monitors Vast Anomaly in Earth's Magnetic Field - Trust My Science\n",
      "313430  0.785714  2020-08-22  NASA monitors an anomaly in Earth's magnetic field that threatens satellites and the ISS - Business Insider\n",
      "292914  0.785714  2020-08-20  NASA recorded an anomaly in the Earth's magnetic field - Ukrinform. News of Ukraine and the world\n",
      "------  --------  ----------  ------------------------------------------------------------------------------------------------------------------\n"
     ]
    },
    {
     "data": {
      "text/plain": "55"
     },
     "execution_count": 76,
     "metadata": {},
     "output_type": "execute_result"
    }
   ],
   "source": [
    "hits = Counter()\n",
    "for aid in tqdm(by_ID):\n",
    "\tif aid is not scores:\n",
    "\t\tscore = compute_score(aid)\n",
    "\t\tif score > threshold:\n",
    "\t\t\thits[aid] = score\n",
    "print(tabulate([(aid, score, by_ID[aid]['instances'][0]['collectedAt'].split('T')[0], vtitle(aid)) for aid, score in hits.most_common(20)]))\n",
    "len(hits)"
   ],
   "metadata": {
    "collapsed": false,
    "ExecuteTime": {
     "end_time": "2023-11-15T11:45:37.028844132Z",
     "start_time": "2023-11-15T11:45:29.687562792Z"
    }
   },
   "id": "7a1d44431494ffb6"
  },
  {
   "cell_type": "code",
   "execution_count": 88,
   "outputs": [
    {
     "name": "stderr",
     "output_type": "stream",
     "text": [
      "/tmp/ipykernel_3462777/503449602.py:2: SettingWithCopyWarning: \n",
      "A value is trying to be set on a copy of a slice from a DataFrame.\n",
      "Try using .loc[row_indexer,col_indexer] = value instead\n",
      "\n",
      "See the caveats in the documentation: https://pandas.pydata.org/pandas-docs/stable/user_guide/indexing.html#returning-a-view-versus-a-copy\n",
      "  sub['score'] = sub['aid'].map(hits)\n"
     ]
    },
    {
     "ename": "AttributeError",
     "evalue": "module 'matplotlib.pyplot' has no attribute 'AutoMinorLocator'",
     "output_type": "error",
     "traceback": [
      "\u001B[0;31m---------------------------------------------------------------------------\u001B[0m",
      "\u001B[0;31mAttributeError\u001B[0m                            Traceback (most recent call last)",
      "Cell \u001B[0;32mIn[88], line 17\u001B[0m\n\u001B[1;32m     13\u001B[0m \u001B[38;5;66;03m# ax = plt.gca()\u001B[39;00m\n\u001B[1;32m     14\u001B[0m \u001B[38;5;66;03m# ax.xaxis.set_minor_locator(AutoMinorLocator())\u001B[39;00m\n\u001B[1;32m     16\u001B[0m plt\u001B[38;5;241m.\u001B[39mgca()\u001B[38;5;241m.\u001B[39mminorticks_on()\n\u001B[0;32m---> 17\u001B[0m plt\u001B[38;5;241m.\u001B[39mgca()\u001B[38;5;241m.\u001B[39mxaxis\u001B[38;5;241m.\u001B[39mset_minor_locator(\u001B[43mplt\u001B[49m\u001B[38;5;241;43m.\u001B[39;49m\u001B[43mAutoMinorLocator\u001B[49m())\n\u001B[1;32m     19\u001B[0m \u001B[38;5;66;03m# ax.tick_params(which='minor', length=4, color='r')  # Customize minor tick length and color\u001B[39;00m\n\u001B[1;32m     20\u001B[0m \n\u001B[1;32m     21\u001B[0m \u001B[38;5;66;03m# cat = 'language'\u001B[39;00m\n\u001B[1;32m     22\u001B[0m \u001B[38;5;66;03m# grouped_df = sub.groupby(['date', cat]).size().reset_index(name='counts')\u001B[39;00m\n\u001B[1;32m     23\u001B[0m \u001B[38;5;66;03m# plt.figure(figsize=(14, 7))\u001B[39;00m\n\u001B[1;32m     24\u001B[0m \u001B[38;5;66;03m# sns.histplot(data=grouped_df, x='date', weights='counts', hue=cat, multiple='stack')\u001B[39;00m\n\u001B[1;32m     26\u001B[0m plt\u001B[38;5;241m.\u001B[39mxticks(rotation\u001B[38;5;241m=\u001B[39m\u001B[38;5;241m45\u001B[39m);\n",
      "\u001B[0;31mAttributeError\u001B[0m: module 'matplotlib.pyplot' has no attribute 'AutoMinorLocator'"
     ]
    },
    {
     "data": {
      "text/plain": "<Figure size 4000x500 with 2 Axes>",
      "image/png": "[encoded data removed]"
     },
     "metadata": {},
     "output_type": "display_data"
    }
   ],
   "source": [
    "sub = df[df['aid'].isin(set([crs, *hits, *claids[crs]]))]\n",
    "sub['score'] = sub['aid'].map(hits)\n",
    "sub = sub.sort_values('score', ascending=True)\n",
    "sub\n",
    "\n",
    "plt.figure(figsize=(40, 5))\n",
    "\n",
    "# sns.histplot(data=sub, x='date', hue='score', multiple='stack')\n",
    "cmap = sns.color_palette(\"viridis\", as_cmap=True)\n",
    "sns.histplot(data=sub, x='date', hue='score', multiple='stack', palette=cmap, legend=False)\n",
    "\n",
    "plt.colorbar(plt.cm.ScalarMappable(cmap=cmap), ax=plt.gca())\n",
    "# ax = plt.gca()\n",
    "# ax.xaxis.set_minor_locator(AutoMinorLocator())\n",
    "\n",
    "plt.gca().minorticks_on()\n",
    "plt.gca().xaxis.set_minor_locator(plt.AutoMinorLocator())\n",
    "\n",
    "# ax.tick_params(which='minor', length=4, color='r')  # Customize minor tick length and color\n",
    "\n",
    "# cat = 'language'\n",
    "# grouped_df = sub.groupby(['date', cat]).size().reset_index(name='counts')\n",
    "# plt.figure(figsize=(14, 7))\n",
    "# sns.histplot(data=grouped_df, x='date', weights='counts', hue=cat, multiple='stack')\n",
    "\n",
    "plt.xticks(rotation=45);"
   ],
   "metadata": {
    "collapsed": false,
    "ExecuteTime": {
     "end_time": "2023-11-15T11:52:37.715291185Z",
     "start_time": "2023-11-15T11:52:33.810865211Z"
    }
   },
   "id": "e92657e838e81908"
  },
  {
   "cell_type": "code",
   "execution_count": null,
   "outputs": [],
   "source": [],
   "metadata": {
    "collapsed": false
   },
   "id": "e287f137ea6ef8a6"
  },
  {
   "cell_type": "code",
   "execution_count": null,
   "outputs": [],
   "source": [],
   "metadata": {
    "collapsed": false
   },
   "id": "8dd49f466f571196"
  },
  {
   "cell_type": "code",
   "execution_count": null,
   "outputs": [],
   "source": [],
   "metadata": {
    "collapsed": false
   },
   "id": "baac5bf543b98a3e"
  }
 ],
 "metadata": {
  "kernelspec": {
   "display_name": "Python 3",
   "language": "python",
   "name": "python3"
  },
  "language_info": {
   "codemirror_mode": {
    "name": "ipython",
    "version": 2
   },
   "file_extension": ".py",
   "mimetype": "text/x-python",
   "name": "python",
   "nbconvert_exporter": "python",
   "pygments_lexer": "ipython2",
   "version": "2.7.6"
  }
 },
 "nbformat": 4,
 "nbformat_minor": 5
}
