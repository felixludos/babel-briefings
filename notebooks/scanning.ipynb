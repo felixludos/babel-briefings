{
 "cells": [
  {
   "cell_type": "code",
   "execution_count": 1,
   "id": "initial_id",
   "metadata": {
    "collapsed": true,
    "ExecuteTime": {
     "end_time": "2023-10-30T15:54:54.648447700Z",
     "start_time": "2023-10-30T15:54:53.514583400Z"
    }
   },
   "outputs": [],
   "source": [
    "from pathlib import Path\n",
    "from tqdm.notebook import tqdm\n",
    "import json\n",
    "from tabulate import tabulate\n",
    "import random\n",
    "# import pycountry\n",
    "from iso639 import languages\n",
    "import networkx as nx\n",
    "from dateutil import parser\n",
    "from datetime import datetime\n",
    "from collections import Counter\n",
    "# from langdetect import detect\n",
    "from omnibelt import load_json, save_json\n",
    "# from transformers import MBartForConditionalGeneration, MBart50TokenizerFast\n",
    "# from transformers import pipeline"
   ]
  },
  {
   "cell_type": "code",
   "execution_count": 78,
   "outputs": [],
   "source": [
    "loc_names = {'gb': 'United Kingdom', 'ar': 'Argentina', 'pl': 'Poland', 'sk': 'Slovakia', 'us': 'United States', 'eg': 'Egypt', 'no': 'Norway', 'ph': 'Philippines', 'at': 'Austria', 'rs': 'Serbia', 'tw': 'Taiwan', 'be': 'Belgium', 'cu': 'Cuba', 'sa': 'Saudi Arabia', 'th': 'Thailand', 'id': 'Indonesia', 'ru': 'Russian Federation', 'ch': 'Switzerland', 'fr': 'France', 'lt': 'Lithuania', 'tr': 'Turkey', 'de': 'Germany', 'cz': 'Czechia', 'pt': 'Portugal', 'ae': 'United Arab Emirates', 'it': 'Italy', 'cn': 'China', 'lv': 'Latvia', 'nl': 'Netherlands', 'hk': 'Hong Kong', 'ca': 'Canada', 'br': 'Brazil', 'hu': 'Hungary', 'kr': 'Korea', 'si': 'Slovenia', 'au': 'Australia', 'my': 'Malaysia', 'ie': 'Ireland', 'ua': 'Ukraine', 'in': 'India', 'ma': 'Morocco', 'bg': 'Bulgaria', 'ng': 'Nigeria', 'il': 'Israel', 'se': 'Sweden', 'za': 'South Africa', 've': 'Venezuela', 'nz': 'New Zealand', 'jp': 'Japan', 'sg': 'Singapore', 'gr': 'Greece', 'mx': 'Mexico', 'co': 'Colombia', 'ro': 'Romania'}\n",
    "lang_clusters = {'en': ['au', 'ca', 'gb', 'ie', 'in', 'my', 'ng', 'nz', 'ph', 'sa', 'sg', 'us', 'za'], 'es': ['ar', 'co', 'cu', 'mx', 've'], 'de': ['at', 'ch', 'de'], 'fr': ['be', 'fr', 'ma'], 'zh': ['cn', 'hk', 'tw'], 'ar': ['ae', 'eg'], 'pt': ['br', 'pt'], 'bg': ['bg'], 'cs': ['cz'], 'el': ['gr'], 'he': ['il'], 'hu': ['hu'], 'id': ['id'], 'it': ['it'], 'ja': ['jp'], 'ko': ['kr'], 'lt': ['lt'], 'lv': ['lv'], 'nl': ['nl'], 'no': ['no'], 'pl': ['pl'], 'ro': ['ro'], 'ru': ['ru'], 'sv': ['se'], 'sl': ['si'], 'sk': ['sk'], 'sr': ['rs'], 'th': ['th'], 'tr': ['tr'], 'uk': ['ua']}"
   ],
   "metadata": {
    "collapsed": false,
    "ExecuteTime": {
     "end_time": "2023-10-30T17:08:55.377077900Z",
     "start_time": "2023-10-30T17:08:55.345320100Z"
    }
   },
   "id": "f459048125019349"
  },
  {
   "cell_type": "code",
   "execution_count": 3,
   "outputs": [
    {
     "data": {
      "text/plain": "54"
     },
     "execution_count": 3,
     "metadata": {},
     "output_type": "execute_result"
    }
   ],
   "source": [
    "root = Path(r'C:\\Users\\anwan\\workspace\\local_data\\nnn-manual')\n",
    "recs = (root/'nnn-v1').glob(f'**/*.json')\n",
    "recs = list(recs)\n",
    "len(recs)"
   ],
   "metadata": {
    "collapsed": false,
    "ExecuteTime": {
     "end_time": "2023-10-30T15:54:54.923013400Z",
     "start_time": "2023-10-30T15:54:54.875497700Z"
    }
   },
   "id": "c331d8893c8e2f0e"
  },
  {
   "cell_type": "code",
   "execution_count": 10,
   "outputs": [
    {
     "data": {
      "text/plain": "54"
     },
     "execution_count": 10,
     "metadata": {},
     "output_type": "execute_result"
    }
   ],
   "source": [
    "cluster_id = {loc: lang for lang, locs in lang_clusters.items() for loc in locs}\n",
    "len(cluster_id)"
   ],
   "metadata": {
    "collapsed": false,
    "ExecuteTime": {
     "end_time": "2023-10-30T16:09:01.120101300Z",
     "start_time": "2023-10-30T16:09:01.104731800Z"
    }
   },
   "id": "8131628c4963c9ab"
  },
  {
   "cell_type": "code",
   "execution_count": 42,
   "outputs": [],
   "source": [
    "cat_counter = Counter()\n",
    "loc_counter = Counter()\n",
    "lang_counter = Counter()\n",
    "total_instances = 0"
   ],
   "metadata": {
    "collapsed": false,
    "ExecuteTime": {
     "end_time": "2023-10-30T16:50:35.772727600Z",
     "start_time": "2023-10-30T16:50:35.749156700Z"
    }
   },
   "id": "f5f46ee4f0039441"
  },
  {
   "cell_type": "code",
   "execution_count": 43,
   "outputs": [
    {
     "data": {
      "text/plain": "  0%|          | 0/54 [00:00<?, ?it/s]",
      "application/vnd.jupyter.widget-view+json": {
       "version_major": 2,
       "version_minor": 0,
       "model_id": "b742deec07f4430cb1a92f9ad8443b37"
      }
     },
     "metadata": {},
     "output_type": "display_data"
    }
   ],
   "source": [
    "# sel = []\n",
    "for rec in tqdm(recs):\n",
    "\tarts = load_json(rec)\n",
    "\tfor art in arts:\n",
    "\t\t# if 'language' not in art:\n",
    "\t\t# \tlangs = set(cluster_id[inst['location']] for inst in art['instances'])\n",
    "\t\t# \tif len(langs) > 1:\n",
    "\t\t# \t\tart['language'] = 'pt'\n",
    "\t\t# \telse:\n",
    "\t\t# \t\tart['language'] = langs.pop()\n",
    "\t\ttotal_instances += len(art['instances'])\n",
    "\t\tcat_counter.update(set(inst['category'] for inst in art['instances']))\n",
    "\t\tloc_counter.update(set(inst['location'] for inst in art['instances']))\n",
    "\tlang_counter.update([art['language'] for art in arts])\n",
    "\t# rec.write_text(json.dumps(arts), encoding='utf8')\n",
    "\t\t# if len(langs) > 1:\n",
    "\t\t# \tsel.append(art)\n",
    "\t\t# collected = [inst['collectedAt'] for inst in art['instances']]\n",
    "\t\t# if earliest_date is None:\n",
    "\t\t# \tearliest_date = collected[0]\n",
    "\t\t# earliest_date = min(earliest_date, *collected)\n",
    "\t\t# if latest_date is None:\n",
    "\t\t# \tlatest_date = collected[0]\n",
    "\t\t# latest_date = max(latest_date, *collected)\n",
    "\t# if len(sel) > 10:\n",
    "\t# \tbreak\n",
    "# len(sel)"
   ],
   "metadata": {
    "collapsed": false,
    "ExecuteTime": {
     "end_time": "2023-10-30T16:53:11.254476700Z",
     "start_time": "2023-10-30T16:50:36.103576500Z"
    }
   },
   "id": "bece4fc818769e33"
  },
  {
   "cell_type": "code",
   "execution_count": null,
   "outputs": [],
   "source": [
    "print(tabulate([[code, loc_names[code], v] for code, v in loc_counter.most_common()], headers=['Code', 'Name', 'Instances'], tablefmt='github'))"
   ],
   "metadata": {
    "collapsed": false,
    "ExecuteTime": {
     "start_time": "2023-10-30T16:53:11.315968Z"
    }
   },
   "id": "cce6d52c190d16cf"
  },
  {
   "cell_type": "code",
   "execution_count": null,
   "outputs": [],
   "source": [
    "print(tabulate([[code, v] for code, v in cat_counter.most_common()], headers=['Category', 'Instances'], tablefmt='github'))"
   ],
   "metadata": {
    "collapsed": false,
    "ExecuteTime": {
     "start_time": "2023-10-30T16:53:11.318269600Z"
    }
   },
   "id": "ec21628f7b6efcb"
  },
  {
   "cell_type": "code",
   "execution_count": 80,
   "outputs": [
    {
     "name": "stdout",
     "output_type": "stream",
     "text": [
      "| Code   | Language   |   Articles | Locations                                          |\n",
      "|--------|------------|------------|----------------------------------------------------|\n",
      "| en     | English    |    1128233 | au, ca, gb, ie, in, my, ng, nz, ph, sa, sg, us, za |\n",
      "| es     | Spanish    |     455952 | ar, co, cu, mx, ve                                 |\n",
      "| fr     | French     |     288328 | be, fr, ma                                         |\n",
      "| zh     | Chinese    |     270887 | cn, hk, tw                                         |\n",
      "| de     | German     |     259718 | at, ch, de                                         |\n",
      "| pt     | Portuguese |     243829 | br, pt                                             |\n",
      "| ar     | Arabic     |     178854 | ae, eg                                             |\n",
      "| id     | Indonesian |     131252 | id                                                 |\n",
      "| it     | Italian    |     129005 | it                                                 |\n",
      "| tr     | Turkish    |     122724 | tr                                                 |\n",
      "| el     | Greek      |     119940 | gr                                                 |\n",
      "| ja     | Japanese   |     118475 | jp                                                 |\n",
      "| pl     | Polish     |     116904 | pl                                                 |\n",
      "| ru     | Russian    |     113395 | ru                                                 |\n",
      "| nl     | Dutch      |     104031 | nl                                                 |\n",
      "| th     | Thai       |      90708 | th                                                 |\n",
      "| sv     | Swedish    |      86838 | se                                                 |\n",
      "| ko     | Korean     |      83090 | kr                                                 |\n",
      "| sr     | Serbian    |      80040 | rs                                                 |\n",
      "| hu     | Hungarian  |      73509 | hu                                                 |\n",
      "| cs     | Czech      |      70647 | cz                                                 |\n",
      "| he     | Hebrew     |      67794 | il                                                 |\n",
      "| bg     | Bulgarian  |      67223 | bg                                                 |\n",
      "| uk     | Ukrainian  |      65610 | ua                                                 |\n",
      "| ro     | Romanian   |      54601 | ro                                                 |\n",
      "| no     | Norwegian  |      46804 | no                                                 |\n",
      "| sk     | Slovak     |      43057 | sk                                                 |\n",
      "| lv     | Latvian    |      40006 | lv                                                 |\n",
      "| lt     | Lithuanian |      34719 | lt                                                 |\n",
      "| sl     | Slovenian  |      33026 | si                                                 |\n"
     ]
    }
   ],
   "source": [
    "print(tabulate([[code, languages.get(part1=code).name if \"Greek\" not in languages.get(part1=code).name else 'Greek', v, ', '.join(loc for loc in lang_clusters[code])] for code, v in lang_counter.most_common()], headers=['Code', 'Language', 'Articles', 'Locations'], tablefmt='github'))"
   ],
   "metadata": {
    "collapsed": false,
    "ExecuteTime": {
     "end_time": "2023-10-30T17:09:52.726940200Z",
     "start_time": "2023-10-30T17:09:52.717924700Z"
    }
   },
   "id": "e61b06b1e71dbff4"
  },
  {
   "cell_type": "code",
   "execution_count": 63,
   "outputs": [
    {
     "data": {
      "text/plain": "('Slovenia', 'Sweden', 'Korea')"
     },
     "execution_count": 63,
     "metadata": {},
     "output_type": "execute_result"
    }
   ],
   "source": [
    "loc_names['si'], loc_names['se'], loc_names['kr']"
   ],
   "metadata": {
    "collapsed": false,
    "ExecuteTime": {
     "end_time": "2023-10-30T17:01:16.702185400Z",
     "start_time": "2023-10-30T17:01:16.686384700Z"
    }
   },
   "id": "51e5dda1f68d62fa"
  },
  {
   "cell_type": "code",
   "execution_count": 70,
   "outputs": [],
   "source": [
    "# lang_fixes = {'si': 'sl', 'se': 'sv', 'kr': 'ko'}"
   ],
   "metadata": {
    "collapsed": false,
    "ExecuteTime": {
     "end_time": "2023-10-30T17:05:45.649504700Z",
     "start_time": "2023-10-30T17:05:45.602099200Z"
    }
   },
   "id": "db4bb9f9ca239a2a"
  },
  {
   "cell_type": "code",
   "execution_count": null,
   "outputs": [],
   "source": [],
   "metadata": {
    "collapsed": false
   },
   "id": "6b1d1969b6c60576"
  },
  {
   "cell_type": "code",
   "execution_count": 74,
   "outputs": [
    {
     "data": {
      "text/plain": "WindowsPath('C:/Users/anwan/workspace/local_data/nnn-manual/nnn-v1/nnn-v1-kr.json')"
     },
     "execution_count": 74,
     "metadata": {},
     "output_type": "execute_result"
    }
   ],
   "source": [
    "# rec = list((root / 'nnn-v1').glob('*-kr.json'))[0]\n",
    "# rec"
   ],
   "metadata": {
    "collapsed": false,
    "ExecuteTime": {
     "end_time": "2023-10-30T17:07:44.005904800Z",
     "start_time": "2023-10-30T17:07:43.990182500Z"
    }
   },
   "id": "7fd8caa19fcb1dc7"
  },
  {
   "cell_type": "code",
   "execution_count": 75,
   "outputs": [
    {
     "data": {
      "text/plain": "141375821"
     },
     "execution_count": 75,
     "metadata": {},
     "output_type": "execute_result"
    }
   ],
   "source": [
    "# arts = load_json(rec)\n",
    "# for art in arts:\n",
    "# \tart['language'] = lang_fixes[art['language']]\n",
    "# rec.write_text(json.dumps(arts), encoding='utf8')"
   ],
   "metadata": {
    "collapsed": false,
    "ExecuteTime": {
     "end_time": "2023-10-30T17:07:49.757963400Z",
     "start_time": "2023-10-30T17:07:45.269748300Z"
    }
   },
   "id": "855aeafb44d00336"
  },
  {
   "cell_type": "code",
   "execution_count": null,
   "outputs": [],
   "source": [],
   "metadata": {
    "collapsed": false
   },
   "id": "7355556189239606"
  },
  {
   "cell_type": "code",
   "execution_count": 61,
   "outputs": [
    {
     "data": {
      "text/plain": "'sl'"
     },
     "execution_count": 61,
     "metadata": {},
     "output_type": "execute_result"
    }
   ],
   "source": [
    "languages.get(name='Slovenian').part1"
   ],
   "metadata": {
    "collapsed": false,
    "ExecuteTime": {
     "end_time": "2023-10-30T16:58:35.203284Z",
     "start_time": "2023-10-30T16:58:35.197775700Z"
    }
   },
   "id": "862380685077bbb6"
  },
  {
   "cell_type": "code",
   "execution_count": 14,
   "outputs": [
    {
     "name": "stdout",
     "output_type": "stream",
     "text": [
      "La NASA transmitirÃ¡ el jueves (29) el regreso de la nave espacial Cygnus a Terra, despuÃ©s de que la nave salga de la EstaciÃ³n Espacial Internacional (ISS), donde atracÃ³ en febrero de este aÃ±o pa… [+1976 chars]\n"
     ]
    }
   ],
   "source": [
    "print(sel[1]['content'])"
   ],
   "metadata": {
    "collapsed": false,
    "ExecuteTime": {
     "end_time": "2023-10-30T16:19:35.433538Z",
     "start_time": "2023-10-30T16:19:35.414724100Z"
    }
   },
   "id": "967506c0575d4a13"
  },
  {
   "cell_type": "code",
   "execution_count": 47,
   "outputs": [
    {
     "data": {
      "text/plain": "'uk'"
     },
     "execution_count": 47,
     "metadata": {},
     "output_type": "execute_result"
    }
   ],
   "source": [
    "languages.get(name='Ukrainian').part1"
   ],
   "metadata": {
    "collapsed": false,
    "ExecuteTime": {
     "end_time": "2023-10-30T16:53:44.599049200Z",
     "start_time": "2023-10-30T16:53:44.596274300Z"
    }
   },
   "id": "a73bc9fdd3cea05c"
  },
  {
   "cell_type": "code",
   "execution_count": 81,
   "outputs": [
    {
     "data": {
      "text/plain": "{'author': None,\n 'title': '홍빈, 빅스 탈퇴…아이돌 비하 논란 끝 \"5인 체제로 활동\" [공식 입장] - 미디어펜',\n 'description': '[미디어펜=이동건 기자] 아이돌 비하 논란으로 연예 활동을 중단했던 빅스 홍빈이 결국 팀 탈퇴를 결정했다.소속사 젤리피쉬 엔터테인먼트는 7일 \"빅스에게 많은 사랑을 보내주시는 팬 여러분들께 진심으로 감사드리며 안타까운 소식을 전하고자 한다\"며 \"7일 홍빈 군이 빅스 탈퇴 의사를 밝혀왔다. 당사는 빅스 멤버들, 홍빈 군과 신중한 논의 끝에 본인의 의견을 존중',\n 'url': 'http://www.mediapen.com/news/view/547129',\n 'urlToImage': 'http://img.mediapen.com/news/202008/news_547129_1596815810_m.jpg',\n 'publishedAt': '2020-08-07T16:00:00Z',\n 'content': None,\n 'instances': [{'collectedAt': '2020-08-07T18:53:00Z',\n   'location': 'kr',\n   'category': 'general'}],\n 'source-id': None,\n 'source-name': 'Mediapen.com',\n 'ID': 500,\n 'en-title': 'Hongbin leaves VIXX... Controversy over belittling idols ends, “We are working as a 5-member group” [Official statement] - Media Pen',\n 'en-description': '[Media Pen = Reporter Lee Dong-gun] VIXX\\'s Hongbin, who had taken a hiatus from entertainment activities due to controversy over defaming idols, has finally decided to leave the team. On the 7th, his agency Jellyfish Entertainment said, \"We sincerely thank the fans who show a lot of love to VIXX, and we are sorry to hear this sad news. “On the 7th, Hongbin announced his intention to leave VIXX. After careful discussion with the VIXX members and Hongbin, we respect his opinion.',\n 'language': 'ko'}"
     },
     "execution_count": 81,
     "metadata": {},
     "output_type": "execute_result"
    }
   ],
   "source": [
    "arts[0]"
   ],
   "metadata": {
    "collapsed": false,
    "ExecuteTime": {
     "end_time": "2023-10-30T17:13:06.461581600Z",
     "start_time": "2023-10-30T17:13:06.446136900Z"
    }
   },
   "id": "a5449f4be0977fbf"
  },
  {
   "cell_type": "code",
   "execution_count": 86,
   "outputs": [
    {
     "data": {
      "text/plain": "15"
     },
     "execution_count": 86,
     "metadata": {},
     "output_type": "execute_result"
    }
   ],
   "source": [
    "examples = Counter([key for art in arts for key in art.keys()])\n",
    "len(examples)"
   ],
   "metadata": {
    "collapsed": false,
    "ExecuteTime": {
     "end_time": "2023-10-30T17:23:39.935182200Z",
     "start_time": "2023-10-30T17:23:39.805240300Z"
    }
   },
   "id": "888619f2b48cc0a2"
  },
  {
   "cell_type": "code",
   "execution_count": 91,
   "outputs": [
    {
     "data": {
      "text/plain": "5581866"
     },
     "execution_count": 91,
     "metadata": {},
     "output_type": "execute_result"
    }
   ],
   "source": [
    "sum(loc_counter.values())"
   ],
   "metadata": {
    "collapsed": false,
    "ExecuteTime": {
     "end_time": "2023-10-31T00:02:48.529963400Z",
     "start_time": "2023-10-31T00:02:48.505734100Z"
    }
   },
   "id": "4121f42ea057fa04"
  },
  {
   "cell_type": "code",
   "execution_count": 92,
   "outputs": [
    {
     "data": {
      "text/plain": "7419089"
     },
     "execution_count": 92,
     "metadata": {},
     "output_type": "execute_result"
    }
   ],
   "source": [
    "total_instances"
   ],
   "metadata": {
    "collapsed": false,
    "ExecuteTime": {
     "end_time": "2023-10-31T00:02:57.152742300Z",
     "start_time": "2023-10-31T00:02:57.136534200Z"
    }
   },
   "id": "9b219fa9dade9d30"
  },
  {
   "cell_type": "code",
   "execution_count": null,
   "outputs": [],
   "source": [],
   "metadata": {
    "collapsed": false
   },
   "id": "500fe2a04c063bf1"
  }
 ],
 "metadata": {
  "kernelspec": {
   "display_name": "Python 3",
   "language": "python",
   "name": "python3"
  },
  "language_info": {
   "codemirror_mode": {
    "name": "ipython",
    "version": 2
   },
   "file_extension": ".py",
   "mimetype": "text/x-python",
   "name": "python",
   "nbconvert_exporter": "python",
   "pygments_lexer": "ipython2",
   "version": "2.7.6"
  }
 },
 "nbformat": 4,
 "nbformat_minor": 5
}
