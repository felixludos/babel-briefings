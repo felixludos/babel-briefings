{
 "cells": [
  {
   "cell_type": "code",
   "execution_count": 1,
   "id": "initial_id",
   "metadata": {
    "collapsed": true,
    "ExecuteTime": {
     "end_time": "2023-10-24T09:36:01.986946Z",
     "start_time": "2023-10-24T09:36:01.792641Z"
    }
   },
   "outputs": [],
   "source": [
    "from pathlib import Path\n",
    "from tqdm.notebook import tqdm\n",
    "from tabulate import tabulate\n",
    "import random\n",
    "# import pycountry\n",
    "# import networkx as nx\n",
    "from dateutil import parser\n",
    "from datetime import datetime\n",
    "from collections import Counter\n",
    "# from langdetect import detect\n",
    "from omnibelt import load_json, save_json"
   ]
  },
  {
   "cell_type": "code",
   "execution_count": 10,
   "outputs": [
    {
     "data": {
      "text/plain": "PosixPath('/Users/homeworld/workspace/code/nnn')"
     },
     "execution_count": 10,
     "metadata": {},
     "output_type": "execute_result"
    }
   ],
   "source": [
    "localroot = Path().absolute().parent\n",
    "localroot"
   ],
   "metadata": {
    "collapsed": false,
    "ExecuteTime": {
     "end_time": "2023-10-24T09:39:32.510075Z",
     "start_time": "2023-10-24T09:39:32.474517Z"
    }
   },
   "id": "4d50e01967805e1e"
  },
  {
   "cell_type": "code",
   "execution_count": 2,
   "outputs": [
    {
     "name": "stdout",
     "output_type": "stream",
     "text": [
      "['temp', 'raw_news', 'full.json', 'ftlang.json', 'langdetect.json', 'assets', 'global-news-headlines', 'global-news-headlines.zip']\n"
     ]
    }
   ],
   "source": [
    "root = Path('/Users/homeworld/workspace/local_data/nnn')\n",
    "print(list(p.name for p in root.glob('*')))"
   ],
   "metadata": {
    "collapsed": false,
    "ExecuteTime": {
     "end_time": "2023-10-24T09:36:02.207444Z",
     "start_time": "2023-10-24T09:36:02.193506Z"
    }
   },
   "id": "c03116187b30d0e6"
  },
  {
   "cell_type": "code",
   "execution_count": 3,
   "outputs": [
    {
     "data": {
      "text/plain": "54"
     },
     "execution_count": 3,
     "metadata": {},
     "output_type": "execute_result"
    }
   ],
   "source": [
    "recs = (root/'global-news-headlines').glob('**/*.json')\n",
    "recs = list(recs)\n",
    "len(recs)"
   ],
   "metadata": {
    "collapsed": false,
    "ExecuteTime": {
     "end_time": "2023-10-24T09:36:03.702701Z",
     "start_time": "2023-10-24T09:36:03.691978Z"
    }
   },
   "id": "d2ea3c9e4ab2e330"
  },
  {
   "cell_type": "code",
   "execution_count": 4,
   "outputs": [
    {
     "data": {
      "text/plain": "  0%|          | 0/54 [00:00<?, ?it/s]",
      "application/vnd.jupyter.widget-view+json": {
       "version_major": 2,
       "version_minor": 0,
       "model_id": "0c6d54e8fc7d46119ece9605b5c028f8"
      }
     },
     "metadata": {},
     "output_type": "display_data"
    },
    {
     "data": {
      "text/plain": "4719199"
     },
     "execution_count": 4,
     "metadata": {},
     "output_type": "execute_result"
    }
   ],
   "source": [
    "articles = []\n",
    "for rec in tqdm(recs):\n",
    "\tarticles.extend(load_json(rec))\n",
    "len(articles)"
   ],
   "metadata": {
    "collapsed": false,
    "ExecuteTime": {
     "end_time": "2023-10-24T09:26:46.339732Z",
     "start_time": "2023-10-24T09:24:15.732315Z"
    }
   },
   "id": "18935dc023f7f3fd"
  },
  {
   "cell_type": "code",
   "execution_count": 5,
   "outputs": [
    {
     "data": {
      "text/plain": "  0%|          | 0/4719199 [00:00<?, ?it/s]",
      "application/vnd.jupyter.widget-view+json": {
       "version_major": 2,
       "version_minor": 0,
       "model_id": "1cb8a36cd3234c51a3edcd2839c5aa96"
      }
     },
     "metadata": {},
     "output_type": "display_data"
    },
    {
     "ename": "NameError",
     "evalue": "name 'pycountry' is not defined",
     "output_type": "error",
     "traceback": [
      "\u001B[0;31m---------------------------------------------------------------------------\u001B[0m",
      "\u001B[0;31mNameError\u001B[0m                                 Traceback (most recent call last)",
      "Cell \u001B[0;32mIn[5], line 5\u001B[0m\n\u001B[1;32m      3\u001B[0m \t\u001B[38;5;28;01mfor\u001B[39;00m instance \u001B[38;5;129;01min\u001B[39;00m article[\u001B[38;5;124m'\u001B[39m\u001B[38;5;124minstances\u001B[39m\u001B[38;5;124m'\u001B[39m]:\n\u001B[1;32m      4\u001B[0m \t\tby_loc\u001B[38;5;241m.\u001B[39msetdefault(instance[\u001B[38;5;124m'\u001B[39m\u001B[38;5;124mlocation\u001B[39m\u001B[38;5;124m'\u001B[39m], [])\u001B[38;5;241m.\u001B[39mappend(article)\n\u001B[0;32m----> 5\u001B[0m country_names \u001B[38;5;241m=\u001B[39m {code: \u001B[43mpycountry\u001B[49m\u001B[38;5;241m.\u001B[39mcountries\u001B[38;5;241m.\u001B[39mget(alpha_2\u001B[38;5;241m=\u001B[39mcode\u001B[38;5;241m.\u001B[39mupper())\u001B[38;5;241m.\u001B[39mname\u001B[38;5;241m.\u001B[39msplit(\u001B[38;5;124m'\u001B[39m\u001B[38;5;124m,\u001B[39m\u001B[38;5;124m'\u001B[39m)[\u001B[38;5;241m0\u001B[39m] \u001B[38;5;28;01mfor\u001B[39;00m code \u001B[38;5;129;01min\u001B[39;00m by_loc}\n\u001B[1;32m      6\u001B[0m clusters \u001B[38;5;241m=\u001B[39m {\n\u001B[1;32m      7\u001B[0m \t\u001B[38;5;124m'\u001B[39m\u001B[38;5;124menglish\u001B[39m\u001B[38;5;124m'\u001B[39m: {\u001B[38;5;124m'\u001B[39m\u001B[38;5;124msa\u001B[39m\u001B[38;5;124m'\u001B[39m, \u001B[38;5;124m'\u001B[39m\u001B[38;5;124mie\u001B[39m\u001B[38;5;124m'\u001B[39m, \u001B[38;5;124m'\u001B[39m\u001B[38;5;124msg\u001B[39m\u001B[38;5;124m'\u001B[39m, \u001B[38;5;124m'\u001B[39m\u001B[38;5;124mus\u001B[39m\u001B[38;5;124m'\u001B[39m, \u001B[38;5;124m'\u001B[39m\u001B[38;5;124mph\u001B[39m\u001B[38;5;124m'\u001B[39m, \u001B[38;5;124m'\u001B[39m\u001B[38;5;124mau\u001B[39m\u001B[38;5;124m'\u001B[39m, \u001B[38;5;124m'\u001B[39m\u001B[38;5;124mmy\u001B[39m\u001B[38;5;124m'\u001B[39m, \u001B[38;5;124m'\u001B[39m\u001B[38;5;124mza\u001B[39m\u001B[38;5;124m'\u001B[39m, \u001B[38;5;124m'\u001B[39m\u001B[38;5;124min\u001B[39m\u001B[38;5;124m'\u001B[39m, \u001B[38;5;124m'\u001B[39m\u001B[38;5;124mnz\u001B[39m\u001B[38;5;124m'\u001B[39m, \u001B[38;5;124m'\u001B[39m\u001B[38;5;124mca\u001B[39m\u001B[38;5;124m'\u001B[39m, \u001B[38;5;124m'\u001B[39m\u001B[38;5;124mgb\u001B[39m\u001B[38;5;124m'\u001B[39m, \u001B[38;5;124m'\u001B[39m\u001B[38;5;124mng\u001B[39m\u001B[38;5;124m'\u001B[39m}, \n\u001B[1;32m      8\u001B[0m \t\u001B[38;5;124m'\u001B[39m\u001B[38;5;124mspanish\u001B[39m\u001B[38;5;124m'\u001B[39m: {\u001B[38;5;124m'\u001B[39m\u001B[38;5;124mar\u001B[39m\u001B[38;5;124m'\u001B[39m, \u001B[38;5;124m'\u001B[39m\u001B[38;5;124mve\u001B[39m\u001B[38;5;124m'\u001B[39m, \u001B[38;5;124m'\u001B[39m\u001B[38;5;124mco\u001B[39m\u001B[38;5;124m'\u001B[39m, \u001B[38;5;124m'\u001B[39m\u001B[38;5;124mcu\u001B[39m\u001B[38;5;124m'\u001B[39m, \u001B[38;5;124m'\u001B[39m\u001B[38;5;124mmx\u001B[39m\u001B[38;5;124m'\u001B[39m}, \n\u001B[0;32m   (...)\u001B[0m\n\u001B[1;32m     13\u001B[0m \t\u001B[38;5;124m'\u001B[39m\u001B[38;5;124mportuguese\u001B[39m\u001B[38;5;124m'\u001B[39m: {\u001B[38;5;124m'\u001B[39m\u001B[38;5;124mpt\u001B[39m\u001B[38;5;124m'\u001B[39m, \u001B[38;5;124m'\u001B[39m\u001B[38;5;124mbr\u001B[39m\u001B[38;5;124m'\u001B[39m},\n\u001B[1;32m     14\u001B[0m }\n\u001B[1;32m     15\u001B[0m to_cluster \u001B[38;5;241m=\u001B[39m {country_names[loc]: cluster \u001B[38;5;28;01mfor\u001B[39;00m cluster, locs \u001B[38;5;129;01min\u001B[39;00m clusters\u001B[38;5;241m.\u001B[39mitems() \u001B[38;5;28;01mfor\u001B[39;00m loc \u001B[38;5;129;01min\u001B[39;00m locs}\n",
      "\u001B[0;31mNameError\u001B[0m: name 'pycountry' is not defined"
     ]
    }
   ],
   "source": [
    "by_loc = {}\n",
    "for article in tqdm(articles):\n",
    "\tfor instance in article['instances']:\n",
    "\t\tby_loc.setdefault(instance['location'], []).append(article)\n",
    "country_names = {code: pycountry.countries.get(alpha_2=code.upper()).name.split(',')[0] for code in by_loc}\n",
    "clusters = {\n",
    "\t'english': {'sa', 'ie', 'sg', 'us', 'ph', 'au', 'my', 'za', 'in', 'nz', 'ca', 'gb', 'ng'}, \n",
    "\t'spanish': {'ar', 've', 'co', 'cu', 'mx'}, \n",
    "\t'arabic': {'ae', 'eg'}, \n",
    "\t'german': {'at', 'de', 'ch'}, \n",
    "\t'chinese': {'tw', 'hk', 'cn'}, \n",
    "\t'french': {'be', 'fr', 'ma'}, \n",
    "\t'portuguese': {'pt', 'br'},\n",
    "}\n",
    "to_cluster = {country_names[loc]: cluster for cluster, locs in clusters.items() for loc in locs}\n",
    "len(by_loc)"
   ],
   "metadata": {
    "collapsed": false,
    "ExecuteTime": {
     "end_time": "2023-10-24T09:27:03.483654Z",
     "start_time": "2023-10-24T09:26:46.308030Z"
    }
   },
   "id": "c62f906b80e773aa"
  },
  {
   "cell_type": "code",
   "execution_count": null,
   "outputs": [],
   "source": [
    "def show_date(date):\n",
    "\treturn date.strftime('%d %b%y')\n",
    "def get_locs(article):\n",
    "\treturn [f'{country_names[loc]}' for loc in sorted(set(i['location'] for i in article['instances']))]\n",
    "def get_cats(article):\n",
    "\treturn [f'<{cat}>' for cat in sorted(set(i['category'] for i in article['instances']))]\n",
    "def view_article(art, detailed=False):\n",
    "\tcats = ' '.join(get_cats(art))\n",
    "\tlocs = ', '.join(map(repr,get_locs(art)))\n",
    "\tif 'published' not in art:\n",
    "\t\tart['published'] = parser.parse(art['publishedAt'])\n",
    "\tfor i in art['instances']:\n",
    "\t\tif 'collected' not in i:\n",
    "\t\t\ti['collected'] = parser.parse(i['collectedAt'])\n",
    "\tfirst = min(i['collected'] for i in art['instances'])\n",
    "\tlast = max(i['collected'] for i in art['instances'])\n",
    "\ttiming = f'{show_date(first)}' if first==last else f'{show_date(first)} - {show_date(last)}'\n",
    "\tprint(f'''Title: {art['title']!r}\n",
    "Categories: {cats}   ---   {locs} ({timing})\n",
    "Published: {show_date(art['published'])}'''\n",
    "\t) # ({art['source-name']})\n",
    "\tif detailed:\n",
    "\t\tprint(f'''Description: {art['description']}''')\n",
    "\t\t# print(f'''Content: {art['content']}''')"
   ],
   "metadata": {
    "collapsed": false,
    "ExecuteTime": {
     "start_time": "2023-10-24T09:27:03.480466Z"
    }
   },
   "id": "93fb1c4a4daa553d"
  },
  {
   "cell_type": "code",
   "execution_count": 24,
   "outputs": [],
   "source": [
    "import json"
   ],
   "metadata": {
    "collapsed": false,
    "ExecuteTime": {
     "end_time": "2023-10-24T10:23:04.958750Z",
     "start_time": "2023-10-24T10:23:04.932971Z"
    }
   },
   "id": "193ce915e0cd844a"
  },
  {
   "cell_type": "code",
   "execution_count": 26,
   "outputs": [],
   "source": [
    "loc = 'hk'"
   ],
   "metadata": {
    "collapsed": false,
    "ExecuteTime": {
     "end_time": "2023-10-24T10:23:23.174846Z",
     "start_time": "2023-10-24T10:23:23.153832Z"
    }
   },
   "id": "46cf6b0d5b65264e"
  },
  {
   "cell_type": "code",
   "execution_count": 6,
   "outputs": [
    {
     "data": {
      "text/plain": "82324"
     },
     "execution_count": 6,
     "metadata": {},
     "output_type": "execute_result"
    }
   ],
   "source": [
    "articles = load_json(root / 'global-news-headlines' / f'news-headlines-{loc}.json')\n",
    "len(articles)"
   ],
   "metadata": {
    "collapsed": false,
    "ExecuteTime": {
     "end_time": "2023-10-24T09:37:52.278487Z",
     "start_time": "2023-10-24T09:37:52.267931Z"
    }
   },
   "id": "6359375fc1551d0d"
  },
  {
   "cell_type": "code",
   "execution_count": 22,
   "outputs": [
    {
     "data": {
      "text/plain": "  0%|          | 0/82324 [00:00<?, ?it/s]",
      "application/vnd.jupyter.widget-view+json": {
       "version_major": 2,
       "version_minor": 0,
       "model_id": "3d6c47a51374406992efc38e9c00825b"
      }
     },
     "metadata": {},
     "output_type": "display_data"
    },
    {
     "data": {
      "text/plain": "80449"
     },
     "execution_count": 22,
     "metadata": {},
     "output_type": "execute_result"
    }
   ],
   "source": [
    "unique = {}\n",
    "for article in tqdm(articles):\n",
    "\tunique.setdefault((article['title'], article.get('description')), []).append(article['ID'])\n",
    "len(unique)"
   ],
   "metadata": {
    "collapsed": false,
    "ExecuteTime": {
     "end_time": "2023-10-24T10:20:30.614135Z",
     "start_time": "2023-10-24T10:20:30.182007Z"
    }
   },
   "id": "527ea3847a38254b"
  },
  {
   "cell_type": "code",
   "execution_count": 30,
   "outputs": [],
   "source": [
    "lines = [json.dumps({'title': title, 'description': desc, 'ids': ids}) for (title, desc), ids in unique.items()]\n",
    "# (localroot/'interface'/'clean_news'/f'prompts-{loc}.jsonl').write_text('\\n'.join(lines[:100]));"
   ],
   "metadata": {
    "collapsed": false,
    "ExecuteTime": {
     "end_time": "2023-10-24T10:29:25.211658Z",
     "start_time": "2023-10-24T10:29:24.522523Z"
    }
   },
   "id": "75d6b9ef1f04bc29"
  },
  {
   "cell_type": "code",
   "execution_count": null,
   "outputs": [],
   "source": [],
   "metadata": {
    "collapsed": false
   },
   "id": "dbf1ee01961dc823"
  },
  {
   "cell_type": "code",
   "execution_count": null,
   "outputs": [],
   "source": [],
   "metadata": {
    "collapsed": false
   },
   "id": "41e6d20869987b7c"
  },
  {
   "cell_type": "code",
   "execution_count": 8,
   "outputs": [],
   "source": [
    "html_template = \"\"\"\n",
    "<!DOCTYPE html>\n",
    "<html lang=\"en\">\n",
    "<head>\n",
    "\t<meta charset=\"UTF-8\">\n",
    "\t<meta name=\"viewport\" content=\"width=device-width, initial-scale=1.0\">\n",
    "\t<title>News Headlines</title>\n",
    "\t<style>\n",
    "\t\tbody {{\n",
    "\t\t\tfont-family: Arial, sans-serif;\n",
    "\t\t\tmargin: 20px;\n",
    "\t\t}}\n",
    "\t\t.headline {{\n",
    "\t\t\tpadding: 5px;\n",
    "\t\t\tborder-bottom: 1px solid #ddd;\n",
    "\t\t\tdisplay: flex;\n",
    "\t\t\tjustify-content: space-between;\n",
    "\t\t}}\n",
    "\t\t.title {{\n",
    "\t\t\tflex: 2;\n",
    "\t\t}}\n",
    "\t\t.ids {{\n",
    "\t\t\tflex: 1;\n",
    "\t\t\ttext-align: right;\n",
    "\t\t}}\n",
    "\t\t#saveButton {{\n",
    "\t\t\tposition: absolute;\n",
    "\t\t\ttop: 10px;\n",
    "\t\t\tleft: 10px;\n",
    "\t\t}}\n",
    "\t</style>\n",
    "</head>\n",
    "<body>\n",
    "\t<button id=\"saveButton\">Save & Next</button>\n",
    "\t<div id=\"news-container\">\n",
    "\t\t{headlines}\n",
    "\t</div>\n",
    "\t<script>\n",
    "\t\tlet currentIndex = 0;\n",
    "\t\tconst N = {N};\n",
    "\t\tconst headlines = document.querySelectorAll('.headline');\n",
    "\n",
    "\t\t// Initial display of N headlines\n",
    "\t\tfor(let i = 0; i < headlines.length; i++) {{\n",
    "\t\t\tif (i < N) {{\n",
    "\t\t\t\theadlines[i].style.display = 'flex';\n",
    "\t\t\t}} else {{\n",
    "\t\t\t\theadlines[i].style.display = 'none';\n",
    "\t\t\t}}\n",
    "\t\t}}\n",
    "\n",
    "\t\tdocument.getElementById('saveButton').addEventListener('click', function() {{\n",
    "\t\t\tlet textToSave = '';\n",
    "\t\t\tfor (let i = currentIndex; i < currentIndex + N; i++) {{\n",
    "\t\t\t\tif (headlines[i]) {{\n",
    "\t\t\t\t\ttextToSave += headlines[i].innerText + '\\\\n';\n",
    "\t\t\t\t\theadlines[i].style.display = 'none';\n",
    "\t\t\t\t}}\n",
    "\t\t\t}}\n",
    "\t\t\tcurrentIndex += N;\n",
    "\t\t\tfor (let i = currentIndex; i < currentIndex + N; i++) {{\n",
    "\t\t\t\tif (headlines[i]) {{\n",
    "\t\t\t\t\theadlines[i].style.display = 'flex';\n",
    "\t\t\t\t}}\n",
    "\t\t\t}}\n",
    "\t\t\t\n",
    "\t\t\t// Simulate saving to a file\n",
    "\t\t\tconst blob = new Blob([textToSave], {{type: 'text/plain'}});\n",
    "\t\t\tconst a = document.createElement('a');\n",
    "\t\t\ta.href = URL.createObjectURL(blob);\n",
    "\t\t\ta.download = 'saved_headlines.txt';\n",
    "\t\t\tdocument.body.appendChild(a);\n",
    "\t\t\ta.click();\n",
    "\t\t\tdocument.body.removeChild(a);\n",
    "\t\t}});\n",
    "\t</script>\n",
    "</body>\n",
    "</html>\n",
    "\"\"\""
   ],
   "metadata": {
    "collapsed": false,
    "ExecuteTime": {
     "end_time": "2023-10-24T09:38:28.531813Z",
     "start_time": "2023-10-24T09:38:28.520040Z"
    }
   },
   "id": "600af310ecaeb9b5"
  },
  {
   "cell_type": "code",
   "execution_count": 16,
   "outputs": [],
   "source": [
    "def generate_html_with_js(headline_info, N=5):\n",
    "    # Generate headlines\n",
    "    headlines = \"\"\n",
    "    for headline, ids in headline_info:\n",
    "        ids_str = ', '.join(map(str, ids))\n",
    "        headlines += f'<div class=\"headline\"><span class=\"title\">{headline}</span><span class=\"ids\">[{ids_str}]</span></div>\\n'\n",
    "    \n",
    "    # Insert headlines and N into the HTML template\n",
    "    return html_template.format(headlines=headlines, N=N)\n",
    "\n",
    "# Generate the HTML content with JavaScript functionality\n",
    "# html_content_with_js = generate_html_with_js(sample_headlines_dict)\n",
    "# html_content_with_js[:1000]  # Displaying only the first 1000 characters for brevity\n"
   ],
   "metadata": {
    "collapsed": false,
    "ExecuteTime": {
     "end_time": "2023-10-24T09:43:04.763145Z",
     "start_time": "2023-10-24T09:43:04.747931Z"
    }
   },
   "id": "8b7cfc19aa6cf16c"
  },
  {
   "cell_type": "code",
   "execution_count": 23,
   "outputs": [],
   "source": [
    "import json"
   ],
   "metadata": {
    "collapsed": false,
    "ExecuteTime": {
     "end_time": "2023-10-24T10:21:51.175681Z",
     "start_time": "2023-10-24T10:21:51.152529Z"
    }
   },
   "id": "ee05a23bbc2c311b"
  },
  {
   "cell_type": "code",
   "execution_count": null,
   "outputs": [],
   "source": [
    "lines = [json.dumps({'title': title, 'description': desc, 'ids': ids}) for (title, desc), ids in unique.items()]\n"
   ],
   "metadata": {
    "collapsed": false
   },
   "id": "c54fa4b33d0243ef"
  },
  {
   "cell_type": "code",
   "execution_count": 12,
   "outputs": [],
   "source": [
    "full = list(unique.items())"
   ],
   "metadata": {
    "collapsed": false,
    "ExecuteTime": {
     "end_time": "2023-10-24T09:41:56.974523Z",
     "start_time": "2023-10-24T09:41:56.969449Z"
    }
   },
   "id": "8eca80c07e967dc9"
  },
  {
   "cell_type": "code",
   "execution_count": 21,
   "outputs": [],
   "source": [
    "(root / 'prompts')"
   ],
   "metadata": {
    "collapsed": false,
    "ExecuteTime": {
     "end_time": "2023-10-24T09:50:16.251438Z",
     "start_time": "2023-10-24T09:50:16.231700Z"
    }
   },
   "id": "380802f9ce54713c"
  },
  {
   "cell_type": "code",
   "execution_count": 17,
   "outputs": [],
   "source": [
    "html_content_with_js = generate_html_with_js(full[:100])"
   ],
   "metadata": {
    "collapsed": false,
    "ExecuteTime": {
     "end_time": "2023-10-24T09:43:06.106572Z",
     "start_time": "2023-10-24T09:43:06.093916Z"
    }
   },
   "id": "83abb7cce1f8788"
  },
  {
   "cell_type": "code",
   "execution_count": null,
   "outputs": [],
   "source": [],
   "metadata": {
    "collapsed": false
   },
   "id": "72f96a3938c203a1"
  },
  {
   "cell_type": "code",
   "execution_count": null,
   "outputs": [],
   "source": [
    "html_template = \"\"\"\n",
    "<!DOCTYPE html>\n",
    "<html lang=\"en\">\n",
    "<head>\n",
    "\t<meta charset=\"UTF-8\">\n",
    "\t<meta name=\"viewport\" content=\"width=device-width, initial-scale=1.0\">\n",
    "\t<title>News Headlines</title>\n",
    "\t<style>\n",
    "\t\tbody {{\n",
    "\t\t\tfont-family: Arial, sans-serif;\n",
    "\t\t\tmargin: 20px;\n",
    "\t\t}}\n",
    "\t\t.headline {{\n",
    "\t\t\tpadding: 5px;\n",
    "\t\t\tborder-bottom: 1px solid #ddd;\n",
    "\t\t\tdisplay: flex;\n",
    "\t\t\tjustify-content: space-between;\n",
    "\t\t}}\n",
    "\t\t.title {{\n",
    "\t\t\tflex: 2;\n",
    "\t\t}}\n",
    "\t\t.ids {{\n",
    "\t\t\tflex: 1;\n",
    "\t\t\ttext-align: right;\n",
    "\t\t}}\n",
    "\t</style>\n",
    "</head>\n",
    "<body>\n",
    "\t<div id=\"news-container\">\n",
    "\t\t{headlines}\n",
    "\t</div>\n",
    "</body>\n",
    "</html>\n",
    "\"\"\"\n",
    "def generate_html_from_dict(headlines_dict):\n",
    "    # Base HTML template\n",
    "    # Generate headlines\n",
    "    headlines = \"\"\n",
    "    for headline, ids in headlines_dict.items():\n",
    "        ids_str = ', '.join(map(str, ids))\n",
    "        headlines += f'<div class=\"headline\"><span class=\"title\">{headline}</span><span class=\"ids\">[{ids_str}]</span></div>\\n'\n",
    "    \n",
    "    # Insert headlines into the HTML template\n",
    "    return html_template.format(headlines=headlines)\n",
    "\n",
    "# Sample headlines dictionary for testing\n",
    "sample_headlines_dict = {\n",
    "    \"Breaking: Earthquake in Paris\": [101, 102, 103],\n",
    "    \"Rain causes uproar in London\": [104, 105],\n",
    "    \"London witnesses Earthquake phenomenon\": [106]\n",
    "}\n",
    "\n",
    "# Generate the HTML content\n",
    "html_content_from_dict = generate_html_from_dict(sample_headlines_dict)\n",
    "html_content_from_dict[:1000]  # Displaying only the first 1000 characters for brevity\n"
   ],
   "metadata": {
    "collapsed": false
   },
   "id": "979c6fc70e8d0d53"
  },
  {
   "cell_type": "code",
   "execution_count": null,
   "outputs": [],
   "source": [
    "def generate_html_with_js_and_file_io(N=5):\n",
    "    # Base HTML template with file input and JavaScript for file handling\n",
    "\n",
    "    \n",
    "    return html_template.format(N=N)\n",
    "\n",
    "# Generate the HTML content with JavaScript functionality for file I/O\n",
    "html_content_with_file_io = generate_html_with_js_and_file_io()\n",
    "html_content_with_file_io[:1000]  # Displaying only the first 1000 characters for brevity\n"
   ],
   "metadata": {
    "collapsed": false
   },
   "id": "caaca62848ceefa1"
  },
  {
   "cell_type": "code",
   "execution_count": 1,
   "outputs": [],
   "source": [],
   "metadata": {
    "collapsed": false,
    "ExecuteTime": {
     "end_time": "2023-10-24T09:22:38.920545Z",
     "start_time": "2023-10-24T09:22:38.911686Z"
    }
   },
   "id": "37e64085a8142e8c"
  },
  {
   "cell_type": "code",
   "execution_count": 1,
   "outputs": [],
   "source": [],
   "metadata": {
    "collapsed": false,
    "ExecuteTime": {
     "end_time": "2023-10-24T09:22:39.086935Z",
     "start_time": "2023-10-24T09:22:39.066276Z"
    }
   },
   "id": "3002e1cfc00fd78d"
  },
  {
   "cell_type": "code",
   "execution_count": null,
   "outputs": [],
   "source": [],
   "metadata": {
    "collapsed": false
   },
   "id": "a416dea3cc025c75"
  }
 ],
 "metadata": {
  "kernelspec": {
   "display_name": "Python 3",
   "language": "python",
   "name": "python3"
  },
  "language_info": {
   "codemirror_mode": {
    "name": "ipython",
    "version": 2
   },
   "file_extension": ".py",
   "mimetype": "text/x-python",
   "name": "python",
   "nbconvert_exporter": "python",
   "pygments_lexer": "ipython2",
   "version": "2.7.6"
  }
 },
 "nbformat": 4,
 "nbformat_minor": 5
}
