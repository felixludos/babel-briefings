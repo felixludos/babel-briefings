{
 "cells": [
  {
   "cell_type": "code",
   "execution_count": 104,
   "id": "initial_id",
   "metadata": {
    "collapsed": true,
    "ExecuteTime": {
     "end_time": "2023-10-27T12:30:17.407891523Z",
     "start_time": "2023-10-27T12:30:17.343569601Z"
    }
   },
   "outputs": [],
   "source": [
    "from pathlib import Path\n",
    "from tqdm.notebook import tqdm\n",
    "from tabulate import tabulate\n",
    "import random\n",
    "import pycountry\n",
    "# import networkx as nx\n",
    "from dateutil import parser\n",
    "import json\n",
    "from datetime import datetime\n",
    "from collections import Counter\n",
    "# from langdetect import detect\n",
    "from omnibelt import load_json, save_json"
   ]
  },
  {
   "cell_type": "code",
   "execution_count": 2,
   "outputs": [
    {
     "data": {
      "text/plain": "PosixPath('/home/fleeb/workspace/code/nnn')"
     },
     "execution_count": 2,
     "metadata": {},
     "output_type": "execute_result"
    }
   ],
   "source": [
    "localroot = Path().absolute().parent\n",
    "localroot"
   ],
   "metadata": {
    "collapsed": false,
    "ExecuteTime": {
     "end_time": "2023-10-25T16:44:42.501042387Z",
     "start_time": "2023-10-25T16:44:42.484990249Z"
    }
   },
   "id": "4d50e01967805e1e"
  },
  {
   "cell_type": "code",
   "execution_count": 3,
   "outputs": [
    {
     "name": "stdout",
     "output_type": "stream",
     "text": [
      "['raw_news', 'ftlang.json', 'full.json', 'prompts', 'langdetect.json', 'dense', 'temp', 'global-news-headlines', 'global-news-headlines.zip', 'assets']\n"
     ]
    }
   ],
   "source": [
    "# root = Path('/Users/homeworld/workspace/local_data/nnn')\n",
    "root = Path('/home/fleeb/workspace/local_data/nnn')\n",
    "print(list(p.name for p in root.glob('*')))"
   ],
   "metadata": {
    "collapsed": false,
    "ExecuteTime": {
     "end_time": "2023-10-25T16:44:43.127541518Z",
     "start_time": "2023-10-25T16:44:43.089189237Z"
    }
   },
   "id": "c03116187b30d0e6"
  },
  {
   "cell_type": "code",
   "execution_count": 108,
   "outputs": [
    {
     "data": {
      "text/plain": "54"
     },
     "execution_count": 108,
     "metadata": {},
     "output_type": "execute_result"
    }
   ],
   "source": [
    "recs = (root/'global-news-headlines').glob('**/*.json')\n",
    "recs = list(recs)\n",
    "len(recs)"
   ],
   "metadata": {
    "collapsed": false,
    "ExecuteTime": {
     "end_time": "2023-10-27T12:31:09.013955713Z",
     "start_time": "2023-10-27T12:31:08.926762714Z"
    }
   },
   "id": "d2ea3c9e4ab2e330"
  },
  {
   "cell_type": "code",
   "execution_count": 4,
   "outputs": [
    {
     "data": {
      "text/plain": "  0%|          | 0/54 [00:00<?, ?it/s]",
      "application/vnd.jupyter.widget-view+json": {
       "version_major": 2,
       "version_minor": 0,
       "model_id": "0c6d54e8fc7d46119ece9605b5c028f8"
      }
     },
     "metadata": {},
     "output_type": "display_data"
    },
    {
     "data": {
      "text/plain": "4719199"
     },
     "execution_count": 4,
     "metadata": {},
     "output_type": "execute_result"
    }
   ],
   "source": [
    "articles = []\n",
    "for rec in tqdm(recs):\n",
    "\tarticles.extend(load_json(rec))\n",
    "len(articles)"
   ],
   "metadata": {
    "collapsed": false,
    "ExecuteTime": {
     "end_time": "2023-10-24T09:26:46.339732Z",
     "start_time": "2023-10-24T09:24:15.732315Z"
    }
   },
   "id": "18935dc023f7f3fd"
  },
  {
   "cell_type": "code",
   "execution_count": 131,
   "outputs": [
    {
     "name": "stdout",
     "output_type": "stream",
     "text": [
      "--  --------------------\n",
      "ae  United Arab Emirates\n",
      "ar  Argentina\n",
      "at  Austria\n",
      "au  Australia\n",
      "be  Belgium\n",
      "bg  Bulgaria\n",
      "br  Brazil\n",
      "ca  Canada\n",
      "ch  Switzerland\n",
      "cn  China\n",
      "co  Colombia\n",
      "cu  Cuba\n",
      "cz  Czechia\n",
      "de  Germany\n",
      "eg  Egypt\n",
      "fr  France\n",
      "gb  United Kingdom\n",
      "gr  Greece\n",
      "hk  Hong Kong\n",
      "hu  Hungary\n",
      "id  Indonesia\n",
      "ie  Ireland\n",
      "il  Israel\n",
      "in  India\n",
      "it  Italy\n",
      "jp  Japan\n",
      "kr  Korea\n",
      "lt  Lithuania\n",
      "lv  Latvia\n",
      "ma  Morocco\n",
      "mx  Mexico\n",
      "my  Malaysia\n",
      "ng  Nigeria\n",
      "nl  Netherlands\n",
      "no  Norway\n",
      "nz  New Zealand\n",
      "ph  Philippines\n",
      "pl  Poland\n",
      "pt  Portugal\n",
      "ro  Romania\n",
      "rs  Serbia\n",
      "ru  Russian Federation\n",
      "sa  Saudi Arabia\n",
      "se  Sweden\n",
      "sg  Singapore\n",
      "si  Slovenia\n",
      "sk  Slovakia\n",
      "th  Thailand\n",
      "tr  Turkey\n",
      "tw  Taiwan\n",
      "ua  Ukraine\n",
      "us  United States\n",
      "ve  Venezuela\n",
      "za  South Africa\n",
      "--  --------------------\n"
     ]
    }
   ],
   "source": [
    "codes = [rec.stem.split('-')[-1] for rec in recs]\n",
    "countries = {code: pycountry.countries.get(alpha_2=code.upper()).name.split(',')[0] for code in codes}\n",
    "print(tabulate(sorted(countries.items())))"
   ],
   "metadata": {
    "collapsed": false,
    "ExecuteTime": {
     "end_time": "2023-10-29T16:04:53.175183757Z",
     "start_time": "2023-10-29T16:04:53.134651305Z"
    }
   },
   "id": "420d80fba69f2b93"
  },
  {
   "cell_type": "code",
   "execution_count": 130,
   "outputs": [
    {
     "name": "stdout",
     "output_type": "stream",
     "text": [
      "{'gb': 'United Kingdom', 'ar': 'Argentina', 'pl': 'Poland', 'sk': 'Slovakia', 'us': 'United States', 'eg': 'Egypt', 'no': 'Norway', 'ph': 'Philippines', 'at': 'Austria', 'rs': 'Serbia', 'tw': 'Taiwan', 'be': 'Belgium', 'cu': 'Cuba', 'sa': 'Saudi Arabia', 'th': 'Thailand', 'id': 'Indonesia', 'ru': 'Russian Federation', 'ch': 'Switzerland', 'fr': 'France', 'lt': 'Lithuania', 'tr': 'Turkey', 'de': 'Germany', 'cz': 'Czechia', 'pt': 'Portugal', 'ae': 'United Arab Emirates', 'it': 'Italy', 'cn': 'China', 'lv': 'Latvia', 'nl': 'Netherlands', 'hk': 'Hong Kong', 'ca': 'Canada', 'br': 'Brazil', 'hu': 'Hungary', 'kr': 'Korea', 'si': 'Slovenia', 'au': 'Australia', 'my': 'Malaysia', 'ie': 'Ireland', 'ua': 'Ukraine', 'in': 'India', 'ma': 'Morocco', 'bg': 'Bulgaria', 'ng': 'Nigeria', 'il': 'Israel', 'se': 'Sweden', 'za': 'South Africa', 've': 'Venezuela', 'nz': 'New Zealand', 'jp': 'Japan', 'sg': 'Singapore', 'gr': 'Greece', 'mx': 'Mexico', 'co': 'Colombia', 'ro': 'Romania'}\n"
     ]
    }
   ],
   "source": [
    "print(countries)"
   ],
   "metadata": {
    "collapsed": false,
    "ExecuteTime": {
     "end_time": "2023-10-29T14:47:26.019429333Z",
     "start_time": "2023-10-29T14:47:25.977372744Z"
    }
   },
   "id": "bee2cfa01964ed64"
  },
  {
   "cell_type": "code",
   "execution_count": 132,
   "outputs": [
    {
     "data": {
      "text/plain": "41"
     },
     "execution_count": 132,
     "metadata": {},
     "output_type": "execute_result"
    }
   ],
   "source": [
    "sel = {c: n for c,n  in countries.items() if c not in {'sa', 'ie', 'sg', 'us', 'ph', 'au', 'my', 'za', 'in', 'nz', 'ca', 'gb', 'ng'}}\n",
    "len(sel)"
   ],
   "metadata": {
    "collapsed": false,
    "ExecuteTime": {
     "end_time": "2023-10-29T16:45:14.180187058Z",
     "start_time": "2023-10-29T16:45:14.133878051Z"
    }
   },
   "id": "a6cdc44112974ce7"
  },
  {
   "cell_type": "code",
   "execution_count": 134,
   "outputs": [
    {
     "name": "stdout",
     "output_type": "stream",
     "text": [
      "ae ar at be bg br ch cn co cu cz de eg fr gr hk hu id il it jp kr lt lv ma mx nl no pl pt ro rs ru se si sk th tr tw ua ve\n"
     ]
    }
   ],
   "source": [
    "print(' '.join(sorted(sel)))"
   ],
   "metadata": {
    "collapsed": false,
    "ExecuteTime": {
     "end_time": "2023-10-29T16:46:03.079502817Z",
     "start_time": "2023-10-29T16:46:03.036338976Z"
    }
   },
   "id": "a4ed6490e5a6fa4d"
  },
  {
   "cell_type": "code",
   "execution_count": 106,
   "outputs": [
    {
     "data": {
      "text/plain": "  0%|          | 0/82324 [00:00<?, ?it/s]",
      "application/vnd.jupyter.widget-view+json": {
       "version_major": 2,
       "version_minor": 0,
       "model_id": "e5bb66063f1f4c12b1613b53f1c2fa21"
      }
     },
     "metadata": {},
     "output_type": "display_data"
    },
    {
     "data": {
      "text/plain": "3"
     },
     "execution_count": 106,
     "metadata": {},
     "output_type": "execute_result"
    }
   ],
   "source": [
    "# by_loc = {}\n",
    "# for article in tqdm(articles):\n",
    "# \tfor instance in article['instances']:\n",
    "# \t\tby_loc.setdefault(instance['location'], []).append(article)\n",
    "country_names = {code: pycountry.countries.get(alpha_2=code.upper()).name.split(',')[0] for code in by_loc}\n",
    "clusters = {\n",
    "\t'english': {'sa', 'ie', 'sg', 'us', 'ph', 'au', 'my', 'za', 'in', 'nz', 'ca', 'gb', 'ng'}, \n",
    "\t'spanish': {'ar', 've', 'co', 'cu', 'mx'}, \n",
    "\t'arabic': {'ae', 'eg'}, \n",
    "\t'german': {'at', 'de', 'ch'}, \n",
    "\t'chinese': {'tw', 'hk', 'cn'}, \n",
    "\t'french': {'be', 'fr', 'ma'}, \n",
    "\t'portuguese': {'pt', 'br'},\n",
    "}\n",
    "# to_cluster = {country_names[loc]: cluster for cluster, locs in clusters.items() for loc in locs}\n",
    "len(by_loc)"
   ],
   "metadata": {
    "collapsed": false,
    "ExecuteTime": {
     "end_time": "2023-10-27T12:30:40.245227310Z",
     "start_time": "2023-10-27T12:30:40.189214373Z"
    }
   },
   "id": "c62f906b80e773aa"
  },
  {
   "cell_type": "code",
   "execution_count": 107,
   "outputs": [
    {
     "name": "stdout",
     "output_type": "stream",
     "text": [
      "--  ---------\n",
      "hk  Hong Kong\n",
      "tw  Taiwan\n",
      "cn  China\n",
      "--  ---------\n"
     ]
    }
   ],
   "source": [],
   "metadata": {
    "collapsed": false,
    "ExecuteTime": {
     "end_time": "2023-10-27T12:30:56.102645255Z",
     "start_time": "2023-10-27T12:30:56.045806084Z"
    }
   },
   "id": "28947e4d18984189"
  },
  {
   "cell_type": "code",
   "execution_count": null,
   "outputs": [],
   "source": [],
   "metadata": {
    "collapsed": false
   },
   "id": "f2059fec9cff8ca"
  },
  {
   "cell_type": "code",
   "execution_count": null,
   "outputs": [],
   "source": [
    "def show_date(date):\n",
    "\treturn date.strftime('%d %b%y')\n",
    "def get_locs(article):\n",
    "\treturn [f'{country_names[loc]}' for loc in sorted(set(i['location'] for i in article['instances']))]\n",
    "def get_cats(article):\n",
    "\treturn [f'<{cat}>' for cat in sorted(set(i['category'] for i in article['instances']))]\n",
    "def view_article(art, detailed=False):\n",
    "\tcats = ' '.join(get_cats(art))\n",
    "\tlocs = ', '.join(map(repr,get_locs(art)))\n",
    "\tif 'published' not in art:\n",
    "\t\tart['published'] = parser.parse(art['publishedAt'])\n",
    "\tfor i in art['instances']:\n",
    "\t\tif 'collected' not in i:\n",
    "\t\t\ti['collected'] = parser.parse(i['collectedAt'])\n",
    "\tfirst = min(i['collected'] for i in art['instances'])\n",
    "\tlast = max(i['collected'] for i in art['instances'])\n",
    "\ttiming = f'{show_date(first)}' if first==last else f'{show_date(first)} - {show_date(last)}'\n",
    "\tprint(f'''Title: {art['title']!r}\n",
    "Categories: {cats}   ---   {locs} ({timing})\n",
    "Published: {show_date(art['published'])}'''\n",
    "\t) # ({art['source-name']})\n",
    "\tif detailed:\n",
    "\t\tprint(f'''Description: {art['description']}''')\n",
    "\t\t# print(f'''Content: {art['content']}''')"
   ],
   "metadata": {
    "collapsed": false,
    "ExecuteTime": {
     "start_time": "2023-10-24T09:27:03.480466Z"
    }
   },
   "id": "93fb1c4a4daa553d"
  },
  {
   "cell_type": "code",
   "execution_count": 9,
   "outputs": [],
   "source": [
    "import json\n",
    "from omnibelt import load_json"
   ],
   "metadata": {
    "collapsed": false,
    "ExecuteTime": {
     "end_time": "2023-10-25T16:46:33.764164144Z",
     "start_time": "2023-10-25T16:46:33.694273951Z"
    }
   },
   "id": "193ce915e0cd844a"
  },
  {
   "cell_type": "code",
   "execution_count": 6,
   "outputs": [
    {
     "data": {
      "text/plain": "82324"
     },
     "execution_count": 6,
     "metadata": {},
     "output_type": "execute_result"
    }
   ],
   "source": [
    "articles = load_json(root / 'global-news-headlines' / f'news-headlines-{loc}.json')\n",
    "len(articles)"
   ],
   "metadata": {
    "collapsed": false,
    "ExecuteTime": {
     "end_time": "2023-10-25T16:46:25.556572170Z",
     "start_time": "2023-10-25T16:46:24.670197047Z"
    }
   },
   "id": "6359375fc1551d0d"
  },
  {
   "cell_type": "code",
   "execution_count": 7,
   "outputs": [
    {
     "data": {
      "text/plain": "  0%|          | 0/82324 [00:00<?, ?it/s]",
      "application/vnd.jupyter.widget-view+json": {
       "version_major": 2,
       "version_minor": 0,
       "model_id": "7e788db4db604685be60b6a0a3855054"
      }
     },
     "metadata": {},
     "output_type": "display_data"
    },
    {
     "data": {
      "text/plain": "80449"
     },
     "execution_count": 7,
     "metadata": {},
     "output_type": "execute_result"
    }
   ],
   "source": [
    "unique = {}\n",
    "for article in tqdm(articles):\n",
    "\tunique.setdefault((article['title'], article.get('description')), []).append(article['ID'])\n",
    "len(unique)"
   ],
   "metadata": {
    "collapsed": false,
    "ExecuteTime": {
     "end_time": "2023-10-25T16:46:27.353451401Z",
     "start_time": "2023-10-25T16:46:27.192598356Z"
    }
   },
   "id": "527ea3847a38254b"
  },
  {
   "cell_type": "code",
   "execution_count": 10,
   "outputs": [],
   "source": [
    "lines = [json.dumps({'title': title, 'description': desc, 'ids': ids}) for (title, desc), ids in unique.items()]\n",
    "(localroot/'interface'/'prompts'/f'prompts-{loc}.jsonl').write_text('\\n'.join(lines));"
   ],
   "metadata": {
    "collapsed": false,
    "ExecuteTime": {
     "end_time": "2023-10-25T16:46:37.351401023Z",
     "start_time": "2023-10-25T16:46:36.963839877Z"
    }
   },
   "id": "75d6b9ef1f04bc29"
  },
  {
   "cell_type": "code",
   "execution_count": null,
   "outputs": [],
   "source": [],
   "metadata": {
    "collapsed": false
   },
   "id": "ecb2922e124b80f2"
  },
  {
   "cell_type": "code",
   "execution_count": null,
   "outputs": [],
   "source": [],
   "metadata": {
    "collapsed": false
   },
   "id": "ea268ff91add9316"
  },
  {
   "cell_type": "code",
   "execution_count": 121,
   "outputs": [],
   "source": [
    "def load_jsonl(path):\n",
    "\treturn [json.loads(line) for line in path.read_text().split('\\n') if len(line)]\n",
    "def save_jsonl(path, records):\n",
    "\tpath.write_text('\\n'.join(json.dumps(line) for line in records))\n",
    "def save_jsonl_dict(path, data):\n",
    "\tsave_jsonl(path, [{'title': title, 'description': desc, 'ids': ids} for (title, desc), ids in data.items()])\n",
    "def to_ids(records):\n",
    "\tids, errs = {}, set()\n",
    "\tfor record in records:\n",
    "\t\tpayload = record['title'], record.get('description')\n",
    "\t\tfor ID in record.get('ids', [record.get('ID')]):\n",
    "\t\t\tif ID in ids:\n",
    "\t\t\t\terrs.add(ID)\n",
    "\t\t\tids[ID] = payload\n",
    "\treturn ids, errs\n",
    "def group_ids(id_dict):\n",
    "\ttable = {}\n",
    "\tfor ID, value in id_dict.items():\n",
    "\t\ttable.setdefault(value, []).append(ID)\n",
    "\treturn table\n",
    "def find_matches(ids1, ids2, strict=True):\n",
    "\tmatch, nomatch = set(), set()\n",
    "\tfor ID in set(ids1) & set(ids2):\n",
    "\t\t(match if (ids1[ID] == ids2[ID]\n",
    "\t\t\t\t   if strict\n",
    "\t\t\t\t   else any(term1 is not None and len(term1) and term1 == term2 for term1, term2 in zip(ids1[ID], ids2[ID])))\n",
    "\t\t else nomatch).add(ID)\n",
    "\treturn match, nomatch\n",
    "def remove_ids(id_dict, ids):\n",
    "\tfor ID in ids:\n",
    "\t\tif ID in id_dict:\n",
    "\t\t\tid_dict.pop(ID)\n",
    "\t# return id_dict\n"
   ],
   "metadata": {
    "collapsed": false,
    "ExecuteTime": {
     "end_time": "2023-10-27T16:01:14.229153742Z",
     "start_time": "2023-10-27T16:01:14.185557695Z"
    }
   },
   "id": "6670554b8c21a08c"
  },
  {
   "cell_type": "code",
   "execution_count": null,
   "outputs": [],
   "source": [
    "loc = 'co'"
   ],
   "metadata": {
    "collapsed": false
   },
   "id": "ff3a195f79c1912d"
  },
  {
   "cell_type": "code",
   "execution_count": 114,
   "outputs": [
    {
     "data": {
      "text/plain": "0"
     },
     "execution_count": 114,
     "metadata": {},
     "output_type": "execute_result"
    }
   ],
   "source": [
    "blobroot = Path('/home/fleeb/Downloads')\n",
    "blobpaths = list(blobroot.glob('saved_records_*.jsonl'))\n",
    "\n",
    "promptpath = localroot/'interface'/'prompts'/f'prompts-{loc}.jsonl'\n",
    "assert promptpath.exists()\n",
    "\n",
    "completedpath = localroot / 'interface' / 'completed' / f'completed_{loc}.jsonl'\n",
    "if not completedpath.exists():\n",
    "\tcompletedpath.touch()\n",
    "\n",
    "len(blobpaths)"
   ],
   "metadata": {
    "collapsed": false,
    "ExecuteTime": {
     "end_time": "2023-10-27T15:55:02.293832492Z",
     "start_time": "2023-10-27T15:55:02.219465440Z"
    }
   },
   "id": "74979f28cf8e4b9d"
  },
  {
   "cell_type": "code",
   "execution_count": 74,
   "outputs": [
    {
     "data": {
      "text/plain": "0it [00:00, ?it/s]",
      "application/vnd.jupyter.widget-view+json": {
       "version_major": 2,
       "version_minor": 0,
       "model_id": "ba833039a1fb4a20b87f72bdaa19cc65"
      }
     },
     "metadata": {},
     "output_type": "display_data"
    },
    {
     "name": "stdout",
     "output_type": "stream",
     "text": [
      "Loaded 0 new records\n"
     ]
    }
   ],
   "source": [
    "new = [rec for blobpath in tqdm(blobpaths) for rec in load_jsonl(blobpath)]\n",
    "print(f'Loaded {len(new)} new candidates.')"
   ],
   "metadata": {
    "collapsed": false,
    "ExecuteTime": {
     "end_time": "2023-10-26T12:28:59.121877674Z",
     "start_time": "2023-10-26T12:28:59.024757304Z"
    }
   },
   "id": "7cea5e8f45435f94"
  },
  {
   "cell_type": "code",
   "execution_count": 123,
   "outputs": [
    {
     "data": {
      "text/plain": "194847"
     },
     "execution_count": 123,
     "metadata": {},
     "output_type": "execute_result"
    }
   ],
   "source": [
    "completed = load_jsonl(completedpath)\n",
    "complids, errs = to_ids(completed)\n",
    "assert not errs\n",
    "len(completed)"
   ],
   "metadata": {
    "collapsed": false,
    "ExecuteTime": {
     "end_time": "2023-10-27T16:01:26.167595399Z",
     "start_time": "2023-10-27T16:01:25.286058216Z"
    }
   },
   "id": "acbbc6c2dd8d68f1"
  },
  {
   "cell_type": "code",
   "execution_count": null,
   "outputs": [],
   "source": [
    "candids, errs = to_ids(new)\n",
    "assert not errs\n",
    "len(candids)"
   ],
   "metadata": {
    "collapsed": false
   },
   "id": "3585f49e1d0fe13d"
  },
  {
   "cell_type": "code",
   "execution_count": 93,
   "outputs": [
    {
     "name": "stdout",
     "output_type": "stream",
     "text": [
      "Found 0 duplicates (ignoring).\n",
      "Found 0 inconsistent records!\n"
     ]
    }
   ],
   "source": [
    "dupes, inconsistent = find_matches(candids, complids)\n",
    "print(f'Found {len(dupes)} duplicates (ignoring).')\n",
    "if len(inconsistent):\n",
    "\tprint(f'Found {len(inconsistent)} inconsistent records!')\n",
    "complids.update(candids)"
   ],
   "metadata": {
    "collapsed": false,
    "ExecuteTime": {
     "end_time": "2023-10-26T12:57:58.126754181Z",
     "start_time": "2023-10-26T12:57:58.036897821Z"
    }
   },
   "id": "f44aca602efb44f"
  },
  {
   "cell_type": "code",
   "execution_count": 124,
   "outputs": [
    {
     "data": {
      "text/plain": "89394"
     },
     "execution_count": 124,
     "metadata": {},
     "output_type": "execute_result"
    }
   ],
   "source": [
    "todo = load_jsonl(promptpath)\n",
    "todoids, errs = to_ids(todo)\n",
    "assert not errs\n",
    "len(todo)"
   ],
   "metadata": {
    "collapsed": false,
    "ExecuteTime": {
     "end_time": "2023-10-27T16:01:30.659748681Z",
     "start_time": "2023-10-27T16:01:30.387433919Z"
    }
   },
   "id": "d6a228e71c5215a4"
  },
  {
   "cell_type": "code",
   "execution_count": 128,
   "outputs": [
    {
     "data": {
      "text/plain": "(106458, 91184)"
     },
     "execution_count": 128,
     "metadata": {},
     "output_type": "execute_result"
    }
   ],
   "source": [
    "foreign = {ID: val for ID, val in complids.items() if ID not in todoids}\n",
    "original = {ID: val for ID, val in complids.items() if ID in todoids}\n",
    "len(foreign), len(original)"
   ],
   "metadata": {
    "collapsed": false,
    "ExecuteTime": {
     "end_time": "2023-10-27T16:03:11.495239318Z",
     "start_time": "2023-10-27T16:03:11.427890967Z"
    }
   },
   "id": "70be5f394e8c1a52"
  },
  {
   "cell_type": "code",
   "execution_count": 127,
   "outputs": [],
   "source": [
    "save_jsonl_dict(localroot / 'interface' / 'completed' / f'completed_cu.jsonl', group_ids(foreign))"
   ],
   "metadata": {
    "collapsed": false,
    "ExecuteTime": {
     "end_time": "2023-10-27T16:02:08.759652369Z",
     "start_time": "2023-10-27T16:02:08.427740899Z"
    }
   },
   "id": "baa03ed334f53a0f"
  },
  {
   "cell_type": "code",
   "execution_count": 129,
   "outputs": [],
   "source": [
    "save_jsonl_dict(localroot / 'interface' / 'completed' / f'completed_co.jsonl', group_ids(original))"
   ],
   "metadata": {
    "collapsed": false,
    "ExecuteTime": {
     "end_time": "2023-10-27T16:04:05.593636633Z",
     "start_time": "2023-10-27T16:04:05.065842424Z"
    }
   },
   "id": "e23d45e2ca9fd3a0"
  },
  {
   "cell_type": "code",
   "execution_count": 94,
   "outputs": [
    {
     "name": "stdout",
     "output_type": "stream",
     "text": [
      "Found 0 untranslated prompts in completed.\n",
      "Found 0 unnecessary prompts.\n"
     ]
    }
   ],
   "source": [
    "incomplete, unnecessary = find_matches(complids, todoids)\n",
    "print(f'Found {len(incomplete)} untranslated prompts in completed.')\n",
    "print(f'Found {len(unnecessary)} unnecessary prompts.')"
   ],
   "metadata": {
    "collapsed": false,
    "ExecuteTime": {
     "end_time": "2023-10-26T12:59:48.006380926Z",
     "start_time": "2023-10-26T12:59:47.925999251Z"
    }
   },
   "id": "73785a0e20d463c4"
  },
  {
   "cell_type": "code",
   "execution_count": 98,
   "outputs": [],
   "source": [
    "remove_ids(todoids, unnecessary)\n",
    "remove_ids(complids, incomplete)"
   ],
   "metadata": {
    "collapsed": false,
    "ExecuteTime": {
     "end_time": "2023-10-26T13:00:10.556762751Z",
     "start_time": "2023-10-26T13:00:10.490865808Z"
    }
   },
   "id": "4092efdded090c7f"
  },
  {
   "cell_type": "code",
   "execution_count": 99,
   "outputs": [],
   "source": [
    "save_jsonl_dict(promptpath, group_ids(todoids));\n",
    "save_jsonl_dict(completedpath, group_ids(complids));"
   ],
   "metadata": {
    "collapsed": false,
    "ExecuteTime": {
     "end_time": "2023-10-26T13:00:18.772008031Z",
     "start_time": "2023-10-26T13:00:18.427221030Z"
    }
   },
   "id": "86a8955a673e9b7c"
  },
  {
   "cell_type": "code",
   "execution_count": 103,
   "outputs": [
    {
     "data": {
      "text/plain": "True"
     },
     "execution_count": 103,
     "metadata": {},
     "output_type": "execute_result"
    }
   ],
   "source": [
    "None == None"
   ],
   "metadata": {
    "collapsed": false,
    "ExecuteTime": {
     "end_time": "2023-10-26T14:56:03.090226279Z",
     "start_time": "2023-10-26T14:56:03.038415882Z"
    }
   },
   "id": "15d027faba15b395"
  },
  {
   "cell_type": "code",
   "execution_count": null,
   "outputs": [],
   "source": [],
   "metadata": {
    "collapsed": false
   },
   "id": "528c0ac3206adc8e"
  },
  {
   "cell_type": "code",
   "execution_count": null,
   "outputs": [],
   "source": [
    "for blobpath in blobpaths:\n",
    "\tblobpath.unlink()"
   ],
   "metadata": {
    "collapsed": false
   },
   "id": "67b44b62a7720bcf"
  },
  {
   "cell_type": "code",
   "execution_count": null,
   "outputs": [],
   "source": [],
   "metadata": {
    "collapsed": false
   },
   "id": "5386a4043de47085"
  },
  {
   "cell_type": "code",
   "execution_count": 52,
   "outputs": [
    {
     "data": {
      "text/plain": "  0%|          | 0/20 [00:00<?, ?it/s]",
      "application/vnd.jupyter.widget-view+json": {
       "version_major": 2,
       "version_minor": 0,
       "model_id": "5431d578b6d1490faca14738fb8f5262"
      }
     },
     "metadata": {},
     "output_type": "display_data"
    }
   ],
   "source": [
    "with completedpath.open('a+') as dst:\n",
    "\tfor blobpath in tqdm(blobpaths):\n",
    "\t\twith blobpath.open('r') as src:\n",
    "\t\t\tdst.write(src.read())\n",
    "\t\t\tdst.write('\\n')\n",
    "\t\tblobpath.unlink()"
   ],
   "metadata": {
    "collapsed": false,
    "ExecuteTime": {
     "end_time": "2023-10-26T11:30:02.842588639Z",
     "start_time": "2023-10-26T11:30:02.772182108Z"
    }
   },
   "id": "b3df8f4e74d2b6de"
  },
  {
   "cell_type": "code",
   "execution_count": 53,
   "outputs": [
    {
     "data": {
      "text/plain": "  0%|          | 0/10263 [00:00<?, ?it/s]",
      "application/vnd.jupyter.widget-view+json": {
       "version_major": 2,
       "version_minor": 0,
       "model_id": "0b46cd78becc4e59b961ffa18f0954cc"
      }
     },
     "metadata": {},
     "output_type": "display_data"
    },
    {
     "data": {
      "text/plain": "10300"
     },
     "execution_count": 53,
     "metadata": {},
     "output_type": "execute_result"
    }
   ],
   "source": [
    "# remove completed\n",
    "# done = [json.loads(line) for line in tqdm(completedpath.read_text().split('\\n')) if len(line)]\n",
    "done = []\n",
    "for line in tqdm(completedpath.read_text().split('\\n')):\n",
    "\ttry:\n",
    "\t\tif len(line):\n",
    "\t\t\tdone.append(json.loads(line))\n",
    "\texcept json.JSONDecodeError:\n",
    "\t\traw1, raw2 = line.split('}{')\n",
    "\t\tdone.append(json.loads(raw1+'}'))\n",
    "\t\tdone.append(json.loads('{'+raw2))\n",
    "len(done)"
   ],
   "metadata": {
    "collapsed": false,
    "ExecuteTime": {
     "end_time": "2023-10-26T11:30:04.341073360Z",
     "start_time": "2023-10-26T11:30:04.252524312Z"
    }
   },
   "id": "9897b6a5177e94da"
  },
  {
   "cell_type": "code",
   "execution_count": null,
   "outputs": [],
   "source": [],
   "metadata": {
    "collapsed": false
   },
   "id": "e1e55bd89e6e415e"
  },
  {
   "cell_type": "code",
   "execution_count": 54,
   "outputs": [
    {
     "data": {
      "text/plain": "  0%|          | 0/72149 [00:00<?, ?it/s]",
      "application/vnd.jupyter.widget-view+json": {
       "version_major": 2,
       "version_minor": 0,
       "model_id": "5baa6aaa681542e5a526288a613fedda"
      }
     },
     "metadata": {},
     "output_type": "display_data"
    },
    {
     "data": {
      "text/plain": "72149"
     },
     "execution_count": 54,
     "metadata": {},
     "output_type": "execute_result"
    }
   ],
   "source": [
    "promptpath = localroot/'interface'/'prompts'/f'prompts-{loc}.jsonl'\n",
    "prompts = [json.loads(line) for line in tqdm(promptpath.read_text().split('\\n'))]\n",
    "len(prompts)"
   ],
   "metadata": {
    "collapsed": false,
    "ExecuteTime": {
     "end_time": "2023-10-26T11:30:12.129084947Z",
     "start_time": "2023-10-26T11:30:11.527488344Z"
    }
   },
   "id": "113e7b8934a71398"
  },
  {
   "cell_type": "code",
   "execution_count": 69,
   "outputs": [
    {
     "name": "stdout",
     "output_type": "stream",
     "text": [
      "Previously needed to complete 73768 IDs\n",
      "10616 IDs have now been completed\n",
      "Found 2060 overlapping IDs\n"
     ]
    }
   ],
   "source": [
    "doneids = {ID: (prompt['headline'], prompt.get('description')) for prompt in done for ID in prompt['ID']}\n",
    "todoids = {ID: (prompt['title'], prompt.get('description')) for prompt in prompts for ID in prompt['ids']}\n",
    "overlap = set(doneids) & set(todoids)\n",
    "print(f'Previously needed to complete {len(todoids)} IDs')\n",
    "print(f'{len(doneids)} IDs have now been completed')\n",
    "print(f'Found {len(overlap)} IDs that need to be resolved')\n",
    "# len(doneids), len(todoids), len(overlap)"
   ],
   "metadata": {
    "collapsed": false,
    "ExecuteTime": {
     "end_time": "2023-10-26T12:24:01.633891599Z",
     "start_time": "2023-10-26T12:24:01.525922184Z"
    }
   },
   "id": "d25737778fbde200"
  },
  {
   "cell_type": "code",
   "execution_count": 59,
   "outputs": [
    {
     "data": {
      "text/plain": "2060"
     },
     "execution_count": 59,
     "metadata": {},
     "output_type": "execute_result"
    }
   ],
   "source": [],
   "metadata": {
    "collapsed": false,
    "ExecuteTime": {
     "end_time": "2023-10-26T12:10:30.590891338Z",
     "start_time": "2023-10-26T12:10:30.517469867Z"
    }
   },
   "id": "b9be113ec98e96b2"
  },
  {
   "cell_type": "code",
   "execution_count": 63,
   "outputs": [
    {
     "data": {
      "text/plain": "(1442, 618)"
     },
     "execution_count": 63,
     "metadata": {},
     "output_type": "execute_result"
    }
   ],
   "source": [
    "good = set()\n",
    "bad = set()\n",
    "for check in overlap:\n",
    "\t(bad if doneids[check] == todoids[check] else good).add(check)\n",
    "len(good), len(bad)"
   ],
   "metadata": {
    "collapsed": false,
    "ExecuteTime": {
     "end_time": "2023-10-26T12:17:37.999693435Z",
     "start_time": "2023-10-26T12:17:37.806896125Z"
    }
   },
   "id": "219eb22c06532aa2"
  },
  {
   "cell_type": "code",
   "execution_count": 66,
   "outputs": [
    {
     "data": {
      "text/plain": "70749"
     },
     "execution_count": 66,
     "metadata": {},
     "output_type": "execute_result"
    }
   ],
   "source": [
    "for g in good:\n",
    "\tif g in todoids:\n",
    "\t\ttodoids.pop(g)\n",
    "prompt_groups = {}\n",
    "for ID, data in todoids.items():\n",
    "\tprompt_groups.setdefault(data, []).append(ID)\n",
    "promptpath.write_text('\\n'.join(json.dumps({'title': title, 'description': desc, 'ids': ids}) for (title, desc), ids in prompt_groups.items()));\n",
    "len(prompt_groups)"
   ],
   "metadata": {
    "collapsed": false,
    "ExecuteTime": {
     "end_time": "2023-10-26T12:21:23.007211815Z",
     "start_time": "2023-10-26T12:21:22.582098404Z"
    }
   },
   "id": "2a922d35c746c24d"
  },
  {
   "cell_type": "code",
   "execution_count": 70,
   "outputs": [
    {
     "data": {
      "text/plain": "9692"
     },
     "execution_count": 70,
     "metadata": {},
     "output_type": "execute_result"
    }
   ],
   "source": [
    "for b in bad:\n",
    "\tif b in doneids:\n",
    "\t\tdoneids.pop(b)\n",
    "done_groups = {}\n",
    "for ID, data in doneids.items():\n",
    "\tdone_groups.setdefault(data, []).append(ID)\n",
    "completedpath.write_text('\\n'.join(json.dumps({'title': title, 'description': desc, 'ids': ids}) for (title, desc), ids in done_groups.items()));\n",
    "len(done_groups)"
   ],
   "metadata": {
    "collapsed": false,
    "ExecuteTime": {
     "end_time": "2023-10-26T12:25:15.952305621Z",
     "start_time": "2023-10-26T12:25:15.881519751Z"
    }
   },
   "id": "b9a0b5907d17eebd"
  },
  {
   "cell_type": "code",
   "execution_count": 68,
   "outputs": [
    {
     "data": {
      "text/plain": "80441"
     },
     "execution_count": 68,
     "metadata": {},
     "output_type": "execute_result"
    }
   ],
   "source": [
    "len(prompt_groups) + len(done_groups)"
   ],
   "metadata": {
    "collapsed": false,
    "ExecuteTime": {
     "end_time": "2023-10-26T12:22:01.742545181Z",
     "start_time": "2023-10-26T12:22:01.681003565Z"
    }
   },
   "id": "b9a3da86261d9e60"
  },
  {
   "cell_type": "code",
   "execution_count": null,
   "outputs": [],
   "source": [
    "\n",
    "# filter completed"
   ],
   "metadata": {
    "collapsed": false
   },
   "id": "b5ce60372318e872"
  },
  {
   "cell_type": "code",
   "execution_count": 57,
   "outputs": [
    {
     "data": {
      "text/plain": "(600, 70749)"
     },
     "execution_count": 57,
     "metadata": {},
     "output_type": "execute_result"
    }
   ],
   "source": [
    "\n",
    "cleaned = [prompt for prompt in done if not any(ID in todoids and doneids[ID] == prompt['title'] for ID in prompt['ids'])]\n",
    "fixed = [prompt for prompt in prompts if not any(ID in doneids and doneids[ID] != prompt['title'] for ID in prompt['ids'])]\n",
    "len(dupes), len(fixed)"
   ],
   "metadata": {
    "collapsed": false,
    "ExecuteTime": {
     "end_time": "2023-10-26T12:05:09.096961780Z",
     "start_time": "2023-10-26T12:05:09.041880527Z"
    }
   },
   "id": "5a9dc3693237c196"
  },
  {
   "cell_type": "code",
   "execution_count": null,
   "outputs": [],
   "source": [],
   "metadata": {
    "collapsed": false
   },
   "id": "6ca57399385d58b1"
  },
  {
   "cell_type": "code",
   "execution_count": null,
   "outputs": [],
   "source": [],
   "metadata": {
    "collapsed": false
   },
   "id": "55c9d3e5d3d3e565"
  },
  {
   "cell_type": "code",
   "execution_count": 50,
   "outputs": [],
   "source": [
    "promptpath.write_text('\\n'.join(json.dumps(prompt) for prompt in fixed));"
   ],
   "metadata": {
    "collapsed": false,
    "ExecuteTime": {
     "end_time": "2023-10-26T11:28:09.790770212Z",
     "start_time": "2023-10-26T11:28:09.524152080Z"
    }
   },
   "id": "cfb21ca5b1fe1289"
  },
  {
   "cell_type": "code",
   "execution_count": null,
   "outputs": [],
   "source": [],
   "metadata": {
    "collapsed": false
   },
   "id": "41e6d20869987b7c"
  },
  {
   "cell_type": "code",
   "execution_count": 8,
   "outputs": [],
   "source": [
    "html_template = \"\"\"\n",
    "<!DOCTYPE html>\n",
    "<html lang=\"en\">\n",
    "<head>\n",
    "\t<meta charset=\"UTF-8\">\n",
    "\t<meta name=\"viewport\" content=\"width=device-width, initial-scale=1.0\">\n",
    "\t<title>News Headlines</title>\n",
    "\t<style>\n",
    "\t\tbody {{\n",
    "\t\t\tfont-family: Arial, sans-serif;\n",
    "\t\t\tmargin: 20px;\n",
    "\t\t}}\n",
    "\t\t.headline {{\n",
    "\t\t\tpadding: 5px;\n",
    "\t\t\tborder-bottom: 1px solid #ddd;\n",
    "\t\t\tdisplay: flex;\n",
    "\t\t\tjustify-content: space-between;\n",
    "\t\t}}\n",
    "\t\t.title {{\n",
    "\t\t\tflex: 2;\n",
    "\t\t}}\n",
    "\t\t.ids {{\n",
    "\t\t\tflex: 1;\n",
    "\t\t\ttext-align: right;\n",
    "\t\t}}\n",
    "\t\t#saveButton {{\n",
    "\t\t\tposition: absolute;\n",
    "\t\t\ttop: 10px;\n",
    "\t\t\tleft: 10px;\n",
    "\t\t}}\n",
    "\t</style>\n",
    "</head>\n",
    "<body>\n",
    "\t<button id=\"saveButton\">Save & Next</button>\n",
    "\t<div id=\"news-container\">\n",
    "\t\t{headlines}\n",
    "\t</div>\n",
    "\t<script>\n",
    "\t\tlet currentIndex = 0;\n",
    "\t\tconst N = {N};\n",
    "\t\tconst headlines = document.querySelectorAll('.headline');\n",
    "\n",
    "\t\t// Initial display of N headlines\n",
    "\t\tfor(let i = 0; i < headlines.length; i++) {{\n",
    "\t\t\tif (i < N) {{\n",
    "\t\t\t\theadlines[i].style.display = 'flex';\n",
    "\t\t\t}} else {{\n",
    "\t\t\t\theadlines[i].style.display = 'none';\n",
    "\t\t\t}}\n",
    "\t\t}}\n",
    "\n",
    "\t\tdocument.getElementById('saveButton').addEventListener('click', function() {{\n",
    "\t\t\tlet textToSave = '';\n",
    "\t\t\tfor (let i = currentIndex; i < currentIndex + N; i++) {{\n",
    "\t\t\t\tif (headlines[i]) {{\n",
    "\t\t\t\t\ttextToSave += headlines[i].innerText + '\\\\n';\n",
    "\t\t\t\t\theadlines[i].style.display = 'none';\n",
    "\t\t\t\t}}\n",
    "\t\t\t}}\n",
    "\t\t\tcurrentIndex += N;\n",
    "\t\t\tfor (let i = currentIndex; i < currentIndex + N; i++) {{\n",
    "\t\t\t\tif (headlines[i]) {{\n",
    "\t\t\t\t\theadlines[i].style.display = 'flex';\n",
    "\t\t\t\t}}\n",
    "\t\t\t}}\n",
    "\t\t\t\n",
    "\t\t\t// Simulate saving to a file\n",
    "\t\t\tconst blob = new Blob([textToSave], {{type: 'text/plain'}});\n",
    "\t\t\tconst a = document.createElement('a');\n",
    "\t\t\ta.href = URL.createObjectURL(blob);\n",
    "\t\t\ta.download = 'saved_headlines.txt';\n",
    "\t\t\tdocument.body.appendChild(a);\n",
    "\t\t\ta.click();\n",
    "\t\t\tdocument.body.removeChild(a);\n",
    "\t\t}});\n",
    "\t</script>\n",
    "</body>\n",
    "</html>\n",
    "\"\"\""
   ],
   "metadata": {
    "collapsed": false,
    "ExecuteTime": {
     "end_time": "2023-10-24T09:38:28.531813Z",
     "start_time": "2023-10-24T09:38:28.520040Z"
    }
   },
   "id": "600af310ecaeb9b5"
  },
  {
   "cell_type": "code",
   "execution_count": 16,
   "outputs": [],
   "source": [
    "def generate_html_with_js(headline_info, N=5):\n",
    "    # Generate headlines\n",
    "    headlines = \"\"\n",
    "    for headline, ids in headline_info:\n",
    "        ids_str = ', '.join(map(str, ids))\n",
    "        headlines += f'<div class=\"headline\"><span class=\"title\">{headline}</span><span class=\"ids\">[{ids_str}]</span></div>\\n'\n",
    "    \n",
    "    # Insert headlines and N into the HTML template\n",
    "    return html_template.format(headlines=headlines, N=N)\n",
    "\n",
    "# Generate the HTML content with JavaScript functionality\n",
    "# html_content_with_js = generate_html_with_js(sample_headlines_dict)\n",
    "# html_content_with_js[:1000]  # Displaying only the first 1000 characters for brevity\n"
   ],
   "metadata": {
    "collapsed": false,
    "ExecuteTime": {
     "end_time": "2023-10-24T09:43:04.763145Z",
     "start_time": "2023-10-24T09:43:04.747931Z"
    }
   },
   "id": "8b7cfc19aa6cf16c"
  },
  {
   "cell_type": "code",
   "execution_count": 23,
   "outputs": [],
   "source": [
    "import json"
   ],
   "metadata": {
    "collapsed": false,
    "ExecuteTime": {
     "end_time": "2023-10-24T10:21:51.175681Z",
     "start_time": "2023-10-24T10:21:51.152529Z"
    }
   },
   "id": "ee05a23bbc2c311b"
  },
  {
   "cell_type": "code",
   "execution_count": null,
   "outputs": [],
   "source": [
    "lines = [json.dumps({'title': title, 'description': desc, 'ids': ids}) for (title, desc), ids in unique.items()]\n"
   ],
   "metadata": {
    "collapsed": false
   },
   "id": "c54fa4b33d0243ef"
  },
  {
   "cell_type": "code",
   "execution_count": 12,
   "outputs": [],
   "source": [
    "full = list(unique.items())"
   ],
   "metadata": {
    "collapsed": false,
    "ExecuteTime": {
     "end_time": "2023-10-24T09:41:56.974523Z",
     "start_time": "2023-10-24T09:41:56.969449Z"
    }
   },
   "id": "8eca80c07e967dc9"
  },
  {
   "cell_type": "code",
   "execution_count": 21,
   "outputs": [],
   "source": [
    "(root / 'prompts')"
   ],
   "metadata": {
    "collapsed": false,
    "ExecuteTime": {
     "end_time": "2023-10-24T09:50:16.251438Z",
     "start_time": "2023-10-24T09:50:16.231700Z"
    }
   },
   "id": "380802f9ce54713c"
  },
  {
   "cell_type": "code",
   "execution_count": 17,
   "outputs": [],
   "source": [
    "html_content_with_js = generate_html_with_js(full[:100])"
   ],
   "metadata": {
    "collapsed": false,
    "ExecuteTime": {
     "end_time": "2023-10-24T09:43:06.106572Z",
     "start_time": "2023-10-24T09:43:06.093916Z"
    }
   },
   "id": "83abb7cce1f8788"
  },
  {
   "cell_type": "code",
   "execution_count": null,
   "outputs": [],
   "source": [],
   "metadata": {
    "collapsed": false
   },
   "id": "72f96a3938c203a1"
  },
  {
   "cell_type": "code",
   "execution_count": null,
   "outputs": [],
   "source": [
    "html_template = \"\"\"\n",
    "<!DOCTYPE html>\n",
    "<html lang=\"en\">\n",
    "<head>\n",
    "\t<meta charset=\"UTF-8\">\n",
    "\t<meta name=\"viewport\" content=\"width=device-width, initial-scale=1.0\">\n",
    "\t<title>News Headlines</title>\n",
    "\t<style>\n",
    "\t\tbody {{\n",
    "\t\t\tfont-family: Arial, sans-serif;\n",
    "\t\t\tmargin: 20px;\n",
    "\t\t}}\n",
    "\t\t.headline {{\n",
    "\t\t\tpadding: 5px;\n",
    "\t\t\tborder-bottom: 1px solid #ddd;\n",
    "\t\t\tdisplay: flex;\n",
    "\t\t\tjustify-content: space-between;\n",
    "\t\t}}\n",
    "\t\t.title {{\n",
    "\t\t\tflex: 2;\n",
    "\t\t}}\n",
    "\t\t.ids {{\n",
    "\t\t\tflex: 1;\n",
    "\t\t\ttext-align: right;\n",
    "\t\t}}\n",
    "\t</style>\n",
    "</head>\n",
    "<body>\n",
    "\t<div id=\"news-container\">\n",
    "\t\t{headlines}\n",
    "\t</div>\n",
    "</body>\n",
    "</html>\n",
    "\"\"\"\n",
    "def generate_html_from_dict(headlines_dict):\n",
    "    # Base HTML template\n",
    "    # Generate headlines\n",
    "    headlines = \"\"\n",
    "    for headline, ids in headlines_dict.items():\n",
    "        ids_str = ', '.join(map(str, ids))\n",
    "        headlines += f'<div class=\"headline\"><span class=\"title\">{headline}</span><span class=\"ids\">[{ids_str}]</span></div>\\n'\n",
    "    \n",
    "    # Insert headlines into the HTML template\n",
    "    return html_template.format(headlines=headlines)\n",
    "\n",
    "# Sample headlines dictionary for testing\n",
    "sample_headlines_dict = {\n",
    "    \"Breaking: Earthquake in Paris\": [101, 102, 103],\n",
    "    \"Rain causes uproar in London\": [104, 105],\n",
    "    \"London witnesses Earthquake phenomenon\": [106]\n",
    "}\n",
    "\n",
    "# Generate the HTML content\n",
    "html_content_from_dict = generate_html_from_dict(sample_headlines_dict)\n",
    "html_content_from_dict[:1000]  # Displaying only the first 1000 characters for brevity\n"
   ],
   "metadata": {
    "collapsed": false
   },
   "id": "979c6fc70e8d0d53"
  },
  {
   "cell_type": "code",
   "execution_count": null,
   "outputs": [],
   "source": [
    "def generate_html_with_js_and_file_io(N=5):\n",
    "    # Base HTML template with file input and JavaScript for file handling\n",
    "\n",
    "    \n",
    "    return html_template.format(N=N)\n",
    "\n",
    "# Generate the HTML content with JavaScript functionality for file I/O\n",
    "html_content_with_file_io = generate_html_with_js_and_file_io()\n",
    "html_content_with_file_io[:1000]  # Displaying only the first 1000 characters for brevity\n"
   ],
   "metadata": {
    "collapsed": false
   },
   "id": "caaca62848ceefa1"
  },
  {
   "cell_type": "code",
   "execution_count": 1,
   "outputs": [],
   "source": [],
   "metadata": {
    "collapsed": false,
    "ExecuteTime": {
     "end_time": "2023-10-24T09:22:38.920545Z",
     "start_time": "2023-10-24T09:22:38.911686Z"
    }
   },
   "id": "37e64085a8142e8c"
  },
  {
   "cell_type": "code",
   "execution_count": 1,
   "outputs": [],
   "source": [],
   "metadata": {
    "collapsed": false,
    "ExecuteTime": {
     "end_time": "2023-10-24T09:22:39.086935Z",
     "start_time": "2023-10-24T09:22:39.066276Z"
    }
   },
   "id": "3002e1cfc00fd78d"
  },
  {
   "cell_type": "code",
   "execution_count": null,
   "outputs": [],
   "source": [],
   "metadata": {
    "collapsed": false
   },
   "id": "a416dea3cc025c75"
  }
 ],
 "metadata": {
  "kernelspec": {
   "display_name": "Python 3",
   "language": "python",
   "name": "python3"
  },
  "language_info": {
   "codemirror_mode": {
    "name": "ipython",
    "version": 2
   },
   "file_extension": ".py",
   "mimetype": "text/x-python",
   "name": "python",
   "nbconvert_exporter": "python",
   "pygments_lexer": "ipython2",
   "version": "2.7.6"
  }
 },
 "nbformat": 4,
 "nbformat_minor": 5
}
