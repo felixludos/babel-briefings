{
 "cells": [
  {
   "cell_type": "code",
   "execution_count": 1,
   "id": "initial_id",
   "metadata": {
    "collapsed": true,
    "ExecuteTime": {
     "end_time": "2024-03-20T13:38:03.639267Z",
     "start_time": "2024-03-20T13:37:57.558686Z"
    }
   },
   "outputs": [],
   "source": [
    "from pathlib import Path\n",
    "from tqdm.auto import tqdm\n",
    "from tabulate import tabulate\n",
    "import random, json\n",
    "import pycountry\n",
    "from iso639 import languages\n",
    "import networkx as nx\n",
    "import textwrap\n",
    "from itertools import combinations, islice\n",
    "from dateutil import parser\n",
    "from datetime import datetime\n",
    "from collections import Counter\n",
    "from langdetect import detect\n",
    "from omnibelt import load_json, save_json\n",
    "import Levenshtein\n",
    "from unidecode import unidecode\n",
    "import unicodedata\n",
    "from wordcloud import WordCloud\n",
    "import nltk\n",
    "from nltk import word_tokenize, pos_tag, ne_chunk\n",
    "from nltk.stem import WordNetLemmatizer\n",
    "from nltk.corpus import stopwords\n",
    "from rake_nltk import Rake\n",
    "import spacy\n",
    "import pickle as pkl\n",
    "\n",
    "# from sklearn.cluster import DBSCAN\n",
    "# import numpy as np\n",
    "\n",
    "stop_words = set(stopwords.words('english'))\n",
    "stop_words.update(\"'s\", '|', 'I', \"n't\", \"`s\", \"'s\", 'n`t')\n",
    "\n",
    "nlp = spacy.load('en_core_web_md')\n",
    "import numpy as np\n",
    "import pandas as pd\n",
    "import seaborn as sns\n",
    "import matplotlib.pyplot as plt\n",
    "import matplotlib.dates as mdates\n",
    "import numpy as np\n",
    "from sklearn.cluster import KMeans\n",
    "from sklearn.decomposition import PCA\n",
    "import umap\n",
    "import matplotlib.pyplot as plt\n",
    "from gensim.models import KeyedVectors\n",
    "from nltk.tokenize import word_tokenize\n",
    "import nltk\n",
    "\n",
    "# Download the tokenizers\n",
    "# nltk.download('punkt')\n",
    "\n",
    "# word_vectors = KeyedVectors.load_word2vec_format('/home/fleeb/Downloads/GoogleNews-vectors-negative300.bin',\n",
    "# \t\t\t\t\t\t\t\t\t\t\t\t binary=True)\n"
   ]
  },
  {
   "cell_type": "code",
   "outputs": [
    {
     "data": {
      "text/plain": "54"
     },
     "execution_count": 2,
     "metadata": {},
     "output_type": "execute_result"
    }
   ],
   "source": [
    "lang_clusters = {'en': ['au', 'ca', 'gb', 'ie', 'in', 'my', 'ng', 'nz', 'ph', 'sa', 'sg', 'us', 'za'],\n",
    "\t\t\t\t 'es': ['ar', 'co', 'cu', 'mx', 've'], 'de': ['at', 'ch', 'de'], 'fr': ['be', 'fr', 'ma'],\n",
    "\t\t\t\t 'zh': ['cn', 'hk', 'tw'], 'ar': ['ae', 'eg'], 'pt': ['br', 'pt'], 'bg': ['bg'], 'cs': ['cz'],\n",
    "\t\t\t\t 'el': ['gr'], 'he': ['il'], 'hu': ['hu'], 'id': ['id'], 'it': ['it'], 'ja': ['jp'], 'ko': ['kr'],\n",
    "\t\t\t\t 'lt': ['lt'], 'lv': ['lv'], 'nl': ['nl'], 'no': ['no'], 'pl': ['pl'], 'ro': ['ro'], 'ru': ['ru'],\n",
    "\t\t\t\t 'sv': ['se'], 'sl': ['si'], 'sk': ['sk'], 'sr': ['rs'], 'th': ['th'], 'tr': ['tr'], 'uk': ['ua']}\n",
    "loc_names = {'gb': 'United Kingdom', 'ar': 'Argentina', 'pl': 'Poland', 'sk': 'Slovakia', 'us': 'United States',\n",
    "\t\t\t 'eg': 'Egypt', 'no': 'Norway', 'ph': 'Philippines', 'at': 'Austria', 'rs': 'Serbia', 'tw': 'Taiwan',\n",
    "\t\t\t 'be': 'Belgium', 'cu': 'Cuba', 'sa': 'Saudi Arabia', 'th': 'Thailand', 'id': 'Indonesia',\n",
    "\t\t\t 'ru': 'Russian Federation', 'ch': 'Switzerland', 'fr': 'France', 'lt': 'Lithuania', 'tr': 'Turkey',\n",
    "\t\t\t 'de': 'Germany', 'cz': 'Czechia', 'pt': 'Portugal', 'ae': 'United Arab Emirates', 'it': 'Italy',\n",
    "\t\t\t 'cn': 'China', 'lv': 'Latvia', 'nl': 'Netherlands', 'hk': 'Hong Kong', 'ca': 'Canada', 'br': 'Brazil',\n",
    "\t\t\t 'hu': 'Hungary', 'kr': 'Korea', 'si': 'Slovenia', 'au': 'Australia', 'my': 'Malaysia', 'ie': 'Ireland',\n",
    "\t\t\t 'ua': 'Ukraine', 'in': 'India', 'ma': 'Morocco', 'bg': 'Bulgaria', 'ng': 'Nigeria', 'il': 'Israel',\n",
    "\t\t\t 'se': 'Sweden', 'za': 'South Africa', 've': 'Venezuela', 'nz': 'New Zealand', 'jp': 'Japan',\n",
    "\t\t\t 'sg': 'Singapore', 'gr': 'Greece', 'mx': 'Mexico', 'co': 'Colombia', 'ro': 'Romania'}\n",
    "lang_names = {'en': 'English', 'ko': 'Korean', 'ru': 'Russian', 'es': 'Spanish', 'pt': 'Portuguese', 'cs': 'Czech',\n",
    "\t\t\t  'tr': 'Turkish', 'nl': 'Dutch', 'ar': 'Arabic', 'fr': 'French', 'bg': 'Bulgarian', 'id': 'Indonesian',\n",
    "\t\t\t  'sk': 'Slovak', 'el': 'Greek', 'he': 'Hebrew', 'sr': 'Serbian', 'hu': 'Hungarian', 'th': 'Thai',\n",
    "\t\t\t  'zh': 'Chinese', 'no': 'Norwegian', 'sl': 'Slovenian', 'sv': 'Swedish', 'de': 'German', 'lv': 'Latvian',\n",
    "\t\t\t  'pl': 'Polish', 'it': 'Italian', 'ro': 'Romanian', 'lt': 'Lithuanian', 'ja': 'Japanese',\n",
    "\t\t\t  'uk': 'Ukrainian'}\n",
    "cluster_id = {loc: lang for lang, locs in lang_clusters.items() for loc in locs}\n",
    "len(cluster_id)"
   ],
   "metadata": {
    "collapsed": false,
    "ExecuteTime": {
     "end_time": "2024-03-20T13:38:03.648881Z",
     "start_time": "2024-03-20T13:38:03.640423Z"
    }
   },
   "id": "5808851af5675a93",
   "execution_count": 2
  },
  {
   "cell_type": "code",
   "outputs": [],
   "source": [
    "# root = Path('/home/fleeb/workspace/local_data/nnn')\n",
    "# save_json(lang_clusters, root / 'language_clusters.json')\n",
    "# save_json(loc_names, root / 'location_names.json')\n",
    "# save_json(lang_names, root / 'language_names.json')"
   ],
   "metadata": {
    "collapsed": false,
    "ExecuteTime": {
     "end_time": "2024-03-20T13:38:03.655223Z",
     "start_time": "2024-03-20T13:38:03.649496Z"
    }
   },
   "id": "5c2d3d5a7584eb36",
   "execution_count": 3
  },
  {
   "cell_type": "code",
   "outputs": [
    {
     "data": {
      "text/plain": "  0%|          | 0/54 [00:00<?, ?it/s]",
      "application/vnd.jupyter.widget-view+json": {
       "version_major": 2,
       "version_minor": 0,
       "model_id": "8d9f3f1be3ee4b49a255a03829a8e783"
      }
     },
     "metadata": {},
     "output_type": "display_data"
    },
    {
     "data": {
      "text/plain": "  0%|          | 0/4719199 [00:00<?, ?it/s]",
      "application/vnd.jupyter.widget-view+json": {
       "version_major": 2,
       "version_minor": 0,
       "model_id": "2f3cadc357bb4150803bab35c2e75db6"
      }
     },
     "metadata": {},
     "output_type": "display_data"
    },
    {
     "data": {
      "text/plain": "(4719199, 54, 30)"
     },
     "execution_count": 4,
     "metadata": {},
     "output_type": "execute_result"
    }
   ],
   "source": [
    "root = Path('/home/fleeb/workspace/local_data/nnn')\n",
    "recs = (root / 'babel-briefings-v1-anon').glob('**/*.json')\n",
    "recs = list(recs)\n",
    "len(recs)\n",
    "articles = []\n",
    "for rec in tqdm(recs):\n",
    "\tarticles.extend(load_json(rec))\n",
    "by_loc = {}\n",
    "by_lang = {}\n",
    "by_source = {}\n",
    "by_ID = {}\n",
    "for article in tqdm(articles):\n",
    "\tby_ID[article['ID']] = article\n",
    "\t# article['published'] = parser.parse(article['publishedAt'])\n",
    "\tby_source.setdefault(article['source-name'], []).append(article)\n",
    "\tby_lang.setdefault(article['language'], []).append(article)\n",
    "\tfor instance in article['instances']:\n",
    "\t\t# instance['collected'] = parser.parse(instance['collectedAt'])\n",
    "\t\tby_loc.setdefault(instance['location'], []).append(article)\n",
    "len(articles), len(by_loc), len(by_lang)"
   ],
   "metadata": {
    "collapsed": false,
    "ExecuteTime": {
     "end_time": "2024-03-20T13:39:18.358474Z",
     "start_time": "2024-03-20T13:38:27.208146Z"
    }
   },
   "id": "14a39d932df3619b",
   "execution_count": 4
  },
  {
   "cell_type": "code",
   "outputs": [
    {
     "data": {
      "text/plain": "{'author': 'author#129220',\n 'title': 'Έφτασαν τα Soundmojis στο Messenger: Τι είναι και πώς ενεργοποιούνται - Τεχνολογία | News 24/7 - News247.gr',\n 'description': 'Οι χρήστες του Messenger πλέον έχουν τη δυνατότητα να στέλνουν ηχητικά emojis. Πώς το ενεργοποιείτε.',\n 'url': 'https://www.news247.gr/technologia/eftasan-soundmojis-sto-messenger-ti-einai-kai-pos-energopoioyntai.9299041.html',\n 'urlToImage': 'https://www.news247.gr/img/9468/9299045/824000/fb1200/1200/sound.jpg',\n 'publishedAt': '2021-07-19T05:05:17Z',\n 'content': 'Facebook Messenger, Soundmojis emojis .\\r\\n Soundmoji , Fast &amp; Furious 9. Techgear.gr, Soudmojis . , Emoji 17 .\\r\\n Soundmojis, Messenger Facebook . smiley , , . Soundmojis. \\r\\n Statista.com, Messenge… [+56 chars]',\n 'instances': [{'collectedAt': '2021-07-19T13:19:00Z',\n   'location': 'gr',\n   'category': 'general'},\n  {'collectedAt': '2021-07-19T13:19:00Z',\n   'location': 'gr',\n   'category': 'technology'},\n  {'collectedAt': '2021-07-20T08:50:00Z',\n   'location': 'gr',\n   'category': 'technology'}],\n 'source-id': None,\n 'source-name': 'News247.gr',\n 'ID': 5739680,\n 'en-title': 'Soundmojis have arrived in Messenger: What they are and how they are activated - Technology | News 24/7 - News247.gr',\n 'en-description': 'Messenger users now have the ability to send audio emojis. How do you activate it?',\n 'language': 'el'}"
     },
     "execution_count": 29,
     "metadata": {},
     "output_type": "execute_result"
    }
   ],
   "source": [
    "random.choice(articles)"
   ],
   "metadata": {
    "collapsed": false,
    "ExecuteTime": {
     "end_time": "2024-03-19T14:42:56.417725Z",
     "start_time": "2024-03-19T14:42:56.409303Z"
    }
   },
   "id": "6885a198e087552d",
   "execution_count": 29
  },
  {
   "cell_type": "code",
   "outputs": [],
   "source": [
    "IDs = list(by_ID.keys())"
   ],
   "metadata": {
    "collapsed": false,
    "ExecuteTime": {
     "end_time": "2024-03-20T13:39:34.933666Z",
     "start_time": "2024-03-20T13:39:34.880003Z"
    }
   },
   "id": "c3bf667ba98549f5",
   "execution_count": 5
  },
  {
   "cell_type": "code",
   "outputs": [
    {
     "data": {
      "text/plain": "445458"
     },
     "execution_count": 12,
     "metadata": {},
     "output_type": "execute_result"
    }
   ],
   "source": [
    "random.seed(0)\n",
    "# art_IDs = random.sample(IDs, 100)\n",
    "# arts = random.sample(articles, 100)\n",
    "# arts = [art for lang in lang_clusters for art in random.sample(by_lang[lang], 4, counts=[len(a['instances']) if len(a['instances']) <= 10 else 0 for a in by_lang[lang]])]\n",
    "arts = [art for loc in loc_names for art in random.sample(by_loc[loc], 5, counts=[len(a['instances']) if len(a['instances']) <= 10 else 0 for a in by_loc[loc]])]\n",
    "assert len(arts) == len(set(art['ID'] for art in arts))\n",
    "# arts = [by_ID[ID] for ID in art_IDs]\n",
    "len(json.dumps(arts))"
   ],
   "metadata": {
    "collapsed": false,
    "ExecuteTime": {
     "end_time": "2024-03-20T13:40:17.094720Z",
     "start_time": "2024-03-20T13:40:15.995367Z"
    }
   },
   "id": "d9d9e7aaada660a4",
   "execution_count": 12
  },
  {
   "cell_type": "code",
   "outputs": [],
   "source": [
    "arts = load_json(root / 'sample_articles.json')"
   ],
   "metadata": {
    "collapsed": false,
    "ExecuteTime": {
     "end_time": "2024-03-20T13:40:14.442850Z",
     "start_time": "2024-03-20T13:40:14.439584Z"
    }
   },
   "id": "2bec5c95e6278710",
   "execution_count": 11
  },
  {
   "cell_type": "code",
   "outputs": [
    {
     "name": "stdout",
     "output_type": "stream",
     "text": [
      "Language      Count\n",
      "----------  -------\n",
      "English          65\n",
      "Spanish          25\n",
      "German           15\n",
      "Chinese          15\n",
      "French           15\n",
      "Arabic           10\n",
      "Portuguese       10\n",
      "Polish            5\n",
      "Slovak            5\n",
      "Norwegian         5\n",
      "Serbian           5\n",
      "Thai              5\n",
      "Indonesian        5\n",
      "Russian           5\n",
      "Lithuanian        5\n",
      "Turkish           5\n",
      "Czech             5\n",
      "Italian           5\n",
      "Latvian           5\n",
      "Dutch             5\n",
      "Hungarian         5\n",
      "Korean            5\n",
      "Slovenian         5\n",
      "Ukrainian         5\n",
      "Bulgarian         5\n",
      "Hebrew            5\n",
      "Swedish           5\n",
      "Japanese          5\n",
      "Greek             5\n",
      "Romanian          5\n"
     ]
    }
   ],
   "source": [
    "print(tabulate(Counter([lang_names[art['language']] for art in arts]).most_common(), headers=['Language', 'Count']))"
   ],
   "metadata": {
    "collapsed": false,
    "ExecuteTime": {
     "end_time": "2024-03-20T13:40:19.488908Z",
     "start_time": "2024-03-20T13:40:19.485011Z"
    }
   },
   "id": "317e92d9f17b8e6c",
   "execution_count": 13
  },
  {
   "cell_type": "code",
   "outputs": [
    {
     "name": "stdout",
     "output_type": "stream",
     "text": [
      "  Instances    Count\n",
      "-----------  -------\n",
      "          2       84\n",
      "          1       66\n",
      "          3       35\n",
      "          4       24\n",
      "          5       14\n",
      "          6       11\n",
      "          8       10\n",
      "         10       10\n",
      "          9        9\n",
      "          7        7\n"
     ]
    }
   ],
   "source": [
    "print(tabulate(Counter([len(art['instances']) for art in arts]).most_common(), headers=['Instances', 'Count']))"
   ],
   "metadata": {
    "collapsed": false,
    "ExecuteTime": {
     "end_time": "2024-03-20T13:40:20.128450Z",
     "start_time": "2024-03-20T13:40:20.125425Z"
    }
   },
   "id": "dda119c88dd281a1",
   "execution_count": 14
  },
  {
   "cell_type": "code",
   "outputs": [
    {
     "name": "stdout",
     "output_type": "stream",
     "text": [
      "Locations               Count\n",
      "--------------------  -------\n",
      "Malaysia                   38\n",
      "South Africa               33\n",
      "Ireland                    32\n",
      "Nigeria                    29\n",
      "New Zealand                29\n",
      "Colombia                   29\n",
      "Philippines                26\n",
      "Morocco                    23\n",
      "Egypt                      22\n",
      "Australia                  22\n",
      "Mexico                     22\n",
      "Singapore                  21\n",
      "Switzerland                21\n",
      "India                      21\n",
      "Canada                     20\n",
      "Cuba                       20\n",
      "Saudi Arabia               19\n",
      "Germany                    19\n",
      "Argentina                  18\n",
      "United Arab Emirates       18\n",
      "Austria                    17\n",
      "China                      17\n",
      "Slovenia                   17\n",
      "United States              16\n",
      "Taiwan                     16\n",
      "Venezuela                  16\n",
      "Norway                     14\n",
      "Hong Kong                  14\n",
      "Belgium                    14\n",
      "France                     14\n",
      "Latvia                     14\n",
      "Czechia                    13\n",
      "Romania                    13\n",
      "United Kingdom             12\n",
      "Netherlands                12\n",
      "Hungary                    12\n",
      "Israel                     12\n",
      "Sweden                     12\n",
      "Slovakia                   11\n",
      "Brazil                     11\n",
      "Poland                     10\n",
      "Turkey                     10\n",
      "Portugal                   10\n",
      "Ukraine                    10\n",
      "Bulgaria                   10\n",
      "Serbia                      9\n",
      "Thailand                    9\n",
      "Russian Federation          9\n",
      "Lithuania                   9\n",
      "Italy                       9\n",
      "Korea                       7\n",
      "Japan                       7\n",
      "Greece                      7\n",
      "Indonesia                   6\n"
     ]
    }
   ],
   "source": [
    "print(tabulate(Counter([loc_names[inst['location']] for art in arts for inst in art['instances']]).most_common(), headers=['Locations', 'Count']))"
   ],
   "metadata": {
    "collapsed": false,
    "ExecuteTime": {
     "end_time": "2024-03-20T13:40:21.146101Z",
     "start_time": "2024-03-20T13:40:21.142615Z"
    }
   },
   "id": "56813181f22e00f0",
   "execution_count": 15
  },
  {
   "cell_type": "code",
   "outputs": [
    {
     "name": "stdout",
     "output_type": "stream",
     "text": [
      "Category         Count\n",
      "-------------  -------\n",
      "science            251\n",
      "health             187\n",
      "technology         148\n",
      "entertainment       82\n",
      "general             77\n",
      "sports              72\n",
      "business            64\n"
     ]
    }
   ],
   "source": [
    "print(tabulate(Counter([inst['category'] for art in arts for inst in art['instances']]).most_common(), headers=['Category', 'Count']))"
   ],
   "metadata": {
    "collapsed": false,
    "ExecuteTime": {
     "end_time": "2024-03-20T13:40:22.519372Z",
     "start_time": "2024-03-20T13:40:22.515836Z"
    }
   },
   "id": "d02b5d489121fbad",
   "execution_count": 16
  },
  {
   "cell_type": "code",
   "outputs": [],
   "source": [
    "# save_json(arts, root / 'sample_articles_locs.json')"
   ],
   "metadata": {
    "collapsed": false,
    "ExecuteTime": {
     "end_time": "2024-03-20T13:43:47.700383Z",
     "start_time": "2024-03-20T13:43:47.686176Z"
    }
   },
   "id": "1d6baa55a772f03",
   "execution_count": 17
  },
  {
   "cell_type": "code",
   "outputs": [],
   "source": [],
   "metadata": {
    "collapsed": false
   },
   "id": "dfb2f53e331b0f14"
  },
  {
   "cell_type": "code",
   "outputs": [
    {
     "data": {
      "text/plain": "  0%|          | 0/4719199 [00:00<?, ?it/s]",
      "application/vnd.jupyter.widget-view+json": {
       "version_major": 2,
       "version_minor": 0,
       "model_id": "fb8d1ab972b743b68ac2ac4275c18688"
      }
     },
     "metadata": {},
     "output_type": "display_data"
    },
    {
     "data": {
      "text/plain": "233018"
     },
     "execution_count": 7,
     "metadata": {},
     "output_type": "execute_result"
    }
   ],
   "source": [
    "authors = {}\n",
    "with tqdm(articles) as pbar:\n",
    "\tfor article in pbar:\n",
    "\t\tauthors.setdefault(article.get('author'), []).append(article['ID'])\n",
    "\t\t# pbar.set_description(f'{len(authors)} authors')\n",
    "len(authors)"
   ],
   "metadata": {
    "collapsed": false,
    "ExecuteTime": {
     "end_time": "2024-03-19T14:38:21.720996Z",
     "start_time": "2024-03-19T14:38:19.814853Z"
    }
   },
   "id": "e9ee6da84da05d43",
   "execution_count": 7
  },
  {
   "cell_type": "code",
   "outputs": [
    {
     "data": {
      "text/plain": "3"
     },
     "execution_count": 8,
     "metadata": {},
     "output_type": "execute_result"
    }
   ],
   "source": [
    "existing = [author for author in authors if not isinstance(author, str) or not author.startswith('author#')]\n",
    "len(existing)"
   ],
   "metadata": {
    "collapsed": false,
    "ExecuteTime": {
     "end_time": "2024-03-19T14:39:15.066069Z",
     "start_time": "2024-03-19T14:39:15.012466Z"
    }
   },
   "id": "b926fea0f930ba96",
   "execution_count": 8
  },
  {
   "cell_type": "code",
   "outputs": [
    {
     "data": {
      "text/plain": "[None, '', '\"\"']"
     },
     "execution_count": 9,
     "metadata": {},
     "output_type": "execute_result"
    }
   ],
   "source": [
    "existing"
   ],
   "metadata": {
    "collapsed": false,
    "ExecuteTime": {
     "end_time": "2024-03-19T14:39:22.034270Z",
     "start_time": "2024-03-19T14:39:22.029336Z"
    }
   },
   "id": "7fee688fa8944cbc",
   "execution_count": 9
  },
  {
   "cell_type": "code",
   "outputs": [],
   "source": [],
   "metadata": {
    "collapsed": false
   },
   "id": "5bc3279107581bc8"
  },
  {
   "cell_type": "code",
   "outputs": [
    {
     "data": {
      "text/plain": "233015"
     },
     "execution_count": 8,
     "metadata": {},
     "output_type": "execute_result"
    }
   ],
   "source": [
    "author_keys = list(authors.keys())\n",
    "author_keys.remove('')\n",
    "author_keys.remove(None)\n",
    "author_keys.remove('\"\"')\n",
    "random.seed(0)\n",
    "random.shuffle(author_keys)\n",
    "len(author_keys)"
   ],
   "metadata": {
    "collapsed": false,
    "ExecuteTime": {
     "end_time": "2024-03-19T14:25:20.023824Z",
     "start_time": "2024-03-19T14:25:19.890910Z"
    }
   },
   "id": "24136c1dcf86449",
   "execution_count": 8
  },
  {
   "cell_type": "code",
   "outputs": [],
   "source": [
    "anon_authors = {key: f'author#{str(anonID).zfill(6)}' for key, anonID in zip(author_keys, range(len(author_keys)))}\n",
    "deanon_authors = {anonID: key for key, anonID in anon_authors.items()}\n",
    "assert len(anon_authors) == len(deanon_authors)"
   ],
   "metadata": {
    "collapsed": false,
    "ExecuteTime": {
     "end_time": "2024-03-19T14:25:21.062861Z",
     "start_time": "2024-03-19T14:25:20.828738Z"
    }
   },
   "id": "abd21decf061d96e",
   "execution_count": 9
  },
  {
   "cell_type": "code",
   "outputs": [],
   "source": [
    "anonroot = Path('/home/fleeb/workspace/local_data/nnn') / 'babel-briefings-v1-anon'\n",
    "anonroot.mkdir(exist_ok=True)"
   ],
   "metadata": {
    "collapsed": false,
    "ExecuteTime": {
     "end_time": "2024-03-19T14:25:21.727851Z",
     "start_time": "2024-03-19T14:25:21.725620Z"
    }
   },
   "id": "ac8158fa544cf5b",
   "execution_count": 10
  },
  {
   "cell_type": "code",
   "outputs": [
    {
     "data": {
      "text/plain": "  0%|          | 0/54 [00:00<?, ?it/s]",
      "application/vnd.jupyter.widget-view+json": {
       "version_major": 2,
       "version_minor": 0,
       "model_id": "820d7d02d2df4782a0f96eef7a5ed671"
      }
     },
     "metadata": {},
     "output_type": "display_data"
    }
   ],
   "source": [
    "save_json(deanon_authors, anonroot / 'authors_anonymization.json')\n",
    "for rec in tqdm(recs):\n",
    "\traw = load_json(rec)\n",
    "\t# for article in tqdm(raw, desc=f'{rec.name} ({i+1}/{len(recs)})'):\n",
    "\tfor article in raw:\n",
    "\t\tif 'author' in article and article['author'] in anon_authors:\n",
    "\t\t\tarticle['author'] = anon_authors[article['author']]\n",
    "\tsave_json(raw, anonroot / rec.name)"
   ],
   "metadata": {
    "collapsed": false,
    "ExecuteTime": {
     "end_time": "2024-03-19T14:29:17.743135Z",
     "start_time": "2024-03-19T14:27:12.684123Z"
    }
   },
   "id": "ff9f34c31f4e1fd3",
   "execution_count": 13
  },
  {
   "cell_type": "code",
   "outputs": [],
   "source": [],
   "metadata": {
    "collapsed": false
   },
   "id": "ad3aee8fb4e42526"
  },
  {
   "cell_type": "code",
   "outputs": [],
   "source": [],
   "metadata": {
    "collapsed": false
   },
   "id": "bc9a51fc07b0f72f"
  },
  {
   "cell_type": "code",
   "outputs": [],
   "source": [],
   "metadata": {
    "collapsed": false
   },
   "id": "5f10469a7f3e1daf"
  },
  {
   "cell_type": "code",
   "outputs": [],
   "source": [
    "import nltk\n",
    "from nltk import ne_chunk\n",
    "from nltk.tokenize import word_tokenize\n",
    "from nltk.tag import pos_tag\n"
   ],
   "metadata": {
    "collapsed": false,
    "ExecuteTime": {
     "end_time": "2024-03-19T13:49:37.886247Z",
     "start_time": "2024-03-19T13:49:37.881930Z"
    }
   },
   "id": "9eb40151f605c1d3",
   "execution_count": 19
  },
  {
   "cell_type": "code",
   "outputs": [
    {
     "name": "stderr",
     "output_type": "stream",
     "text": [
      "[nltk_data] Downloading package maxent_ne_chunker to\n",
      "[nltk_data]     /home/fleeb/nltk_data...\n",
      "[nltk_data]   Package maxent_ne_chunker is already up-to-date!\n",
      "[nltk_data] Downloading package words to /home/fleeb/nltk_data...\n",
      "[nltk_data]   Package words is already up-to-date!\n",
      "[nltk_data] Downloading package punkt to /home/fleeb/nltk_data...\n",
      "[nltk_data]   Package punkt is already up-to-date!\n",
      "[nltk_data] Downloading package averaged_perceptron_tagger to\n",
      "[nltk_data]     /home/fleeb/nltk_data...\n",
      "[nltk_data]   Package averaged_perceptron_tagger is already up-to-\n",
      "[nltk_data]       date!\n"
     ]
    },
    {
     "data": {
      "text/plain": "True"
     },
     "execution_count": 20,
     "metadata": {},
     "output_type": "execute_result"
    }
   ],
   "source": [
    "\n",
    "nltk.download('maxent_ne_chunker')\n",
    "nltk.download('words')\n",
    "nltk.download('punkt')\n",
    "nltk.download('averaged_perceptron_tagger')\n"
   ],
   "metadata": {
    "collapsed": false,
    "ExecuteTime": {
     "end_time": "2024-03-19T13:49:50.222332Z",
     "start_time": "2024-03-19T13:49:50.083778Z"
    }
   },
   "id": "82393a221ea34f01",
   "execution_count": 20
  },
  {
   "cell_type": "code",
   "outputs": [],
   "source": [],
   "metadata": {
    "collapsed": false
   },
   "id": "d2901afaf0e12e2d"
  },
  {
   "cell_type": "code",
   "outputs": [
    {
     "name": "stdout",
     "output_type": "stream",
     "text": [
      "Wayne Chang and Jill Disis, CNN Business\n",
      "(S\n",
      "  (PERSON Wayne/NNP)\n",
      "  (PERSON Chang/NNP)\n",
      "  and/CC\n",
      "  (PERSON Jill/NNP Disis/NNP)\n",
      "  ,/,\n",
      "  (ORGANIZATION CNN/NNP Business/NNP))\n"
     ]
    }
   ],
   "source": [
    "\n",
    "text = \"Index\"\n",
    "text = random.choice(list(authors))\n",
    "tokens = word_tokenize(text)\n",
    "tags = pos_tag(tokens)\n",
    "tree = ne_chunk(tags)\n",
    "\n",
    "print(text)\n",
    "print(tree)\n"
   ],
   "metadata": {
    "collapsed": false,
    "ExecuteTime": {
     "end_time": "2024-03-19T14:05:34.249443Z",
     "start_time": "2024-03-19T14:05:34.225816Z"
    }
   },
   "id": "28f53c9c4d9f4d5e",
   "execution_count": 40
  },
  {
   "cell_type": "code",
   "outputs": [],
   "source": [],
   "metadata": {
    "collapsed": false
   },
   "id": "9677eeb3de83bac0"
  },
  {
   "cell_type": "code",
   "outputs": [],
   "source": [],
   "metadata": {
    "collapsed": false,
    "ExecuteTime": {
     "end_time": "2024-03-19T13:22:41.753713Z",
     "start_time": "2024-03-19T13:22:41.752431Z"
    }
   },
   "id": "9e501a6ac12b05ec",
   "execution_count": 1
  },
  {
   "cell_type": "code",
   "outputs": [],
   "source": [],
   "metadata": {
    "collapsed": false,
    "ExecuteTime": {
     "end_time": "2024-03-19T13:22:41.756285Z",
     "start_time": "2024-03-19T13:22:41.754809Z"
    }
   },
   "id": "98a16c77437d7f44",
   "execution_count": 1
  },
  {
   "cell_type": "code",
   "outputs": [],
   "source": [],
   "metadata": {
    "collapsed": false
   },
   "id": "10f62ac32575586a"
  }
 ],
 "metadata": {
  "kernelspec": {
   "display_name": "Python 3",
   "language": "python",
   "name": "python3"
  },
  "language_info": {
   "codemirror_mode": {
    "name": "ipython",
    "version": 2
   },
   "file_extension": ".py",
   "mimetype": "text/x-python",
   "name": "python",
   "nbconvert_exporter": "python",
   "pygments_lexer": "ipython2",
   "version": "2.7.6"
  }
 },
 "nbformat": 4,
 "nbformat_minor": 5
}
